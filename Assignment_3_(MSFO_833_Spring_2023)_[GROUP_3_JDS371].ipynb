{
  "nbformat": 4,
  "nbformat_minor": 0,
  "metadata": {
    "colab": {
      "provenance": [],
      "toc_visible": true,
      "collapsed_sections": [
        "R03LjYrUUcy3",
        "tWejHXEiUex2"
      ]
    },
    "kernelspec": {
      "name": "python3",
      "display_name": "Python 3"
    },
    "language_info": {
      "name": "python"
    }
  },
  "cells": [
    {
      "cell_type": "markdown",
      "source": [
        "> NOTE: all challenges in this assignment are adapted from material created by Prof. Ram Yamarthy (2021)."
      ],
      "metadata": {
        "id": "PVU-JsZ95HQe"
      }
    },
    {
      "cell_type": "markdown",
      "source": [
        "# Instructions"
      ],
      "metadata": {
        "id": "R03LjYrUUcy3"
      }
    },
    {
      "cell_type": "markdown",
      "source": [
        "1. **Make a copy of this notebook** so you can edit and save your own version of it. Optionally update the notebook title to include your Group Number and/or the Net IDs of all group members. Do the work in your copy of the notebook. \n",
        "\n",
        "2. Edit the sharing settings: **share your notebook** publicly, so **\"Anyone with the link can view\"**. Notebooks not shared properly may be subject to late deductions if an instructor is unable to access them at the time of grading.\n",
        "\n",
        "3. **Run the Setup Cells** in the \"Setup\" section.\n",
        "\n",
        "4. **Complete the challenges**. For each challenge:\n",
        "    + **Run any additional provided \"Setup\" cell(s)**, as necessary.\n",
        "    + **Write Python code** to answer each of the provided questions. \n",
        "\n",
        "\n",
        "\n",
        "\n"
      ],
      "metadata": {
        "id": "H_0lIcb6jBNK"
      }
    },
    {
      "cell_type": "markdown",
      "source": [
        "# Submission Instructions"
      ],
      "metadata": {
        "id": "tWejHXEiUex2"
      }
    },
    {
      "cell_type": "markdown",
      "source": [
        "\n",
        "\n",
        "To review your notebook / ensure it works as expected / prepare for evaluation: \n",
        "  1. Run it from scratch (\"Runtime\" > \"Restart and run all\"), provide any necessary user inputs, and verify you see the results you expect.\n",
        "\n",
        "\n",
        "When you're done coding and your notebook reflects your final work product, follow BOTH these steps to submit:\n",
        "\n",
        "  1. Download a copy of your notebook document in .ipynb format (\"File\" > \"Download\" > \"Download .ipynb\"). Then **upload the resulting .ipynb notebook file to Canvas**.\n",
        "  2. Ensure your notebook sharing settings are open so \"anyone with the link can view\", then **submit your Colab Notebook URL via the [Submission Form](https://forms.gle/gWHLVjN2XVmqCogm7)**. \n",
        "\n",
        "\n",
        "> NOTE: only one member needs to submit on behalf of the group.\n",
        "\n",
        "Thank you!"
      ],
      "metadata": {
        "id": "uDPH68p0NPrb"
      }
    },
    {
      "cell_type": "markdown",
      "source": [
        "# Evaluation"
      ],
      "metadata": {
        "id": "z0P9ZCEQ3DhN"
      }
    },
    {
      "cell_type": "markdown",
      "source": [
        "Deliverables will be evaluated based on the criteria below:\n",
        "\n",
        "Category | Weight | Description\n",
        "--- | --- | ---\n",
        "Challenge 1 | 50% | \n",
        "Challenge 2 | 40% | \n",
        "Chart Quality and Formatting | 10% | All charts should have a title, and axis labels. \n",
        "\n",
        "This rubric is tentative, and may be subject to adjustments during the grading process."
      ],
      "metadata": {
        "id": "rg2vyfYb3Ev6"
      }
    },
    {
      "cell_type": "markdown",
      "source": [
        "# Setup"
      ],
      "metadata": {
        "id": "aIL3PSOTnvvy"
      }
    },
    {
      "cell_type": "markdown",
      "source": [
        "## Imports"
      ],
      "metadata": {
        "id": "d7vjDJLysgYq"
      }
    },
    {
      "cell_type": "code",
      "execution_count": 22,
      "metadata": {
        "id": "icn_kqdVkSWE"
      },
      "outputs": [],
      "source": [
        "\n",
        "# RUN THIS CELL AND FEEL FREE TO MODIFY / UPDATE AS DESIRED\n",
        "\n",
        "import numpy as np\n",
        "import pandas as pd\n",
        "from pandas.tseries.offsets import MonthEnd, YearEnd\n",
        "\n",
        "import plotly.express as px\n",
        "import matplotlib.pyplot as plt\n",
        "\n",
        "import statsmodels.api as sm\n",
        "from statsmodels.tsa.stattools import acf\n",
        "from statsmodels.tsa.arima.model import ARIMA"
      ]
    },
    {
      "cell_type": "markdown",
      "source": [
        "## Ignore Warnings"
      ],
      "metadata": {
        "id": "LgrpYB7u8Vk4"
      }
    },
    {
      "cell_type": "code",
      "source": [
        "# https://stackoverflow.com/a/9031848/670433\n",
        "import warnings\n",
        "\n",
        "warnings.filterwarnings('ignore')"
      ],
      "metadata": {
        "id": "LyQtVkuE8Wxt"
      },
      "execution_count": 23,
      "outputs": []
    },
    {
      "cell_type": "markdown",
      "source": [
        "## Correlation Example"
      ],
      "metadata": {
        "id": "6MR-mJ3XCBDe"
      }
    },
    {
      "cell_type": "code",
      "source": [
        "# feel free to reference this example  \n",
        "# ... and adapt / replicate the correlation calculations \n",
        "# ... when you get to Challenge 2 Question B\n",
        "\n",
        "# this is just an example dataframe, \n",
        "# where column a and b are closely correlated,\n",
        "# and also including a NaN val in each column (to help us practice computing correlation even with null values)\n",
        "example_df = pd.DataFrame({\n",
        "    \"col_a\": [1,2,3,4,5,6, None],\n",
        "    \"col_b\": [101,198,305,402,497,595, None],\n",
        "    \"col_c\": [9, 4, 2, 100, 88, 44, None]\n",
        "})\n",
        "example_df"
      ],
      "metadata": {
        "colab": {
          "base_uri": "https://localhost:8080/",
          "height": 269
        },
        "id": "ggbQaWXECC4_",
        "outputId": "cea7bca2-4c2e-4797-8f06-612bfc6e5bad"
      },
      "execution_count": 24,
      "outputs": [
        {
          "output_type": "execute_result",
          "data": {
            "text/plain": [
              "   col_a  col_b  col_c\n",
              "0    1.0  101.0    9.0\n",
              "1    2.0  198.0    4.0\n",
              "2    3.0  305.0    2.0\n",
              "3    4.0  402.0  100.0\n",
              "4    5.0  497.0   88.0\n",
              "5    6.0  595.0   44.0\n",
              "6    NaN    NaN    NaN"
            ],
            "text/html": [
              "\n",
              "  <div id=\"df-f6cdfe8a-af4d-4cf6-96d1-bfd5858903f9\">\n",
              "    <div class=\"colab-df-container\">\n",
              "      <div>\n",
              "<style scoped>\n",
              "    .dataframe tbody tr th:only-of-type {\n",
              "        vertical-align: middle;\n",
              "    }\n",
              "\n",
              "    .dataframe tbody tr th {\n",
              "        vertical-align: top;\n",
              "    }\n",
              "\n",
              "    .dataframe thead th {\n",
              "        text-align: right;\n",
              "    }\n",
              "</style>\n",
              "<table border=\"1\" class=\"dataframe\">\n",
              "  <thead>\n",
              "    <tr style=\"text-align: right;\">\n",
              "      <th></th>\n",
              "      <th>col_a</th>\n",
              "      <th>col_b</th>\n",
              "      <th>col_c</th>\n",
              "    </tr>\n",
              "  </thead>\n",
              "  <tbody>\n",
              "    <tr>\n",
              "      <th>0</th>\n",
              "      <td>1.0</td>\n",
              "      <td>101.0</td>\n",
              "      <td>9.0</td>\n",
              "    </tr>\n",
              "    <tr>\n",
              "      <th>1</th>\n",
              "      <td>2.0</td>\n",
              "      <td>198.0</td>\n",
              "      <td>4.0</td>\n",
              "    </tr>\n",
              "    <tr>\n",
              "      <th>2</th>\n",
              "      <td>3.0</td>\n",
              "      <td>305.0</td>\n",
              "      <td>2.0</td>\n",
              "    </tr>\n",
              "    <tr>\n",
              "      <th>3</th>\n",
              "      <td>4.0</td>\n",
              "      <td>402.0</td>\n",
              "      <td>100.0</td>\n",
              "    </tr>\n",
              "    <tr>\n",
              "      <th>4</th>\n",
              "      <td>5.0</td>\n",
              "      <td>497.0</td>\n",
              "      <td>88.0</td>\n",
              "    </tr>\n",
              "    <tr>\n",
              "      <th>5</th>\n",
              "      <td>6.0</td>\n",
              "      <td>595.0</td>\n",
              "      <td>44.0</td>\n",
              "    </tr>\n",
              "    <tr>\n",
              "      <th>6</th>\n",
              "      <td>NaN</td>\n",
              "      <td>NaN</td>\n",
              "      <td>NaN</td>\n",
              "    </tr>\n",
              "  </tbody>\n",
              "</table>\n",
              "</div>\n",
              "      <button class=\"colab-df-convert\" onclick=\"convertToInteractive('df-f6cdfe8a-af4d-4cf6-96d1-bfd5858903f9')\"\n",
              "              title=\"Convert this dataframe to an interactive table.\"\n",
              "              style=\"display:none;\">\n",
              "        \n",
              "  <svg xmlns=\"http://www.w3.org/2000/svg\" height=\"24px\"viewBox=\"0 0 24 24\"\n",
              "       width=\"24px\">\n",
              "    <path d=\"M0 0h24v24H0V0z\" fill=\"none\"/>\n",
              "    <path d=\"M18.56 5.44l.94 2.06.94-2.06 2.06-.94-2.06-.94-.94-2.06-.94 2.06-2.06.94zm-11 1L8.5 8.5l.94-2.06 2.06-.94-2.06-.94L8.5 2.5l-.94 2.06-2.06.94zm10 10l.94 2.06.94-2.06 2.06-.94-2.06-.94-.94-2.06-.94 2.06-2.06.94z\"/><path d=\"M17.41 7.96l-1.37-1.37c-.4-.4-.92-.59-1.43-.59-.52 0-1.04.2-1.43.59L10.3 9.45l-7.72 7.72c-.78.78-.78 2.05 0 2.83L4 21.41c.39.39.9.59 1.41.59.51 0 1.02-.2 1.41-.59l7.78-7.78 2.81-2.81c.8-.78.8-2.07 0-2.86zM5.41 20L4 18.59l7.72-7.72 1.47 1.35L5.41 20z\"/>\n",
              "  </svg>\n",
              "      </button>\n",
              "      \n",
              "  <style>\n",
              "    .colab-df-container {\n",
              "      display:flex;\n",
              "      flex-wrap:wrap;\n",
              "      gap: 12px;\n",
              "    }\n",
              "\n",
              "    .colab-df-convert {\n",
              "      background-color: #E8F0FE;\n",
              "      border: none;\n",
              "      border-radius: 50%;\n",
              "      cursor: pointer;\n",
              "      display: none;\n",
              "      fill: #1967D2;\n",
              "      height: 32px;\n",
              "      padding: 0 0 0 0;\n",
              "      width: 32px;\n",
              "    }\n",
              "\n",
              "    .colab-df-convert:hover {\n",
              "      background-color: #E2EBFA;\n",
              "      box-shadow: 0px 1px 2px rgba(60, 64, 67, 0.3), 0px 1px 3px 1px rgba(60, 64, 67, 0.15);\n",
              "      fill: #174EA6;\n",
              "    }\n",
              "\n",
              "    [theme=dark] .colab-df-convert {\n",
              "      background-color: #3B4455;\n",
              "      fill: #D2E3FC;\n",
              "    }\n",
              "\n",
              "    [theme=dark] .colab-df-convert:hover {\n",
              "      background-color: #434B5C;\n",
              "      box-shadow: 0px 1px 3px 1px rgba(0, 0, 0, 0.15);\n",
              "      filter: drop-shadow(0px 1px 2px rgba(0, 0, 0, 0.3));\n",
              "      fill: #FFFFFF;\n",
              "    }\n",
              "  </style>\n",
              "\n",
              "      <script>\n",
              "        const buttonEl =\n",
              "          document.querySelector('#df-f6cdfe8a-af4d-4cf6-96d1-bfd5858903f9 button.colab-df-convert');\n",
              "        buttonEl.style.display =\n",
              "          google.colab.kernel.accessAllowed ? 'block' : 'none';\n",
              "\n",
              "        async function convertToInteractive(key) {\n",
              "          const element = document.querySelector('#df-f6cdfe8a-af4d-4cf6-96d1-bfd5858903f9');\n",
              "          const dataTable =\n",
              "            await google.colab.kernel.invokeFunction('convertToInteractive',\n",
              "                                                     [key], {});\n",
              "          if (!dataTable) return;\n",
              "\n",
              "          const docLinkHtml = 'Like what you see? Visit the ' +\n",
              "            '<a target=\"_blank\" href=https://colab.research.google.com/notebooks/data_table.ipynb>data table notebook</a>'\n",
              "            + ' to learn more about interactive tables.';\n",
              "          element.innerHTML = '';\n",
              "          dataTable['output_type'] = 'display_data';\n",
              "          await google.colab.output.renderOutput(dataTable, element);\n",
              "          const docLink = document.createElement('div');\n",
              "          docLink.innerHTML = docLinkHtml;\n",
              "          element.appendChild(docLink);\n",
              "        }\n",
              "      </script>\n",
              "    </div>\n",
              "  </div>\n",
              "  "
            ]
          },
          "metadata": {},
          "execution_count": 24
        }
      ]
    },
    {
      "cell_type": "code",
      "source": [
        "# option a) pair-wise correlation matrix using DataFrame corr() method\n",
        "\n",
        "example_df.corr()"
      ],
      "metadata": {
        "colab": {
          "base_uri": "https://localhost:8080/",
          "height": 143
        },
        "id": "7EhHd3cwCDIV",
        "outputId": "d81a321f-f73f-42aa-9313-31974b8544f2"
      },
      "execution_count": 25,
      "outputs": [
        {
          "output_type": "execute_result",
          "data": {
            "text/plain": [
              "          col_a     col_b     col_c\n",
              "col_a  1.000000  0.999858  0.640007\n",
              "col_b  0.999858  1.000000  0.641870\n",
              "col_c  0.640007  0.641870  1.000000"
            ],
            "text/html": [
              "\n",
              "  <div id=\"df-f780120c-c4bc-44df-a9a5-24e83d5cc9a9\">\n",
              "    <div class=\"colab-df-container\">\n",
              "      <div>\n",
              "<style scoped>\n",
              "    .dataframe tbody tr th:only-of-type {\n",
              "        vertical-align: middle;\n",
              "    }\n",
              "\n",
              "    .dataframe tbody tr th {\n",
              "        vertical-align: top;\n",
              "    }\n",
              "\n",
              "    .dataframe thead th {\n",
              "        text-align: right;\n",
              "    }\n",
              "</style>\n",
              "<table border=\"1\" class=\"dataframe\">\n",
              "  <thead>\n",
              "    <tr style=\"text-align: right;\">\n",
              "      <th></th>\n",
              "      <th>col_a</th>\n",
              "      <th>col_b</th>\n",
              "      <th>col_c</th>\n",
              "    </tr>\n",
              "  </thead>\n",
              "  <tbody>\n",
              "    <tr>\n",
              "      <th>col_a</th>\n",
              "      <td>1.000000</td>\n",
              "      <td>0.999858</td>\n",
              "      <td>0.640007</td>\n",
              "    </tr>\n",
              "    <tr>\n",
              "      <th>col_b</th>\n",
              "      <td>0.999858</td>\n",
              "      <td>1.000000</td>\n",
              "      <td>0.641870</td>\n",
              "    </tr>\n",
              "    <tr>\n",
              "      <th>col_c</th>\n",
              "      <td>0.640007</td>\n",
              "      <td>0.641870</td>\n",
              "      <td>1.000000</td>\n",
              "    </tr>\n",
              "  </tbody>\n",
              "</table>\n",
              "</div>\n",
              "      <button class=\"colab-df-convert\" onclick=\"convertToInteractive('df-f780120c-c4bc-44df-a9a5-24e83d5cc9a9')\"\n",
              "              title=\"Convert this dataframe to an interactive table.\"\n",
              "              style=\"display:none;\">\n",
              "        \n",
              "  <svg xmlns=\"http://www.w3.org/2000/svg\" height=\"24px\"viewBox=\"0 0 24 24\"\n",
              "       width=\"24px\">\n",
              "    <path d=\"M0 0h24v24H0V0z\" fill=\"none\"/>\n",
              "    <path d=\"M18.56 5.44l.94 2.06.94-2.06 2.06-.94-2.06-.94-.94-2.06-.94 2.06-2.06.94zm-11 1L8.5 8.5l.94-2.06 2.06-.94-2.06-.94L8.5 2.5l-.94 2.06-2.06.94zm10 10l.94 2.06.94-2.06 2.06-.94-2.06-.94-.94-2.06-.94 2.06-2.06.94z\"/><path d=\"M17.41 7.96l-1.37-1.37c-.4-.4-.92-.59-1.43-.59-.52 0-1.04.2-1.43.59L10.3 9.45l-7.72 7.72c-.78.78-.78 2.05 0 2.83L4 21.41c.39.39.9.59 1.41.59.51 0 1.02-.2 1.41-.59l7.78-7.78 2.81-2.81c.8-.78.8-2.07 0-2.86zM5.41 20L4 18.59l7.72-7.72 1.47 1.35L5.41 20z\"/>\n",
              "  </svg>\n",
              "      </button>\n",
              "      \n",
              "  <style>\n",
              "    .colab-df-container {\n",
              "      display:flex;\n",
              "      flex-wrap:wrap;\n",
              "      gap: 12px;\n",
              "    }\n",
              "\n",
              "    .colab-df-convert {\n",
              "      background-color: #E8F0FE;\n",
              "      border: none;\n",
              "      border-radius: 50%;\n",
              "      cursor: pointer;\n",
              "      display: none;\n",
              "      fill: #1967D2;\n",
              "      height: 32px;\n",
              "      padding: 0 0 0 0;\n",
              "      width: 32px;\n",
              "    }\n",
              "\n",
              "    .colab-df-convert:hover {\n",
              "      background-color: #E2EBFA;\n",
              "      box-shadow: 0px 1px 2px rgba(60, 64, 67, 0.3), 0px 1px 3px 1px rgba(60, 64, 67, 0.15);\n",
              "      fill: #174EA6;\n",
              "    }\n",
              "\n",
              "    [theme=dark] .colab-df-convert {\n",
              "      background-color: #3B4455;\n",
              "      fill: #D2E3FC;\n",
              "    }\n",
              "\n",
              "    [theme=dark] .colab-df-convert:hover {\n",
              "      background-color: #434B5C;\n",
              "      box-shadow: 0px 1px 3px 1px rgba(0, 0, 0, 0.15);\n",
              "      filter: drop-shadow(0px 1px 2px rgba(0, 0, 0, 0.3));\n",
              "      fill: #FFFFFF;\n",
              "    }\n",
              "  </style>\n",
              "\n",
              "      <script>\n",
              "        const buttonEl =\n",
              "          document.querySelector('#df-f780120c-c4bc-44df-a9a5-24e83d5cc9a9 button.colab-df-convert');\n",
              "        buttonEl.style.display =\n",
              "          google.colab.kernel.accessAllowed ? 'block' : 'none';\n",
              "\n",
              "        async function convertToInteractive(key) {\n",
              "          const element = document.querySelector('#df-f780120c-c4bc-44df-a9a5-24e83d5cc9a9');\n",
              "          const dataTable =\n",
              "            await google.colab.kernel.invokeFunction('convertToInteractive',\n",
              "                                                     [key], {});\n",
              "          if (!dataTable) return;\n",
              "\n",
              "          const docLinkHtml = 'Like what you see? Visit the ' +\n",
              "            '<a target=\"_blank\" href=https://colab.research.google.com/notebooks/data_table.ipynb>data table notebook</a>'\n",
              "            + ' to learn more about interactive tables.';\n",
              "          element.innerHTML = '';\n",
              "          dataTable['output_type'] = 'display_data';\n",
              "          await google.colab.output.renderOutput(dataTable, element);\n",
              "          const docLink = document.createElement('div');\n",
              "          docLink.innerHTML = docLinkHtml;\n",
              "          element.appendChild(docLink);\n",
              "        }\n",
              "      </script>\n",
              "    </div>\n",
              "  </div>\n",
              "  "
            ]
          },
          "metadata": {},
          "execution_count": 25
        }
      ]
    },
    {
      "cell_type": "code",
      "source": [
        "# option b) use scipy \n",
        "# ... either the spearman or the pearson methodology would be fine for this assignment\n",
        "# ... https://docs.scipy.org/doc/scipy/reference/generated/scipy.stats.pearsonr.html\n",
        "# ... https://docs.scipy.org/doc/scipy/reference/generated/scipy.stats.spearmanr.html\n",
        "\n",
        "from scipy.stats import spearmanr, pearsonr\n",
        "\n",
        "print(\"---------------------\")\n",
        "print(\"SPEARMAN CORRELATION...\")\n",
        "corr_results = spearmanr(example_df[\"col_a\"], example_df[\"col_b\"], nan_policy=\"omit\")\n",
        "print(corr_results)\n",
        "\n",
        "print(\"---------------------\")\n",
        "print(\"PEARSON CORRELATION...\") \n",
        "example_df.dropna(inplace=True) # for pearson we need to drop NaNs beforehand\n",
        "corr_results = pearsonr(example_df[\"col_a\"], example_df[\"col_b\"])\n",
        "print(corr_results) #> (correlation, pvalue)"
      ],
      "metadata": {
        "colab": {
          "base_uri": "https://localhost:8080/"
        },
        "id": "tVX6wb9qYsm5",
        "outputId": "fba78c5e-2231-4885-c3f5-5a3409fd056e"
      },
      "execution_count": 26,
      "outputs": [
        {
          "output_type": "stream",
          "name": "stdout",
          "text": [
            "---------------------\n",
            "SPEARMAN CORRELATION...\n",
            "SpearmanrResult(correlation=1.0, pvalue=0.0)\n",
            "---------------------\n",
            "PEARSON CORRELATION...\n",
            "(0.999857633165385, 3.0401030629471845e-08)\n"
          ]
        }
      ]
    },
    {
      "cell_type": "markdown",
      "source": [
        "# Challenges"
      ],
      "metadata": {
        "id": "0o-hSqgvnxFq"
      }
    },
    {
      "cell_type": "markdown",
      "source": [
        "> NOTE: all challenges adapted from material created by Prof. Ram Yamarthy (2021)."
      ],
      "metadata": {
        "id": "Uoc_Uo0WnyPR"
      }
    },
    {
      "cell_type": "markdown",
      "source": [
        "## 1) Consumer Spending Over Time \n"
      ],
      "metadata": {
        "id": "osFSXPdmRnsI"
      }
    },
    {
      "cell_type": "markdown",
      "metadata": {
        "id": "93396e15"
      },
      "source": [
        "\n",
        "Here we examine trends that exist in real, quarterly U.S. consumer spending. We'll work with the dataset called \"ConsumerSpending.xlsx\" which comes from the U.S. Bureau of Economic Analysis.\n",
        "\n",
        "(a) Load the data. What columns do you see in the dataset? If necessary, convert the `\"Date\"` column to a pandas datetime object, using `pd.to datetime()`. Then also add a column called `\"Quarter\"` indicating which quarter the data pertains to. \n",
        "\n",
        "> HINT: for a dataframe called `df` with a `\"Date\"` column that is a pandas datetime object, try `df[\"Date\"].dt.quarter`\n",
        "\n",
        "\n",
        "\n",
        "(b) Plot the time series of total retail sales, with `\"Date\"` on the x-axis and `\"RealPCE\"` on the y-axis. What do you see? From a basic visual inspection, is there a clear trend and / or seasonality?\n",
        "\n",
        "(c) Given the evidence for a trend, estimate a linear regression using the `statsmodels` package. Display the regression results (i.e. use the summary function).\n",
        "\n",
        "(d) Plot the true `\"RealPCE\"` values against the fitted / predicted values from the regression. \n",
        "\n",
        "(e) Also plot the residuals obtained from the regression results. \n",
        "\n",
        "(f) Using the residuals obtained from the regression results, show evidence that there are quarterly, seasonal effects.\n",
        "\n",
        "> HINT: use the `groupby()` method\n",
        "\n",
        "(g) Show evidence that consumer spending has become more seasonal after 1990, relative to the pre-1990 period. One way to do this is to compute quarterly effects in the pre- and post- 1990 periods, and compare their relative volatilities across quarters.\n",
        "\n",
        "> HINT: use row filtering approaches to arrive at two different subsets of the data, and perform the analysis on each subset\n",
        "\n",
        "**OPTIONAL FURTHER EXPLORATION:**\n",
        "\n",
        "(h) Optionally repeat parts (d) through (g), but this time using values predicted by a non-parametric trend line smoothing function such as the `lowess`.\n",
        "\n"
      ]
    },
    {
      "cell_type": "markdown",
      "source": [
        "### A) LOAD AND CLEAN DATA"
      ],
      "metadata": {
        "id": "kbSrXdU-X-L6"
      }
    },
    {
      "cell_type": "code",
      "source": [
        "# LOAD THE DATA\n",
        "\n",
        "file_name = \"ConsumerSpending.xlsx\"\n",
        "spending_df = pd.read_excel(f\"https://github.com/s2t2/msfo-833-prep/blob/main/data/{file_name}?raw=true\")\n",
        "spending_df.head()"
      ],
      "metadata": {
        "id": "idwQSt0SWi_y",
        "colab": {
          "base_uri": "https://localhost:8080/",
          "height": 206
        },
        "outputId": "5863918d-6a75-426f-a1ff-84d87088e394"
      },
      "execution_count": 27,
      "outputs": [
        {
          "output_type": "execute_result",
          "data": {
            "text/plain": [
              "        Date  NominalPCE  PCEDeflator        RealPCE\n",
              "0 1947-03-31       36748       12.225  300597.137014\n",
              "1 1947-06-30       39831       12.322  323251.095601\n",
              "2 1947-09-30       39991       12.552  318602.613129\n",
              "3 1947-12-31       45282       12.865  351978.235523\n",
              "4 1948-03-31       40579       13.007  311978.165603"
            ],
            "text/html": [
              "\n",
              "  <div id=\"df-95b6907d-c125-4567-8f93-2266be6ddd6f\">\n",
              "    <div class=\"colab-df-container\">\n",
              "      <div>\n",
              "<style scoped>\n",
              "    .dataframe tbody tr th:only-of-type {\n",
              "        vertical-align: middle;\n",
              "    }\n",
              "\n",
              "    .dataframe tbody tr th {\n",
              "        vertical-align: top;\n",
              "    }\n",
              "\n",
              "    .dataframe thead th {\n",
              "        text-align: right;\n",
              "    }\n",
              "</style>\n",
              "<table border=\"1\" class=\"dataframe\">\n",
              "  <thead>\n",
              "    <tr style=\"text-align: right;\">\n",
              "      <th></th>\n",
              "      <th>Date</th>\n",
              "      <th>NominalPCE</th>\n",
              "      <th>PCEDeflator</th>\n",
              "      <th>RealPCE</th>\n",
              "    </tr>\n",
              "  </thead>\n",
              "  <tbody>\n",
              "    <tr>\n",
              "      <th>0</th>\n",
              "      <td>1947-03-31</td>\n",
              "      <td>36748</td>\n",
              "      <td>12.225</td>\n",
              "      <td>300597.137014</td>\n",
              "    </tr>\n",
              "    <tr>\n",
              "      <th>1</th>\n",
              "      <td>1947-06-30</td>\n",
              "      <td>39831</td>\n",
              "      <td>12.322</td>\n",
              "      <td>323251.095601</td>\n",
              "    </tr>\n",
              "    <tr>\n",
              "      <th>2</th>\n",
              "      <td>1947-09-30</td>\n",
              "      <td>39991</td>\n",
              "      <td>12.552</td>\n",
              "      <td>318602.613129</td>\n",
              "    </tr>\n",
              "    <tr>\n",
              "      <th>3</th>\n",
              "      <td>1947-12-31</td>\n",
              "      <td>45282</td>\n",
              "      <td>12.865</td>\n",
              "      <td>351978.235523</td>\n",
              "    </tr>\n",
              "    <tr>\n",
              "      <th>4</th>\n",
              "      <td>1948-03-31</td>\n",
              "      <td>40579</td>\n",
              "      <td>13.007</td>\n",
              "      <td>311978.165603</td>\n",
              "    </tr>\n",
              "  </tbody>\n",
              "</table>\n",
              "</div>\n",
              "      <button class=\"colab-df-convert\" onclick=\"convertToInteractive('df-95b6907d-c125-4567-8f93-2266be6ddd6f')\"\n",
              "              title=\"Convert this dataframe to an interactive table.\"\n",
              "              style=\"display:none;\">\n",
              "        \n",
              "  <svg xmlns=\"http://www.w3.org/2000/svg\" height=\"24px\"viewBox=\"0 0 24 24\"\n",
              "       width=\"24px\">\n",
              "    <path d=\"M0 0h24v24H0V0z\" fill=\"none\"/>\n",
              "    <path d=\"M18.56 5.44l.94 2.06.94-2.06 2.06-.94-2.06-.94-.94-2.06-.94 2.06-2.06.94zm-11 1L8.5 8.5l.94-2.06 2.06-.94-2.06-.94L8.5 2.5l-.94 2.06-2.06.94zm10 10l.94 2.06.94-2.06 2.06-.94-2.06-.94-.94-2.06-.94 2.06-2.06.94z\"/><path d=\"M17.41 7.96l-1.37-1.37c-.4-.4-.92-.59-1.43-.59-.52 0-1.04.2-1.43.59L10.3 9.45l-7.72 7.72c-.78.78-.78 2.05 0 2.83L4 21.41c.39.39.9.59 1.41.59.51 0 1.02-.2 1.41-.59l7.78-7.78 2.81-2.81c.8-.78.8-2.07 0-2.86zM5.41 20L4 18.59l7.72-7.72 1.47 1.35L5.41 20z\"/>\n",
              "  </svg>\n",
              "      </button>\n",
              "      \n",
              "  <style>\n",
              "    .colab-df-container {\n",
              "      display:flex;\n",
              "      flex-wrap:wrap;\n",
              "      gap: 12px;\n",
              "    }\n",
              "\n",
              "    .colab-df-convert {\n",
              "      background-color: #E8F0FE;\n",
              "      border: none;\n",
              "      border-radius: 50%;\n",
              "      cursor: pointer;\n",
              "      display: none;\n",
              "      fill: #1967D2;\n",
              "      height: 32px;\n",
              "      padding: 0 0 0 0;\n",
              "      width: 32px;\n",
              "    }\n",
              "\n",
              "    .colab-df-convert:hover {\n",
              "      background-color: #E2EBFA;\n",
              "      box-shadow: 0px 1px 2px rgba(60, 64, 67, 0.3), 0px 1px 3px 1px rgba(60, 64, 67, 0.15);\n",
              "      fill: #174EA6;\n",
              "    }\n",
              "\n",
              "    [theme=dark] .colab-df-convert {\n",
              "      background-color: #3B4455;\n",
              "      fill: #D2E3FC;\n",
              "    }\n",
              "\n",
              "    [theme=dark] .colab-df-convert:hover {\n",
              "      background-color: #434B5C;\n",
              "      box-shadow: 0px 1px 3px 1px rgba(0, 0, 0, 0.15);\n",
              "      filter: drop-shadow(0px 1px 2px rgba(0, 0, 0, 0.3));\n",
              "      fill: #FFFFFF;\n",
              "    }\n",
              "  </style>\n",
              "\n",
              "      <script>\n",
              "        const buttonEl =\n",
              "          document.querySelector('#df-95b6907d-c125-4567-8f93-2266be6ddd6f button.colab-df-convert');\n",
              "        buttonEl.style.display =\n",
              "          google.colab.kernel.accessAllowed ? 'block' : 'none';\n",
              "\n",
              "        async function convertToInteractive(key) {\n",
              "          const element = document.querySelector('#df-95b6907d-c125-4567-8f93-2266be6ddd6f');\n",
              "          const dataTable =\n",
              "            await google.colab.kernel.invokeFunction('convertToInteractive',\n",
              "                                                     [key], {});\n",
              "          if (!dataTable) return;\n",
              "\n",
              "          const docLinkHtml = 'Like what you see? Visit the ' +\n",
              "            '<a target=\"_blank\" href=https://colab.research.google.com/notebooks/data_table.ipynb>data table notebook</a>'\n",
              "            + ' to learn more about interactive tables.';\n",
              "          element.innerHTML = '';\n",
              "          dataTable['output_type'] = 'display_data';\n",
              "          await google.colab.output.renderOutput(dataTable, element);\n",
              "          const docLink = document.createElement('div');\n",
              "          docLink.innerHTML = docLinkHtml;\n",
              "          element.appendChild(docLink);\n",
              "        }\n",
              "      </script>\n",
              "    </div>\n",
              "  </div>\n",
              "  "
            ]
          },
          "metadata": {},
          "execution_count": 27
        }
      ]
    },
    {
      "cell_type": "code",
      "execution_count": null,
      "metadata": {
        "id": "7712c48f"
      },
      "outputs": [],
      "source": []
    },
    {
      "cell_type": "code",
      "source": [],
      "metadata": {
        "id": "YfiaUuwL-ItH"
      },
      "execution_count": null,
      "outputs": []
    },
    {
      "cell_type": "markdown",
      "source": [
        "### B) VISUALIZATION OF TRENDS"
      ],
      "metadata": {
        "id": "dT3phl7jYDWW"
      }
    },
    {
      "cell_type": "code",
      "execution_count": 28,
      "metadata": {
        "colab": {
          "base_uri": "https://localhost:8080/",
          "height": 542
        },
        "id": "fcf4eb53",
        "outputId": "630429d3-ab02-4fe0-f969-7b740328d33f"
      },
      "outputs": [
        {
          "output_type": "display_data",
          "data": {
            "text/html": [
              "<html>\n",
              "<head><meta charset=\"utf-8\" /></head>\n",
              "<body>\n",
              "    <div>            <script src=\"https://cdnjs.cloudflare.com/ajax/libs/mathjax/2.7.5/MathJax.js?config=TeX-AMS-MML_SVG\"></script><script type=\"text/javascript\">if (window.MathJax) {MathJax.Hub.Config({SVG: {font: \"STIX-Web\"}});}</script>                <script type=\"text/javascript\">window.PlotlyConfig = {MathJaxConfig: 'local'};</script>\n",
              "        <script src=\"https://cdn.plot.ly/plotly-2.8.3.min.js\"></script>                <div id=\"d7d57262-b665-477a-ae89-d32f957dee79\" class=\"plotly-graph-div\" style=\"height:525px; width:100%;\"></div>            <script type=\"text/javascript\">                                    window.PLOTLYENV=window.PLOTLYENV || {};                                    if (document.getElementById(\"d7d57262-b665-477a-ae89-d32f957dee79\")) {                    Plotly.newPlot(                        \"d7d57262-b665-477a-ae89-d32f957dee79\",                        [{\"hovertemplate\":\"Date=%{x}<br>RealPCE=%{y}<extra></extra>\",\"legendgroup\":\"\",\"marker\":{\"color\":\"#636efa\",\"symbol\":\"circle\"},\"mode\":\"markers\",\"name\":\"\",\"orientation\":\"v\",\"showlegend\":false,\"x\":[\"1947-03-31T00:00:00\",\"1947-06-30T00:00:00\",\"1947-09-30T00:00:00\",\"1947-12-31T00:00:00\",\"1948-03-31T00:00:00\",\"1948-06-30T00:00:00\",\"1948-09-30T00:00:00\",\"1948-12-31T00:00:00\",\"1949-03-31T00:00:00\",\"1949-06-30T00:00:00\",\"1949-09-30T00:00:00\",\"1949-12-31T00:00:00\",\"1950-03-31T00:00:00\",\"1950-06-30T00:00:00\",\"1950-09-30T00:00:00\",\"1950-12-31T00:00:00\",\"1951-03-31T00:00:00\",\"1951-06-30T00:00:00\",\"1951-09-30T00:00:00\",\"1951-12-31T00:00:00\",\"1952-03-31T00:00:00\",\"1952-06-30T00:00:00\",\"1952-09-30T00:00:00\",\"1952-12-31T00:00:00\",\"1953-03-31T00:00:00\",\"1953-06-30T00:00:00\",\"1953-09-30T00:00:00\",\"1953-12-31T00:00:00\",\"1954-03-31T00:00:00\",\"1954-06-30T00:00:00\",\"1954-09-30T00:00:00\",\"1954-12-31T00:00:00\",\"1955-03-31T00:00:00\",\"1955-06-30T00:00:00\",\"1955-09-30T00:00:00\",\"1955-12-31T00:00:00\",\"1956-03-31T00:00:00\",\"1956-06-30T00:00:00\",\"1956-09-30T00:00:00\",\"1956-12-31T00:00:00\",\"1957-03-31T00:00:00\",\"1957-06-30T00:00:00\",\"1957-09-30T00:00:00\",\"1957-12-31T00:00:00\",\"1958-03-31T00:00:00\",\"1958-06-30T00:00:00\",\"1958-09-30T00:00:00\",\"1958-12-31T00:00:00\",\"1959-03-31T00:00:00\",\"1959-06-30T00:00:00\",\"1959-09-30T00:00:00\",\"1959-12-31T00:00:00\",\"1960-03-31T00:00:00\",\"1960-06-30T00:00:00\",\"1960-09-30T00:00:00\",\"1960-12-31T00:00:00\",\"1961-03-31T00:00:00\",\"1961-06-30T00:00:00\",\"1961-09-30T00:00:00\",\"1961-12-31T00:00:00\",\"1962-03-31T00:00:00\",\"1962-06-30T00:00:00\",\"1962-09-30T00:00:00\",\"1962-12-31T00:00:00\",\"1963-03-31T00:00:00\",\"1963-06-30T00:00:00\",\"1963-09-30T00:00:00\",\"1963-12-31T00:00:00\",\"1964-03-31T00:00:00\",\"1964-06-30T00:00:00\",\"1964-09-30T00:00:00\",\"1964-12-31T00:00:00\",\"1965-03-31T00:00:00\",\"1965-06-30T00:00:00\",\"1965-09-30T00:00:00\",\"1965-12-31T00:00:00\",\"1966-03-31T00:00:00\",\"1966-06-30T00:00:00\",\"1966-09-30T00:00:00\",\"1966-12-31T00:00:00\",\"1967-03-31T00:00:00\",\"1967-06-30T00:00:00\",\"1967-09-30T00:00:00\",\"1967-12-31T00:00:00\",\"1968-03-31T00:00:00\",\"1968-06-30T00:00:00\",\"1968-09-30T00:00:00\",\"1968-12-31T00:00:00\",\"1969-03-31T00:00:00\",\"1969-06-30T00:00:00\",\"1969-09-30T00:00:00\",\"1969-12-31T00:00:00\",\"1970-03-31T00:00:00\",\"1970-06-30T00:00:00\",\"1970-09-30T00:00:00\",\"1970-12-31T00:00:00\",\"1971-03-31T00:00:00\",\"1971-06-30T00:00:00\",\"1971-09-30T00:00:00\",\"1971-12-31T00:00:00\",\"1972-03-31T00:00:00\",\"1972-06-30T00:00:00\",\"1972-09-30T00:00:00\",\"1972-12-31T00:00:00\",\"1973-03-31T00:00:00\",\"1973-06-30T00:00:00\",\"1973-09-30T00:00:00\",\"1973-12-31T00:00:00\",\"1974-03-31T00:00:00\",\"1974-06-30T00:00:00\",\"1974-09-30T00:00:00\",\"1974-12-31T00:00:00\",\"1975-03-31T00:00:00\",\"1975-06-30T00:00:00\",\"1975-09-30T00:00:00\",\"1975-12-31T00:00:00\",\"1976-03-31T00:00:00\",\"1976-06-30T00:00:00\",\"1976-09-30T00:00:00\",\"1976-12-31T00:00:00\",\"1977-03-31T00:00:00\",\"1977-06-30T00:00:00\",\"1977-09-30T00:00:00\",\"1977-12-31T00:00:00\",\"1978-03-31T00:00:00\",\"1978-06-30T00:00:00\",\"1978-09-30T00:00:00\",\"1978-12-31T00:00:00\",\"1979-03-31T00:00:00\",\"1979-06-30T00:00:00\",\"1979-09-30T00:00:00\",\"1979-12-31T00:00:00\",\"1980-03-31T00:00:00\",\"1980-06-30T00:00:00\",\"1980-09-30T00:00:00\",\"1980-12-31T00:00:00\",\"1981-03-31T00:00:00\",\"1981-06-30T00:00:00\",\"1981-09-30T00:00:00\",\"1981-12-31T00:00:00\",\"1982-03-31T00:00:00\",\"1982-06-30T00:00:00\",\"1982-09-30T00:00:00\",\"1982-12-31T00:00:00\",\"1983-03-31T00:00:00\",\"1983-06-30T00:00:00\",\"1983-09-30T00:00:00\",\"1983-12-31T00:00:00\",\"1984-03-31T00:00:00\",\"1984-06-30T00:00:00\",\"1984-09-30T00:00:00\",\"1984-12-31T00:00:00\",\"1985-03-31T00:00:00\",\"1985-06-30T00:00:00\",\"1985-09-30T00:00:00\",\"1985-12-31T00:00:00\",\"1986-03-31T00:00:00\",\"1986-06-30T00:00:00\",\"1986-09-30T00:00:00\",\"1986-12-31T00:00:00\",\"1987-03-31T00:00:00\",\"1987-06-30T00:00:00\",\"1987-09-30T00:00:00\",\"1987-12-31T00:00:00\",\"1988-03-31T00:00:00\",\"1988-06-30T00:00:00\",\"1988-09-30T00:00:00\",\"1988-12-31T00:00:00\",\"1989-03-31T00:00:00\",\"1989-06-30T00:00:00\",\"1989-09-30T00:00:00\",\"1989-12-31T00:00:00\",\"1990-03-31T00:00:00\",\"1990-06-30T00:00:00\",\"1990-09-30T00:00:00\",\"1990-12-31T00:00:00\",\"1991-03-31T00:00:00\",\"1991-06-30T00:00:00\",\"1991-09-30T00:00:00\",\"1991-12-31T00:00:00\",\"1992-03-31T00:00:00\",\"1992-06-30T00:00:00\",\"1992-09-30T00:00:00\",\"1992-12-31T00:00:00\",\"1993-03-31T00:00:00\",\"1993-06-30T00:00:00\",\"1993-09-30T00:00:00\",\"1993-12-31T00:00:00\",\"1994-03-31T00:00:00\",\"1994-06-30T00:00:00\",\"1994-09-30T00:00:00\",\"1994-12-31T00:00:00\",\"1995-03-31T00:00:00\",\"1995-06-30T00:00:00\",\"1995-09-30T00:00:00\",\"1995-12-31T00:00:00\",\"1996-03-31T00:00:00\",\"1996-06-30T00:00:00\",\"1996-09-30T00:00:00\",\"1996-12-31T00:00:00\",\"1997-03-31T00:00:00\",\"1997-06-30T00:00:00\",\"1997-09-30T00:00:00\",\"1997-12-31T00:00:00\",\"1998-03-31T00:00:00\",\"1998-06-30T00:00:00\",\"1998-09-30T00:00:00\",\"1998-12-31T00:00:00\",\"1999-03-31T00:00:00\",\"1999-06-30T00:00:00\",\"1999-09-30T00:00:00\",\"1999-12-31T00:00:00\",\"2000-03-31T00:00:00\",\"2000-06-30T00:00:00\",\"2000-09-30T00:00:00\",\"2000-12-31T00:00:00\",\"2001-03-31T00:00:00\",\"2001-06-30T00:00:00\",\"2001-09-30T00:00:00\",\"2001-12-31T00:00:00\",\"2002-03-31T00:00:00\",\"2002-06-30T00:00:00\",\"2002-09-30T00:00:00\",\"2002-12-31T00:00:00\",\"2003-03-31T00:00:00\",\"2003-06-30T00:00:00\",\"2003-09-30T00:00:00\",\"2003-12-31T00:00:00\",\"2004-03-31T00:00:00\",\"2004-06-30T00:00:00\",\"2004-09-30T00:00:00\",\"2004-12-31T00:00:00\",\"2005-03-31T00:00:00\",\"2005-06-30T00:00:00\",\"2005-09-30T00:00:00\",\"2005-12-31T00:00:00\",\"2006-03-31T00:00:00\",\"2006-06-30T00:00:00\",\"2006-09-30T00:00:00\",\"2006-12-31T00:00:00\",\"2007-03-31T00:00:00\",\"2007-06-30T00:00:00\",\"2007-09-30T00:00:00\",\"2007-12-31T00:00:00\",\"2008-03-31T00:00:00\",\"2008-06-30T00:00:00\",\"2008-09-30T00:00:00\",\"2008-12-31T00:00:00\",\"2009-03-31T00:00:00\",\"2009-06-30T00:00:00\",\"2009-09-30T00:00:00\",\"2009-12-31T00:00:00\",\"2010-03-31T00:00:00\",\"2010-06-30T00:00:00\",\"2010-09-30T00:00:00\",\"2010-12-31T00:00:00\",\"2011-03-31T00:00:00\",\"2011-06-30T00:00:00\",\"2011-09-30T00:00:00\",\"2011-12-31T00:00:00\",\"2012-03-31T00:00:00\",\"2012-06-30T00:00:00\",\"2012-09-30T00:00:00\",\"2012-12-31T00:00:00\",\"2013-03-31T00:00:00\",\"2013-06-30T00:00:00\",\"2013-09-30T00:00:00\",\"2013-12-31T00:00:00\",\"2014-03-31T00:00:00\",\"2014-06-30T00:00:00\",\"2014-09-30T00:00:00\",\"2014-12-31T00:00:00\",\"2015-03-31T00:00:00\",\"2015-06-30T00:00:00\",\"2015-09-30T00:00:00\",\"2015-12-31T00:00:00\",\"2016-03-31T00:00:00\",\"2016-06-30T00:00:00\",\"2016-09-30T00:00:00\",\"2016-12-31T00:00:00\",\"2017-03-31T00:00:00\",\"2017-06-30T00:00:00\",\"2017-09-30T00:00:00\",\"2017-12-31T00:00:00\",\"2018-03-31T00:00:00\",\"2018-06-30T00:00:00\",\"2018-09-30T00:00:00\",\"2018-12-31T00:00:00\",\"2019-03-31T00:00:00\",\"2019-06-30T00:00:00\",\"2019-09-30T00:00:00\",\"2019-12-31T00:00:00\",\"2020-03-31T00:00:00\",\"2020-06-30T00:00:00\",\"2020-09-30T00:00:00\",\"2020-12-31T00:00:00\",\"2021-03-31T00:00:00\",\"2021-06-30T00:00:00\",\"2021-09-30T00:00:00\"],\"xaxis\":\"x\",\"y\":[300597.13701431494,323251.09560136346,318602.6131293818,351978.2355227361,311978.16560313676,327476.79196469334,324807.0149141872,360276.65012780036,314706.77375359903,338405.24470193626,337228.74012729083,371701.5887635275,332177.4565585115,354427.182980026,370629.6851574213,390941.8955740481,355883.8221651324,359595.10157853755,359642.30171073094,396246.42433544964,351462.5165010769,373759.5552466991,371706.7108533555,421236.55913978495,376007.6907230653,398203.6338704148,390636.9339879978,425183.3242802825,377536.81934873667,402029.49533216073,399619.90090273536,444503.3292566925,403298.34067050455,433511.50202977,431771.92154748266,474566.4739884393,427639.0655331682,443679.7659418844,439536.4151191887,482939.4435351882,434152.9877376241,456276.1910901941,456660.4847477137,491156.6357042881,435828.30568124686,457003.95207327016,457312.10430640006,504521.51009657595,463350.98100280284,491296.52605459053,485306.4496238747,520268.6127805715,478288.8290053896,508761.34771217935,495429.4385432473,531550.6405607929,484931.83737483417,511993.2432432432,506882.66410194756,551759.3370961931,509284.9455936865,539648.4956806672,530879.3820558527,577258.4562525917,529072.6520968695,560303.1375324369,556649.8415306961,600052.6285012573,560179.2573623561,590603.9488966318,592666.1264181524,636300.6980903479,588624.9928115476,626932.5399095955,626251.2826359594,688775.2202330207,631412.136250846,663934.8847616916,665591.5172375506,712753.4156015865,650953.0348805274,688458.8048767154,686539.1907263963,727810.3013051185,682844.3877551021,721322.601010101,730674.3035667796,777289.1131939439,714056.2044167899,752852.8982222894,753701.4925373134,799911.4739585896,734853.4201954398,770135.115641679,773893.9949521407,812829.6742043156,754857.4888226527,798742.8624055994,801609.7405262439,854849.528643945,796241.4782920703,845154.960981048,853589.4262222616,911991.9323014865,856441.6912146941,894959.4117897063,890191.1678771185,932617.5869120655,845154.4999602828,892537.9475493416,891451.3520628832,914287.2863326241,850354.6865435166,902180.7961862747,912324.5093245792,960209.5139962219,907065.9374256887,952258.7165234968,955367.1566512925,1012788.2668060364,949032.5685865555,987601.7414347909,996145.9563622801,1056231.8041126535,985339.9668325041,1036745.8488447675,1043105.6008826689,1097999.5440556253,1031911.6207523423,1055377.9979854627,1058170.8548052914,1116315.680273873,1043665.0216537415,1041787.7067512103,1050452.6788501719,1112771.541724275,1038201.5029350633,1069985.3981803886,1074608.822489392,1125104.4841097086,1053001.87012317,1079394.0426256733,1083207.9149810302,1156213.717034334,1086703.4074317794,1142477.5334705438,1155116.8590852409,1235220.1886189259,1166718.0581910184,1208370.690836482,1205130.3469443258,1282774.7316395089,1214794.1075449376,1266990.9712100849,1281600.1502488498,1351139.5426908873,1268510.5279727401,1317957.844391302,1336267.242015195,1403570.708459353,1304376.4073509118,1371757.9769056442,1381640.3257131658,1448402.1410779585,1370431.5210151786,1420385.2021357743,1431977.0528298654,1513197.8232491906,1413423.279979888,1463032.9088804366,1477074.7024396658,1549990.2133489922,1452496.8648509597,1501935.8230832962,1507499.7640099432,1560043.166361293,1448651.529193698,1502123.148774043,1512203.0122228495,1570776.2695430857,1496174.402673853,1548466.9917142773,1565111.1639519678,1646054.2822143836,1543018.1039288752,1606085.68930341,1622349.748977045,1702436.7020125515,1609808.2341440977,1666662.8545288197,1680857.0130865532,1767356.0782651692,1652617.6685598604,1721991.4460626729,1734860.3803001198,1813823.211464368,1719977.9477637652,1782111.1719605695,1790462.4277456645,1870866.0564371985,1780816.4145703577,1834797.2836683926,1865359.9066536122,1952721.4385988368,1854927.073167471,1946343.5464930073,1966437.39939069,2060824.7969852977,1964663.4265206396,2049196.0652629086,2067114.9992796995,2162190.0261647208,2085906.3089120162,2155788.7296793675,2163810.362879542,2253006.5259896903,2148522.962141453,2207728.2990466636,2205962.888665998,2307654.8068126272,2205633.380028017,2256598.877632102,2273752.7945554033,2369229.6343652415,2255181.795998048,2327277.4920162843,2355726.429488267,2455386.9883234724,2355356.523610796,2407910.7721911417,2430612.3896315736,2553358.8824039567,2427858.824077742,2506026.816729192,2532658.625153213,2625423.6132419626,2510419.21041921,2584418.7427854175,2590801.2595831803,2699741.4263901114,2584696.604890548,2647856.751724893,2652515.0554847703,2752068.7350423667,2644296.285207126,2678327.8619082915,2643605.2725329534,2688645.051376244,2566024.87135506,2620182.5947677516,2632563.7626597383,2695643.114226179,2587351.7910870225,2673014.3610785464,2687016.2975344756,2768006.8097121445,2652239.482000762,2725323.397792026,2725884.549430256,2793781.225348409,2698602.473551485,2760717.2209192775,2752881.1560601215,2834526.211180124,2714369.1762306043,2793133.7139690677,2800672.1264622696,2902860.8161422657,2768660.1422097203,2862679.7931892397,2883733.4160310896,2999774.908071292,2867534.4160715505,2961752.586315555,2979761.870218302,3083421.7609356544,2949676.7950454806,3033797.805537124,3048463.7714482797,3154605.614463346,3005114.3206668627,3110337.8819257286,3122496.278570217,3244592.001946636,3097921.9547571894,3205832.871140691,3218205.8557977555,3322029.1238083,3150633.839610622,3274392.9420119636,3292603.6899832934,3407401.178980869,3163269.518504498,2936098.8677810864,3194424.6120728315,3335229.2020373517,3225905.1075506774,3418226.974458184,3428117.9294384844],\"yaxis\":\"y\",\"type\":\"scatter\"},{\"hovertemplate\":\"<b>OLS trendline</b><br>RealPCE = 0.00133731 * Date + 859969<br>R<sup>2</sup>=0.954217<br><br>Date=%{x}<br>RealPCE=%{y} <b>(trend)</b><extra></extra>\",\"legendgroup\":\"\",\"line\":{\"color\":\"red\"},\"marker\":{\"color\":\"#636efa\",\"symbol\":\"circle\"},\"mode\":\"lines\",\"name\":\"\",\"showlegend\":false,\"x\":[\"1947-03-31T00:00:00\",\"1947-06-30T00:00:00\",\"1947-09-30T00:00:00\",\"1947-12-31T00:00:00\",\"1948-03-31T00:00:00\",\"1948-06-30T00:00:00\",\"1948-09-30T00:00:00\",\"1948-12-31T00:00:00\",\"1949-03-31T00:00:00\",\"1949-06-30T00:00:00\",\"1949-09-30T00:00:00\",\"1949-12-31T00:00:00\",\"1950-03-31T00:00:00\",\"1950-06-30T00:00:00\",\"1950-09-30T00:00:00\",\"1950-12-31T00:00:00\",\"1951-03-31T00:00:00\",\"1951-06-30T00:00:00\",\"1951-09-30T00:00:00\",\"1951-12-31T00:00:00\",\"1952-03-31T00:00:00\",\"1952-06-30T00:00:00\",\"1952-09-30T00:00:00\",\"1952-12-31T00:00:00\",\"1953-03-31T00:00:00\",\"1953-06-30T00:00:00\",\"1953-09-30T00:00:00\",\"1953-12-31T00:00:00\",\"1954-03-31T00:00:00\",\"1954-06-30T00:00:00\",\"1954-09-30T00:00:00\",\"1954-12-31T00:00:00\",\"1955-03-31T00:00:00\",\"1955-06-30T00:00:00\",\"1955-09-30T00:00:00\",\"1955-12-31T00:00:00\",\"1956-03-31T00:00:00\",\"1956-06-30T00:00:00\",\"1956-09-30T00:00:00\",\"1956-12-31T00:00:00\",\"1957-03-31T00:00:00\",\"1957-06-30T00:00:00\",\"1957-09-30T00:00:00\",\"1957-12-31T00:00:00\",\"1958-03-31T00:00:00\",\"1958-06-30T00:00:00\",\"1958-09-30T00:00:00\",\"1958-12-31T00:00:00\",\"1959-03-31T00:00:00\",\"1959-06-30T00:00:00\",\"1959-09-30T00:00:00\",\"1959-12-31T00:00:00\",\"1960-03-31T00:00:00\",\"1960-06-30T00:00:00\",\"1960-09-30T00:00:00\",\"1960-12-31T00:00:00\",\"1961-03-31T00:00:00\",\"1961-06-30T00:00:00\",\"1961-09-30T00:00:00\",\"1961-12-31T00:00:00\",\"1962-03-31T00:00:00\",\"1962-06-30T00:00:00\",\"1962-09-30T00:00:00\",\"1962-12-31T00:00:00\",\"1963-03-31T00:00:00\",\"1963-06-30T00:00:00\",\"1963-09-30T00:00:00\",\"1963-12-31T00:00:00\",\"1964-03-31T00:00:00\",\"1964-06-30T00:00:00\",\"1964-09-30T00:00:00\",\"1964-12-31T00:00:00\",\"1965-03-31T00:00:00\",\"1965-06-30T00:00:00\",\"1965-09-30T00:00:00\",\"1965-12-31T00:00:00\",\"1966-03-31T00:00:00\",\"1966-06-30T00:00:00\",\"1966-09-30T00:00:00\",\"1966-12-31T00:00:00\",\"1967-03-31T00:00:00\",\"1967-06-30T00:00:00\",\"1967-09-30T00:00:00\",\"1967-12-31T00:00:00\",\"1968-03-31T00:00:00\",\"1968-06-30T00:00:00\",\"1968-09-30T00:00:00\",\"1968-12-31T00:00:00\",\"1969-03-31T00:00:00\",\"1969-06-30T00:00:00\",\"1969-09-30T00:00:00\",\"1969-12-31T00:00:00\",\"1970-03-31T00:00:00\",\"1970-06-30T00:00:00\",\"1970-09-30T00:00:00\",\"1970-12-31T00:00:00\",\"1971-03-31T00:00:00\",\"1971-06-30T00:00:00\",\"1971-09-30T00:00:00\",\"1971-12-31T00:00:00\",\"1972-03-31T00:00:00\",\"1972-06-30T00:00:00\",\"1972-09-30T00:00:00\",\"1972-12-31T00:00:00\",\"1973-03-31T00:00:00\",\"1973-06-30T00:00:00\",\"1973-09-30T00:00:00\",\"1973-12-31T00:00:00\",\"1974-03-31T00:00:00\",\"1974-06-30T00:00:00\",\"1974-09-30T00:00:00\",\"1974-12-31T00:00:00\",\"1975-03-31T00:00:00\",\"1975-06-30T00:00:00\",\"1975-09-30T00:00:00\",\"1975-12-31T00:00:00\",\"1976-03-31T00:00:00\",\"1976-06-30T00:00:00\",\"1976-09-30T00:00:00\",\"1976-12-31T00:00:00\",\"1977-03-31T00:00:00\",\"1977-06-30T00:00:00\",\"1977-09-30T00:00:00\",\"1977-12-31T00:00:00\",\"1978-03-31T00:00:00\",\"1978-06-30T00:00:00\",\"1978-09-30T00:00:00\",\"1978-12-31T00:00:00\",\"1979-03-31T00:00:00\",\"1979-06-30T00:00:00\",\"1979-09-30T00:00:00\",\"1979-12-31T00:00:00\",\"1980-03-31T00:00:00\",\"1980-06-30T00:00:00\",\"1980-09-30T00:00:00\",\"1980-12-31T00:00:00\",\"1981-03-31T00:00:00\",\"1981-06-30T00:00:00\",\"1981-09-30T00:00:00\",\"1981-12-31T00:00:00\",\"1982-03-31T00:00:00\",\"1982-06-30T00:00:00\",\"1982-09-30T00:00:00\",\"1982-12-31T00:00:00\",\"1983-03-31T00:00:00\",\"1983-06-30T00:00:00\",\"1983-09-30T00:00:00\",\"1983-12-31T00:00:00\",\"1984-03-31T00:00:00\",\"1984-06-30T00:00:00\",\"1984-09-30T00:00:00\",\"1984-12-31T00:00:00\",\"1985-03-31T00:00:00\",\"1985-06-30T00:00:00\",\"1985-09-30T00:00:00\",\"1985-12-31T00:00:00\",\"1986-03-31T00:00:00\",\"1986-06-30T00:00:00\",\"1986-09-30T00:00:00\",\"1986-12-31T00:00:00\",\"1987-03-31T00:00:00\",\"1987-06-30T00:00:00\",\"1987-09-30T00:00:00\",\"1987-12-31T00:00:00\",\"1988-03-31T00:00:00\",\"1988-06-30T00:00:00\",\"1988-09-30T00:00:00\",\"1988-12-31T00:00:00\",\"1989-03-31T00:00:00\",\"1989-06-30T00:00:00\",\"1989-09-30T00:00:00\",\"1989-12-31T00:00:00\",\"1990-03-31T00:00:00\",\"1990-06-30T00:00:00\",\"1990-09-30T00:00:00\",\"1990-12-31T00:00:00\",\"1991-03-31T00:00:00\",\"1991-06-30T00:00:00\",\"1991-09-30T00:00:00\",\"1991-12-31T00:00:00\",\"1992-03-31T00:00:00\",\"1992-06-30T00:00:00\",\"1992-09-30T00:00:00\",\"1992-12-31T00:00:00\",\"1993-03-31T00:00:00\",\"1993-06-30T00:00:00\",\"1993-09-30T00:00:00\",\"1993-12-31T00:00:00\",\"1994-03-31T00:00:00\",\"1994-06-30T00:00:00\",\"1994-09-30T00:00:00\",\"1994-12-31T00:00:00\",\"1995-03-31T00:00:00\",\"1995-06-30T00:00:00\",\"1995-09-30T00:00:00\",\"1995-12-31T00:00:00\",\"1996-03-31T00:00:00\",\"1996-06-30T00:00:00\",\"1996-09-30T00:00:00\",\"1996-12-31T00:00:00\",\"1997-03-31T00:00:00\",\"1997-06-30T00:00:00\",\"1997-09-30T00:00:00\",\"1997-12-31T00:00:00\",\"1998-03-31T00:00:00\",\"1998-06-30T00:00:00\",\"1998-09-30T00:00:00\",\"1998-12-31T00:00:00\",\"1999-03-31T00:00:00\",\"1999-06-30T00:00:00\",\"1999-09-30T00:00:00\",\"1999-12-31T00:00:00\",\"2000-03-31T00:00:00\",\"2000-06-30T00:00:00\",\"2000-09-30T00:00:00\",\"2000-12-31T00:00:00\",\"2001-03-31T00:00:00\",\"2001-06-30T00:00:00\",\"2001-09-30T00:00:00\",\"2001-12-31T00:00:00\",\"2002-03-31T00:00:00\",\"2002-06-30T00:00:00\",\"2002-09-30T00:00:00\",\"2002-12-31T00:00:00\",\"2003-03-31T00:00:00\",\"2003-06-30T00:00:00\",\"2003-09-30T00:00:00\",\"2003-12-31T00:00:00\",\"2004-03-31T00:00:00\",\"2004-06-30T00:00:00\",\"2004-09-30T00:00:00\",\"2004-12-31T00:00:00\",\"2005-03-31T00:00:00\",\"2005-06-30T00:00:00\",\"2005-09-30T00:00:00\",\"2005-12-31T00:00:00\",\"2006-03-31T00:00:00\",\"2006-06-30T00:00:00\",\"2006-09-30T00:00:00\",\"2006-12-31T00:00:00\",\"2007-03-31T00:00:00\",\"2007-06-30T00:00:00\",\"2007-09-30T00:00:00\",\"2007-12-31T00:00:00\",\"2008-03-31T00:00:00\",\"2008-06-30T00:00:00\",\"2008-09-30T00:00:00\",\"2008-12-31T00:00:00\",\"2009-03-31T00:00:00\",\"2009-06-30T00:00:00\",\"2009-09-30T00:00:00\",\"2009-12-31T00:00:00\",\"2010-03-31T00:00:00\",\"2010-06-30T00:00:00\",\"2010-09-30T00:00:00\",\"2010-12-31T00:00:00\",\"2011-03-31T00:00:00\",\"2011-06-30T00:00:00\",\"2011-09-30T00:00:00\",\"2011-12-31T00:00:00\",\"2012-03-31T00:00:00\",\"2012-06-30T00:00:00\",\"2012-09-30T00:00:00\",\"2012-12-31T00:00:00\",\"2013-03-31T00:00:00\",\"2013-06-30T00:00:00\",\"2013-09-30T00:00:00\",\"2013-12-31T00:00:00\",\"2014-03-31T00:00:00\",\"2014-06-30T00:00:00\",\"2014-09-30T00:00:00\",\"2014-12-31T00:00:00\",\"2015-03-31T00:00:00\",\"2015-06-30T00:00:00\",\"2015-09-30T00:00:00\",\"2015-12-31T00:00:00\",\"2016-03-31T00:00:00\",\"2016-06-30T00:00:00\",\"2016-09-30T00:00:00\",\"2016-12-31T00:00:00\",\"2017-03-31T00:00:00\",\"2017-06-30T00:00:00\",\"2017-09-30T00:00:00\",\"2017-12-31T00:00:00\",\"2018-03-31T00:00:00\",\"2018-06-30T00:00:00\",\"2018-09-30T00:00:00\",\"2018-12-31T00:00:00\",\"2019-03-31T00:00:00\",\"2019-06-30T00:00:00\",\"2019-09-30T00:00:00\",\"2019-12-31T00:00:00\",\"2020-03-31T00:00:00\",\"2020-06-30T00:00:00\",\"2020-09-30T00:00:00\",\"2020-12-31T00:00:00\",\"2021-03-31T00:00:00\",\"2021-06-30T00:00:00\",\"2021-09-30T00:00:00\"],\"xaxis\":\"x\",\"y\":[-100431.91636157373,-89917.41797478555,-79287.37564968108,-68657.33332457661,-58142.83493778843,-47628.336551000364,-36998.29422589578,-26368.251900791307,-15969.29745231953,-5454.799065531348,5175.2432595731225,15805.285584677593,26204.24003314937,36718.73841993755,47348.78074504202,57978.82307014649,68377.77751861827,78892.27590540645,89522.31823051092,100152.36055561551,110666.85894240357,121181.35732919176,131811.39965429623,142441.4419794007,152840.39642787247,163354.89481466066,173984.93713976513,184614.9794648697,195013.9339133415,205528.43230012956,216158.47462523414,226788.5169503386,237187.4713988104,247701.96978559857,258332.01211070304,268962.0544358075,279476.5528225957,289991.05120938376,300621.09353448835,311251.1358595928,321650.0903080646,332164.5886948528,342794.63101995725,353424.6733450617,363823.6277935335,374338.1261803217,384968.16850542615,395598.2108305306,405997.16527900245,416511.6636657906,427141.70599089505,437771.7483159996,448286.2467027877,458800.7450895759,469430.78741468035,480060.8297397849,490459.78418825666,500974.2825750448,511604.3249001493,522234.3672252538,532633.3216737255,543147.8200605137,553777.8623856183,564407.9047107226,574806.8591591945,585321.3575459826,595951.3998710872,606581.4421961916,617095.9405829797,627610.4389697679,638240.4812948725,648870.523619977,659269.4780684487,669783.9764552368,680414.0187803414,691044.0611054458,701443.0155539176,711957.5139407058,722587.5562658103,733217.5985909147,743616.5530393865,754131.0514261747,764761.0937512792,775391.1360763836,785905.6344631718,796420.13284996,807050.1751750645,817680.217500169,828079.1719486407,838593.6703354289,849223.7126605334,859853.7549856378,870252.7094341097,880767.2078208978,891397.2501460023,902027.2924711069,912426.2469195786,922940.7453063667,933570.7876314713,944200.8299565758,954715.328343364,965229.826730152,975859.8690552565,986489.9113803611,996888.8658288328,1007403.364215621,1018033.4065407255,1028663.44886583,1039062.4033143017,1049576.90170109,1060206.9440261945,1070836.9863512989,1081235.9407997706,1091750.4391865588,1102380.4815116634,1113010.5238367678,1123525.022223556,1134039.5206103441,1144669.5629354487,1155299.605260553,1165698.5597090248,1176213.058095813,1186843.1004209174,1197473.142746022,1207872.0971944937,1218386.595581282,1229016.6379063865,1239646.6802314909,1250045.6346799626,1260560.1330667508,1271190.1753918554,1281820.2177169598,1292334.716103748,1302849.2144905361,1313479.2568156407,1324109.299140745,1334508.253589217,1345022.751976005,1355652.7943011096,1366282.836626214,1376681.7910746858,1387196.289461474,1397826.3317865785,1408456.374111683,1418855.328560155,1429369.826946943,1439999.8692720474,1450629.9115971518,1461144.40998394,1471658.9083707281,1482288.9506958327,1492918.9930209373,1503317.947469409,1513832.4458561973,1524462.4881813016,1535092.530506406,1545491.4849548778,1556005.983341666,1566636.0256667705,1577266.067991875,1587665.022440347,1598179.520827135,1608809.5631522397,1619439.605477344,1629954.103864132,1640468.6022509201,1651098.6445760247,1661728.6869011293,1672127.641349601,1682642.1397363893,1693272.1820614939,1703902.2243865982,1714301.17883507,1724815.6772218582,1735445.7195469625,1746075.761872067,1756474.716320539,1766989.214707327,1777619.2570324317,1788249.299357536,1798763.7977443242,1809278.2961311124,1819908.3384562167,1830538.3807813213,1840937.335229793,1851451.8336165813,1862081.8759416859,1872711.9182667902,1883110.872715262,1893625.3711020502,1904255.4134271545,1914885.4557522591,1925284.410200731,1935798.908587519,1946428.9509126237,1957058.9932377283,1967573.4916245164,1978087.9900113046,1988718.0323364087,1999348.0746615133,2009747.029109985,2020261.5274967733,2030891.5698218779,2041521.6121469825,2051920.5665954542,2062435.0649822424,2073065.1073073465,2083695.1496324511,2094094.104080923,2104608.602467711,2115238.6447928157,2125868.6871179203,2136383.1855047084,2146897.6838914966,2157527.7262166007,2168157.7685417053,2178556.722990177,2189071.2213769653,2199701.26370207,2210331.3060271745,2220730.2604756462,2231244.7588624344,2241874.801187539,2252504.843512643,2262903.797961115,2273418.296347903,2284048.3386730077,2294678.3809981123,2305192.8793849004,2315707.3777716886,2326337.420096793,2336967.4624218973,2347366.416870369,2357880.9152571573,2368510.957582262,2379140.9999073665,2389539.9543558382,2400054.4527426264,2410684.495067731,2421314.537392835,2431713.4918413074,2442227.990228095,2452858.0325531997,2463488.0748783043,2474002.5732650924,2484517.0716518806,2495147.113976985,2505777.1563020893,2516176.1107505616,2526690.6091373493,2537320.651462454,2547950.6937875585,2558349.6482360302,2568864.1466228184,2579494.188947923,2590124.2312730276,2600523.1857214994,2611037.6841082876,2621667.7264333917,2632297.7687584963,2642812.2671452845,2653326.7655320726,2663956.807857177,2674586.850182282,2684985.8046307536,2695500.3030175418,2706130.345342646,2716760.3876677505,2727159.3421162223,2737673.8405030104,2748303.882828115,2758933.9251532196,2769332.8796016914,2779847.3779884796,2790477.4203135837,2801107.4626386883,2811621.9610254765,2822136.4594122646,2832766.501737369,2843396.544062474,2853795.4985109456,2864309.996897734,2874940.039222838,2885570.0815479425,2895969.0359964143,2906483.5343832024,2917113.576708307,2927743.6190334116,2938142.5734818834,2948657.0718686716,2959287.114193776,2969917.1565188807,2980431.654905669,2990946.1532924566,3001576.195617561,3012206.237942666,3022605.1923911376,3033119.690777926,3043749.7331030304],\"yaxis\":\"y\",\"type\":\"scatter\"}],                        {\"template\":{\"data\":{\"bar\":[{\"error_x\":{\"color\":\"#2a3f5f\"},\"error_y\":{\"color\":\"#2a3f5f\"},\"marker\":{\"line\":{\"color\":\"#E5ECF6\",\"width\":0.5},\"pattern\":{\"fillmode\":\"overlay\",\"size\":10,\"solidity\":0.2}},\"type\":\"bar\"}],\"barpolar\":[{\"marker\":{\"line\":{\"color\":\"#E5ECF6\",\"width\":0.5},\"pattern\":{\"fillmode\":\"overlay\",\"size\":10,\"solidity\":0.2}},\"type\":\"barpolar\"}],\"carpet\":[{\"aaxis\":{\"endlinecolor\":\"#2a3f5f\",\"gridcolor\":\"white\",\"linecolor\":\"white\",\"minorgridcolor\":\"white\",\"startlinecolor\":\"#2a3f5f\"},\"baxis\":{\"endlinecolor\":\"#2a3f5f\",\"gridcolor\":\"white\",\"linecolor\":\"white\",\"minorgridcolor\":\"white\",\"startlinecolor\":\"#2a3f5f\"},\"type\":\"carpet\"}],\"choropleth\":[{\"colorbar\":{\"outlinewidth\":0,\"ticks\":\"\"},\"type\":\"choropleth\"}],\"contour\":[{\"colorbar\":{\"outlinewidth\":0,\"ticks\":\"\"},\"colorscale\":[[0.0,\"#0d0887\"],[0.1111111111111111,\"#46039f\"],[0.2222222222222222,\"#7201a8\"],[0.3333333333333333,\"#9c179e\"],[0.4444444444444444,\"#bd3786\"],[0.5555555555555556,\"#d8576b\"],[0.6666666666666666,\"#ed7953\"],[0.7777777777777778,\"#fb9f3a\"],[0.8888888888888888,\"#fdca26\"],[1.0,\"#f0f921\"]],\"type\":\"contour\"}],\"contourcarpet\":[{\"colorbar\":{\"outlinewidth\":0,\"ticks\":\"\"},\"type\":\"contourcarpet\"}],\"heatmap\":[{\"colorbar\":{\"outlinewidth\":0,\"ticks\":\"\"},\"colorscale\":[[0.0,\"#0d0887\"],[0.1111111111111111,\"#46039f\"],[0.2222222222222222,\"#7201a8\"],[0.3333333333333333,\"#9c179e\"],[0.4444444444444444,\"#bd3786\"],[0.5555555555555556,\"#d8576b\"],[0.6666666666666666,\"#ed7953\"],[0.7777777777777778,\"#fb9f3a\"],[0.8888888888888888,\"#fdca26\"],[1.0,\"#f0f921\"]],\"type\":\"heatmap\"}],\"heatmapgl\":[{\"colorbar\":{\"outlinewidth\":0,\"ticks\":\"\"},\"colorscale\":[[0.0,\"#0d0887\"],[0.1111111111111111,\"#46039f\"],[0.2222222222222222,\"#7201a8\"],[0.3333333333333333,\"#9c179e\"],[0.4444444444444444,\"#bd3786\"],[0.5555555555555556,\"#d8576b\"],[0.6666666666666666,\"#ed7953\"],[0.7777777777777778,\"#fb9f3a\"],[0.8888888888888888,\"#fdca26\"],[1.0,\"#f0f921\"]],\"type\":\"heatmapgl\"}],\"histogram\":[{\"marker\":{\"pattern\":{\"fillmode\":\"overlay\",\"size\":10,\"solidity\":0.2}},\"type\":\"histogram\"}],\"histogram2d\":[{\"colorbar\":{\"outlinewidth\":0,\"ticks\":\"\"},\"colorscale\":[[0.0,\"#0d0887\"],[0.1111111111111111,\"#46039f\"],[0.2222222222222222,\"#7201a8\"],[0.3333333333333333,\"#9c179e\"],[0.4444444444444444,\"#bd3786\"],[0.5555555555555556,\"#d8576b\"],[0.6666666666666666,\"#ed7953\"],[0.7777777777777778,\"#fb9f3a\"],[0.8888888888888888,\"#fdca26\"],[1.0,\"#f0f921\"]],\"type\":\"histogram2d\"}],\"histogram2dcontour\":[{\"colorbar\":{\"outlinewidth\":0,\"ticks\":\"\"},\"colorscale\":[[0.0,\"#0d0887\"],[0.1111111111111111,\"#46039f\"],[0.2222222222222222,\"#7201a8\"],[0.3333333333333333,\"#9c179e\"],[0.4444444444444444,\"#bd3786\"],[0.5555555555555556,\"#d8576b\"],[0.6666666666666666,\"#ed7953\"],[0.7777777777777778,\"#fb9f3a\"],[0.8888888888888888,\"#fdca26\"],[1.0,\"#f0f921\"]],\"type\":\"histogram2dcontour\"}],\"mesh3d\":[{\"colorbar\":{\"outlinewidth\":0,\"ticks\":\"\"},\"type\":\"mesh3d\"}],\"parcoords\":[{\"line\":{\"colorbar\":{\"outlinewidth\":0,\"ticks\":\"\"}},\"type\":\"parcoords\"}],\"pie\":[{\"automargin\":true,\"type\":\"pie\"}],\"scatter\":[{\"marker\":{\"colorbar\":{\"outlinewidth\":0,\"ticks\":\"\"}},\"type\":\"scatter\"}],\"scatter3d\":[{\"line\":{\"colorbar\":{\"outlinewidth\":0,\"ticks\":\"\"}},\"marker\":{\"colorbar\":{\"outlinewidth\":0,\"ticks\":\"\"}},\"type\":\"scatter3d\"}],\"scattercarpet\":[{\"marker\":{\"colorbar\":{\"outlinewidth\":0,\"ticks\":\"\"}},\"type\":\"scattercarpet\"}],\"scattergeo\":[{\"marker\":{\"colorbar\":{\"outlinewidth\":0,\"ticks\":\"\"}},\"type\":\"scattergeo\"}],\"scattergl\":[{\"marker\":{\"colorbar\":{\"outlinewidth\":0,\"ticks\":\"\"}},\"type\":\"scattergl\"}],\"scattermapbox\":[{\"marker\":{\"colorbar\":{\"outlinewidth\":0,\"ticks\":\"\"}},\"type\":\"scattermapbox\"}],\"scatterpolar\":[{\"marker\":{\"colorbar\":{\"outlinewidth\":0,\"ticks\":\"\"}},\"type\":\"scatterpolar\"}],\"scatterpolargl\":[{\"marker\":{\"colorbar\":{\"outlinewidth\":0,\"ticks\":\"\"}},\"type\":\"scatterpolargl\"}],\"scatterternary\":[{\"marker\":{\"colorbar\":{\"outlinewidth\":0,\"ticks\":\"\"}},\"type\":\"scatterternary\"}],\"surface\":[{\"colorbar\":{\"outlinewidth\":0,\"ticks\":\"\"},\"colorscale\":[[0.0,\"#0d0887\"],[0.1111111111111111,\"#46039f\"],[0.2222222222222222,\"#7201a8\"],[0.3333333333333333,\"#9c179e\"],[0.4444444444444444,\"#bd3786\"],[0.5555555555555556,\"#d8576b\"],[0.6666666666666666,\"#ed7953\"],[0.7777777777777778,\"#fb9f3a\"],[0.8888888888888888,\"#fdca26\"],[1.0,\"#f0f921\"]],\"type\":\"surface\"}],\"table\":[{\"cells\":{\"fill\":{\"color\":\"#EBF0F8\"},\"line\":{\"color\":\"white\"}},\"header\":{\"fill\":{\"color\":\"#C8D4E3\"},\"line\":{\"color\":\"white\"}},\"type\":\"table\"}]},\"layout\":{\"annotationdefaults\":{\"arrowcolor\":\"#2a3f5f\",\"arrowhead\":0,\"arrowwidth\":1},\"autotypenumbers\":\"strict\",\"coloraxis\":{\"colorbar\":{\"outlinewidth\":0,\"ticks\":\"\"}},\"colorscale\":{\"diverging\":[[0,\"#8e0152\"],[0.1,\"#c51b7d\"],[0.2,\"#de77ae\"],[0.3,\"#f1b6da\"],[0.4,\"#fde0ef\"],[0.5,\"#f7f7f7\"],[0.6,\"#e6f5d0\"],[0.7,\"#b8e186\"],[0.8,\"#7fbc41\"],[0.9,\"#4d9221\"],[1,\"#276419\"]],\"sequential\":[[0.0,\"#0d0887\"],[0.1111111111111111,\"#46039f\"],[0.2222222222222222,\"#7201a8\"],[0.3333333333333333,\"#9c179e\"],[0.4444444444444444,\"#bd3786\"],[0.5555555555555556,\"#d8576b\"],[0.6666666666666666,\"#ed7953\"],[0.7777777777777778,\"#fb9f3a\"],[0.8888888888888888,\"#fdca26\"],[1.0,\"#f0f921\"]],\"sequentialminus\":[[0.0,\"#0d0887\"],[0.1111111111111111,\"#46039f\"],[0.2222222222222222,\"#7201a8\"],[0.3333333333333333,\"#9c179e\"],[0.4444444444444444,\"#bd3786\"],[0.5555555555555556,\"#d8576b\"],[0.6666666666666666,\"#ed7953\"],[0.7777777777777778,\"#fb9f3a\"],[0.8888888888888888,\"#fdca26\"],[1.0,\"#f0f921\"]]},\"colorway\":[\"#636efa\",\"#EF553B\",\"#00cc96\",\"#ab63fa\",\"#FFA15A\",\"#19d3f3\",\"#FF6692\",\"#B6E880\",\"#FF97FF\",\"#FECB52\"],\"font\":{\"color\":\"#2a3f5f\"},\"geo\":{\"bgcolor\":\"white\",\"lakecolor\":\"white\",\"landcolor\":\"#E5ECF6\",\"showlakes\":true,\"showland\":true,\"subunitcolor\":\"white\"},\"hoverlabel\":{\"align\":\"left\"},\"hovermode\":\"closest\",\"mapbox\":{\"style\":\"light\"},\"paper_bgcolor\":\"white\",\"plot_bgcolor\":\"#E5ECF6\",\"polar\":{\"angularaxis\":{\"gridcolor\":\"white\",\"linecolor\":\"white\",\"ticks\":\"\"},\"bgcolor\":\"#E5ECF6\",\"radialaxis\":{\"gridcolor\":\"white\",\"linecolor\":\"white\",\"ticks\":\"\"}},\"scene\":{\"xaxis\":{\"backgroundcolor\":\"#E5ECF6\",\"gridcolor\":\"white\",\"gridwidth\":2,\"linecolor\":\"white\",\"showbackground\":true,\"ticks\":\"\",\"zerolinecolor\":\"white\"},\"yaxis\":{\"backgroundcolor\":\"#E5ECF6\",\"gridcolor\":\"white\",\"gridwidth\":2,\"linecolor\":\"white\",\"showbackground\":true,\"ticks\":\"\",\"zerolinecolor\":\"white\"},\"zaxis\":{\"backgroundcolor\":\"#E5ECF6\",\"gridcolor\":\"white\",\"gridwidth\":2,\"linecolor\":\"white\",\"showbackground\":true,\"ticks\":\"\",\"zerolinecolor\":\"white\"}},\"shapedefaults\":{\"line\":{\"color\":\"#2a3f5f\"}},\"ternary\":{\"aaxis\":{\"gridcolor\":\"white\",\"linecolor\":\"white\",\"ticks\":\"\"},\"baxis\":{\"gridcolor\":\"white\",\"linecolor\":\"white\",\"ticks\":\"\"},\"bgcolor\":\"#E5ECF6\",\"caxis\":{\"gridcolor\":\"white\",\"linecolor\":\"white\",\"ticks\":\"\"}},\"title\":{\"x\":0.05},\"xaxis\":{\"automargin\":true,\"gridcolor\":\"white\",\"linecolor\":\"white\",\"ticks\":\"\",\"title\":{\"standoff\":15},\"zerolinecolor\":\"white\",\"zerolinewidth\":2},\"yaxis\":{\"automargin\":true,\"gridcolor\":\"white\",\"linecolor\":\"white\",\"ticks\":\"\",\"title\":{\"standoff\":15},\"zerolinecolor\":\"white\",\"zerolinewidth\":2}}},\"xaxis\":{\"anchor\":\"y\",\"domain\":[0.0,1.0],\"title\":{\"text\":\"Date\"}},\"yaxis\":{\"anchor\":\"x\",\"domain\":[0.0,1.0],\"title\":{\"text\":\"RealPCE\"}},\"legend\":{\"tracegroupgap\":0},\"title\":{\"text\":\"Consumer Spending w/ Trend Line (OLS)\"}},                        {\"responsive\": true}                    ).then(function(){\n",
              "                            \n",
              "var gd = document.getElementById('d7d57262-b665-477a-ae89-d32f957dee79');\n",
              "var x = new MutationObserver(function (mutations, observer) {{\n",
              "        var display = window.getComputedStyle(gd).display;\n",
              "        if (!display || display === 'none') {{\n",
              "            console.log([gd, 'removed!']);\n",
              "            Plotly.purge(gd);\n",
              "            observer.disconnect();\n",
              "        }}\n",
              "}});\n",
              "\n",
              "// Listen for the removal of the full notebook cells\n",
              "var notebookContainer = gd.closest('#notebook-container');\n",
              "if (notebookContainer) {{\n",
              "    x.observe(notebookContainer, {childList: true});\n",
              "}}\n",
              "\n",
              "// Listen for the clearing of the current output cell\n",
              "var outputEl = gd.closest('.output');\n",
              "if (outputEl) {{\n",
              "    x.observe(outputEl, {childList: true});\n",
              "}}\n",
              "\n",
              "                        })                };                            </script>        </div>\n",
              "</body>\n",
              "</html>"
            ]
          },
          "metadata": {}
        }
      ],
      "source": [
        "px.scatter(spending_df, x=\"Date\", y=\"RealPCE\", \n",
        "              trendline=\"ols\", trendline_color_override=\"red\",\n",
        "              title=\"Consumer Spending w/ Trend Line (OLS)\"\n",
        ")"
      ]
    },
    {
      "cell_type": "code",
      "execution_count": 29,
      "metadata": {
        "colab": {
          "base_uri": "https://localhost:8080/",
          "height": 542
        },
        "id": "3b20b8b6",
        "outputId": "09b700c3-6268-49e6-b8d8-aa6385d9b3e8"
      },
      "outputs": [
        {
          "output_type": "display_data",
          "data": {
            "text/html": [
              "<html>\n",
              "<head><meta charset=\"utf-8\" /></head>\n",
              "<body>\n",
              "    <div>            <script src=\"https://cdnjs.cloudflare.com/ajax/libs/mathjax/2.7.5/MathJax.js?config=TeX-AMS-MML_SVG\"></script><script type=\"text/javascript\">if (window.MathJax) {MathJax.Hub.Config({SVG: {font: \"STIX-Web\"}});}</script>                <script type=\"text/javascript\">window.PlotlyConfig = {MathJaxConfig: 'local'};</script>\n",
              "        <script src=\"https://cdn.plot.ly/plotly-2.8.3.min.js\"></script>                <div id=\"bc8a9f23-8940-4b56-923d-0b674bf5624a\" class=\"plotly-graph-div\" style=\"height:525px; width:100%;\"></div>            <script type=\"text/javascript\">                                    window.PLOTLYENV=window.PLOTLYENV || {};                                    if (document.getElementById(\"bc8a9f23-8940-4b56-923d-0b674bf5624a\")) {                    Plotly.newPlot(                        \"bc8a9f23-8940-4b56-923d-0b674bf5624a\",                        [{\"hovertemplate\":\"Date=%{x}<br>RealPCE=%{y}<extra></extra>\",\"legendgroup\":\"\",\"marker\":{\"color\":\"#636efa\",\"symbol\":\"circle\"},\"mode\":\"markers\",\"name\":\"\",\"orientation\":\"v\",\"showlegend\":false,\"x\":[\"1947-03-31T00:00:00\",\"1947-06-30T00:00:00\",\"1947-09-30T00:00:00\",\"1947-12-31T00:00:00\",\"1948-03-31T00:00:00\",\"1948-06-30T00:00:00\",\"1948-09-30T00:00:00\",\"1948-12-31T00:00:00\",\"1949-03-31T00:00:00\",\"1949-06-30T00:00:00\",\"1949-09-30T00:00:00\",\"1949-12-31T00:00:00\",\"1950-03-31T00:00:00\",\"1950-06-30T00:00:00\",\"1950-09-30T00:00:00\",\"1950-12-31T00:00:00\",\"1951-03-31T00:00:00\",\"1951-06-30T00:00:00\",\"1951-09-30T00:00:00\",\"1951-12-31T00:00:00\",\"1952-03-31T00:00:00\",\"1952-06-30T00:00:00\",\"1952-09-30T00:00:00\",\"1952-12-31T00:00:00\",\"1953-03-31T00:00:00\",\"1953-06-30T00:00:00\",\"1953-09-30T00:00:00\",\"1953-12-31T00:00:00\",\"1954-03-31T00:00:00\",\"1954-06-30T00:00:00\",\"1954-09-30T00:00:00\",\"1954-12-31T00:00:00\",\"1955-03-31T00:00:00\",\"1955-06-30T00:00:00\",\"1955-09-30T00:00:00\",\"1955-12-31T00:00:00\",\"1956-03-31T00:00:00\",\"1956-06-30T00:00:00\",\"1956-09-30T00:00:00\",\"1956-12-31T00:00:00\",\"1957-03-31T00:00:00\",\"1957-06-30T00:00:00\",\"1957-09-30T00:00:00\",\"1957-12-31T00:00:00\",\"1958-03-31T00:00:00\",\"1958-06-30T00:00:00\",\"1958-09-30T00:00:00\",\"1958-12-31T00:00:00\",\"1959-03-31T00:00:00\",\"1959-06-30T00:00:00\",\"1959-09-30T00:00:00\",\"1959-12-31T00:00:00\",\"1960-03-31T00:00:00\",\"1960-06-30T00:00:00\",\"1960-09-30T00:00:00\",\"1960-12-31T00:00:00\",\"1961-03-31T00:00:00\",\"1961-06-30T00:00:00\",\"1961-09-30T00:00:00\",\"1961-12-31T00:00:00\",\"1962-03-31T00:00:00\",\"1962-06-30T00:00:00\",\"1962-09-30T00:00:00\",\"1962-12-31T00:00:00\",\"1963-03-31T00:00:00\",\"1963-06-30T00:00:00\",\"1963-09-30T00:00:00\",\"1963-12-31T00:00:00\",\"1964-03-31T00:00:00\",\"1964-06-30T00:00:00\",\"1964-09-30T00:00:00\",\"1964-12-31T00:00:00\",\"1965-03-31T00:00:00\",\"1965-06-30T00:00:00\",\"1965-09-30T00:00:00\",\"1965-12-31T00:00:00\",\"1966-03-31T00:00:00\",\"1966-06-30T00:00:00\",\"1966-09-30T00:00:00\",\"1966-12-31T00:00:00\",\"1967-03-31T00:00:00\",\"1967-06-30T00:00:00\",\"1967-09-30T00:00:00\",\"1967-12-31T00:00:00\",\"1968-03-31T00:00:00\",\"1968-06-30T00:00:00\",\"1968-09-30T00:00:00\",\"1968-12-31T00:00:00\",\"1969-03-31T00:00:00\",\"1969-06-30T00:00:00\",\"1969-09-30T00:00:00\",\"1969-12-31T00:00:00\",\"1970-03-31T00:00:00\",\"1970-06-30T00:00:00\",\"1970-09-30T00:00:00\",\"1970-12-31T00:00:00\",\"1971-03-31T00:00:00\",\"1971-06-30T00:00:00\",\"1971-09-30T00:00:00\",\"1971-12-31T00:00:00\",\"1972-03-31T00:00:00\",\"1972-06-30T00:00:00\",\"1972-09-30T00:00:00\",\"1972-12-31T00:00:00\",\"1973-03-31T00:00:00\",\"1973-06-30T00:00:00\",\"1973-09-30T00:00:00\",\"1973-12-31T00:00:00\",\"1974-03-31T00:00:00\",\"1974-06-30T00:00:00\",\"1974-09-30T00:00:00\",\"1974-12-31T00:00:00\",\"1975-03-31T00:00:00\",\"1975-06-30T00:00:00\",\"1975-09-30T00:00:00\",\"1975-12-31T00:00:00\",\"1976-03-31T00:00:00\",\"1976-06-30T00:00:00\",\"1976-09-30T00:00:00\",\"1976-12-31T00:00:00\",\"1977-03-31T00:00:00\",\"1977-06-30T00:00:00\",\"1977-09-30T00:00:00\",\"1977-12-31T00:00:00\",\"1978-03-31T00:00:00\",\"1978-06-30T00:00:00\",\"1978-09-30T00:00:00\",\"1978-12-31T00:00:00\",\"1979-03-31T00:00:00\",\"1979-06-30T00:00:00\",\"1979-09-30T00:00:00\",\"1979-12-31T00:00:00\",\"1980-03-31T00:00:00\",\"1980-06-30T00:00:00\",\"1980-09-30T00:00:00\",\"1980-12-31T00:00:00\",\"1981-03-31T00:00:00\",\"1981-06-30T00:00:00\",\"1981-09-30T00:00:00\",\"1981-12-31T00:00:00\",\"1982-03-31T00:00:00\",\"1982-06-30T00:00:00\",\"1982-09-30T00:00:00\",\"1982-12-31T00:00:00\",\"1983-03-31T00:00:00\",\"1983-06-30T00:00:00\",\"1983-09-30T00:00:00\",\"1983-12-31T00:00:00\",\"1984-03-31T00:00:00\",\"1984-06-30T00:00:00\",\"1984-09-30T00:00:00\",\"1984-12-31T00:00:00\",\"1985-03-31T00:00:00\",\"1985-06-30T00:00:00\",\"1985-09-30T00:00:00\",\"1985-12-31T00:00:00\",\"1986-03-31T00:00:00\",\"1986-06-30T00:00:00\",\"1986-09-30T00:00:00\",\"1986-12-31T00:00:00\",\"1987-03-31T00:00:00\",\"1987-06-30T00:00:00\",\"1987-09-30T00:00:00\",\"1987-12-31T00:00:00\",\"1988-03-31T00:00:00\",\"1988-06-30T00:00:00\",\"1988-09-30T00:00:00\",\"1988-12-31T00:00:00\",\"1989-03-31T00:00:00\",\"1989-06-30T00:00:00\",\"1989-09-30T00:00:00\",\"1989-12-31T00:00:00\",\"1990-03-31T00:00:00\",\"1990-06-30T00:00:00\",\"1990-09-30T00:00:00\",\"1990-12-31T00:00:00\",\"1991-03-31T00:00:00\",\"1991-06-30T00:00:00\",\"1991-09-30T00:00:00\",\"1991-12-31T00:00:00\",\"1992-03-31T00:00:00\",\"1992-06-30T00:00:00\",\"1992-09-30T00:00:00\",\"1992-12-31T00:00:00\",\"1993-03-31T00:00:00\",\"1993-06-30T00:00:00\",\"1993-09-30T00:00:00\",\"1993-12-31T00:00:00\",\"1994-03-31T00:00:00\",\"1994-06-30T00:00:00\",\"1994-09-30T00:00:00\",\"1994-12-31T00:00:00\",\"1995-03-31T00:00:00\",\"1995-06-30T00:00:00\",\"1995-09-30T00:00:00\",\"1995-12-31T00:00:00\",\"1996-03-31T00:00:00\",\"1996-06-30T00:00:00\",\"1996-09-30T00:00:00\",\"1996-12-31T00:00:00\",\"1997-03-31T00:00:00\",\"1997-06-30T00:00:00\",\"1997-09-30T00:00:00\",\"1997-12-31T00:00:00\",\"1998-03-31T00:00:00\",\"1998-06-30T00:00:00\",\"1998-09-30T00:00:00\",\"1998-12-31T00:00:00\",\"1999-03-31T00:00:00\",\"1999-06-30T00:00:00\",\"1999-09-30T00:00:00\",\"1999-12-31T00:00:00\",\"2000-03-31T00:00:00\",\"2000-06-30T00:00:00\",\"2000-09-30T00:00:00\",\"2000-12-31T00:00:00\",\"2001-03-31T00:00:00\",\"2001-06-30T00:00:00\",\"2001-09-30T00:00:00\",\"2001-12-31T00:00:00\",\"2002-03-31T00:00:00\",\"2002-06-30T00:00:00\",\"2002-09-30T00:00:00\",\"2002-12-31T00:00:00\",\"2003-03-31T00:00:00\",\"2003-06-30T00:00:00\",\"2003-09-30T00:00:00\",\"2003-12-31T00:00:00\",\"2004-03-31T00:00:00\",\"2004-06-30T00:00:00\",\"2004-09-30T00:00:00\",\"2004-12-31T00:00:00\",\"2005-03-31T00:00:00\",\"2005-06-30T00:00:00\",\"2005-09-30T00:00:00\",\"2005-12-31T00:00:00\",\"2006-03-31T00:00:00\",\"2006-06-30T00:00:00\",\"2006-09-30T00:00:00\",\"2006-12-31T00:00:00\",\"2007-03-31T00:00:00\",\"2007-06-30T00:00:00\",\"2007-09-30T00:00:00\",\"2007-12-31T00:00:00\",\"2008-03-31T00:00:00\",\"2008-06-30T00:00:00\",\"2008-09-30T00:00:00\",\"2008-12-31T00:00:00\",\"2009-03-31T00:00:00\",\"2009-06-30T00:00:00\",\"2009-09-30T00:00:00\",\"2009-12-31T00:00:00\",\"2010-03-31T00:00:00\",\"2010-06-30T00:00:00\",\"2010-09-30T00:00:00\",\"2010-12-31T00:00:00\",\"2011-03-31T00:00:00\",\"2011-06-30T00:00:00\",\"2011-09-30T00:00:00\",\"2011-12-31T00:00:00\",\"2012-03-31T00:00:00\",\"2012-06-30T00:00:00\",\"2012-09-30T00:00:00\",\"2012-12-31T00:00:00\",\"2013-03-31T00:00:00\",\"2013-06-30T00:00:00\",\"2013-09-30T00:00:00\",\"2013-12-31T00:00:00\",\"2014-03-31T00:00:00\",\"2014-06-30T00:00:00\",\"2014-09-30T00:00:00\",\"2014-12-31T00:00:00\",\"2015-03-31T00:00:00\",\"2015-06-30T00:00:00\",\"2015-09-30T00:00:00\",\"2015-12-31T00:00:00\",\"2016-03-31T00:00:00\",\"2016-06-30T00:00:00\",\"2016-09-30T00:00:00\",\"2016-12-31T00:00:00\",\"2017-03-31T00:00:00\",\"2017-06-30T00:00:00\",\"2017-09-30T00:00:00\",\"2017-12-31T00:00:00\",\"2018-03-31T00:00:00\",\"2018-06-30T00:00:00\",\"2018-09-30T00:00:00\",\"2018-12-31T00:00:00\",\"2019-03-31T00:00:00\",\"2019-06-30T00:00:00\",\"2019-09-30T00:00:00\",\"2019-12-31T00:00:00\",\"2020-03-31T00:00:00\",\"2020-06-30T00:00:00\",\"2020-09-30T00:00:00\",\"2020-12-31T00:00:00\",\"2021-03-31T00:00:00\",\"2021-06-30T00:00:00\",\"2021-09-30T00:00:00\"],\"xaxis\":\"x\",\"y\":[300597.13701431494,323251.09560136346,318602.6131293818,351978.2355227361,311978.16560313676,327476.79196469334,324807.0149141872,360276.65012780036,314706.77375359903,338405.24470193626,337228.74012729083,371701.5887635275,332177.4565585115,354427.182980026,370629.6851574213,390941.8955740481,355883.8221651324,359595.10157853755,359642.30171073094,396246.42433544964,351462.5165010769,373759.5552466991,371706.7108533555,421236.55913978495,376007.6907230653,398203.6338704148,390636.9339879978,425183.3242802825,377536.81934873667,402029.49533216073,399619.90090273536,444503.3292566925,403298.34067050455,433511.50202977,431771.92154748266,474566.4739884393,427639.0655331682,443679.7659418844,439536.4151191887,482939.4435351882,434152.9877376241,456276.1910901941,456660.4847477137,491156.6357042881,435828.30568124686,457003.95207327016,457312.10430640006,504521.51009657595,463350.98100280284,491296.52605459053,485306.4496238747,520268.6127805715,478288.8290053896,508761.34771217935,495429.4385432473,531550.6405607929,484931.83737483417,511993.2432432432,506882.66410194756,551759.3370961931,509284.9455936865,539648.4956806672,530879.3820558527,577258.4562525917,529072.6520968695,560303.1375324369,556649.8415306961,600052.6285012573,560179.2573623561,590603.9488966318,592666.1264181524,636300.6980903479,588624.9928115476,626932.5399095955,626251.2826359594,688775.2202330207,631412.136250846,663934.8847616916,665591.5172375506,712753.4156015865,650953.0348805274,688458.8048767154,686539.1907263963,727810.3013051185,682844.3877551021,721322.601010101,730674.3035667796,777289.1131939439,714056.2044167899,752852.8982222894,753701.4925373134,799911.4739585896,734853.4201954398,770135.115641679,773893.9949521407,812829.6742043156,754857.4888226527,798742.8624055994,801609.7405262439,854849.528643945,796241.4782920703,845154.960981048,853589.4262222616,911991.9323014865,856441.6912146941,894959.4117897063,890191.1678771185,932617.5869120655,845154.4999602828,892537.9475493416,891451.3520628832,914287.2863326241,850354.6865435166,902180.7961862747,912324.5093245792,960209.5139962219,907065.9374256887,952258.7165234968,955367.1566512925,1012788.2668060364,949032.5685865555,987601.7414347909,996145.9563622801,1056231.8041126535,985339.9668325041,1036745.8488447675,1043105.6008826689,1097999.5440556253,1031911.6207523423,1055377.9979854627,1058170.8548052914,1116315.680273873,1043665.0216537415,1041787.7067512103,1050452.6788501719,1112771.541724275,1038201.5029350633,1069985.3981803886,1074608.822489392,1125104.4841097086,1053001.87012317,1079394.0426256733,1083207.9149810302,1156213.717034334,1086703.4074317794,1142477.5334705438,1155116.8590852409,1235220.1886189259,1166718.0581910184,1208370.690836482,1205130.3469443258,1282774.7316395089,1214794.1075449376,1266990.9712100849,1281600.1502488498,1351139.5426908873,1268510.5279727401,1317957.844391302,1336267.242015195,1403570.708459353,1304376.4073509118,1371757.9769056442,1381640.3257131658,1448402.1410779585,1370431.5210151786,1420385.2021357743,1431977.0528298654,1513197.8232491906,1413423.279979888,1463032.9088804366,1477074.7024396658,1549990.2133489922,1452496.8648509597,1501935.8230832962,1507499.7640099432,1560043.166361293,1448651.529193698,1502123.148774043,1512203.0122228495,1570776.2695430857,1496174.402673853,1548466.9917142773,1565111.1639519678,1646054.2822143836,1543018.1039288752,1606085.68930341,1622349.748977045,1702436.7020125515,1609808.2341440977,1666662.8545288197,1680857.0130865532,1767356.0782651692,1652617.6685598604,1721991.4460626729,1734860.3803001198,1813823.211464368,1719977.9477637652,1782111.1719605695,1790462.4277456645,1870866.0564371985,1780816.4145703577,1834797.2836683926,1865359.9066536122,1952721.4385988368,1854927.073167471,1946343.5464930073,1966437.39939069,2060824.7969852977,1964663.4265206396,2049196.0652629086,2067114.9992796995,2162190.0261647208,2085906.3089120162,2155788.7296793675,2163810.362879542,2253006.5259896903,2148522.962141453,2207728.2990466636,2205962.888665998,2307654.8068126272,2205633.380028017,2256598.877632102,2273752.7945554033,2369229.6343652415,2255181.795998048,2327277.4920162843,2355726.429488267,2455386.9883234724,2355356.523610796,2407910.7721911417,2430612.3896315736,2553358.8824039567,2427858.824077742,2506026.816729192,2532658.625153213,2625423.6132419626,2510419.21041921,2584418.7427854175,2590801.2595831803,2699741.4263901114,2584696.604890548,2647856.751724893,2652515.0554847703,2752068.7350423667,2644296.285207126,2678327.8619082915,2643605.2725329534,2688645.051376244,2566024.87135506,2620182.5947677516,2632563.7626597383,2695643.114226179,2587351.7910870225,2673014.3610785464,2687016.2975344756,2768006.8097121445,2652239.482000762,2725323.397792026,2725884.549430256,2793781.225348409,2698602.473551485,2760717.2209192775,2752881.1560601215,2834526.211180124,2714369.1762306043,2793133.7139690677,2800672.1264622696,2902860.8161422657,2768660.1422097203,2862679.7931892397,2883733.4160310896,2999774.908071292,2867534.4160715505,2961752.586315555,2979761.870218302,3083421.7609356544,2949676.7950454806,3033797.805537124,3048463.7714482797,3154605.614463346,3005114.3206668627,3110337.8819257286,3122496.278570217,3244592.001946636,3097921.9547571894,3205832.871140691,3218205.8557977555,3322029.1238083,3150633.839610622,3274392.9420119636,3292603.6899832934,3407401.178980869,3163269.518504498,2936098.8677810864,3194424.6120728315,3335229.2020373517,3225905.1075506774,3418226.974458184,3428117.9294384844],\"yaxis\":\"y\",\"type\":\"scatter\"},{\"hovertemplate\":\"<b>LOWESS trendline</b><br><br>Date=%{x}<br>RealPCE=%{y} <b>(trend)</b><extra></extra>\",\"legendgroup\":\"\",\"line\":{\"color\":\"red\"},\"marker\":{\"color\":\"#636efa\",\"symbol\":\"circle\"},\"mode\":\"lines\",\"name\":\"\",\"showlegend\":false,\"x\":[\"1947-03-31T00:00:00\",\"1947-06-30T00:00:00\",\"1947-09-30T00:00:00\",\"1947-12-31T00:00:00\",\"1948-03-31T00:00:00\",\"1948-06-30T00:00:00\",\"1948-09-30T00:00:00\",\"1948-12-31T00:00:00\",\"1949-03-31T00:00:00\",\"1949-06-30T00:00:00\",\"1949-09-30T00:00:00\",\"1949-12-31T00:00:00\",\"1950-03-31T00:00:00\",\"1950-06-30T00:00:00\",\"1950-09-30T00:00:00\",\"1950-12-31T00:00:00\",\"1951-03-31T00:00:00\",\"1951-06-30T00:00:00\",\"1951-09-30T00:00:00\",\"1951-12-31T00:00:00\",\"1952-03-31T00:00:00\",\"1952-06-30T00:00:00\",\"1952-09-30T00:00:00\",\"1952-12-31T00:00:00\",\"1953-03-31T00:00:00\",\"1953-06-30T00:00:00\",\"1953-09-30T00:00:00\",\"1953-12-31T00:00:00\",\"1954-03-31T00:00:00\",\"1954-06-30T00:00:00\",\"1954-09-30T00:00:00\",\"1954-12-31T00:00:00\",\"1955-03-31T00:00:00\",\"1955-06-30T00:00:00\",\"1955-09-30T00:00:00\",\"1955-12-31T00:00:00\",\"1956-03-31T00:00:00\",\"1956-06-30T00:00:00\",\"1956-09-30T00:00:00\",\"1956-12-31T00:00:00\",\"1957-03-31T00:00:00\",\"1957-06-30T00:00:00\",\"1957-09-30T00:00:00\",\"1957-12-31T00:00:00\",\"1958-03-31T00:00:00\",\"1958-06-30T00:00:00\",\"1958-09-30T00:00:00\",\"1958-12-31T00:00:00\",\"1959-03-31T00:00:00\",\"1959-06-30T00:00:00\",\"1959-09-30T00:00:00\",\"1959-12-31T00:00:00\",\"1960-03-31T00:00:00\",\"1960-06-30T00:00:00\",\"1960-09-30T00:00:00\",\"1960-12-31T00:00:00\",\"1961-03-31T00:00:00\",\"1961-06-30T00:00:00\",\"1961-09-30T00:00:00\",\"1961-12-31T00:00:00\",\"1962-03-31T00:00:00\",\"1962-06-30T00:00:00\",\"1962-09-30T00:00:00\",\"1962-12-31T00:00:00\",\"1963-03-31T00:00:00\",\"1963-06-30T00:00:00\",\"1963-09-30T00:00:00\",\"1963-12-31T00:00:00\",\"1964-03-31T00:00:00\",\"1964-06-30T00:00:00\",\"1964-09-30T00:00:00\",\"1964-12-31T00:00:00\",\"1965-03-31T00:00:00\",\"1965-06-30T00:00:00\",\"1965-09-30T00:00:00\",\"1965-12-31T00:00:00\",\"1966-03-31T00:00:00\",\"1966-06-30T00:00:00\",\"1966-09-30T00:00:00\",\"1966-12-31T00:00:00\",\"1967-03-31T00:00:00\",\"1967-06-30T00:00:00\",\"1967-09-30T00:00:00\",\"1967-12-31T00:00:00\",\"1968-03-31T00:00:00\",\"1968-06-30T00:00:00\",\"1968-09-30T00:00:00\",\"1968-12-31T00:00:00\",\"1969-03-31T00:00:00\",\"1969-06-30T00:00:00\",\"1969-09-30T00:00:00\",\"1969-12-31T00:00:00\",\"1970-03-31T00:00:00\",\"1970-06-30T00:00:00\",\"1970-09-30T00:00:00\",\"1970-12-31T00:00:00\",\"1971-03-31T00:00:00\",\"1971-06-30T00:00:00\",\"1971-09-30T00:00:00\",\"1971-12-31T00:00:00\",\"1972-03-31T00:00:00\",\"1972-06-30T00:00:00\",\"1972-09-30T00:00:00\",\"1972-12-31T00:00:00\",\"1973-03-31T00:00:00\",\"1973-06-30T00:00:00\",\"1973-09-30T00:00:00\",\"1973-12-31T00:00:00\",\"1974-03-31T00:00:00\",\"1974-06-30T00:00:00\",\"1974-09-30T00:00:00\",\"1974-12-31T00:00:00\",\"1975-03-31T00:00:00\",\"1975-06-30T00:00:00\",\"1975-09-30T00:00:00\",\"1975-12-31T00:00:00\",\"1976-03-31T00:00:00\",\"1976-06-30T00:00:00\",\"1976-09-30T00:00:00\",\"1976-12-31T00:00:00\",\"1977-03-31T00:00:00\",\"1977-06-30T00:00:00\",\"1977-09-30T00:00:00\",\"1977-12-31T00:00:00\",\"1978-03-31T00:00:00\",\"1978-06-30T00:00:00\",\"1978-09-30T00:00:00\",\"1978-12-31T00:00:00\",\"1979-03-31T00:00:00\",\"1979-06-30T00:00:00\",\"1979-09-30T00:00:00\",\"1979-12-31T00:00:00\",\"1980-03-31T00:00:00\",\"1980-06-30T00:00:00\",\"1980-09-30T00:00:00\",\"1980-12-31T00:00:00\",\"1981-03-31T00:00:00\",\"1981-06-30T00:00:00\",\"1981-09-30T00:00:00\",\"1981-12-31T00:00:00\",\"1982-03-31T00:00:00\",\"1982-06-30T00:00:00\",\"1982-09-30T00:00:00\",\"1982-12-31T00:00:00\",\"1983-03-31T00:00:00\",\"1983-06-30T00:00:00\",\"1983-09-30T00:00:00\",\"1983-12-31T00:00:00\",\"1984-03-31T00:00:00\",\"1984-06-30T00:00:00\",\"1984-09-30T00:00:00\",\"1984-12-31T00:00:00\",\"1985-03-31T00:00:00\",\"1985-06-30T00:00:00\",\"1985-09-30T00:00:00\",\"1985-12-31T00:00:00\",\"1986-03-31T00:00:00\",\"1986-06-30T00:00:00\",\"1986-09-30T00:00:00\",\"1986-12-31T00:00:00\",\"1987-03-31T00:00:00\",\"1987-06-30T00:00:00\",\"1987-09-30T00:00:00\",\"1987-12-31T00:00:00\",\"1988-03-31T00:00:00\",\"1988-06-30T00:00:00\",\"1988-09-30T00:00:00\",\"1988-12-31T00:00:00\",\"1989-03-31T00:00:00\",\"1989-06-30T00:00:00\",\"1989-09-30T00:00:00\",\"1989-12-31T00:00:00\",\"1990-03-31T00:00:00\",\"1990-06-30T00:00:00\",\"1990-09-30T00:00:00\",\"1990-12-31T00:00:00\",\"1991-03-31T00:00:00\",\"1991-06-30T00:00:00\",\"1991-09-30T00:00:00\",\"1991-12-31T00:00:00\",\"1992-03-31T00:00:00\",\"1992-06-30T00:00:00\",\"1992-09-30T00:00:00\",\"1992-12-31T00:00:00\",\"1993-03-31T00:00:00\",\"1993-06-30T00:00:00\",\"1993-09-30T00:00:00\",\"1993-12-31T00:00:00\",\"1994-03-31T00:00:00\",\"1994-06-30T00:00:00\",\"1994-09-30T00:00:00\",\"1994-12-31T00:00:00\",\"1995-03-31T00:00:00\",\"1995-06-30T00:00:00\",\"1995-09-30T00:00:00\",\"1995-12-31T00:00:00\",\"1996-03-31T00:00:00\",\"1996-06-30T00:00:00\",\"1996-09-30T00:00:00\",\"1996-12-31T00:00:00\",\"1997-03-31T00:00:00\",\"1997-06-30T00:00:00\",\"1997-09-30T00:00:00\",\"1997-12-31T00:00:00\",\"1998-03-31T00:00:00\",\"1998-06-30T00:00:00\",\"1998-09-30T00:00:00\",\"1998-12-31T00:00:00\",\"1999-03-31T00:00:00\",\"1999-06-30T00:00:00\",\"1999-09-30T00:00:00\",\"1999-12-31T00:00:00\",\"2000-03-31T00:00:00\",\"2000-06-30T00:00:00\",\"2000-09-30T00:00:00\",\"2000-12-31T00:00:00\",\"2001-03-31T00:00:00\",\"2001-06-30T00:00:00\",\"2001-09-30T00:00:00\",\"2001-12-31T00:00:00\",\"2002-03-31T00:00:00\",\"2002-06-30T00:00:00\",\"2002-09-30T00:00:00\",\"2002-12-31T00:00:00\",\"2003-03-31T00:00:00\",\"2003-06-30T00:00:00\",\"2003-09-30T00:00:00\",\"2003-12-31T00:00:00\",\"2004-03-31T00:00:00\",\"2004-06-30T00:00:00\",\"2004-09-30T00:00:00\",\"2004-12-31T00:00:00\",\"2005-03-31T00:00:00\",\"2005-06-30T00:00:00\",\"2005-09-30T00:00:00\",\"2005-12-31T00:00:00\",\"2006-03-31T00:00:00\",\"2006-06-30T00:00:00\",\"2006-09-30T00:00:00\",\"2006-12-31T00:00:00\",\"2007-03-31T00:00:00\",\"2007-06-30T00:00:00\",\"2007-09-30T00:00:00\",\"2007-12-31T00:00:00\",\"2008-03-31T00:00:00\",\"2008-06-30T00:00:00\",\"2008-09-30T00:00:00\",\"2008-12-31T00:00:00\",\"2009-03-31T00:00:00\",\"2009-06-30T00:00:00\",\"2009-09-30T00:00:00\",\"2009-12-31T00:00:00\",\"2010-03-31T00:00:00\",\"2010-06-30T00:00:00\",\"2010-09-30T00:00:00\",\"2010-12-31T00:00:00\",\"2011-03-31T00:00:00\",\"2011-06-30T00:00:00\",\"2011-09-30T00:00:00\",\"2011-12-31T00:00:00\",\"2012-03-31T00:00:00\",\"2012-06-30T00:00:00\",\"2012-09-30T00:00:00\",\"2012-12-31T00:00:00\",\"2013-03-31T00:00:00\",\"2013-06-30T00:00:00\",\"2013-09-30T00:00:00\",\"2013-12-31T00:00:00\",\"2014-03-31T00:00:00\",\"2014-06-30T00:00:00\",\"2014-09-30T00:00:00\",\"2014-12-31T00:00:00\",\"2015-03-31T00:00:00\",\"2015-06-30T00:00:00\",\"2015-09-30T00:00:00\",\"2015-12-31T00:00:00\",\"2016-03-31T00:00:00\",\"2016-06-30T00:00:00\",\"2016-09-30T00:00:00\",\"2016-12-31T00:00:00\",\"2017-03-31T00:00:00\",\"2017-06-30T00:00:00\",\"2017-09-30T00:00:00\",\"2017-12-31T00:00:00\",\"2018-03-31T00:00:00\",\"2018-06-30T00:00:00\",\"2018-09-30T00:00:00\",\"2018-12-31T00:00:00\",\"2019-03-31T00:00:00\",\"2019-06-30T00:00:00\",\"2019-09-30T00:00:00\",\"2019-12-31T00:00:00\",\"2020-03-31T00:00:00\",\"2020-06-30T00:00:00\",\"2020-09-30T00:00:00\",\"2020-12-31T00:00:00\",\"2021-03-31T00:00:00\",\"2021-06-30T00:00:00\",\"2021-09-30T00:00:00\"],\"xaxis\":\"x\",\"y\":[229736.3227061355,235561.33184620517,241456.94949880982,247359.2866145565,253204.15413613027,259055.73733033775,264978.5100512239,270908.25961905945,276715.8963310469,282594.9305363514,288545.62065606023,294503.42538344994,300338.6146370998,306245.5900065395,312224.5871205539,318210.7322370078,324073.6524949443,330008.6478599951,336015.92689619947,342030.2826128619,347986.19674563623,353948.96958745,359984.20084809954,366026.36120507424,371943.83078559017,377933.6975518775,383996.12745952804,390065.2761241993,396008.92849409964,402025.0352435862,408113.74275654525,414208.90698197926,420177.74758676096,426219.05145176675,432332.94768287626,438453.00446199824,444512.5200372593,450577.9011071499,456715.8113141026,462859.5422989823,468875.26018947613,474963.3074112574,481123.7748053603,487289.69857090956,493326.7707681948,499436.049639526,505617.614172447,511804.2676887179,517861.2680388905,523990.3494062422,530191.5852656236,536397.5649095898,542540.6736088856,548688.2626982138,554907.8840483688,561131.9300696889,567224.8818814526,573389.6996793179,579626.4571124675,585867.3717162303,591976.5838530338,598157.6184047012,604410.5617413863,610667.4734545898,616792.1741192205,622988.7308405807,629257.2511813662,635529.6519901487,641737.6906170294,647949.531029443,654233.5160199236,660521.434962681,666676.5080235926,672903.8940196353,679203.7960226954,685507.8976851588,691679.1300854385,697923.2671526873,704240.6248732498,710562.8270622379,716752.5335085623,723016.2991997742,729354.7000638011,735699.4415225624,741982.0774446516,748272.3014834668,754640.3381966664,761018.3402555408,767268.803741411,773601.7128774868,780019.7950584646,786456.3887160463,792774.2869816312,799187.6922609556,805702.1803857704,812252.9038564856,818702.0500345473,825269.881335164,831963.698299427,838723.4557149467,846125.2378928576,853571.8177183332,861160.8886467406,868811.0462234768,876339.9747391694,883998.0217919941,891794.6141114963,899668.0880585557,907409.7042111551,915284.4266618078,923302.0550650825,931399.1711899434,939362.2855893531,947471.5825182563,955722.5898273265,964050.4037480472,972342.3399001944,980689.6567039136,989202.1979852654,997790.3733132466,1006250.9809886889,1014865.9460217382,1023647.0064366501,1032527.2863420696,1041270.241256803,1050175.2962385204,1059254.7829387463,1068440.8609214653,1077485.8680768728,1086709.5341605805,1096104.9366413644,1105602.5322837068,1115067.7018430256,1124602.8160339114,1134336.073252093,1144163.9543566436,1153847.7772869663,1163708.2868154526,1173759.5180803644,1183930.6583723775,1193936.9464848032,1204121.9085926788,1214500.310392625,1225000.2381911364,1235325.2301905018,1245844.11019095,1256545.1774854474,1267354.6927962955,1278112.0290846531,1288933.441937523,1299967.9165869202,1311097.1206141487,1322047.3191336282,1333181.5862281667,1344516.9985362324,1355976.7552827836,1367233.6425630879,1378675.9433105728,1390320.8491582554,1402088.611317577,1413643.5438320679,1425399.5773150236,1437342.6688030798,1449389.3750132383,1461360.0551612943,1473383.9457156903,1485623.8461849228,1497945.9616045791,1510048.6085481024,1522332.8885417876,1534814.347367771,1547399.7578204155,1559739.4567417905,1572257.4014139436,1584968.2857101716,1597773.5629947053,1610323.7540035432,1623062.4996948477,1635977.5494948195,1648965.9120085475,1661846.774572043,1674760.879186875,1687873.9223848735,1701042.2922303355,1713955.3175006516,1727043.0306814006,1740317.3510820707,1753663.4177473248,1766739.6159969924,1779991.9691661035,1793431.4373809353,1806937.8993685273,1820172.9354583886,1833594.735142475,1847197.0710065905,1860855.4504579885,1874397.9019846413,1887973.2104285199,1901744.7549988832,1915562.2894821025,1929647.9705477734,1943892.4816913898,1958297.9776167965,1972709.4140162559,1986814.2893366835,2001083.3382769465,2015517.309178481,2029959.8133337635,2044096.868160694,2058399.753868333,2072868.9078193568,2087347.3158220232,2101677.5271823867,2116016.902075622,2130523.180325838,2145038.824063274,2159247.934839368,2173623.9354365333,2188167.044857993,2202719.2388324873,2216963.7637060005,2231375.166595524,2245953.5960237416,2260540.5847117705,2274818.594404738,2289263.257541687,2303874.666774766,2318493.951890162,2332961.8921374157,2347437.155141345,2362078.7268829085,2376727.3668622016,2391064.1877701525,2405566.7565083704,2420235.062726129,2434909.5401383145,2449270.7493479573,2463797.068171738,2478488.4398013703,2493185.016926323,2507566.8991059694,2522113.1596814874,2536823.7013964336,2551538.445011913,2566097.1273811692,2580659.4201168474,2595385.1542512937,2610114.06741557,2624525.6187153356,2639099.9049075427,2653836.777956421,2668575.8679184113,2682996.4788776827,2697579.0631375615,2712323.484705474,2727069.31828134,2741495.7850015396,2756083.579990884,2770832.578062423,2785582.3272274416,2800172.351672734,2814762.8389920453,2829514.0090685547,2844265.416133711,2858696.2712948443,2873287.5096259983,2888039.0515487916,2902790.483761005,2917221.069115377,2931811.778155654,2946562.562077266,2961313.0502484995,2975742.56588538,2990332.0760310297,3005081.5558340377,3019830.671356032,3034419.1073314245,3049007.1760536036,3063755.180417789,3078502.8149778345,3092929.4971204083,3107516.1255151406,3122262.698264089,3137008.933096212,3151434.2814448243,3166019.598866493,3180764.883217863,3195509.8605063,3209933.998088618,3224518.0989554487,3239262.1492587035,3254005.8750425936,3268589.009188188,3283171.7900296445,3297914.4474321543,3312656.7194090066,3327078.1334388657,3341659.4113629814,3356400.5493979584],\"yaxis\":\"y\",\"type\":\"scatter\"}],                        {\"template\":{\"data\":{\"bar\":[{\"error_x\":{\"color\":\"#2a3f5f\"},\"error_y\":{\"color\":\"#2a3f5f\"},\"marker\":{\"line\":{\"color\":\"#E5ECF6\",\"width\":0.5},\"pattern\":{\"fillmode\":\"overlay\",\"size\":10,\"solidity\":0.2}},\"type\":\"bar\"}],\"barpolar\":[{\"marker\":{\"line\":{\"color\":\"#E5ECF6\",\"width\":0.5},\"pattern\":{\"fillmode\":\"overlay\",\"size\":10,\"solidity\":0.2}},\"type\":\"barpolar\"}],\"carpet\":[{\"aaxis\":{\"endlinecolor\":\"#2a3f5f\",\"gridcolor\":\"white\",\"linecolor\":\"white\",\"minorgridcolor\":\"white\",\"startlinecolor\":\"#2a3f5f\"},\"baxis\":{\"endlinecolor\":\"#2a3f5f\",\"gridcolor\":\"white\",\"linecolor\":\"white\",\"minorgridcolor\":\"white\",\"startlinecolor\":\"#2a3f5f\"},\"type\":\"carpet\"}],\"choropleth\":[{\"colorbar\":{\"outlinewidth\":0,\"ticks\":\"\"},\"type\":\"choropleth\"}],\"contour\":[{\"colorbar\":{\"outlinewidth\":0,\"ticks\":\"\"},\"colorscale\":[[0.0,\"#0d0887\"],[0.1111111111111111,\"#46039f\"],[0.2222222222222222,\"#7201a8\"],[0.3333333333333333,\"#9c179e\"],[0.4444444444444444,\"#bd3786\"],[0.5555555555555556,\"#d8576b\"],[0.6666666666666666,\"#ed7953\"],[0.7777777777777778,\"#fb9f3a\"],[0.8888888888888888,\"#fdca26\"],[1.0,\"#f0f921\"]],\"type\":\"contour\"}],\"contourcarpet\":[{\"colorbar\":{\"outlinewidth\":0,\"ticks\":\"\"},\"type\":\"contourcarpet\"}],\"heatmap\":[{\"colorbar\":{\"outlinewidth\":0,\"ticks\":\"\"},\"colorscale\":[[0.0,\"#0d0887\"],[0.1111111111111111,\"#46039f\"],[0.2222222222222222,\"#7201a8\"],[0.3333333333333333,\"#9c179e\"],[0.4444444444444444,\"#bd3786\"],[0.5555555555555556,\"#d8576b\"],[0.6666666666666666,\"#ed7953\"],[0.7777777777777778,\"#fb9f3a\"],[0.8888888888888888,\"#fdca26\"],[1.0,\"#f0f921\"]],\"type\":\"heatmap\"}],\"heatmapgl\":[{\"colorbar\":{\"outlinewidth\":0,\"ticks\":\"\"},\"colorscale\":[[0.0,\"#0d0887\"],[0.1111111111111111,\"#46039f\"],[0.2222222222222222,\"#7201a8\"],[0.3333333333333333,\"#9c179e\"],[0.4444444444444444,\"#bd3786\"],[0.5555555555555556,\"#d8576b\"],[0.6666666666666666,\"#ed7953\"],[0.7777777777777778,\"#fb9f3a\"],[0.8888888888888888,\"#fdca26\"],[1.0,\"#f0f921\"]],\"type\":\"heatmapgl\"}],\"histogram\":[{\"marker\":{\"pattern\":{\"fillmode\":\"overlay\",\"size\":10,\"solidity\":0.2}},\"type\":\"histogram\"}],\"histogram2d\":[{\"colorbar\":{\"outlinewidth\":0,\"ticks\":\"\"},\"colorscale\":[[0.0,\"#0d0887\"],[0.1111111111111111,\"#46039f\"],[0.2222222222222222,\"#7201a8\"],[0.3333333333333333,\"#9c179e\"],[0.4444444444444444,\"#bd3786\"],[0.5555555555555556,\"#d8576b\"],[0.6666666666666666,\"#ed7953\"],[0.7777777777777778,\"#fb9f3a\"],[0.8888888888888888,\"#fdca26\"],[1.0,\"#f0f921\"]],\"type\":\"histogram2d\"}],\"histogram2dcontour\":[{\"colorbar\":{\"outlinewidth\":0,\"ticks\":\"\"},\"colorscale\":[[0.0,\"#0d0887\"],[0.1111111111111111,\"#46039f\"],[0.2222222222222222,\"#7201a8\"],[0.3333333333333333,\"#9c179e\"],[0.4444444444444444,\"#bd3786\"],[0.5555555555555556,\"#d8576b\"],[0.6666666666666666,\"#ed7953\"],[0.7777777777777778,\"#fb9f3a\"],[0.8888888888888888,\"#fdca26\"],[1.0,\"#f0f921\"]],\"type\":\"histogram2dcontour\"}],\"mesh3d\":[{\"colorbar\":{\"outlinewidth\":0,\"ticks\":\"\"},\"type\":\"mesh3d\"}],\"parcoords\":[{\"line\":{\"colorbar\":{\"outlinewidth\":0,\"ticks\":\"\"}},\"type\":\"parcoords\"}],\"pie\":[{\"automargin\":true,\"type\":\"pie\"}],\"scatter\":[{\"marker\":{\"colorbar\":{\"outlinewidth\":0,\"ticks\":\"\"}},\"type\":\"scatter\"}],\"scatter3d\":[{\"line\":{\"colorbar\":{\"outlinewidth\":0,\"ticks\":\"\"}},\"marker\":{\"colorbar\":{\"outlinewidth\":0,\"ticks\":\"\"}},\"type\":\"scatter3d\"}],\"scattercarpet\":[{\"marker\":{\"colorbar\":{\"outlinewidth\":0,\"ticks\":\"\"}},\"type\":\"scattercarpet\"}],\"scattergeo\":[{\"marker\":{\"colorbar\":{\"outlinewidth\":0,\"ticks\":\"\"}},\"type\":\"scattergeo\"}],\"scattergl\":[{\"marker\":{\"colorbar\":{\"outlinewidth\":0,\"ticks\":\"\"}},\"type\":\"scattergl\"}],\"scattermapbox\":[{\"marker\":{\"colorbar\":{\"outlinewidth\":0,\"ticks\":\"\"}},\"type\":\"scattermapbox\"}],\"scatterpolar\":[{\"marker\":{\"colorbar\":{\"outlinewidth\":0,\"ticks\":\"\"}},\"type\":\"scatterpolar\"}],\"scatterpolargl\":[{\"marker\":{\"colorbar\":{\"outlinewidth\":0,\"ticks\":\"\"}},\"type\":\"scatterpolargl\"}],\"scatterternary\":[{\"marker\":{\"colorbar\":{\"outlinewidth\":0,\"ticks\":\"\"}},\"type\":\"scatterternary\"}],\"surface\":[{\"colorbar\":{\"outlinewidth\":0,\"ticks\":\"\"},\"colorscale\":[[0.0,\"#0d0887\"],[0.1111111111111111,\"#46039f\"],[0.2222222222222222,\"#7201a8\"],[0.3333333333333333,\"#9c179e\"],[0.4444444444444444,\"#bd3786\"],[0.5555555555555556,\"#d8576b\"],[0.6666666666666666,\"#ed7953\"],[0.7777777777777778,\"#fb9f3a\"],[0.8888888888888888,\"#fdca26\"],[1.0,\"#f0f921\"]],\"type\":\"surface\"}],\"table\":[{\"cells\":{\"fill\":{\"color\":\"#EBF0F8\"},\"line\":{\"color\":\"white\"}},\"header\":{\"fill\":{\"color\":\"#C8D4E3\"},\"line\":{\"color\":\"white\"}},\"type\":\"table\"}]},\"layout\":{\"annotationdefaults\":{\"arrowcolor\":\"#2a3f5f\",\"arrowhead\":0,\"arrowwidth\":1},\"autotypenumbers\":\"strict\",\"coloraxis\":{\"colorbar\":{\"outlinewidth\":0,\"ticks\":\"\"}},\"colorscale\":{\"diverging\":[[0,\"#8e0152\"],[0.1,\"#c51b7d\"],[0.2,\"#de77ae\"],[0.3,\"#f1b6da\"],[0.4,\"#fde0ef\"],[0.5,\"#f7f7f7\"],[0.6,\"#e6f5d0\"],[0.7,\"#b8e186\"],[0.8,\"#7fbc41\"],[0.9,\"#4d9221\"],[1,\"#276419\"]],\"sequential\":[[0.0,\"#0d0887\"],[0.1111111111111111,\"#46039f\"],[0.2222222222222222,\"#7201a8\"],[0.3333333333333333,\"#9c179e\"],[0.4444444444444444,\"#bd3786\"],[0.5555555555555556,\"#d8576b\"],[0.6666666666666666,\"#ed7953\"],[0.7777777777777778,\"#fb9f3a\"],[0.8888888888888888,\"#fdca26\"],[1.0,\"#f0f921\"]],\"sequentialminus\":[[0.0,\"#0d0887\"],[0.1111111111111111,\"#46039f\"],[0.2222222222222222,\"#7201a8\"],[0.3333333333333333,\"#9c179e\"],[0.4444444444444444,\"#bd3786\"],[0.5555555555555556,\"#d8576b\"],[0.6666666666666666,\"#ed7953\"],[0.7777777777777778,\"#fb9f3a\"],[0.8888888888888888,\"#fdca26\"],[1.0,\"#f0f921\"]]},\"colorway\":[\"#636efa\",\"#EF553B\",\"#00cc96\",\"#ab63fa\",\"#FFA15A\",\"#19d3f3\",\"#FF6692\",\"#B6E880\",\"#FF97FF\",\"#FECB52\"],\"font\":{\"color\":\"#2a3f5f\"},\"geo\":{\"bgcolor\":\"white\",\"lakecolor\":\"white\",\"landcolor\":\"#E5ECF6\",\"showlakes\":true,\"showland\":true,\"subunitcolor\":\"white\"},\"hoverlabel\":{\"align\":\"left\"},\"hovermode\":\"closest\",\"mapbox\":{\"style\":\"light\"},\"paper_bgcolor\":\"white\",\"plot_bgcolor\":\"#E5ECF6\",\"polar\":{\"angularaxis\":{\"gridcolor\":\"white\",\"linecolor\":\"white\",\"ticks\":\"\"},\"bgcolor\":\"#E5ECF6\",\"radialaxis\":{\"gridcolor\":\"white\",\"linecolor\":\"white\",\"ticks\":\"\"}},\"scene\":{\"xaxis\":{\"backgroundcolor\":\"#E5ECF6\",\"gridcolor\":\"white\",\"gridwidth\":2,\"linecolor\":\"white\",\"showbackground\":true,\"ticks\":\"\",\"zerolinecolor\":\"white\"},\"yaxis\":{\"backgroundcolor\":\"#E5ECF6\",\"gridcolor\":\"white\",\"gridwidth\":2,\"linecolor\":\"white\",\"showbackground\":true,\"ticks\":\"\",\"zerolinecolor\":\"white\"},\"zaxis\":{\"backgroundcolor\":\"#E5ECF6\",\"gridcolor\":\"white\",\"gridwidth\":2,\"linecolor\":\"white\",\"showbackground\":true,\"ticks\":\"\",\"zerolinecolor\":\"white\"}},\"shapedefaults\":{\"line\":{\"color\":\"#2a3f5f\"}},\"ternary\":{\"aaxis\":{\"gridcolor\":\"white\",\"linecolor\":\"white\",\"ticks\":\"\"},\"baxis\":{\"gridcolor\":\"white\",\"linecolor\":\"white\",\"ticks\":\"\"},\"bgcolor\":\"#E5ECF6\",\"caxis\":{\"gridcolor\":\"white\",\"linecolor\":\"white\",\"ticks\":\"\"}},\"title\":{\"x\":0.05},\"xaxis\":{\"automargin\":true,\"gridcolor\":\"white\",\"linecolor\":\"white\",\"ticks\":\"\",\"title\":{\"standoff\":15},\"zerolinecolor\":\"white\",\"zerolinewidth\":2},\"yaxis\":{\"automargin\":true,\"gridcolor\":\"white\",\"linecolor\":\"white\",\"ticks\":\"\",\"title\":{\"standoff\":15},\"zerolinecolor\":\"white\",\"zerolinewidth\":2}}},\"xaxis\":{\"anchor\":\"y\",\"domain\":[0.0,1.0],\"title\":{\"text\":\"Date\"}},\"yaxis\":{\"anchor\":\"x\",\"domain\":[0.0,1.0],\"title\":{\"text\":\"RealPCE\"}},\"legend\":{\"tracegroupgap\":0},\"title\":{\"text\":\"Consumer Spending w/ Trend Line (Lowess)\"}},                        {\"responsive\": true}                    ).then(function(){\n",
              "                            \n",
              "var gd = document.getElementById('bc8a9f23-8940-4b56-923d-0b674bf5624a');\n",
              "var x = new MutationObserver(function (mutations, observer) {{\n",
              "        var display = window.getComputedStyle(gd).display;\n",
              "        if (!display || display === 'none') {{\n",
              "            console.log([gd, 'removed!']);\n",
              "            Plotly.purge(gd);\n",
              "            observer.disconnect();\n",
              "        }}\n",
              "}});\n",
              "\n",
              "// Listen for the removal of the full notebook cells\n",
              "var notebookContainer = gd.closest('#notebook-container');\n",
              "if (notebookContainer) {{\n",
              "    x.observe(notebookContainer, {childList: true});\n",
              "}}\n",
              "\n",
              "// Listen for the clearing of the current output cell\n",
              "var outputEl = gd.closest('.output');\n",
              "if (outputEl) {{\n",
              "    x.observe(outputEl, {childList: true});\n",
              "}}\n",
              "\n",
              "                        })                };                            </script>        </div>\n",
              "</body>\n",
              "</html>"
            ]
          },
          "metadata": {}
        }
      ],
      "source": [
        "px.scatter(spending_df, x=\"Date\", y=\"RealPCE\", \n",
        "        trendline=\"lowess\", trendline_color_override=\"red\",\n",
        "        title=\"Consumer Spending w/ Trend Line (Lowess)\"\n",
        ")"
      ]
    },
    {
      "cell_type": "markdown",
      "source": [
        "### C) LINEAR REGRESSION (OLS)"
      ],
      "metadata": {
        "id": "M3KJ1jM9YLkv"
      }
    },
    {
      "cell_type": "code",
      "source": [
        "print(spending_df.columns)"
      ],
      "metadata": {
        "id": "hmvr610EodWb",
        "colab": {
          "base_uri": "https://localhost:8080/"
        },
        "outputId": "b9f568ac-984b-4047-f2cb-f9d6885af6f9"
      },
      "execution_count": 30,
      "outputs": [
        {
          "output_type": "stream",
          "name": "stdout",
          "text": [
            "Index(['Date', 'NominalPCE', 'PCEDeflator', 'RealPCE'], dtype='object')\n"
          ]
        }
      ]
    },
    {
      "cell_type": "code",
      "source": [
        "print(spending_df.head())"
      ],
      "metadata": {
        "id": "9zQ0BqYw6r5U",
        "colab": {
          "base_uri": "https://localhost:8080/"
        },
        "outputId": "c78cf25d-c965-4219-d498-a2c642a463b9"
      },
      "execution_count": 31,
      "outputs": [
        {
          "output_type": "stream",
          "name": "stdout",
          "text": [
            "        Date  NominalPCE  PCEDeflator        RealPCE\n",
            "0 1947-03-31       36748       12.225  300597.137014\n",
            "1 1947-06-30       39831       12.322  323251.095601\n",
            "2 1947-09-30       39991       12.552  318602.613129\n",
            "3 1947-12-31       45282       12.865  351978.235523\n",
            "4 1948-03-31       40579       13.007  311978.165603\n"
          ]
        }
      ]
    },
    {
      "cell_type": "code",
      "source": [
        "# specify the dependent and independent variables\n",
        "X = spending_df[[\"PCEDeflator\"]]\n",
        "y = spending_df[\"NominalPCE\"]\n",
        "\n",
        "# add a constant to the independent variable for the intercept term\n",
        "X = sm.add_constant(X)\n",
        "\n",
        "# fit the model\n",
        "model = sm.OLS(y, X).fit()\n",
        "\n",
        "# display the regression results\n",
        "print(model.summary())"
      ],
      "metadata": {
        "colab": {
          "base_uri": "https://localhost:8080/"
        },
        "id": "P6hGonRd9kWR",
        "outputId": "80422dc7-7147-4783-c7d4-bae591d6c953"
      },
      "execution_count": 32,
      "outputs": [
        {
          "output_type": "stream",
          "name": "stdout",
          "text": [
            "                            OLS Regression Results                            \n",
            "==============================================================================\n",
            "Dep. Variable:             NominalPCE   R-squared:                       0.927\n",
            "Model:                            OLS   Adj. R-squared:                  0.927\n",
            "Method:                 Least Squares   F-statistic:                     3786.\n",
            "Date:                Fri, 20 Jan 2023   Prob (F-statistic):          4.53e-171\n",
            "Time:                        20:55:44   Log-Likelihood:                -4200.1\n",
            "No. Observations:                 299   AIC:                             8404.\n",
            "Df Residuals:                     297   BIC:                             8412.\n",
            "Df Model:                           1                                         \n",
            "Covariance Type:            nonrobust                                         \n",
            "===============================================================================\n",
            "                  coef    std err          t      P>|t|      [0.025      0.975]\n",
            "-------------------------------------------------------------------------------\n",
            "const       -6.216e+05   3.29e+04    -18.871      0.000   -6.86e+05   -5.57e+05\n",
            "PCEDeflator  3.234e+04    525.576     61.530      0.000    3.13e+04    3.34e+04\n",
            "==============================================================================\n",
            "Omnibus:                        3.553   Durbin-Watson:                   0.037\n",
            "Prob(Omnibus):                  0.169   Jarque-Bera (JB):                2.515\n",
            "Skew:                           0.015   Prob(JB):                        0.284\n",
            "Kurtosis:                       2.552   Cond. No.                         117.\n",
            "==============================================================================\n",
            "\n",
            "Notes:\n",
            "[1] Standard Errors assume that the covariance matrix of the errors is correctly specified.\n"
          ]
        }
      ]
    },
    {
      "cell_type": "markdown",
      "source": [
        "### D) PLOT PREDICTIONS\n",
        "\n",
        "\n",
        "\n"
      ],
      "metadata": {
        "id": "DZKGkj4nyr4q"
      }
    },
    {
      "cell_type": "code",
      "source": [
        "# predict the values using the model\n",
        "y_pred = model.predict(X)\n",
        "\n",
        "# create the scatter plot\n",
        "plt.scatter(y, y_pred)\n",
        "plt.xlabel(\"RealPCE\")\n",
        "plt.ylabel(\"Predicted RealPCE\")\n",
        "plt.title(\"True vs Predicted RealPCE values\")\n",
        "plt.show()"
      ],
      "metadata": {
        "id": "ViVPGJzztWEU",
        "colab": {
          "base_uri": "https://localhost:8080/",
          "height": 295
        },
        "outputId": "feca391a-cf53-485f-f6d5-2ce737a667d5"
      },
      "execution_count": 33,
      "outputs": [
        {
          "output_type": "display_data",
          "data": {
            "text/plain": [
              "<Figure size 432x288 with 1 Axes>"
            ],
            "image/png": "[encoded data removed]"
          },
          "metadata": {
            "needs_background": "light"
          }
        }
      ]
    },
    {
      "cell_type": "markdown",
      "source": [
        "### E) PLOT RESIDUALS\n",
        "\n",
        "\n",
        "\n"
      ],
      "metadata": {
        "id": "Q4Q3rCKZR0AS"
      }
    },
    {
      "cell_type": "code",
      "source": [
        "# predict the values using the model\n",
        "y_pred = model.predict(X)\n",
        "\n",
        "# calculate the residuals\n",
        "residuals = y - y_pred\n",
        "\n",
        "# create the histogram of residuals\n",
        "plt.hist(residuals)\n",
        "plt.xlabel(\"Residual\")\n",
        "plt.ylabel(\"Frequency\")\n",
        "plt.title(\"Residuals\")\n",
        "plt.show()"
      ],
      "metadata": {
        "id": "fwtA_ZQm7r6W",
        "colab": {
          "base_uri": "https://localhost:8080/",
          "height": 295
        },
        "outputId": "d147963c-5e9f-4d83-e86e-3cb75a4f7be4"
      },
      "execution_count": 34,
      "outputs": [
        {
          "output_type": "display_data",
          "data": {
            "text/plain": [
              "<Figure size 432x288 with 1 Axes>"
            ],
            "image/png": "[encoded data removed]"
          },
          "metadata": {
            "needs_background": "light"
          }
        }
      ]
    },
    {
      "cell_type": "markdown",
      "source": [
        "### F) SEASONALITY"
      ],
      "metadata": {
        "id": "IGPK3PIfyx4b"
      }
    },
    {
      "cell_type": "code",
      "source": [
        "# Create a quarter column\n",
        "spending_df['Quarter'] = spending_df['Date'].dt.quarter\n",
        "\n",
        "# Group the residuals by quarter\n",
        "residuals_by_quarter = residuals.groupby(spending_df['Quarter']).mean()\n",
        "\n",
        "# Create a box plot of the residuals for each quarter\n",
        "residuals_by_quarter.plot(kind='box')\n",
        "plt.xlabel(\"Quarter\")\n",
        "plt.ylabel(\"Residual\")\n",
        "plt.title(\"Residuals by Quarter\")\n",
        "plt.show()\n"
      ],
      "metadata": {
        "id": "7Aszy8SWLBMI",
        "colab": {
          "base_uri": "https://localhost:8080/",
          "height": 295
        },
        "outputId": "b0cca60f-f3c5-4685-e401-a38755573673"
      },
      "execution_count": 35,
      "outputs": [
        {
          "output_type": "display_data",
          "data": {
            "text/plain": [
              "<Figure size 432x288 with 1 Axes>"
            ],
            "image/png": "[encoded data removed]"
          },
          "metadata": {
            "needs_background": "light"
          }
        }
      ]
    },
    {
      "cell_type": "markdown",
      "source": [
        "### G) INCREASE IN SEASONALITY"
      ],
      "metadata": {
        "id": "Je2G7P3vS7VB"
      }
    },
    {
      "cell_type": "code",
      "execution_count": 36,
      "metadata": {
        "id": "iRUppn3kS6qH",
        "colab": {
          "base_uri": "https://localhost:8080/",
          "height": 573
        },
        "outputId": "c67ce23b-a090-40ab-d14d-2de0cf3f97bd"
      },
      "outputs": [
        {
          "output_type": "display_data",
          "data": {
            "text/plain": [
              "<Figure size 432x288 with 1 Axes>"
            ],
            "image/png": "[encoded data removed]"
          },
          "metadata": {
            "needs_background": "light"
          }
        },
        {
          "output_type": "display_data",
          "data": {
            "text/plain": [
              "<Figure size 432x288 with 1 Axes>"
            ],
            "image/png": "[encoded data removed]"
          },
          "metadata": {
            "needs_background": "light"
          }
        }
      ],
      "source": [
        "# Create a pre-1990 dataframe\n",
        "pre1990_df = spending_df.query('Date < \"1990-01-01\"')\n",
        "\n",
        "# Create a post-1990 dataframe\n",
        "post1990_df = spending_df.query('Date >= \"1990-01-01\"')\n",
        "\n",
        "# Group the residuals by quarter for pre1990_df\n",
        "pre1990_residuals_by_quarter = residuals.groupby(pre1990_df['Quarter']).mean()\n",
        "\n",
        "# Group the residuals by quarter for post1990_df\n",
        "post1990_residuals_by_quarter = residuals.groupby(post1990_df['Quarter']).mean()\n",
        "\n",
        "# Create a box plot of the residuals for each quarter for pre1990_df\n",
        "pre1990_residuals_by_quarter.plot(kind='box')\n",
        "plt.xlabel(\"Quarter\")\n",
        "plt.ylabel(\"Residual\")\n",
        "plt.title(\"Residuals by Quarter for pre1990_df\")\n",
        "plt.show()\n",
        "\n",
        "# Create a box plot of the residuals for each quarter for post1990_df\n",
        "post1990_residuals_by_quarter.plot(kind='box')\n",
        "plt.xlabel(\"Quarter\")\n",
        "plt.ylabel(\"Residual\")\n",
        "plt.title(\"Residuals by Quarter for post1990_df\")\n",
        "plt.show()"
      ]
    },
    {
      "cell_type": "code",
      "execution_count": null,
      "metadata": {
        "id": "PDR7YAofS6qI"
      },
      "outputs": [],
      "source": [
        "# You can compare the relative volatility across quarters for the two subsets, by looking at the spread of the boxes\n",
        "# and the number of outliers for each subset. If the post-1990 subset has more volatility across quarters than the \n",
        "# pre-1990 subset, it suggests that consumer spending has become more seasonal after 1990."
      ]
    },
    {
      "cell_type": "markdown",
      "source": [
        "### H) LOWESS TREND (OPTIONAL)"
      ],
      "metadata": {
        "id": "Bk5Juch1r-fy"
      }
    },
    {
      "cell_type": "code",
      "source": [
        "from statsmodels.nonparametric.smoothers_lowess import lowess\n",
        "\n",
        "y = spending_df[\"RealPCE\"]\n",
        "\n",
        "x = range(1, len(spending_df)+1)\n",
        "\n",
        "lowess_results = lowess(exog=x, endog=y)\n",
        "print(type(lowess_results), lowess_results.shape) #> np.array with two cols, x and y_pred\n",
        "\n",
        "lowess_y_pred = lowess_results[:, 1] # use just the second column, of preds"
      ],
      "metadata": {
        "id": "EOVOwJENsBxN",
        "colab": {
          "base_uri": "https://localhost:8080/"
        },
        "outputId": "f0dfb0a1-547e-4356-b702-36217bd937e2"
      },
      "execution_count": 37,
      "outputs": [
        {
          "output_type": "stream",
          "name": "stdout",
          "text": [
            "<class 'numpy.ndarray'> (299, 2)\n"
          ]
        }
      ]
    },
    {
      "cell_type": "code",
      "source": [
        "spending_df[\"Lowess_Pred\"] = lowess_y_pred\n",
        "spending_df[\"Lowess_Resid\"] = spending_df[\"RealPCE\"] - spending_df[\"Lowess_Pred\"]"
      ],
      "metadata": {
        "id": "elejFTO68SNV"
      },
      "execution_count": 38,
      "outputs": []
    },
    {
      "cell_type": "markdown",
      "source": [
        "Plot Predictions / Trend"
      ],
      "metadata": {
        "id": "IJlzzLliaJU-"
      }
    },
    {
      "cell_type": "code",
      "source": [],
      "metadata": {
        "id": "sW0V0vzNsIjH"
      },
      "execution_count": null,
      "outputs": []
    },
    {
      "cell_type": "markdown",
      "source": [
        "Plot Residuals"
      ],
      "metadata": {
        "id": "9Nf3uqSYaNiY"
      }
    },
    {
      "cell_type": "code",
      "source": [],
      "metadata": {
        "id": "y0YP1g_NxkbU"
      },
      "execution_count": null,
      "outputs": []
    },
    {
      "cell_type": "markdown",
      "source": [
        "Seasonality"
      ],
      "metadata": {
        "id": "J4Uwg4yCaPN7"
      }
    },
    {
      "cell_type": "code",
      "source": [],
      "metadata": {
        "id": "NHPCyGZ6xkRd"
      },
      "execution_count": null,
      "outputs": []
    },
    {
      "cell_type": "markdown",
      "source": [
        "Pre vs Post 1990"
      ],
      "metadata": {
        "id": "B4kf3bC_abZC"
      }
    },
    {
      "cell_type": "code",
      "execution_count": null,
      "metadata": {
        "id": "99f736ee"
      },
      "outputs": [],
      "source": []
    },
    {
      "cell_type": "code",
      "execution_count": null,
      "metadata": {
        "id": "88fa7ae7"
      },
      "outputs": [],
      "source": []
    },
    {
      "cell_type": "code",
      "source": [],
      "metadata": {
        "id": "xmgmlM_Zp8l-"
      },
      "execution_count": null,
      "outputs": []
    },
    {
      "cell_type": "code",
      "source": [],
      "metadata": {
        "id": "uq8uLeyYp8X0"
      },
      "execution_count": null,
      "outputs": []
    },
    {
      "cell_type": "markdown",
      "source": [
        "## 2) Persistence of Oil Volatility\n"
      ],
      "metadata": {
        "id": "kISHWSrzRvWx"
      }
    },
    {
      "cell_type": "markdown",
      "metadata": {
        "id": "d0a664f8"
      },
      "source": [
        "\n",
        "In this exercise, we focus on movements of crude oil prices, by analyzing the monthly volatility of returns in spot West Texas Intermediate (WTI) prices. All data are originally sourced from the US Energy Information Administration (EIA).\n",
        "\n",
        "(a) Load the dataset given in \"CrudePrices_Monthly.xlsx\". \n",
        "\n",
        "> NOTE: The `\"Vol\"` column provides the intra-month volatility of oil returns, while the `\"LastSpot\"` column indicates the last price of WTI for that month. And the `\"Ret\"` column is the monthly return if one was to hold on to a barrel of oil over the course of the month.\n",
        "\n",
        "(b) What is the correlation betweeen intra-month volatility and monthly oil returns?\n",
        "\n",
        "> HINT: use any one of the correlation methods demonstrated in the setup section\n",
        "\n",
        "\n",
        "(c) Plot the autocorrelation function (ACF) of crude oil volatility. On average, how correlated is this month’s return volatility with next month’s?\n",
        "\n",
        "(d) As oil volatility seems to be fairly persistent, we will estimate an autoregressive model to better determine the fit. Fit an autoregressive model with three lags (AR(3)) and display the output of the regression. Which volatility term (i.e. lag period) is most significant in predicting current volatilty?\n",
        "\n",
        "(e) Use the trained ARMA model to predict volatility for the time period from `\"2016-01-31\"` to `\"2019-12-31\"`. Then plot these predictions vs the actual volatility values.\n",
        "\n",
        "\n",
        "(f) One issue that commonly arises is that while a model can do a good job forecasting the data it is fitted to (in this case 1986 – 2019), it might have difficulty forecasting new data in the future (2020 and beyond). How might one test whether the model does a good job with out-of-sample (i.e. unseen) data? Answer this question in words. "
      ]
    },
    {
      "cell_type": "markdown",
      "source": [
        "### A) LOAD AND CLEAN DATA"
      ],
      "metadata": {
        "id": "N7CmXs0R28uK"
      }
    },
    {
      "cell_type": "code",
      "source": [
        "# LOAD THE DATA\n",
        "\n",
        "file_name = \"CrudePrices_Monthly.xlsx\"\n",
        "oil_df = pd.read_excel(f\"https://github.com/s2t2/msfo-833-prep/blob/main/data/{file_name}?raw=true\")\n",
        "oil_df.head()"
      ],
      "metadata": {
        "id": "tQcetsZI3mQB",
        "colab": {
          "base_uri": "https://localhost:8080/",
          "height": 206
        },
        "outputId": "420a5377-c641-416b-b7e0-4fbfffb19515"
      },
      "execution_count": 39,
      "outputs": [
        {
          "output_type": "execute_result",
          "data": {
            "text/plain": [
              "        Date  Year  Month       Vol  LastSpot       Ret\n",
              "0 1986-01-31  1986      1  0.161230     18.95       NaN\n",
              "1 1986-02-28  1986      2  0.240258     13.23 -0.301847\n",
              "2 1986-03-31  1986      3  0.310706     10.25 -0.225246\n",
              "3 1986-04-30  1986      4  0.268445     13.38  0.305366\n",
              "4 1986-05-31  1986      5  0.194400     14.30  0.068759"
            ],
            "text/html": [
              "\n",
              "  <div id=\"df-0caf31e2-2e12-49df-a48c-964ce9ce1aed\">\n",
              "    <div class=\"colab-df-container\">\n",
              "      <div>\n",
              "<style scoped>\n",
              "    .dataframe tbody tr th:only-of-type {\n",
              "        vertical-align: middle;\n",
              "    }\n",
              "\n",
              "    .dataframe tbody tr th {\n",
              "        vertical-align: top;\n",
              "    }\n",
              "\n",
              "    .dataframe thead th {\n",
              "        text-align: right;\n",
              "    }\n",
              "</style>\n",
              "<table border=\"1\" class=\"dataframe\">\n",
              "  <thead>\n",
              "    <tr style=\"text-align: right;\">\n",
              "      <th></th>\n",
              "      <th>Date</th>\n",
              "      <th>Year</th>\n",
              "      <th>Month</th>\n",
              "      <th>Vol</th>\n",
              "      <th>LastSpot</th>\n",
              "      <th>Ret</th>\n",
              "    </tr>\n",
              "  </thead>\n",
              "  <tbody>\n",
              "    <tr>\n",
              "      <th>0</th>\n",
              "      <td>1986-01-31</td>\n",
              "      <td>1986</td>\n",
              "      <td>1</td>\n",
              "      <td>0.161230</td>\n",
              "      <td>18.95</td>\n",
              "      <td>NaN</td>\n",
              "    </tr>\n",
              "    <tr>\n",
              "      <th>1</th>\n",
              "      <td>1986-02-28</td>\n",
              "      <td>1986</td>\n",
              "      <td>2</td>\n",
              "      <td>0.240258</td>\n",
              "      <td>13.23</td>\n",
              "      <td>-0.301847</td>\n",
              "    </tr>\n",
              "    <tr>\n",
              "      <th>2</th>\n",
              "      <td>1986-03-31</td>\n",
              "      <td>1986</td>\n",
              "      <td>3</td>\n",
              "      <td>0.310706</td>\n",
              "      <td>10.25</td>\n",
              "      <td>-0.225246</td>\n",
              "    </tr>\n",
              "    <tr>\n",
              "      <th>3</th>\n",
              "      <td>1986-04-30</td>\n",
              "      <td>1986</td>\n",
              "      <td>4</td>\n",
              "      <td>0.268445</td>\n",
              "      <td>13.38</td>\n",
              "      <td>0.305366</td>\n",
              "    </tr>\n",
              "    <tr>\n",
              "      <th>4</th>\n",
              "      <td>1986-05-31</td>\n",
              "      <td>1986</td>\n",
              "      <td>5</td>\n",
              "      <td>0.194400</td>\n",
              "      <td>14.30</td>\n",
              "      <td>0.068759</td>\n",
              "    </tr>\n",
              "  </tbody>\n",
              "</table>\n",
              "</div>\n",
              "      <button class=\"colab-df-convert\" onclick=\"convertToInteractive('df-0caf31e2-2e12-49df-a48c-964ce9ce1aed')\"\n",
              "              title=\"Convert this dataframe to an interactive table.\"\n",
              "              style=\"display:none;\">\n",
              "        \n",
              "  <svg xmlns=\"http://www.w3.org/2000/svg\" height=\"24px\"viewBox=\"0 0 24 24\"\n",
              "       width=\"24px\">\n",
              "    <path d=\"M0 0h24v24H0V0z\" fill=\"none\"/>\n",
              "    <path d=\"M18.56 5.44l.94 2.06.94-2.06 2.06-.94-2.06-.94-.94-2.06-.94 2.06-2.06.94zm-11 1L8.5 8.5l.94-2.06 2.06-.94-2.06-.94L8.5 2.5l-.94 2.06-2.06.94zm10 10l.94 2.06.94-2.06 2.06-.94-2.06-.94-.94-2.06-.94 2.06-2.06.94z\"/><path d=\"M17.41 7.96l-1.37-1.37c-.4-.4-.92-.59-1.43-.59-.52 0-1.04.2-1.43.59L10.3 9.45l-7.72 7.72c-.78.78-.78 2.05 0 2.83L4 21.41c.39.39.9.59 1.41.59.51 0 1.02-.2 1.41-.59l7.78-7.78 2.81-2.81c.8-.78.8-2.07 0-2.86zM5.41 20L4 18.59l7.72-7.72 1.47 1.35L5.41 20z\"/>\n",
              "  </svg>\n",
              "      </button>\n",
              "      \n",
              "  <style>\n",
              "    .colab-df-container {\n",
              "      display:flex;\n",
              "      flex-wrap:wrap;\n",
              "      gap: 12px;\n",
              "    }\n",
              "\n",
              "    .colab-df-convert {\n",
              "      background-color: #E8F0FE;\n",
              "      border: none;\n",
              "      border-radius: 50%;\n",
              "      cursor: pointer;\n",
              "      display: none;\n",
              "      fill: #1967D2;\n",
              "      height: 32px;\n",
              "      padding: 0 0 0 0;\n",
              "      width: 32px;\n",
              "    }\n",
              "\n",
              "    .colab-df-convert:hover {\n",
              "      background-color: #E2EBFA;\n",
              "      box-shadow: 0px 1px 2px rgba(60, 64, 67, 0.3), 0px 1px 3px 1px rgba(60, 64, 67, 0.15);\n",
              "      fill: #174EA6;\n",
              "    }\n",
              "\n",
              "    [theme=dark] .colab-df-convert {\n",
              "      background-color: #3B4455;\n",
              "      fill: #D2E3FC;\n",
              "    }\n",
              "\n",
              "    [theme=dark] .colab-df-convert:hover {\n",
              "      background-color: #434B5C;\n",
              "      box-shadow: 0px 1px 3px 1px rgba(0, 0, 0, 0.15);\n",
              "      filter: drop-shadow(0px 1px 2px rgba(0, 0, 0, 0.3));\n",
              "      fill: #FFFFFF;\n",
              "    }\n",
              "  </style>\n",
              "\n",
              "      <script>\n",
              "        const buttonEl =\n",
              "          document.querySelector('#df-0caf31e2-2e12-49df-a48c-964ce9ce1aed button.colab-df-convert');\n",
              "        buttonEl.style.display =\n",
              "          google.colab.kernel.accessAllowed ? 'block' : 'none';\n",
              "\n",
              "        async function convertToInteractive(key) {\n",
              "          const element = document.querySelector('#df-0caf31e2-2e12-49df-a48c-964ce9ce1aed');\n",
              "          const dataTable =\n",
              "            await google.colab.kernel.invokeFunction('convertToInteractive',\n",
              "                                                     [key], {});\n",
              "          if (!dataTable) return;\n",
              "\n",
              "          const docLinkHtml = 'Like what you see? Visit the ' +\n",
              "            '<a target=\"_blank\" href=https://colab.research.google.com/notebooks/data_table.ipynb>data table notebook</a>'\n",
              "            + ' to learn more about interactive tables.';\n",
              "          element.innerHTML = '';\n",
              "          dataTable['output_type'] = 'display_data';\n",
              "          await google.colab.output.renderOutput(dataTable, element);\n",
              "          const docLink = document.createElement('div');\n",
              "          docLink.innerHTML = docLinkHtml;\n",
              "          element.appendChild(docLink);\n",
              "        }\n",
              "      </script>\n",
              "    </div>\n",
              "  </div>\n",
              "  "
            ]
          },
          "metadata": {},
          "execution_count": 39
        }
      ]
    },
    {
      "cell_type": "code",
      "execution_count": 40,
      "metadata": {
        "scrolled": true,
        "id": "70bc2ecc",
        "colab": {
          "base_uri": "https://localhost:8080/"
        },
        "outputId": "64d7dbe2-d419-404d-8314-1fc218478f23"
      },
      "outputs": [
        {
          "output_type": "stream",
          "name": "stdout",
          "text": [
            "Index(['Date', 'Year', 'Month', 'Vol', 'LastSpot', 'Ret'], dtype='object')\n"
          ]
        }
      ],
      "source": [
        "print(oil_df.columns)"
      ]
    },
    {
      "cell_type": "markdown",
      "source": [
        "### B) CORRELATION"
      ],
      "metadata": {
        "id": "XYjOxiC63Pf1"
      }
    },
    {
      "cell_type": "code",
      "source": [
        "correlation = oil_df['Vol'].corr(oil_df['Ret'])\n",
        "print(correlation)"
      ],
      "metadata": {
        "id": "V02iuZIooPRu",
        "colab": {
          "base_uri": "https://localhost:8080/"
        },
        "outputId": "056272f5-3e4d-4804-d88f-476ebca36d8d"
      },
      "execution_count": 41,
      "outputs": [
        {
          "output_type": "stream",
          "name": "stdout",
          "text": [
            "-0.1665886609259294\n"
          ]
        }
      ]
    },
    {
      "cell_type": "markdown",
      "source": [
        "### C) ACF PLOT"
      ],
      "metadata": {
        "id": "XBgwAVGJ3D2f"
      }
    },
    {
      "cell_type": "code",
      "source": [
        "from statsmodels.graphics.tsaplots import plot_acf\n",
        "\n",
        "# Extract volatility column\n",
        "volatility = oil_df['Vol']\n",
        "\n",
        "# Plot the ACF\n",
        "plot_acf(volatility)\n",
        "plt.show()"
      ],
      "metadata": {
        "id": "JiJN5nlEwrbt",
        "colab": {
          "base_uri": "https://localhost:8080/",
          "height": 281
        },
        "outputId": "3152b105-c347-4739-f526-61b8f6dc142f"
      },
      "execution_count": 42,
      "outputs": [
        {
          "output_type": "display_data",
          "data": {
            "text/plain": [
              "<Figure size 432x288 with 1 Axes>"
            ],
            "image/png": "[encoded data removed]"
          },
          "metadata": {
            "needs_background": "light"
          }
        }
      ]
    },
    {
      "cell_type": "code",
      "source": [
        "# The plot will show the autocorrelation coefficients for each lag (i.e. the correlation between the volatility at each \n",
        "# month and the volatility at different lags in time). The x-axis represents the lag, and the y-axis represents the \n",
        "# autocorrelation coefficient. The shaded region \n",
        "# represents the confidence interval, within which we would expect the true autocorrelation to lie if the model were correct.\n",
        "\n",
        "# The average correlation between this month's return volatility and next month's can be determined by looking at the \n",
        "# autocorrelation coefficient at lag 1. A value closer to 1 means a strong positive correlation, a value closer to -1 \n",
        "# means a strong negative correlation and a value close to 0 means no correlation."
      ],
      "metadata": {
        "id": "h90YDG7m37hg"
      },
      "execution_count": 43,
      "outputs": []
    },
    {
      "cell_type": "markdown",
      "source": [
        "### D) ARMA MODEL (LAG=3)"
      ],
      "metadata": {
        "id": "b-n7jFty3Hur"
      }
    },
    {
      "cell_type": "code",
      "source": [
        "from statsmodels.tsa.ar_model import AR\n",
        "\n",
        "# Extract volatility column\n",
        "volatility = oil_df['Vol']\n",
        "\n",
        "# Fit AR(3) model\n",
        "model = AR(volatility).fit(maxlag=3)\n",
        "\n",
        "print(model.summary())"
      ],
      "metadata": {
        "id": "kP3jtIe0uiLv",
        "colab": {
          "base_uri": "https://localhost:8080/"
        },
        "outputId": "451e40d8-f0eb-4f57-a39a-55d33aaa8610"
      },
      "execution_count": 44,
      "outputs": [
        {
          "output_type": "stream",
          "name": "stdout",
          "text": [
            "                               AR Model Results                               \n",
            "==============================================================================\n",
            "Dep. Variable:                      V  -                  o                  l\n",
            "Model:                          AR(3)   Log Likelihood                 732.303\n",
            "Method:                          cmle   S.D. of innovations              0.040\n",
            "Date:                Fri, 20 Jan 2023   AIC                             -6.429\n",
            "Time:                        20:56:25   BIC                             -6.380\n",
            "Sample:                             0   HQIC                            -6.410\n",
            "                                                                              \n",
            "==============================================================================\n",
            "                 coef    std err          z      P>|z|      [0.025      0.975]\n",
            "------------------------------------------------------------------------------\n",
            "const          0.0272      0.005      5.515      0.000       0.018       0.037\n",
            "L1.Vol         0.3916      0.049      8.035      0.000       0.296       0.487\n",
            "L2.Vol         0.1895      0.052      3.669      0.000       0.088       0.291\n",
            "L3.Vol         0.1444      0.048      2.987      0.003       0.050       0.239\n",
            "                                    Roots                                    \n",
            "=============================================================================\n",
            "                  Real          Imaginary           Modulus         Frequency\n",
            "-----------------------------------------------------------------------------\n",
            "AR.1            1.2052           -0.0000j            1.2052           -0.0000\n",
            "AR.2           -1.2588           -2.0400j            2.3971           -0.3380\n",
            "AR.3           -1.2588           +2.0400j            2.3971            0.3380\n",
            "-----------------------------------------------------------------------------\n"
          ]
        }
      ]
    },
    {
      "cell_type": "markdown",
      "source": [
        "### E) ARMA PREDICTIONS"
      ],
      "metadata": {
        "id": "FWUrjCQwrmZ4"
      }
    },
    {
      "cell_type": "code",
      "source": [
        "# Convert date column to datetime format\n",
        "oil_df['Date'] = pd.to_datetime(oil_df['Date'], format='%Y-%m-%d')\n",
        "\n",
        "# Set date column as index\n",
        "oil_df.set_index('Date', inplace=True)\n",
        "\n",
        "# Extract volatility column\n",
        "volatility = oil_df['Vol']\n",
        "\n",
        "# Fit ARMA model\n",
        "model = sm.tsa.ARMA(volatility, order=(3,0)).fit()\n",
        "\n",
        "# Define start and end dates\n",
        "start = \"2016-01-31\"\n",
        "end = \"2019-12-31\"\n",
        "\n",
        "# Predict volatility for the specified time period\n",
        "predictions = model.predict(start=start, end=end)\n",
        "\n",
        "# Extract actual volatility for the specified time period\n",
        "actual = oil_df.loc[start:end, 'Vol']\n",
        "\n",
        "# Plot actual vs predicted volatility\n",
        "plt.plot(actual, label='Actual')\n",
        "plt.plot(predictions, label='Predicted')\n",
        "plt.legend()\n",
        "plt.show()"
      ],
      "metadata": {
        "id": "vSKwkIA3uiI7",
        "colab": {
          "base_uri": "https://localhost:8080/",
          "height": 265
        },
        "outputId": "c07ec98f-f7f8-4831-9a9f-e06d8d839405"
      },
      "execution_count": 45,
      "outputs": [
        {
          "output_type": "display_data",
          "data": {
            "text/plain": [
              "<Figure size 432x288 with 1 Axes>"
            ],
            "image/png": "[encoded data removed]"
          },
          "metadata": {
            "needs_background": "light"
          }
        }
      ]
    },
    {
      "cell_type": "code",
      "source": [],
      "metadata": {
        "id": "1ohIl1kY1cid"
      },
      "execution_count": null,
      "outputs": []
    },
    {
      "cell_type": "markdown",
      "source": [
        "### F) OUT OF SAMPLE / UNSEEN"
      ],
      "metadata": {
        "id": "D4MBsUXN3epF"
      }
    },
    {
      "cell_type": "code",
      "source": [
        "# One way to test whether a model does a good job with out-of-sample data is to use a technique called \"walk-forward validation.\" \n",
        "# This method involves dividing the dataset into two parts, one for training the model (in-sample data) and one for testing the \n",
        "# model's ability to forecast new data (out-of-sample data). The model is trained on the in-sample data and then used to make \n",
        "# predictions on the out-of-sample data. This process is repeated multiple times, with the out-of-sample data being moved forward\n",
        "# one time step each time, until all the data has been used for both training and testing. The model's performance is then evaluated\n",
        "# based on the accuracy of its predictions on the out-of-sample data. Another technique is to use the last a certain proportion of \n",
        "# the data as holdout-set or test-set and evaluate the performance on this set, this is known as cross-validation."
      ],
      "metadata": {
        "id": "f2PVvIC7uhiK"
      },
      "execution_count": 21,
      "outputs": []
    },
    {
      "cell_type": "markdown",
      "source": [
        "Answer: \n",
        "\n",
        "\n",
        "...\n",
        "\n",
        "\n",
        "\n"
      ],
      "metadata": {
        "id": "66NpQ01H4Bg5"
      }
    }
  ]
}