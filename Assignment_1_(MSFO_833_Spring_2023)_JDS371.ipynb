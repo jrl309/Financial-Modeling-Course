{
  "cells": [
    {
      "cell_type": "markdown",
      "source": [
        "# Instructions"
      ],
      "metadata": {
        "id": "PA6YPmKIi5hx"
      },
      "id": "PA6YPmKIi5hx"
    },
    {
      "cell_type": "markdown",
      "source": [
        "1. **Make a copy of this notebook** so you can edit and save your own version of it. Optionally update the notebook title to include the Net IDs of all group members. Do the work in your copy of the notebook. \n",
        "\n",
        "2. Edit the sharing settings: **share your notebook** publicly, so **\"Anyone with the link can view\"**. Notebooks not shared properly may be subject to late deductions if an instructor is unable to access them at the time of grading.\n",
        "\n",
        "3. **Run the Setup Cells** in the \"Setup\" section.\n",
        "\n",
        "4. **Complete the challenges**. For each challenge:\n",
        "    + **Run any additional provided \"Setup\" cell(s)**, as necessary.\n",
        "    + **Write Python code** to answer each of the provided questions. \n",
        "\n",
        "\n",
        "\n",
        "\n"
      ],
      "metadata": {
        "id": "H_0lIcb6jBNK"
      },
      "id": "H_0lIcb6jBNK"
    },
    {
      "cell_type": "markdown",
      "source": [
        "# Submission Instructions"
      ],
      "metadata": {
        "id": "QvnKBbxtNNd6"
      },
      "id": "QvnKBbxtNNd6"
    },
    {
      "cell_type": "markdown",
      "source": [
        "\n",
        "\n",
        "To review your notebook / ensure it works as expected / prepare for evaluation: \n",
        "  1. Run it from scratch (\"Runtime\" > \"Restart and run all\"), provide any necessary user inputs, and verify you see the results you expect.\n",
        "\n",
        "\n",
        "When you're done coding and your notebook reflects your final work product, follow these steps to submit:\n",
        "\n",
        "  1. Download a copy of your notebook document in .ipynb format (\"File\" > \"Download\" > \"Download .ipynb\").\n",
        "  2. Upload the resulting .ipynb notebook file to Canvas.\n",
        "  3. Also submit your Colab Notebook URL via the [Submission Form](https://forms.gle/gWHLVjN2XVmqCogm7). \n",
        "\n",
        "\n",
        "> NOTE: only one member needs to submit on behalf of the group."
      ],
      "metadata": {
        "id": "uDPH68p0NPrb"
      },
      "id": "uDPH68p0NPrb"
    },
    {
      "cell_type": "markdown",
      "source": [
        "# Evaluation"
      ],
      "metadata": {
        "id": "KZMaGoHBQqXR"
      },
      "id": "KZMaGoHBQqXR"
    },
    {
      "cell_type": "markdown",
      "source": [
        "Deliverables will be evaluated based on the criteria below:\n",
        "\n",
        "Category | Weight\n",
        "--- | ---\n",
        "Challenge 1 | 18%\n",
        "Challenge 2 | 12%\n",
        "Challenge 3 | 15%\n",
        "Challenge 4 | 20%\n",
        "Challenge 5 | 20%\n",
        "Challenge 6 | 15%\n",
        "\n",
        "This rubric is tentative, and may be subject to adjustments during the grading process."
      ],
      "metadata": {
        "id": "aaSL645jQ4hU"
      },
      "id": "aaSL645jQ4hU"
    },
    {
      "cell_type": "markdown",
      "source": [
        "# Setup"
      ],
      "metadata": {
        "id": "btfQ9QFjiy2C"
      },
      "id": "btfQ9QFjiy2C"
    },
    {
      "cell_type": "markdown",
      "id": "68d91345",
      "metadata": {
        "id": "68d91345"
      },
      "source": [
        "## Imports\n",
        "\n"
      ]
    },
    {
      "cell_type": "markdown",
      "source": [
        "Here are some modules and packages we may be using to complete various aspects of this exercise. Feel free to adjust the alias strategy to meet your preference, and/or import additional modules and packages as desired."
      ],
      "metadata": {
        "id": "dj_3_LOxSvkI"
      },
      "id": "dj_3_LOxSvkI"
    },
    {
      "cell_type": "code",
      "execution_count": 90,
      "id": "bad50f1f",
      "metadata": {
        "id": "bad50f1f"
      },
      "outputs": [],
      "source": [
        "#\n",
        "# IMPORTS (RUN THIS CELL, AND FEEL FREE TO MODIFY AS DESIRED)\n",
        "#\n",
        "\n",
        "import numpy as np\n",
        "\n",
        "import pandas as pd\n",
        "#from pandas import read_csv, read_excel, to_datetime, DataFrame\n",
        "\n",
        "import plotly.express as px\n",
        "# from plotly.express import line, scatter\n"
      ]
    },
    {
      "cell_type": "markdown",
      "source": [
        "## Helper Function (USD Formatting)\n",
        "\n"
      ],
      "metadata": {
        "id": "aTXPAjdnR82W"
      },
      "id": "aTXPAjdnR82W"
    },
    {
      "cell_type": "markdown",
      "source": [
        "The function below can be used to convert a number into a dollar-sign formatted string. \n",
        "\n",
        "Run the cell, and feel free to use / invoke this function later as desired, when answering questions in Challenges 4-6."
      ],
      "metadata": {
        "id": "h1Y-RcjJacp8"
      },
      "id": "h1Y-RcjJacp8"
    },
    {
      "cell_type": "code",
      "source": [
        "#\n",
        "# SETUP CELL (RUN THIS CELL, AND DO NOT MODIFY)\n",
        "#\n",
        "\n",
        "def to_usd(my_price):\n",
        "    \"\"\"\n",
        "        Converts a numeric value to USD-formatted string, for printing and display purposes.\n",
        "        Adds dollar sign and commas for the thousands separator.\n",
        "        Rounds to two decimal places. \n",
        "        \n",
        "        Param: my_price (int or float or str) like 4000.444444 or \"4000.444444\"\n",
        "        \n",
        "        Example: to_usd(4000.444444)\n",
        "        \n",
        "        Returns: $4,000.44\n",
        "    \"\"\"\n",
        "    return f\"${float(my_price):,.2f}\" \n"
      ],
      "metadata": {
        "id": "7tiCLrn0n7YG"
      },
      "id": "7tiCLrn0n7YG",
      "execution_count": 91,
      "outputs": []
    },
    {
      "cell_type": "code",
      "source": [
        "# example invocations:\n",
        "print(to_usd(4.5))\n",
        "print(to_usd(1234567890.12345))"
      ],
      "metadata": {
        "colab": {
          "base_uri": "https://localhost:8080/"
        },
        "id": "v49AtzOyZ4Wm",
        "outputId": "4a87c66c-ab33-421f-f0f2-ac01546ec9d8"
      },
      "id": "v49AtzOyZ4Wm",
      "execution_count": null,
      "outputs": [
        {
          "output_type": "stream",
          "name": "stdout",
          "text": [
            "$4.50\n",
            "$1,234,567,890.12\n"
          ]
        }
      ]
    },
    {
      "cell_type": "markdown",
      "source": [
        "# Challenges"
      ],
      "metadata": {
        "id": "W-5rRvQyi2T-"
      },
      "id": "W-5rRvQyi2T-"
    },
    {
      "cell_type": "markdown",
      "id": "fd9cd1e7",
      "metadata": {
        "id": "fd9cd1e7"
      },
      "source": [
        "\n",
        "## Challenge 1 (Fibonacci Sequence)\n",
        "\n"
      ]
    },
    {
      "cell_type": "markdown",
      "source": [
        "The **Fibonacci sequence** is a set of numbers where following the first two numbers of the sequence (0 and 1), each successive number is the sum of the prior 2 numbers. \n",
        "\n",
        "...\n",
        "\n",
        "A) Write / **define a function called `fibo`** that prints the first N digits of the sequence, where N is an input into the function. For example, if 10 is provided as an input, then the sequence / list of numbers {0, 1, 1, 2, 3, 5, 8, 13, 21, 34} is printed. The function should also return the sequence / list of numbers.\n",
        "\n",
        "> NOTE: no need to get fancy - our goal is just for the function to produce the desired output.\n",
        "\n",
        "> HINT: consider looping through a `range` and using conditional logic\n",
        "\n",
        "B) If a negative number is passed in, the function should gracefully handle the invalid input by printing an error message like \"OOPS PLEASE PASS A POSITIVE INTEGER\", and not attempting to continue processing that input. \n",
        "\n",
        "C) Add a docstring to your function definition. The docstring should describe the function's purpose, as well as provide information about the parameter and return values. Optionally also add type hints to your function definition, if you like that kind of thing.\n",
        "\n"
      ],
      "metadata": {
        "id": "17_FOMWMI0D1"
      },
      "id": "17_FOMWMI0D1"
    },
    {
      "cell_type": "code",
      "execution_count": 11,
      "id": "7a6058d4",
      "metadata": {
        "id": "7a6058d4"
      },
      "outputs": [],
      "source": [
        "\n",
        "# DEFINE THE FUNCTION HERE\n",
        "\n",
        "def fibo(N):\n",
        "  fib = [0 , 1]\n",
        "  if N <= 0:\n",
        "    return [\"OOPS PLEASE PASS A POSITIVE INTEGER\"]\n",
        "  if N == 1:\n",
        "    return [0]\n",
        "  if N == 2:\n",
        "    return fib\n",
        "  for x in range(2, N):\n",
        "    fib.append(fib[x-1] + fib[x-2])\n",
        "  return fib\n",
        "  \n",
        "# Create a list through fib which details the first two numbers of the fibonacci sequence\n",
        "# If N is equal to or less than 0 then the fuction needs to return \"OOPS PLEASE PASS A POSITIVE INTEGER\"\n",
        "# Then if N is 1, return the first number of the sequence\n",
        "# Then if N equals two then return the fib list of 0 and 1\n",
        "# Then run the function from 2 to what N is\n",
        "# We then use the append function to put it all together by adding the sum of the last two numbers to the list\n",
        "# Lastly return the list\n",
        "# It changes once you enter 3 into the function, with 3, the function grabs the number from the prior two spots in the list, sums them,\n",
        "# and then adds it on to that place in the list\n",
        "# So for the third spot in the list it will sum the two previous numbers in the list\n",
        "\n",
        "\n",
        "\n",
        "\n",
        "\n"
      ]
    },
    {
      "cell_type": "code",
      "execution_count": 8,
      "id": "51a73dfa",
      "metadata": {
        "id": "51a73dfa",
        "colab": {
          "base_uri": "https://localhost:8080/"
        },
        "outputId": "c5c58255-9604-4afd-b691-d113404c570e"
      },
      "outputs": [
        {
          "output_type": "execute_result",
          "data": {
            "text/plain": [
              "[0, 1]"
            ]
          },
          "metadata": {},
          "execution_count": 8
        }
      ],
      "source": [
        "fibo(2)"
      ]
    },
    {
      "cell_type": "code",
      "source": [
        "fibo(1)"
      ],
      "metadata": {
        "id": "dRTPivuvF96N",
        "colab": {
          "base_uri": "https://localhost:8080/"
        },
        "outputId": "86c846de-1a2c-490c-d476-6a8082d48d7b"
      },
      "id": "dRTPivuvF96N",
      "execution_count": 10,
      "outputs": [
        {
          "output_type": "execute_result",
          "data": {
            "text/plain": [
              "[0]"
            ]
          },
          "metadata": {},
          "execution_count": 10
        }
      ]
    },
    {
      "cell_type": "code",
      "source": [
        "fibo(-15)"
      ],
      "metadata": {
        "id": "Z047D6trF93o",
        "colab": {
          "base_uri": "https://localhost:8080/"
        },
        "outputId": "2f58da82-79d7-4e7e-9f44-a04059e91f75"
      },
      "id": "Z047D6trF93o",
      "execution_count": 12,
      "outputs": [
        {
          "output_type": "execute_result",
          "data": {
            "text/plain": [
              "['OOPS PLEASE PASS A POSITIVE INTEGER']"
            ]
          },
          "metadata": {},
          "execution_count": 12
        }
      ]
    },
    {
      "cell_type": "markdown",
      "id": "fd12aaeb",
      "metadata": {
        "id": "fd12aaeb"
      },
      "source": [
        "## Challenge 2 (Simulations)\n"
      ]
    },
    {
      "cell_type": "markdown",
      "source": [
        "Use capabilities of the `numpy` package to answer all the following questions:\n",
        "\n",
        "\n",
        "A) Write a line of code that prints all odd numbers between 0 and 100. Do not use a loop to do so.\n",
        "\n",
        "B) Generate 10,000 random numbers that conform to a \"normal\" distribution, where the mean is 0 and the standard deviation is 0.15.\n",
        "\n",
        "C) Using the normally distributed numbers from Part B, print the following summary statistics:\n",
        "  + mean \n",
        "  + median\n",
        "  + minimum\n",
        "  + maximum\n",
        "  + 25th percentile / quantile value \n",
        "  + 75th percentile / quantile value\n"
      ],
      "metadata": {
        "id": "au66IkdJI4U3"
      },
      "id": "au66IkdJI4U3"
    },
    {
      "cell_type": "code",
      "execution_count": 17,
      "id": "231f5956",
      "metadata": {
        "id": "231f5956",
        "colab": {
          "base_uri": "https://localhost:8080/"
        },
        "outputId": "53ea003d-801e-4348-e2cb-63682ebfecfe"
      },
      "outputs": [
        {
          "output_type": "stream",
          "name": "stdout",
          "text": [
            "[ 1  3  5  7  9 11 13 15 17 19 21 23 25 27 29 31 33 35 37 39 41 43 45 47\n",
            " 49 51 53 55 57 59 61 63 65 67 69 71 73 75 77 79 81 83 85 87 89 91 93 95\n",
            " 97 99]\n"
          ]
        }
      ],
      "source": [
        "# https://numpy.org/doc/stable/reference/generated/numpy.arange.html\n",
        "# https://stackoverflow.com/questions/41638751/filtering-even-numbers-in-python\n",
        "\n",
        "print(np.arange(1 , 100 , 2))"
      ]
    },
    {
      "cell_type": "code",
      "source": [
        "# https://numpy.org/doc/stable/reference/random/generated/numpy.random.normal.html\n",
        "\n",
        "a = np.random.normal(0 , 0.15 , 10000)\n",
        "print(a)"
      ],
      "metadata": {
        "id": "Ui_-LwqpNaIG",
        "colab": {
          "base_uri": "https://localhost:8080/"
        },
        "outputId": "aff38ee8-d97d-4a68-ec9d-3db213d1d451"
      },
      "id": "Ui_-LwqpNaIG",
      "execution_count": 24,
      "outputs": [
        {
          "output_type": "stream",
          "name": "stdout",
          "text": [
            "[ 0.01787104 -0.05180772  0.12019143 ...  0.03902514  0.15723893\n",
            " -0.09421446]\n"
          ]
        }
      ]
    },
    {
      "cell_type": "code",
      "source": [
        "# https://numpy.org/doc/stable/reference/generated/numpy.median.html\n",
        "# https://numpy.org/doc/stable/reference/generated/numpy.quantile.html\n",
        "\n",
        "print(np.median(a))\n",
        "print(np.mean(a))\n",
        "print(np.min(a))\n",
        "print(np.max(a))\n",
        "print(np.quantile(a , .25))\n",
        "print(np.quantile(a , .75))"
      ],
      "metadata": {
        "id": "zLFWszYOUK1U",
        "colab": {
          "base_uri": "https://localhost:8080/"
        },
        "outputId": "135a5850-d338-438a-be61-621e1ab77af7"
      },
      "id": "zLFWszYOUK1U",
      "execution_count": 31,
      "outputs": [
        {
          "output_type": "stream",
          "name": "stdout",
          "text": [
            "0.0015896457344820505\n",
            "0.0009757943813672286\n",
            "-0.5661565574654915\n",
            "0.5379272378506524\n",
            "-0.10290337429912177\n",
            "0.10375075458723833\n"
          ]
        }
      ]
    },
    {
      "cell_type": "markdown",
      "metadata": {
        "id": "VtujEF_N2LHi"
      },
      "source": [
        "## Challenge 3 (SEC Filings)\n"
      ],
      "id": "VtujEF_N2LHi"
    },
    {
      "cell_type": "markdown",
      "metadata": {
        "id": "_Zgc7iWV2cne"
      },
      "source": [
        "Given the Python variable called `filings_index` provided below, write Python code which references that variable to perform the following tasks...\n",
        "\n",
        "\n",
        "A) Convert this data into a **more usable data structure**: a list of dictionaries, where each dictionary has the following keys: `\"cik\"`, `\"company_name\"`, `\"form_type\"`, `\"date_filed\"`, and `\"filename\"`. \n",
        "\n",
        "\n",
        "> HINT: try the string's [`split()`](https://docs.python.org/3/library/stdtypes.html#str.split) or `splitlines()` method to convert the string to a list of lines\n",
        "\n",
        "> HINT: new line characters are represented by `\"/n\"`.\n",
        "\n",
        "B) Print the **number of filings** total (i.e. `21`).\n",
        "\n",
        "C) Print the **number of filings** filed by \"AMAZON COM INC\" (i.e. `4`).\n",
        "\n",
        "D) Print the **file name** of the \"10-K\" form filed by \"AMAZON COM INC\" (i.e. `\"edgar/data/1018724/0001018724-19-000004.txt\"`).\n",
        "\n",
        "\n",
        "E) Use string concatenation or a format string to assemble the full URL of this filing, by joining the file name from part D to the end of the provided `ARCHIVES_URL` variable (i.e. `\"https://www.sec.gov/Archives/edgar/data/1018724/0001018724-19-000004.txt\"`). Store this **filing url** in a variable called `filing_url` and print it. \n",
        "\n",
        "> NOTE: you should be able to visit this url in a browser to verify there is a filing there.\n",
        "\n"
      ],
      "id": "_Zgc7iWV2cne"
    },
    {
      "cell_type": "code",
      "metadata": {
        "id": "8NhSNDAl2LZa",
        "colab": {
          "base_uri": "https://localhost:8080/"
        },
        "outputId": "dd48ce3f-2048-4d44-9d73-e90e05c80636"
      },
      "source": [
        "# SETUP CELL (RUN AND DO NOT MODIFY)\n",
        "\n",
        "ARCHIVES_URL = \"https://www.sec.gov/Archives\"\n",
        "\n",
        "# triple quotes is a multi-line string:\n",
        "filings_index = \"\"\"\n",
        "Description:           Master Index of EDGAR Dissemination Feed\n",
        "Last Data Received:    March 31, 2019\n",
        "Comments:              webmaster@sec.gov\n",
        "Anonymous FTP:         ftp://ftp.sec.gov/edgar/\n",
        "Cloud HTTP:            https://www.sec.gov/Archives/\n",
        "\n",
        "CIK|Company Name|Form Type|Date Filed|Filename\n",
        "--------------------------------------------------------------------------------\n",
        "1000045|NICHOLAS FINANCIAL INC|10-Q|2019-02-14|edgar/data/1000045/0001193125-19-039489.txt\n",
        "1000045|NICHOLAS FINANCIAL INC|4|2019-01-15|edgar/data/1000045/0001357521-19-000001.txt\n",
        "1000045|NICHOLAS FINANCIAL INC|4|2019-02-19|edgar/data/1000045/0001357521-19-000002.txt\n",
        "1000045|NICHOLAS FINANCIAL INC|4|2019-03-15|edgar/data/1000045/0001357521-19-000003.txt\n",
        "1000045|NICHOLAS FINANCIAL INC|8-K|2019-02-01|edgar/data/1000045/0001193125-19-024617.txt\n",
        "1000148|LEGACY CAPITAL FUND, INC.|X-17A-5|2019-02-21|edgar/data/1000148/9999999997-19-000997.txt\n",
        "1000177|NORDIC AMERICAN TANKERS Ltd|424B3|2019-03-29|edgar/data/1000177/0000919574-19-002650.txt\n",
        "1000177|NORDIC AMERICAN TANKERS Ltd|6-K|2019-02-12|edgar/data/1000177/0000919574-19-000990.txt\n",
        "1018724|AMAZON COM INC|10-K|2019-02-01|edgar/data/1018724/0001018724-19-000004.txt\n",
        "1018724|AMAZON COM INC|8-K|2019-01-31|edgar/data/1018724/0001018724-19-000002.txt\n",
        "1018724|AMAZON COM INC|8-K|2019-02-04|edgar/data/1018724/0001018724-19-000008.txt\n",
        "1018724|AMAZON COM INC|8-K|2019-02-25|edgar/data/1018724/0001193125-19-049914.txt\n",
        "101872|FIRST VARIABLE ANNUITY FUND A|24F-2NT|2019-03-25|edgar/data/101872/0000101872-19-000003.txt\n",
        "101872|FIRST VARIABLE ANNUITY FUND A|N-CEN|2019-03-11|edgar/data/101872/0001713935-19-000052.txt\n",
        "1018735|NYMOX PHARMACEUTICAL CORP|20-F|2019-03-29|edgar/data/1018735/0001640334-19-000464.txt\n",
        "1018735|NYMOX PHARMACEUTICAL CORP|4|2019-01-03|edgar/data/1018735/0001682873-19-000001.txt\n",
        "1018735|NYMOX PHARMACEUTICAL CORP|4|2019-01-03|edgar/data/1018735/0001682873-19-000002.txt\n",
        "1018825|IBM Retirement Fund|13F-HR|2019-02-14|edgar/data/1018825/0001018825-19-000001.txt\n",
        "1018840|ABERCROMBIE & FITCH CO /DE/|3|2019-02-06|edgar/data/1018840/0001225208-19-001840.txt\n",
        "1018840|ABERCROMBIE & FITCH CO /DE/|3|2019-02-06|edgar/data/1018840/0001225208-19-001841.txt\n",
        "1018840|ABERCROMBIE & FITCH CO /DE/|4|2019-02-06|edgar/data/1018840/0001225208-19-001842.txt\"\"\"\n",
        "\n",
        "print(filings_index)"
      ],
      "execution_count": 68,
      "outputs": [
        {
          "output_type": "stream",
          "name": "stdout",
          "text": [
            "\n",
            "Description:           Master Index of EDGAR Dissemination Feed\n",
            "Last Data Received:    March 31, 2019\n",
            "Comments:              webmaster@sec.gov\n",
            "Anonymous FTP:         ftp://ftp.sec.gov/edgar/\n",
            "Cloud HTTP:            https://www.sec.gov/Archives/\n",
            "\n",
            "CIK|Company Name|Form Type|Date Filed|Filename\n",
            "--------------------------------------------------------------------------------\n",
            "1000045|NICHOLAS FINANCIAL INC|10-Q|2019-02-14|edgar/data/1000045/0001193125-19-039489.txt\n",
            "1000045|NICHOLAS FINANCIAL INC|4|2019-01-15|edgar/data/1000045/0001357521-19-000001.txt\n",
            "1000045|NICHOLAS FINANCIAL INC|4|2019-02-19|edgar/data/1000045/0001357521-19-000002.txt\n",
            "1000045|NICHOLAS FINANCIAL INC|4|2019-03-15|edgar/data/1000045/0001357521-19-000003.txt\n",
            "1000045|NICHOLAS FINANCIAL INC|8-K|2019-02-01|edgar/data/1000045/0001193125-19-024617.txt\n",
            "1000148|LEGACY CAPITAL FUND, INC.|X-17A-5|2019-02-21|edgar/data/1000148/9999999997-19-000997.txt\n",
            "1000177|NORDIC AMERICAN TANKERS Ltd|424B3|2019-03-29|edgar/data/1000177/0000919574-19-002650.txt\n",
            "1000177|NORDIC AMERICAN TANKERS Ltd|6-K|2019-02-12|edgar/data/1000177/0000919574-19-000990.txt\n",
            "1018724|AMAZON COM INC|10-K|2019-02-01|edgar/data/1018724/0001018724-19-000004.txt\n",
            "1018724|AMAZON COM INC|8-K|2019-01-31|edgar/data/1018724/0001018724-19-000002.txt\n",
            "1018724|AMAZON COM INC|8-K|2019-02-04|edgar/data/1018724/0001018724-19-000008.txt\n",
            "1018724|AMAZON COM INC|8-K|2019-02-25|edgar/data/1018724/0001193125-19-049914.txt\n",
            "101872|FIRST VARIABLE ANNUITY FUND A|24F-2NT|2019-03-25|edgar/data/101872/0000101872-19-000003.txt\n",
            "101872|FIRST VARIABLE ANNUITY FUND A|N-CEN|2019-03-11|edgar/data/101872/0001713935-19-000052.txt\n",
            "1018735|NYMOX PHARMACEUTICAL CORP|20-F|2019-03-29|edgar/data/1018735/0001640334-19-000464.txt\n",
            "1018735|NYMOX PHARMACEUTICAL CORP|4|2019-01-03|edgar/data/1018735/0001682873-19-000001.txt\n",
            "1018735|NYMOX PHARMACEUTICAL CORP|4|2019-01-03|edgar/data/1018735/0001682873-19-000002.txt\n",
            "1018825|IBM Retirement Fund|13F-HR|2019-02-14|edgar/data/1018825/0001018825-19-000001.txt\n",
            "1018840|ABERCROMBIE & FITCH CO /DE/|3|2019-02-06|edgar/data/1018840/0001225208-19-001840.txt\n",
            "1018840|ABERCROMBIE & FITCH CO /DE/|3|2019-02-06|edgar/data/1018840/0001225208-19-001841.txt\n",
            "1018840|ABERCROMBIE & FITCH CO /DE/|4|2019-02-06|edgar/data/1018840/0001225208-19-001842.txt\n"
          ]
        }
      ],
      "id": "8NhSNDAl2LZa"
    },
    {
      "cell_type": "code",
      "source": [
        "print(type(filings_index))"
      ],
      "metadata": {
        "colab": {
          "base_uri": "https://localhost:8080/"
        },
        "id": "4f-NqgvVhm7T",
        "outputId": "271265ac-db73-44c9-8cb6-bfea01b85c9b"
      },
      "id": "4f-NqgvVhm7T",
      "execution_count": 65,
      "outputs": [
        {
          "output_type": "stream",
          "name": "stdout",
          "text": [
            "<class 'str'>\n"
          ]
        }
      ]
    },
    {
      "cell_type": "code",
      "metadata": {
        "id": "xzrW2M6W21Sa",
        "colab": {
          "base_uri": "https://localhost:8080/"
        },
        "outputId": "f966c2d3-549d-413b-d91b-ab2601f6bdde"
      },
      "source": [
        "print(\"------------------\")\n",
        "print(\"PROCESSING SEC FILINGS...\")\n",
        "print(\"------------------\")\n",
        "\n",
        "\n",
        "# todo: write some python here\n",
        "\n",
        "# The strip function removes all before and after whitespace from the index while the splitline divides the total string into series of strings\n",
        "# [8:] removes the first 8 rows of the index since they are useless\n",
        "filings_list = []\n",
        "filings_string = filings_index.strip().splitlines()[8:]\n",
        "\n",
        "# Next you take each filing in the filing string and split it where there is a \"|\" which then breaks each filing into a list of 5 total varaibles\n",
        "# Each variable is then assigned to a certain class: first data is \"cik\" and so on until the dictionary is created\n",
        "# Then the dictionary is added to the filings list\n",
        "for filing in filings_string:\n",
        "  filing_data = filing.split(\"|\")\n",
        "  filing_dict = {\n",
        "    \"cik\": filing_data[0],\n",
        "    \"company_name\": filing_data[1],\n",
        "    \"form_type\": filing_data[2],\n",
        "    \"date_filed\": filing_data[3],\n",
        "    \"filename\": filing_data[4]\n",
        "  }\n",
        "  filings_list.append(filing_dict)\n",
        "\n",
        "\n"
      ],
      "execution_count": 72,
      "outputs": [
        {
          "output_type": "stream",
          "name": "stdout",
          "text": [
            "------------------\n",
            "PROCESSING SEC FILINGS...\n",
            "------------------\n"
          ]
        }
      ],
      "id": "xzrW2M6W21Sa"
    },
    {
      "cell_type": "code",
      "source": [
        "filings_count = len(filings_list)  # get the number of elements in the list\n",
        "print(filings_count)"
      ],
      "metadata": {
        "id": "5hv7uBENiTtR",
        "colab": {
          "base_uri": "https://localhost:8080/"
        },
        "outputId": "47a45a52-f488-49f3-a390-637456dd86f0"
      },
      "id": "5hv7uBENiTtR",
      "execution_count": 73,
      "outputs": [
        {
          "output_type": "stream",
          "name": "stdout",
          "text": [
            "21\n"
          ]
        }
      ]
    },
    {
      "cell_type": "code",
      "source": [
        "# creates a name for the amazon filings where the filings have \"amazon\" in the string\n",
        "amazon_filings = [filing for filing in filings_list if filing[\"company_name\"] == \"AMAZON COM INC\"]\n",
        "# counts number of instancese of amazon filings found\n",
        "amazon_filings_count = len(amazon_filings)\n",
        "print(amazon_filings_count)"
      ],
      "metadata": {
        "id": "isTh9IrXPT62",
        "colab": {
          "base_uri": "https://localhost:8080/"
        },
        "outputId": "8ed31a03-e937-490b-d11b-0b6537b385c3"
      },
      "id": "isTh9IrXPT62",
      "execution_count": 74,
      "outputs": [
        {
          "output_type": "stream",
          "name": "stdout",
          "text": [
            "4\n"
          ]
        }
      ]
    },
    {
      "cell_type": "code",
      "source": [
        "for filing in amazon_filings:\n",
        "  if filing[\"form_type\"] == \"10-K\":\n",
        "    amazon_10k_filing = filing[\"filename\"]  # get the filename of the 10-K filing\n",
        "    # break function stops the funtion from further pursuing the loop\n",
        "    break\n",
        "print(amazon_10k_filing)"
      ],
      "metadata": {
        "id": "MYoBA0GdiTqt",
        "colab": {
          "base_uri": "https://localhost:8080/"
        },
        "outputId": "fcf7f3f3-b93e-408c-9750-04595c182ee0"
      },
      "id": "MYoBA0GdiTqt",
      "execution_count": 75,
      "outputs": [
        {
          "output_type": "stream",
          "name": "stdout",
          "text": [
            "edgar/data/1018724/0001018724-19-000004.txt\n"
          ]
        }
      ]
    },
    {
      "cell_type": "code",
      "source": [
        "filing_url = ARCHIVES_URL + \"/\" + amazon_10k_filing  # concatenate the URL and the filename\n",
        "print(filing_url)"
      ],
      "metadata": {
        "id": "jJLe7Q2QiTlb",
        "colab": {
          "base_uri": "https://localhost:8080/"
        },
        "outputId": "9ad746c2-057d-49b9-e4ba-4db3c67a9c53"
      },
      "id": "jJLe7Q2QiTlb",
      "execution_count": 76,
      "outputs": [
        {
          "output_type": "stream",
          "name": "stdout",
          "text": [
            "https://www.sec.gov/Archives/edgar/data/1018724/0001018724-19-000004.txt\n"
          ]
        }
      ]
    },
    {
      "cell_type": "code",
      "source": [
        "print(filings_list)\n"
      ],
      "metadata": {
        "id": "gHpuJ8F6MJX5",
        "colab": {
          "base_uri": "https://localhost:8080/"
        },
        "outputId": "22cb21f1-d95c-4539-e7e0-a5ecdd7f5155"
      },
      "id": "gHpuJ8F6MJX5",
      "execution_count": 77,
      "outputs": [
        {
          "output_type": "stream",
          "name": "stdout",
          "text": [
            "[{'cik': '1000045', 'company_name': 'NICHOLAS FINANCIAL INC', 'form_type': '10-Q', 'date_filed': '2019-02-14', 'filename': 'edgar/data/1000045/0001193125-19-039489.txt'}, {'cik': '1000045', 'company_name': 'NICHOLAS FINANCIAL INC', 'form_type': '4', 'date_filed': '2019-01-15', 'filename': 'edgar/data/1000045/0001357521-19-000001.txt'}, {'cik': '1000045', 'company_name': 'NICHOLAS FINANCIAL INC', 'form_type': '4', 'date_filed': '2019-02-19', 'filename': 'edgar/data/1000045/0001357521-19-000002.txt'}, {'cik': '1000045', 'company_name': 'NICHOLAS FINANCIAL INC', 'form_type': '4', 'date_filed': '2019-03-15', 'filename': 'edgar/data/1000045/0001357521-19-000003.txt'}, {'cik': '1000045', 'company_name': 'NICHOLAS FINANCIAL INC', 'form_type': '8-K', 'date_filed': '2019-02-01', 'filename': 'edgar/data/1000045/0001193125-19-024617.txt'}, {'cik': '1000148', 'company_name': 'LEGACY CAPITAL FUND, INC.', 'form_type': 'X-17A-5', 'date_filed': '2019-02-21', 'filename': 'edgar/data/1000148/9999999997-19-000997.txt'}, {'cik': '1000177', 'company_name': 'NORDIC AMERICAN TANKERS Ltd', 'form_type': '424B3', 'date_filed': '2019-03-29', 'filename': 'edgar/data/1000177/0000919574-19-002650.txt'}, {'cik': '1000177', 'company_name': 'NORDIC AMERICAN TANKERS Ltd', 'form_type': '6-K', 'date_filed': '2019-02-12', 'filename': 'edgar/data/1000177/0000919574-19-000990.txt'}, {'cik': '1018724', 'company_name': 'AMAZON COM INC', 'form_type': '10-K', 'date_filed': '2019-02-01', 'filename': 'edgar/data/1018724/0001018724-19-000004.txt'}, {'cik': '1018724', 'company_name': 'AMAZON COM INC', 'form_type': '8-K', 'date_filed': '2019-01-31', 'filename': 'edgar/data/1018724/0001018724-19-000002.txt'}, {'cik': '1018724', 'company_name': 'AMAZON COM INC', 'form_type': '8-K', 'date_filed': '2019-02-04', 'filename': 'edgar/data/1018724/0001018724-19-000008.txt'}, {'cik': '1018724', 'company_name': 'AMAZON COM INC', 'form_type': '8-K', 'date_filed': '2019-02-25', 'filename': 'edgar/data/1018724/0001193125-19-049914.txt'}, {'cik': '101872', 'company_name': 'FIRST VARIABLE ANNUITY FUND A', 'form_type': '24F-2NT', 'date_filed': '2019-03-25', 'filename': 'edgar/data/101872/0000101872-19-000003.txt'}, {'cik': '101872', 'company_name': 'FIRST VARIABLE ANNUITY FUND A', 'form_type': 'N-CEN', 'date_filed': '2019-03-11', 'filename': 'edgar/data/101872/0001713935-19-000052.txt'}, {'cik': '1018735', 'company_name': 'NYMOX PHARMACEUTICAL CORP', 'form_type': '20-F', 'date_filed': '2019-03-29', 'filename': 'edgar/data/1018735/0001640334-19-000464.txt'}, {'cik': '1018735', 'company_name': 'NYMOX PHARMACEUTICAL CORP', 'form_type': '4', 'date_filed': '2019-01-03', 'filename': 'edgar/data/1018735/0001682873-19-000001.txt'}, {'cik': '1018735', 'company_name': 'NYMOX PHARMACEUTICAL CORP', 'form_type': '4', 'date_filed': '2019-01-03', 'filename': 'edgar/data/1018735/0001682873-19-000002.txt'}, {'cik': '1018825', 'company_name': 'IBM Retirement Fund', 'form_type': '13F-HR', 'date_filed': '2019-02-14', 'filename': 'edgar/data/1018825/0001018825-19-000001.txt'}, {'cik': '1018840', 'company_name': 'ABERCROMBIE & FITCH CO /DE/', 'form_type': '3', 'date_filed': '2019-02-06', 'filename': 'edgar/data/1018840/0001225208-19-001840.txt'}, {'cik': '1018840', 'company_name': 'ABERCROMBIE & FITCH CO /DE/', 'form_type': '3', 'date_filed': '2019-02-06', 'filename': 'edgar/data/1018840/0001225208-19-001841.txt'}, {'cik': '1018840', 'company_name': 'ABERCROMBIE & FITCH CO /DE/', 'form_type': '4', 'date_filed': '2019-02-06', 'filename': 'edgar/data/1018840/0001225208-19-001842.txt'}]\n"
          ]
        }
      ]
    },
    {
      "cell_type": "code",
      "source": [],
      "metadata": {
        "id": "n5i0YkteiTfz"
      },
      "id": "n5i0YkteiTfz",
      "execution_count": null,
      "outputs": []
    },
    {
      "cell_type": "markdown",
      "metadata": {
        "id": "HB0pW8ZCHIA_"
      },
      "source": [
        "## Challenge 4 (Stock Prices Dictionary)\n"
      ],
      "id": "HB0pW8ZCHIA_"
    },
    {
      "cell_type": "markdown",
      "metadata": {
        "id": "NzcqJVRLFeDo"
      },
      "source": [
        "\n",
        "Given the Python variable called `stock_data` provided below, write Python code which references that variable to perform each of the following tasks...\n",
        "\n",
        "A) Print the **selected stock symbol** (i.e. `\"MSFT\"`). \n",
        "\n",
        "\n",
        "B) Assuming the latest day will always be listed first, print the **latest available day** (i.e. `\"2030-03-16\"`). \n",
        "\n",
        "\n",
        "\n",
        "C) Assuming the latest day will always be listed first, print the stock's **latest closing price**, formatted as USD with dollar sign and two decimal places (i.e. `\"$237.71\"`) \n",
        "\n",
        "> HINT: use the `to_usd()` function provided via setup cell\n",
        "\n",
        "\n",
        "D) Assemble and print a new **list of closing prices**, with the prices listed in ASCENDING order of their date (e.g. `[232.42, 237.13, 235.75, 234.81, 237.71]` ). \n",
        "\n",
        "\n",
        "> HINT: in your sorting operation, try leveraging the `operator` module's `itemgetter` function, or your own custom function\n",
        "\n"
      ],
      "id": "NzcqJVRLFeDo"
    },
    {
      "cell_type": "code",
      "metadata": {
        "id": "h0e6PrQ0FdMM"
      },
      "source": [
        "# SETUP CELL (RUN AND DO NOT MODIFY)\n",
        "\n",
        "stock_data = {\n",
        "    \"Meta Data\": {\n",
        "        \"1. Information\": \"Daily Prices (open, high, low, close) and Volumes\",\n",
        "        \"2. Symbol\": \"MSFT\",\n",
        "        \"3. Output Size\": \"Compact\",\n",
        "        \"4. Time Zone\": \"US/Eastern\"\n",
        "    },\n",
        "    \"Time Series (Daily)\": {\n",
        "        \"2030-03-16\": {\n",
        "            \"1. open\": \"236.2800\",\n",
        "            \"2. high\": \"240.0550\",\n",
        "            \"3. low\": \"235.9400\",\n",
        "            \"4. close\": \"237.7100\",\n",
        "            \"5. volume\": \"28092196\"\n",
        "        },\n",
        "        \"2030-03-15\": {\n",
        "            \"1. open\": \"234.9600\",\n",
        "            \"2. high\": \"235.1850\",\n",
        "            \"3. low\": \"231.8100\",\n",
        "            \"4. close\": \"234.8100\",\n",
        "            \"5. volume\": \"26042669\"\n",
        "        },\n",
        "        \"2030-03-12\": {\n",
        "            \"1. open\": \"234.0100\",\n",
        "            \"2. high\": \"235.8200\",\n",
        "            \"3. low\": \"233.2300\",\n",
        "            \"4. close\": \"235.7500\",\n",
        "            \"5. volume\": \"22653662\"\n",
        "        },\n",
        "        \"2030-03-11\": {\n",
        "            \"1. open\": \"234.9600\",\n",
        "            \"2. high\": \"239.1700\",\n",
        "            \"3. low\": \"234.3100\",\n",
        "            \"4. close\": \"237.1300\",\n",
        "            \"5. volume\": \"29907586\"\n",
        "        },\n",
        "        \"2030-03-10\": {\n",
        "            \"1. open\": \"237.0000\",\n",
        "            \"2. high\": \"237.0000\",\n",
        "            \"3. low\": \"232.0400\",\n",
        "            \"4. close\": \"232.4200\",\n",
        "            \"5. volume\": \"29746812\"\n",
        "        }\n",
        "    }\n",
        "}\n",
        "\n"
      ],
      "execution_count": 97,
      "outputs": [],
      "id": "h0e6PrQ0FdMM"
    },
    {
      "cell_type": "code",
      "metadata": {
        "colab": {
          "base_uri": "https://localhost:8080/"
        },
        "id": "5263dWmoG0bv",
        "outputId": "940beb0f-2b00-4562-fb9e-52925eb45a7a"
      },
      "source": [
        "print(\"------------------\")\n",
        "print(\"PROCESSING STOCK DATA...\")\n",
        "print(\"------------------\")\n",
        "\n",
        "# todo: write some python here\n",
        "\n",
        "MSFT_stock_symbol = stock_data[\"Meta Data\"][\"2. Symbol\"]\n",
        "print(MSFT_stock_symbol)\n"
      ],
      "execution_count": 82,
      "outputs": [
        {
          "output_type": "stream",
          "name": "stdout",
          "text": [
            "------------------\n",
            "PROCESSING STOCK DATA...\n",
            "------------------\n",
            "MSFT\n"
          ]
        }
      ],
      "id": "5263dWmoG0bv"
    },
    {
      "cell_type": "code",
      "source": [
        "last_day = list(stock_data[\"Time Series (Daily)\"].keys())[0]\n",
        "print(last_day)"
      ],
      "metadata": {
        "id": "6OQGMQN0f_Qk",
        "colab": {
          "base_uri": "https://localhost:8080/"
        },
        "outputId": "48f8d5af-7ec3-449a-98eb-cbe1064977d5"
      },
      "id": "6OQGMQN0f_Qk",
      "execution_count": 93,
      "outputs": [
        {
          "output_type": "stream",
          "name": "stdout",
          "text": [
            "2030-03-16\n"
          ]
        }
      ]
    },
    {
      "cell_type": "code",
      "source": [
        "latest_close = stock_data[\"Time Series (Daily)\"][last_day][\"4. close\"]\n",
        "formatted_latest_close = to_usd(float(latest_close))\n",
        "print(formatted_latest_close)"
      ],
      "metadata": {
        "id": "TL_u2BiooFgK",
        "colab": {
          "base_uri": "https://localhost:8080/"
        },
        "outputId": "202536be-0d16-4158-edd5-354a40c21365"
      },
      "id": "TL_u2BiooFgK",
      "execution_count": 99,
      "outputs": [
        {
          "output_type": "stream",
          "name": "stdout",
          "text": [
            "$237.71\n"
          ]
        }
      ]
    },
    {
      "cell_type": "code",
      "source": [
        "dates = list(stock_data[\"Time Series (Daily)\"].keys())\n",
        "\n",
        "# sort dates in ascending order\n",
        "dates.sort()\n",
        "\n",
        "# create empty list to store closing prices\n",
        "closing_prices = []\n",
        "\n",
        "# iterate through dates and get corresponding closing price\n",
        "for date in dates:\n",
        "  closing_price = float(stock_data[\"Time Series (Daily)\"][date][\"4. close\"])\n",
        "  closing_prices.append(closing_price)\n",
        "\n",
        "# print sorted closing prices\n",
        "print(closing_prices)"
      ],
      "metadata": {
        "id": "tUKIqFwJQru-",
        "colab": {
          "base_uri": "https://localhost:8080/"
        },
        "outputId": "ebfcd1a5-b334-4f30-a05b-f8e53defb90f"
      },
      "id": "tUKIqFwJQru-",
      "execution_count": 103,
      "outputs": [
        {
          "output_type": "stream",
          "name": "stdout",
          "text": [
            "[232.42, 237.13, 235.75, 234.81, 237.71]\n"
          ]
        }
      ]
    },
    {
      "cell_type": "markdown",
      "source": [
        "## Challenge 5 (Stocks Prices CSV File)"
      ],
      "metadata": {
        "id": "-c7vwtTopnlX"
      },
      "id": "-c7vwtTopnlX"
    },
    {
      "cell_type": "markdown",
      "source": [
        "After running the provided setup cells below, use the provided `nflx_df` variable to answer the following questions:\n",
        "\n",
        "A) Assuming each row represents a different date, print the **number of rows** or dates available (i.e. `100`).\n",
        "\n",
        "B) Print the **column names** (i.e. `['timestamp', 'open', 'high', 'low', 'close', 'adjusted_close', 'volume', 'dividend_amount', 'split_coefficient']`).\n",
        "\n",
        "C) Print the **earliest date** of available data (i.e. `\"2021-05-27\"`). We can assume it will be provided in the last row. \n",
        "\n",
        "D) Print the **latest date** of available data (i.e. `\"2021-10-18\"`). We assume it will be provided in the first row.\n",
        "\n",
        "E) Print the **latest adjusted closing price**, formatted as USD (i.e. `\"$637.97\"`).\n",
        "\n",
        "<hr>\n",
        "\n",
        "> DATA NOTE: only the adjusted close column is scaled properly to account for stock splits, but in this case there are no stock splits (as denoted by all ones in the \"split_coeficient\" column), so we can feel free to calculate the answers for the next two questions using the \"high\" and \"low\" columns respectively, and it will be methodologically sound\n",
        "\n",
        "\n",
        "F) Print the **highest high price**, formatted as USD (i.e. \"$646.84\"). This is the maximum of all high prices.\n",
        "\n",
        "G) Print the **lowest low price**, formatted as USD (i.e. \"$482.14\"). This is the minimum of all low prices.\n"
      ],
      "metadata": {
        "id": "jRAl4zBXh-I9"
      },
      "id": "jRAl4zBXh-I9"
    },
    {
      "cell_type": "code",
      "source": [
        "\n",
        "#\n",
        "# SETUP CELL (RUN AND DO NOT MODIFY)\n",
        "#\n",
        "\n",
        "nflx_file_url = \"https://raw.githubusercontent.com/prof-rossetti/intro-to-python/main/data/daily_adjusted_nflx.csv\"\n",
        "print(\"RAW CSV FILE URL:\", nflx_file_url)\n",
        "\n",
        "nflx_df = pd.read_csv(nflx_file_url)\n",
        "nflx_df.head()\n"
      ],
      "metadata": {
        "colab": {
          "base_uri": "https://localhost:8080/",
          "height": 223
        },
        "id": "Di57i4W4pu7Q",
        "outputId": "c8dd42f7-1eca-4946-a2e8-539743effa10"
      },
      "id": "Di57i4W4pu7Q",
      "execution_count": 104,
      "outputs": [
        {
          "output_type": "stream",
          "name": "stdout",
          "text": [
            "RAW CSV FILE URL: https://raw.githubusercontent.com/prof-rossetti/intro-to-python/main/data/daily_adjusted_nflx.csv\n"
          ]
        },
        {
          "output_type": "execute_result",
          "data": {
            "text/plain": [
              "    timestamp      open      high       low   close  adjusted_close   volume  \\\n",
              "0  2021-10-18  632.1000  638.4100  620.5901  637.97          637.97  4669071   \n",
              "1  2021-10-15  638.0000  639.4200  625.1600  628.29          628.29  4116874   \n",
              "2  2021-10-14  632.2300  636.8800  626.7900  633.80          633.80  2672535   \n",
              "3  2021-10-13  632.1791  632.1791  622.1000  629.76          629.76  2424638   \n",
              "4  2021-10-12  633.0200  637.6550  621.9900  624.94          624.94  3227349   \n",
              "\n",
              "   dividend_amount  split_coefficient  \n",
              "0              0.0                1.0  \n",
              "1              0.0                1.0  \n",
              "2              0.0                1.0  \n",
              "3              0.0                1.0  \n",
              "4              0.0                1.0  "
            ],
            "text/html": [
              "\n",
              "  <div id=\"df-b3d35807-21f2-4a87-9626-03d0afb30ab7\">\n",
              "    <div class=\"colab-df-container\">\n",
              "      <div>\n",
              "<style scoped>\n",
              "    .dataframe tbody tr th:only-of-type {\n",
              "        vertical-align: middle;\n",
              "    }\n",
              "\n",
              "    .dataframe tbody tr th {\n",
              "        vertical-align: top;\n",
              "    }\n",
              "\n",
              "    .dataframe thead th {\n",
              "        text-align: right;\n",
              "    }\n",
              "</style>\n",
              "<table border=\"1\" class=\"dataframe\">\n",
              "  <thead>\n",
              "    <tr style=\"text-align: right;\">\n",
              "      <th></th>\n",
              "      <th>timestamp</th>\n",
              "      <th>open</th>\n",
              "      <th>high</th>\n",
              "      <th>low</th>\n",
              "      <th>close</th>\n",
              "      <th>adjusted_close</th>\n",
              "      <th>volume</th>\n",
              "      <th>dividend_amount</th>\n",
              "      <th>split_coefficient</th>\n",
              "    </tr>\n",
              "  </thead>\n",
              "  <tbody>\n",
              "    <tr>\n",
              "      <th>0</th>\n",
              "      <td>2021-10-18</td>\n",
              "      <td>632.1000</td>\n",
              "      <td>638.4100</td>\n",
              "      <td>620.5901</td>\n",
              "      <td>637.97</td>\n",
              "      <td>637.97</td>\n",
              "      <td>4669071</td>\n",
              "      <td>0.0</td>\n",
              "      <td>1.0</td>\n",
              "    </tr>\n",
              "    <tr>\n",
              "      <th>1</th>\n",
              "      <td>2021-10-15</td>\n",
              "      <td>638.0000</td>\n",
              "      <td>639.4200</td>\n",
              "      <td>625.1600</td>\n",
              "      <td>628.29</td>\n",
              "      <td>628.29</td>\n",
              "      <td>4116874</td>\n",
              "      <td>0.0</td>\n",
              "      <td>1.0</td>\n",
              "    </tr>\n",
              "    <tr>\n",
              "      <th>2</th>\n",
              "      <td>2021-10-14</td>\n",
              "      <td>632.2300</td>\n",
              "      <td>636.8800</td>\n",
              "      <td>626.7900</td>\n",
              "      <td>633.80</td>\n",
              "      <td>633.80</td>\n",
              "      <td>2672535</td>\n",
              "      <td>0.0</td>\n",
              "      <td>1.0</td>\n",
              "    </tr>\n",
              "    <tr>\n",
              "      <th>3</th>\n",
              "      <td>2021-10-13</td>\n",
              "      <td>632.1791</td>\n",
              "      <td>632.1791</td>\n",
              "      <td>622.1000</td>\n",
              "      <td>629.76</td>\n",
              "      <td>629.76</td>\n",
              "      <td>2424638</td>\n",
              "      <td>0.0</td>\n",
              "      <td>1.0</td>\n",
              "    </tr>\n",
              "    <tr>\n",
              "      <th>4</th>\n",
              "      <td>2021-10-12</td>\n",
              "      <td>633.0200</td>\n",
              "      <td>637.6550</td>\n",
              "      <td>621.9900</td>\n",
              "      <td>624.94</td>\n",
              "      <td>624.94</td>\n",
              "      <td>3227349</td>\n",
              "      <td>0.0</td>\n",
              "      <td>1.0</td>\n",
              "    </tr>\n",
              "  </tbody>\n",
              "</table>\n",
              "</div>\n",
              "      <button class=\"colab-df-convert\" onclick=\"convertToInteractive('df-b3d35807-21f2-4a87-9626-03d0afb30ab7')\"\n",
              "              title=\"Convert this dataframe to an interactive table.\"\n",
              "              style=\"display:none;\">\n",
              "        \n",
              "  <svg xmlns=\"http://www.w3.org/2000/svg\" height=\"24px\"viewBox=\"0 0 24 24\"\n",
              "       width=\"24px\">\n",
              "    <path d=\"M0 0h24v24H0V0z\" fill=\"none\"/>\n",
              "    <path d=\"M18.56 5.44l.94 2.06.94-2.06 2.06-.94-2.06-.94-.94-2.06-.94 2.06-2.06.94zm-11 1L8.5 8.5l.94-2.06 2.06-.94-2.06-.94L8.5 2.5l-.94 2.06-2.06.94zm10 10l.94 2.06.94-2.06 2.06-.94-2.06-.94-.94-2.06-.94 2.06-2.06.94z\"/><path d=\"M17.41 7.96l-1.37-1.37c-.4-.4-.92-.59-1.43-.59-.52 0-1.04.2-1.43.59L10.3 9.45l-7.72 7.72c-.78.78-.78 2.05 0 2.83L4 21.41c.39.39.9.59 1.41.59.51 0 1.02-.2 1.41-.59l7.78-7.78 2.81-2.81c.8-.78.8-2.07 0-2.86zM5.41 20L4 18.59l7.72-7.72 1.47 1.35L5.41 20z\"/>\n",
              "  </svg>\n",
              "      </button>\n",
              "      \n",
              "  <style>\n",
              "    .colab-df-container {\n",
              "      display:flex;\n",
              "      flex-wrap:wrap;\n",
              "      gap: 12px;\n",
              "    }\n",
              "\n",
              "    .colab-df-convert {\n",
              "      background-color: #E8F0FE;\n",
              "      border: none;\n",
              "      border-radius: 50%;\n",
              "      cursor: pointer;\n",
              "      display: none;\n",
              "      fill: #1967D2;\n",
              "      height: 32px;\n",
              "      padding: 0 0 0 0;\n",
              "      width: 32px;\n",
              "    }\n",
              "\n",
              "    .colab-df-convert:hover {\n",
              "      background-color: #E2EBFA;\n",
              "      box-shadow: 0px 1px 2px rgba(60, 64, 67, 0.3), 0px 1px 3px 1px rgba(60, 64, 67, 0.15);\n",
              "      fill: #174EA6;\n",
              "    }\n",
              "\n",
              "    [theme=dark] .colab-df-convert {\n",
              "      background-color: #3B4455;\n",
              "      fill: #D2E3FC;\n",
              "    }\n",
              "\n",
              "    [theme=dark] .colab-df-convert:hover {\n",
              "      background-color: #434B5C;\n",
              "      box-shadow: 0px 1px 3px 1px rgba(0, 0, 0, 0.15);\n",
              "      filter: drop-shadow(0px 1px 2px rgba(0, 0, 0, 0.3));\n",
              "      fill: #FFFFFF;\n",
              "    }\n",
              "  </style>\n",
              "\n",
              "      <script>\n",
              "        const buttonEl =\n",
              "          document.querySelector('#df-b3d35807-21f2-4a87-9626-03d0afb30ab7 button.colab-df-convert');\n",
              "        buttonEl.style.display =\n",
              "          google.colab.kernel.accessAllowed ? 'block' : 'none';\n",
              "\n",
              "        async function convertToInteractive(key) {\n",
              "          const element = document.querySelector('#df-b3d35807-21f2-4a87-9626-03d0afb30ab7');\n",
              "          const dataTable =\n",
              "            await google.colab.kernel.invokeFunction('convertToInteractive',\n",
              "                                                     [key], {});\n",
              "          if (!dataTable) return;\n",
              "\n",
              "          const docLinkHtml = 'Like what you see? Visit the ' +\n",
              "            '<a target=\"_blank\" href=https://colab.research.google.com/notebooks/data_table.ipynb>data table notebook</a>'\n",
              "            + ' to learn more about interactive tables.';\n",
              "          element.innerHTML = '';\n",
              "          dataTable['output_type'] = 'display_data';\n",
              "          await google.colab.output.renderOutput(dataTable, element);\n",
              "          const docLink = document.createElement('div');\n",
              "          docLink.innerHTML = docLinkHtml;\n",
              "          element.appendChild(docLink);\n",
              "        }\n",
              "      </script>\n",
              "    </div>\n",
              "  </div>\n",
              "  "
            ]
          },
          "metadata": {},
          "execution_count": 104
        }
      ]
    },
    {
      "cell_type": "code",
      "source": [
        "# FYI all split coefs are equal to 1: \n",
        "print(\"SPLITS:\", nflx_df[\"split_coefficient\"].unique())"
      ],
      "metadata": {
        "colab": {
          "base_uri": "https://localhost:8080/"
        },
        "id": "6Hqu7GP9Eg9d",
        "outputId": "f7c5d014-6aef-439f-c3af-99b09db3fa54"
      },
      "id": "6Hqu7GP9Eg9d",
      "execution_count": 105,
      "outputs": [
        {
          "output_type": "stream",
          "name": "stdout",
          "text": [
            "SPLITS: [1.]\n"
          ]
        }
      ]
    },
    {
      "cell_type": "code",
      "source": [
        "\n",
        "fig = px.line(nflx_df, x=\"timestamp\", y=\"adjusted_close\", title=\"Stock Prices (NFLX)\")\n",
        "fig.show()"
      ],
      "metadata": {
        "colab": {
          "base_uri": "https://localhost:8080/",
          "height": 542
        },
        "id": "ZjoPl5XtiTHG",
        "outputId": "0aaa2ebe-4b75-456e-84bb-8bb76cf1e76c"
      },
      "id": "ZjoPl5XtiTHG",
      "execution_count": 106,
      "outputs": [
        {
          "output_type": "display_data",
          "data": {
            "text/html": [
              "<html>\n",
              "<head><meta charset=\"utf-8\" /></head>\n",
              "<body>\n",
              "    <div>            <script src=\"https://cdnjs.cloudflare.com/ajax/libs/mathjax/2.7.5/MathJax.js?config=TeX-AMS-MML_SVG\"></script><script type=\"text/javascript\">if (window.MathJax) {MathJax.Hub.Config({SVG: {font: \"STIX-Web\"}});}</script>                <script type=\"text/javascript\">window.PlotlyConfig = {MathJaxConfig: 'local'};</script>\n",
              "        <script src=\"https://cdn.plot.ly/plotly-2.8.3.min.js\"></script>                <div id=\"f5ecc714-a231-4e3d-9743-d5820ee837c9\" class=\"plotly-graph-div\" style=\"height:525px; width:100%;\"></div>            <script type=\"text/javascript\">                                    window.PLOTLYENV=window.PLOTLYENV || {};                                    if (document.getElementById(\"f5ecc714-a231-4e3d-9743-d5820ee837c9\")) {                    Plotly.newPlot(                        \"f5ecc714-a231-4e3d-9743-d5820ee837c9\",                        [{\"hovertemplate\":\"timestamp=%{x}<br>adjusted_close=%{y}<extra></extra>\",\"legendgroup\":\"\",\"line\":{\"color\":\"#636efa\",\"dash\":\"solid\"},\"marker\":{\"symbol\":\"circle\"},\"mode\":\"lines\",\"name\":\"\",\"orientation\":\"v\",\"showlegend\":false,\"x\":[\"2021-10-18\",\"2021-10-15\",\"2021-10-14\",\"2021-10-13\",\"2021-10-12\",\"2021-10-11\",\"2021-10-08\",\"2021-10-07\",\"2021-10-06\",\"2021-10-05\",\"2021-10-04\",\"2021-10-01\",\"2021-09-30\",\"2021-09-29\",\"2021-09-28\",\"2021-09-27\",\"2021-09-24\",\"2021-09-23\",\"2021-09-22\",\"2021-09-21\",\"2021-09-20\",\"2021-09-17\",\"2021-09-16\",\"2021-09-15\",\"2021-09-14\",\"2021-09-13\",\"2021-09-10\",\"2021-09-09\",\"2021-09-08\",\"2021-09-07\",\"2021-09-03\",\"2021-09-02\",\"2021-09-01\",\"2021-08-31\",\"2021-08-30\",\"2021-08-27\",\"2021-08-26\",\"2021-08-25\",\"2021-08-24\",\"2021-08-23\",\"2021-08-20\",\"2021-08-19\",\"2021-08-18\",\"2021-08-17\",\"2021-08-16\",\"2021-08-13\",\"2021-08-12\",\"2021-08-11\",\"2021-08-10\",\"2021-08-09\",\"2021-08-06\",\"2021-08-05\",\"2021-08-04\",\"2021-08-03\",\"2021-08-02\",\"2021-07-30\",\"2021-07-29\",\"2021-07-28\",\"2021-07-27\",\"2021-07-26\",\"2021-07-23\",\"2021-07-22\",\"2021-07-21\",\"2021-07-20\",\"2021-07-19\",\"2021-07-16\",\"2021-07-15\",\"2021-07-14\",\"2021-07-13\",\"2021-07-12\",\"2021-07-09\",\"2021-07-08\",\"2021-07-07\",\"2021-07-06\",\"2021-07-02\",\"2021-07-01\",\"2021-06-30\",\"2021-06-29\",\"2021-06-28\",\"2021-06-25\",\"2021-06-24\",\"2021-06-23\",\"2021-06-22\",\"2021-06-21\",\"2021-06-18\",\"2021-06-17\",\"2021-06-16\",\"2021-06-15\",\"2021-06-14\",\"2021-06-11\",\"2021-06-10\",\"2021-06-09\",\"2021-06-08\",\"2021-06-07\",\"2021-06-04\",\"2021-06-03\",\"2021-06-02\",\"2021-06-01\",\"2021-05-28\",\"2021-05-27\"],\"xaxis\":\"x\",\"y\":[637.97,628.29,633.8,629.76,624.94,627.04,632.66,631.85,639.1,634.81,603.35,613.15,610.34,599.06,583.85,592.64,592.39,593.26,590.65,573.14,575.43,589.35,586.5,582.87,577.76,589.29,598.72,597.54,606.05,606.71,590.53,588.55,582.07,569.19,566.18,558.92,550.12,547.58,553.41,553.33,546.88,543.71,521.87,518.91,517.92,515.92,510.72,512.4,515.84,519.97,520.55,524.89,517.35,510.82,515.15,517.57,514.25,519.3,518.91,516.49,515.41,511.77,513.63,531.05,532.28,530.31,542.95,547.95,540.68,537.31,535.98,530.76,535.96,541.64,533.98,533.54,528.21,533.5,533.03,527.07,518.06,512.74,508.82,497.0,500.77,498.34,492.41,491.9,499.89,488.77,487.27,485.81,492.39,494.66,494.74,489.43,499.24,499.08,502.81,503.86],\"yaxis\":\"y\",\"type\":\"scatter\"}],                        {\"template\":{\"data\":{\"bar\":[{\"error_x\":{\"color\":\"#2a3f5f\"},\"error_y\":{\"color\":\"#2a3f5f\"},\"marker\":{\"line\":{\"color\":\"#E5ECF6\",\"width\":0.5},\"pattern\":{\"fillmode\":\"overlay\",\"size\":10,\"solidity\":0.2}},\"type\":\"bar\"}],\"barpolar\":[{\"marker\":{\"line\":{\"color\":\"#E5ECF6\",\"width\":0.5},\"pattern\":{\"fillmode\":\"overlay\",\"size\":10,\"solidity\":0.2}},\"type\":\"barpolar\"}],\"carpet\":[{\"aaxis\":{\"endlinecolor\":\"#2a3f5f\",\"gridcolor\":\"white\",\"linecolor\":\"white\",\"minorgridcolor\":\"white\",\"startlinecolor\":\"#2a3f5f\"},\"baxis\":{\"endlinecolor\":\"#2a3f5f\",\"gridcolor\":\"white\",\"linecolor\":\"white\",\"minorgridcolor\":\"white\",\"startlinecolor\":\"#2a3f5f\"},\"type\":\"carpet\"}],\"choropleth\":[{\"colorbar\":{\"outlinewidth\":0,\"ticks\":\"\"},\"type\":\"choropleth\"}],\"contour\":[{\"colorbar\":{\"outlinewidth\":0,\"ticks\":\"\"},\"colorscale\":[[0.0,\"#0d0887\"],[0.1111111111111111,\"#46039f\"],[0.2222222222222222,\"#7201a8\"],[0.3333333333333333,\"#9c179e\"],[0.4444444444444444,\"#bd3786\"],[0.5555555555555556,\"#d8576b\"],[0.6666666666666666,\"#ed7953\"],[0.7777777777777778,\"#fb9f3a\"],[0.8888888888888888,\"#fdca26\"],[1.0,\"#f0f921\"]],\"type\":\"contour\"}],\"contourcarpet\":[{\"colorbar\":{\"outlinewidth\":0,\"ticks\":\"\"},\"type\":\"contourcarpet\"}],\"heatmap\":[{\"colorbar\":{\"outlinewidth\":0,\"ticks\":\"\"},\"colorscale\":[[0.0,\"#0d0887\"],[0.1111111111111111,\"#46039f\"],[0.2222222222222222,\"#7201a8\"],[0.3333333333333333,\"#9c179e\"],[0.4444444444444444,\"#bd3786\"],[0.5555555555555556,\"#d8576b\"],[0.6666666666666666,\"#ed7953\"],[0.7777777777777778,\"#fb9f3a\"],[0.8888888888888888,\"#fdca26\"],[1.0,\"#f0f921\"]],\"type\":\"heatmap\"}],\"heatmapgl\":[{\"colorbar\":{\"outlinewidth\":0,\"ticks\":\"\"},\"colorscale\":[[0.0,\"#0d0887\"],[0.1111111111111111,\"#46039f\"],[0.2222222222222222,\"#7201a8\"],[0.3333333333333333,\"#9c179e\"],[0.4444444444444444,\"#bd3786\"],[0.5555555555555556,\"#d8576b\"],[0.6666666666666666,\"#ed7953\"],[0.7777777777777778,\"#fb9f3a\"],[0.8888888888888888,\"#fdca26\"],[1.0,\"#f0f921\"]],\"type\":\"heatmapgl\"}],\"histogram\":[{\"marker\":{\"pattern\":{\"fillmode\":\"overlay\",\"size\":10,\"solidity\":0.2}},\"type\":\"histogram\"}],\"histogram2d\":[{\"colorbar\":{\"outlinewidth\":0,\"ticks\":\"\"},\"colorscale\":[[0.0,\"#0d0887\"],[0.1111111111111111,\"#46039f\"],[0.2222222222222222,\"#7201a8\"],[0.3333333333333333,\"#9c179e\"],[0.4444444444444444,\"#bd3786\"],[0.5555555555555556,\"#d8576b\"],[0.6666666666666666,\"#ed7953\"],[0.7777777777777778,\"#fb9f3a\"],[0.8888888888888888,\"#fdca26\"],[1.0,\"#f0f921\"]],\"type\":\"histogram2d\"}],\"histogram2dcontour\":[{\"colorbar\":{\"outlinewidth\":0,\"ticks\":\"\"},\"colorscale\":[[0.0,\"#0d0887\"],[0.1111111111111111,\"#46039f\"],[0.2222222222222222,\"#7201a8\"],[0.3333333333333333,\"#9c179e\"],[0.4444444444444444,\"#bd3786\"],[0.5555555555555556,\"#d8576b\"],[0.6666666666666666,\"#ed7953\"],[0.7777777777777778,\"#fb9f3a\"],[0.8888888888888888,\"#fdca26\"],[1.0,\"#f0f921\"]],\"type\":\"histogram2dcontour\"}],\"mesh3d\":[{\"colorbar\":{\"outlinewidth\":0,\"ticks\":\"\"},\"type\":\"mesh3d\"}],\"parcoords\":[{\"line\":{\"colorbar\":{\"outlinewidth\":0,\"ticks\":\"\"}},\"type\":\"parcoords\"}],\"pie\":[{\"automargin\":true,\"type\":\"pie\"}],\"scatter\":[{\"marker\":{\"colorbar\":{\"outlinewidth\":0,\"ticks\":\"\"}},\"type\":\"scatter\"}],\"scatter3d\":[{\"line\":{\"colorbar\":{\"outlinewidth\":0,\"ticks\":\"\"}},\"marker\":{\"colorbar\":{\"outlinewidth\":0,\"ticks\":\"\"}},\"type\":\"scatter3d\"}],\"scattercarpet\":[{\"marker\":{\"colorbar\":{\"outlinewidth\":0,\"ticks\":\"\"}},\"type\":\"scattercarpet\"}],\"scattergeo\":[{\"marker\":{\"colorbar\":{\"outlinewidth\":0,\"ticks\":\"\"}},\"type\":\"scattergeo\"}],\"scattergl\":[{\"marker\":{\"colorbar\":{\"outlinewidth\":0,\"ticks\":\"\"}},\"type\":\"scattergl\"}],\"scattermapbox\":[{\"marker\":{\"colorbar\":{\"outlinewidth\":0,\"ticks\":\"\"}},\"type\":\"scattermapbox\"}],\"scatterpolar\":[{\"marker\":{\"colorbar\":{\"outlinewidth\":0,\"ticks\":\"\"}},\"type\":\"scatterpolar\"}],\"scatterpolargl\":[{\"marker\":{\"colorbar\":{\"outlinewidth\":0,\"ticks\":\"\"}},\"type\":\"scatterpolargl\"}],\"scatterternary\":[{\"marker\":{\"colorbar\":{\"outlinewidth\":0,\"ticks\":\"\"}},\"type\":\"scatterternary\"}],\"surface\":[{\"colorbar\":{\"outlinewidth\":0,\"ticks\":\"\"},\"colorscale\":[[0.0,\"#0d0887\"],[0.1111111111111111,\"#46039f\"],[0.2222222222222222,\"#7201a8\"],[0.3333333333333333,\"#9c179e\"],[0.4444444444444444,\"#bd3786\"],[0.5555555555555556,\"#d8576b\"],[0.6666666666666666,\"#ed7953\"],[0.7777777777777778,\"#fb9f3a\"],[0.8888888888888888,\"#fdca26\"],[1.0,\"#f0f921\"]],\"type\":\"surface\"}],\"table\":[{\"cells\":{\"fill\":{\"color\":\"#EBF0F8\"},\"line\":{\"color\":\"white\"}},\"header\":{\"fill\":{\"color\":\"#C8D4E3\"},\"line\":{\"color\":\"white\"}},\"type\":\"table\"}]},\"layout\":{\"annotationdefaults\":{\"arrowcolor\":\"#2a3f5f\",\"arrowhead\":0,\"arrowwidth\":1},\"autotypenumbers\":\"strict\",\"coloraxis\":{\"colorbar\":{\"outlinewidth\":0,\"ticks\":\"\"}},\"colorscale\":{\"diverging\":[[0,\"#8e0152\"],[0.1,\"#c51b7d\"],[0.2,\"#de77ae\"],[0.3,\"#f1b6da\"],[0.4,\"#fde0ef\"],[0.5,\"#f7f7f7\"],[0.6,\"#e6f5d0\"],[0.7,\"#b8e186\"],[0.8,\"#7fbc41\"],[0.9,\"#4d9221\"],[1,\"#276419\"]],\"sequential\":[[0.0,\"#0d0887\"],[0.1111111111111111,\"#46039f\"],[0.2222222222222222,\"#7201a8\"],[0.3333333333333333,\"#9c179e\"],[0.4444444444444444,\"#bd3786\"],[0.5555555555555556,\"#d8576b\"],[0.6666666666666666,\"#ed7953\"],[0.7777777777777778,\"#fb9f3a\"],[0.8888888888888888,\"#fdca26\"],[1.0,\"#f0f921\"]],\"sequentialminus\":[[0.0,\"#0d0887\"],[0.1111111111111111,\"#46039f\"],[0.2222222222222222,\"#7201a8\"],[0.3333333333333333,\"#9c179e\"],[0.4444444444444444,\"#bd3786\"],[0.5555555555555556,\"#d8576b\"],[0.6666666666666666,\"#ed7953\"],[0.7777777777777778,\"#fb9f3a\"],[0.8888888888888888,\"#fdca26\"],[1.0,\"#f0f921\"]]},\"colorway\":[\"#636efa\",\"#EF553B\",\"#00cc96\",\"#ab63fa\",\"#FFA15A\",\"#19d3f3\",\"#FF6692\",\"#B6E880\",\"#FF97FF\",\"#FECB52\"],\"font\":{\"color\":\"#2a3f5f\"},\"geo\":{\"bgcolor\":\"white\",\"lakecolor\":\"white\",\"landcolor\":\"#E5ECF6\",\"showlakes\":true,\"showland\":true,\"subunitcolor\":\"white\"},\"hoverlabel\":{\"align\":\"left\"},\"hovermode\":\"closest\",\"mapbox\":{\"style\":\"light\"},\"paper_bgcolor\":\"white\",\"plot_bgcolor\":\"#E5ECF6\",\"polar\":{\"angularaxis\":{\"gridcolor\":\"white\",\"linecolor\":\"white\",\"ticks\":\"\"},\"bgcolor\":\"#E5ECF6\",\"radialaxis\":{\"gridcolor\":\"white\",\"linecolor\":\"white\",\"ticks\":\"\"}},\"scene\":{\"xaxis\":{\"backgroundcolor\":\"#E5ECF6\",\"gridcolor\":\"white\",\"gridwidth\":2,\"linecolor\":\"white\",\"showbackground\":true,\"ticks\":\"\",\"zerolinecolor\":\"white\"},\"yaxis\":{\"backgroundcolor\":\"#E5ECF6\",\"gridcolor\":\"white\",\"gridwidth\":2,\"linecolor\":\"white\",\"showbackground\":true,\"ticks\":\"\",\"zerolinecolor\":\"white\"},\"zaxis\":{\"backgroundcolor\":\"#E5ECF6\",\"gridcolor\":\"white\",\"gridwidth\":2,\"linecolor\":\"white\",\"showbackground\":true,\"ticks\":\"\",\"zerolinecolor\":\"white\"}},\"shapedefaults\":{\"line\":{\"color\":\"#2a3f5f\"}},\"ternary\":{\"aaxis\":{\"gridcolor\":\"white\",\"linecolor\":\"white\",\"ticks\":\"\"},\"baxis\":{\"gridcolor\":\"white\",\"linecolor\":\"white\",\"ticks\":\"\"},\"bgcolor\":\"#E5ECF6\",\"caxis\":{\"gridcolor\":\"white\",\"linecolor\":\"white\",\"ticks\":\"\"}},\"title\":{\"x\":0.05},\"xaxis\":{\"automargin\":true,\"gridcolor\":\"white\",\"linecolor\":\"white\",\"ticks\":\"\",\"title\":{\"standoff\":15},\"zerolinecolor\":\"white\",\"zerolinewidth\":2},\"yaxis\":{\"automargin\":true,\"gridcolor\":\"white\",\"linecolor\":\"white\",\"ticks\":\"\",\"title\":{\"standoff\":15},\"zerolinecolor\":\"white\",\"zerolinewidth\":2}}},\"xaxis\":{\"anchor\":\"y\",\"domain\":[0.0,1.0],\"title\":{\"text\":\"timestamp\"}},\"yaxis\":{\"anchor\":\"x\",\"domain\":[0.0,1.0],\"title\":{\"text\":\"adjusted_close\"}},\"legend\":{\"tracegroupgap\":0},\"title\":{\"text\":\"Stock Prices (NFLX)\"}},                        {\"responsive\": true}                    ).then(function(){\n",
              "                            \n",
              "var gd = document.getElementById('f5ecc714-a231-4e3d-9743-d5820ee837c9');\n",
              "var x = new MutationObserver(function (mutations, observer) {{\n",
              "        var display = window.getComputedStyle(gd).display;\n",
              "        if (!display || display === 'none') {{\n",
              "            console.log([gd, 'removed!']);\n",
              "            Plotly.purge(gd);\n",
              "            observer.disconnect();\n",
              "        }}\n",
              "}});\n",
              "\n",
              "// Listen for the removal of the full notebook cells\n",
              "var notebookContainer = gd.closest('#notebook-container');\n",
              "if (notebookContainer) {{\n",
              "    x.observe(notebookContainer, {childList: true});\n",
              "}}\n",
              "\n",
              "// Listen for the clearing of the current output cell\n",
              "var outputEl = gd.closest('.output');\n",
              "if (outputEl) {{\n",
              "    x.observe(outputEl, {childList: true});\n",
              "}}\n",
              "\n",
              "                        })                };                            </script>        </div>\n",
              "</body>\n",
              "</html>"
            ]
          },
          "metadata": {}
        }
      ]
    },
    {
      "cell_type": "code",
      "source": [
        "\n",
        "# TODO: write some code here to answer the questions\n"
      ],
      "metadata": {
        "id": "E891yQiJjhuM"
      },
      "id": "E891yQiJjhuM",
      "execution_count": null,
      "outputs": []
    },
    {
      "cell_type": "code",
      "source": [
        "num_dates = nflx_df.shape[0]\n",
        "print(num_dates)"
      ],
      "metadata": {
        "id": "F1BK6t7Bjhie",
        "colab": {
          "base_uri": "https://localhost:8080/"
        },
        "outputId": "582229ce-aeb5-47a7-b7ed-90d80304a2d2"
      },
      "id": "F1BK6t7Bjhie",
      "execution_count": 107,
      "outputs": [
        {
          "output_type": "stream",
          "name": "stdout",
          "text": [
            "100\n"
          ]
        }
      ]
    },
    {
      "cell_type": "code",
      "source": [
        "column_names = nflx_df.columns\n",
        "print(column_names)"
      ],
      "metadata": {
        "id": "w0NKlOEdjhf4",
        "colab": {
          "base_uri": "https://localhost:8080/"
        },
        "outputId": "7233cd5e-df4b-469a-e70e-c9d4d1bbcec1"
      },
      "id": "w0NKlOEdjhf4",
      "execution_count": 108,
      "outputs": [
        {
          "output_type": "stream",
          "name": "stdout",
          "text": [
            "Index(['timestamp', 'open', 'high', 'low', 'close', 'adjusted_close', 'volume',\n",
            "       'dividend_amount', 'split_coefficient'],\n",
            "      dtype='object')\n"
          ]
        }
      ]
    },
    {
      "cell_type": "code",
      "source": [
        "earliest_date_df = nflx_df.sort_values(by='timestamp').iloc[0]\n",
        "earliest_date = earliest_date_df['timestamp']\n",
        "print(earliest_date)"
      ],
      "metadata": {
        "id": "lzFAPEAIjhbq",
        "colab": {
          "base_uri": "https://localhost:8080/"
        },
        "outputId": "f5a73edc-43ec-4742-b0d6-3c75004dafb0"
      },
      "id": "lzFAPEAIjhbq",
      "execution_count": 115,
      "outputs": [
        {
          "output_type": "stream",
          "name": "stdout",
          "text": [
            "2021-05-27\n"
          ]
        }
      ]
    },
    {
      "cell_type": "code",
      "source": [
        "latest_date_df = nflx_df.sort_values(by='timestamp', ascending=False).iloc[0]\n",
        "latest_date = latest_date_df['timestamp']\n",
        "print(latest_date)"
      ],
      "metadata": {
        "id": "BKFR9tO4j7hu",
        "colab": {
          "base_uri": "https://localhost:8080/"
        },
        "outputId": "2c911f7c-3da2-480b-fea8-7af0b3b33a6b"
      },
      "id": "BKFR9tO4j7hu",
      "execution_count": 110,
      "outputs": [
        {
          "output_type": "stream",
          "name": "stdout",
          "text": [
            "2021-10-18\n"
          ]
        }
      ]
    },
    {
      "cell_type": "code",
      "source": [
        "latest_adj_close_df = nflx_df.sort_values(by='timestamp', ascending=False).iloc[0]\n",
        "latest_adj_close = latest_adj_close_df['adjusted_close']\n",
        "formatted_latest_adj_close = \"${:,.2f}\".format(latest_adj_close)\n",
        "print(formatted_latest_adj_close)"
      ],
      "metadata": {
        "colab": {
          "base_uri": "https://localhost:8080/"
        },
        "id": "e_Ey659p7oir",
        "outputId": "fa776791-59d7-4d76-a1d7-0aa89153a0b8"
      },
      "id": "e_Ey659p7oir",
      "execution_count": 111,
      "outputs": [
        {
          "output_type": "stream",
          "name": "stdout",
          "text": [
            "$637.97\n"
          ]
        }
      ]
    },
    {
      "cell_type": "code",
      "source": [
        "highest_high = nflx_df['high'].max()\n",
        "formatted_highest_high = \"${:,.2f}\".format(highest_high)\n",
        "print(formatted_highest_high)"
      ],
      "metadata": {
        "colab": {
          "base_uri": "https://localhost:8080/"
        },
        "id": "sA-eixl17ozf",
        "outputId": "52efb711-fbba-4fff-eff1-a4d68e7f950c"
      },
      "id": "sA-eixl17ozf",
      "execution_count": 112,
      "outputs": [
        {
          "output_type": "stream",
          "name": "stdout",
          "text": [
            "$646.84\n"
          ]
        }
      ]
    },
    {
      "cell_type": "code",
      "source": [
        "lowest_low = nflx_df['low'].min()\n",
        "formatted_lowest_low = \"${:,.2f}\".format(lowest_low)\n",
        "print(formatted_lowest_low)"
      ],
      "metadata": {
        "colab": {
          "base_uri": "https://localhost:8080/"
        },
        "id": "6B79urPD7pSr",
        "outputId": "53a0a4a7-0c0d-4487-ca16-72b5bfce45e7"
      },
      "id": "6B79urPD7pSr",
      "execution_count": 113,
      "outputs": [
        {
          "output_type": "stream",
          "name": "stdout",
          "text": [
            "$482.14\n"
          ]
        }
      ]
    },
    {
      "cell_type": "code",
      "source": [],
      "metadata": {
        "id": "_8Vwe2b4jhZS",
        "colab": {
          "base_uri": "https://localhost:8080/"
        },
        "outputId": "a46fd54f-6e60-4837-ca4e-5aa9f3c37d89"
      },
      "id": "_8Vwe2b4jhZS",
      "execution_count": 114,
      "outputs": [
        {
          "output_type": "stream",
          "name": "stdout",
          "text": [
            "2021-05-27\n"
          ]
        }
      ]
    },
    {
      "cell_type": "markdown",
      "source": [
        "## Challenge 6 (Stock Prices Real-time)"
      ],
      "metadata": {
        "id": "3QfdqdIdpN1I"
      },
      "id": "3QfdqdIdpN1I"
    },
    {
      "cell_type": "markdown",
      "source": [
        "After running the provided setup cells below, use the provided `realtime_df` variable to answer the following questions:\n",
        "\n",
        "A) Assuming each row represents a different date, print the **number of rows** or dates available (e.g. `4625`, but will likely differ depending on when you run the code).\n",
        "\n",
        "B) Print the **column names** (i.e. `['timestamp', 'open', 'high', 'low', 'close', 'adjusted_close', 'volume', 'dividend_amount', 'split_coefficient']`).\n",
        "\n",
        "C) Print the **earliest date** of available data (i.e. `\"2004-08-19\"`). We can assume it will be provided in the last row. \n",
        "\n",
        "D) Print the **latest date** of available data (e.g. `\"2022-12-30\"`, but will likely differ depending on when you run the code). We assume it will be provided in the first row.\n",
        "\n",
        "E) Print the **latest adjusted closing price**, formatted as USD (e.g. `\"$88.23\"`, but will likely differ depending on when you run the code).\n",
        "\n",
        "<hr>\n",
        "\n",
        "> DATA NOTE: only the adjusted close column is scaled properly to account for stock splits. so taking the highest high or lowest low would not be methodologically sound unless we first scale the highs and lows based on the split coefficient. No need to worry about this for now. We may return to this task during the next unit.\n",
        "\n",
        "<hr>\n",
        "\n",
        "F) **Save / export** this `realtime_df` to a CSV file. The filename should include the stock symbol in lowercase (i.e. `\"latest_prices_googl.csv\"`). Specifically use a format string or string concatenation to compile the filename using the provided `symbol` variable. \n",
        "\n",
        "> NOTE: after saving, you should be able to view the file using the Colab filesystem menu in the left sidebar. You could then optionally download the file and inspect in spreadsheet software, as desired."
      ],
      "metadata": {
        "id": "eJbTTgIjjVXO"
      },
      "id": "eJbTTgIjjVXO"
    },
    {
      "cell_type": "code",
      "source": [
        "#\n",
        "# SETUP CELL (RUN AND DO NOT MODIFY)\n",
        "#\n",
        "\n",
        "from getpass import getpass\n",
        "\n",
        "# copy one of the professor's premium keys from Canvas, \n",
        "# run this cell and paste it when prompted\n",
        "# avoid printing or otherwise exposing this secret credential, \n",
        "# as that will incur a major security deduction!\n",
        "API_KEY = getpass(\"Please input your Alphavantage API KEY: \") "
      ],
      "metadata": {
        "colab": {
          "base_uri": "https://localhost:8080/"
        },
        "id": "Gnx6GwP_pR7v",
        "outputId": "e1ff2d4c-2400-4001-d9d0-7d83c8764d57"
      },
      "id": "Gnx6GwP_pR7v",
      "execution_count": 131,
      "outputs": [
        {
          "name": "stdout",
          "output_type": "stream",
          "text": [
            "Please input your Alphavantage API KEY: ··········\n"
          ]
        }
      ]
    },
    {
      "cell_type": "code",
      "source": [
        "#\n",
        "# SETUP CELL (RUN AND DO NOT MODIFY)\n",
        "#\n",
        "\n",
        "symbol = \"GOOGL\"\n",
        "\n",
        "# see API Docs for daily adjusted stock data: https://www.alphavantage.co/documentation/#dailyadj\n",
        "# notes: \n",
        "# ... we are using the \"format=csv\" URL parameter to request CSV formatted data\n",
        "# ... we are using the \"outputsize=full\" URL parameter to request all-time data\n",
        "# ... we are passing in a \"symbol\" parameter as well, which in this case happens to be \"GOOGL\", but theoretically could be any stock of interest\n",
        "request_url = f\"https://www.alphavantage.co/query?function=TIME_SERIES_DAILY_ADJUSTED&symbol={symbol}&apikey={API_KEY}&datatype=csv&outputsize=full\"\n",
        "# avoid seeing a printed version of the url in your final deliverable, \n",
        "# as that would expose the secret credential API Key value\n",
        "\n",
        "realtime_df = pd.read_csv(request_url)\n",
        "realtime_df.head()"
      ],
      "metadata": {
        "colab": {
          "base_uri": "https://localhost:8080/",
          "height": 206
        },
        "id": "TkeqVHgcMtHB",
        "outputId": "59948575-2471-4341-f476-985e2eee16ad"
      },
      "id": "TkeqVHgcMtHB",
      "execution_count": 132,
      "outputs": [
        {
          "output_type": "execute_result",
          "data": {
            "text/plain": [
              "    timestamp    open   high     low  close  adjusted_close    volume  \\\n",
              "0  2023-01-06  86.790  87.69  84.860  87.34           87.34  41381495   \n",
              "1  2023-01-05  87.470  87.57  85.900  86.20           86.20  27194375   \n",
              "2  2023-01-04  90.350  90.65  87.271  88.08           88.08  34854776   \n",
              "3  2023-01-03  89.585  91.05  88.520  89.12           89.12  28131224   \n",
              "4  2022-12-30  86.980  88.30  86.570  88.23           88.23  23986297   \n",
              "\n",
              "   dividend_amount  split_coefficient  \n",
              "0              0.0                1.0  \n",
              "1              0.0                1.0  \n",
              "2              0.0                1.0  \n",
              "3              0.0                1.0  \n",
              "4              0.0                1.0  "
            ],
            "text/html": [
              "\n",
              "  <div id=\"df-40288f13-c01f-4b1f-b4d2-2e1a7ccd969c\">\n",
              "    <div class=\"colab-df-container\">\n",
              "      <div>\n",
              "<style scoped>\n",
              "    .dataframe tbody tr th:only-of-type {\n",
              "        vertical-align: middle;\n",
              "    }\n",
              "\n",
              "    .dataframe tbody tr th {\n",
              "        vertical-align: top;\n",
              "    }\n",
              "\n",
              "    .dataframe thead th {\n",
              "        text-align: right;\n",
              "    }\n",
              "</style>\n",
              "<table border=\"1\" class=\"dataframe\">\n",
              "  <thead>\n",
              "    <tr style=\"text-align: right;\">\n",
              "      <th></th>\n",
              "      <th>timestamp</th>\n",
              "      <th>open</th>\n",
              "      <th>high</th>\n",
              "      <th>low</th>\n",
              "      <th>close</th>\n",
              "      <th>adjusted_close</th>\n",
              "      <th>volume</th>\n",
              "      <th>dividend_amount</th>\n",
              "      <th>split_coefficient</th>\n",
              "    </tr>\n",
              "  </thead>\n",
              "  <tbody>\n",
              "    <tr>\n",
              "      <th>0</th>\n",
              "      <td>2023-01-06</td>\n",
              "      <td>86.790</td>\n",
              "      <td>87.69</td>\n",
              "      <td>84.860</td>\n",
              "      <td>87.34</td>\n",
              "      <td>87.34</td>\n",
              "      <td>41381495</td>\n",
              "      <td>0.0</td>\n",
              "      <td>1.0</td>\n",
              "    </tr>\n",
              "    <tr>\n",
              "      <th>1</th>\n",
              "      <td>2023-01-05</td>\n",
              "      <td>87.470</td>\n",
              "      <td>87.57</td>\n",
              "      <td>85.900</td>\n",
              "      <td>86.20</td>\n",
              "      <td>86.20</td>\n",
              "      <td>27194375</td>\n",
              "      <td>0.0</td>\n",
              "      <td>1.0</td>\n",
              "    </tr>\n",
              "    <tr>\n",
              "      <th>2</th>\n",
              "      <td>2023-01-04</td>\n",
              "      <td>90.350</td>\n",
              "      <td>90.65</td>\n",
              "      <td>87.271</td>\n",
              "      <td>88.08</td>\n",
              "      <td>88.08</td>\n",
              "      <td>34854776</td>\n",
              "      <td>0.0</td>\n",
              "      <td>1.0</td>\n",
              "    </tr>\n",
              "    <tr>\n",
              "      <th>3</th>\n",
              "      <td>2023-01-03</td>\n",
              "      <td>89.585</td>\n",
              "      <td>91.05</td>\n",
              "      <td>88.520</td>\n",
              "      <td>89.12</td>\n",
              "      <td>89.12</td>\n",
              "      <td>28131224</td>\n",
              "      <td>0.0</td>\n",
              "      <td>1.0</td>\n",
              "    </tr>\n",
              "    <tr>\n",
              "      <th>4</th>\n",
              "      <td>2022-12-30</td>\n",
              "      <td>86.980</td>\n",
              "      <td>88.30</td>\n",
              "      <td>86.570</td>\n",
              "      <td>88.23</td>\n",
              "      <td>88.23</td>\n",
              "      <td>23986297</td>\n",
              "      <td>0.0</td>\n",
              "      <td>1.0</td>\n",
              "    </tr>\n",
              "  </tbody>\n",
              "</table>\n",
              "</div>\n",
              "      <button class=\"colab-df-convert\" onclick=\"convertToInteractive('df-40288f13-c01f-4b1f-b4d2-2e1a7ccd969c')\"\n",
              "              title=\"Convert this dataframe to an interactive table.\"\n",
              "              style=\"display:none;\">\n",
              "        \n",
              "  <svg xmlns=\"http://www.w3.org/2000/svg\" height=\"24px\"viewBox=\"0 0 24 24\"\n",
              "       width=\"24px\">\n",
              "    <path d=\"M0 0h24v24H0V0z\" fill=\"none\"/>\n",
              "    <path d=\"M18.56 5.44l.94 2.06.94-2.06 2.06-.94-2.06-.94-.94-2.06-.94 2.06-2.06.94zm-11 1L8.5 8.5l.94-2.06 2.06-.94-2.06-.94L8.5 2.5l-.94 2.06-2.06.94zm10 10l.94 2.06.94-2.06 2.06-.94-2.06-.94-.94-2.06-.94 2.06-2.06.94z\"/><path d=\"M17.41 7.96l-1.37-1.37c-.4-.4-.92-.59-1.43-.59-.52 0-1.04.2-1.43.59L10.3 9.45l-7.72 7.72c-.78.78-.78 2.05 0 2.83L4 21.41c.39.39.9.59 1.41.59.51 0 1.02-.2 1.41-.59l7.78-7.78 2.81-2.81c.8-.78.8-2.07 0-2.86zM5.41 20L4 18.59l7.72-7.72 1.47 1.35L5.41 20z\"/>\n",
              "  </svg>\n",
              "      </button>\n",
              "      \n",
              "  <style>\n",
              "    .colab-df-container {\n",
              "      display:flex;\n",
              "      flex-wrap:wrap;\n",
              "      gap: 12px;\n",
              "    }\n",
              "\n",
              "    .colab-df-convert {\n",
              "      background-color: #E8F0FE;\n",
              "      border: none;\n",
              "      border-radius: 50%;\n",
              "      cursor: pointer;\n",
              "      display: none;\n",
              "      fill: #1967D2;\n",
              "      height: 32px;\n",
              "      padding: 0 0 0 0;\n",
              "      width: 32px;\n",
              "    }\n",
              "\n",
              "    .colab-df-convert:hover {\n",
              "      background-color: #E2EBFA;\n",
              "      box-shadow: 0px 1px 2px rgba(60, 64, 67, 0.3), 0px 1px 3px 1px rgba(60, 64, 67, 0.15);\n",
              "      fill: #174EA6;\n",
              "    }\n",
              "\n",
              "    [theme=dark] .colab-df-convert {\n",
              "      background-color: #3B4455;\n",
              "      fill: #D2E3FC;\n",
              "    }\n",
              "\n",
              "    [theme=dark] .colab-df-convert:hover {\n",
              "      background-color: #434B5C;\n",
              "      box-shadow: 0px 1px 3px 1px rgba(0, 0, 0, 0.15);\n",
              "      filter: drop-shadow(0px 1px 2px rgba(0, 0, 0, 0.3));\n",
              "      fill: #FFFFFF;\n",
              "    }\n",
              "  </style>\n",
              "\n",
              "      <script>\n",
              "        const buttonEl =\n",
              "          document.querySelector('#df-40288f13-c01f-4b1f-b4d2-2e1a7ccd969c button.colab-df-convert');\n",
              "        buttonEl.style.display =\n",
              "          google.colab.kernel.accessAllowed ? 'block' : 'none';\n",
              "\n",
              "        async function convertToInteractive(key) {\n",
              "          const element = document.querySelector('#df-40288f13-c01f-4b1f-b4d2-2e1a7ccd969c');\n",
              "          const dataTable =\n",
              "            await google.colab.kernel.invokeFunction('convertToInteractive',\n",
              "                                                     [key], {});\n",
              "          if (!dataTable) return;\n",
              "\n",
              "          const docLinkHtml = 'Like what you see? Visit the ' +\n",
              "            '<a target=\"_blank\" href=https://colab.research.google.com/notebooks/data_table.ipynb>data table notebook</a>'\n",
              "            + ' to learn more about interactive tables.';\n",
              "          element.innerHTML = '';\n",
              "          dataTable['output_type'] = 'display_data';\n",
              "          await google.colab.output.renderOutput(dataTable, element);\n",
              "          const docLink = document.createElement('div');\n",
              "          docLink.innerHTML = docLinkHtml;\n",
              "          element.appendChild(docLink);\n",
              "        }\n",
              "      </script>\n",
              "    </div>\n",
              "  </div>\n",
              "  "
            ]
          },
          "metadata": {},
          "execution_count": 132
        }
      ]
    },
    {
      "cell_type": "code",
      "source": [
        "\n",
        "fig = px.line(realtime_df, x=\"timestamp\", y=\"adjusted_close\", \n",
        "           title=f\"Daily Adjusted Closing Prices ({symbol})\",\n",
        "           labels={\"timestamp\": \"Date\", \"adjusted_close\": \"Adjusted Closing Price (USD)\"},\n",
        ")\n",
        "fig.show()"
      ],
      "metadata": {
        "colab": {
          "base_uri": "https://localhost:8080/",
          "height": 542
        },
        "id": "BvniVStyrdSc",
        "outputId": "9b9a7b95-b7c2-4083-c657-a311b98e411b"
      },
      "id": "BvniVStyrdSc",
      "execution_count": 133,
      "outputs": [
        {
          "output_type": "display_data",
          "data": {
            "text/html": [
              "<html>\n",
              "<head><meta charset=\"utf-8\" /></head>\n",
              "<body>\n",
              "    <div>            <script src=\"https://cdnjs.cloudflare.com/ajax/libs/mathjax/2.7.5/MathJax.js?config=TeX-AMS-MML_SVG\"></script><script type=\"text/javascript\">if (window.MathJax) {MathJax.Hub.Config({SVG: {font: \"STIX-Web\"}});}</script>                <script type=\"text/javascript\">window.PlotlyConfig = {MathJaxConfig: 'local'};</script>\n",
              "        <script src=\"https://cdn.plot.ly/plotly-2.8.3.min.js\"></script>                <div id=\"6e230277-b81f-4d61-8c29-73882b57d8fa\" class=\"plotly-graph-div\" style=\"height:525px; width:100%;\"></div>            <script type=\"text/javascript\">                                    window.PLOTLYENV=window.PLOTLYENV || {};                                    if (document.getElementById(\"6e230277-b81f-4d61-8c29-73882b57d8fa\")) {                    Plotly.newPlot(                        \"6e230277-b81f-4d61-8c29-73882b57d8fa\",                        [{\"hovertemplate\":\"Date=%{x}<br>Adjusted Closing Price (USD)=%{y}<extra></extra>\",\"legendgroup\":\"\",\"line\":{\"color\":\"#636efa\",\"dash\":\"solid\"},\"marker\":{\"symbol\":\"circle\"},\"mode\":\"lines\",\"name\":\"\",\"showlegend\":false,\"x\":[\"2023-01-06\",\"2023-01-05\",\"2023-01-04\",\"2023-01-03\",\"2022-12-30\",\"2022-12-29\",\"2022-12-28\",\"2022-12-27\",\"2022-12-23\",\"2022-12-22\",\"2022-12-21\",\"2022-12-20\",\"2022-12-19\",\"2022-12-16\",\"2022-12-15\",\"2022-12-14\",\"2022-12-13\",\"2022-12-12\",\"2022-12-09\",\"2022-12-08\",\"2022-12-07\",\"2022-12-06\",\"2022-12-05\",\"2022-12-02\",\"2022-12-01\",\"2022-11-30\",\"2022-11-29\",\"2022-11-28\",\"2022-11-25\",\"2022-11-23\",\"2022-11-22\",\"2022-11-21\",\"2022-11-18\",\"2022-11-17\",\"2022-11-16\",\"2022-11-15\",\"2022-11-14\",\"2022-11-11\",\"2022-11-10\",\"2022-11-09\",\"2022-11-08\",\"2022-11-07\",\"2022-11-04\",\"2022-11-03\",\"2022-11-02\",\"2022-11-01\",\"2022-10-31\",\"2022-10-28\",\"2022-10-27\",\"2022-10-26\",\"2022-10-25\",\"2022-10-24\",\"2022-10-21\",\"2022-10-20\",\"2022-10-19\",\"2022-10-18\",\"2022-10-17\",\"2022-10-14\",\"2022-10-13\",\"2022-10-12\",\"2022-10-11\",\"2022-10-10\",\"2022-10-07\",\"2022-10-06\",\"2022-10-05\",\"2022-10-04\",\"2022-10-03\",\"2022-09-30\",\"2022-09-29\",\"2022-09-28\",\"2022-09-27\",\"2022-09-26\",\"2022-09-23\",\"2022-09-22\",\"2022-09-21\",\"2022-09-20\",\"2022-09-19\",\"2022-09-16\",\"2022-09-15\",\"2022-09-14\",\"2022-09-13\",\"2022-09-12\",\"2022-09-09\",\"2022-09-08\",\"2022-09-07\",\"2022-09-06\",\"2022-09-02\",\"2022-09-01\",\"2022-08-31\",\"2022-08-30\",\"2022-08-29\",\"2022-08-26\",\"2022-08-25\",\"2022-08-24\",\"2022-08-23\",\"2022-08-22\",\"2022-08-19\",\"2022-08-18\",\"2022-08-17\",\"2022-08-16\",\"2022-08-15\",\"2022-08-12\",\"2022-08-11\",\"2022-08-10\",\"2022-08-09\",\"2022-08-08\",\"2022-08-05\",\"2022-08-04\",\"2022-08-03\",\"2022-08-02\",\"2022-08-01\",\"2022-07-29\",\"2022-07-28\",\"2022-07-27\",\"2022-07-26\",\"2022-07-25\",\"2022-07-22\",\"2022-07-21\",\"2022-07-20\",\"2022-07-19\",\"2022-07-18\",\"2022-07-15\",\"2022-07-14\",\"2022-07-13\",\"2022-07-12\",\"2022-07-11\",\"2022-07-08\",\"2022-07-07\",\"2022-07-06\",\"2022-07-05\",\"2022-07-01\",\"2022-06-30\",\"2022-06-29\",\"2022-06-28\",\"2022-06-27\",\"2022-06-24\",\"2022-06-23\",\"2022-06-22\",\"2022-06-21\",\"2022-06-17\",\"2022-06-16\",\"2022-06-15\",\"2022-06-14\",\"2022-06-13\",\"2022-06-10\",\"2022-06-09\",\"2022-06-08\",\"2022-06-07\",\"2022-06-06\",\"2022-06-03\",\"2022-06-02\",\"2022-06-01\",\"2022-05-31\",\"2022-05-27\",\"2022-05-26\",\"2022-05-25\",\"2022-05-24\",\"2022-05-23\",\"2022-05-20\",\"2022-05-19\",\"2022-05-18\",\"2022-05-17\",\"2022-05-16\",\"2022-05-13\",\"2022-05-12\",\"2022-05-11\",\"2022-05-10\",\"2022-05-09\",\"2022-05-06\",\"2022-05-05\",\"2022-05-04\",\"2022-05-03\",\"2022-05-02\",\"2022-04-29\",\"2022-04-28\",\"2022-04-27\",\"2022-04-26\",\"2022-04-25\",\"2022-04-22\",\"2022-04-21\",\"2022-04-20\",\"2022-04-19\",\"2022-04-18\",\"2022-04-14\",\"2022-04-13\",\"2022-04-12\",\"2022-04-11\",\"2022-04-08\",\"2022-04-07\",\"2022-04-06\",\"2022-04-05\",\"2022-04-04\",\"2022-04-01\",\"2022-03-31\",\"2022-03-30\",\"2022-03-29\",\"2022-03-28\",\"2022-03-25\",\"2022-03-24\",\"2022-03-23\",\"2022-03-22\",\"2022-03-21\",\"2022-03-18\",\"2022-03-17\",\"2022-03-16\",\"2022-03-15\",\"2022-03-14\",\"2022-03-11\",\"2022-03-10\",\"2022-03-09\",\"2022-03-08\",\"2022-03-07\",\"2022-03-04\",\"2022-03-03\",\"2022-03-02\",\"2022-03-01\",\"2022-02-28\",\"2022-02-25\",\"2022-02-24\",\"2022-02-23\",\"2022-02-22\",\"2022-02-18\",\"2022-02-17\",\"2022-02-16\",\"2022-02-15\",\"2022-02-14\",\"2022-02-11\",\"2022-02-10\",\"2022-02-09\",\"2022-02-08\",\"2022-02-07\",\"2022-02-04\",\"2022-02-03\",\"2022-02-02\",\"2022-02-01\",\"2022-01-31\",\"2022-01-28\",\"2022-01-27\",\"2022-01-26\",\"2022-01-25\",\"2022-01-24\",\"2022-01-21\",\"2022-01-20\",\"2022-01-19\",\"2022-01-18\",\"2022-01-14\",\"2022-01-13\",\"2022-01-12\",\"2022-01-11\",\"2022-01-10\",\"2022-01-07\",\"2022-01-06\",\"2022-01-05\",\"2022-01-04\",\"2022-01-03\",\"2021-12-31\",\"2021-12-30\",\"2021-12-29\",\"2021-12-28\",\"2021-12-27\",\"2021-12-23\",\"2021-12-22\",\"2021-12-21\",\"2021-12-20\",\"2021-12-17\",\"2021-12-16\",\"2021-12-15\",\"2021-12-14\",\"2021-12-13\",\"2021-12-10\",\"2021-12-09\",\"2021-12-08\",\"2021-12-07\",\"2021-12-06\",\"2021-12-03\",\"2021-12-02\",\"2021-12-01\",\"2021-11-30\",\"2021-11-29\",\"2021-11-26\",\"2021-11-24\",\"2021-11-23\",\"2021-11-22\",\"2021-11-19\",\"2021-11-18\",\"2021-11-17\",\"2021-11-16\",\"2021-11-15\",\"2021-11-12\",\"2021-11-11\",\"2021-11-10\",\"2021-11-09\",\"2021-11-08\",\"2021-11-05\",\"2021-11-04\",\"2021-11-03\",\"2021-11-02\",\"2021-11-01\",\"2021-10-29\",\"2021-10-28\",\"2021-10-27\",\"2021-10-26\",\"2021-10-25\",\"2021-10-22\",\"2021-10-21\",\"2021-10-20\",\"2021-10-19\",\"2021-10-18\",\"2021-10-15\",\"2021-10-14\",\"2021-10-13\",\"2021-10-12\",\"2021-10-11\",\"2021-10-08\",\"2021-10-07\",\"2021-10-06\",\"2021-10-05\",\"2021-10-04\",\"2021-10-01\",\"2021-09-30\",\"2021-09-29\",\"2021-09-28\",\"2021-09-27\",\"2021-09-24\",\"2021-09-23\",\"2021-09-22\",\"2021-09-21\",\"2021-09-20\",\"2021-09-17\",\"2021-09-16\",\"2021-09-15\",\"2021-09-14\",\"2021-09-13\",\"2021-09-10\",\"2021-09-09\",\"2021-09-08\",\"2021-09-07\",\"2021-09-03\",\"2021-09-02\",\"2021-09-01\",\"2021-08-31\",\"2021-08-30\",\"2021-08-27\",\"2021-08-26\",\"2021-08-25\",\"2021-08-24\",\"2021-08-23\",\"2021-08-20\",\"2021-08-19\",\"2021-08-18\",\"2021-08-17\",\"2021-08-16\",\"2021-08-13\",\"2021-08-12\",\"2021-08-11\",\"2021-08-10\",\"2021-08-09\",\"2021-08-06\",\"2021-08-05\",\"2021-08-04\",\"2021-08-03\",\"2021-08-02\",\"2021-07-30\",\"2021-07-29\",\"2021-07-28\",\"2021-07-27\",\"2021-07-26\",\"2021-07-23\",\"2021-07-22\",\"2021-07-21\",\"2021-07-20\",\"2021-07-19\",\"2021-07-16\",\"2021-07-15\",\"2021-07-14\",\"2021-07-13\",\"2021-07-12\",\"2021-07-09\",\"2021-07-08\",\"2021-07-07\",\"2021-07-06\",\"2021-07-02\",\"2021-07-01\",\"2021-06-30\",\"2021-06-29\",\"2021-06-28\",\"2021-06-25\",\"2021-06-24\",\"2021-06-23\",\"2021-06-22\",\"2021-06-21\",\"2021-06-18\",\"2021-06-17\",\"2021-06-16\",\"2021-06-15\",\"2021-06-14\",\"2021-06-11\",\"2021-06-10\",\"2021-06-09\",\"2021-06-08\",\"2021-06-07\",\"2021-06-04\",\"2021-06-03\",\"2021-06-02\",\"2021-06-01\",\"2021-05-28\",\"2021-05-27\",\"2021-05-26\",\"2021-05-25\",\"2021-05-24\",\"2021-05-21\",\"2021-05-20\",\"2021-05-19\",\"2021-05-18\",\"2021-05-17\",\"2021-05-14\",\"2021-05-13\",\"2021-05-12\",\"2021-05-11\",\"2021-05-10\",\"2021-05-07\",\"2021-05-06\",\"2021-05-05\",\"2021-05-04\",\"2021-05-03\",\"2021-04-30\",\"2021-04-29\",\"2021-04-28\",\"2021-04-27\",\"2021-04-26\",\"2021-04-23\",\"2021-04-22\",\"2021-04-21\",\"2021-04-20\",\"2021-04-19\",\"2021-04-16\",\"2021-04-15\",\"2021-04-14\",\"2021-04-13\",\"2021-04-12\",\"2021-04-09\",\"2021-04-08\",\"2021-04-07\",\"2021-04-06\",\"2021-04-05\",\"2021-04-01\",\"2021-03-31\",\"2021-03-30\",\"2021-03-29\",\"2021-03-26\",\"2021-03-25\",\"2021-03-24\",\"2021-03-23\",\"2021-03-22\",\"2021-03-19\",\"2021-03-18\",\"2021-03-17\",\"2021-03-16\",\"2021-03-15\",\"2021-03-12\",\"2021-03-11\",\"2021-03-10\",\"2021-03-09\",\"2021-03-08\",\"2021-03-05\",\"2021-03-04\",\"2021-03-03\",\"2021-03-02\",\"2021-03-01\",\"2021-02-26\",\"2021-02-25\",\"2021-02-24\",\"2021-02-23\",\"2021-02-22\",\"2021-02-19\",\"2021-02-18\",\"2021-02-17\",\"2021-02-16\",\"2021-02-12\",\"2021-02-11\",\"2021-02-10\",\"2021-02-09\",\"2021-02-08\",\"2021-02-05\",\"2021-02-04\",\"2021-02-03\",\"2021-02-02\",\"2021-02-01\",\"2021-01-29\",\"2021-01-28\",\"2021-01-27\",\"2021-01-26\",\"2021-01-25\",\"2021-01-22\",\"2021-01-21\",\"2021-01-20\",\"2021-01-19\",\"2021-01-15\",\"2021-01-14\",\"2021-01-13\",\"2021-01-12\",\"2021-01-11\",\"2021-01-08\",\"2021-01-07\",\"2021-01-06\",\"2021-01-05\",\"2021-01-04\",\"2020-12-31\",\"2020-12-30\",\"2020-12-29\",\"2020-12-28\",\"2020-12-24\",\"2020-12-23\",\"2020-12-22\",\"2020-12-21\",\"2020-12-18\",\"2020-12-17\",\"2020-12-16\",\"2020-12-15\",\"2020-12-14\",\"2020-12-11\",\"2020-12-10\",\"2020-12-09\",\"2020-12-08\",\"2020-12-07\",\"2020-12-04\",\"2020-12-03\",\"2020-12-02\",\"2020-12-01\",\"2020-11-30\",\"2020-11-27\",\"2020-11-25\",\"2020-11-24\",\"2020-11-23\",\"2020-11-20\",\"2020-11-19\",\"2020-11-18\",\"2020-11-17\",\"2020-11-16\",\"2020-11-13\",\"2020-11-12\",\"2020-11-11\",\"2020-11-10\",\"2020-11-09\",\"2020-11-06\",\"2020-11-05\",\"2020-11-04\",\"2020-11-03\",\"2020-11-02\",\"2020-10-30\",\"2020-10-29\",\"2020-10-28\",\"2020-10-27\",\"2020-10-26\",\"2020-10-23\",\"2020-10-22\",\"2020-10-21\",\"2020-10-20\",\"2020-10-19\",\"2020-10-16\",\"2020-10-15\",\"2020-10-14\",\"2020-10-13\",\"2020-10-12\",\"2020-10-09\",\"2020-10-08\",\"2020-10-07\",\"2020-10-06\",\"2020-10-05\",\"2020-10-02\",\"2020-10-01\",\"2020-09-30\",\"2020-09-29\",\"2020-09-28\",\"2020-09-25\",\"2020-09-24\",\"2020-09-23\",\"2020-09-22\",\"2020-09-21\",\"2020-09-18\",\"2020-09-17\",\"2020-09-16\",\"2020-09-15\",\"2020-09-14\",\"2020-09-11\",\"2020-09-10\",\"2020-09-09\",\"2020-09-08\",\"2020-09-04\",\"2020-09-03\",\"2020-09-02\",\"2020-09-01\",\"2020-08-31\",\"2020-08-28\",\"2020-08-27\",\"2020-08-26\",\"2020-08-25\",\"2020-08-24\",\"2020-08-21\",\"2020-08-20\",\"2020-08-19\",\"2020-08-18\",\"2020-08-17\",\"2020-08-14\",\"2020-08-13\",\"2020-08-12\",\"2020-08-11\",\"2020-08-10\",\"2020-08-07\",\"2020-08-06\",\"2020-08-05\",\"2020-08-04\",\"2020-08-03\",\"2020-07-31\",\"2020-07-30\",\"2020-07-29\",\"2020-07-28\",\"2020-07-27\",\"2020-07-24\",\"2020-07-23\",\"2020-07-22\",\"2020-07-21\",\"2020-07-20\",\"2020-07-17\",\"2020-07-16\",\"2020-07-15\",\"2020-07-14\",\"2020-07-13\",\"2020-07-10\",\"2020-07-09\",\"2020-07-08\",\"2020-07-07\",\"2020-07-06\",\"2020-07-02\",\"2020-07-01\",\"2020-06-30\",\"2020-06-29\",\"2020-06-26\",\"2020-06-25\",\"2020-06-24\",\"2020-06-23\",\"2020-06-22\",\"2020-06-19\",\"2020-06-18\",\"2020-06-17\",\"2020-06-16\",\"2020-06-15\",\"2020-06-12\",\"2020-06-11\",\"2020-06-10\",\"2020-06-09\",\"2020-06-08\",\"2020-06-05\",\"2020-06-04\",\"2020-06-03\",\"2020-06-02\",\"2020-06-01\",\"2020-05-29\",\"2020-05-28\",\"2020-05-27\",\"2020-05-26\",\"2020-05-22\",\"2020-05-21\",\"2020-05-20\",\"2020-05-19\",\"2020-05-18\",\"2020-05-15\",\"2020-05-14\",\"2020-05-13\",\"2020-05-12\",\"2020-05-11\",\"2020-05-08\",\"2020-05-07\",\"2020-05-06\",\"2020-05-05\",\"2020-05-04\",\"2020-05-01\",\"2020-04-30\",\"2020-04-29\",\"2020-04-28\",\"2020-04-27\",\"2020-04-24\",\"2020-04-23\",\"2020-04-22\",\"2020-04-21\",\"2020-04-20\",\"2020-04-17\",\"2020-04-16\",\"2020-04-15\",\"2020-04-14\",\"2020-04-13\",\"2020-04-09\",\"2020-04-08\",\"2020-04-07\",\"2020-04-06\",\"2020-04-03\",\"2020-04-02\",\"2020-04-01\",\"2020-03-31\",\"2020-03-30\",\"2020-03-27\",\"2020-03-26\",\"2020-03-25\",\"2020-03-24\",\"2020-03-23\",\"2020-03-20\",\"2020-03-19\",\"2020-03-18\",\"2020-03-17\",\"2020-03-16\",\"2020-03-13\",\"2020-03-12\",\"2020-03-11\",\"2020-03-10\",\"2020-03-09\",\"2020-03-06\",\"2020-03-05\",\"2020-03-04\",\"2020-03-03\",\"2020-03-02\",\"2020-02-28\",\"2020-02-27\",\"2020-02-26\",\"2020-02-25\",\"2020-02-24\",\"2020-02-21\",\"2020-02-20\",\"2020-02-19\",\"2020-02-18\",\"2020-02-14\",\"2020-02-13\",\"2020-02-12\",\"2020-02-11\",\"2020-02-10\",\"2020-02-07\",\"2020-02-06\",\"2020-02-05\",\"2020-02-04\",\"2020-02-03\",\"2020-01-31\",\"2020-01-30\",\"2020-01-29\",\"2020-01-28\",\"2020-01-27\",\"2020-01-24\",\"2020-01-23\",\"2020-01-22\",\"2020-01-21\",\"2020-01-17\",\"2020-01-16\",\"2020-01-15\",\"2020-01-14\",\"2020-01-13\",\"2020-01-10\",\"2020-01-09\",\"2020-01-08\",\"2020-01-07\",\"2020-01-06\",\"2020-01-03\",\"2020-01-02\",\"2019-12-31\",\"2019-12-30\",\"2019-12-27\",\"2019-12-26\",\"2019-12-24\",\"2019-12-23\",\"2019-12-20\",\"2019-12-19\",\"2019-12-18\",\"2019-12-17\",\"2019-12-16\",\"2019-12-13\",\"2019-12-12\",\"2019-12-11\",\"2019-12-10\",\"2019-12-09\",\"2019-12-06\",\"2019-12-05\",\"2019-12-04\",\"2019-12-03\",\"2019-12-02\",\"2019-11-29\",\"2019-11-27\",\"2019-11-26\",\"2019-11-25\",\"2019-11-22\",\"2019-11-21\",\"2019-11-20\",\"2019-11-19\",\"2019-11-18\",\"2019-11-15\",\"2019-11-14\",\"2019-11-13\",\"2019-11-12\",\"2019-11-11\",\"2019-11-08\",\"2019-11-07\",\"2019-11-06\",\"2019-11-05\",\"2019-11-04\",\"2019-11-01\",\"2019-10-31\",\"2019-10-30\",\"2019-10-29\",\"2019-10-28\",\"2019-10-25\",\"2019-10-24\",\"2019-10-23\",\"2019-10-22\",\"2019-10-21\",\"2019-10-18\",\"2019-10-17\",\"2019-10-16\",\"2019-10-15\",\"2019-10-14\",\"2019-10-11\",\"2019-10-10\",\"2019-10-09\",\"2019-10-08\",\"2019-10-07\",\"2019-10-04\",\"2019-10-03\",\"2019-10-02\",\"2019-10-01\",\"2019-09-30\",\"2019-09-27\",\"2019-09-26\",\"2019-09-25\",\"2019-09-24\",\"2019-09-23\",\"2019-09-20\",\"2019-09-19\",\"2019-09-18\",\"2019-09-17\",\"2019-09-16\",\"2019-09-13\",\"2019-09-12\",\"2019-09-11\",\"2019-09-10\",\"2019-09-09\",\"2019-09-06\",\"2019-09-05\",\"2019-09-04\",\"2019-09-03\",\"2019-08-30\",\"2019-08-29\",\"2019-08-28\",\"2019-08-27\",\"2019-08-26\",\"2019-08-23\",\"2019-08-22\",\"2019-08-21\",\"2019-08-20\",\"2019-08-19\",\"2019-08-16\",\"2019-08-15\",\"2019-08-14\",\"2019-08-13\",\"2019-08-12\",\"2019-08-09\",\"2019-08-08\",\"2019-08-07\",\"2019-08-06\",\"2019-08-05\",\"2019-08-02\",\"2019-08-01\",\"2019-07-31\",\"2019-07-30\",\"2019-07-29\",\"2019-07-26\",\"2019-07-25\",\"2019-07-24\",\"2019-07-23\",\"2019-07-22\",\"2019-07-19\",\"2019-07-18\",\"2019-07-17\",\"2019-07-16\",\"2019-07-15\",\"2019-07-12\",\"2019-07-11\",\"2019-07-10\",\"2019-07-09\",\"2019-07-08\",\"2019-07-05\",\"2019-07-03\",\"2019-07-02\",\"2019-07-01\",\"2019-06-28\",\"2019-06-27\",\"2019-06-26\",\"2019-06-25\",\"2019-06-24\",\"2019-06-21\",\"2019-06-20\",\"2019-06-19\",\"2019-06-18\",\"2019-06-17\",\"2019-06-14\",\"2019-06-13\",\"2019-06-12\",\"2019-06-11\",\"2019-06-10\",\"2019-06-07\",\"2019-06-06\",\"2019-06-05\",\"2019-06-04\",\"2019-06-03\",\"2019-05-31\",\"2019-05-30\",\"2019-05-29\",\"2019-05-28\",\"2019-05-24\",\"2019-05-23\",\"2019-05-22\",\"2019-05-21\",\"2019-05-20\",\"2019-05-17\",\"2019-05-16\",\"2019-05-15\",\"2019-05-14\",\"2019-05-13\",\"2019-05-10\",\"2019-05-09\",\"2019-05-08\",\"2019-05-07\",\"2019-05-06\",\"2019-05-03\",\"2019-05-02\",\"2019-05-01\",\"2019-04-30\",\"2019-04-29\",\"2019-04-26\",\"2019-04-25\",\"2019-04-24\",\"2019-04-23\",\"2019-04-22\",\"2019-04-18\",\"2019-04-17\",\"2019-04-16\",\"2019-04-15\",\"2019-04-12\",\"2019-04-11\",\"2019-04-10\",\"2019-04-09\",\"2019-04-08\",\"2019-04-05\",\"2019-04-04\",\"2019-04-03\",\"2019-04-02\",\"2019-04-01\",\"2019-03-29\",\"2019-03-28\",\"2019-03-27\",\"2019-03-26\",\"2019-03-25\",\"2019-03-22\",\"2019-03-21\",\"2019-03-20\",\"2019-03-19\",\"2019-03-18\",\"2019-03-15\",\"2019-03-14\",\"2019-03-13\",\"2019-03-12\",\"2019-03-11\",\"2019-03-08\",\"2019-03-07\",\"2019-03-06\",\"2019-03-05\",\"2019-03-04\",\"2019-03-01\",\"2019-02-28\",\"2019-02-27\",\"2019-02-26\",\"2019-02-25\",\"2019-02-22\",\"2019-02-21\",\"2019-02-20\",\"2019-02-19\",\"2019-02-15\",\"2019-02-14\",\"2019-02-13\",\"2019-02-12\",\"2019-02-11\",\"2019-02-08\",\"2019-02-07\",\"2019-02-06\",\"2019-02-05\",\"2019-02-04\",\"2019-02-01\",\"2019-01-31\",\"2019-01-30\",\"2019-01-29\",\"2019-01-28\",\"2019-01-25\",\"2019-01-24\",\"2019-01-23\",\"2019-01-22\",\"2019-01-18\",\"2019-01-17\",\"2019-01-16\",\"2019-01-15\",\"2019-01-14\",\"2019-01-11\",\"2019-01-10\",\"2019-01-09\",\"2019-01-08\",\"2019-01-07\",\"2019-01-04\",\"2019-01-03\",\"2019-01-02\",\"2018-12-31\",\"2018-12-28\",\"2018-12-27\",\"2018-12-26\",\"2018-12-24\",\"2018-12-21\",\"2018-12-20\",\"2018-12-19\",\"2018-12-18\",\"2018-12-17\",\"2018-12-14\",\"2018-12-13\",\"2018-12-12\",\"2018-12-11\",\"2018-12-10\",\"2018-12-07\",\"2018-12-06\",\"2018-12-04\",\"2018-12-03\",\"2018-11-30\",\"2018-11-29\",\"2018-11-28\",\"2018-11-27\",\"2018-11-26\",\"2018-11-23\",\"2018-11-21\",\"2018-11-20\",\"2018-11-19\",\"2018-11-16\",\"2018-11-15\",\"2018-11-14\",\"2018-11-13\",\"2018-11-12\",\"2018-11-09\",\"2018-11-08\",\"2018-11-07\",\"2018-11-06\",\"2018-11-05\",\"2018-11-02\",\"2018-11-01\",\"2018-10-31\",\"2018-10-30\",\"2018-10-29\",\"2018-10-26\",\"2018-10-25\",\"2018-10-24\",\"2018-10-23\",\"2018-10-22\",\"2018-10-19\",\"2018-10-18\",\"2018-10-17\",\"2018-10-16\",\"2018-10-15\",\"2018-10-12\",\"2018-10-11\",\"2018-10-10\",\"2018-10-09\",\"2018-10-08\",\"2018-10-05\",\"2018-10-04\",\"2018-10-03\",\"2018-10-02\",\"2018-10-01\",\"2018-09-28\",\"2018-09-27\",\"2018-09-26\",\"2018-09-25\",\"2018-09-24\",\"2018-09-21\",\"2018-09-20\",\"2018-09-19\",\"2018-09-18\",\"2018-09-17\",\"2018-09-14\",\"2018-09-13\",\"2018-09-12\",\"2018-09-11\",\"2018-09-10\",\"2018-09-07\",\"2018-09-06\",\"2018-09-05\",\"2018-09-04\",\"2018-08-31\",\"2018-08-30\",\"2018-08-29\",\"2018-08-28\",\"2018-08-27\",\"2018-08-24\",\"2018-08-23\",\"2018-08-22\",\"2018-08-21\",\"2018-08-20\",\"2018-08-17\",\"2018-08-16\",\"2018-08-15\",\"2018-08-14\",\"2018-08-13\",\"2018-08-10\",\"2018-08-09\",\"2018-08-08\",\"2018-08-07\",\"2018-08-06\",\"2018-08-03\",\"2018-08-02\",\"2018-08-01\",\"2018-07-31\",\"2018-07-30\",\"2018-07-27\",\"2018-07-26\",\"2018-07-25\",\"2018-07-24\",\"2018-07-23\",\"2018-07-20\",\"2018-07-19\",\"2018-07-18\",\"2018-07-17\",\"2018-07-16\",\"2018-07-13\",\"2018-07-12\",\"2018-07-11\",\"2018-07-10\",\"2018-07-09\",\"2018-07-06\",\"2018-07-05\",\"2018-07-03\",\"2018-07-02\",\"2018-06-29\",\"2018-06-28\",\"2018-06-27\",\"2018-06-26\",\"2018-06-25\",\"2018-06-22\",\"2018-06-21\",\"2018-06-20\",\"2018-06-19\",\"2018-06-18\",\"2018-06-15\",\"2018-06-14\",\"2018-06-13\",\"2018-06-12\",\"2018-06-11\",\"2018-06-08\",\"2018-06-07\",\"2018-06-06\",\"2018-06-05\",\"2018-06-04\",\"2018-06-01\",\"2018-05-31\",\"2018-05-30\",\"2018-05-29\",\"2018-05-25\",\"2018-05-24\",\"2018-05-23\",\"2018-05-22\",\"2018-05-21\",\"2018-05-18\",\"2018-05-17\",\"2018-05-16\",\"2018-05-15\",\"2018-05-14\",\"2018-05-11\",\"2018-05-10\",\"2018-05-09\",\"2018-05-08\",\"2018-05-07\",\"2018-05-04\",\"2018-05-03\",\"2018-05-02\",\"2018-05-01\",\"2018-04-30\",\"2018-04-27\",\"2018-04-26\",\"2018-04-25\",\"2018-04-24\",\"2018-04-23\",\"2018-04-20\",\"2018-04-19\",\"2018-04-18\",\"2018-04-17\",\"2018-04-16\",\"2018-04-13\",\"2018-04-12\",\"2018-04-11\",\"2018-04-10\",\"2018-04-09\",\"2018-04-06\",\"2018-04-05\",\"2018-04-04\",\"2018-04-03\",\"2018-04-02\",\"2018-03-29\",\"2018-03-28\",\"2018-03-27\",\"2018-03-26\",\"2018-03-23\",\"2018-03-22\",\"2018-03-21\",\"2018-03-20\",\"2018-03-19\",\"2018-03-16\",\"2018-03-15\",\"2018-03-14\",\"2018-03-13\",\"2018-03-12\",\"2018-03-09\",\"2018-03-08\",\"2018-03-07\",\"2018-03-06\",\"2018-03-05\",\"2018-03-02\",\"2018-03-01\",\"2018-02-28\",\"2018-02-27\",\"2018-02-26\",\"2018-02-23\",\"2018-02-22\",\"2018-02-21\",\"2018-02-20\",\"2018-02-16\",\"2018-02-15\",\"2018-02-14\",\"2018-02-13\",\"2018-02-12\",\"2018-02-09\",\"2018-02-08\",\"2018-02-07\",\"2018-02-06\",\"2018-02-05\",\"2018-02-02\",\"2018-02-01\",\"2018-01-31\",\"2018-01-30\",\"2018-01-29\",\"2018-01-26\",\"2018-01-25\",\"2018-01-24\",\"2018-01-23\",\"2018-01-22\",\"2018-01-19\",\"2018-01-18\",\"2018-01-17\",\"2018-01-16\",\"2018-01-12\",\"2018-01-11\",\"2018-01-10\",\"2018-01-09\",\"2018-01-08\",\"2018-01-05\",\"2018-01-04\",\"2018-01-03\",\"2018-01-02\",\"2017-12-29\",\"2017-12-28\",\"2017-12-27\",\"2017-12-26\",\"2017-12-22\",\"2017-12-21\",\"2017-12-20\",\"2017-12-19\",\"2017-12-18\",\"2017-12-15\",\"2017-12-14\",\"2017-12-13\",\"2017-12-12\",\"2017-12-11\",\"2017-12-08\",\"2017-12-07\",\"2017-12-06\",\"2017-12-05\",\"2017-12-04\",\"2017-12-01\",\"2017-11-30\",\"2017-11-29\",\"2017-11-28\",\"2017-11-27\",\"2017-11-24\",\"2017-11-22\",\"2017-11-21\",\"2017-11-20\",\"2017-11-17\",\"2017-11-16\",\"2017-11-15\",\"2017-11-14\",\"2017-11-13\",\"2017-11-10\",\"2017-11-09\",\"2017-11-08\",\"2017-11-07\",\"2017-11-06\",\"2017-11-03\",\"2017-11-02\",\"2017-11-01\",\"2017-10-31\",\"2017-10-30\",\"2017-10-27\",\"2017-10-26\",\"2017-10-25\",\"2017-10-24\",\"2017-10-23\",\"2017-10-20\",\"2017-10-19\",\"2017-10-18\",\"2017-10-17\",\"2017-10-16\",\"2017-10-13\",\"2017-10-12\",\"2017-10-11\",\"2017-10-10\",\"2017-10-09\",\"2017-10-06\",\"2017-10-05\",\"2017-10-04\",\"2017-10-03\",\"2017-10-02\",\"2017-09-29\",\"2017-09-28\",\"2017-09-27\",\"2017-09-26\",\"2017-09-25\",\"2017-09-22\",\"2017-09-21\",\"2017-09-20\",\"2017-09-19\",\"2017-09-18\",\"2017-09-15\",\"2017-09-14\",\"2017-09-13\",\"2017-09-12\",\"2017-09-11\",\"2017-09-08\",\"2017-09-07\",\"2017-09-06\",\"2017-09-05\",\"2017-09-01\",\"2017-08-31\",\"2017-08-30\",\"2017-08-29\",\"2017-08-28\",\"2017-08-25\",\"2017-08-24\",\"2017-08-23\",\"2017-08-22\",\"2017-08-21\",\"2017-08-18\",\"2017-08-17\",\"2017-08-16\",\"2017-08-15\",\"2017-08-14\",\"2017-08-11\",\"2017-08-10\",\"2017-08-09\",\"2017-08-08\",\"2017-08-07\",\"2017-08-04\",\"2017-08-03\",\"2017-08-02\",\"2017-08-01\",\"2017-07-31\",\"2017-07-28\",\"2017-07-27\",\"2017-07-26\",\"2017-07-25\",\"2017-07-24\",\"2017-07-21\",\"2017-07-20\",\"2017-07-19\",\"2017-07-18\",\"2017-07-17\",\"2017-07-14\",\"2017-07-13\",\"2017-07-12\",\"2017-07-11\",\"2017-07-10\",\"2017-07-07\",\"2017-07-06\",\"2017-07-05\",\"2017-07-03\",\"2017-06-30\",\"2017-06-29\",\"2017-06-28\",\"2017-06-27\",\"2017-06-26\",\"2017-06-23\",\"2017-06-22\",\"2017-06-21\",\"2017-06-20\",\"2017-06-19\",\"2017-06-16\",\"2017-06-15\",\"2017-06-14\",\"2017-06-13\",\"2017-06-12\",\"2017-06-09\",\"2017-06-08\",\"2017-06-07\",\"2017-06-06\",\"2017-06-05\",\"2017-06-02\",\"2017-06-01\",\"2017-05-31\",\"2017-05-30\",\"2017-05-26\",\"2017-05-25\",\"2017-05-24\",\"2017-05-23\",\"2017-05-22\",\"2017-05-19\",\"2017-05-18\",\"2017-05-17\",\"2017-05-16\",\"2017-05-15\",\"2017-05-12\",\"2017-05-11\",\"2017-05-10\",\"2017-05-09\",\"2017-05-08\",\"2017-05-05\",\"2017-05-04\",\"2017-05-03\",\"2017-05-02\",\"2017-05-01\",\"2017-04-28\",\"2017-04-27\",\"2017-04-26\",\"2017-04-25\",\"2017-04-24\",\"2017-04-21\",\"2017-04-20\",\"2017-04-19\",\"2017-04-18\",\"2017-04-17\",\"2017-04-13\",\"2017-04-12\",\"2017-04-11\",\"2017-04-10\",\"2017-04-07\",\"2017-04-06\",\"2017-04-05\",\"2017-04-04\",\"2017-04-03\",\"2017-03-31\",\"2017-03-30\",\"2017-03-29\",\"2017-03-28\",\"2017-03-27\",\"2017-03-24\",\"2017-03-23\",\"2017-03-22\",\"2017-03-21\",\"2017-03-20\",\"2017-03-17\",\"2017-03-16\",\"2017-03-15\",\"2017-03-14\",\"2017-03-13\",\"2017-03-10\",\"2017-03-09\",\"2017-03-08\",\"2017-03-07\",\"2017-03-06\",\"2017-03-03\",\"2017-03-02\",\"2017-03-01\",\"2017-02-28\",\"2017-02-27\",\"2017-02-24\",\"2017-02-23\",\"2017-02-22\",\"2017-02-21\",\"2017-02-17\",\"2017-02-16\",\"2017-02-15\",\"2017-02-14\",\"2017-02-13\",\"2017-02-10\",\"2017-02-09\",\"2017-02-08\",\"2017-02-07\",\"2017-02-06\",\"2017-02-03\",\"2017-02-02\",\"2017-02-01\",\"2017-01-31\",\"2017-01-30\",\"2017-01-27\",\"2017-01-26\",\"2017-01-25\",\"2017-01-24\",\"2017-01-23\",\"2017-01-20\",\"2017-01-19\",\"2017-01-18\",\"2017-01-17\",\"2017-01-13\",\"2017-01-12\",\"2017-01-11\",\"2017-01-10\",\"2017-01-09\",\"2017-01-06\",\"2017-01-05\",\"2017-01-04\",\"2017-01-03\",\"2016-12-30\",\"2016-12-29\",\"2016-12-28\",\"2016-12-27\",\"2016-12-23\",\"2016-12-22\",\"2016-12-21\",\"2016-12-20\",\"2016-12-19\",\"2016-12-16\",\"2016-12-15\",\"2016-12-14\",\"2016-12-13\",\"2016-12-12\",\"2016-12-09\",\"2016-12-08\",\"2016-12-07\",\"2016-12-06\",\"2016-12-05\",\"2016-12-02\",\"2016-12-01\",\"2016-11-30\",\"2016-11-29\",\"2016-11-28\",\"2016-11-25\",\"2016-11-23\",\"2016-11-22\",\"2016-11-21\",\"2016-11-18\",\"2016-11-17\",\"2016-11-16\",\"2016-11-15\",\"2016-11-14\",\"2016-11-11\",\"2016-11-10\",\"2016-11-09\",\"2016-11-08\",\"2016-11-07\",\"2016-11-04\",\"2016-11-03\",\"2016-11-02\",\"2016-11-01\",\"2016-10-31\",\"2016-10-28\",\"2016-10-27\",\"2016-10-26\",\"2016-10-25\",\"2016-10-24\",\"2016-10-21\",\"2016-10-20\",\"2016-10-19\",\"2016-10-18\",\"2016-10-17\",\"2016-10-14\",\"2016-10-13\",\"2016-10-12\",\"2016-10-11\",\"2016-10-10\",\"2016-10-07\",\"2016-10-06\",\"2016-10-05\",\"2016-10-04\",\"2016-10-03\",\"2016-09-30\",\"2016-09-29\",\"2016-09-28\",\"2016-09-27\",\"2016-09-26\",\"2016-09-23\",\"2016-09-22\",\"2016-09-21\",\"2016-09-20\",\"2016-09-19\",\"2016-09-16\",\"2016-09-15\",\"2016-09-14\",\"2016-09-13\",\"2016-09-12\",\"2016-09-09\",\"2016-09-08\",\"2016-09-07\",\"2016-09-06\",\"2016-09-02\",\"2016-09-01\",\"2016-08-31\",\"2016-08-30\",\"2016-08-29\",\"2016-08-26\",\"2016-08-25\",\"2016-08-24\",\"2016-08-23\",\"2016-08-22\",\"2016-08-19\",\"2016-08-18\",\"2016-08-17\",\"2016-08-16\",\"2016-08-15\",\"2016-08-12\",\"2016-08-11\",\"2016-08-10\",\"2016-08-09\",\"2016-08-08\",\"2016-08-05\",\"2016-08-04\",\"2016-08-03\",\"2016-08-02\",\"2016-08-01\",\"2016-07-29\",\"2016-07-28\",\"2016-07-27\",\"2016-07-26\",\"2016-07-25\",\"2016-07-22\",\"2016-07-21\",\"2016-07-20\",\"2016-07-19\",\"2016-07-18\",\"2016-07-15\",\"2016-07-14\",\"2016-07-13\",\"2016-07-12\",\"2016-07-11\",\"2016-07-08\",\"2016-07-07\",\"2016-07-06\",\"2016-07-05\",\"2016-07-01\",\"2016-06-30\",\"2016-06-29\",\"2016-06-28\",\"2016-06-27\",\"2016-06-24\",\"2016-06-23\",\"2016-06-22\",\"2016-06-21\",\"2016-06-20\",\"2016-06-17\",\"2016-06-16\",\"2016-06-15\",\"2016-06-14\",\"2016-06-13\",\"2016-06-10\",\"2016-06-09\",\"2016-06-08\",\"2016-06-07\",\"2016-06-06\",\"2016-06-03\",\"2016-06-02\",\"2016-06-01\",\"2016-05-31\",\"2016-05-27\",\"2016-05-26\",\"2016-05-25\",\"2016-05-24\",\"2016-05-23\",\"2016-05-20\",\"2016-05-19\",\"2016-05-18\",\"2016-05-17\",\"2016-05-16\",\"2016-05-13\",\"2016-05-12\",\"2016-05-11\",\"2016-05-10\",\"2016-05-09\",\"2016-05-06\",\"2016-05-05\",\"2016-05-04\",\"2016-05-03\",\"2016-05-02\",\"2016-04-29\",\"2016-04-28\",\"2016-04-27\",\"2016-04-26\",\"2016-04-25\",\"2016-04-22\",\"2016-04-21\",\"2016-04-20\",\"2016-04-19\",\"2016-04-18\",\"2016-04-15\",\"2016-04-14\",\"2016-04-13\",\"2016-04-12\",\"2016-04-11\",\"2016-04-08\",\"2016-04-07\",\"2016-04-06\",\"2016-04-05\",\"2016-04-04\",\"2016-04-01\",\"2016-03-31\",\"2016-03-30\",\"2016-03-29\",\"2016-03-28\",\"2016-03-24\",\"2016-03-23\",\"2016-03-22\",\"2016-03-21\",\"2016-03-18\",\"2016-03-17\",\"2016-03-16\",\"2016-03-15\",\"2016-03-14\",\"2016-03-11\",\"2016-03-10\",\"2016-03-09\",\"2016-03-08\",\"2016-03-07\",\"2016-03-04\",\"2016-03-03\",\"2016-03-02\",\"2016-03-01\",\"2016-02-29\",\"2016-02-26\",\"2016-02-25\",\"2016-02-24\",\"2016-02-23\",\"2016-02-22\",\"2016-02-19\",\"2016-02-18\",\"2016-02-17\",\"2016-02-16\",\"2016-02-12\",\"2016-02-11\",\"2016-02-10\",\"2016-02-09\",\"2016-02-08\",\"2016-02-05\",\"2016-02-04\",\"2016-02-03\",\"2016-02-02\",\"2016-02-01\",\"2016-01-29\",\"2016-01-28\",\"2016-01-27\",\"2016-01-26\",\"2016-01-25\",\"2016-01-22\",\"2016-01-21\",\"2016-01-20\",\"2016-01-19\",\"2016-01-15\",\"2016-01-14\",\"2016-01-13\",\"2016-01-12\",\"2016-01-11\",\"2016-01-08\",\"2016-01-07\",\"2016-01-06\",\"2016-01-05\",\"2016-01-04\",\"2015-12-31\",\"2015-12-30\",\"2015-12-29\",\"2015-12-28\",\"2015-12-24\",\"2015-12-23\",\"2015-12-22\",\"2015-12-21\",\"2015-12-18\",\"2015-12-17\",\"2015-12-16\",\"2015-12-15\",\"2015-12-14\",\"2015-12-11\",\"2015-12-10\",\"2015-12-09\",\"2015-12-08\",\"2015-12-07\",\"2015-12-04\",\"2015-12-03\",\"2015-12-02\",\"2015-12-01\",\"2015-11-30\",\"2015-11-27\",\"2015-11-25\",\"2015-11-24\",\"2015-11-23\",\"2015-11-20\",\"2015-11-19\",\"2015-11-18\",\"2015-11-17\",\"2015-11-16\",\"2015-11-13\",\"2015-11-12\",\"2015-11-11\",\"2015-11-10\",\"2015-11-09\",\"2015-11-06\",\"2015-11-05\",\"2015-11-04\",\"2015-11-03\",\"2015-11-02\",\"2015-10-30\",\"2015-10-29\",\"2015-10-28\",\"2015-10-27\",\"2015-10-26\",\"2015-10-23\",\"2015-10-22\",\"2015-10-21\",\"2015-10-20\",\"2015-10-19\",\"2015-10-16\",\"2015-10-15\",\"2015-10-14\",\"2015-10-13\",\"2015-10-12\",\"2015-10-09\",\"2015-10-08\",\"2015-10-07\",\"2015-10-06\",\"2015-10-05\",\"2015-10-02\",\"2015-10-01\",\"2015-09-30\",\"2015-09-29\",\"2015-09-28\",\"2015-09-25\",\"2015-09-24\",\"2015-09-23\",\"2015-09-22\",\"2015-09-21\",\"2015-09-18\",\"2015-09-17\",\"2015-09-16\",\"2015-09-15\",\"2015-09-14\",\"2015-09-11\",\"2015-09-10\",\"2015-09-09\",\"2015-09-08\",\"2015-09-04\",\"2015-09-03\",\"2015-09-02\",\"2015-09-01\",\"2015-08-31\",\"2015-08-28\",\"2015-08-27\",\"2015-08-26\",\"2015-08-25\",\"2015-08-24\",\"2015-08-21\",\"2015-08-20\",\"2015-08-19\",\"2015-08-18\",\"2015-08-17\",\"2015-08-14\",\"2015-08-13\",\"2015-08-12\",\"2015-08-11\",\"2015-08-10\",\"2015-08-07\",\"2015-08-06\",\"2015-08-05\",\"2015-08-04\",\"2015-08-03\",\"2015-07-31\",\"2015-07-30\",\"2015-07-29\",\"2015-07-28\",\"2015-07-27\",\"2015-07-24\",\"2015-07-23\",\"2015-07-22\",\"2015-07-21\",\"2015-07-20\",\"2015-07-17\",\"2015-07-16\",\"2015-07-15\",\"2015-07-14\",\"2015-07-13\",\"2015-07-10\",\"2015-07-09\",\"2015-07-08\",\"2015-07-07\",\"2015-07-06\",\"2015-07-02\",\"2015-07-01\",\"2015-06-30\",\"2015-06-29\",\"2015-06-26\",\"2015-06-25\",\"2015-06-24\",\"2015-06-23\",\"2015-06-22\",\"2015-06-19\",\"2015-06-18\",\"2015-06-17\",\"2015-06-16\",\"2015-06-15\",\"2015-06-12\",\"2015-06-11\",\"2015-06-10\",\"2015-06-09\",\"2015-06-08\",\"2015-06-05\",\"2015-06-04\",\"2015-06-03\",\"2015-06-02\",\"2015-06-01\",\"2015-05-29\",\"2015-05-28\",\"2015-05-27\",\"2015-05-26\",\"2015-05-22\",\"2015-05-21\",\"2015-05-20\",\"2015-05-19\",\"2015-05-18\",\"2015-05-15\",\"2015-05-14\",\"2015-05-13\",\"2015-05-12\",\"2015-05-11\",\"2015-05-08\",\"2015-05-07\",\"2015-05-06\",\"2015-05-05\",\"2015-05-04\",\"2015-05-01\",\"2015-04-30\",\"2015-04-29\",\"2015-04-28\",\"2015-04-27\",\"2015-04-24\",\"2015-04-23\",\"2015-04-22\",\"2015-04-21\",\"2015-04-20\",\"2015-04-17\",\"2015-04-16\",\"2015-04-15\",\"2015-04-14\",\"2015-04-13\",\"2015-04-10\",\"2015-04-09\",\"2015-04-08\",\"2015-04-07\",\"2015-04-06\",\"2015-04-02\",\"2015-04-01\",\"2015-03-31\",\"2015-03-30\",\"2015-03-27\",\"2015-03-26\",\"2015-03-25\",\"2015-03-24\",\"2015-03-23\",\"2015-03-20\",\"2015-03-19\",\"2015-03-18\",\"2015-03-17\",\"2015-03-16\",\"2015-03-13\",\"2015-03-12\",\"2015-03-11\",\"2015-03-10\",\"2015-03-09\",\"2015-03-06\",\"2015-03-05\",\"2015-03-04\",\"2015-03-03\",\"2015-03-02\",\"2015-02-27\",\"2015-02-26\",\"2015-02-25\",\"2015-02-24\",\"2015-02-23\",\"2015-02-20\",\"2015-02-19\",\"2015-02-18\",\"2015-02-17\",\"2015-02-13\",\"2015-02-12\",\"2015-02-11\",\"2015-02-10\",\"2015-02-09\",\"2015-02-06\",\"2015-02-05\",\"2015-02-04\",\"2015-02-03\",\"2015-02-02\",\"2015-01-30\",\"2015-01-29\",\"2015-01-28\",\"2015-01-27\",\"2015-01-26\",\"2015-01-23\",\"2015-01-22\",\"2015-01-21\",\"2015-01-20\",\"2015-01-16\",\"2015-01-15\",\"2015-01-14\",\"2015-01-13\",\"2015-01-12\",\"2015-01-09\",\"2015-01-08\",\"2015-01-07\",\"2015-01-06\",\"2015-01-05\",\"2015-01-02\",\"2014-12-31\",\"2014-12-30\",\"2014-12-29\",\"2014-12-26\",\"2014-12-24\",\"2014-12-23\",\"2014-12-22\",\"2014-12-19\",\"2014-12-18\",\"2014-12-17\",\"2014-12-16\",\"2014-12-15\",\"2014-12-12\",\"2014-12-11\",\"2014-12-10\",\"2014-12-09\",\"2014-12-08\",\"2014-12-05\",\"2014-12-04\",\"2014-12-03\",\"2014-12-02\",\"2014-12-01\",\"2014-11-28\",\"2014-11-26\",\"2014-11-25\",\"2014-11-24\",\"2014-11-21\",\"2014-11-20\",\"2014-11-19\",\"2014-11-18\",\"2014-11-17\",\"2014-11-14\",\"2014-11-13\",\"2014-11-12\",\"2014-11-11\",\"2014-11-10\",\"2014-11-07\",\"2014-11-06\",\"2014-11-05\",\"2014-11-04\",\"2014-11-03\",\"2014-10-31\",\"2014-10-30\",\"2014-10-29\",\"2014-10-28\",\"2014-10-27\",\"2014-10-24\",\"2014-10-23\",\"2014-10-22\",\"2014-10-21\",\"2014-10-20\",\"2014-10-17\",\"2014-10-16\",\"2014-10-15\",\"2014-10-14\",\"2014-10-13\",\"2014-10-10\",\"2014-10-09\",\"2014-10-08\",\"2014-10-07\",\"2014-10-06\",\"2014-10-03\",\"2014-10-02\",\"2014-10-01\",\"2014-09-30\",\"2014-09-29\",\"2014-09-26\",\"2014-09-25\",\"2014-09-24\",\"2014-09-23\",\"2014-09-22\",\"2014-09-19\",\"2014-09-18\",\"2014-09-17\",\"2014-09-16\",\"2014-09-15\",\"2014-09-12\",\"2014-09-11\",\"2014-09-10\",\"2014-09-09\",\"2014-09-08\",\"2014-09-05\",\"2014-09-04\",\"2014-09-03\",\"2014-09-02\",\"2014-08-29\",\"2014-08-28\",\"2014-08-27\",\"2014-08-26\",\"2014-08-25\",\"2014-08-22\",\"2014-08-21\",\"2014-08-20\",\"2014-08-19\",\"2014-08-18\",\"2014-08-15\",\"2014-08-14\",\"2014-08-13\",\"2014-08-12\",\"2014-08-11\",\"2014-08-08\",\"2014-08-07\",\"2014-08-06\",\"2014-08-05\",\"2014-08-04\",\"2014-08-01\",\"2014-07-31\",\"2014-07-30\",\"2014-07-29\",\"2014-07-28\",\"2014-07-25\",\"2014-07-24\",\"2014-07-23\",\"2014-07-22\",\"2014-07-21\",\"2014-07-18\",\"2014-07-17\",\"2014-07-16\",\"2014-07-15\",\"2014-07-14\",\"2014-07-11\",\"2014-07-10\",\"2014-07-09\",\"2014-07-08\",\"2014-07-07\",\"2014-07-03\",\"2014-07-02\",\"2014-07-01\",\"2014-06-30\",\"2014-06-27\",\"2014-06-26\",\"2014-06-25\",\"2014-06-24\",\"2014-06-23\",\"2014-06-20\",\"2014-06-19\",\"2014-06-18\",\"2014-06-17\",\"2014-06-16\",\"2014-06-13\",\"2014-06-12\",\"2014-06-11\",\"2014-06-10\",\"2014-06-09\",\"2014-06-06\",\"2014-06-05\",\"2014-06-04\",\"2014-06-03\",\"2014-06-02\",\"2014-05-30\",\"2014-05-29\",\"2014-05-28\",\"2014-05-27\",\"2014-05-23\",\"2014-05-22\",\"2014-05-21\",\"2014-05-20\",\"2014-05-19\",\"2014-05-16\",\"2014-05-15\",\"2014-05-14\",\"2014-05-13\",\"2014-05-12\",\"2014-05-09\",\"2014-05-08\",\"2014-05-07\",\"2014-05-06\",\"2014-05-05\",\"2014-05-02\",\"2014-05-01\",\"2014-04-30\",\"2014-04-29\",\"2014-04-28\",\"2014-04-25\",\"2014-04-24\",\"2014-04-23\",\"2014-04-22\",\"2014-04-21\",\"2014-04-17\",\"2014-04-16\",\"2014-04-15\",\"2014-04-14\",\"2014-04-11\",\"2014-04-10\",\"2014-04-09\",\"2014-04-08\",\"2014-04-07\",\"2014-04-04\",\"2014-04-03\",\"2014-04-02\",\"2014-04-01\",\"2014-03-31\",\"2014-03-28\",\"2014-03-27\",\"2014-03-26\",\"2014-03-25\",\"2014-03-24\",\"2014-03-21\",\"2014-03-20\",\"2014-03-19\",\"2014-03-18\",\"2014-03-17\",\"2014-03-14\",\"2014-03-13\",\"2014-03-12\",\"2014-03-11\",\"2014-03-10\",\"2014-03-07\",\"2014-03-06\",\"2014-03-05\",\"2014-03-04\",\"2014-03-03\",\"2014-02-28\",\"2014-02-27\",\"2014-02-26\",\"2014-02-25\",\"2014-02-24\",\"2014-02-21\",\"2014-02-20\",\"2014-02-19\",\"2014-02-18\",\"2014-02-14\",\"2014-02-13\",\"2014-02-12\",\"2014-02-11\",\"2014-02-10\",\"2014-02-07\",\"2014-02-06\",\"2014-02-05\",\"2014-02-04\",\"2014-02-03\",\"2014-01-31\",\"2014-01-30\",\"2014-01-29\",\"2014-01-28\",\"2014-01-27\",\"2014-01-24\",\"2014-01-23\",\"2014-01-22\",\"2014-01-21\",\"2014-01-17\",\"2014-01-16\",\"2014-01-15\",\"2014-01-14\",\"2014-01-13\",\"2014-01-10\",\"2014-01-09\",\"2014-01-08\",\"2014-01-07\",\"2014-01-06\",\"2014-01-03\",\"2014-01-02\",\"2013-12-31\",\"2013-12-30\",\"2013-12-27\",\"2013-12-26\",\"2013-12-24\",\"2013-12-23\",\"2013-12-20\",\"2013-12-19\",\"2013-12-18\",\"2013-12-17\",\"2013-12-16\",\"2013-12-13\",\"2013-12-12\",\"2013-12-11\",\"2013-12-10\",\"2013-12-09\",\"2013-12-06\",\"2013-12-05\",\"2013-12-04\",\"2013-12-03\",\"2013-12-02\",\"2013-11-29\",\"2013-11-27\",\"2013-11-26\",\"2013-11-25\",\"2013-11-22\",\"2013-11-21\",\"2013-11-20\",\"2013-11-19\",\"2013-11-18\",\"2013-11-15\",\"2013-11-14\",\"2013-11-13\",\"2013-11-12\",\"2013-11-11\",\"2013-11-08\",\"2013-11-07\",\"2013-11-06\",\"2013-11-05\",\"2013-11-04\",\"2013-11-01\",\"2013-10-31\",\"2013-10-30\",\"2013-10-29\",\"2013-10-28\",\"2013-10-25\",\"2013-10-24\",\"2013-10-23\",\"2013-10-22\",\"2013-10-21\",\"2013-10-18\",\"2013-10-17\",\"2013-10-16\",\"2013-10-15\",\"2013-10-14\",\"2013-10-11\",\"2013-10-10\",\"2013-10-09\",\"2013-10-08\",\"2013-10-07\",\"2013-10-04\",\"2013-10-03\",\"2013-10-02\",\"2013-10-01\",\"2013-09-30\",\"2013-09-27\",\"2013-09-26\",\"2013-09-25\",\"2013-09-24\",\"2013-09-23\",\"2013-09-20\",\"2013-09-19\",\"2013-09-18\",\"2013-09-17\",\"2013-09-16\",\"2013-09-13\",\"2013-09-12\",\"2013-09-11\",\"2013-09-10\",\"2013-09-09\",\"2013-09-06\",\"2013-09-05\",\"2013-09-04\",\"2013-09-03\",\"2013-08-30\",\"2013-08-29\",\"2013-08-28\",\"2013-08-27\",\"2013-08-26\",\"2013-08-23\",\"2013-08-22\",\"2013-08-21\",\"2013-08-20\",\"2013-08-19\",\"2013-08-16\",\"2013-08-15\",\"2013-08-14\",\"2013-08-13\",\"2013-08-12\",\"2013-08-09\",\"2013-08-08\",\"2013-08-07\",\"2013-08-06\",\"2013-08-05\",\"2013-08-02\",\"2013-08-01\",\"2013-07-31\",\"2013-07-30\",\"2013-07-29\",\"2013-07-26\",\"2013-07-25\",\"2013-07-24\",\"2013-07-23\",\"2013-07-22\",\"2013-07-19\",\"2013-07-18\",\"2013-07-17\",\"2013-07-16\",\"2013-07-15\",\"2013-07-12\",\"2013-07-11\",\"2013-07-10\",\"2013-07-09\",\"2013-07-08\",\"2013-07-05\",\"2013-07-03\",\"2013-07-02\",\"2013-07-01\",\"2013-06-28\",\"2013-06-27\",\"2013-06-26\",\"2013-06-25\",\"2013-06-24\",\"2013-06-21\",\"2013-06-20\",\"2013-06-19\",\"2013-06-18\",\"2013-06-17\",\"2013-06-14\",\"2013-06-13\",\"2013-06-12\",\"2013-06-11\",\"2013-06-10\",\"2013-06-07\",\"2013-06-06\",\"2013-06-05\",\"2013-06-04\",\"2013-06-03\",\"2013-05-31\",\"2013-05-30\",\"2013-05-29\",\"2013-05-28\",\"2013-05-24\",\"2013-05-23\",\"2013-05-22\",\"2013-05-21\",\"2013-05-20\",\"2013-05-17\",\"2013-05-16\",\"2013-05-15\",\"2013-05-14\",\"2013-05-13\",\"2013-05-10\",\"2013-05-09\",\"2013-05-08\",\"2013-05-07\",\"2013-05-06\",\"2013-05-03\",\"2013-05-02\",\"2013-05-01\",\"2013-04-30\",\"2013-04-29\",\"2013-04-26\",\"2013-04-25\",\"2013-04-24\",\"2013-04-23\",\"2013-04-22\",\"2013-04-19\",\"2013-04-18\",\"2013-04-17\",\"2013-04-16\",\"2013-04-15\",\"2013-04-12\",\"2013-04-11\",\"2013-04-10\",\"2013-04-09\",\"2013-04-08\",\"2013-04-05\",\"2013-04-04\",\"2013-04-03\",\"2013-04-02\",\"2013-04-01\",\"2013-03-28\",\"2013-03-27\",\"2013-03-26\",\"2013-03-25\",\"2013-03-22\",\"2013-03-21\",\"2013-03-20\",\"2013-03-19\",\"2013-03-18\",\"2013-03-15\",\"2013-03-14\",\"2013-03-13\",\"2013-03-12\",\"2013-03-11\",\"2013-03-08\",\"2013-03-07\",\"2013-03-06\",\"2013-03-05\",\"2013-03-04\",\"2013-03-01\",\"2013-02-28\",\"2013-02-27\",\"2013-02-26\",\"2013-02-25\",\"2013-02-22\",\"2013-02-21\",\"2013-02-20\",\"2013-02-19\",\"2013-02-15\",\"2013-02-14\",\"2013-02-13\",\"2013-02-12\",\"2013-02-11\",\"2013-02-08\",\"2013-02-07\",\"2013-02-06\",\"2013-02-05\",\"2013-02-04\",\"2013-02-01\",\"2013-01-31\",\"2013-01-30\",\"2013-01-29\",\"2013-01-28\",\"2013-01-25\",\"2013-01-24\",\"2013-01-23\",\"2013-01-22\",\"2013-01-18\",\"2013-01-17\",\"2013-01-16\",\"2013-01-15\",\"2013-01-14\",\"2013-01-11\",\"2013-01-10\",\"2013-01-09\",\"2013-01-08\",\"2013-01-07\",\"2013-01-04\",\"2013-01-03\",\"2013-01-02\",\"2012-12-31\",\"2012-12-28\",\"2012-12-27\",\"2012-12-26\",\"2012-12-24\",\"2012-12-21\",\"2012-12-20\",\"2012-12-19\",\"2012-12-18\",\"2012-12-17\",\"2012-12-14\",\"2012-12-13\",\"2012-12-12\",\"2012-12-11\",\"2012-12-10\",\"2012-12-07\",\"2012-12-06\",\"2012-12-05\",\"2012-12-04\",\"2012-12-03\",\"2012-11-30\",\"2012-11-29\",\"2012-11-28\",\"2012-11-27\",\"2012-11-26\",\"2012-11-23\",\"2012-11-21\",\"2012-11-20\",\"2012-11-19\",\"2012-11-16\",\"2012-11-15\",\"2012-11-14\",\"2012-11-13\",\"2012-11-12\",\"2012-11-09\",\"2012-11-08\",\"2012-11-07\",\"2012-11-06\",\"2012-11-05\",\"2012-11-02\",\"2012-11-01\",\"2012-10-31\",\"2012-10-26\",\"2012-10-25\",\"2012-10-24\",\"2012-10-23\",\"2012-10-22\",\"2012-10-19\",\"2012-10-18\",\"2012-10-17\",\"2012-10-16\",\"2012-10-15\",\"2012-10-12\",\"2012-10-11\",\"2012-10-10\",\"2012-10-09\",\"2012-10-08\",\"2012-10-05\",\"2012-10-04\",\"2012-10-03\",\"2012-10-02\",\"2012-10-01\",\"2012-09-28\",\"2012-09-27\",\"2012-09-26\",\"2012-09-25\",\"2012-09-24\",\"2012-09-21\",\"2012-09-20\",\"2012-09-19\",\"2012-09-18\",\"2012-09-17\",\"2012-09-14\",\"2012-09-13\",\"2012-09-12\",\"2012-09-11\",\"2012-09-10\",\"2012-09-07\",\"2012-09-06\",\"2012-09-05\",\"2012-09-04\",\"2012-08-31\",\"2012-08-30\",\"2012-08-29\",\"2012-08-28\",\"2012-08-27\",\"2012-08-24\",\"2012-08-23\",\"2012-08-22\",\"2012-08-21\",\"2012-08-20\",\"2012-08-17\",\"2012-08-16\",\"2012-08-15\",\"2012-08-14\",\"2012-08-13\",\"2012-08-10\",\"2012-08-09\",\"2012-08-08\",\"2012-08-07\",\"2012-08-06\",\"2012-08-03\",\"2012-08-02\",\"2012-08-01\",\"2012-07-31\",\"2012-07-30\",\"2012-07-27\",\"2012-07-26\",\"2012-07-25\",\"2012-07-24\",\"2012-07-23\",\"2012-07-20\",\"2012-07-19\",\"2012-07-18\",\"2012-07-17\",\"2012-07-16\",\"2012-07-13\",\"2012-07-12\",\"2012-07-11\",\"2012-07-10\",\"2012-07-09\",\"2012-07-06\",\"2012-07-05\",\"2012-07-03\",\"2012-07-02\",\"2012-06-29\",\"2012-06-28\",\"2012-06-27\",\"2012-06-26\",\"2012-06-25\",\"2012-06-22\",\"2012-06-21\",\"2012-06-20\",\"2012-06-19\",\"2012-06-18\",\"2012-06-15\",\"2012-06-14\",\"2012-06-13\",\"2012-06-12\",\"2012-06-11\",\"2012-06-08\",\"2012-06-07\",\"2012-06-06\",\"2012-06-05\",\"2012-06-04\",\"2012-06-01\",\"2012-05-31\",\"2012-05-30\",\"2012-05-29\",\"2012-05-25\",\"2012-05-24\",\"2012-05-23\",\"2012-05-22\",\"2012-05-21\",\"2012-05-18\",\"2012-05-17\",\"2012-05-16\",\"2012-05-15\",\"2012-05-14\",\"2012-05-11\",\"2012-05-10\",\"2012-05-09\",\"2012-05-08\",\"2012-05-07\",\"2012-05-04\",\"2012-05-03\",\"2012-05-02\",\"2012-05-01\",\"2012-04-30\",\"2012-04-27\",\"2012-04-26\",\"2012-04-25\",\"2012-04-24\",\"2012-04-23\",\"2012-04-20\",\"2012-04-19\",\"2012-04-18\",\"2012-04-17\",\"2012-04-16\",\"2012-04-13\",\"2012-04-12\",\"2012-04-11\",\"2012-04-10\",\"2012-04-09\",\"2012-04-05\",\"2012-04-04\",\"2012-04-03\",\"2012-04-02\",\"2012-03-30\",\"2012-03-29\",\"2012-03-28\",\"2012-03-27\",\"2012-03-26\",\"2012-03-23\",\"2012-03-22\",\"2012-03-21\",\"2012-03-20\",\"2012-03-19\",\"2012-03-16\",\"2012-03-15\",\"2012-03-14\",\"2012-03-13\",\"2012-03-12\",\"2012-03-09\",\"2012-03-08\",\"2012-03-07\",\"2012-03-06\",\"2012-03-05\",\"2012-03-02\",\"2012-03-01\",\"2012-02-29\",\"2012-02-28\",\"2012-02-27\",\"2012-02-24\",\"2012-02-23\",\"2012-02-22\",\"2012-02-21\",\"2012-02-17\",\"2012-02-16\",\"2012-02-15\",\"2012-02-14\",\"2012-02-13\",\"2012-02-10\",\"2012-02-09\",\"2012-02-08\",\"2012-02-07\",\"2012-02-06\",\"2012-02-03\",\"2012-02-02\",\"2012-02-01\",\"2012-01-31\",\"2012-01-30\",\"2012-01-27\",\"2012-01-26\",\"2012-01-25\",\"2012-01-24\",\"2012-01-23\",\"2012-01-20\",\"2012-01-19\",\"2012-01-18\",\"2012-01-17\",\"2012-01-13\",\"2012-01-12\",\"2012-01-11\",\"2012-01-10\",\"2012-01-09\",\"2012-01-06\",\"2012-01-05\",\"2012-01-04\",\"2012-01-03\",\"2011-12-30\",\"2011-12-29\",\"2011-12-28\",\"2011-12-27\",\"2011-12-23\",\"2011-12-22\",\"2011-12-21\",\"2011-12-20\",\"2011-12-19\",\"2011-12-16\",\"2011-12-15\",\"2011-12-14\",\"2011-12-13\",\"2011-12-12\",\"2011-12-09\",\"2011-12-08\",\"2011-12-07\",\"2011-12-06\",\"2011-12-05\",\"2011-12-02\",\"2011-12-01\",\"2011-11-30\",\"2011-11-29\",\"2011-11-28\",\"2011-11-25\",\"2011-11-23\",\"2011-11-22\",\"2011-11-21\",\"2011-11-18\",\"2011-11-17\",\"2011-11-16\",\"2011-11-15\",\"2011-11-14\",\"2011-11-11\",\"2011-11-10\",\"2011-11-09\",\"2011-11-08\",\"2011-11-07\",\"2011-11-04\",\"2011-11-03\",\"2011-11-02\",\"2011-11-01\",\"2011-10-31\",\"2011-10-28\",\"2011-10-27\",\"2011-10-26\",\"2011-10-25\",\"2011-10-24\",\"2011-10-21\",\"2011-10-20\",\"2011-10-19\",\"2011-10-18\",\"2011-10-17\",\"2011-10-14\",\"2011-10-13\",\"2011-10-12\",\"2011-10-11\",\"2011-10-10\",\"2011-10-07\",\"2011-10-06\",\"2011-10-05\",\"2011-10-04\",\"2011-10-03\",\"2011-09-30\",\"2011-09-29\",\"2011-09-28\",\"2011-09-27\",\"2011-09-26\",\"2011-09-23\",\"2011-09-22\",\"2011-09-21\",\"2011-09-20\",\"2011-09-19\",\"2011-09-16\",\"2011-09-15\",\"2011-09-14\",\"2011-09-13\",\"2011-09-12\",\"2011-09-09\",\"2011-09-08\",\"2011-09-07\",\"2011-09-06\",\"2011-09-02\",\"2011-09-01\",\"2011-08-31\",\"2011-08-30\",\"2011-08-29\",\"2011-08-26\",\"2011-08-25\",\"2011-08-24\",\"2011-08-23\",\"2011-08-22\",\"2011-08-19\",\"2011-08-18\",\"2011-08-17\",\"2011-08-16\",\"2011-08-15\",\"2011-08-12\",\"2011-08-11\",\"2011-08-10\",\"2011-08-09\",\"2011-08-08\",\"2011-08-05\",\"2011-08-04\",\"2011-08-03\",\"2011-08-02\",\"2011-08-01\",\"2011-07-29\",\"2011-07-28\",\"2011-07-27\",\"2011-07-26\",\"2011-07-25\",\"2011-07-22\",\"2011-07-21\",\"2011-07-20\",\"2011-07-19\",\"2011-07-18\",\"2011-07-15\",\"2011-07-14\",\"2011-07-13\",\"2011-07-12\",\"2011-07-11\",\"2011-07-08\",\"2011-07-07\",\"2011-07-06\",\"2011-07-05\",\"2011-07-01\",\"2011-06-30\",\"2011-06-29\",\"2011-06-28\",\"2011-06-27\",\"2011-06-24\",\"2011-06-23\",\"2011-06-22\",\"2011-06-21\",\"2011-06-20\",\"2011-06-17\",\"2011-06-16\",\"2011-06-15\",\"2011-06-14\",\"2011-06-13\",\"2011-06-10\",\"2011-06-09\",\"2011-06-08\",\"2011-06-07\",\"2011-06-06\",\"2011-06-03\",\"2011-06-02\",\"2011-06-01\",\"2011-05-31\",\"2011-05-27\",\"2011-05-26\",\"2011-05-25\",\"2011-05-24\",\"2011-05-23\",\"2011-05-20\",\"2011-05-19\",\"2011-05-18\",\"2011-05-17\",\"2011-05-16\",\"2011-05-13\",\"2011-05-12\",\"2011-05-11\",\"2011-05-10\",\"2011-05-09\",\"2011-05-06\",\"2011-05-05\",\"2011-05-04\",\"2011-05-03\",\"2011-05-02\",\"2011-04-29\",\"2011-04-28\",\"2011-04-27\",\"2011-04-26\",\"2011-04-25\",\"2011-04-21\",\"2011-04-20\",\"2011-04-19\",\"2011-04-18\",\"2011-04-15\",\"2011-04-14\",\"2011-04-13\",\"2011-04-12\",\"2011-04-11\",\"2011-04-08\",\"2011-04-07\",\"2011-04-06\",\"2011-04-05\",\"2011-04-04\",\"2011-04-01\",\"2011-03-31\",\"2011-03-30\",\"2011-03-29\",\"2011-03-28\",\"2011-03-25\",\"2011-03-24\",\"2011-03-23\",\"2011-03-22\",\"2011-03-21\",\"2011-03-18\",\"2011-03-17\",\"2011-03-16\",\"2011-03-15\",\"2011-03-14\",\"2011-03-11\",\"2011-03-10\",\"2011-03-09\",\"2011-03-08\",\"2011-03-07\",\"2011-03-04\",\"2011-03-03\",\"2011-03-02\",\"2011-03-01\",\"2011-02-28\",\"2011-02-25\",\"2011-02-24\",\"2011-02-23\",\"2011-02-22\",\"2011-02-18\",\"2011-02-17\",\"2011-02-16\",\"2011-02-15\",\"2011-02-14\",\"2011-02-11\",\"2011-02-10\",\"2011-02-09\",\"2011-02-08\",\"2011-02-07\",\"2011-02-04\",\"2011-02-03\",\"2011-02-02\",\"2011-02-01\",\"2011-01-31\",\"2011-01-28\",\"2011-01-27\",\"2011-01-26\",\"2011-01-25\",\"2011-01-24\",\"2011-01-21\",\"2011-01-20\",\"2011-01-19\",\"2011-01-18\",\"2011-01-14\",\"2011-01-13\",\"2011-01-12\",\"2011-01-11\",\"2011-01-10\",\"2011-01-07\",\"2011-01-06\",\"2011-01-05\",\"2011-01-04\",\"2011-01-03\",\"2010-12-31\",\"2010-12-30\",\"2010-12-29\",\"2010-12-28\",\"2010-12-27\",\"2010-12-23\",\"2010-12-22\",\"2010-12-21\",\"2010-12-20\",\"2010-12-17\",\"2010-12-16\",\"2010-12-15\",\"2010-12-14\",\"2010-12-13\",\"2010-12-10\",\"2010-12-09\",\"2010-12-08\",\"2010-12-07\",\"2010-12-06\",\"2010-12-03\",\"2010-12-02\",\"2010-12-01\",\"2010-11-30\",\"2010-11-29\",\"2010-11-26\",\"2010-11-24\",\"2010-11-23\",\"2010-11-22\",\"2010-11-19\",\"2010-11-18\",\"2010-11-17\",\"2010-11-16\",\"2010-11-15\",\"2010-11-12\",\"2010-11-11\",\"2010-11-10\",\"2010-11-09\",\"2010-11-08\",\"2010-11-05\",\"2010-11-04\",\"2010-11-03\",\"2010-11-02\",\"2010-11-01\",\"2010-10-29\",\"2010-10-28\",\"2010-10-27\",\"2010-10-26\",\"2010-10-25\",\"2010-10-22\",\"2010-10-21\",\"2010-10-20\",\"2010-10-19\",\"2010-10-18\",\"2010-10-15\",\"2010-10-14\",\"2010-10-13\",\"2010-10-12\",\"2010-10-11\",\"2010-10-08\",\"2010-10-07\",\"2010-10-06\",\"2010-10-05\",\"2010-10-04\",\"2010-10-01\",\"2010-09-30\",\"2010-09-29\",\"2010-09-28\",\"2010-09-27\",\"2010-09-24\",\"2010-09-23\",\"2010-09-22\",\"2010-09-21\",\"2010-09-20\",\"2010-09-17\",\"2010-09-16\",\"2010-09-15\",\"2010-09-14\",\"2010-09-13\",\"2010-09-10\",\"2010-09-09\",\"2010-09-08\",\"2010-09-07\",\"2010-09-03\",\"2010-09-02\",\"2010-09-01\",\"2010-08-31\",\"2010-08-30\",\"2010-08-27\",\"2010-08-26\",\"2010-08-25\",\"2010-08-24\",\"2010-08-23\",\"2010-08-20\",\"2010-08-19\",\"2010-08-18\",\"2010-08-17\",\"2010-08-16\",\"2010-08-13\",\"2010-08-12\",\"2010-08-11\",\"2010-08-10\",\"2010-08-09\",\"2010-08-06\",\"2010-08-05\",\"2010-08-04\",\"2010-08-03\",\"2010-08-02\",\"2010-07-30\",\"2010-07-29\",\"2010-07-28\",\"2010-07-27\",\"2010-07-26\",\"2010-07-23\",\"2010-07-22\",\"2010-07-21\",\"2010-07-20\",\"2010-07-19\",\"2010-07-16\",\"2010-07-15\",\"2010-07-14\",\"2010-07-13\",\"2010-07-12\",\"2010-07-09\",\"2010-07-08\",\"2010-07-07\",\"2010-07-06\",\"2010-07-02\",\"2010-07-01\",\"2010-06-30\",\"2010-06-29\",\"2010-06-28\",\"2010-06-25\",\"2010-06-24\",\"2010-06-23\",\"2010-06-22\",\"2010-06-21\",\"2010-06-18\",\"2010-06-17\",\"2010-06-16\",\"2010-06-15\",\"2010-06-14\",\"2010-06-11\",\"2010-06-10\",\"2010-06-09\",\"2010-06-08\",\"2010-06-07\",\"2010-06-04\",\"2010-06-03\",\"2010-06-02\",\"2010-06-01\",\"2010-05-28\",\"2010-05-27\",\"2010-05-26\",\"2010-05-25\",\"2010-05-24\",\"2010-05-21\",\"2010-05-20\",\"2010-05-19\",\"2010-05-18\",\"2010-05-17\",\"2010-05-14\",\"2010-05-13\",\"2010-05-12\",\"2010-05-11\",\"2010-05-10\",\"2010-05-07\",\"2010-05-06\",\"2010-05-05\",\"2010-05-04\",\"2010-05-03\",\"2010-04-30\",\"2010-04-29\",\"2010-04-28\",\"2010-04-27\",\"2010-04-26\",\"2010-04-23\",\"2010-04-22\",\"2010-04-21\",\"2010-04-20\",\"2010-04-19\",\"2010-04-16\",\"2010-04-15\",\"2010-04-14\",\"2010-04-13\",\"2010-04-12\",\"2010-04-09\",\"2010-04-08\",\"2010-04-07\",\"2010-04-06\",\"2010-04-05\",\"2010-04-01\",\"2010-03-31\",\"2010-03-30\",\"2010-03-29\",\"2010-03-26\",\"2010-03-25\",\"2010-03-24\",\"2010-03-23\",\"2010-03-22\",\"2010-03-19\",\"2010-03-18\",\"2010-03-17\",\"2010-03-16\",\"2010-03-15\",\"2010-03-12\",\"2010-03-11\",\"2010-03-10\",\"2010-03-09\",\"2010-03-08\",\"2010-03-05\",\"2010-03-04\",\"2010-03-03\",\"2010-03-02\",\"2010-03-01\",\"2010-02-26\",\"2010-02-25\",\"2010-02-24\",\"2010-02-23\",\"2010-02-22\",\"2010-02-19\",\"2010-02-18\",\"2010-02-17\",\"2010-02-16\",\"2010-02-12\",\"2010-02-11\",\"2010-02-10\",\"2010-02-09\",\"2010-02-08\",\"2010-02-05\",\"2010-02-04\",\"2010-02-03\",\"2010-02-02\",\"2010-02-01\",\"2010-01-29\",\"2010-01-28\",\"2010-01-27\",\"2010-01-26\",\"2010-01-25\",\"2010-01-22\",\"2010-01-21\",\"2010-01-20\",\"2010-01-19\",\"2010-01-15\",\"2010-01-14\",\"2010-01-13\",\"2010-01-12\",\"2010-01-11\",\"2010-01-08\",\"2010-01-07\",\"2010-01-06\",\"2010-01-05\",\"2010-01-04\",\"2009-12-31\",\"2009-12-30\",\"2009-12-29\",\"2009-12-28\",\"2009-12-24\",\"2009-12-23\",\"2009-12-22\",\"2009-12-21\",\"2009-12-18\",\"2009-12-17\",\"2009-12-16\",\"2009-12-15\",\"2009-12-14\",\"2009-12-11\",\"2009-12-10\",\"2009-12-09\",\"2009-12-08\",\"2009-12-07\",\"2009-12-04\",\"2009-12-03\",\"2009-12-02\",\"2009-12-01\",\"2009-11-30\",\"2009-11-27\",\"2009-11-25\",\"2009-11-24\",\"2009-11-23\",\"2009-11-20\",\"2009-11-19\",\"2009-11-18\",\"2009-11-17\",\"2009-11-16\",\"2009-11-13\",\"2009-11-12\",\"2009-11-11\",\"2009-11-10\",\"2009-11-09\",\"2009-11-06\",\"2009-11-05\",\"2009-11-04\",\"2009-11-03\",\"2009-11-02\",\"2009-10-30\",\"2009-10-29\",\"2009-10-28\",\"2009-10-27\",\"2009-10-26\",\"2009-10-23\",\"2009-10-22\",\"2009-10-21\",\"2009-10-20\",\"2009-10-19\",\"2009-10-16\",\"2009-10-15\",\"2009-10-14\",\"2009-10-13\",\"2009-10-12\",\"2009-10-09\",\"2009-10-08\",\"2009-10-07\",\"2009-10-06\",\"2009-10-05\",\"2009-10-02\",\"2009-10-01\",\"2009-09-30\",\"2009-09-29\",\"2009-09-28\",\"2009-09-25\",\"2009-09-24\",\"2009-09-23\",\"2009-09-22\",\"2009-09-21\",\"2009-09-18\",\"2009-09-17\",\"2009-09-16\",\"2009-09-15\",\"2009-09-14\",\"2009-09-11\",\"2009-09-10\",\"2009-09-09\",\"2009-09-08\",\"2009-09-04\",\"2009-09-03\",\"2009-09-02\",\"2009-09-01\",\"2009-08-31\",\"2009-08-28\",\"2009-08-27\",\"2009-08-26\",\"2009-08-25\",\"2009-08-24\",\"2009-08-21\",\"2009-08-20\",\"2009-08-19\",\"2009-08-18\",\"2009-08-17\",\"2009-08-14\",\"2009-08-13\",\"2009-08-12\",\"2009-08-11\",\"2009-08-10\",\"2009-08-07\",\"2009-08-06\",\"2009-08-05\",\"2009-08-04\",\"2009-08-03\",\"2009-07-31\",\"2009-07-30\",\"2009-07-29\",\"2009-07-28\",\"2009-07-27\",\"2009-07-24\",\"2009-07-23\",\"2009-07-22\",\"2009-07-21\",\"2009-07-20\",\"2009-07-17\",\"2009-07-16\",\"2009-07-15\",\"2009-07-14\",\"2009-07-13\",\"2009-07-10\",\"2009-07-09\",\"2009-07-08\",\"2009-07-07\",\"2009-07-06\",\"2009-07-02\",\"2009-07-01\",\"2009-06-30\",\"2009-06-29\",\"2009-06-26\",\"2009-06-25\",\"2009-06-24\",\"2009-06-23\",\"2009-06-22\",\"2009-06-19\",\"2009-06-18\",\"2009-06-17\",\"2009-06-16\",\"2009-06-15\",\"2009-06-12\",\"2009-06-11\",\"2009-06-10\",\"2009-06-09\",\"2009-06-08\",\"2009-06-05\",\"2009-06-04\",\"2009-06-03\",\"2009-06-02\",\"2009-06-01\",\"2009-05-29\",\"2009-05-28\",\"2009-05-27\",\"2009-05-26\",\"2009-05-22\",\"2009-05-21\",\"2009-05-20\",\"2009-05-19\",\"2009-05-18\",\"2009-05-15\",\"2009-05-14\",\"2009-05-13\",\"2009-05-12\",\"2009-05-11\",\"2009-05-08\",\"2009-05-07\",\"2009-05-06\",\"2009-05-05\",\"2009-05-04\",\"2009-05-01\",\"2009-04-30\",\"2009-04-29\",\"2009-04-28\",\"2009-04-27\",\"2009-04-24\",\"2009-04-23\",\"2009-04-22\",\"2009-04-21\",\"2009-04-20\",\"2009-04-17\",\"2009-04-16\",\"2009-04-15\",\"2009-04-14\",\"2009-04-13\",\"2009-04-09\",\"2009-04-08\",\"2009-04-07\",\"2009-04-06\",\"2009-04-03\",\"2009-04-02\",\"2009-04-01\",\"2009-03-31\",\"2009-03-30\",\"2009-03-27\",\"2009-03-26\",\"2009-03-25\",\"2009-03-24\",\"2009-03-23\",\"2009-03-20\",\"2009-03-19\",\"2009-03-18\",\"2009-03-17\",\"2009-03-16\",\"2009-03-13\",\"2009-03-12\",\"2009-03-11\",\"2009-03-10\",\"2009-03-09\",\"2009-03-06\",\"2009-03-05\",\"2009-03-04\",\"2009-03-03\",\"2009-03-02\",\"2009-02-27\",\"2009-02-26\",\"2009-02-25\",\"2009-02-24\",\"2009-02-23\",\"2009-02-20\",\"2009-02-19\",\"2009-02-18\",\"2009-02-17\",\"2009-02-13\",\"2009-02-12\",\"2009-02-11\",\"2009-02-10\",\"2009-02-09\",\"2009-02-06\",\"2009-02-05\",\"2009-02-04\",\"2009-02-03\",\"2009-02-02\",\"2009-01-30\",\"2009-01-29\",\"2009-01-28\",\"2009-01-27\",\"2009-01-26\",\"2009-01-23\",\"2009-01-22\",\"2009-01-21\",\"2009-01-20\",\"2009-01-16\",\"2009-01-15\",\"2009-01-14\",\"2009-01-13\",\"2009-01-12\",\"2009-01-09\",\"2009-01-08\",\"2009-01-07\",\"2009-01-06\",\"2009-01-05\",\"2009-01-02\",\"2008-12-31\",\"2008-12-30\",\"2008-12-29\",\"2008-12-26\",\"2008-12-24\",\"2008-12-23\",\"2008-12-22\",\"2008-12-19\",\"2008-12-18\",\"2008-12-17\",\"2008-12-16\",\"2008-12-15\",\"2008-12-12\",\"2008-12-11\",\"2008-12-10\",\"2008-12-09\",\"2008-12-08\",\"2008-12-05\",\"2008-12-04\",\"2008-12-03\",\"2008-12-02\",\"2008-12-01\",\"2008-11-28\",\"2008-11-26\",\"2008-11-25\",\"2008-11-24\",\"2008-11-21\",\"2008-11-20\",\"2008-11-19\",\"2008-11-18\",\"2008-11-17\",\"2008-11-14\",\"2008-11-13\",\"2008-11-12\",\"2008-11-11\",\"2008-11-10\",\"2008-11-07\",\"2008-11-06\",\"2008-11-05\",\"2008-11-04\",\"2008-11-03\",\"2008-10-31\",\"2008-10-30\",\"2008-10-29\",\"2008-10-28\",\"2008-10-27\",\"2008-10-24\",\"2008-10-23\",\"2008-10-22\",\"2008-10-21\",\"2008-10-20\",\"2008-10-17\",\"2008-10-16\",\"2008-10-15\",\"2008-10-14\",\"2008-10-13\",\"2008-10-10\",\"2008-10-09\",\"2008-10-08\",\"2008-10-07\",\"2008-10-06\",\"2008-10-03\",\"2008-10-02\",\"2008-10-01\",\"2008-09-30\",\"2008-09-29\",\"2008-09-26\",\"2008-09-25\",\"2008-09-24\",\"2008-09-23\",\"2008-09-22\",\"2008-09-19\",\"2008-09-18\",\"2008-09-17\",\"2008-09-16\",\"2008-09-15\",\"2008-09-12\",\"2008-09-11\",\"2008-09-10\",\"2008-09-09\",\"2008-09-08\",\"2008-09-05\",\"2008-09-04\",\"2008-09-03\",\"2008-09-02\",\"2008-08-29\",\"2008-08-28\",\"2008-08-27\",\"2008-08-26\",\"2008-08-25\",\"2008-08-22\",\"2008-08-21\",\"2008-08-20\",\"2008-08-19\",\"2008-08-18\",\"2008-08-15\",\"2008-08-14\",\"2008-08-13\",\"2008-08-12\",\"2008-08-11\",\"2008-08-08\",\"2008-08-07\",\"2008-08-06\",\"2008-08-05\",\"2008-08-04\",\"2008-08-01\",\"2008-07-31\",\"2008-07-30\",\"2008-07-29\",\"2008-07-28\",\"2008-07-25\",\"2008-07-24\",\"2008-07-23\",\"2008-07-22\",\"2008-07-21\",\"2008-07-18\",\"2008-07-17\",\"2008-07-16\",\"2008-07-15\",\"2008-07-14\",\"2008-07-11\",\"2008-07-10\",\"2008-07-09\",\"2008-07-08\",\"2008-07-07\",\"2008-07-03\",\"2008-07-02\",\"2008-07-01\",\"2008-06-30\",\"2008-06-27\",\"2008-06-26\",\"2008-06-25\",\"2008-06-24\",\"2008-06-23\",\"2008-06-20\",\"2008-06-19\",\"2008-06-18\",\"2008-06-17\",\"2008-06-16\",\"2008-06-13\",\"2008-06-12\",\"2008-06-11\",\"2008-06-10\",\"2008-06-09\",\"2008-06-06\",\"2008-06-05\",\"2008-06-04\",\"2008-06-03\",\"2008-06-02\",\"2008-05-30\",\"2008-05-29\",\"2008-05-28\",\"2008-05-27\",\"2008-05-23\",\"2008-05-22\",\"2008-05-21\",\"2008-05-20\",\"2008-05-19\",\"2008-05-16\",\"2008-05-15\",\"2008-05-14\",\"2008-05-13\",\"2008-05-12\",\"2008-05-09\",\"2008-05-08\",\"2008-05-07\",\"2008-05-06\",\"2008-05-05\",\"2008-05-02\",\"2008-05-01\",\"2008-04-30\",\"2008-04-29\",\"2008-04-28\",\"2008-04-25\",\"2008-04-24\",\"2008-04-23\",\"2008-04-22\",\"2008-04-21\",\"2008-04-18\",\"2008-04-17\",\"2008-04-16\",\"2008-04-15\",\"2008-04-14\",\"2008-04-11\",\"2008-04-10\",\"2008-04-09\",\"2008-04-08\",\"2008-04-07\",\"2008-04-04\",\"2008-04-03\",\"2008-04-02\",\"2008-04-01\",\"2008-03-31\",\"2008-03-28\",\"2008-03-27\",\"2008-03-26\",\"2008-03-25\",\"2008-03-24\",\"2008-03-20\",\"2008-03-19\",\"2008-03-18\",\"2008-03-17\",\"2008-03-14\",\"2008-03-13\",\"2008-03-12\",\"2008-03-11\",\"2008-03-10\",\"2008-03-07\",\"2008-03-06\",\"2008-03-05\",\"2008-03-04\",\"2008-03-03\",\"2008-02-29\",\"2008-02-28\",\"2008-02-27\",\"2008-02-26\",\"2008-02-25\",\"2008-02-22\",\"2008-02-21\",\"2008-02-20\",\"2008-02-19\",\"2008-02-15\",\"2008-02-14\",\"2008-02-13\",\"2008-02-12\",\"2008-02-11\",\"2008-02-08\",\"2008-02-07\",\"2008-02-06\",\"2008-02-05\",\"2008-02-04\",\"2008-02-01\",\"2008-01-31\",\"2008-01-30\",\"2008-01-29\",\"2008-01-28\",\"2008-01-25\",\"2008-01-24\",\"2008-01-23\",\"2008-01-22\",\"2008-01-18\",\"2008-01-17\",\"2008-01-16\",\"2008-01-15\",\"2008-01-14\",\"2008-01-11\",\"2008-01-10\",\"2008-01-09\",\"2008-01-08\",\"2008-01-07\",\"2008-01-04\",\"2008-01-03\",\"2008-01-02\",\"2007-12-31\",\"2007-12-28\",\"2007-12-27\",\"2007-12-26\",\"2007-12-24\",\"2007-12-21\",\"2007-12-20\",\"2007-12-19\",\"2007-12-18\",\"2007-12-17\",\"2007-12-14\",\"2007-12-13\",\"2007-12-12\",\"2007-12-11\",\"2007-12-10\",\"2007-12-07\",\"2007-12-06\",\"2007-12-05\",\"2007-12-04\",\"2007-12-03\",\"2007-11-30\",\"2007-11-29\",\"2007-11-28\",\"2007-11-27\",\"2007-11-26\",\"2007-11-23\",\"2007-11-21\",\"2007-11-20\",\"2007-11-19\",\"2007-11-16\",\"2007-11-15\",\"2007-11-14\",\"2007-11-13\",\"2007-11-12\",\"2007-11-09\",\"2007-11-08\",\"2007-11-07\",\"2007-11-06\",\"2007-11-05\",\"2007-11-02\",\"2007-11-01\",\"2007-10-31\",\"2007-10-30\",\"2007-10-29\",\"2007-10-26\",\"2007-10-25\",\"2007-10-24\",\"2007-10-23\",\"2007-10-22\",\"2007-10-19\",\"2007-10-18\",\"2007-10-17\",\"2007-10-16\",\"2007-10-15\",\"2007-10-12\",\"2007-10-11\",\"2007-10-10\",\"2007-10-09\",\"2007-10-08\",\"2007-10-05\",\"2007-10-04\",\"2007-10-03\",\"2007-10-02\",\"2007-10-01\",\"2007-09-28\",\"2007-09-27\",\"2007-09-26\",\"2007-09-25\",\"2007-09-24\",\"2007-09-21\",\"2007-09-20\",\"2007-09-19\",\"2007-09-18\",\"2007-09-17\",\"2007-09-14\",\"2007-09-13\",\"2007-09-12\",\"2007-09-11\",\"2007-09-10\",\"2007-09-07\",\"2007-09-06\",\"2007-09-05\",\"2007-09-04\",\"2007-08-31\",\"2007-08-30\",\"2007-08-29\",\"2007-08-28\",\"2007-08-27\",\"2007-08-24\",\"2007-08-23\",\"2007-08-22\",\"2007-08-21\",\"2007-08-20\",\"2007-08-17\",\"2007-08-16\",\"2007-08-15\",\"2007-08-14\",\"2007-08-13\",\"2007-08-10\",\"2007-08-09\",\"2007-08-08\",\"2007-08-07\",\"2007-08-06\",\"2007-08-03\",\"2007-08-02\",\"2007-08-01\",\"2007-07-31\",\"2007-07-30\",\"2007-07-27\",\"2007-07-26\",\"2007-07-25\",\"2007-07-24\",\"2007-07-23\",\"2007-07-20\",\"2007-07-19\",\"2007-07-18\",\"2007-07-17\",\"2007-07-16\",\"2007-07-13\",\"2007-07-12\",\"2007-07-11\",\"2007-07-10\",\"2007-07-09\",\"2007-07-06\",\"2007-07-05\",\"2007-07-03\",\"2007-07-02\",\"2007-06-29\",\"2007-06-28\",\"2007-06-27\",\"2007-06-26\",\"2007-06-25\",\"2007-06-22\",\"2007-06-21\",\"2007-06-20\",\"2007-06-19\",\"2007-06-18\",\"2007-06-15\",\"2007-06-14\",\"2007-06-13\",\"2007-06-12\",\"2007-06-11\",\"2007-06-08\",\"2007-06-07\",\"2007-06-06\",\"2007-06-05\",\"2007-06-04\",\"2007-06-01\",\"2007-05-31\",\"2007-05-30\",\"2007-05-29\",\"2007-05-25\",\"2007-05-24\",\"2007-05-23\",\"2007-05-22\",\"2007-05-21\",\"2007-05-18\",\"2007-05-17\",\"2007-05-16\",\"2007-05-15\",\"2007-05-14\",\"2007-05-11\",\"2007-05-10\",\"2007-05-09\",\"2007-05-08\",\"2007-05-07\",\"2007-05-04\",\"2007-05-03\",\"2007-05-02\",\"2007-05-01\",\"2007-04-30\",\"2007-04-27\",\"2007-04-26\",\"2007-04-25\",\"2007-04-24\",\"2007-04-23\",\"2007-04-20\",\"2007-04-19\",\"2007-04-18\",\"2007-04-17\",\"2007-04-16\",\"2007-04-13\",\"2007-04-12\",\"2007-04-11\",\"2007-04-10\",\"2007-04-09\",\"2007-04-05\",\"2007-04-04\",\"2007-04-03\",\"2007-04-02\",\"2007-03-30\",\"2007-03-29\",\"2007-03-28\",\"2007-03-27\",\"2007-03-26\",\"2007-03-23\",\"2007-03-22\",\"2007-03-21\",\"2007-03-20\",\"2007-03-19\",\"2007-03-16\",\"2007-03-15\",\"2007-03-14\",\"2007-03-13\",\"2007-03-12\",\"2007-03-09\",\"2007-03-08\",\"2007-03-07\",\"2007-03-06\",\"2007-03-05\",\"2007-03-02\",\"2007-03-01\",\"2007-02-28\",\"2007-02-27\",\"2007-02-26\",\"2007-02-23\",\"2007-02-22\",\"2007-02-21\",\"2007-02-20\",\"2007-02-16\",\"2007-02-15\",\"2007-02-14\",\"2007-02-13\",\"2007-02-12\",\"2007-02-09\",\"2007-02-08\",\"2007-02-07\",\"2007-02-06\",\"2007-02-05\",\"2007-02-02\",\"2007-02-01\",\"2007-01-31\",\"2007-01-30\",\"2007-01-29\",\"2007-01-26\",\"2007-01-25\",\"2007-01-24\",\"2007-01-23\",\"2007-01-22\",\"2007-01-19\",\"2007-01-18\",\"2007-01-17\",\"2007-01-16\",\"2007-01-12\",\"2007-01-11\",\"2007-01-10\",\"2007-01-09\",\"2007-01-08\",\"2007-01-05\",\"2007-01-04\",\"2007-01-03\",\"2006-12-29\",\"2006-12-28\",\"2006-12-27\",\"2006-12-26\",\"2006-12-22\",\"2006-12-21\",\"2006-12-20\",\"2006-12-19\",\"2006-12-18\",\"2006-12-15\",\"2006-12-14\",\"2006-12-13\",\"2006-12-12\",\"2006-12-11\",\"2006-12-08\",\"2006-12-07\",\"2006-12-06\",\"2006-12-05\",\"2006-12-04\",\"2006-12-01\",\"2006-11-30\",\"2006-11-29\",\"2006-11-28\",\"2006-11-27\",\"2006-11-24\",\"2006-11-22\",\"2006-11-21\",\"2006-11-20\",\"2006-11-17\",\"2006-11-16\",\"2006-11-15\",\"2006-11-14\",\"2006-11-13\",\"2006-11-10\",\"2006-11-09\",\"2006-11-08\",\"2006-11-07\",\"2006-11-06\",\"2006-11-03\",\"2006-11-02\",\"2006-11-01\",\"2006-10-31\",\"2006-10-30\",\"2006-10-27\",\"2006-10-26\",\"2006-10-25\",\"2006-10-24\",\"2006-10-23\",\"2006-10-20\",\"2006-10-19\",\"2006-10-18\",\"2006-10-17\",\"2006-10-16\",\"2006-10-13\",\"2006-10-12\",\"2006-10-11\",\"2006-10-10\",\"2006-10-09\",\"2006-10-06\",\"2006-10-05\",\"2006-10-04\",\"2006-10-03\",\"2006-10-02\",\"2006-09-29\",\"2006-09-28\",\"2006-09-27\",\"2006-09-26\",\"2006-09-25\",\"2006-09-22\",\"2006-09-21\",\"2006-09-20\",\"2006-09-19\",\"2006-09-18\",\"2006-09-15\",\"2006-09-14\",\"2006-09-13\",\"2006-09-12\",\"2006-09-11\",\"2006-09-08\",\"2006-09-07\",\"2006-09-06\",\"2006-09-05\",\"2006-09-01\",\"2006-08-31\",\"2006-08-30\",\"2006-08-29\",\"2006-08-28\",\"2006-08-25\",\"2006-08-24\",\"2006-08-23\",\"2006-08-22\",\"2006-08-21\",\"2006-08-18\",\"2006-08-17\",\"2006-08-16\",\"2006-08-15\",\"2006-08-14\",\"2006-08-11\",\"2006-08-10\",\"2006-08-09\",\"2006-08-08\",\"2006-08-07\",\"2006-08-04\",\"2006-08-03\",\"2006-08-02\",\"2006-08-01\",\"2006-07-31\",\"2006-07-28\",\"2006-07-27\",\"2006-07-26\",\"2006-07-25\",\"2006-07-24\",\"2006-07-21\",\"2006-07-20\",\"2006-07-19\",\"2006-07-18\",\"2006-07-17\",\"2006-07-14\",\"2006-07-13\",\"2006-07-12\",\"2006-07-11\",\"2006-07-10\",\"2006-07-07\",\"2006-07-06\",\"2006-07-05\",\"2006-07-03\",\"2006-06-30\",\"2006-06-29\",\"2006-06-28\",\"2006-06-27\",\"2006-06-26\",\"2006-06-23\",\"2006-06-22\",\"2006-06-21\",\"2006-06-20\",\"2006-06-19\",\"2006-06-16\",\"2006-06-15\",\"2006-06-14\",\"2006-06-13\",\"2006-06-12\",\"2006-06-09\",\"2006-06-08\",\"2006-06-07\",\"2006-06-06\",\"2006-06-05\",\"2006-06-02\",\"2006-06-01\",\"2006-05-31\",\"2006-05-30\",\"2006-05-26\",\"2006-05-25\",\"2006-05-24\",\"2006-05-23\",\"2006-05-22\",\"2006-05-19\",\"2006-05-18\",\"2006-05-17\",\"2006-05-16\",\"2006-05-15\",\"2006-05-12\",\"2006-05-11\",\"2006-05-10\",\"2006-05-09\",\"2006-05-08\",\"2006-05-05\",\"2006-05-04\",\"2006-05-03\",\"2006-05-02\",\"2006-05-01\",\"2006-04-28\",\"2006-04-27\",\"2006-04-26\",\"2006-04-25\",\"2006-04-24\",\"2006-04-21\",\"2006-04-20\",\"2006-04-19\",\"2006-04-18\",\"2006-04-17\",\"2006-04-13\",\"2006-04-12\",\"2006-04-11\",\"2006-04-10\",\"2006-04-07\",\"2006-04-06\",\"2006-04-05\",\"2006-04-04\",\"2006-04-03\",\"2006-03-31\",\"2006-03-30\",\"2006-03-29\",\"2006-03-28\",\"2006-03-27\",\"2006-03-24\",\"2006-03-23\",\"2006-03-22\",\"2006-03-21\",\"2006-03-20\",\"2006-03-17\",\"2006-03-16\",\"2006-03-15\",\"2006-03-14\",\"2006-03-13\",\"2006-03-10\",\"2006-03-09\",\"2006-03-08\",\"2006-03-07\",\"2006-03-06\",\"2006-03-03\",\"2006-03-02\",\"2006-03-01\",\"2006-02-28\",\"2006-02-27\",\"2006-02-24\",\"2006-02-23\",\"2006-02-22\",\"2006-02-21\",\"2006-02-17\",\"2006-02-16\",\"2006-02-15\",\"2006-02-14\",\"2006-02-13\",\"2006-02-10\",\"2006-02-09\",\"2006-02-08\",\"2006-02-07\",\"2006-02-06\",\"2006-02-03\",\"2006-02-02\",\"2006-02-01\",\"2006-01-31\",\"2006-01-30\",\"2006-01-27\",\"2006-01-26\",\"2006-01-25\",\"2006-01-24\",\"2006-01-23\",\"2006-01-20\",\"2006-01-19\",\"2006-01-18\",\"2006-01-17\",\"2006-01-13\",\"2006-01-12\",\"2006-01-11\",\"2006-01-10\",\"2006-01-09\",\"2006-01-06\",\"2006-01-05\",\"2006-01-04\",\"2006-01-03\",\"2005-12-30\",\"2005-12-29\",\"2005-12-28\",\"2005-12-27\",\"2005-12-23\",\"2005-12-22\",\"2005-12-21\",\"2005-12-20\",\"2005-12-19\",\"2005-12-16\",\"2005-12-15\",\"2005-12-14\",\"2005-12-13\",\"2005-12-12\",\"2005-12-09\",\"2005-12-08\",\"2005-12-07\",\"2005-12-06\",\"2005-12-05\",\"2005-12-02\",\"2005-12-01\",\"2005-11-30\",\"2005-11-29\",\"2005-11-28\",\"2005-11-25\",\"2005-11-23\",\"2005-11-22\",\"2005-11-21\",\"2005-11-18\",\"2005-11-17\",\"2005-11-16\",\"2005-11-15\",\"2005-11-14\",\"2005-11-11\",\"2005-11-10\",\"2005-11-09\",\"2005-11-08\",\"2005-11-07\",\"2005-11-04\",\"2005-11-03\",\"2005-11-02\",\"2005-11-01\",\"2005-10-31\",\"2005-10-28\",\"2005-10-27\",\"2005-10-26\",\"2005-10-25\",\"2005-10-24\",\"2005-10-21\",\"2005-10-20\",\"2005-10-19\",\"2005-10-18\",\"2005-10-17\",\"2005-10-14\",\"2005-10-13\",\"2005-10-12\",\"2005-10-11\",\"2005-10-10\",\"2005-10-07\",\"2005-10-06\",\"2005-10-05\",\"2005-10-04\",\"2005-10-03\",\"2005-09-30\",\"2005-09-29\",\"2005-09-28\",\"2005-09-27\",\"2005-09-26\",\"2005-09-23\",\"2005-09-22\",\"2005-09-21\",\"2005-09-20\",\"2005-09-19\",\"2005-09-16\",\"2005-09-15\",\"2005-09-14\",\"2005-09-13\",\"2005-09-12\",\"2005-09-09\",\"2005-09-08\",\"2005-09-07\",\"2005-09-06\",\"2005-09-02\",\"2005-09-01\",\"2005-08-31\",\"2005-08-30\",\"2005-08-29\",\"2005-08-26\",\"2005-08-25\",\"2005-08-24\",\"2005-08-23\",\"2005-08-22\",\"2005-08-19\",\"2005-08-18\",\"2005-08-17\",\"2005-08-16\",\"2005-08-15\",\"2005-08-12\",\"2005-08-11\",\"2005-08-10\",\"2005-08-09\",\"2005-08-08\",\"2005-08-05\",\"2005-08-04\",\"2005-08-03\",\"2005-08-02\",\"2005-08-01\",\"2005-07-29\",\"2005-07-28\",\"2005-07-27\",\"2005-07-26\",\"2005-07-25\",\"2005-07-22\",\"2005-07-21\",\"2005-07-20\",\"2005-07-19\",\"2005-07-18\",\"2005-07-15\",\"2005-07-14\",\"2005-07-13\",\"2005-07-12\",\"2005-07-11\",\"2005-07-08\",\"2005-07-07\",\"2005-07-06\",\"2005-07-05\",\"2005-07-01\",\"2005-06-30\",\"2005-06-29\",\"2005-06-28\",\"2005-06-27\",\"2005-06-24\",\"2005-06-23\",\"2005-06-22\",\"2005-06-21\",\"2005-06-20\",\"2005-06-17\",\"2005-06-16\",\"2005-06-15\",\"2005-06-14\",\"2005-06-13\",\"2005-06-10\",\"2005-06-09\",\"2005-06-08\",\"2005-06-07\",\"2005-06-06\",\"2005-06-03\",\"2005-06-02\",\"2005-06-01\",\"2005-05-31\",\"2005-05-27\",\"2005-05-26\",\"2005-05-25\",\"2005-05-24\",\"2005-05-23\",\"2005-05-20\",\"2005-05-19\",\"2005-05-18\",\"2005-05-17\",\"2005-05-16\",\"2005-05-13\",\"2005-05-12\",\"2005-05-11\",\"2005-05-10\",\"2005-05-09\",\"2005-05-06\",\"2005-05-05\",\"2005-05-04\",\"2005-05-03\",\"2005-05-02\",\"2005-04-29\",\"2005-04-28\",\"2005-04-27\",\"2005-04-26\",\"2005-04-25\",\"2005-04-22\",\"2005-04-21\",\"2005-04-20\",\"2005-04-19\",\"2005-04-18\",\"2005-04-15\",\"2005-04-14\",\"2005-04-13\",\"2005-04-12\",\"2005-04-11\",\"2005-04-08\",\"2005-04-07\",\"2005-04-06\",\"2005-04-05\",\"2005-04-04\",\"2005-04-01\",\"2005-03-31\",\"2005-03-30\",\"2005-03-29\",\"2005-03-28\",\"2005-03-24\",\"2005-03-23\",\"2005-03-22\",\"2005-03-21\",\"2005-03-18\",\"2005-03-17\",\"2005-03-16\",\"2005-03-15\",\"2005-03-14\",\"2005-03-11\",\"2005-03-10\",\"2005-03-09\",\"2005-03-08\",\"2005-03-07\",\"2005-03-04\",\"2005-03-03\",\"2005-03-02\",\"2005-03-01\",\"2005-02-28\",\"2005-02-25\",\"2005-02-24\",\"2005-02-23\",\"2005-02-22\",\"2005-02-18\",\"2005-02-17\",\"2005-02-16\",\"2005-02-15\",\"2005-02-14\",\"2005-02-11\",\"2005-02-10\",\"2005-02-09\",\"2005-02-08\",\"2005-02-07\",\"2005-02-04\",\"2005-02-03\",\"2005-02-02\",\"2005-02-01\",\"2005-01-31\",\"2005-01-28\",\"2005-01-27\",\"2005-01-26\",\"2005-01-25\",\"2005-01-24\",\"2005-01-21\",\"2005-01-20\",\"2005-01-19\",\"2005-01-18\",\"2005-01-14\",\"2005-01-13\",\"2005-01-12\",\"2005-01-11\",\"2005-01-10\",\"2005-01-07\",\"2005-01-06\",\"2005-01-05\",\"2005-01-04\",\"2005-01-03\",\"2004-12-31\",\"2004-12-30\",\"2004-12-29\",\"2004-12-28\",\"2004-12-27\",\"2004-12-23\",\"2004-12-22\",\"2004-12-21\",\"2004-12-20\",\"2004-12-17\",\"2004-12-16\",\"2004-12-15\",\"2004-12-14\",\"2004-12-13\",\"2004-12-10\",\"2004-12-09\",\"2004-12-08\",\"2004-12-07\",\"2004-12-06\",\"2004-12-03\",\"2004-12-02\",\"2004-12-01\",\"2004-11-30\",\"2004-11-29\",\"2004-11-26\",\"2004-11-24\",\"2004-11-23\",\"2004-11-22\",\"2004-11-19\",\"2004-11-18\",\"2004-11-17\",\"2004-11-16\",\"2004-11-15\",\"2004-11-12\",\"2004-11-11\",\"2004-11-10\",\"2004-11-09\",\"2004-11-08\",\"2004-11-05\",\"2004-11-04\",\"2004-11-03\",\"2004-11-02\",\"2004-11-01\",\"2004-10-29\",\"2004-10-28\",\"2004-10-27\",\"2004-10-26\",\"2004-10-25\",\"2004-10-22\",\"2004-10-21\",\"2004-10-20\",\"2004-10-19\",\"2004-10-18\",\"2004-10-15\",\"2004-10-14\",\"2004-10-13\",\"2004-10-12\",\"2004-10-11\",\"2004-10-08\",\"2004-10-07\",\"2004-10-06\",\"2004-10-05\",\"2004-10-04\",\"2004-10-01\",\"2004-09-30\",\"2004-09-29\",\"2004-09-28\",\"2004-09-27\",\"2004-09-24\",\"2004-09-23\",\"2004-09-22\",\"2004-09-21\",\"2004-09-20\",\"2004-09-17\",\"2004-09-16\",\"2004-09-15\",\"2004-09-14\",\"2004-09-13\",\"2004-09-10\",\"2004-09-09\",\"2004-09-08\",\"2004-09-07\",\"2004-09-03\",\"2004-09-02\",\"2004-09-01\",\"2004-08-31\",\"2004-08-30\",\"2004-08-27\",\"2004-08-26\",\"2004-08-25\",\"2004-08-24\",\"2004-08-23\",\"2004-08-20\",\"2004-08-19\"],\"xaxis\":\"x\",\"y\":[87.34,86.2,88.08,89.12,88.23,88.45,86.02,87.39,89.23,87.76,89.58,89.02,88.44,90.26,90.86,95.07,95.63,93.31,92.83,93.71,94.94,96.98,99.48,100.44,100.99,100.99,95.19,96.05,97.46,98.46,97.05,95.6,97.43,98.36,98.85,98.44,95.7,96.41,93.94,87.32,88.9,88.49,86.58,83.43,86.97,90.47,94.51,96.29,92.22,94.93,104.48,102.52,101.13,99.97,99.63,100.77,99.97,96.56,99.06,97.56,97.18,97.86,98.68,101.42,101.43,101.64,98.64,95.65,97.42,100.05,97.5,98.17,98.74,100.14,99.28,101.14,103.07,102.8,102.91,105.0,104.32,110.86,110.65,108.38,109.45,106.81,107.85,109.74,108.22,108.94,109.42,110.34,116.65,113.69,113.86,114.24,117.21,120.17,119.55,121.7,122.08,121.68,118.84,119.7,116.63,117.3,117.47,118.19,118.08,115.13,114.86,116.32,114.22,113.06,105.02,107.51,107.9,114.34,113.9,113.81,109.03,111.7775,110.3675,111.3535,114.0205,115.6765,119.3535,118.783,114.572,113.263,108.7375,108.963,111.7015,112.0075,115.8335,117.975,112.242,111.4875,111.544,107.1435,106.0335,109.7645,106.7155,106.3925,111.1615,114.8355,117.194,117.1495,116.8205,114.541,117.6225,113.892,113.762,112.3165,107.7925,105.805,105.97,111.488,108.908,110.384,111.8995,116.473,114.445,116.0505,112.844,113.6025,114.395,112.511,115.7465,116.5055,122.261,117.334,116.583,114.1095,118.5225,114.2945,118.65,123.074,119.6355,124.8145,128.04,130.009,127.6765,126.73,129.894,127.7145,128.8235,133.2875,135.8885,136.548,140.591,142.9715,140.1505,139.0675,141.9385,142.5055,141.4555,141.673,141.572,138.2755,139.868,136.1015,136.1255,133.839,133.2805,129.198,125.951,129.8705,132.4295,133.42,127.1045,126.3785,131.9065,133.8995,134.5715,134.0615,135.057,134.4595,132.691,127.588,129.8135,130.403,132.539,137.738,136.6085,135.526,134.2825,138.62,141.592,139.399,139.201,143.293,143.09,148.0,137.644,135.3035,133.351,129.005,129.233,126.935,130.804,130.3515,133.3075,135.1165,135.998,139.4805,138.587,141.4305,139.736,138.6695,137.017,137.7475,137.775,144.3995,144.9915,144.852,146.2005,146.655,146.687,147.9065,146.9165,146.415,143.4725,141.607,141.725,144.445,146.441,143.907,145.8265,148.0015,147.6385,148.1865,147.2695,143.155,142.0015,142.966,141.0515,141.8975,145.5305,142.183,146.12,145.782,146.302,148.9265,149.8385,148.047,147.876,148.452,148.678,145.7665,145.8935,148.9185,149.031,148.852,148.2675,146.598,145.4325,143.497,148.046,145.849,146.2175,139.3085,137.447,137.5665,141.886,141.769,143.237,142.778,141.368,141.151,137.582,136.449,138.914,139.7855,139.225,137.565,136.023,133.6595,136.543,133.676,134.3535,135.83,141.072,142.215,141.216,140.2835,139.033,138.7195,140.8,143.61,144.4295,142.5445,142.3325,140.876,143.541,143.691,144.2805,143.7395,143.287,145.2155,144.6975,144.5905,144.004,141.4405,142.079,141.2615,140.0415,137.4295,135.68,135.449,136.6615,138.3095,137.7275,137.194,136.279,136.807,136.913,135.7385,136.2515,135.1255,135.63,134.8545,134.7265,135.7775,136.094,131.9,134.035,133.015,128.4215,127.549,126.2095,124.578,126.97,127.005,128.237,127.3415,126.9755,125.5185,125.044,126.474,126.19,125.2575,122.4445,122.0895,122.2725,122.536,122.5085,122.5,122.127,122.3305,121.8125,120.111,121.7435,120.7725,121.4195,122.4455,121.51,121.7565,120.397,119.922,120.115,119.6785,117.379,118.5295,119.059,117.8425,118.134,119.0155,118.1435,118.052,114.7065,115.3475,113.575,113.1235,114.446,113.919,111.452,110.0125,113.503,114.5875,117.5965,116.8675,115.7385,115.3415,117.154,117.675,119.638,117.952,114.549,115.4965,114.9965,112.626,113.9175,113.9505,114.488,114.1375,114.2625,112.0955,112.7215,112.231,113.5335,112.5215,111.9515,110.463,110.948,106.489,103.126,102.3235,102.2895,101.2365,101.623,101.6265,102.0665,101.5345,101.348,101.067,104.111,104.1945,102.722,102.5,105.027,101.8095,102.018,100.375,104.8535,101.6965,100.5705,103.224,103.483,101.0955,100.7975,104.1905,103.006,102.713,104.4405,105.2905,105.931,105.535,104.7515,104.4375,104.324,103.7695,104.226,104.4415,102.6815,102.944,95.956,94.6535,91.368,92.66,90.947,95.3975,94.714,94.628,94.2075,94.0035,89.2235,86.381,86.546,87.3625,86.8715,87.8145,89.8915,88.717,86.144,87.0025,86.3065,87.632,86.8125,87.888,88.698,86.708,86.4115,86.011,86.728,86.311,87.0255,87.8595,88.054,87.613,88.74,88.3825,88.893,90.5665,90.8515,91.188,91.092,91.2485,89.768,87.72,89.351,88.2065,88.195,86.378,86.819,87.9285,87.032,88.083,88.7015,88.613,87.141,87.3615,86.886,88.071,87.9865,88.125,87.2925,82.283,81.216,80.8055,77.844,75.54,79.944,79.2145,81.649,80.333,79.2995,77.554,76.4975,78.385,77.7735,78.172,78.3535,78.2295,75.5225,74.1715,72.957,72.551,74.1415,72.78,74.395,73.28,73.301,72.933,71.953,71.143,70.4695,72.991,71.507,72.5545,74.352,75.6045,76.756,75.4415,75.788,76.3025,77.3615,76.18,79.0605,81.4755,85.8695,82.754,81.4765,81.9715,81.426,82.2065,80.2925,79.2575,78.7785,78.8125,77.2305,77.789,75.812,75.2315,75.8325,75.362,74.027,74.841,74.9185,75.2475,73.9545,73.665,74.138,74.3975,76.9185,76.1755,75.1825,76.4715,75.4105,75.8375,78.2425,77.796,78.192,75.8425,75.746,75.844,76.043,75.6115,76.9505,75.933,75.18,74.496,74.9825,73.4965,72.1,70.9025,69.8585,68.127,72.055,71.635,73.199,72.533,71.232,71.706,72.627,72.3235,71.037,70.646,70.095,73.235,72.604,72.402,72.001,70.715,71.9625,72.1155,71.7435,71.676,70.912,71.014,71.0685,70.662,70.3375,70.458,68.72,69.259,68.653,67.843,67.4165,68.759,70.1795,69.217,68.464,67.2715,67.451,66.145,65.866,67.335,67.109,61.6295,63.543,63.83,63.5585,62.9205,60.608,63.0575,63.95,62.8715,62.865,63.2615,60.5205,60.3285,60.35,59.128,59.1595,54.635,55.8515,55.105,58.0975,57.3155,55.513,58.146,55.081,56.5005,52.7065,53.4105,55.5835,54.5595,55.903,53.65,60.7135,55.5775,60.545,63.7585,60.7895,64.787,65.738,69.08,66.886,69.316,66.9625,65.7475,69.5235,69.316,70.993,74.173,75.8495,76.2435,75.972,75.9365,75.6695,75.9315,75.503,75.433,73.9555,73.7985,72.3025,72.2705,74.13,71.639,72.7125,72.835,72.525,71.5865,73.3085,74.2345,74.1935,74.1125,73.976,72.508,71.96,71.5295,72.0015,71.448,70.9895,70.252,69.7555,69.8905,68.076,68.434,66.9695,66.9855,67.732,68.1235,67.2215,67.5315,67.561,67.822,67.5955,67.7445,68.035,67.3435,67.4245,67.2125,67.1445,67.1495,66.9695,66.348,65.947,64.737,64.443,65.2045,65.6065,65.65,65.282,64.6835,65.007,65.093,65.6295,65.992,66.677,65.4575,64.809,64.8605,64.914,65.45,65.347,64.5505,64.572,64.4805,63.6125,62.94,63.035,63.033,64.449,63.215,62.9555,62.8815,62.06,62.214,62.2205,62.64,62.15,62.112,60.8885,60.7855,60.4735,60.12,59.5065,60.4125,60.548,59.4715,58.896,60.3,61.057,61.2975,62.1145,62.297,60.9165,61.7345,61.492,61.9375,61.6325,61.494,61.5815,62.0015,61.7485,61.0,60.285,60.2635,60.316,60.6095,59.1135,58.4775,59.5265,59.712,58.6875,58.541,58.559,57.679,59.576,59.579,59.1765,60.022,58.9605,58.466,58.2125,59.8365,58.725,59.445,60.3095,58.7955,58.554,57.7375,59.816,60.589,60.91,61.4,62.092,62.261,56.797,56.9865,57.4025,56.9605,56.5775,57.362,57.337,57.673,57.5255,57.267,57.204,57.0455,56.2145,55.8395,56.6335,56.1495,55.63,55.0,54.14,53.8315,54.016,54.379,55.835,56.2685,55.66,55.2255,55.262,54.6945,54.315,54.5505,53.955,54.052,54.138,53.4185,52.388,52.232,52.7245,51.937,55.325,56.0705,55.997,56.978,56.9305,57.267,57.7925,57.722,57.233,58.439,59.225,58.54,56.243,56.8295,58.382,58.3985,58.539,58.943,59.673,59.4775,58.3255,58.666,59.948,64.81,63.871,63.367,63.0025,63.5295,62.688,62.0735,62.007,61.5955,61.3265,61.1365,60.4795,60.3225,60.1345,60.414,60.5725,60.9725,60.5405,60.277,59.949,58.8445,58.6135,58.9005,59.492,59.869,60.3825,61.8065,61.3215,60.123,59.4275,59.515,59.6265,59.953,59.8625,58.963,57.4985,57.5425,58.247,58.4595,57.671,57.426,56.3275,56.1445,56.1005,55.8665,55.828,55.2105,56.0295,56.3255,55.9815,56.46,56.4315,56.379,55.106,55.119,55.2955,56.1445,57.5935,57.071,55.931,56.2945,54.8995,53.503,53.993,55.0755,54.2,54.2205,53.9315,55.365,54.956,54.4755,54.3255,52.5755,53.2235,53.9415,54.0825,54.2685,53.796,53.9035,51.2735,52.734,52.248,52.334,52.645,52.3925,49.2335,49.5625,51.179,51.773,52.1705,51.2825,52.5855,53.677,53.6865,53.0825,52.659,52.329,53.904,53.1235,55.818,55.4825,54.729,54.5895,52.614,52.797,51.505,52.1715,51.5225,51.371,53.4135,53.5525,52.729,52.3985,52.468,53.851,54.7315,55.412,53.4785,52.7865,53.5745,54.299,54.529,52.4755,51.7365,54.1875,55.1795,52.856,55.7455,55.5685,55.259,54.8955,56.3795,56.654,55.122,56.027,54.537,54.608,57.2585,57.796,58.3915,58.8535,60.5765,60.382,60.4265,60.354,60.368,59.703,59.6945,58.978,58.606,59.5785,58.7135,58.3555,57.9915,58.899,59.107,58.58,59.4995,58.753,58.8795,59.1995,59.955,60.5655,61.59,62.722,63.2325,62.293,62.8135,61.8375,61.058,61.0875,60.8705,61.0975,60.7925,61.203,61.611,62.907,62.432,62.6255,63.223,63.0665,62.792,61.8835,61.908,62.0565,61.6495,61.361,61.502,62.6445,64.275,63.797,62.9075,60.55,59.894,59.955,60.6455,60.654,59.8255,60.221,60.063,58.573,58.357,58.364,57.754,57.0645,55.814,57.1055,56.4595,56.339,55.847,56.631,56.964,58.4645,58.472,59.2035,58.9345,59.179,57.9635,58.0055,57.2115,57.4095,57.045,56.6355,56.721,57.3475,57.551,57.652,56.75,55.0,53.8735,53.4035,54.204,54.2725,54.298,53.7655,54.2005,53.482,54.063,54.2045,54.2435,55.33,55.169,55.2735,54.4475,52.9295,52.973,52.55,51.315,51.3025,52.0375,50.929,51.5725,52.1655,51.1495,51.132,53.6905,53.866,54.4725,53.7695,53.968,52.305,51.802,51.8645,51.253,51.825,51.0045,50.4975,51.632,51.4855,50.934,50.6315,51.857,50.259,50.347,52.7045,51.3275,52.6575,54.7,54.79,55.0035,56.721,57.5305,57.4445,56.9955,58.2965,58.042,56.469,55.752,55.045,54.738,54.207,53.5705,55.196,55.8755,57.185,56.4045,55.495,55.6875,55.1795,54.775,54.568,53.635,52.707,52.728,52.3135,50.3855,52.7705,54.2215,53.1195,55.96,59.0795,59.111,58.8685,59.324,59.378,59.107,58.5645,58.8085,58.208,57.175,56.7985,56.955,56.535,56.5325,55.6025,55.507,55.6395,55.7105,55.5145,54.788,54.576,53.6605,52.67,52.7975,53.01,53.2925,53.443,53.5425,53.678,53.989,54.2545,53.6,52.8735,52.5695,52.4385,52.5985,52.469,52.2285,51.636,50.98,50.5935,51.2535,51.8085,51.869,53.1645,53.6005,52.826,52.596,52.515,51.733,51.7945,52.4235,51.8205,52.082,52.06,52.2075,52.386,52.9145,52.6195,52.134,52.4995,52.1485,52.13,51.652,51.6565,51.6835,49.571,49.573,49.4245,49.277,50.2535,50.092,50.637,50.55,50.4675,50.3935,50.2825,50.2825,49.39,49.6155,49.682,49.2595,48.339,48.604,48.3735,48.686,48.2405,47.995,46.8715,46.714,47.163,47.3775,47.377,46.843,46.4875,46.7645,47.0065,47.522,47.3325,47.1645,47.0705,47.4945,47.101,47.074,47.5995,47.762,47.1815,46.7875,46.4065,46.525,46.8445,47.129,47.02,46.0435,46.309,46.383,47.2135,46.904,46.9465,46.5045,46.1795,47.004,47.2095,47.2875,47.2895,47.015,47.382,47.328,47.275,47.9165,47.6255,48.2655,48.4515,49.9155,49.692,49.6095,49.6385,49.3475,48.798,48.8455,48.4425,48.383,47.6765,47.55,47.0405,46.3845,46.613,45.973,46.484,46.891,48.0505,47.4045,48.6045,49.3045,48.831,48.9295,48.4495,48.761,47.931,48.009,48.3965,48.525,48.0905,48.506,50.214,50.0795,49.834,50.194,49.806,49.4145,49.3545,49.8085,49.6635,49.593,48.8805,48.5275,48.2035,47.7325,47.525,47.1085,48.2305,47.961,47.757,47.7945,47.742,47.8355,47.9345,47.514,47.736,47.4225,46.8545,46.641,46.226,44.572,44.457,44.442,43.9465,42.9475,43.004,42.8255,42.6995,42.7565,42.009,42.073,41.994,42.085,42.105,42.25475,42.4455,42.6285,42.8375,42.39,42.474,42.4935,42.0315,41.9255,41.757,41.9825,42.49,42.507,43.3955,43.6185,43.5,43.4195,43.2955,43.229,43.07025,42.892,42.682,42.5575,42.3635,42.454,42.4925,42.8375,42.2465,42.4835,42.3905,42.55,42.568,42.4635,42.3275,42.1085,41.866,42.0015,41.948,41.7425,41.503,41.494,41.4615,41.081,41.0065,40.913,40.762,41.0095,41.1915,42.2515,42.849,42.9225,42.4765,42.2215,41.4085,41.2185,41.451,41.373,41.547,41.4765,41.493,41.3005,41.359,41.2605,40.651,40.3885,40.4005,39.6225,40.144,40.2285,40.4965,40.39,40.484,40.61,40.76,40.625,40.492,40.7825,40.8945,40.767,40.395,40.4725,39.7585,39.5735,38.809,38.911,38.223,38.2165,38.794,39.472,39.2895,39.0115,38.95,39.25,39.24,38.7985,39.308,38.999,38.758,37.661,38.5875,39.0145,40.2795,40.599,40.1015,39.055,39.1095,39.421,40.274,40.495,40.978,40.8675,41.105,41.4275,41.787,41.203,41.0815,41.3545,41.0745,40.342,40.23,40.204,40.5885,40.4785,40.7085,40.0355,40.154,40.0615,40.1395,40.019,40.203,40.132,40.503,40.5365,40.1325,40.748,40.7975,40.2515,39.989,39.7695,39.8985,40.0615,39.523,39.436,39.941,39.424,40.142,40.3995,40.401,39.8435,39.57,39.4925,39.596,39.791,39.661,39.565,39.68,39.8295,39.8475,39.9825,40.1375,40.271,40.0595,40.298,40.3525,40.41,40.4245,40.374,40.2615,40.3465,39.8625,39.946,40.006,40.047,39.567,38.292,38.0985,37.8825,37.876,37.964,37.7205,37.854,37.6705,37.66,36.7815,36.79,36.474,36.6255,36.36,35.889,35.363,35.4485,35.2445,35.5125,35.1765,34.7595,34.563,34.057,34.26,35.7435,35.5235,35.444,35.3065,35.2125,36.2125,36.6095,36.6625,36.594,36.6595,37.126,37.1465,36.5545,36.503,36.793,37.2135,37.423,37.4425,37.38,36.8465,36.905,36.6515,35.8625,36.0855,35.7655,36.089,36.0095,36.515,36.2415,36.4035,36.5275,36.969,36.4565,36.259,35.7355,35.5685,35.422,35.7205,35.394,35.253,36.073,36.2685,37.1105,36.8885,39.0,38.746,38.8125,39.384,39.0,38.7695,38.5955,38.216,37.877,37.9735,38.006,38.4035,37.9285,38.256,38.4835,38.145,38.417,38.2945,37.664,37.742,37.878,38.0025,38.108,37.7705,37.924,37.868,37.5285,37.512,37.2435,36.6085,36.2705,35.6765,35.64,36.511,36.5795,36.974,37.1085,35.861,36.243,36.456,36.045,35.8645,36.4525,36.1055,35.8755,36.5985,35.882,35.3445,35.318,35.3425,35.051,35.208,35.188,36.5015,37.469,39.0455,38.5385,38.0675,37.415,35.879,36.6895,36.681,37.273,36.3335,35.928,35.954,35.5245,36.5695,35.9785,37.267,36.6535,36.5455,37.05,37.9665,38.0765,37.972,38.9005,39.515,39.698,39.112,38.292,38.4255,38.3565,38.04,37.8425,38.4915,38.8295,38.0045,38.127,37.521,38.002,38.1275,38.757,38.6495,38.9605,38.41,38.8925,39.1895,38.1425,38.5985,38.463,38.4815,38.835,38.85,37.997,38.0005,37.299,37.521,37.0035,37.8265,38.2625,37.913,37.7385,38.08,38.0335,37.7655,37.441,37.387,36.8695,37.2425,36.846,36.641,36.556,35.9665,34.057,33.59,34.0,34.9975,34.766,34.651,34.0205,34.1585,33.8215,33.562,33.35,33.5,33.582,33.584,32.8495,32.1,31.86,31.1305,31.2125,32.0075,32.7455,32.6645,32.66,33.349,33.046,33.5835,33.276,33.2535,32.6235,32.765,32.554,32.1705,32.194,31.448,31.8525,32.2455,31.478,32.391,32.9845,33.398,32.987,30.6235,30.9055,32.2015,33.974,34.702,34.4365,34.7055,34.4685,34.3255,34.5735,34.515,33.157,33.2195,33.5075,33.6645,33.064,33.236,32.875,33.228,33.0715,32.983,32.9135,32.7385,33.7365,34.755,34.7675,34.642,34.981,30.089,29.198,29.209,28.5865,27.8055,27.2325,27.085,27.5015,27.281,27.367,27.165,27.002,27.0625,27.653,27.8975,27.9285,28.1695,27.984,27.876,27.809,27.33,27.2435,27.15,27.3735,27.502,27.63,27.108,27.174,27.4765,27.5845,27.7645,27.6975,27.4605,27.266,27.709,27.7125,27.3595,27.726,27.8405,27.6255,27.464,27.3335,27.3245,27.46,26.9745,26.9365,27.289,27.4475,27.102,26.754,27.15225,27.642,27.558,27.4385,28.0695,28.2185,28.306,28.683,27.873,27.459,27.14625,27.2265,26.637,27.176,27.052,26.989,27.432,27.427,27.401,27.442,27.243,27.1975,27.0655,27.4745,27.735,28.05675,27.8775,28.182,28.35,28.877,28.2685,28.2475,28.1835,28.308,27.8805,28.082,27.65,28.0585,27.7845,27.9925,28.705,28.645,29.07175,28.9165,28.93975,28.751,28.1315,27.9645,27.3665,26.9325,26.75,27.09,27.3225,27.1325,27.2505,27.558,27.3005,26.9,27.008,26.464,26.69375,26.4915,26.305,26.665,26.61,26.8775,25.6615,25.6215,26.0595,26.836,27.0975,26.865,26.0195,25.497,25.52275,25.2005,25.2965,25.09,24.853,25.036,25.3455,25.2575,25.332,25.973,26.4775,26.533,26.764,26.8655,27.076,26.8465,26.9385,26.615,26.002,25.731,25.3225,24.908,25.792,26.0755,26.6055,26.402,26.8055,26.5365,26.404,27.129,26.8485,26.9295,26.9825,27.454,27.3865,27.4615,27.374,27.2945,27.188,27.36,27.2255,27.332,27.7595,27.822,27.9125,28.0645,27.9115,27.591,27.5845,27.7975,28.2095,28.1885,28.3935,28.0135,27.9225,27.947,27.494,27.445,27.6825,27.1345,26.9015,26.619,26.1485,26.846,27.0365,27.4345,27.2375,27.7595,28.5405,29.187,28.705,29.389,29.3125,29.044,28.9815,29.4205,29.3905,29.395,29.2625,29.921,29.559,29.8635,30.27,29.8635,29.6645,29.439,29.082,29.245,29.5555,29.671,29.5985,30.0815,29.889,29.657,29.476,29.4315,29.118,29.016,29.15,29.406,29.5285,29.627,29.621,29.7705,29.8555,29.635,29.1855,29.2325,29.228,28.606,28.8625,28.897,28.5905,28.7245,28.657,29.1135,28.68,28.9775,29.772,29.6975,29.951,29.904,30.1505,30.2595,30.1785,29.922,30.2555,29.041,29.531,29.653,29.713,29.3325,29.002,29.168,28.92,29.538,29.654,29.539,29.5745,29.2335,29.2845,29.2385,29.2965,28.627,28.7145,28.326,28.2495,28.033,27.53075,27.615,28.0175,27.975,28.375,28.415,28.5365,28.3015,28.2465,27.688,27.7255,28.217,28.5825,28.528,28.5225,28.7435,28.19,27.7725,27.485,27.0195,26.9415,26.415,26.456,26.7205,27.077,26.9215,26.331,26.0085,25.9,26.1285,26.7665,26.6935,26.9265,26.744,26.8165,26.149,26.155,26.722,26.8755,27.275,26.9685,27.167,28.195,27.435,27.26,26.888,27.3345,28.352,27.8755,27.0315,27.2625,28.575,28.4653698698406,28.4601036134115,27.9490259656736,28.0904625669122,27.9432581610131,28.3868775716355,29.0576983310561,29.037887175918,29.6675809803685,30.0216740316963,30.0740858218715,30.3752655347927,29.8947823291666,29.4107882859211,29.8185469980026,30.2759589849869,30.0926431064312,30.3830395323785,30.4637887976246,30.5846619213781,30.5508074157625,30.4667980870127,30.1603521176624,30.4853553715723,30.5746309567513,30.5987052718557,30.5944421118893,30.4066122992516,30.1879372703863,30.1959620420877,30.1515750236139,30.3657361183972,30.1631106329348,30.0903861393902,29.7591135325885,29.8466336989577,29.4140483494249,29.5271474755926,29.0887943213993,28.6684969035343,28.542106749236,28.4234905925235,29.6156707384245,28.4726423191951,27.7586884118791,28.1621839639941,27.6159979400622,28.1827474414792,29.0923051590187,29.2156860239289,29.1825838406603,28.8523143303213,28.9950048021383,28.8044164742281,28.8239768552505,28.1614316416471,28.3419890049304,28.3434936496244,28.6190944027471,28.559660937333,28.0194934921772,27.7105397816702,27.9141683635953,28.1045059173897,27.8223850372596,28.0465770966697,28.0230043297966,27.8820692767894,27.9638216384982,27.6007007190062,27.2395859924397,27.202722197436,26.8293195392016,26.907561063291,26.6018674162878,26.8318272803583,27.0156447071453,27.200465230395,27.0369605069773,26.8295703133172,26.5153503463812,26.5364153720976,26.4130345071873,26.4436289492992,26.5717745224072,26.6600470111235,26.542183176758,26.2292170804003,25.8771302219979,25.9317989792143,25.6368886191849,25.7093623386139,25.8686039020651,25.919009499315,25.9608887766321,25.8916751207069,25.3728234753831,25.3429813556182,25.4794024745434,25.276776989081,25.6479226802744,25.6170774640469,25.73218278314,25.7555047758974,25.844278812845,25.8402664269943,25.9862169623149,25.4535727406292,25.4585882229427,25.7181394326624,25.8650930644457,25.2529534480923,25.1601670252939,25.3635448331033,22.288652936389,22.5202428322114,22.1185277763176,21.9705710480716,21.8672521124151,21.7732118190383,21.4627534638374,21.4078339325054,21.7105182901205,21.8762799805792,21.9700694998403,22.268490697489,22.2437643696838,21.9655555657582,21.9775927233104,22.0222305158999,21.9986577490268,22.2396516741868,22.231125354254,22.6476611603839,22.5292957777871,22.652927416813,22.2213451637428,22.2627228928286,22.2955241471584,22.3957334837806,22.4741254723394,22.2855433373547,22.2700956518293,22.0575896662095,22.0570881179782,21.8583245538972,21.5761033641208,21.238059856196,21.4519701768635,21.2794375852817,21.3195614437891,21.7268186076392,21.8226143198256,21.9103852603105,21.8005461976465,21.7024935184191,21.7082613230795,21.4890345911597,21.5580476277924,21.8125833551987,22.0994689435266,22.2062987168026,22.3291780334815,22.3856022095075,22.3351966122576,22.4836548887349,22.6950574682458,22.7344290044062,22.6754970872234,22.2624721187129,22.3419675133807,22.1250479033251,22.2022863309518,22.2612182481346,22.6423949039548,22.6649645743652,22.8379987141784,22.4843570562588,22.837497165947,23.0348563949803,23.0613882964183,23.1888317020024,23.146450876454,23.0772372205287,22.7198841056972,22.7010760470219,22.6973144352868,22.4064164611082,22.2293699354443,22.1260509997878,22.2657321822166,22.0774008213475,21.994645363176,21.9088806156165,21.7220538994414,21.8120818069674,22.0914441718251,22.1869891098959,22.5867230502758,22.5852184055818,22.2248560013622,21.9437382176948,21.9928899443663,21.8670013382994,22.06335747087,22.3244133252837,22.0613512779446,21.6829331373967,21.5590507242551,21.5440042773149,21.7579145979824,21.8478923506852,21.8364068961875,21.774967237848,22.099970491758,21.9006050697993,22.13808815734,22.30435139603,22.744459969033,22.7835807310777,22.7998810485963,22.6667199931749,22.9681504802117,22.2461718011943,22.0061809724969,22.0738899837281,21.8544626325158,21.9083790673851,21.4971095176843,21.6054439356543,21.2084685105468,20.8044714102004,20.5742607720142,20.6780812559021,20.5399047181673,20.0975391781232,20.2901336989587,20.399320748922,20.2600408050782,20.0647880786166,20.0586691901942,19.207140603021,19.6245791959673,19.8956660150079,19.60878042668,19.812409008605,19.8209353285379,19.8156690721088,19.5014491051727,19.4312323527848,19.6368671276352,19.938297614672,20.2174593602372,20.3889387005332,20.0917713734628,19.9161793376698,20.1286351684665,20.3733907053616,20.303675501205,20.3204773669549,20.3443009079437,20.4307678230272,20.3458055526377,20.2572822898058,20.4205863939309,20.6020966988537,20.6966385404618,20.7543165870662,20.9351247244651,20.8523692662936,20.8793525611398,20.8488584286742,21.0300176498351,20.6011939120373,20.2171584312984,20.0920221475785,20.0564122231531,19.8144152015304,19.8304647449334,20.0546568043435,19.9498332239929,19.8728455704818,20.2337095229327,19.8836288574557,19.7564863808104,19.6321024194374,19.5779352104525,19.6210683583479,19.6950467224709,19.4086626823744,19.3138700666507,19.2027771334083,19.0342569276772,19.4500404114601,18.9507491471587,18.9041051616439,18.9003435499088,18.8263651857858,18.9000927757931,18.9041051616439,18.5949006770213,17.6261602681833,17.6672872231534,17.8380643959255,17.9351139786903,18.179367967354,18.1372379159213,18.5570337855549,18.5943991287899,18.5100888711012,18.3892659021709,18.4256281489432,18.5063774141893,18.1477704287795,18.1372379159213,17.739259394351,17.5544388711013,17.7119250157429,17.7766247375861,17.7924235068733,17.9461480397798,18.1149190196265,18.0584948436005,18.0825691587049,18.0752967093505,17.6034200713743,17.6218971082169,17.4929992127619,17.4759465728963,17.188559436337,17.1582157683408,17.3317514563853,17.2487452240981,17.3292437152286,17.4350703920418,17.5133119161313,17.3508102891763,17.1446739660946,16.8196707121847,16.579930657603,16.7509586044907,16.6982960401998,16.801113427625,16.7569771832669,16.2295992180103,16.2316054109356,16.3642649181257,16.527348341029,16.6990483625468,16.6270761913492,16.3577447911183,16.7296428046587,17.0957730135387,17.1268690038819,17.2512028104317,17.2429774194377,17.0601029033256,16.9310144195427,16.9964664637329,16.9849860247174,17.0614169596917,17.019286908259,17.0975284323484,17.4288010391501,18.9457336648453,18.6751483940361,18.5818604230064,18.6764022646144,18.8451732444611,18.6716375564166,18.6598511729801,19.004665582028,19.2506749895015,19.2607059541284,19.1215263199308,18.983349782196,19.1034705836025,18.9209070273938,18.9710618505281,18.894826519364,18.7869936496254,18.7925106801702,18.4065693161522,18.2592796470538,18.2438169150815,18.0126031804327,17.8044606644256,17.7969374409554,17.7056556628511,17.3254821034935,17.3583335126465,17.5734977038924,17.7084141781235,17.5391416500454,17.0706956019716,17.078720373673,17.1802838905199,17.094769917076,17.2535099322959,16.9836769838336,16.7823053689497,17.0182838117963,16.9723921486284,16.9819215650239,16.7895778183041,16.9407946100539,16.9809184685613,16.8738379211696,16.7401753175169,16.7682620184721,16.5513424084165,16.0996982260926,16.1084753201411,16.105466030753,16.0630852052046,16.1202617035776,16.0828963603426,15.7674225228282,15.865976750287,15.8732491996415,15.8564473338915,15.92315324866,15.3814811588102,15.2468154586947,15.2362829458366,15.4353975936795,15.3177845334297,14.8724097039976,14.563957541722,14.4628955731065,14.41750545817,14.4576293166774,14.306161750812,14.3239667130246,14.5875303085951,14.6956139524494,14.6948616301024,14.9441311010796,14.7412548415016,14.5566850923675,14.5466541277407,14.1514341214428,14.2765704051628,14.1607127637227,14.0609046656855,14.3312391623791,14.1740037918533,14.4824559541289,14.5832671486287,14.3154403930918,14.1564496037563,14.0195269365998,14.0706848561967,14.1712452765809,14.2565084759091,14.5561835441362,14.5005116904572,14.5591928335242,14.3044063320023,14.5095395586213,14.3187004565955,14.5664652828787,14.7512858061284,14.9045087908035,14.8340412642999,15.1382302666091,15.2836792536984,15.0665088695271,15.4002892174855,15.0564779049003,15.6244812768956,15.7719364569103,15.3250569827842,15.1467565865419,15.1776018027695,15.3890043822803,15.2759052561126,15.3671870342169,15.2357813976052,14.9704623832251,15.3228000157431,15.2285089482507,15.1575398735158,15.168072386374,15.4221065655489,15.4343944972168,15.2901993807059,15.0782952529637,14.9862611525123,14.947641938699,15.0288927521764,15.2332736564485,15.2864377689708,15.1986668284859,15.6633512648246,16.3256457043124,15.9482306602272,15.7200262149663,15.8198343130035,15.8569488821228,15.9279179568578,16.1152462212642,16.2230790910028,16.0806393933016,16.2604444342378,16.4447634092562,16.2255868321595,16.2835156528796,16.1144938989172,16.2012617429394,16.049041854727,15.8862894536564,15.8985773853243,15.6743853259142,15.5763326466867,15.4474347512317,15.4923233179369,15.1755956098441,15.0527162931652,15.2254996588627,15.2169733389299,15.1708309016464,15.4038000551049,15.5793419360748,15.608180959377,15.5041097013734,15.5076205389928,15.2799176419633,15.2947133147879,15.1996699249486,15.2455615881164,15.3975307022132,15.1628061299449,15.2099516636911,15.1858773485866,15.2912024771686,15.3523913613923,15.1946544426351,15.3338340768327,15.2934594442096,15.2162210165829,15.2744006114186,14.9544128398221,14.673044282039,14.5657129605317,14.5476572242034,14.4869698882109,14.5443971606996,14.2464775112822,14.2813351133605,14.5682207016884,14.6833260207815,14.6951124042181,16.0387601159845,15.8717445549474,15.7631593628618,15.6731314553358,15.7897414191229,15.6974565445559,15.6267382439367,15.609685604071,16.3008190668609,16.5262649968493,16.7587326020766,16.6867604308789,16.1975001312044,16.1097291907194,16.0420201794882,16.0558127558501,15.8775123596079,15.791246063817,15.6939457069365,15.8080479295669,15.5938868347837,15.6974565445559,15.536459562295,15.4995957672913,15.6891809987388,15.6831624199627,15.7340695654439,15.4489393959258,15.6330075968284,15.6425370132239,15.6896825469701,15.5570230397801,15.3917628975527,15.0311497192175,14.6183755248227,14.7502827096657,14.1185827122899,14.2968831085321,14.544898708931,14.5684714758041,14.9180505930498,15.0682642883368,15.3340848509483,15.461728875825,15.372453290646,15.2558433268589,14.9230660753632,15.0702704812622,15.3559021990117,15.2553417786276,14.9496481316243,14.9837534113556,14.6657718326845,14.5110442033154,14.8618771911394,15.0499577778928,15.0130939828892,14.7031371759195,14.6241433294831,14.9566698068631,14.8079607562701,14.6369328093823,14.562452897028,14.8084623045014,14.6053352708078,14.837802876035,14.0180222919057,13.7549602445666,13.6215484150295,13.4708331715111,12.9178762464561,12.9075945077136,12.6565696179267,12.5863528655387,12.4263589797405,12.9158700535307,13.2283346016571,13.261938333157,13.5252511546118,13.3384244384367,13.1784305526385,13.0568051065379,13.5217403169924,13.7079400978783,13.7090685813988,13.7093193555145,13.6060004198579,13.3429383725188,13.2789909730227,13.2940374199629,13.1618794610042,13.4154120919478,13.3920900991904,13.09492277212,13.1616286868885,13.3537216594927,13.5658765613505,13.5593564343431,13.5187310276043,13.2122850582541,13.0412571113663,13.1227586989595,13.0106626692544,12.4928141203934,12.3110028865317,12.6610835520088,13.3700219770113,13.516724834679,13.9738860475476,14.1378923191966,14.0967653642265,13.7677497244659,14.3796385667037,13.6927682638802,14.5208243938266,14.4827067282445,15.075787511807,14.8558586123633,15.2162210165829,15.1389825889561,15.3207938228178,15.2275058517881,15.611190248765,15.5224162118174,15.5036081531421,15.2217380471276,14.9298369764863,15.1103943397696,14.9195552377438,14.9867627007437,13.2644460743137,13.4981675501193,13.391588550959,13.2228175711123,13.3409321795934,13.7073131625891,13.4254430565746,13.3522170147986,13.0660335939946,12.6986996693594,12.4777676734531,12.37946422011,12.1073743046067,11.9087612049951,12.0426745827635,12.2128248202464,12.3631639025913,12.1520120971962,12.1630461582857,12.547984425841,12.6126841476842,12.748603718378,12.6573219402737,12.7770665805067,12.9582508790792,13.0194397633029,13.0159289256835,13.0668360711648,13.1174924425304,13.2423779521347,13.1806875196795,13.2664522672391,13.0628236853141,12.9933592552731,13.0319784690865,12.9966193187769,12.9998793822806,13.1413159835191,13.3223748950338,13.2862634223771,13.3025637398957,13.0006317046276,13.2797432953697,13.4176690589888,13.4277000236157,13.6085081610146,13.4836226514104,13.4239384118806,13.3981086779665,13.4362263435485,13.388579261571,13.5056907735894,13.6446196336713,13.4908951007648,13.4856288443357,13.3617464311942,13.1668949433176,13.168148813896,13.1839475831833,13.0786224546013,13.2117835100228,13.3085823186719,14.507533365696,14.4516107379013,14.3094218143157,14.4789451165095,14.4987562716475,14.544898708931,14.3989481736103,14.2713041487337,14.7374932297665,14.840812165423,14.7144220111247,14.5910411462145,14.5882826309421,14.4285395192595,14.5383785819235,14.7176820746285,14.599065917916,14.4776912459311,14.4571277684461,14.0699325338497,14.0774557573198,13.9706259840439,14.2830905321702,14.2938738191441,14.4623940248752,14.5524219324011,14.840059843076,14.8536016453223,14.8373013278036,15.0619949354451,15.2861869948551,15.0662580954115,15.0655057730644,15.3824842552729,15.2982241524073,15.2676297102955,15.3303232392133,15.3024873123738,15.8007754802125,15.6799023564589,15.6538218484291,15.6520664296194,15.7523760758879,15.6608435236679,15.4587195864369,15.460224231131,15.5073697648771,15.4049285386255,15.3217969192804,15.3009826676797,15.3473758790789,15.3233015639745,15.0554748084376,15.0712735777249,15.4674966804854,15.460224231131,15.5457382045748,15.3243046604372,15.3431127191125,15.7177692479253,15.8426547575296,16.0402647606785,15.6528187519665,15.4649889393287,15.4695028734108,15.4479362994631,15.4027969586422,15.4587195864369,15.3849919964296,15.2738990631872,15.0996110527957,15.1555336805904,14.8952301485237,15.0178586910869,15.0715243518406,15.0193633357809,15.1061311798032,15.1525243912024,15.1841219297769,15.1234345937845,14.9225645271319,14.8157347538559,14.838555198382,14.8031960480723,14.9188029153968,14.9115304660423,14.8510939041656,14.8332889419529,14.8092146268485,14.7239514275202,14.5037717539609,14.3693568279611,14.3397654823119,14.1524372179055,13.9357683819656,14.5978120473376,14.7956728246022,14.9203075600908,14.620381717748,14.8262672667141,14.8164870762029,14.9601806444825,14.6339235199943,14.6381866799607,14.9328462658744,15.1289516243293,15.4775276451123,15.6202181169292,15.6688682953694,15.7177692479253,15.6753884223769,15.6550757190075,15.552509105698,15.4376545607205,15.4226081137803,15.390007478743,15.5123852471906,15.4594719087839,15.5128867954219,15.460224231131,15.3606669072095,15.3471251049632,15.2465646845791,15.242803072844,15.4905678991272,15.0828091870458,13.5651242390035,13.6245577044176,13.5766598483244,13.5127124488282,13.4502696940261,13.2912789046905,13.4001148708919,13.4974152277723,13.0991859320864,13.1811890679109,13.1854522278773,13.2330993098548,13.2200590558399,13.3013098693174,13.223068345228,12.876749291486,12.9399443686352,12.8762477432547,12.746346751337,12.291693279625,12.0637396084799,12.0532070956217,12.0479408391926,12.0940832764761,11.9403587435697,11.9413618400323,11.8009283352565,11.6459499317716,11.7939066600177,11.6153554896598,11.5438848666935,11.2853367534364,11.3522934423206,11.5062687493428,11.3094110685409,11.4006928466452,11.3196928072834,11.6376743859545,11.5862656922419,11.7354762910663,12.0910739870881,12.3009719219049,12.177340282879,12.19639911567,12.3383372651399,12.3315663640168,12.6317429804752,12.6728699354453,12.544222814106,12.7418328172549,12.6971950246654,12.2836685079236,12.2982134066325,12.1587829983193,12.1622938359387,12.1462442925357,12.3538852603115,12.2621019339758,12.289436312584,12.1577799018566,11.9744640233009,12.0770306366105,11.6905877243611,11.5257037433073,12.3887428623898,12.3214350897436,12.2678697386363,11.9325847459838,11.723439133514,11.4493430250854,11.2898506875185,10.9355068620751,10.9475440196273,11.0212716096346,11.1581942767911,11.391664978481,11.8385444526071,11.8535908995474,11.9142782355399,12.0885662459314,12.1938913745133,12.2518201952333,12.5394581059082,12.5407119764866,12.5705540962514,12.4883001863113,12.1171544951179,12.2503155505393,12.2129502073043,11.8871946310474,12.1570275795096,12.1755848640693,12.5066066967553,12.6791392883371,12.3724425448712,12.0965910176328,12.1783433793416,12.2994672772108,11.9235568778197,11.9636807363271,11.9659377033681,11.8377921302601,11.9120212684988,12.3990246011323,12.4978296027068,12.7385727537512,12.7275386926616,12.8115480214115,12.673873031908,12.7656563582437,13.0816317439894,12.3666747402107,12.5053528261769,12.7834613204563,12.6984488952438,13.3060745775151,13.1830698737784,13.3411829537091,13.2707154272055,13.2674553637018,13.332155085545,13.666938529966,13.71884877191,13.9004092316559,13.9189665162156,13.795084103074,13.7962125865945,14.928583105908,14.7705954130351,14.7146727852404,14.362585926838,14.199331977536,14.2311802902263,14.1321245145362,14.2494868006703,14.3194527789426,14.2640316993792,14.2219016479465,14.2116199092039,14.104790135928,14.1108087147041,14.1155734229019,13.9763937887043,13.7674989503502,13.9806569486707,14.0433504775885,14.2038459116181,14.1827808859017,14.1737530177376,14.123096646372,14.5333630996101,14.5734869581175,14.4558738978677,14.0481151857863,14.105542458275,14.1489263802861,13.9076816810104,13.6752140757832,13.5683843025072,13.3584863676904,13.2107804135601,13.2015017712802,13.3278919255785,13.4181706072202,13.612018998634,13.5609363112718,13.6225515114922,13.4968384473062,13.5744028812834,13.3692696546643,13.4515235646045,13.4024972249907,13.4525266610671,13.3780467487128,13.3233779914965,13.2102287105056,13.5623657237311,13.31911483153,13.3667619135076,13.2896237955271,13.3986102261978,13.5944648105371,13.6024895822385,13.5418022462461,13.792827136033,14.619629395401,14.5551804476735,14.7359885850725,14.544898708931,14.7919112128671,14.7226975569419,14.8077099821544,15.0742828671129,15.097103311639,14.8984902120274,15.2535863598179,15.6480540437687,15.717267699694,15.5474936233845,15.6164565051941,15.5329487246756,15.6199673428135,15.5098775060339,15.3393511073774,15.0745336412286,15.0133447570048,14.9566698068631,14.8944778261767,14.9902735383631,14.874415896923,14.9393663928818,14.8084623045014,14.8332889419529,14.7710969612664,14.7216944604792,14.7016325312255,14.6705365408823,14.6888430513263,14.7332300698001,14.7924127610985,14.6201309436324,14.5388801301549,14.6888430513263,14.6223879106734,14.6038306261137,14.2932218064434,14.3691060538455,14.4608893801811,14.4819544058975,14.4516107379013,14.3455332869724,14.2402081583905,14.3081679437374,14.2128737797823,14.106294780622,13.8201615146412,13.7587218563017,13.5500777920632,13.4738424608992,13.3910870027277,13.4445018893657,13.8189076440628,13.5493254697162,13.7496939881375,13.8981522646149,13.8851120106,13.8951429752268,13.8201615146412,13.8357095098128,13.8449881520926,13.7888147501822,13.2887711635338,13.424439960112,13.1934769995788,13.1415667576348,12.9462137215269,12.894303479583,12.9785635824485,12.5071082449866,12.2508170987706,12.1520120971962,12.217714915502,12.4346345255576,12.5018419885575,12.5018419885575,12.3501236485764,12.4577057441994,12.5000865697478,12.5151330166881,12.4634735488598,12.324544688778,12.3310648157854,12.2450492941102,11.9754671197636,11.9147797837712,11.8400490973012,11.8099562034206,11.6351666447978,11.5010024929137,11.5682099559136,11.4734173401898,11.3603182140221,11.4293061732433,11.5774885981934,11.6547270258201,11.6875784349731,11.7362286134133,11.8207394903945,11.7545351238573,11.667014957488,11.5458910596188,11.1336184134553,11.1664698226083,11.1566896320971,11.5356093208763,11.5927858192493,11.499999396451,11.3835398971333,11.4505968956638,11.4628848273316,11.2938630733692,11.3134234543916,11.3784742599967,11.3402562847684,11.1105471948136,11.1754976907724,10.9397700220415,11.0302994777988,11.154432665056,11.2025812952649,10.9674053295884,10.7253581531426,10.7306244095717,10.787550133829,10.7895563267544,11.0992623596084,10.988169426366,10.6501259184412,10.64034572793,10.3920793534155,10.2915189330314,10.0934073816511,9.94645374986776,10.271958552009,10.2438718510538,10.5071846725086,10.5723859425831,10.6363333420793,10.6659246877285,10.4264354072625,10.2639337803075,10.1734043245502,10.2152836018673,10.5347698252324,10.3835530334827,10.4111381862065,10.4322032119229,10.4515128188296,10.6538875301763,10.7582095622955,10.8484882439371,10.9242220268699,11.0032158733063,11.1423955075038,11.0410827647726,10.8246647029484,10.7431631153552,10.6970206780717,10.4630484281505,10.291769707147,10.1703950351622,10.1403021412816,9.86796145166266,9.94319368636403,9.96024632622967,10.0028779258938,9.95172000629685,9.78019051117773,9.71749698225993,9.76865490185686,10.0061379893975,10.2310823711546,10.214782053636,9.94595220163641,10.1179832449869,10.1059460874347,10.0806003475638,9.87272615986042,9.92990265823346,9.8170543061814,9.62245359242053,9.67862699433089,9.7674010312785,9.64702945575631,9.6262152041556,9.56628019051018,9.51186220740952,9.83636391308809,9.74859297260316,9.51687768972295,9.25130790122712,9.48202008764465,9.34133580875309,9.07802298729831,8.99401365854845,9.23450603547715,9.27312524929052,9.09056169308187,8.87966066180237,8.72844387005262,8.59377816993717,8.71941600188846,8.85959873254867,8.6283849978998,8.70988658549295,8.74201074971043,8.27955820300113,8.27404117245636,8.35328579300847,8.40945919491882,8.01699770389336,8.13561386060585,8.11329496431111,7.97235991130388,7.72810592264011,7.29476825076023,7.73813688726696,7.66466007137529,7.99768809698667,8.162195916867,8.20432596829976,8.4759143355717,8.45560163220233,8.56744688779169,8.66299182586243,8.27705046184442,8.68806923742955,8.59252429935882,8.85508479846659,8.59302584759016,8.96968856932834,9.10435426944379,8.9787164374925,8.99050282092905,9.49857117927895,9.3107413666412,8.87038201952253,8.60155216752298,8.53760476802682,8.54061405741487,8.48945613781794,8.60957693922446,8.74374109110857,8.31266038626973,8.12182128424393,8.14263553584464,7.68622664532301,7.60046189776345,7.09063812060386,7.51494792431957,7.49789528445393,7.54754855935683,7.88233200377791,7.8414558229235,7.90114006245325,8.15492346751253,8.07517729872908,8.37736010811291,8.2266448645945,8.05787388474777,7.7150656686252,7.60121422011047,7.45852374829354,7.53225133830088,7.59720183425973,7.47357019523382,7.45074975070774,7.77826074577435,7.78101926104674,7.90540322241966,8.15718043455357,7.79079945155792,7.91844347643457,7.52874050068149,7.74440624015874,7.67293561719244,7.57613680854335,7.12173411094709,6.87973708932436,7.00738111420101,6.89904669623104,6.67034070273889,7.34667849270418,7.32486114464078,7.07308393250687,6.45592883383999,6.58106511755993,6.50909294636229,7.02618917287635,7.45852374829354,7.52623275952477,7.77449913403929,7.82615860186756,7.29752676603262,7.81061060669594,7.99417725936728,8.30413406633691,8.30614025926228,8.58249333473197,9.20190540043989,8.68907233389224,9.0118186207611,9.02009416657825,8.97771334102982,9.24729551537638,8.26275633725116,8.50851497060896,8.83527364332856,8.91928297207842,9.09683104597365,9.51236375564087,9.34233890521578,8.85282783142555,8.5055056812209,9.09582794951096,9.55499535530497,8.32570064028464,8.24996685735193,8.47892362495975,8.67703517634002,9.3089859478315,9.70270130943533,9.79247844284562,10.3248718904156,10.0440048808639,9.55449380707363,10.8093674818924,11.024030124907,10.9114325469706,10.7649804634186,10.786797811482,11.263519405373,11.0109898708921,10.3943363204566,11.1075379054255,10.8800857825117,10.9753799464668,10.8773272672393,10.3860607746394,10.4989091266915,10.5312589876131,11.1406400886941,11.2913553322125,11.6462007058873,11.6672657316037,11.6181140049321,11.8811760522712,11.7507735121222,11.8907054686668,12.1126405610358,12.3027273407146,12.2009130497521,12.1625446100544,12.3004703736735,12.4960741838971,12.7932415109675,12.6763807730647,12.5394581059082,12.6041578277514,12.5597708092776,12.4135694998413,12.0150894300397,12.1961483415543,12.0333959404837,11.6108415555777,11.7327177757939,11.8804237299242,12.10486656345,12.1151483021925,11.9649346069054,12.3375849427929,11.9273184895548,12.2683712868676,11.9646838327898,11.756290542667,12.0702597354874,13.3772944263658,13.4314616353508,12.9422013356762,13.0808794216424,13.3863222945299,13.5560963708394,13.5806722341751,13.9061770363164,13.6398549254735,13.4665700115447,13.2167989923362,13.4096442872874,13.2012509971646,13.2426287262503,13.2614367849257,13.8176537734844,13.5994802928505,13.6724555605108,13.7030500026227,14.048365959902,14.1030347171183,14.2805827910135,14.3645921197634,14.3319914847261,13.8665547260403,13.6722047863951,13.8971491681522,13.9899355909506,14.2188923585584,14.7028864018039,14.3497964469388,14.2264155820285,14.4195116510954,14.6903476960203,14.6201309436324,14.2499883489016,14.065920147999,13.6576598876862,13.7790345596711,13.7923255878016,14.509790332737,14.4827067282445,14.5466566354818,14.5699761204981,14.4521122861326,14.6201309436324,14.6687811220726,14.3743723102746,14.620381717748,14.5198212973639,14.7043910464979,14.9185521412811,14.5772485698526,14.872911252229,14.4017066888827,14.0049820378908,13.8457404744396,13.6436165372086,13.6180375774101,13.7045546473167,13.9179634197529,13.4863811666828,13.5270065734215,11.2732995958842,11.4109745853877,11.205590584653,11.3264637084065,11.4716619213801,11.7633122179058,11.6406836753425,11.7314639052155,11.9574113834353,11.8137178151557,11.4132315524287,11.6785505668089,11.6788013409246,11.0458474729704,10.985912459325,11.1363769287277,11.4902192059398,11.3043955862274,11.5496526713539,10.8723117849259,10.8334417969969,11.0129960638175,10.5292527946877,10.9819000734742,11.1095440983509,11.0385750236159,11.030046195942,10.3725189723932,10.8672963026125,10.8509959850939,11.2271546508595,11.1494171827426,11.4608786344063,11.8159747821967,11.9215506848943,11.8581048336295,11.6406836753425,12.198656082711,12.7343095937848,12.6104271806432,12.7644024876653,12.7631486170869,13.2820002624107,13.3474523066009,13.406885772015,12.9923561588104,13.0693438123215,12.9572477826165,12.6628389708185,12.581588157341,12.7092196435118,12.4241020126994,12.9374366274784,14.1511833473272,13.7491924399062,13.8056166159322,13.9425392830887,14.2038459116181,14.4067221711961,13.7579720416958,14.653985449248,15.0527162931652,15.0662580954115,15.446431654769,15.9906114857756,16.396113230816,16.0056579327159,16.2183143828051,16.3805652356444,15.8408968309787,16.2815094599542,16.4758593995994,17.186302469296,17.1827916316766,17.3405285504338,17.6176339482505,17.5727453815453,17.8260272383733,17.5724946074297,17.4711818646985,17.2956399837286,16.9866862732217,16.8858750787219,16.7825561430653,17.3024108848518,17.4049774981613,17.537887779467,17.5342264773782,18.0161140180521,17.9270892069888,17.9368693975,17.5168227537507,17.1569618977625,17.0910083053409,17.3786462160158,17.4789558622843,17.3600889314562,16.8913921092666,16.7015561037035,16.9698844074717,16.5641318883157,16.2637044977416,15.6946980292836,15.8898002912758,15.7899921932386,16.0916734543911,16.5648842106627,15.8506795292311,16.6506489582223,17.3997112417322,18.3802355262655,18.6021731263757,18.1974237036824,17.8363089771158,17.6346865881161,17.7297299779555,17.4230332344896,17.0333302587365,16.9172218431808,16.764500406737,16.9478162852927,16.9465624147143,16.3191255773049,16.1676580114395,16.0400139865628,15.8860386795407,15.4476855253474,15.5507536868883,15.9840913587681,15.5981499947501,15.6831624199627,15.4272474349202,15.2876916395492,14.8972363414491,14.5205736197109,14.6457073956897,14.6549885457107,14.608843600686,14.2256632596815,14.231431064342,14.2479821559763,14.2690471816926,14.2444713183569,14.0458582187453,13.8635454366523,13.7135825154809,13.4231860895336,13.1731642962094,13.259681366116,13.1601240421945,13.1067091555565,13.0736069722879,12.9018267030531,13.023953697385,13.1285265036199,13.2358578251272,13.1694026844743,12.9211363099598,12.8245882754264,12.8617028445457,12.6992012175908,12.8712322609412,12.914866957068,12.8443994305644,12.858442781042,12.7044674740199,12.4865447675016,12.5397088800239,12.326049333472,12.4772661252217,12.7543715230385,12.9274056628516,12.9336750157434,12.9080960559449,13.1852014537616,12.9404459168665,12.7894798992324,12.6139380182626,12.8148080849152,12.8632074892398,12.7894798992324,12.9427028839075,12.8368762070943,12.7393250760982,12.7834613204563,12.8897920532421,12.8524242022659,13.0432633042917,13.7572172116077,13.7800376561338,13.9179634197529,13.867557822503,13.8467435709023,13.6754648498989,13.6538982759511,13.6255608008803,13.6060004198579,13.5267557993058,13.5826784271005,13.3998640967762,13.3005575469704,13.107965533876,13.1658918468549,13.1979909336608,13.2975482575823,13.2263284087317,13.1651395245079,12.8925480607733,12.7887275768854,12.8975635430867,12.9198824393815,12.6864117376915,12.6099256324118,12.6701114201729,12.6583250367364,12.8230836307324,12.9271548887359,12.9163716017621,12.9963685446612,13.0111642174858,12.7160030833408,12.5486615159533,12.4862689159743,12.5035974073672,12.215457948461,12.125430040935,11.8949686286332,11.885940760469,11.9333370683309,11.8014298834878,11.794408208249,11.810457751652,11.8518354807377,11.4854544977421,11.5802471134658,11.7046310748387,11.57247311588,11.7675753778722,11.7063864936484,11.7179221029693,11.8144701375027,11.8673834759093,11.6805567597343,11.7613060249804,11.8209902645102,12.0123309147673,12.066748897868,11.9867519549688,11.975216345648,12.014086333577,12.0993495329052,11.8277611656333,11.9370986800659,11.8566001889355,11.8934639839391,11.6933462396335,11.7209313923573,11.6492099952754,11.6986124960626,11.7414948698424,11.8242503280139,11.811962396346,11.851584706622,11.4987455258726,11.4894668835928,11.5586805395181,11.5827548546225,11.6263895507493,11.6609963787119,11.5815009840441,11.5867672404732,11.4490922509697,11.1664698226083,11.2153707751641,11.0553768893659,11.1892902671343,11.2346803820708,11.1100456465822,11.4039529101489,11.3590643434438,11.4032005878019,11.4262718064436,11.4741696625369,11.0577592434648,11.0009589062653,11.2404481867313,11.2710426288432,11.2539899889775,11.6592409599022,11.8019314317191,11.9330862942152,11.9333370683309,11.8390460008385,11.7848787918535,11.57247311588,11.6843183714693,11.5130396504659,11.4927269470965,11.5830056287382,11.8122131704617,11.7866342106632,11.8234980056669,11.7151635876969,12.0747736695694,12.0810430224612,12.5763219009119,12.3962660858599,12.3498728744608,12.434383751442,12.2400338117968,12.5153837908038,12.01333401123,12.0582225779351,12.2816623149982,12.2335136847893,12.4704952240986,12.6460371050685,12.6640928413968,12.5316841083224,12.2743898656437,12.1750833158379,12.126934685629,12.2174641413864,12.1189099139276,11.7259468746708,11.5476464784285,11.5998074944881,11.7369809357603,11.4736681143055,11.4247671617496,11.4403151569212,11.608333814421,11.7520273827006,11.6058260732642,12.0446807756889,12.090321664741,12.011829366536,12.0817953448082,12.1357117796775,12.1402257137596,12.103361918756,12.2555818069684,12.2126994331886,12.1587829983193,12.0572194814724,12.1577799018566,12.1537675160059,12.2753929621064,12.1562752571626,12.6640928413968,12.7395758502138,12.7807028051839,12.4145725963039,12.508362115565,12.435888396136,12.3363310722145,12.270377479793,12.0629872861329,11.8754082476108,11.8523370289691,11.9117704943831,11.850832384275,11.960671446939,11.8314726225452,11.7841264695065,11.7236899076297,11.9466280964614,11.9511420305435,11.9167859766966,12.1650523512111,12.2026935459733,11.8693896688347,12.0567179332411,11.5273337750592,10.6844819722882,10.5152094442101,10.5485624015944,10.5763983284339,10.7155779626314,10.7190888002508,10.6955160333777,10.6992776451128,10.7582095622955,10.545051563975,10.3271288574567,10.4246799884528,10.1322773695801,10.0670760995056,10.0786117088265,10.1207417602593,10.104190668625,10.2032464443151,10.1307727248861,10.1257572425727,10.2027448960837,9.95573239214759,10.1265095649197,10.39935180277,10.2787294531321,10.1307727248861,10.195723220845,9.82783759315527,9.63198300881604,9.4754999606372,9.49154950404016,9.53292723312591,9.63875390993916,9.49430801931254,9.49255260050284,9.54822445418185,9.50308511336103,9.55323993649528,9.3603946415441,9.37218102498065,9.36465780151052,9.48653402172673,9.46170738427528,9.61367649837204,9.67486538259582,9.7230140128047,9.55374148472662,9.26434815524203,9.2410261624846,9.3839674084172,9.45267951611112,9.55449380707363,9.47800770179391,9.37519031436871,9.41380952818208,9.20917784979436,9.41681881757013,9.69492731184952,9.73304497743155,9.5896021832676,9.66734215912568,9.76414096777478,9.80276018158814,9.78289887162698,9.70796756586442,10.0058872152818,10.1074507321287,10.2288254041136,10.1187355673339,10.2523981709866,10.4635499763818,10.6468658549375,10.4873735173706,10.5437976933966,10.6125098010905,10.5691258790794,10.6127605752062,10.5157109924414,10.4775933268594,10.1841876115241,10.0891442216847,10.1367913036622,10.1528408470652,10.0297107562706,10.0843795134869,9.70922143644278,9.73354652566289,9.79774469927472,9.80526792274486,9.63950623228618,9.69304650598198,9.56803560931988,9.73731816836258,9.86294596934924,9.69267034480848,9.77993973706206,9.38998598719331,9.51537304502892,9.59511921381237,9.32428316888745,9.3272924582755,9.56327090112213,9.60439785609221,9.56076315996541,9.41857423637983,9.30246582082405,9.27914382806663,9.30346891728674,9.39149063188734,9.31124291487255,9.43412223155145,9.3822119896075,9.70495827647637,10.105695313319,10.2516458486396,9.90006053846858,9.88802338091636,9.89930821612157,9.88476331741263,9.90056208669992,10.0033794741251,10.4808533903631,10.5332651805384,10.6822250052471,10.712067125012,11.0465997953174,10.9613365959892,10.4071258003558,10.2942774483037,10.1372928518936,10.2019925737367,10.0851318358339,10.2554074603747,10.2732124225874,10.4417326283184,10.1854414821024,10.3113300881694,10.2313331452703,10.1398005930503,9.7726672877076,9.78019051117773,9.74106974913302,9.905076020782,9.45919964311857,9.27086828224948,9.17331715125337,8.57371624068348,8.53183696336638,8.52431373989624,8.73170393355635,8.52105367639252,8.49547471659405,8.63916828487367,8.8061838459107,8.45259234281427,8.46362640390381,8.60155216752298,8.87439440537327,9.13946264563776,9.23099519785776,9.48377550645435,9.44039158444323,9.14823973968625,9.09357098246992,9.78959454051541,9.46421512543199,9.48101699118196,9.16554315366757,9.1931283063914,9.24729551537638,9.18986824288767,8.58600417235137,8.60957693922446,8.66926117875421,9.09332020835425,8.9970229479365,9.25557106119353,9.22648126377567,9.65731119449883,9.56841177049339,9.93165807704315,10.0756024194384,10.8499953963723,10.7035408050792,10.8708071402319,10.8902421341964,10.858519208564,11.1100456465822,10.7205934449448,10.0174253323439,10.9449108914127,11.1571886725873,11.7139097171185,11.6923431431708,11.626640324865,11.8272596174019,11.7803648577714,11.7086459684306,11.6775474703462,11.3159311955483,11.1654667261456,10.9144418363587,10.4036149627364,10.5362744699265,10.7002807415755,10.6488720478629,10.8066089666201,10.8344448934596,10.6912528734113,10.7767668468552,10.6478689514002,10.7870485855977,10.5959587094562,10.5064323501616,10.4695685551579,10.3472409415335,10.2616768132665,10.2980390600388,10.1367913036622,10.1448160753637,10.1776674845166,10.474834811587,10.3843078635709,10.1541574111724,10.1197386637966,10.619782250445,10.7486801459,10.6042342552734,10.4439895953595,10.2656891991172,10.0362308832781,10.1174816967555,9.98457141544978,9.85040726356568,9.95498006980058,9.79022147580458,9.80777566390157,9.50810059567446,9.77768277002102,9.90632989136036,9.7909737981516,9.67862699433089,9.52139162380503,9.51386840033489,9.33230794058893,8.98197650099623,8.85383092788823,8.91351516741798,8.69960484675043,8.74323954287722,8.5238121916649,7.60347118715151,7.74139695077068,7.60547738007688,7.64861052797233,7.42642466148763,7.45902529652489,7.54754855935683,7.67619568069617,7.79029790332657,7.84897904639364,7.84296046761753,7.7918025480206,7.79907499737507,7.99166951821057,7.93599766453155,7.76446816941244,7.67368793953945,7.87280258738241,7.88132890731523,7.90841251180772,7.8083536396549,7.82164466778547,7.72158579563266,7.61826685997611,7.52823895245014,7.58892628844258,7.59845570483809,7.81612763724071,7.76747745880049,7.50040302561064,7.40761660281228,7.39457634879738,7.19997563503651,7.23357936653645,7.17840906108879,7.17213970819701,7.20398802088725,7.23357936653645,7.11145237220457,7.08662573475312,7.08612418652177,7.01114272593608,6.87146154350721,7.02167523879427,7.0214244646786,7.1495700377866,7.16336261414851,7.12198488506276,7.26545275663827,7.12323875564112,7.16411493649553,7.31182089062588,7.3037961189244,7.33138127164823,7.46629774587935,7.45551445890549,7.50291076676735,7.3128214793474,7.21627595255514,7.36022029495042,7.44623581662565,7.42517079090927,7.41915221213316,7.58340925789781,7.87280258738241,7.82415240894219,7.77148984465123,7.51168786081584,7.55306558990159,7.54554236643146,7.4946352209502,7.31718745670124,7.35645868321536,7.42868162852867,7.41137821454735,7.31069240710536,7.41564137451376,7.3037961189244,7.37652061246905,7.34065991392807,7.57337829327096,7.62604085756192,7.45426058832713,7.26517690511103,7.25489516636851,7.21828214548051,7.18969389629399,7.02919846226441,6.95747706518244,6.89127269864523,6.98029750970852,7.09063812060386,7.08436876771208,7.17991370578281,7.01064117770474,7.35069087855492,7.29602212133859,7.02819536580172,7.21978679017454,7.22229453133125,6.95321390521603,6.67059147685456,6.50006507819812,6.54043971082119,6.41981736118333,6.40602478482142,6.05895340873244,5.99801529862433,5.99751375039299,5.84629695864324,5.79413594258363,5.74874582764714,5.73570557363223,5.80015452135974,5.71263435499048,5.667996562401,5.71815138553525,5.69207087750544,5.73018854308747,5.67225972236741,5.57445781725564,5.51703054476693,5.50323796840501,5.51151351422216,5.48568378030802,5.60555380759887,5.41195619030068,5.13460001836831,4.96783523144695,4.79981657394723,4.68872364070487,4.63932113991764,4.80107044452558,4.83818501364492,4.86388936050122,4.84570823711506,4.81611689146586,4.85899926524564,4.7451478167309,4.72884749921227,4.64659358927211,4.51493717854472,4.52672356198126,4.52521891728724,4.50315079510817,4.54954400650734,4.49512602340669,4.48835512228357,4.47882570588806,4.5360022042611,4.51493717854472,4.49612911986937,4.40359347118669,4.47907648000373,4.38829625013075,4.45876377663436,4.51343253385069,4.54778858769765,4.64433662223107,4.73486607798838,4.66189081032805,4.68960135010972,4.64383507399973,4.66590319617879,4.71430260050334,4.66113848798104,4.73687227091375,4.86376397344339,4.79906425160021,4.96407361971188,4.96281974913352,4.97560922903275,4.89586306024931,4.83968965833895,4.69950692767874,4.71405182638767,4.80433050802931,4.98137703369319,4.915924989503,5.12481982785713,5.28782300304343,5.16494368636453,4.81235527973079,4.90564325076048,4.77323451768608,4.71655956754438,4.74564936496224,4.44171113676872,4.53198981841036,4.7215750498578,4.86301165109637,4.94777330219325,5.11328421853626,5.01472999107747,4.89837080140602,4.89962467198437,4.85348223470087,4.89159990028289,4.86125623228668,4.72834595098093,4.85272991235385,4.87755654980531,5.08344209877138,4.83467417602553,4.95529652566339,4.83743269129791,4.83392185367851,4.81260605384646,4.7120456334623,4.6719217749549,4.60797437545874,4.63982268814899,4.5159402750074,4.42541081925009,4.50841705153726,4.4810826729291,4.27444480161601,4.30453769549656,4.34917548808604,4.26265841817946,4.29902066495179,4.42089688516801,4.52396504670888,4.49888763514176,4.51293098561935,4.56358735698493,4.54026536422751,4.49863686102609,4.38252844547031,4.20096798572434,4.14028064973191,4.24811351947053,4.20146953395569,4.32585349532861,4.32698197884913,4.63606107641392,4.56408890521628,4.58966786501474,4.20949430565717,4.23055933137355,4.32710736590697,4.24685964889218,4.63179791644751,4.80658747507035,4.88683519208514,4.915924989503,4.78075774115621,4.84746365592476,4.66364622913775,4.55907342290285,4.69950692767874,4.32409807651891,3.74606373989674,3.52312555106503,3.70995226724009,3.74054670935198,3.61390578093801,3.56099244253138,3.53340728980755,3.44563634932262,3.39197068856897,3.45391189513977,3.48199859609494,3.43761157762114,3.46996143854273,3.38695520625555,3.32476322556909,3.25003253909906,3.2871471082184,3.18132043140515,2.96565469192789,3.00502622808828,3.02985286553973,2.96866398131595,2.9551221790697,2.99323984465173,2.94634508502121,2.85807259630494,2.80867009551771,2.79588061561848,2.69582174346566,2.641403760365,2.56566997743229,2.56541920331662,2.54736346698829,2.50799193082791,2.54560804817859,2.51401050960402,2.56717462212632,2.55814675396216,2.66196723785004,2.70610348220818,2.65820562611497,2.62986815104413,2.74346882544319,2.71613444683503,2.51614208958723],\"yaxis\":\"y\",\"type\":\"scattergl\"}],                        {\"template\":{\"data\":{\"bar\":[{\"error_x\":{\"color\":\"#2a3f5f\"},\"error_y\":{\"color\":\"#2a3f5f\"},\"marker\":{\"line\":{\"color\":\"#E5ECF6\",\"width\":0.5},\"pattern\":{\"fillmode\":\"overlay\",\"size\":10,\"solidity\":0.2}},\"type\":\"bar\"}],\"barpolar\":[{\"marker\":{\"line\":{\"color\":\"#E5ECF6\",\"width\":0.5},\"pattern\":{\"fillmode\":\"overlay\",\"size\":10,\"solidity\":0.2}},\"type\":\"barpolar\"}],\"carpet\":[{\"aaxis\":{\"endlinecolor\":\"#2a3f5f\",\"gridcolor\":\"white\",\"linecolor\":\"white\",\"minorgridcolor\":\"white\",\"startlinecolor\":\"#2a3f5f\"},\"baxis\":{\"endlinecolor\":\"#2a3f5f\",\"gridcolor\":\"white\",\"linecolor\":\"white\",\"minorgridcolor\":\"white\",\"startlinecolor\":\"#2a3f5f\"},\"type\":\"carpet\"}],\"choropleth\":[{\"colorbar\":{\"outlinewidth\":0,\"ticks\":\"\"},\"type\":\"choropleth\"}],\"contour\":[{\"colorbar\":{\"outlinewidth\":0,\"ticks\":\"\"},\"colorscale\":[[0.0,\"#0d0887\"],[0.1111111111111111,\"#46039f\"],[0.2222222222222222,\"#7201a8\"],[0.3333333333333333,\"#9c179e\"],[0.4444444444444444,\"#bd3786\"],[0.5555555555555556,\"#d8576b\"],[0.6666666666666666,\"#ed7953\"],[0.7777777777777778,\"#fb9f3a\"],[0.8888888888888888,\"#fdca26\"],[1.0,\"#f0f921\"]],\"type\":\"contour\"}],\"contourcarpet\":[{\"colorbar\":{\"outlinewidth\":0,\"ticks\":\"\"},\"type\":\"contourcarpet\"}],\"heatmap\":[{\"colorbar\":{\"outlinewidth\":0,\"ticks\":\"\"},\"colorscale\":[[0.0,\"#0d0887\"],[0.1111111111111111,\"#46039f\"],[0.2222222222222222,\"#7201a8\"],[0.3333333333333333,\"#9c179e\"],[0.4444444444444444,\"#bd3786\"],[0.5555555555555556,\"#d8576b\"],[0.6666666666666666,\"#ed7953\"],[0.7777777777777778,\"#fb9f3a\"],[0.8888888888888888,\"#fdca26\"],[1.0,\"#f0f921\"]],\"type\":\"heatmap\"}],\"heatmapgl\":[{\"colorbar\":{\"outlinewidth\":0,\"ticks\":\"\"},\"colorscale\":[[0.0,\"#0d0887\"],[0.1111111111111111,\"#46039f\"],[0.2222222222222222,\"#7201a8\"],[0.3333333333333333,\"#9c179e\"],[0.4444444444444444,\"#bd3786\"],[0.5555555555555556,\"#d8576b\"],[0.6666666666666666,\"#ed7953\"],[0.7777777777777778,\"#fb9f3a\"],[0.8888888888888888,\"#fdca26\"],[1.0,\"#f0f921\"]],\"type\":\"heatmapgl\"}],\"histogram\":[{\"marker\":{\"pattern\":{\"fillmode\":\"overlay\",\"size\":10,\"solidity\":0.2}},\"type\":\"histogram\"}],\"histogram2d\":[{\"colorbar\":{\"outlinewidth\":0,\"ticks\":\"\"},\"colorscale\":[[0.0,\"#0d0887\"],[0.1111111111111111,\"#46039f\"],[0.2222222222222222,\"#7201a8\"],[0.3333333333333333,\"#9c179e\"],[0.4444444444444444,\"#bd3786\"],[0.5555555555555556,\"#d8576b\"],[0.6666666666666666,\"#ed7953\"],[0.7777777777777778,\"#fb9f3a\"],[0.8888888888888888,\"#fdca26\"],[1.0,\"#f0f921\"]],\"type\":\"histogram2d\"}],\"histogram2dcontour\":[{\"colorbar\":{\"outlinewidth\":0,\"ticks\":\"\"},\"colorscale\":[[0.0,\"#0d0887\"],[0.1111111111111111,\"#46039f\"],[0.2222222222222222,\"#7201a8\"],[0.3333333333333333,\"#9c179e\"],[0.4444444444444444,\"#bd3786\"],[0.5555555555555556,\"#d8576b\"],[0.6666666666666666,\"#ed7953\"],[0.7777777777777778,\"#fb9f3a\"],[0.8888888888888888,\"#fdca26\"],[1.0,\"#f0f921\"]],\"type\":\"histogram2dcontour\"}],\"mesh3d\":[{\"colorbar\":{\"outlinewidth\":0,\"ticks\":\"\"},\"type\":\"mesh3d\"}],\"parcoords\":[{\"line\":{\"colorbar\":{\"outlinewidth\":0,\"ticks\":\"\"}},\"type\":\"parcoords\"}],\"pie\":[{\"automargin\":true,\"type\":\"pie\"}],\"scatter\":[{\"marker\":{\"colorbar\":{\"outlinewidth\":0,\"ticks\":\"\"}},\"type\":\"scatter\"}],\"scatter3d\":[{\"line\":{\"colorbar\":{\"outlinewidth\":0,\"ticks\":\"\"}},\"marker\":{\"colorbar\":{\"outlinewidth\":0,\"ticks\":\"\"}},\"type\":\"scatter3d\"}],\"scattercarpet\":[{\"marker\":{\"colorbar\":{\"outlinewidth\":0,\"ticks\":\"\"}},\"type\":\"scattercarpet\"}],\"scattergeo\":[{\"marker\":{\"colorbar\":{\"outlinewidth\":0,\"ticks\":\"\"}},\"type\":\"scattergeo\"}],\"scattergl\":[{\"marker\":{\"colorbar\":{\"outlinewidth\":0,\"ticks\":\"\"}},\"type\":\"scattergl\"}],\"scattermapbox\":[{\"marker\":{\"colorbar\":{\"outlinewidth\":0,\"ticks\":\"\"}},\"type\":\"scattermapbox\"}],\"scatterpolar\":[{\"marker\":{\"colorbar\":{\"outlinewidth\":0,\"ticks\":\"\"}},\"type\":\"scatterpolar\"}],\"scatterpolargl\":[{\"marker\":{\"colorbar\":{\"outlinewidth\":0,\"ticks\":\"\"}},\"type\":\"scatterpolargl\"}],\"scatterternary\":[{\"marker\":{\"colorbar\":{\"outlinewidth\":0,\"ticks\":\"\"}},\"type\":\"scatterternary\"}],\"surface\":[{\"colorbar\":{\"outlinewidth\":0,\"ticks\":\"\"},\"colorscale\":[[0.0,\"#0d0887\"],[0.1111111111111111,\"#46039f\"],[0.2222222222222222,\"#7201a8\"],[0.3333333333333333,\"#9c179e\"],[0.4444444444444444,\"#bd3786\"],[0.5555555555555556,\"#d8576b\"],[0.6666666666666666,\"#ed7953\"],[0.7777777777777778,\"#fb9f3a\"],[0.8888888888888888,\"#fdca26\"],[1.0,\"#f0f921\"]],\"type\":\"surface\"}],\"table\":[{\"cells\":{\"fill\":{\"color\":\"#EBF0F8\"},\"line\":{\"color\":\"white\"}},\"header\":{\"fill\":{\"color\":\"#C8D4E3\"},\"line\":{\"color\":\"white\"}},\"type\":\"table\"}]},\"layout\":{\"annotationdefaults\":{\"arrowcolor\":\"#2a3f5f\",\"arrowhead\":0,\"arrowwidth\":1},\"autotypenumbers\":\"strict\",\"coloraxis\":{\"colorbar\":{\"outlinewidth\":0,\"ticks\":\"\"}},\"colorscale\":{\"diverging\":[[0,\"#8e0152\"],[0.1,\"#c51b7d\"],[0.2,\"#de77ae\"],[0.3,\"#f1b6da\"],[0.4,\"#fde0ef\"],[0.5,\"#f7f7f7\"],[0.6,\"#e6f5d0\"],[0.7,\"#b8e186\"],[0.8,\"#7fbc41\"],[0.9,\"#4d9221\"],[1,\"#276419\"]],\"sequential\":[[0.0,\"#0d0887\"],[0.1111111111111111,\"#46039f\"],[0.2222222222222222,\"#7201a8\"],[0.3333333333333333,\"#9c179e\"],[0.4444444444444444,\"#bd3786\"],[0.5555555555555556,\"#d8576b\"],[0.6666666666666666,\"#ed7953\"],[0.7777777777777778,\"#fb9f3a\"],[0.8888888888888888,\"#fdca26\"],[1.0,\"#f0f921\"]],\"sequentialminus\":[[0.0,\"#0d0887\"],[0.1111111111111111,\"#46039f\"],[0.2222222222222222,\"#7201a8\"],[0.3333333333333333,\"#9c179e\"],[0.4444444444444444,\"#bd3786\"],[0.5555555555555556,\"#d8576b\"],[0.6666666666666666,\"#ed7953\"],[0.7777777777777778,\"#fb9f3a\"],[0.8888888888888888,\"#fdca26\"],[1.0,\"#f0f921\"]]},\"colorway\":[\"#636efa\",\"#EF553B\",\"#00cc96\",\"#ab63fa\",\"#FFA15A\",\"#19d3f3\",\"#FF6692\",\"#B6E880\",\"#FF97FF\",\"#FECB52\"],\"font\":{\"color\":\"#2a3f5f\"},\"geo\":{\"bgcolor\":\"white\",\"lakecolor\":\"white\",\"landcolor\":\"#E5ECF6\",\"showlakes\":true,\"showland\":true,\"subunitcolor\":\"white\"},\"hoverlabel\":{\"align\":\"left\"},\"hovermode\":\"closest\",\"mapbox\":{\"style\":\"light\"},\"paper_bgcolor\":\"white\",\"plot_bgcolor\":\"#E5ECF6\",\"polar\":{\"angularaxis\":{\"gridcolor\":\"white\",\"linecolor\":\"white\",\"ticks\":\"\"},\"bgcolor\":\"#E5ECF6\",\"radialaxis\":{\"gridcolor\":\"white\",\"linecolor\":\"white\",\"ticks\":\"\"}},\"scene\":{\"xaxis\":{\"backgroundcolor\":\"#E5ECF6\",\"gridcolor\":\"white\",\"gridwidth\":2,\"linecolor\":\"white\",\"showbackground\":true,\"ticks\":\"\",\"zerolinecolor\":\"white\"},\"yaxis\":{\"backgroundcolor\":\"#E5ECF6\",\"gridcolor\":\"white\",\"gridwidth\":2,\"linecolor\":\"white\",\"showbackground\":true,\"ticks\":\"\",\"zerolinecolor\":\"white\"},\"zaxis\":{\"backgroundcolor\":\"#E5ECF6\",\"gridcolor\":\"white\",\"gridwidth\":2,\"linecolor\":\"white\",\"showbackground\":true,\"ticks\":\"\",\"zerolinecolor\":\"white\"}},\"shapedefaults\":{\"line\":{\"color\":\"#2a3f5f\"}},\"ternary\":{\"aaxis\":{\"gridcolor\":\"white\",\"linecolor\":\"white\",\"ticks\":\"\"},\"baxis\":{\"gridcolor\":\"white\",\"linecolor\":\"white\",\"ticks\":\"\"},\"bgcolor\":\"#E5ECF6\",\"caxis\":{\"gridcolor\":\"white\",\"linecolor\":\"white\",\"ticks\":\"\"}},\"title\":{\"x\":0.05},\"xaxis\":{\"automargin\":true,\"gridcolor\":\"white\",\"linecolor\":\"white\",\"ticks\":\"\",\"title\":{\"standoff\":15},\"zerolinecolor\":\"white\",\"zerolinewidth\":2},\"yaxis\":{\"automargin\":true,\"gridcolor\":\"white\",\"linecolor\":\"white\",\"ticks\":\"\",\"title\":{\"standoff\":15},\"zerolinecolor\":\"white\",\"zerolinewidth\":2}}},\"xaxis\":{\"anchor\":\"y\",\"domain\":[0.0,1.0],\"title\":{\"text\":\"Date\"}},\"yaxis\":{\"anchor\":\"x\",\"domain\":[0.0,1.0],\"title\":{\"text\":\"Adjusted Closing Price (USD)\"}},\"legend\":{\"tracegroupgap\":0},\"title\":{\"text\":\"Daily Adjusted Closing Prices (GOOGL)\"}},                        {\"responsive\": true}                    ).then(function(){\n",
              "                            \n",
              "var gd = document.getElementById('6e230277-b81f-4d61-8c29-73882b57d8fa');\n",
              "var x = new MutationObserver(function (mutations, observer) {{\n",
              "        var display = window.getComputedStyle(gd).display;\n",
              "        if (!display || display === 'none') {{\n",
              "            console.log([gd, 'removed!']);\n",
              "            Plotly.purge(gd);\n",
              "            observer.disconnect();\n",
              "        }}\n",
              "}});\n",
              "\n",
              "// Listen for the removal of the full notebook cells\n",
              "var notebookContainer = gd.closest('#notebook-container');\n",
              "if (notebookContainer) {{\n",
              "    x.observe(notebookContainer, {childList: true});\n",
              "}}\n",
              "\n",
              "// Listen for the clearing of the current output cell\n",
              "var outputEl = gd.closest('.output');\n",
              "if (outputEl) {{\n",
              "    x.observe(outputEl, {childList: true});\n",
              "}}\n",
              "\n",
              "                        })                };                            </script>        </div>\n",
              "</body>\n",
              "</html>"
            ]
          },
          "metadata": {}
        }
      ]
    },
    {
      "cell_type": "code",
      "source": [
        "\n",
        "# TODO: write some code here to answer the questions\n",
        "\n"
      ],
      "metadata": {
        "id": "83-SMCcju3if"
      },
      "id": "83-SMCcju3if",
      "execution_count": null,
      "outputs": []
    },
    {
      "cell_type": "code",
      "source": [
        "print(f\"Number of rows: {realtime_df.shape[0]}\")"
      ],
      "metadata": {
        "id": "4xR6DhpxuFfj",
        "colab": {
          "base_uri": "https://localhost:8080/"
        },
        "outputId": "33655b5a-f23b-40a4-91c2-c6dcd80a90a9"
      },
      "id": "4xR6DhpxuFfj",
      "execution_count": 134,
      "outputs": [
        {
          "output_type": "stream",
          "name": "stdout",
          "text": [
            "Number of rows: 4629\n"
          ]
        }
      ]
    },
    {
      "cell_type": "code",
      "source": [
        "print(f\"Column names: {realtime_df.columns.tolist()}\")"
      ],
      "metadata": {
        "id": "UqIEGP-uuScr",
        "colab": {
          "base_uri": "https://localhost:8080/"
        },
        "outputId": "90746049-af18-4d28-f26e-096e2257f978"
      },
      "id": "UqIEGP-uuScr",
      "execution_count": 128,
      "outputs": [
        {
          "output_type": "stream",
          "name": "stdout",
          "text": [
            "Column names: ['timestamp', 'open', 'high', 'low', 'close', 'adjusted_close', 'volume', 'dividend_amount', 'split_coefficient']\n"
          ]
        }
      ]
    },
    {
      "cell_type": "code",
      "source": [
        "# https://pandas.pydata.org/docs/reference/api/pandas.DataFrame.to_csv.html\n"
      ],
      "metadata": {
        "id": "FpSeGo72ua_B"
      },
      "id": "FpSeGo72ua_B",
      "execution_count": null,
      "outputs": []
    },
    {
      "cell_type": "code",
      "source": [
        "earliest_date = realtime_df.tail(1)['timestamp'].iloc[0]\n",
        "print(f\"Earliest date: {earliest_date}\")"
      ],
      "metadata": {
        "id": "sWJ4OEm4BjOX",
        "colab": {
          "base_uri": "https://localhost:8080/"
        },
        "outputId": "9fb1870e-5890-4b79-f799-8329eb21a2bf"
      },
      "id": "sWJ4OEm4BjOX",
      "execution_count": 124,
      "outputs": [
        {
          "output_type": "stream",
          "name": "stdout",
          "text": [
            "Earliest date: 2004-08-19\n"
          ]
        }
      ]
    },
    {
      "cell_type": "code",
      "source": [
        "latest_date = realtime_df.head(1)['timestamp'].iloc[0]\n",
        "print(f\"Latest date: {latest_date}\")"
      ],
      "metadata": {
        "id": "rNSR9mD-u7-i",
        "colab": {
          "base_uri": "https://localhost:8080/"
        },
        "outputId": "150af19a-877a-4c15-f9ef-e09963c5f00b"
      },
      "id": "rNSR9mD-u7-i",
      "execution_count": 129,
      "outputs": [
        {
          "output_type": "stream",
          "name": "stdout",
          "text": [
            "Latest date: 2023-01-06\n"
          ]
        }
      ]
    },
    {
      "cell_type": "code",
      "source": [
        "latest_price = realtime_df.head(1)['adjusted_close'].iloc[0]\n",
        "formatted_price = \"${:,.2f}\".format(latest_price)\n",
        "print(f\"Latest adjusted closing price: {formatted_price}\")"
      ],
      "metadata": {
        "id": "ovs1Zy3684Qx",
        "colab": {
          "base_uri": "https://localhost:8080/"
        },
        "outputId": "1ef4fddc-726e-4b5b-9feb-aad78b98c08e"
      },
      "id": "ovs1Zy3684Qx",
      "execution_count": 130,
      "outputs": [
        {
          "output_type": "stream",
          "name": "stdout",
          "text": [
            "Latest adjusted closing price: $87.34\n"
          ]
        }
      ]
    },
    {
      "cell_type": "code",
      "source": [],
      "metadata": {
        "id": "y10TNNnJNTwv"
      },
      "id": "y10TNNnJNTwv",
      "execution_count": null,
      "outputs": []
    }
  ],
  "metadata": {
    "kernelspec": {
      "display_name": "Python 3 (ipykernel)",
      "language": "python",
      "name": "python3"
    },
    "language_info": {
      "codemirror_mode": {
        "name": "ipython",
        "version": 3
      },
      "file_extension": ".py",
      "mimetype": "text/x-python",
      "name": "python",
      "nbconvert_exporter": "python",
      "pygments_lexer": "ipython3",
      "version": "3.10.6"
    },
    "colab": {
      "provenance": [],
      "collapsed_sections": [
        "fd9cd1e7",
        "fd12aaeb"
      ],
      "toc_visible": true
    }
  },
  "nbformat": 4,
  "nbformat_minor": 5
}