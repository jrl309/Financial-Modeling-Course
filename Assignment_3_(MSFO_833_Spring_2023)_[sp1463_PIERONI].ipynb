{
  "nbformat": 4,
  "nbformat_minor": 0,
  "metadata": {
    "colab": {
      "provenance": [],
      "toc_visible": true,
      "collapsed_sections": [
        "R03LjYrUUcy3",
        "tWejHXEiUex2"
      ],
      "include_colab_link": true
    },
    "kernelspec": {
      "name": "python3",
      "display_name": "Python 3"
    },
    "language_info": {
      "name": "python"
    }
  },
  "cells": [
    {
      "cell_type": "markdown",
      "metadata": {
        "id": "view-in-github",
        "colab_type": "text"
      },
      "source": [
        "<a href=\"https://colab.research.google.com/github/jrl309/Financial-Modeling-Course/blob/main/Assignment_3_(MSFO_833_Spring_2023)_%5Bsp1463_PIERONI%5D.ipynb\" target=\"_parent\"><img src=\"https://colab.research.google.com/assets/colab-badge.svg\" alt=\"Open In Colab\"/></a>"
      ]
    },
    {
      "cell_type": "markdown",
      "source": [
        "> NOTE: all challenges in this assignment are adapted from material created by Prof. Ram Yamarthy (2021)."
      ],
      "metadata": {
        "id": "PVU-JsZ95HQe"
      }
    },
    {
      "cell_type": "markdown",
      "source": [
        "# New Section"
      ],
      "metadata": {
        "id": "Old7mOP_NUl0"
      }
    },
    {
      "cell_type": "markdown",
      "source": [
        "# Instructions"
      ],
      "metadata": {
        "id": "R03LjYrUUcy3"
      }
    },
    {
      "cell_type": "markdown",
      "source": [
        "1. **Make a copy of this notebook** so you can edit and save your own version of it. Optionally update the notebook title to include your Group Number and/or the Net IDs of all group members. Do the work in your copy of the notebook. \n",
        "\n",
        "2. Edit the sharing settings: **share your notebook** publicly, so **\"Anyone with the link can view\"**. Notebooks not shared properly may be subject to late deductions if an instructor is unable to access them at the time of grading.\n",
        "\n",
        "3. **Run the Setup Cells** in the \"Setup\" section.\n",
        "\n",
        "4. **Complete the challenges**. For each challenge:\n",
        "    + **Run any additional provided \"Setup\" cell(s)**, as necessary.\n",
        "    + **Write Python code** to answer each of the provided questions. \n",
        "\n",
        "\n",
        "\n",
        "\n"
      ],
      "metadata": {
        "id": "H_0lIcb6jBNK"
      }
    },
    {
      "cell_type": "markdown",
      "source": [
        "# Submission Instructions"
      ],
      "metadata": {
        "id": "tWejHXEiUex2"
      }
    },
    {
      "cell_type": "markdown",
      "source": [
        "\n",
        "\n",
        "To review your notebook / ensure it works as expected / prepare for evaluation: \n",
        "  1. Run it from scratch (\"Runtime\" > \"Restart and run all\"), provide any necessary user inputs, and verify you see the results you expect.\n",
        "\n",
        "\n",
        "When you're done coding and your notebook reflects your final work product, follow BOTH these steps to submit:\n",
        "\n",
        "  1. Download a copy of your notebook document in .ipynb format (\"File\" > \"Download\" > \"Download .ipynb\"). Then **upload the resulting .ipynb notebook file to Canvas**.\n",
        "  2. Ensure your notebook sharing settings are open so \"anyone with the link can view\", then **submit your Colab Notebook URL via the [Submission Form](https://forms.gle/gWHLVjN2XVmqCogm7)**. \n",
        "\n",
        "\n",
        "> NOTE: only one member needs to submit on behalf of the group.\n",
        "\n",
        "Thank you!"
      ],
      "metadata": {
        "id": "uDPH68p0NPrb"
      }
    },
    {
      "cell_type": "markdown",
      "source": [
        "# Evaluation"
      ],
      "metadata": {
        "id": "z0P9ZCEQ3DhN"
      }
    },
    {
      "cell_type": "markdown",
      "source": [
        "Deliverables will be evaluated based on the criteria below:\n",
        "\n",
        "Category | Weight | Description\n",
        "--- | --- | ---\n",
        "Challenge 1 | 50% | \n",
        "Challenge 2 | 40% | \n",
        "Chart Quality and Formatting | 10% | All charts should have a title, and axis labels. \n",
        "\n",
        "This rubric is tentative, and may be subject to adjustments during the grading process."
      ],
      "metadata": {
        "id": "rg2vyfYb3Ev6"
      }
    },
    {
      "cell_type": "markdown",
      "source": [
        "# Setup"
      ],
      "metadata": {
        "id": "aIL3PSOTnvvy"
      }
    },
    {
      "cell_type": "markdown",
      "source": [
        "## Imports"
      ],
      "metadata": {
        "id": "d7vjDJLysgYq"
      }
    },
    {
      "cell_type": "code",
      "execution_count": 1,
      "metadata": {
        "id": "icn_kqdVkSWE"
      },
      "outputs": [],
      "source": [
        "\n",
        "# RUN THIS CELL AND FEEL FREE TO MODIFY / UPDATE AS DESIRED\n",
        "\n",
        "import numpy as np\n",
        "import pandas as pd\n",
        "from pandas.tseries.offsets import MonthEnd, YearEnd\n",
        "\n",
        "import plotly.express as px\n",
        "import matplotlib.pyplot as plt\n",
        "\n",
        "import statsmodels.api as sm\n",
        "from statsmodels.tsa.stattools import acf\n",
        "from statsmodels.tsa.arima.model import ARIMA"
      ]
    },
    {
      "cell_type": "markdown",
      "source": [
        "## Ignore Warnings"
      ],
      "metadata": {
        "id": "LgrpYB7u8Vk4"
      }
    },
    {
      "cell_type": "code",
      "source": [
        "# https://stackoverflow.com/a/9031848/670433\n",
        "import warnings\n",
        "\n",
        "warnings.filterwarnings('ignore')"
      ],
      "metadata": {
        "id": "LyQtVkuE8Wxt"
      },
      "execution_count": 2,
      "outputs": []
    },
    {
      "cell_type": "markdown",
      "source": [
        "## Correlation Example"
      ],
      "metadata": {
        "id": "6MR-mJ3XCBDe"
      }
    },
    {
      "cell_type": "code",
      "source": [
        "# feel free to reference this example  \n",
        "# ... and adapt / replicate the correlation calculations \n",
        "# ... when you get to Challenge 2 Question B\n",
        "\n",
        "# this is just an example dataframe, \n",
        "# where column a and b are closely correlated,\n",
        "# and also including a NaN val in each column (to help us practice computing correlation even with null values)\n",
        "example_df = pd.DataFrame({\n",
        "    \"col_a\": [1,2,3,4,5,6, None],\n",
        "    \"col_b\": [101,198,305,402,497,595, None],\n",
        "    \"col_c\": [9, 4, 2, 100, 88, 44, None]\n",
        "})\n",
        "example_df"
      ],
      "metadata": {
        "colab": {
          "base_uri": "https://localhost:8080/",
          "height": 268
        },
        "id": "ggbQaWXECC4_",
        "outputId": "2794192d-a9ff-4679-8e97-8f722ef756df"
      },
      "execution_count": 3,
      "outputs": [
        {
          "output_type": "execute_result",
          "data": {
            "text/plain": [
              "   col_a  col_b  col_c\n",
              "0    1.0  101.0    9.0\n",
              "1    2.0  198.0    4.0\n",
              "2    3.0  305.0    2.0\n",
              "3    4.0  402.0  100.0\n",
              "4    5.0  497.0   88.0\n",
              "5    6.0  595.0   44.0\n",
              "6    NaN    NaN    NaN"
            ],
            "text/html": [
              "\n",
              "  <div id=\"df-6c46cf89-9c56-4295-9d77-62b06c261afc\">\n",
              "    <div class=\"colab-df-container\">\n",
              "      <div>\n",
              "<style scoped>\n",
              "    .dataframe tbody tr th:only-of-type {\n",
              "        vertical-align: middle;\n",
              "    }\n",
              "\n",
              "    .dataframe tbody tr th {\n",
              "        vertical-align: top;\n",
              "    }\n",
              "\n",
              "    .dataframe thead th {\n",
              "        text-align: right;\n",
              "    }\n",
              "</style>\n",
              "<table border=\"1\" class=\"dataframe\">\n",
              "  <thead>\n",
              "    <tr style=\"text-align: right;\">\n",
              "      <th></th>\n",
              "      <th>col_a</th>\n",
              "      <th>col_b</th>\n",
              "      <th>col_c</th>\n",
              "    </tr>\n",
              "  </thead>\n",
              "  <tbody>\n",
              "    <tr>\n",
              "      <th>0</th>\n",
              "      <td>1.0</td>\n",
              "      <td>101.0</td>\n",
              "      <td>9.0</td>\n",
              "    </tr>\n",
              "    <tr>\n",
              "      <th>1</th>\n",
              "      <td>2.0</td>\n",
              "      <td>198.0</td>\n",
              "      <td>4.0</td>\n",
              "    </tr>\n",
              "    <tr>\n",
              "      <th>2</th>\n",
              "      <td>3.0</td>\n",
              "      <td>305.0</td>\n",
              "      <td>2.0</td>\n",
              "    </tr>\n",
              "    <tr>\n",
              "      <th>3</th>\n",
              "      <td>4.0</td>\n",
              "      <td>402.0</td>\n",
              "      <td>100.0</td>\n",
              "    </tr>\n",
              "    <tr>\n",
              "      <th>4</th>\n",
              "      <td>5.0</td>\n",
              "      <td>497.0</td>\n",
              "      <td>88.0</td>\n",
              "    </tr>\n",
              "    <tr>\n",
              "      <th>5</th>\n",
              "      <td>6.0</td>\n",
              "      <td>595.0</td>\n",
              "      <td>44.0</td>\n",
              "    </tr>\n",
              "    <tr>\n",
              "      <th>6</th>\n",
              "      <td>NaN</td>\n",
              "      <td>NaN</td>\n",
              "      <td>NaN</td>\n",
              "    </tr>\n",
              "  </tbody>\n",
              "</table>\n",
              "</div>\n",
              "      <button class=\"colab-df-convert\" onclick=\"convertToInteractive('df-6c46cf89-9c56-4295-9d77-62b06c261afc')\"\n",
              "              title=\"Convert this dataframe to an interactive table.\"\n",
              "              style=\"display:none;\">\n",
              "        \n",
              "  <svg xmlns=\"http://www.w3.org/2000/svg\" height=\"24px\"viewBox=\"0 0 24 24\"\n",
              "       width=\"24px\">\n",
              "    <path d=\"M0 0h24v24H0V0z\" fill=\"none\"/>\n",
              "    <path d=\"M18.56 5.44l.94 2.06.94-2.06 2.06-.94-2.06-.94-.94-2.06-.94 2.06-2.06.94zm-11 1L8.5 8.5l.94-2.06 2.06-.94-2.06-.94L8.5 2.5l-.94 2.06-2.06.94zm10 10l.94 2.06.94-2.06 2.06-.94-2.06-.94-.94-2.06-.94 2.06-2.06.94z\"/><path d=\"M17.41 7.96l-1.37-1.37c-.4-.4-.92-.59-1.43-.59-.52 0-1.04.2-1.43.59L10.3 9.45l-7.72 7.72c-.78.78-.78 2.05 0 2.83L4 21.41c.39.39.9.59 1.41.59.51 0 1.02-.2 1.41-.59l7.78-7.78 2.81-2.81c.8-.78.8-2.07 0-2.86zM5.41 20L4 18.59l7.72-7.72 1.47 1.35L5.41 20z\"/>\n",
              "  </svg>\n",
              "      </button>\n",
              "      \n",
              "  <style>\n",
              "    .colab-df-container {\n",
              "      display:flex;\n",
              "      flex-wrap:wrap;\n",
              "      gap: 12px;\n",
              "    }\n",
              "\n",
              "    .colab-df-convert {\n",
              "      background-color: #E8F0FE;\n",
              "      border: none;\n",
              "      border-radius: 50%;\n",
              "      cursor: pointer;\n",
              "      display: none;\n",
              "      fill: #1967D2;\n",
              "      height: 32px;\n",
              "      padding: 0 0 0 0;\n",
              "      width: 32px;\n",
              "    }\n",
              "\n",
              "    .colab-df-convert:hover {\n",
              "      background-color: #E2EBFA;\n",
              "      box-shadow: 0px 1px 2px rgba(60, 64, 67, 0.3), 0px 1px 3px 1px rgba(60, 64, 67, 0.15);\n",
              "      fill: #174EA6;\n",
              "    }\n",
              "\n",
              "    [theme=dark] .colab-df-convert {\n",
              "      background-color: #3B4455;\n",
              "      fill: #D2E3FC;\n",
              "    }\n",
              "\n",
              "    [theme=dark] .colab-df-convert:hover {\n",
              "      background-color: #434B5C;\n",
              "      box-shadow: 0px 1px 3px 1px rgba(0, 0, 0, 0.15);\n",
              "      filter: drop-shadow(0px 1px 2px rgba(0, 0, 0, 0.3));\n",
              "      fill: #FFFFFF;\n",
              "    }\n",
              "  </style>\n",
              "\n",
              "      <script>\n",
              "        const buttonEl =\n",
              "          document.querySelector('#df-6c46cf89-9c56-4295-9d77-62b06c261afc button.colab-df-convert');\n",
              "        buttonEl.style.display =\n",
              "          google.colab.kernel.accessAllowed ? 'block' : 'none';\n",
              "\n",
              "        async function convertToInteractive(key) {\n",
              "          const element = document.querySelector('#df-6c46cf89-9c56-4295-9d77-62b06c261afc');\n",
              "          const dataTable =\n",
              "            await google.colab.kernel.invokeFunction('convertToInteractive',\n",
              "                                                     [key], {});\n",
              "          if (!dataTable) return;\n",
              "\n",
              "          const docLinkHtml = 'Like what you see? Visit the ' +\n",
              "            '<a target=\"_blank\" href=https://colab.research.google.com/notebooks/data_table.ipynb>data table notebook</a>'\n",
              "            + ' to learn more about interactive tables.';\n",
              "          element.innerHTML = '';\n",
              "          dataTable['output_type'] = 'display_data';\n",
              "          await google.colab.output.renderOutput(dataTable, element);\n",
              "          const docLink = document.createElement('div');\n",
              "          docLink.innerHTML = docLinkHtml;\n",
              "          element.appendChild(docLink);\n",
              "        }\n",
              "      </script>\n",
              "    </div>\n",
              "  </div>\n",
              "  "
            ]
          },
          "metadata": {},
          "execution_count": 3
        }
      ]
    },
    {
      "cell_type": "code",
      "source": [
        "# option a) pair-wise correlation matrix using DataFrame corr() method\n",
        "\n",
        "example_df.corr()"
      ],
      "metadata": {
        "colab": {
          "base_uri": "https://localhost:8080/",
          "height": 143
        },
        "id": "7EhHd3cwCDIV",
        "outputId": "056593bb-9af7-4583-bbec-5fa09dd93d6f"
      },
      "execution_count": 4,
      "outputs": [
        {
          "output_type": "execute_result",
          "data": {
            "text/plain": [
              "          col_a     col_b     col_c\n",
              "col_a  1.000000  0.999858  0.640007\n",
              "col_b  0.999858  1.000000  0.641870\n",
              "col_c  0.640007  0.641870  1.000000"
            ],
            "text/html": [
              "\n",
              "  <div id=\"df-36776536-2d0f-4354-9c91-1776df423727\">\n",
              "    <div class=\"colab-df-container\">\n",
              "      <div>\n",
              "<style scoped>\n",
              "    .dataframe tbody tr th:only-of-type {\n",
              "        vertical-align: middle;\n",
              "    }\n",
              "\n",
              "    .dataframe tbody tr th {\n",
              "        vertical-align: top;\n",
              "    }\n",
              "\n",
              "    .dataframe thead th {\n",
              "        text-align: right;\n",
              "    }\n",
              "</style>\n",
              "<table border=\"1\" class=\"dataframe\">\n",
              "  <thead>\n",
              "    <tr style=\"text-align: right;\">\n",
              "      <th></th>\n",
              "      <th>col_a</th>\n",
              "      <th>col_b</th>\n",
              "      <th>col_c</th>\n",
              "    </tr>\n",
              "  </thead>\n",
              "  <tbody>\n",
              "    <tr>\n",
              "      <th>col_a</th>\n",
              "      <td>1.000000</td>\n",
              "      <td>0.999858</td>\n",
              "      <td>0.640007</td>\n",
              "    </tr>\n",
              "    <tr>\n",
              "      <th>col_b</th>\n",
              "      <td>0.999858</td>\n",
              "      <td>1.000000</td>\n",
              "      <td>0.641870</td>\n",
              "    </tr>\n",
              "    <tr>\n",
              "      <th>col_c</th>\n",
              "      <td>0.640007</td>\n",
              "      <td>0.641870</td>\n",
              "      <td>1.000000</td>\n",
              "    </tr>\n",
              "  </tbody>\n",
              "</table>\n",
              "</div>\n",
              "      <button class=\"colab-df-convert\" onclick=\"convertToInteractive('df-36776536-2d0f-4354-9c91-1776df423727')\"\n",
              "              title=\"Convert this dataframe to an interactive table.\"\n",
              "              style=\"display:none;\">\n",
              "        \n",
              "  <svg xmlns=\"http://www.w3.org/2000/svg\" height=\"24px\"viewBox=\"0 0 24 24\"\n",
              "       width=\"24px\">\n",
              "    <path d=\"M0 0h24v24H0V0z\" fill=\"none\"/>\n",
              "    <path d=\"M18.56 5.44l.94 2.06.94-2.06 2.06-.94-2.06-.94-.94-2.06-.94 2.06-2.06.94zm-11 1L8.5 8.5l.94-2.06 2.06-.94-2.06-.94L8.5 2.5l-.94 2.06-2.06.94zm10 10l.94 2.06.94-2.06 2.06-.94-2.06-.94-.94-2.06-.94 2.06-2.06.94z\"/><path d=\"M17.41 7.96l-1.37-1.37c-.4-.4-.92-.59-1.43-.59-.52 0-1.04.2-1.43.59L10.3 9.45l-7.72 7.72c-.78.78-.78 2.05 0 2.83L4 21.41c.39.39.9.59 1.41.59.51 0 1.02-.2 1.41-.59l7.78-7.78 2.81-2.81c.8-.78.8-2.07 0-2.86zM5.41 20L4 18.59l7.72-7.72 1.47 1.35L5.41 20z\"/>\n",
              "  </svg>\n",
              "      </button>\n",
              "      \n",
              "  <style>\n",
              "    .colab-df-container {\n",
              "      display:flex;\n",
              "      flex-wrap:wrap;\n",
              "      gap: 12px;\n",
              "    }\n",
              "\n",
              "    .colab-df-convert {\n",
              "      background-color: #E8F0FE;\n",
              "      border: none;\n",
              "      border-radius: 50%;\n",
              "      cursor: pointer;\n",
              "      display: none;\n",
              "      fill: #1967D2;\n",
              "      height: 32px;\n",
              "      padding: 0 0 0 0;\n",
              "      width: 32px;\n",
              "    }\n",
              "\n",
              "    .colab-df-convert:hover {\n",
              "      background-color: #E2EBFA;\n",
              "      box-shadow: 0px 1px 2px rgba(60, 64, 67, 0.3), 0px 1px 3px 1px rgba(60, 64, 67, 0.15);\n",
              "      fill: #174EA6;\n",
              "    }\n",
              "\n",
              "    [theme=dark] .colab-df-convert {\n",
              "      background-color: #3B4455;\n",
              "      fill: #D2E3FC;\n",
              "    }\n",
              "\n",
              "    [theme=dark] .colab-df-convert:hover {\n",
              "      background-color: #434B5C;\n",
              "      box-shadow: 0px 1px 3px 1px rgba(0, 0, 0, 0.15);\n",
              "      filter: drop-shadow(0px 1px 2px rgba(0, 0, 0, 0.3));\n",
              "      fill: #FFFFFF;\n",
              "    }\n",
              "  </style>\n",
              "\n",
              "      <script>\n",
              "        const buttonEl =\n",
              "          document.querySelector('#df-36776536-2d0f-4354-9c91-1776df423727 button.colab-df-convert');\n",
              "        buttonEl.style.display =\n",
              "          google.colab.kernel.accessAllowed ? 'block' : 'none';\n",
              "\n",
              "        async function convertToInteractive(key) {\n",
              "          const element = document.querySelector('#df-36776536-2d0f-4354-9c91-1776df423727');\n",
              "          const dataTable =\n",
              "            await google.colab.kernel.invokeFunction('convertToInteractive',\n",
              "                                                     [key], {});\n",
              "          if (!dataTable) return;\n",
              "\n",
              "          const docLinkHtml = 'Like what you see? Visit the ' +\n",
              "            '<a target=\"_blank\" href=https://colab.research.google.com/notebooks/data_table.ipynb>data table notebook</a>'\n",
              "            + ' to learn more about interactive tables.';\n",
              "          element.innerHTML = '';\n",
              "          dataTable['output_type'] = 'display_data';\n",
              "          await google.colab.output.renderOutput(dataTable, element);\n",
              "          const docLink = document.createElement('div');\n",
              "          docLink.innerHTML = docLinkHtml;\n",
              "          element.appendChild(docLink);\n",
              "        }\n",
              "      </script>\n",
              "    </div>\n",
              "  </div>\n",
              "  "
            ]
          },
          "metadata": {},
          "execution_count": 4
        }
      ]
    },
    {
      "cell_type": "code",
      "source": [
        "# option b) use scipy \n",
        "# ... either the spearman or the pearson methodology would be fine for this assignment\n",
        "# ... https://docs.scipy.org/doc/scipy/reference/generated/scipy.stats.pearsonr.html\n",
        "# ... https://docs.scipy.org/doc/scipy/reference/generated/scipy.stats.spearmanr.html\n",
        "\n",
        "from scipy.stats import spearmanr, pearsonr\n",
        "\n",
        "print(\"---------------------\")\n",
        "print(\"SPEARMAN CORRELATION...\")\n",
        "corr_results = spearmanr(example_df[\"col_a\"], example_df[\"col_b\"], nan_policy=\"omit\")\n",
        "print(corr_results)\n",
        "\n",
        "print(\"---------------------\")\n",
        "print(\"PEARSON CORRELATION...\") \n",
        "example_df.dropna(inplace=True) # for pearson we need to drop NaNs beforehand\n",
        "corr_results = pearsonr(example_df[\"col_a\"], example_df[\"col_b\"])\n",
        "print(corr_results) #> (correlation, pvalue)"
      ],
      "metadata": {
        "colab": {
          "base_uri": "https://localhost:8080/"
        },
        "id": "tVX6wb9qYsm5",
        "outputId": "c9f5dd5f-0926-48b1-aeab-d6accd28b9bd"
      },
      "execution_count": 5,
      "outputs": [
        {
          "output_type": "stream",
          "name": "stdout",
          "text": [
            "---------------------\n",
            "SPEARMAN CORRELATION...\n",
            "SpearmanrResult(correlation=1.0, pvalue=0.0)\n",
            "---------------------\n",
            "PEARSON CORRELATION...\n",
            "(0.999857633165385, 3.0401030629471845e-08)\n"
          ]
        }
      ]
    },
    {
      "cell_type": "markdown",
      "source": [
        "# Challenges"
      ],
      "metadata": {
        "id": "0o-hSqgvnxFq"
      }
    },
    {
      "cell_type": "markdown",
      "source": [
        "> NOTE: all challenges adapted from material created by Prof. Ram Yamarthy (2021)."
      ],
      "metadata": {
        "id": "Uoc_Uo0WnyPR"
      }
    },
    {
      "cell_type": "markdown",
      "source": [
        "## 1) Consumer Spending Over Time \n"
      ],
      "metadata": {
        "id": "osFSXPdmRnsI"
      }
    },
    {
      "cell_type": "markdown",
      "metadata": {
        "id": "93396e15"
      },
      "source": [
        "\n",
        "Here we examine trends that exist in real, quarterly U.S. consumer spending. We'll work with the dataset called \"ConsumerSpending.xlsx\" which comes from the U.S. Bureau of Economic Analysis.\n",
        "\n",
        "(a) Load the data. What columns do you see in the dataset? If necessary, convert the `\"Date\"` column to a pandas datetime object, using `pd.to datetime()`. Then also add a column called `\"Quarter\"` indicating which quarter the data pertains to. \n",
        "\n",
        "> HINT: for a dataframe called `df` with a `\"Date\"` column that is a pandas datetime object, try `df[\"Date\"].dt.quarter`\n",
        "\n",
        "\n",
        "\n",
        "(b) Plot the time series of total retail sales, with `\"Date\"` on the x-axis and `\"RealPCE\"` on the y-axis. What do you see? From a basic visual inspection, is there a clear trend and / or seasonality?\n",
        "\n",
        "(c) Given the evidence for a trend, estimate a linear regression using the `statsmodels` package. Display the regression results (i.e. use the summary function).\n",
        "\n",
        "(d) Plot the true `\"RealPCE\"` values against the fitted / predicted values from the regression. \n",
        "\n",
        "(e) Also plot the residuals obtained from the regression results. \n",
        "\n",
        "(f) Using the residuals obtained from the regression results, show evidence that there are quarterly, seasonal effects.\n",
        "\n",
        "> HINT: use the `groupby()` method\n",
        "\n",
        "(g) Show evidence that consumer spending has become more seasonal after 1990, relative to the pre-1990 period. One way to do this is to compute quarterly effects in the pre- and post- 1990 periods, and compare their relative volatilities across quarters.\n",
        "\n",
        "> HINT: use row filtering approaches to arrive at two different subsets of the data, and perform the analysis on each subset\n",
        "\n",
        "**OPTIONAL FURTHER EXPLORATION:**\n",
        "\n",
        "(h) Optionally repeat parts (d) through (g), but this time using values predicted by a non-parametric trend line smoothing function such as the `lowess`.\n",
        "\n"
      ]
    },
    {
      "cell_type": "markdown",
      "source": [
        "### A) LOAD AND CLEAN DATA"
      ],
      "metadata": {
        "id": "kbSrXdU-X-L6"
      }
    },
    {
      "cell_type": "code",
      "source": [
        "# LOAD THE DATA\n",
        "\n",
        "file_name = \"ConsumerSpending.xlsx\"\n",
        "spending_df = pd.read_excel(f\"https://github.com/s2t2/msfo-833-prep/blob/main/data/{file_name}?raw=true\")\n",
        "spending_df.head()"
      ],
      "metadata": {
        "id": "idwQSt0SWi_y",
        "colab": {
          "base_uri": "https://localhost:8080/",
          "height": 206
        },
        "outputId": "409dd15a-6d4e-4f0d-cb5f-6d50be537ad4"
      },
      "execution_count": 6,
      "outputs": [
        {
          "output_type": "execute_result",
          "data": {
            "text/plain": [
              "        Date  NominalPCE  PCEDeflator        RealPCE\n",
              "0 1947-03-31       36748       12.225  300597.137014\n",
              "1 1947-06-30       39831       12.322  323251.095601\n",
              "2 1947-09-30       39991       12.552  318602.613129\n",
              "3 1947-12-31       45282       12.865  351978.235523\n",
              "4 1948-03-31       40579       13.007  311978.165603"
            ],
            "text/html": [
              "\n",
              "  <div id=\"df-966e7236-a8b4-4453-afaf-a3150a11374b\">\n",
              "    <div class=\"colab-df-container\">\n",
              "      <div>\n",
              "<style scoped>\n",
              "    .dataframe tbody tr th:only-of-type {\n",
              "        vertical-align: middle;\n",
              "    }\n",
              "\n",
              "    .dataframe tbody tr th {\n",
              "        vertical-align: top;\n",
              "    }\n",
              "\n",
              "    .dataframe thead th {\n",
              "        text-align: right;\n",
              "    }\n",
              "</style>\n",
              "<table border=\"1\" class=\"dataframe\">\n",
              "  <thead>\n",
              "    <tr style=\"text-align: right;\">\n",
              "      <th></th>\n",
              "      <th>Date</th>\n",
              "      <th>NominalPCE</th>\n",
              "      <th>PCEDeflator</th>\n",
              "      <th>RealPCE</th>\n",
              "    </tr>\n",
              "  </thead>\n",
              "  <tbody>\n",
              "    <tr>\n",
              "      <th>0</th>\n",
              "      <td>1947-03-31</td>\n",
              "      <td>36748</td>\n",
              "      <td>12.225</td>\n",
              "      <td>300597.137014</td>\n",
              "    </tr>\n",
              "    <tr>\n",
              "      <th>1</th>\n",
              "      <td>1947-06-30</td>\n",
              "      <td>39831</td>\n",
              "      <td>12.322</td>\n",
              "      <td>323251.095601</td>\n",
              "    </tr>\n",
              "    <tr>\n",
              "      <th>2</th>\n",
              "      <td>1947-09-30</td>\n",
              "      <td>39991</td>\n",
              "      <td>12.552</td>\n",
              "      <td>318602.613129</td>\n",
              "    </tr>\n",
              "    <tr>\n",
              "      <th>3</th>\n",
              "      <td>1947-12-31</td>\n",
              "      <td>45282</td>\n",
              "      <td>12.865</td>\n",
              "      <td>351978.235523</td>\n",
              "    </tr>\n",
              "    <tr>\n",
              "      <th>4</th>\n",
              "      <td>1948-03-31</td>\n",
              "      <td>40579</td>\n",
              "      <td>13.007</td>\n",
              "      <td>311978.165603</td>\n",
              "    </tr>\n",
              "  </tbody>\n",
              "</table>\n",
              "</div>\n",
              "      <button class=\"colab-df-convert\" onclick=\"convertToInteractive('df-966e7236-a8b4-4453-afaf-a3150a11374b')\"\n",
              "              title=\"Convert this dataframe to an interactive table.\"\n",
              "              style=\"display:none;\">\n",
              "        \n",
              "  <svg xmlns=\"http://www.w3.org/2000/svg\" height=\"24px\"viewBox=\"0 0 24 24\"\n",
              "       width=\"24px\">\n",
              "    <path d=\"M0 0h24v24H0V0z\" fill=\"none\"/>\n",
              "    <path d=\"M18.56 5.44l.94 2.06.94-2.06 2.06-.94-2.06-.94-.94-2.06-.94 2.06-2.06.94zm-11 1L8.5 8.5l.94-2.06 2.06-.94-2.06-.94L8.5 2.5l-.94 2.06-2.06.94zm10 10l.94 2.06.94-2.06 2.06-.94-2.06-.94-.94-2.06-.94 2.06-2.06.94z\"/><path d=\"M17.41 7.96l-1.37-1.37c-.4-.4-.92-.59-1.43-.59-.52 0-1.04.2-1.43.59L10.3 9.45l-7.72 7.72c-.78.78-.78 2.05 0 2.83L4 21.41c.39.39.9.59 1.41.59.51 0 1.02-.2 1.41-.59l7.78-7.78 2.81-2.81c.8-.78.8-2.07 0-2.86zM5.41 20L4 18.59l7.72-7.72 1.47 1.35L5.41 20z\"/>\n",
              "  </svg>\n",
              "      </button>\n",
              "      \n",
              "  <style>\n",
              "    .colab-df-container {\n",
              "      display:flex;\n",
              "      flex-wrap:wrap;\n",
              "      gap: 12px;\n",
              "    }\n",
              "\n",
              "    .colab-df-convert {\n",
              "      background-color: #E8F0FE;\n",
              "      border: none;\n",
              "      border-radius: 50%;\n",
              "      cursor: pointer;\n",
              "      display: none;\n",
              "      fill: #1967D2;\n",
              "      height: 32px;\n",
              "      padding: 0 0 0 0;\n",
              "      width: 32px;\n",
              "    }\n",
              "\n",
              "    .colab-df-convert:hover {\n",
              "      background-color: #E2EBFA;\n",
              "      box-shadow: 0px 1px 2px rgba(60, 64, 67, 0.3), 0px 1px 3px 1px rgba(60, 64, 67, 0.15);\n",
              "      fill: #174EA6;\n",
              "    }\n",
              "\n",
              "    [theme=dark] .colab-df-convert {\n",
              "      background-color: #3B4455;\n",
              "      fill: #D2E3FC;\n",
              "    }\n",
              "\n",
              "    [theme=dark] .colab-df-convert:hover {\n",
              "      background-color: #434B5C;\n",
              "      box-shadow: 0px 1px 3px 1px rgba(0, 0, 0, 0.15);\n",
              "      filter: drop-shadow(0px 1px 2px rgba(0, 0, 0, 0.3));\n",
              "      fill: #FFFFFF;\n",
              "    }\n",
              "  </style>\n",
              "\n",
              "      <script>\n",
              "        const buttonEl =\n",
              "          document.querySelector('#df-966e7236-a8b4-4453-afaf-a3150a11374b button.colab-df-convert');\n",
              "        buttonEl.style.display =\n",
              "          google.colab.kernel.accessAllowed ? 'block' : 'none';\n",
              "\n",
              "        async function convertToInteractive(key) {\n",
              "          const element = document.querySelector('#df-966e7236-a8b4-4453-afaf-a3150a11374b');\n",
              "          const dataTable =\n",
              "            await google.colab.kernel.invokeFunction('convertToInteractive',\n",
              "                                                     [key], {});\n",
              "          if (!dataTable) return;\n",
              "\n",
              "          const docLinkHtml = 'Like what you see? Visit the ' +\n",
              "            '<a target=\"_blank\" href=https://colab.research.google.com/notebooks/data_table.ipynb>data table notebook</a>'\n",
              "            + ' to learn more about interactive tables.';\n",
              "          element.innerHTML = '';\n",
              "          dataTable['output_type'] = 'display_data';\n",
              "          await google.colab.output.renderOutput(dataTable, element);\n",
              "          const docLink = document.createElement('div');\n",
              "          docLink.innerHTML = docLinkHtml;\n",
              "          element.appendChild(docLink);\n",
              "        }\n",
              "      </script>\n",
              "    </div>\n",
              "  </div>\n",
              "  "
            ]
          },
          "metadata": {},
          "execution_count": 6
        }
      ]
    },
    {
      "cell_type": "code",
      "execution_count": 7,
      "metadata": {
        "id": "7712c48f",
        "colab": {
          "base_uri": "https://localhost:8080/"
        },
        "outputId": "ac61b83a-d3ce-47d1-b6e3-a669ad437d5e"
      },
      "outputs": [
        {
          "output_type": "execute_result",
          "data": {
            "text/plain": [
              "Date           datetime64[ns]\n",
              "NominalPCE              int64\n",
              "PCEDeflator           float64\n",
              "RealPCE               float64\n",
              "dtype: object"
            ]
          },
          "metadata": {},
          "execution_count": 7
        }
      ],
      "source": [
        "spending_df.dtypes"
      ]
    },
    {
      "cell_type": "code",
      "source": [
        "spending_df['Quarter'] = spending_df['Date'].dt.quarter\n",
        "spending_df.head()"
      ],
      "metadata": {
        "id": "YfiaUuwL-ItH",
        "colab": {
          "base_uri": "https://localhost:8080/",
          "height": 206
        },
        "outputId": "5dd75afb-4fe8-498f-c477-2f222bbe9584"
      },
      "execution_count": 8,
      "outputs": [
        {
          "output_type": "execute_result",
          "data": {
            "text/plain": [
              "        Date  NominalPCE  PCEDeflator        RealPCE  Quarter\n",
              "0 1947-03-31       36748       12.225  300597.137014        1\n",
              "1 1947-06-30       39831       12.322  323251.095601        2\n",
              "2 1947-09-30       39991       12.552  318602.613129        3\n",
              "3 1947-12-31       45282       12.865  351978.235523        4\n",
              "4 1948-03-31       40579       13.007  311978.165603        1"
            ],
            "text/html": [
              "\n",
              "  <div id=\"df-81084d8f-9b7e-4f60-958c-0a557d24a27b\">\n",
              "    <div class=\"colab-df-container\">\n",
              "      <div>\n",
              "<style scoped>\n",
              "    .dataframe tbody tr th:only-of-type {\n",
              "        vertical-align: middle;\n",
              "    }\n",
              "\n",
              "    .dataframe tbody tr th {\n",
              "        vertical-align: top;\n",
              "    }\n",
              "\n",
              "    .dataframe thead th {\n",
              "        text-align: right;\n",
              "    }\n",
              "</style>\n",
              "<table border=\"1\" class=\"dataframe\">\n",
              "  <thead>\n",
              "    <tr style=\"text-align: right;\">\n",
              "      <th></th>\n",
              "      <th>Date</th>\n",
              "      <th>NominalPCE</th>\n",
              "      <th>PCEDeflator</th>\n",
              "      <th>RealPCE</th>\n",
              "      <th>Quarter</th>\n",
              "    </tr>\n",
              "  </thead>\n",
              "  <tbody>\n",
              "    <tr>\n",
              "      <th>0</th>\n",
              "      <td>1947-03-31</td>\n",
              "      <td>36748</td>\n",
              "      <td>12.225</td>\n",
              "      <td>300597.137014</td>\n",
              "      <td>1</td>\n",
              "    </tr>\n",
              "    <tr>\n",
              "      <th>1</th>\n",
              "      <td>1947-06-30</td>\n",
              "      <td>39831</td>\n",
              "      <td>12.322</td>\n",
              "      <td>323251.095601</td>\n",
              "      <td>2</td>\n",
              "    </tr>\n",
              "    <tr>\n",
              "      <th>2</th>\n",
              "      <td>1947-09-30</td>\n",
              "      <td>39991</td>\n",
              "      <td>12.552</td>\n",
              "      <td>318602.613129</td>\n",
              "      <td>3</td>\n",
              "    </tr>\n",
              "    <tr>\n",
              "      <th>3</th>\n",
              "      <td>1947-12-31</td>\n",
              "      <td>45282</td>\n",
              "      <td>12.865</td>\n",
              "      <td>351978.235523</td>\n",
              "      <td>4</td>\n",
              "    </tr>\n",
              "    <tr>\n",
              "      <th>4</th>\n",
              "      <td>1948-03-31</td>\n",
              "      <td>40579</td>\n",
              "      <td>13.007</td>\n",
              "      <td>311978.165603</td>\n",
              "      <td>1</td>\n",
              "    </tr>\n",
              "  </tbody>\n",
              "</table>\n",
              "</div>\n",
              "      <button class=\"colab-df-convert\" onclick=\"convertToInteractive('df-81084d8f-9b7e-4f60-958c-0a557d24a27b')\"\n",
              "              title=\"Convert this dataframe to an interactive table.\"\n",
              "              style=\"display:none;\">\n",
              "        \n",
              "  <svg xmlns=\"http://www.w3.org/2000/svg\" height=\"24px\"viewBox=\"0 0 24 24\"\n",
              "       width=\"24px\">\n",
              "    <path d=\"M0 0h24v24H0V0z\" fill=\"none\"/>\n",
              "    <path d=\"M18.56 5.44l.94 2.06.94-2.06 2.06-.94-2.06-.94-.94-2.06-.94 2.06-2.06.94zm-11 1L8.5 8.5l.94-2.06 2.06-.94-2.06-.94L8.5 2.5l-.94 2.06-2.06.94zm10 10l.94 2.06.94-2.06 2.06-.94-2.06-.94-.94-2.06-.94 2.06-2.06.94z\"/><path d=\"M17.41 7.96l-1.37-1.37c-.4-.4-.92-.59-1.43-.59-.52 0-1.04.2-1.43.59L10.3 9.45l-7.72 7.72c-.78.78-.78 2.05 0 2.83L4 21.41c.39.39.9.59 1.41.59.51 0 1.02-.2 1.41-.59l7.78-7.78 2.81-2.81c.8-.78.8-2.07 0-2.86zM5.41 20L4 18.59l7.72-7.72 1.47 1.35L5.41 20z\"/>\n",
              "  </svg>\n",
              "      </button>\n",
              "      \n",
              "  <style>\n",
              "    .colab-df-container {\n",
              "      display:flex;\n",
              "      flex-wrap:wrap;\n",
              "      gap: 12px;\n",
              "    }\n",
              "\n",
              "    .colab-df-convert {\n",
              "      background-color: #E8F0FE;\n",
              "      border: none;\n",
              "      border-radius: 50%;\n",
              "      cursor: pointer;\n",
              "      display: none;\n",
              "      fill: #1967D2;\n",
              "      height: 32px;\n",
              "      padding: 0 0 0 0;\n",
              "      width: 32px;\n",
              "    }\n",
              "\n",
              "    .colab-df-convert:hover {\n",
              "      background-color: #E2EBFA;\n",
              "      box-shadow: 0px 1px 2px rgba(60, 64, 67, 0.3), 0px 1px 3px 1px rgba(60, 64, 67, 0.15);\n",
              "      fill: #174EA6;\n",
              "    }\n",
              "\n",
              "    [theme=dark] .colab-df-convert {\n",
              "      background-color: #3B4455;\n",
              "      fill: #D2E3FC;\n",
              "    }\n",
              "\n",
              "    [theme=dark] .colab-df-convert:hover {\n",
              "      background-color: #434B5C;\n",
              "      box-shadow: 0px 1px 3px 1px rgba(0, 0, 0, 0.15);\n",
              "      filter: drop-shadow(0px 1px 2px rgba(0, 0, 0, 0.3));\n",
              "      fill: #FFFFFF;\n",
              "    }\n",
              "  </style>\n",
              "\n",
              "      <script>\n",
              "        const buttonEl =\n",
              "          document.querySelector('#df-81084d8f-9b7e-4f60-958c-0a557d24a27b button.colab-df-convert');\n",
              "        buttonEl.style.display =\n",
              "          google.colab.kernel.accessAllowed ? 'block' : 'none';\n",
              "\n",
              "        async function convertToInteractive(key) {\n",
              "          const element = document.querySelector('#df-81084d8f-9b7e-4f60-958c-0a557d24a27b');\n",
              "          const dataTable =\n",
              "            await google.colab.kernel.invokeFunction('convertToInteractive',\n",
              "                                                     [key], {});\n",
              "          if (!dataTable) return;\n",
              "\n",
              "          const docLinkHtml = 'Like what you see? Visit the ' +\n",
              "            '<a target=\"_blank\" href=https://colab.research.google.com/notebooks/data_table.ipynb>data table notebook</a>'\n",
              "            + ' to learn more about interactive tables.';\n",
              "          element.innerHTML = '';\n",
              "          dataTable['output_type'] = 'display_data';\n",
              "          await google.colab.output.renderOutput(dataTable, element);\n",
              "          const docLink = document.createElement('div');\n",
              "          docLink.innerHTML = docLinkHtml;\n",
              "          element.appendChild(docLink);\n",
              "        }\n",
              "      </script>\n",
              "    </div>\n",
              "  </div>\n",
              "  "
            ]
          },
          "metadata": {},
          "execution_count": 8
        }
      ]
    },
    {
      "cell_type": "markdown",
      "source": [
        "### B) VISUALIZATION OF TRENDS"
      ],
      "metadata": {
        "id": "dT3phl7jYDWW"
      }
    },
    {
      "cell_type": "code",
      "execution_count": 9,
      "metadata": {
        "colab": {
          "base_uri": "https://localhost:8080/",
          "height": 542
        },
        "id": "fcf4eb53",
        "outputId": "259591e5-12ff-400e-e7fb-81e7f8f7db85"
      },
      "outputs": [
        {
          "output_type": "display_data",
          "data": {
            "text/html": [
              "<html>\n",
              "<head><meta charset=\"utf-8\" /></head>\n",
              "<body>\n",
              "    <div>            <script src=\"https://cdnjs.cloudflare.com/ajax/libs/mathjax/2.7.5/MathJax.js?config=TeX-AMS-MML_SVG\"></script><script type=\"text/javascript\">if (window.MathJax) {MathJax.Hub.Config({SVG: {font: \"STIX-Web\"}});}</script>                <script type=\"text/javascript\">window.PlotlyConfig = {MathJaxConfig: 'local'};</script>\n",
              "        <script src=\"https://cdn.plot.ly/plotly-2.8.3.min.js\"></script>                <div id=\"d091c375-27d0-45dd-8157-6dc4d741ccfc\" class=\"plotly-graph-div\" style=\"height:525px; width:100%;\"></div>            <script type=\"text/javascript\">                                    window.PLOTLYENV=window.PLOTLYENV || {};                                    if (document.getElementById(\"d091c375-27d0-45dd-8157-6dc4d741ccfc\")) {                    Plotly.newPlot(                        \"d091c375-27d0-45dd-8157-6dc4d741ccfc\",                        [{\"hovertemplate\":\"Date=%{x}<br>RealPCE=%{y}<extra></extra>\",\"legendgroup\":\"\",\"marker\":{\"color\":\"#636efa\",\"symbol\":\"circle\"},\"mode\":\"markers\",\"name\":\"\",\"orientation\":\"v\",\"showlegend\":false,\"x\":[\"1947-03-31T00:00:00\",\"1947-06-30T00:00:00\",\"1947-09-30T00:00:00\",\"1947-12-31T00:00:00\",\"1948-03-31T00:00:00\",\"1948-06-30T00:00:00\",\"1948-09-30T00:00:00\",\"1948-12-31T00:00:00\",\"1949-03-31T00:00:00\",\"1949-06-30T00:00:00\",\"1949-09-30T00:00:00\",\"1949-12-31T00:00:00\",\"1950-03-31T00:00:00\",\"1950-06-30T00:00:00\",\"1950-09-30T00:00:00\",\"1950-12-31T00:00:00\",\"1951-03-31T00:00:00\",\"1951-06-30T00:00:00\",\"1951-09-30T00:00:00\",\"1951-12-31T00:00:00\",\"1952-03-31T00:00:00\",\"1952-06-30T00:00:00\",\"1952-09-30T00:00:00\",\"1952-12-31T00:00:00\",\"1953-03-31T00:00:00\",\"1953-06-30T00:00:00\",\"1953-09-30T00:00:00\",\"1953-12-31T00:00:00\",\"1954-03-31T00:00:00\",\"1954-06-30T00:00:00\",\"1954-09-30T00:00:00\",\"1954-12-31T00:00:00\",\"1955-03-31T00:00:00\",\"1955-06-30T00:00:00\",\"1955-09-30T00:00:00\",\"1955-12-31T00:00:00\",\"1956-03-31T00:00:00\",\"1956-06-30T00:00:00\",\"1956-09-30T00:00:00\",\"1956-12-31T00:00:00\",\"1957-03-31T00:00:00\",\"1957-06-30T00:00:00\",\"1957-09-30T00:00:00\",\"1957-12-31T00:00:00\",\"1958-03-31T00:00:00\",\"1958-06-30T00:00:00\",\"1958-09-30T00:00:00\",\"1958-12-31T00:00:00\",\"1959-03-31T00:00:00\",\"1959-06-30T00:00:00\",\"1959-09-30T00:00:00\",\"1959-12-31T00:00:00\",\"1960-03-31T00:00:00\",\"1960-06-30T00:00:00\",\"1960-09-30T00:00:00\",\"1960-12-31T00:00:00\",\"1961-03-31T00:00:00\",\"1961-06-30T00:00:00\",\"1961-09-30T00:00:00\",\"1961-12-31T00:00:00\",\"1962-03-31T00:00:00\",\"1962-06-30T00:00:00\",\"1962-09-30T00:00:00\",\"1962-12-31T00:00:00\",\"1963-03-31T00:00:00\",\"1963-06-30T00:00:00\",\"1963-09-30T00:00:00\",\"1963-12-31T00:00:00\",\"1964-03-31T00:00:00\",\"1964-06-30T00:00:00\",\"1964-09-30T00:00:00\",\"1964-12-31T00:00:00\",\"1965-03-31T00:00:00\",\"1965-06-30T00:00:00\",\"1965-09-30T00:00:00\",\"1965-12-31T00:00:00\",\"1966-03-31T00:00:00\",\"1966-06-30T00:00:00\",\"1966-09-30T00:00:00\",\"1966-12-31T00:00:00\",\"1967-03-31T00:00:00\",\"1967-06-30T00:00:00\",\"1967-09-30T00:00:00\",\"1967-12-31T00:00:00\",\"1968-03-31T00:00:00\",\"1968-06-30T00:00:00\",\"1968-09-30T00:00:00\",\"1968-12-31T00:00:00\",\"1969-03-31T00:00:00\",\"1969-06-30T00:00:00\",\"1969-09-30T00:00:00\",\"1969-12-31T00:00:00\",\"1970-03-31T00:00:00\",\"1970-06-30T00:00:00\",\"1970-09-30T00:00:00\",\"1970-12-31T00:00:00\",\"1971-03-31T00:00:00\",\"1971-06-30T00:00:00\",\"1971-09-30T00:00:00\",\"1971-12-31T00:00:00\",\"1972-03-31T00:00:00\",\"1972-06-30T00:00:00\",\"1972-09-30T00:00:00\",\"1972-12-31T00:00:00\",\"1973-03-31T00:00:00\",\"1973-06-30T00:00:00\",\"1973-09-30T00:00:00\",\"1973-12-31T00:00:00\",\"1974-03-31T00:00:00\",\"1974-06-30T00:00:00\",\"1974-09-30T00:00:00\",\"1974-12-31T00:00:00\",\"1975-03-31T00:00:00\",\"1975-06-30T00:00:00\",\"1975-09-30T00:00:00\",\"1975-12-31T00:00:00\",\"1976-03-31T00:00:00\",\"1976-06-30T00:00:00\",\"1976-09-30T00:00:00\",\"1976-12-31T00:00:00\",\"1977-03-31T00:00:00\",\"1977-06-30T00:00:00\",\"1977-09-30T00:00:00\",\"1977-12-31T00:00:00\",\"1978-03-31T00:00:00\",\"1978-06-30T00:00:00\",\"1978-09-30T00:00:00\",\"1978-12-31T00:00:00\",\"1979-03-31T00:00:00\",\"1979-06-30T00:00:00\",\"1979-09-30T00:00:00\",\"1979-12-31T00:00:00\",\"1980-03-31T00:00:00\",\"1980-06-30T00:00:00\",\"1980-09-30T00:00:00\",\"1980-12-31T00:00:00\",\"1981-03-31T00:00:00\",\"1981-06-30T00:00:00\",\"1981-09-30T00:00:00\",\"1981-12-31T00:00:00\",\"1982-03-31T00:00:00\",\"1982-06-30T00:00:00\",\"1982-09-30T00:00:00\",\"1982-12-31T00:00:00\",\"1983-03-31T00:00:00\",\"1983-06-30T00:00:00\",\"1983-09-30T00:00:00\",\"1983-12-31T00:00:00\",\"1984-03-31T00:00:00\",\"1984-06-30T00:00:00\",\"1984-09-30T00:00:00\",\"1984-12-31T00:00:00\",\"1985-03-31T00:00:00\",\"1985-06-30T00:00:00\",\"1985-09-30T00:00:00\",\"1985-12-31T00:00:00\",\"1986-03-31T00:00:00\",\"1986-06-30T00:00:00\",\"1986-09-30T00:00:00\",\"1986-12-31T00:00:00\",\"1987-03-31T00:00:00\",\"1987-06-30T00:00:00\",\"1987-09-30T00:00:00\",\"1987-12-31T00:00:00\",\"1988-03-31T00:00:00\",\"1988-06-30T00:00:00\",\"1988-09-30T00:00:00\",\"1988-12-31T00:00:00\",\"1989-03-31T00:00:00\",\"1989-06-30T00:00:00\",\"1989-09-30T00:00:00\",\"1989-12-31T00:00:00\",\"1990-03-31T00:00:00\",\"1990-06-30T00:00:00\",\"1990-09-30T00:00:00\",\"1990-12-31T00:00:00\",\"1991-03-31T00:00:00\",\"1991-06-30T00:00:00\",\"1991-09-30T00:00:00\",\"1991-12-31T00:00:00\",\"1992-03-31T00:00:00\",\"1992-06-30T00:00:00\",\"1992-09-30T00:00:00\",\"1992-12-31T00:00:00\",\"1993-03-31T00:00:00\",\"1993-06-30T00:00:00\",\"1993-09-30T00:00:00\",\"1993-12-31T00:00:00\",\"1994-03-31T00:00:00\",\"1994-06-30T00:00:00\",\"1994-09-30T00:00:00\",\"1994-12-31T00:00:00\",\"1995-03-31T00:00:00\",\"1995-06-30T00:00:00\",\"1995-09-30T00:00:00\",\"1995-12-31T00:00:00\",\"1996-03-31T00:00:00\",\"1996-06-30T00:00:00\",\"1996-09-30T00:00:00\",\"1996-12-31T00:00:00\",\"1997-03-31T00:00:00\",\"1997-06-30T00:00:00\",\"1997-09-30T00:00:00\",\"1997-12-31T00:00:00\",\"1998-03-31T00:00:00\",\"1998-06-30T00:00:00\",\"1998-09-30T00:00:00\",\"1998-12-31T00:00:00\",\"1999-03-31T00:00:00\",\"1999-06-30T00:00:00\",\"1999-09-30T00:00:00\",\"1999-12-31T00:00:00\",\"2000-03-31T00:00:00\",\"2000-06-30T00:00:00\",\"2000-09-30T00:00:00\",\"2000-12-31T00:00:00\",\"2001-03-31T00:00:00\",\"2001-06-30T00:00:00\",\"2001-09-30T00:00:00\",\"2001-12-31T00:00:00\",\"2002-03-31T00:00:00\",\"2002-06-30T00:00:00\",\"2002-09-30T00:00:00\",\"2002-12-31T00:00:00\",\"2003-03-31T00:00:00\",\"2003-06-30T00:00:00\",\"2003-09-30T00:00:00\",\"2003-12-31T00:00:00\",\"2004-03-31T00:00:00\",\"2004-06-30T00:00:00\",\"2004-09-30T00:00:00\",\"2004-12-31T00:00:00\",\"2005-03-31T00:00:00\",\"2005-06-30T00:00:00\",\"2005-09-30T00:00:00\",\"2005-12-31T00:00:00\",\"2006-03-31T00:00:00\",\"2006-06-30T00:00:00\",\"2006-09-30T00:00:00\",\"2006-12-31T00:00:00\",\"2007-03-31T00:00:00\",\"2007-06-30T00:00:00\",\"2007-09-30T00:00:00\",\"2007-12-31T00:00:00\",\"2008-03-31T00:00:00\",\"2008-06-30T00:00:00\",\"2008-09-30T00:00:00\",\"2008-12-31T00:00:00\",\"2009-03-31T00:00:00\",\"2009-06-30T00:00:00\",\"2009-09-30T00:00:00\",\"2009-12-31T00:00:00\",\"2010-03-31T00:00:00\",\"2010-06-30T00:00:00\",\"2010-09-30T00:00:00\",\"2010-12-31T00:00:00\",\"2011-03-31T00:00:00\",\"2011-06-30T00:00:00\",\"2011-09-30T00:00:00\",\"2011-12-31T00:00:00\",\"2012-03-31T00:00:00\",\"2012-06-30T00:00:00\",\"2012-09-30T00:00:00\",\"2012-12-31T00:00:00\",\"2013-03-31T00:00:00\",\"2013-06-30T00:00:00\",\"2013-09-30T00:00:00\",\"2013-12-31T00:00:00\",\"2014-03-31T00:00:00\",\"2014-06-30T00:00:00\",\"2014-09-30T00:00:00\",\"2014-12-31T00:00:00\",\"2015-03-31T00:00:00\",\"2015-06-30T00:00:00\",\"2015-09-30T00:00:00\",\"2015-12-31T00:00:00\",\"2016-03-31T00:00:00\",\"2016-06-30T00:00:00\",\"2016-09-30T00:00:00\",\"2016-12-31T00:00:00\",\"2017-03-31T00:00:00\",\"2017-06-30T00:00:00\",\"2017-09-30T00:00:00\",\"2017-12-31T00:00:00\",\"2018-03-31T00:00:00\",\"2018-06-30T00:00:00\",\"2018-09-30T00:00:00\",\"2018-12-31T00:00:00\",\"2019-03-31T00:00:00\",\"2019-06-30T00:00:00\",\"2019-09-30T00:00:00\",\"2019-12-31T00:00:00\",\"2020-03-31T00:00:00\",\"2020-06-30T00:00:00\",\"2020-09-30T00:00:00\",\"2020-12-31T00:00:00\",\"2021-03-31T00:00:00\",\"2021-06-30T00:00:00\",\"2021-09-30T00:00:00\"],\"xaxis\":\"x\",\"y\":[300597.13701431494,323251.09560136346,318602.6131293818,351978.2355227361,311978.16560313676,327476.79196469334,324807.0149141872,360276.65012780036,314706.77375359903,338405.24470193626,337228.74012729083,371701.5887635275,332177.4565585115,354427.182980026,370629.6851574213,390941.8955740481,355883.8221651324,359595.10157853755,359642.30171073094,396246.42433544964,351462.5165010769,373759.5552466991,371706.7108533555,421236.55913978495,376007.6907230653,398203.6338704148,390636.9339879978,425183.3242802825,377536.81934873667,402029.49533216073,399619.90090273536,444503.3292566925,403298.34067050455,433511.50202977,431771.92154748266,474566.4739884393,427639.0655331682,443679.7659418844,439536.4151191887,482939.4435351882,434152.9877376241,456276.1910901941,456660.4847477137,491156.6357042881,435828.30568124686,457003.95207327016,457312.10430640006,504521.51009657595,463350.98100280284,491296.52605459053,485306.4496238747,520268.6127805715,478288.8290053896,508761.34771217935,495429.4385432473,531550.6405607929,484931.83737483417,511993.2432432432,506882.66410194756,551759.3370961931,509284.9455936865,539648.4956806672,530879.3820558527,577258.4562525917,529072.6520968695,560303.1375324369,556649.8415306961,600052.6285012573,560179.2573623561,590603.9488966318,592666.1264181524,636300.6980903479,588624.9928115476,626932.5399095955,626251.2826359594,688775.2202330207,631412.136250846,663934.8847616916,665591.5172375506,712753.4156015865,650953.0348805274,688458.8048767154,686539.1907263963,727810.3013051185,682844.3877551021,721322.601010101,730674.3035667796,777289.1131939439,714056.2044167899,752852.8982222894,753701.4925373134,799911.4739585896,734853.4201954398,770135.115641679,773893.9949521407,812829.6742043156,754857.4888226527,798742.8624055994,801609.7405262439,854849.528643945,796241.4782920703,845154.960981048,853589.4262222616,911991.9323014865,856441.6912146941,894959.4117897063,890191.1678771185,932617.5869120655,845154.4999602828,892537.9475493416,891451.3520628832,914287.2863326241,850354.6865435166,902180.7961862747,912324.5093245792,960209.5139962219,907065.9374256887,952258.7165234968,955367.1566512925,1012788.2668060364,949032.5685865555,987601.7414347909,996145.9563622801,1056231.8041126535,985339.9668325041,1036745.8488447675,1043105.6008826689,1097999.5440556253,1031911.6207523423,1055377.9979854627,1058170.8548052914,1116315.680273873,1043665.0216537415,1041787.7067512103,1050452.6788501719,1112771.541724275,1038201.5029350633,1069985.3981803886,1074608.822489392,1125104.4841097086,1053001.87012317,1079394.0426256733,1083207.9149810302,1156213.717034334,1086703.4074317794,1142477.5334705438,1155116.8590852409,1235220.1886189259,1166718.0581910184,1208370.690836482,1205130.3469443258,1282774.7316395089,1214794.1075449376,1266990.9712100849,1281600.1502488498,1351139.5426908873,1268510.5279727401,1317957.844391302,1336267.242015195,1403570.708459353,1304376.4073509118,1371757.9769056442,1381640.3257131658,1448402.1410779585,1370431.5210151786,1420385.2021357743,1431977.0528298654,1513197.8232491906,1413423.279979888,1463032.9088804366,1477074.7024396658,1549990.2133489922,1452496.8648509597,1501935.8230832962,1507499.7640099432,1560043.166361293,1448651.529193698,1502123.148774043,1512203.0122228495,1570776.2695430857,1496174.402673853,1548466.9917142773,1565111.1639519678,1646054.2822143836,1543018.1039288752,1606085.68930341,1622349.748977045,1702436.7020125515,1609808.2341440977,1666662.8545288197,1680857.0130865532,1767356.0782651692,1652617.6685598604,1721991.4460626729,1734860.3803001198,1813823.211464368,1719977.9477637652,1782111.1719605695,1790462.4277456645,1870866.0564371985,1780816.4145703577,1834797.2836683926,1865359.9066536122,1952721.4385988368,1854927.073167471,1946343.5464930073,1966437.39939069,2060824.7969852977,1964663.4265206396,2049196.0652629086,2067114.9992796995,2162190.0261647208,2085906.3089120162,2155788.7296793675,2163810.362879542,2253006.5259896903,2148522.962141453,2207728.2990466636,2205962.888665998,2307654.8068126272,2205633.380028017,2256598.877632102,2273752.7945554033,2369229.6343652415,2255181.795998048,2327277.4920162843,2355726.429488267,2455386.9883234724,2355356.523610796,2407910.7721911417,2430612.3896315736,2553358.8824039567,2427858.824077742,2506026.816729192,2532658.625153213,2625423.6132419626,2510419.21041921,2584418.7427854175,2590801.2595831803,2699741.4263901114,2584696.604890548,2647856.751724893,2652515.0554847703,2752068.7350423667,2644296.285207126,2678327.8619082915,2643605.2725329534,2688645.051376244,2566024.87135506,2620182.5947677516,2632563.7626597383,2695643.114226179,2587351.7910870225,2673014.3610785464,2687016.2975344756,2768006.8097121445,2652239.482000762,2725323.397792026,2725884.549430256,2793781.225348409,2698602.473551485,2760717.2209192775,2752881.1560601215,2834526.211180124,2714369.1762306043,2793133.7139690677,2800672.1264622696,2902860.8161422657,2768660.1422097203,2862679.7931892397,2883733.4160310896,2999774.908071292,2867534.4160715505,2961752.586315555,2979761.870218302,3083421.7609356544,2949676.7950454806,3033797.805537124,3048463.7714482797,3154605.614463346,3005114.3206668627,3110337.8819257286,3122496.278570217,3244592.001946636,3097921.9547571894,3205832.871140691,3218205.8557977555,3322029.1238083,3150633.839610622,3274392.9420119636,3292603.6899832934,3407401.178980869,3163269.518504498,2936098.8677810864,3194424.6120728315,3335229.2020373517,3225905.1075506774,3418226.974458184,3428117.9294384844],\"yaxis\":\"y\",\"type\":\"scatter\"},{\"hovertemplate\":\"<b>OLS trendline</b><br>RealPCE = 0.00133731 * Date + 859969<br>R<sup>2</sup>=0.954217<br><br>Date=%{x}<br>RealPCE=%{y} <b>(trend)</b><extra></extra>\",\"legendgroup\":\"\",\"line\":{\"color\":\"red\"},\"marker\":{\"color\":\"#636efa\",\"symbol\":\"circle\"},\"mode\":\"lines\",\"name\":\"\",\"showlegend\":false,\"x\":[\"1947-03-31T00:00:00\",\"1947-06-30T00:00:00\",\"1947-09-30T00:00:00\",\"1947-12-31T00:00:00\",\"1948-03-31T00:00:00\",\"1948-06-30T00:00:00\",\"1948-09-30T00:00:00\",\"1948-12-31T00:00:00\",\"1949-03-31T00:00:00\",\"1949-06-30T00:00:00\",\"1949-09-30T00:00:00\",\"1949-12-31T00:00:00\",\"1950-03-31T00:00:00\",\"1950-06-30T00:00:00\",\"1950-09-30T00:00:00\",\"1950-12-31T00:00:00\",\"1951-03-31T00:00:00\",\"1951-06-30T00:00:00\",\"1951-09-30T00:00:00\",\"1951-12-31T00:00:00\",\"1952-03-31T00:00:00\",\"1952-06-30T00:00:00\",\"1952-09-30T00:00:00\",\"1952-12-31T00:00:00\",\"1953-03-31T00:00:00\",\"1953-06-30T00:00:00\",\"1953-09-30T00:00:00\",\"1953-12-31T00:00:00\",\"1954-03-31T00:00:00\",\"1954-06-30T00:00:00\",\"1954-09-30T00:00:00\",\"1954-12-31T00:00:00\",\"1955-03-31T00:00:00\",\"1955-06-30T00:00:00\",\"1955-09-30T00:00:00\",\"1955-12-31T00:00:00\",\"1956-03-31T00:00:00\",\"1956-06-30T00:00:00\",\"1956-09-30T00:00:00\",\"1956-12-31T00:00:00\",\"1957-03-31T00:00:00\",\"1957-06-30T00:00:00\",\"1957-09-30T00:00:00\",\"1957-12-31T00:00:00\",\"1958-03-31T00:00:00\",\"1958-06-30T00:00:00\",\"1958-09-30T00:00:00\",\"1958-12-31T00:00:00\",\"1959-03-31T00:00:00\",\"1959-06-30T00:00:00\",\"1959-09-30T00:00:00\",\"1959-12-31T00:00:00\",\"1960-03-31T00:00:00\",\"1960-06-30T00:00:00\",\"1960-09-30T00:00:00\",\"1960-12-31T00:00:00\",\"1961-03-31T00:00:00\",\"1961-06-30T00:00:00\",\"1961-09-30T00:00:00\",\"1961-12-31T00:00:00\",\"1962-03-31T00:00:00\",\"1962-06-30T00:00:00\",\"1962-09-30T00:00:00\",\"1962-12-31T00:00:00\",\"1963-03-31T00:00:00\",\"1963-06-30T00:00:00\",\"1963-09-30T00:00:00\",\"1963-12-31T00:00:00\",\"1964-03-31T00:00:00\",\"1964-06-30T00:00:00\",\"1964-09-30T00:00:00\",\"1964-12-31T00:00:00\",\"1965-03-31T00:00:00\",\"1965-06-30T00:00:00\",\"1965-09-30T00:00:00\",\"1965-12-31T00:00:00\",\"1966-03-31T00:00:00\",\"1966-06-30T00:00:00\",\"1966-09-30T00:00:00\",\"1966-12-31T00:00:00\",\"1967-03-31T00:00:00\",\"1967-06-30T00:00:00\",\"1967-09-30T00:00:00\",\"1967-12-31T00:00:00\",\"1968-03-31T00:00:00\",\"1968-06-30T00:00:00\",\"1968-09-30T00:00:00\",\"1968-12-31T00:00:00\",\"1969-03-31T00:00:00\",\"1969-06-30T00:00:00\",\"1969-09-30T00:00:00\",\"1969-12-31T00:00:00\",\"1970-03-31T00:00:00\",\"1970-06-30T00:00:00\",\"1970-09-30T00:00:00\",\"1970-12-31T00:00:00\",\"1971-03-31T00:00:00\",\"1971-06-30T00:00:00\",\"1971-09-30T00:00:00\",\"1971-12-31T00:00:00\",\"1972-03-31T00:00:00\",\"1972-06-30T00:00:00\",\"1972-09-30T00:00:00\",\"1972-12-31T00:00:00\",\"1973-03-31T00:00:00\",\"1973-06-30T00:00:00\",\"1973-09-30T00:00:00\",\"1973-12-31T00:00:00\",\"1974-03-31T00:00:00\",\"1974-06-30T00:00:00\",\"1974-09-30T00:00:00\",\"1974-12-31T00:00:00\",\"1975-03-31T00:00:00\",\"1975-06-30T00:00:00\",\"1975-09-30T00:00:00\",\"1975-12-31T00:00:00\",\"1976-03-31T00:00:00\",\"1976-06-30T00:00:00\",\"1976-09-30T00:00:00\",\"1976-12-31T00:00:00\",\"1977-03-31T00:00:00\",\"1977-06-30T00:00:00\",\"1977-09-30T00:00:00\",\"1977-12-31T00:00:00\",\"1978-03-31T00:00:00\",\"1978-06-30T00:00:00\",\"1978-09-30T00:00:00\",\"1978-12-31T00:00:00\",\"1979-03-31T00:00:00\",\"1979-06-30T00:00:00\",\"1979-09-30T00:00:00\",\"1979-12-31T00:00:00\",\"1980-03-31T00:00:00\",\"1980-06-30T00:00:00\",\"1980-09-30T00:00:00\",\"1980-12-31T00:00:00\",\"1981-03-31T00:00:00\",\"1981-06-30T00:00:00\",\"1981-09-30T00:00:00\",\"1981-12-31T00:00:00\",\"1982-03-31T00:00:00\",\"1982-06-30T00:00:00\",\"1982-09-30T00:00:00\",\"1982-12-31T00:00:00\",\"1983-03-31T00:00:00\",\"1983-06-30T00:00:00\",\"1983-09-30T00:00:00\",\"1983-12-31T00:00:00\",\"1984-03-31T00:00:00\",\"1984-06-30T00:00:00\",\"1984-09-30T00:00:00\",\"1984-12-31T00:00:00\",\"1985-03-31T00:00:00\",\"1985-06-30T00:00:00\",\"1985-09-30T00:00:00\",\"1985-12-31T00:00:00\",\"1986-03-31T00:00:00\",\"1986-06-30T00:00:00\",\"1986-09-30T00:00:00\",\"1986-12-31T00:00:00\",\"1987-03-31T00:00:00\",\"1987-06-30T00:00:00\",\"1987-09-30T00:00:00\",\"1987-12-31T00:00:00\",\"1988-03-31T00:00:00\",\"1988-06-30T00:00:00\",\"1988-09-30T00:00:00\",\"1988-12-31T00:00:00\",\"1989-03-31T00:00:00\",\"1989-06-30T00:00:00\",\"1989-09-30T00:00:00\",\"1989-12-31T00:00:00\",\"1990-03-31T00:00:00\",\"1990-06-30T00:00:00\",\"1990-09-30T00:00:00\",\"1990-12-31T00:00:00\",\"1991-03-31T00:00:00\",\"1991-06-30T00:00:00\",\"1991-09-30T00:00:00\",\"1991-12-31T00:00:00\",\"1992-03-31T00:00:00\",\"1992-06-30T00:00:00\",\"1992-09-30T00:00:00\",\"1992-12-31T00:00:00\",\"1993-03-31T00:00:00\",\"1993-06-30T00:00:00\",\"1993-09-30T00:00:00\",\"1993-12-31T00:00:00\",\"1994-03-31T00:00:00\",\"1994-06-30T00:00:00\",\"1994-09-30T00:00:00\",\"1994-12-31T00:00:00\",\"1995-03-31T00:00:00\",\"1995-06-30T00:00:00\",\"1995-09-30T00:00:00\",\"1995-12-31T00:00:00\",\"1996-03-31T00:00:00\",\"1996-06-30T00:00:00\",\"1996-09-30T00:00:00\",\"1996-12-31T00:00:00\",\"1997-03-31T00:00:00\",\"1997-06-30T00:00:00\",\"1997-09-30T00:00:00\",\"1997-12-31T00:00:00\",\"1998-03-31T00:00:00\",\"1998-06-30T00:00:00\",\"1998-09-30T00:00:00\",\"1998-12-31T00:00:00\",\"1999-03-31T00:00:00\",\"1999-06-30T00:00:00\",\"1999-09-30T00:00:00\",\"1999-12-31T00:00:00\",\"2000-03-31T00:00:00\",\"2000-06-30T00:00:00\",\"2000-09-30T00:00:00\",\"2000-12-31T00:00:00\",\"2001-03-31T00:00:00\",\"2001-06-30T00:00:00\",\"2001-09-30T00:00:00\",\"2001-12-31T00:00:00\",\"2002-03-31T00:00:00\",\"2002-06-30T00:00:00\",\"2002-09-30T00:00:00\",\"2002-12-31T00:00:00\",\"2003-03-31T00:00:00\",\"2003-06-30T00:00:00\",\"2003-09-30T00:00:00\",\"2003-12-31T00:00:00\",\"2004-03-31T00:00:00\",\"2004-06-30T00:00:00\",\"2004-09-30T00:00:00\",\"2004-12-31T00:00:00\",\"2005-03-31T00:00:00\",\"2005-06-30T00:00:00\",\"2005-09-30T00:00:00\",\"2005-12-31T00:00:00\",\"2006-03-31T00:00:00\",\"2006-06-30T00:00:00\",\"2006-09-30T00:00:00\",\"2006-12-31T00:00:00\",\"2007-03-31T00:00:00\",\"2007-06-30T00:00:00\",\"2007-09-30T00:00:00\",\"2007-12-31T00:00:00\",\"2008-03-31T00:00:00\",\"2008-06-30T00:00:00\",\"2008-09-30T00:00:00\",\"2008-12-31T00:00:00\",\"2009-03-31T00:00:00\",\"2009-06-30T00:00:00\",\"2009-09-30T00:00:00\",\"2009-12-31T00:00:00\",\"2010-03-31T00:00:00\",\"2010-06-30T00:00:00\",\"2010-09-30T00:00:00\",\"2010-12-31T00:00:00\",\"2011-03-31T00:00:00\",\"2011-06-30T00:00:00\",\"2011-09-30T00:00:00\",\"2011-12-31T00:00:00\",\"2012-03-31T00:00:00\",\"2012-06-30T00:00:00\",\"2012-09-30T00:00:00\",\"2012-12-31T00:00:00\",\"2013-03-31T00:00:00\",\"2013-06-30T00:00:00\",\"2013-09-30T00:00:00\",\"2013-12-31T00:00:00\",\"2014-03-31T00:00:00\",\"2014-06-30T00:00:00\",\"2014-09-30T00:00:00\",\"2014-12-31T00:00:00\",\"2015-03-31T00:00:00\",\"2015-06-30T00:00:00\",\"2015-09-30T00:00:00\",\"2015-12-31T00:00:00\",\"2016-03-31T00:00:00\",\"2016-06-30T00:00:00\",\"2016-09-30T00:00:00\",\"2016-12-31T00:00:00\",\"2017-03-31T00:00:00\",\"2017-06-30T00:00:00\",\"2017-09-30T00:00:00\",\"2017-12-31T00:00:00\",\"2018-03-31T00:00:00\",\"2018-06-30T00:00:00\",\"2018-09-30T00:00:00\",\"2018-12-31T00:00:00\",\"2019-03-31T00:00:00\",\"2019-06-30T00:00:00\",\"2019-09-30T00:00:00\",\"2019-12-31T00:00:00\",\"2020-03-31T00:00:00\",\"2020-06-30T00:00:00\",\"2020-09-30T00:00:00\",\"2020-12-31T00:00:00\",\"2021-03-31T00:00:00\",\"2021-06-30T00:00:00\",\"2021-09-30T00:00:00\"],\"xaxis\":\"x\",\"y\":[-100431.91636157373,-89917.41797478555,-79287.37564968108,-68657.33332457661,-58142.83493778843,-47628.336551000364,-36998.29422589578,-26368.251900791307,-15969.29745231953,-5454.799065531348,5175.2432595731225,15805.285584677593,26204.24003314937,36718.73841993755,47348.78074504202,57978.82307014649,68377.77751861827,78892.27590540645,89522.31823051092,100152.36055561551,110666.85894240357,121181.35732919176,131811.39965429623,142441.4419794007,152840.39642787247,163354.89481466066,173984.93713976513,184614.9794648697,195013.9339133415,205528.43230012956,216158.47462523414,226788.5169503386,237187.4713988104,247701.96978559857,258332.01211070304,268962.0544358075,279476.5528225957,289991.05120938376,300621.09353448835,311251.1358595928,321650.0903080646,332164.5886948528,342794.63101995725,353424.6733450617,363823.6277935335,374338.1261803217,384968.16850542615,395598.2108305306,405997.16527900245,416511.6636657906,427141.70599089505,437771.7483159996,448286.2467027877,458800.7450895759,469430.78741468035,480060.8297397849,490459.78418825666,500974.2825750448,511604.3249001493,522234.3672252538,532633.3216737255,543147.8200605137,553777.8623856183,564407.9047107226,574806.8591591945,585321.3575459826,595951.3998710872,606581.4421961916,617095.9405829797,627610.4389697679,638240.4812948725,648870.523619977,659269.4780684487,669783.9764552368,680414.0187803414,691044.0611054458,701443.0155539176,711957.5139407058,722587.5562658103,733217.5985909147,743616.5530393865,754131.0514261747,764761.0937512792,775391.1360763836,785905.6344631718,796420.13284996,807050.1751750645,817680.217500169,828079.1719486407,838593.6703354289,849223.7126605334,859853.7549856378,870252.7094341097,880767.2078208978,891397.2501460023,902027.2924711069,912426.2469195786,922940.7453063667,933570.7876314713,944200.8299565758,954715.328343364,965229.826730152,975859.8690552565,986489.9113803611,996888.8658288328,1007403.364215621,1018033.4065407255,1028663.44886583,1039062.4033143017,1049576.90170109,1060206.9440261945,1070836.9863512989,1081235.9407997706,1091750.4391865588,1102380.4815116634,1113010.5238367678,1123525.022223556,1134039.5206103441,1144669.5629354487,1155299.605260553,1165698.5597090248,1176213.058095813,1186843.1004209174,1197473.142746022,1207872.0971944937,1218386.595581282,1229016.6379063865,1239646.6802314909,1250045.6346799626,1260560.1330667508,1271190.1753918554,1281820.2177169598,1292334.716103748,1302849.2144905361,1313479.2568156407,1324109.299140745,1334508.253589217,1345022.751976005,1355652.7943011096,1366282.836626214,1376681.7910746858,1387196.289461474,1397826.3317865785,1408456.374111683,1418855.328560155,1429369.826946943,1439999.8692720474,1450629.9115971518,1461144.40998394,1471658.9083707281,1482288.9506958327,1492918.9930209373,1503317.947469409,1513832.4458561973,1524462.4881813016,1535092.530506406,1545491.4849548778,1556005.983341666,1566636.0256667705,1577266.067991875,1587665.022440347,1598179.520827135,1608809.5631522397,1619439.605477344,1629954.103864132,1640468.6022509201,1651098.6445760247,1661728.6869011293,1672127.641349601,1682642.1397363893,1693272.1820614939,1703902.2243865982,1714301.17883507,1724815.6772218582,1735445.7195469625,1746075.761872067,1756474.716320539,1766989.214707327,1777619.2570324317,1788249.299357536,1798763.7977443242,1809278.2961311124,1819908.3384562167,1830538.3807813213,1840937.335229793,1851451.8336165813,1862081.8759416859,1872711.9182667902,1883110.872715262,1893625.3711020502,1904255.4134271545,1914885.4557522591,1925284.410200731,1935798.908587519,1946428.9509126237,1957058.9932377283,1967573.4916245164,1978087.9900113046,1988718.0323364087,1999348.0746615133,2009747.029109985,2020261.5274967733,2030891.5698218779,2041521.6121469825,2051920.5665954542,2062435.0649822424,2073065.1073073465,2083695.1496324511,2094094.104080923,2104608.602467711,2115238.6447928157,2125868.6871179203,2136383.1855047084,2146897.6838914966,2157527.7262166007,2168157.7685417053,2178556.722990177,2189071.2213769653,2199701.26370207,2210331.3060271745,2220730.2604756462,2231244.7588624344,2241874.801187539,2252504.843512643,2262903.797961115,2273418.296347903,2284048.3386730077,2294678.3809981123,2305192.8793849004,2315707.3777716886,2326337.420096793,2336967.4624218973,2347366.416870369,2357880.9152571573,2368510.957582262,2379140.9999073665,2389539.9543558382,2400054.4527426264,2410684.495067731,2421314.537392835,2431713.4918413074,2442227.990228095,2452858.0325531997,2463488.0748783043,2474002.5732650924,2484517.0716518806,2495147.113976985,2505777.1563020893,2516176.1107505616,2526690.6091373493,2537320.651462454,2547950.6937875585,2558349.6482360302,2568864.1466228184,2579494.188947923,2590124.2312730276,2600523.1857214994,2611037.6841082876,2621667.7264333917,2632297.7687584963,2642812.2671452845,2653326.7655320726,2663956.807857177,2674586.850182282,2684985.8046307536,2695500.3030175418,2706130.345342646,2716760.3876677505,2727159.3421162223,2737673.8405030104,2748303.882828115,2758933.9251532196,2769332.8796016914,2779847.3779884796,2790477.4203135837,2801107.4626386883,2811621.9610254765,2822136.4594122646,2832766.501737369,2843396.544062474,2853795.4985109456,2864309.996897734,2874940.039222838,2885570.0815479425,2895969.0359964143,2906483.5343832024,2917113.576708307,2927743.6190334116,2938142.5734818834,2948657.0718686716,2959287.114193776,2969917.1565188807,2980431.654905669,2990946.1532924566,3001576.195617561,3012206.237942666,3022605.1923911376,3033119.690777926,3043749.7331030304],\"yaxis\":\"y\",\"type\":\"scatter\"}],                        {\"template\":{\"data\":{\"bar\":[{\"error_x\":{\"color\":\"#2a3f5f\"},\"error_y\":{\"color\":\"#2a3f5f\"},\"marker\":{\"line\":{\"color\":\"#E5ECF6\",\"width\":0.5},\"pattern\":{\"fillmode\":\"overlay\",\"size\":10,\"solidity\":0.2}},\"type\":\"bar\"}],\"barpolar\":[{\"marker\":{\"line\":{\"color\":\"#E5ECF6\",\"width\":0.5},\"pattern\":{\"fillmode\":\"overlay\",\"size\":10,\"solidity\":0.2}},\"type\":\"barpolar\"}],\"carpet\":[{\"aaxis\":{\"endlinecolor\":\"#2a3f5f\",\"gridcolor\":\"white\",\"linecolor\":\"white\",\"minorgridcolor\":\"white\",\"startlinecolor\":\"#2a3f5f\"},\"baxis\":{\"endlinecolor\":\"#2a3f5f\",\"gridcolor\":\"white\",\"linecolor\":\"white\",\"minorgridcolor\":\"white\",\"startlinecolor\":\"#2a3f5f\"},\"type\":\"carpet\"}],\"choropleth\":[{\"colorbar\":{\"outlinewidth\":0,\"ticks\":\"\"},\"type\":\"choropleth\"}],\"contour\":[{\"colorbar\":{\"outlinewidth\":0,\"ticks\":\"\"},\"colorscale\":[[0.0,\"#0d0887\"],[0.1111111111111111,\"#46039f\"],[0.2222222222222222,\"#7201a8\"],[0.3333333333333333,\"#9c179e\"],[0.4444444444444444,\"#bd3786\"],[0.5555555555555556,\"#d8576b\"],[0.6666666666666666,\"#ed7953\"],[0.7777777777777778,\"#fb9f3a\"],[0.8888888888888888,\"#fdca26\"],[1.0,\"#f0f921\"]],\"type\":\"contour\"}],\"contourcarpet\":[{\"colorbar\":{\"outlinewidth\":0,\"ticks\":\"\"},\"type\":\"contourcarpet\"}],\"heatmap\":[{\"colorbar\":{\"outlinewidth\":0,\"ticks\":\"\"},\"colorscale\":[[0.0,\"#0d0887\"],[0.1111111111111111,\"#46039f\"],[0.2222222222222222,\"#7201a8\"],[0.3333333333333333,\"#9c179e\"],[0.4444444444444444,\"#bd3786\"],[0.5555555555555556,\"#d8576b\"],[0.6666666666666666,\"#ed7953\"],[0.7777777777777778,\"#fb9f3a\"],[0.8888888888888888,\"#fdca26\"],[1.0,\"#f0f921\"]],\"type\":\"heatmap\"}],\"heatmapgl\":[{\"colorbar\":{\"outlinewidth\":0,\"ticks\":\"\"},\"colorscale\":[[0.0,\"#0d0887\"],[0.1111111111111111,\"#46039f\"],[0.2222222222222222,\"#7201a8\"],[0.3333333333333333,\"#9c179e\"],[0.4444444444444444,\"#bd3786\"],[0.5555555555555556,\"#d8576b\"],[0.6666666666666666,\"#ed7953\"],[0.7777777777777778,\"#fb9f3a\"],[0.8888888888888888,\"#fdca26\"],[1.0,\"#f0f921\"]],\"type\":\"heatmapgl\"}],\"histogram\":[{\"marker\":{\"pattern\":{\"fillmode\":\"overlay\",\"size\":10,\"solidity\":0.2}},\"type\":\"histogram\"}],\"histogram2d\":[{\"colorbar\":{\"outlinewidth\":0,\"ticks\":\"\"},\"colorscale\":[[0.0,\"#0d0887\"],[0.1111111111111111,\"#46039f\"],[0.2222222222222222,\"#7201a8\"],[0.3333333333333333,\"#9c179e\"],[0.4444444444444444,\"#bd3786\"],[0.5555555555555556,\"#d8576b\"],[0.6666666666666666,\"#ed7953\"],[0.7777777777777778,\"#fb9f3a\"],[0.8888888888888888,\"#fdca26\"],[1.0,\"#f0f921\"]],\"type\":\"histogram2d\"}],\"histogram2dcontour\":[{\"colorbar\":{\"outlinewidth\":0,\"ticks\":\"\"},\"colorscale\":[[0.0,\"#0d0887\"],[0.1111111111111111,\"#46039f\"],[0.2222222222222222,\"#7201a8\"],[0.3333333333333333,\"#9c179e\"],[0.4444444444444444,\"#bd3786\"],[0.5555555555555556,\"#d8576b\"],[0.6666666666666666,\"#ed7953\"],[0.7777777777777778,\"#fb9f3a\"],[0.8888888888888888,\"#fdca26\"],[1.0,\"#f0f921\"]],\"type\":\"histogram2dcontour\"}],\"mesh3d\":[{\"colorbar\":{\"outlinewidth\":0,\"ticks\":\"\"},\"type\":\"mesh3d\"}],\"parcoords\":[{\"line\":{\"colorbar\":{\"outlinewidth\":0,\"ticks\":\"\"}},\"type\":\"parcoords\"}],\"pie\":[{\"automargin\":true,\"type\":\"pie\"}],\"scatter\":[{\"marker\":{\"colorbar\":{\"outlinewidth\":0,\"ticks\":\"\"}},\"type\":\"scatter\"}],\"scatter3d\":[{\"line\":{\"colorbar\":{\"outlinewidth\":0,\"ticks\":\"\"}},\"marker\":{\"colorbar\":{\"outlinewidth\":0,\"ticks\":\"\"}},\"type\":\"scatter3d\"}],\"scattercarpet\":[{\"marker\":{\"colorbar\":{\"outlinewidth\":0,\"ticks\":\"\"}},\"type\":\"scattercarpet\"}],\"scattergeo\":[{\"marker\":{\"colorbar\":{\"outlinewidth\":0,\"ticks\":\"\"}},\"type\":\"scattergeo\"}],\"scattergl\":[{\"marker\":{\"colorbar\":{\"outlinewidth\":0,\"ticks\":\"\"}},\"type\":\"scattergl\"}],\"scattermapbox\":[{\"marker\":{\"colorbar\":{\"outlinewidth\":0,\"ticks\":\"\"}},\"type\":\"scattermapbox\"}],\"scatterpolar\":[{\"marker\":{\"colorbar\":{\"outlinewidth\":0,\"ticks\":\"\"}},\"type\":\"scatterpolar\"}],\"scatterpolargl\":[{\"marker\":{\"colorbar\":{\"outlinewidth\":0,\"ticks\":\"\"}},\"type\":\"scatterpolargl\"}],\"scatterternary\":[{\"marker\":{\"colorbar\":{\"outlinewidth\":0,\"ticks\":\"\"}},\"type\":\"scatterternary\"}],\"surface\":[{\"colorbar\":{\"outlinewidth\":0,\"ticks\":\"\"},\"colorscale\":[[0.0,\"#0d0887\"],[0.1111111111111111,\"#46039f\"],[0.2222222222222222,\"#7201a8\"],[0.3333333333333333,\"#9c179e\"],[0.4444444444444444,\"#bd3786\"],[0.5555555555555556,\"#d8576b\"],[0.6666666666666666,\"#ed7953\"],[0.7777777777777778,\"#fb9f3a\"],[0.8888888888888888,\"#fdca26\"],[1.0,\"#f0f921\"]],\"type\":\"surface\"}],\"table\":[{\"cells\":{\"fill\":{\"color\":\"#EBF0F8\"},\"line\":{\"color\":\"white\"}},\"header\":{\"fill\":{\"color\":\"#C8D4E3\"},\"line\":{\"color\":\"white\"}},\"type\":\"table\"}]},\"layout\":{\"annotationdefaults\":{\"arrowcolor\":\"#2a3f5f\",\"arrowhead\":0,\"arrowwidth\":1},\"autotypenumbers\":\"strict\",\"coloraxis\":{\"colorbar\":{\"outlinewidth\":0,\"ticks\":\"\"}},\"colorscale\":{\"diverging\":[[0,\"#8e0152\"],[0.1,\"#c51b7d\"],[0.2,\"#de77ae\"],[0.3,\"#f1b6da\"],[0.4,\"#fde0ef\"],[0.5,\"#f7f7f7\"],[0.6,\"#e6f5d0\"],[0.7,\"#b8e186\"],[0.8,\"#7fbc41\"],[0.9,\"#4d9221\"],[1,\"#276419\"]],\"sequential\":[[0.0,\"#0d0887\"],[0.1111111111111111,\"#46039f\"],[0.2222222222222222,\"#7201a8\"],[0.3333333333333333,\"#9c179e\"],[0.4444444444444444,\"#bd3786\"],[0.5555555555555556,\"#d8576b\"],[0.6666666666666666,\"#ed7953\"],[0.7777777777777778,\"#fb9f3a\"],[0.8888888888888888,\"#fdca26\"],[1.0,\"#f0f921\"]],\"sequentialminus\":[[0.0,\"#0d0887\"],[0.1111111111111111,\"#46039f\"],[0.2222222222222222,\"#7201a8\"],[0.3333333333333333,\"#9c179e\"],[0.4444444444444444,\"#bd3786\"],[0.5555555555555556,\"#d8576b\"],[0.6666666666666666,\"#ed7953\"],[0.7777777777777778,\"#fb9f3a\"],[0.8888888888888888,\"#fdca26\"],[1.0,\"#f0f921\"]]},\"colorway\":[\"#636efa\",\"#EF553B\",\"#00cc96\",\"#ab63fa\",\"#FFA15A\",\"#19d3f3\",\"#FF6692\",\"#B6E880\",\"#FF97FF\",\"#FECB52\"],\"font\":{\"color\":\"#2a3f5f\"},\"geo\":{\"bgcolor\":\"white\",\"lakecolor\":\"white\",\"landcolor\":\"#E5ECF6\",\"showlakes\":true,\"showland\":true,\"subunitcolor\":\"white\"},\"hoverlabel\":{\"align\":\"left\"},\"hovermode\":\"closest\",\"mapbox\":{\"style\":\"light\"},\"paper_bgcolor\":\"white\",\"plot_bgcolor\":\"#E5ECF6\",\"polar\":{\"angularaxis\":{\"gridcolor\":\"white\",\"linecolor\":\"white\",\"ticks\":\"\"},\"bgcolor\":\"#E5ECF6\",\"radialaxis\":{\"gridcolor\":\"white\",\"linecolor\":\"white\",\"ticks\":\"\"}},\"scene\":{\"xaxis\":{\"backgroundcolor\":\"#E5ECF6\",\"gridcolor\":\"white\",\"gridwidth\":2,\"linecolor\":\"white\",\"showbackground\":true,\"ticks\":\"\",\"zerolinecolor\":\"white\"},\"yaxis\":{\"backgroundcolor\":\"#E5ECF6\",\"gridcolor\":\"white\",\"gridwidth\":2,\"linecolor\":\"white\",\"showbackground\":true,\"ticks\":\"\",\"zerolinecolor\":\"white\"},\"zaxis\":{\"backgroundcolor\":\"#E5ECF6\",\"gridcolor\":\"white\",\"gridwidth\":2,\"linecolor\":\"white\",\"showbackground\":true,\"ticks\":\"\",\"zerolinecolor\":\"white\"}},\"shapedefaults\":{\"line\":{\"color\":\"#2a3f5f\"}},\"ternary\":{\"aaxis\":{\"gridcolor\":\"white\",\"linecolor\":\"white\",\"ticks\":\"\"},\"baxis\":{\"gridcolor\":\"white\",\"linecolor\":\"white\",\"ticks\":\"\"},\"bgcolor\":\"#E5ECF6\",\"caxis\":{\"gridcolor\":\"white\",\"linecolor\":\"white\",\"ticks\":\"\"}},\"title\":{\"x\":0.05},\"xaxis\":{\"automargin\":true,\"gridcolor\":\"white\",\"linecolor\":\"white\",\"ticks\":\"\",\"title\":{\"standoff\":15},\"zerolinecolor\":\"white\",\"zerolinewidth\":2},\"yaxis\":{\"automargin\":true,\"gridcolor\":\"white\",\"linecolor\":\"white\",\"ticks\":\"\",\"title\":{\"standoff\":15},\"zerolinecolor\":\"white\",\"zerolinewidth\":2}}},\"xaxis\":{\"anchor\":\"y\",\"domain\":[0.0,1.0],\"title\":{\"text\":\"Date\"}},\"yaxis\":{\"anchor\":\"x\",\"domain\":[0.0,1.0],\"title\":{\"text\":\"RealPCE\"}},\"legend\":{\"tracegroupgap\":0},\"title\":{\"text\":\"Consumer Spending w/ Trend Line (OLS)\"}},                        {\"responsive\": true}                    ).then(function(){\n",
              "                            \n",
              "var gd = document.getElementById('d091c375-27d0-45dd-8157-6dc4d741ccfc');\n",
              "var x = new MutationObserver(function (mutations, observer) {{\n",
              "        var display = window.getComputedStyle(gd).display;\n",
              "        if (!display || display === 'none') {{\n",
              "            console.log([gd, 'removed!']);\n",
              "            Plotly.purge(gd);\n",
              "            observer.disconnect();\n",
              "        }}\n",
              "}});\n",
              "\n",
              "// Listen for the removal of the full notebook cells\n",
              "var notebookContainer = gd.closest('#notebook-container');\n",
              "if (notebookContainer) {{\n",
              "    x.observe(notebookContainer, {childList: true});\n",
              "}}\n",
              "\n",
              "// Listen for the clearing of the current output cell\n",
              "var outputEl = gd.closest('.output');\n",
              "if (outputEl) {{\n",
              "    x.observe(outputEl, {childList: true});\n",
              "}}\n",
              "\n",
              "                        })                };                            </script>        </div>\n",
              "</body>\n",
              "</html>"
            ]
          },
          "metadata": {}
        }
      ],
      "source": [
        "px.scatter(spending_df, x=\"Date\", y=\"RealPCE\", \n",
        "              trendline=\"ols\", trendline_color_override=\"red\",\n",
        "              title=\"Consumer Spending w/ Trend Line (OLS)\"\n",
        ")"
      ]
    },
    {
      "cell_type": "markdown",
      "source": [
        "Yes, we can clearly see the trend of consumer spending increase as the time passes."
      ],
      "metadata": {
        "id": "HDAse7GQRSOe"
      }
    },
    {
      "cell_type": "code",
      "execution_count": 10,
      "metadata": {
        "colab": {
          "base_uri": "https://localhost:8080/",
          "height": 542
        },
        "id": "3b20b8b6",
        "outputId": "08400243-d3bd-4dbb-84f3-11ce91a3156a"
      },
      "outputs": [
        {
          "output_type": "display_data",
          "data": {
            "text/html": [
              "<html>\n",
              "<head><meta charset=\"utf-8\" /></head>\n",
              "<body>\n",
              "    <div>            <script src=\"https://cdnjs.cloudflare.com/ajax/libs/mathjax/2.7.5/MathJax.js?config=TeX-AMS-MML_SVG\"></script><script type=\"text/javascript\">if (window.MathJax) {MathJax.Hub.Config({SVG: {font: \"STIX-Web\"}});}</script>                <script type=\"text/javascript\">window.PlotlyConfig = {MathJaxConfig: 'local'};</script>\n",
              "        <script src=\"https://cdn.plot.ly/plotly-2.8.3.min.js\"></script>                <div id=\"1f556979-b627-4b10-844f-15cd957ab147\" class=\"plotly-graph-div\" style=\"height:525px; width:100%;\"></div>            <script type=\"text/javascript\">                                    window.PLOTLYENV=window.PLOTLYENV || {};                                    if (document.getElementById(\"1f556979-b627-4b10-844f-15cd957ab147\")) {                    Plotly.newPlot(                        \"1f556979-b627-4b10-844f-15cd957ab147\",                        [{\"hovertemplate\":\"Date=%{x}<br>RealPCE=%{y}<extra></extra>\",\"legendgroup\":\"\",\"marker\":{\"color\":\"#636efa\",\"symbol\":\"circle\"},\"mode\":\"markers\",\"name\":\"\",\"orientation\":\"v\",\"showlegend\":false,\"x\":[\"1947-03-31T00:00:00\",\"1947-06-30T00:00:00\",\"1947-09-30T00:00:00\",\"1947-12-31T00:00:00\",\"1948-03-31T00:00:00\",\"1948-06-30T00:00:00\",\"1948-09-30T00:00:00\",\"1948-12-31T00:00:00\",\"1949-03-31T00:00:00\",\"1949-06-30T00:00:00\",\"1949-09-30T00:00:00\",\"1949-12-31T00:00:00\",\"1950-03-31T00:00:00\",\"1950-06-30T00:00:00\",\"1950-09-30T00:00:00\",\"1950-12-31T00:00:00\",\"1951-03-31T00:00:00\",\"1951-06-30T00:00:00\",\"1951-09-30T00:00:00\",\"1951-12-31T00:00:00\",\"1952-03-31T00:00:00\",\"1952-06-30T00:00:00\",\"1952-09-30T00:00:00\",\"1952-12-31T00:00:00\",\"1953-03-31T00:00:00\",\"1953-06-30T00:00:00\",\"1953-09-30T00:00:00\",\"1953-12-31T00:00:00\",\"1954-03-31T00:00:00\",\"1954-06-30T00:00:00\",\"1954-09-30T00:00:00\",\"1954-12-31T00:00:00\",\"1955-03-31T00:00:00\",\"1955-06-30T00:00:00\",\"1955-09-30T00:00:00\",\"1955-12-31T00:00:00\",\"1956-03-31T00:00:00\",\"1956-06-30T00:00:00\",\"1956-09-30T00:00:00\",\"1956-12-31T00:00:00\",\"1957-03-31T00:00:00\",\"1957-06-30T00:00:00\",\"1957-09-30T00:00:00\",\"1957-12-31T00:00:00\",\"1958-03-31T00:00:00\",\"1958-06-30T00:00:00\",\"1958-09-30T00:00:00\",\"1958-12-31T00:00:00\",\"1959-03-31T00:00:00\",\"1959-06-30T00:00:00\",\"1959-09-30T00:00:00\",\"1959-12-31T00:00:00\",\"1960-03-31T00:00:00\",\"1960-06-30T00:00:00\",\"1960-09-30T00:00:00\",\"1960-12-31T00:00:00\",\"1961-03-31T00:00:00\",\"1961-06-30T00:00:00\",\"1961-09-30T00:00:00\",\"1961-12-31T00:00:00\",\"1962-03-31T00:00:00\",\"1962-06-30T00:00:00\",\"1962-09-30T00:00:00\",\"1962-12-31T00:00:00\",\"1963-03-31T00:00:00\",\"1963-06-30T00:00:00\",\"1963-09-30T00:00:00\",\"1963-12-31T00:00:00\",\"1964-03-31T00:00:00\",\"1964-06-30T00:00:00\",\"1964-09-30T00:00:00\",\"1964-12-31T00:00:00\",\"1965-03-31T00:00:00\",\"1965-06-30T00:00:00\",\"1965-09-30T00:00:00\",\"1965-12-31T00:00:00\",\"1966-03-31T00:00:00\",\"1966-06-30T00:00:00\",\"1966-09-30T00:00:00\",\"1966-12-31T00:00:00\",\"1967-03-31T00:00:00\",\"1967-06-30T00:00:00\",\"1967-09-30T00:00:00\",\"1967-12-31T00:00:00\",\"1968-03-31T00:00:00\",\"1968-06-30T00:00:00\",\"1968-09-30T00:00:00\",\"1968-12-31T00:00:00\",\"1969-03-31T00:00:00\",\"1969-06-30T00:00:00\",\"1969-09-30T00:00:00\",\"1969-12-31T00:00:00\",\"1970-03-31T00:00:00\",\"1970-06-30T00:00:00\",\"1970-09-30T00:00:00\",\"1970-12-31T00:00:00\",\"1971-03-31T00:00:00\",\"1971-06-30T00:00:00\",\"1971-09-30T00:00:00\",\"1971-12-31T00:00:00\",\"1972-03-31T00:00:00\",\"1972-06-30T00:00:00\",\"1972-09-30T00:00:00\",\"1972-12-31T00:00:00\",\"1973-03-31T00:00:00\",\"1973-06-30T00:00:00\",\"1973-09-30T00:00:00\",\"1973-12-31T00:00:00\",\"1974-03-31T00:00:00\",\"1974-06-30T00:00:00\",\"1974-09-30T00:00:00\",\"1974-12-31T00:00:00\",\"1975-03-31T00:00:00\",\"1975-06-30T00:00:00\",\"1975-09-30T00:00:00\",\"1975-12-31T00:00:00\",\"1976-03-31T00:00:00\",\"1976-06-30T00:00:00\",\"1976-09-30T00:00:00\",\"1976-12-31T00:00:00\",\"1977-03-31T00:00:00\",\"1977-06-30T00:00:00\",\"1977-09-30T00:00:00\",\"1977-12-31T00:00:00\",\"1978-03-31T00:00:00\",\"1978-06-30T00:00:00\",\"1978-09-30T00:00:00\",\"1978-12-31T00:00:00\",\"1979-03-31T00:00:00\",\"1979-06-30T00:00:00\",\"1979-09-30T00:00:00\",\"1979-12-31T00:00:00\",\"1980-03-31T00:00:00\",\"1980-06-30T00:00:00\",\"1980-09-30T00:00:00\",\"1980-12-31T00:00:00\",\"1981-03-31T00:00:00\",\"1981-06-30T00:00:00\",\"1981-09-30T00:00:00\",\"1981-12-31T00:00:00\",\"1982-03-31T00:00:00\",\"1982-06-30T00:00:00\",\"1982-09-30T00:00:00\",\"1982-12-31T00:00:00\",\"1983-03-31T00:00:00\",\"1983-06-30T00:00:00\",\"1983-09-30T00:00:00\",\"1983-12-31T00:00:00\",\"1984-03-31T00:00:00\",\"1984-06-30T00:00:00\",\"1984-09-30T00:00:00\",\"1984-12-31T00:00:00\",\"1985-03-31T00:00:00\",\"1985-06-30T00:00:00\",\"1985-09-30T00:00:00\",\"1985-12-31T00:00:00\",\"1986-03-31T00:00:00\",\"1986-06-30T00:00:00\",\"1986-09-30T00:00:00\",\"1986-12-31T00:00:00\",\"1987-03-31T00:00:00\",\"1987-06-30T00:00:00\",\"1987-09-30T00:00:00\",\"1987-12-31T00:00:00\",\"1988-03-31T00:00:00\",\"1988-06-30T00:00:00\",\"1988-09-30T00:00:00\",\"1988-12-31T00:00:00\",\"1989-03-31T00:00:00\",\"1989-06-30T00:00:00\",\"1989-09-30T00:00:00\",\"1989-12-31T00:00:00\",\"1990-03-31T00:00:00\",\"1990-06-30T00:00:00\",\"1990-09-30T00:00:00\",\"1990-12-31T00:00:00\",\"1991-03-31T00:00:00\",\"1991-06-30T00:00:00\",\"1991-09-30T00:00:00\",\"1991-12-31T00:00:00\",\"1992-03-31T00:00:00\",\"1992-06-30T00:00:00\",\"1992-09-30T00:00:00\",\"1992-12-31T00:00:00\",\"1993-03-31T00:00:00\",\"1993-06-30T00:00:00\",\"1993-09-30T00:00:00\",\"1993-12-31T00:00:00\",\"1994-03-31T00:00:00\",\"1994-06-30T00:00:00\",\"1994-09-30T00:00:00\",\"1994-12-31T00:00:00\",\"1995-03-31T00:00:00\",\"1995-06-30T00:00:00\",\"1995-09-30T00:00:00\",\"1995-12-31T00:00:00\",\"1996-03-31T00:00:00\",\"1996-06-30T00:00:00\",\"1996-09-30T00:00:00\",\"1996-12-31T00:00:00\",\"1997-03-31T00:00:00\",\"1997-06-30T00:00:00\",\"1997-09-30T00:00:00\",\"1997-12-31T00:00:00\",\"1998-03-31T00:00:00\",\"1998-06-30T00:00:00\",\"1998-09-30T00:00:00\",\"1998-12-31T00:00:00\",\"1999-03-31T00:00:00\",\"1999-06-30T00:00:00\",\"1999-09-30T00:00:00\",\"1999-12-31T00:00:00\",\"2000-03-31T00:00:00\",\"2000-06-30T00:00:00\",\"2000-09-30T00:00:00\",\"2000-12-31T00:00:00\",\"2001-03-31T00:00:00\",\"2001-06-30T00:00:00\",\"2001-09-30T00:00:00\",\"2001-12-31T00:00:00\",\"2002-03-31T00:00:00\",\"2002-06-30T00:00:00\",\"2002-09-30T00:00:00\",\"2002-12-31T00:00:00\",\"2003-03-31T00:00:00\",\"2003-06-30T00:00:00\",\"2003-09-30T00:00:00\",\"2003-12-31T00:00:00\",\"2004-03-31T00:00:00\",\"2004-06-30T00:00:00\",\"2004-09-30T00:00:00\",\"2004-12-31T00:00:00\",\"2005-03-31T00:00:00\",\"2005-06-30T00:00:00\",\"2005-09-30T00:00:00\",\"2005-12-31T00:00:00\",\"2006-03-31T00:00:00\",\"2006-06-30T00:00:00\",\"2006-09-30T00:00:00\",\"2006-12-31T00:00:00\",\"2007-03-31T00:00:00\",\"2007-06-30T00:00:00\",\"2007-09-30T00:00:00\",\"2007-12-31T00:00:00\",\"2008-03-31T00:00:00\",\"2008-06-30T00:00:00\",\"2008-09-30T00:00:00\",\"2008-12-31T00:00:00\",\"2009-03-31T00:00:00\",\"2009-06-30T00:00:00\",\"2009-09-30T00:00:00\",\"2009-12-31T00:00:00\",\"2010-03-31T00:00:00\",\"2010-06-30T00:00:00\",\"2010-09-30T00:00:00\",\"2010-12-31T00:00:00\",\"2011-03-31T00:00:00\",\"2011-06-30T00:00:00\",\"2011-09-30T00:00:00\",\"2011-12-31T00:00:00\",\"2012-03-31T00:00:00\",\"2012-06-30T00:00:00\",\"2012-09-30T00:00:00\",\"2012-12-31T00:00:00\",\"2013-03-31T00:00:00\",\"2013-06-30T00:00:00\",\"2013-09-30T00:00:00\",\"2013-12-31T00:00:00\",\"2014-03-31T00:00:00\",\"2014-06-30T00:00:00\",\"2014-09-30T00:00:00\",\"2014-12-31T00:00:00\",\"2015-03-31T00:00:00\",\"2015-06-30T00:00:00\",\"2015-09-30T00:00:00\",\"2015-12-31T00:00:00\",\"2016-03-31T00:00:00\",\"2016-06-30T00:00:00\",\"2016-09-30T00:00:00\",\"2016-12-31T00:00:00\",\"2017-03-31T00:00:00\",\"2017-06-30T00:00:00\",\"2017-09-30T00:00:00\",\"2017-12-31T00:00:00\",\"2018-03-31T00:00:00\",\"2018-06-30T00:00:00\",\"2018-09-30T00:00:00\",\"2018-12-31T00:00:00\",\"2019-03-31T00:00:00\",\"2019-06-30T00:00:00\",\"2019-09-30T00:00:00\",\"2019-12-31T00:00:00\",\"2020-03-31T00:00:00\",\"2020-06-30T00:00:00\",\"2020-09-30T00:00:00\",\"2020-12-31T00:00:00\",\"2021-03-31T00:00:00\",\"2021-06-30T00:00:00\",\"2021-09-30T00:00:00\"],\"xaxis\":\"x\",\"y\":[300597.13701431494,323251.09560136346,318602.6131293818,351978.2355227361,311978.16560313676,327476.79196469334,324807.0149141872,360276.65012780036,314706.77375359903,338405.24470193626,337228.74012729083,371701.5887635275,332177.4565585115,354427.182980026,370629.6851574213,390941.8955740481,355883.8221651324,359595.10157853755,359642.30171073094,396246.42433544964,351462.5165010769,373759.5552466991,371706.7108533555,421236.55913978495,376007.6907230653,398203.6338704148,390636.9339879978,425183.3242802825,377536.81934873667,402029.49533216073,399619.90090273536,444503.3292566925,403298.34067050455,433511.50202977,431771.92154748266,474566.4739884393,427639.0655331682,443679.7659418844,439536.4151191887,482939.4435351882,434152.9877376241,456276.1910901941,456660.4847477137,491156.6357042881,435828.30568124686,457003.95207327016,457312.10430640006,504521.51009657595,463350.98100280284,491296.52605459053,485306.4496238747,520268.6127805715,478288.8290053896,508761.34771217935,495429.4385432473,531550.6405607929,484931.83737483417,511993.2432432432,506882.66410194756,551759.3370961931,509284.9455936865,539648.4956806672,530879.3820558527,577258.4562525917,529072.6520968695,560303.1375324369,556649.8415306961,600052.6285012573,560179.2573623561,590603.9488966318,592666.1264181524,636300.6980903479,588624.9928115476,626932.5399095955,626251.2826359594,688775.2202330207,631412.136250846,663934.8847616916,665591.5172375506,712753.4156015865,650953.0348805274,688458.8048767154,686539.1907263963,727810.3013051185,682844.3877551021,721322.601010101,730674.3035667796,777289.1131939439,714056.2044167899,752852.8982222894,753701.4925373134,799911.4739585896,734853.4201954398,770135.115641679,773893.9949521407,812829.6742043156,754857.4888226527,798742.8624055994,801609.7405262439,854849.528643945,796241.4782920703,845154.960981048,853589.4262222616,911991.9323014865,856441.6912146941,894959.4117897063,890191.1678771185,932617.5869120655,845154.4999602828,892537.9475493416,891451.3520628832,914287.2863326241,850354.6865435166,902180.7961862747,912324.5093245792,960209.5139962219,907065.9374256887,952258.7165234968,955367.1566512925,1012788.2668060364,949032.5685865555,987601.7414347909,996145.9563622801,1056231.8041126535,985339.9668325041,1036745.8488447675,1043105.6008826689,1097999.5440556253,1031911.6207523423,1055377.9979854627,1058170.8548052914,1116315.680273873,1043665.0216537415,1041787.7067512103,1050452.6788501719,1112771.541724275,1038201.5029350633,1069985.3981803886,1074608.822489392,1125104.4841097086,1053001.87012317,1079394.0426256733,1083207.9149810302,1156213.717034334,1086703.4074317794,1142477.5334705438,1155116.8590852409,1235220.1886189259,1166718.0581910184,1208370.690836482,1205130.3469443258,1282774.7316395089,1214794.1075449376,1266990.9712100849,1281600.1502488498,1351139.5426908873,1268510.5279727401,1317957.844391302,1336267.242015195,1403570.708459353,1304376.4073509118,1371757.9769056442,1381640.3257131658,1448402.1410779585,1370431.5210151786,1420385.2021357743,1431977.0528298654,1513197.8232491906,1413423.279979888,1463032.9088804366,1477074.7024396658,1549990.2133489922,1452496.8648509597,1501935.8230832962,1507499.7640099432,1560043.166361293,1448651.529193698,1502123.148774043,1512203.0122228495,1570776.2695430857,1496174.402673853,1548466.9917142773,1565111.1639519678,1646054.2822143836,1543018.1039288752,1606085.68930341,1622349.748977045,1702436.7020125515,1609808.2341440977,1666662.8545288197,1680857.0130865532,1767356.0782651692,1652617.6685598604,1721991.4460626729,1734860.3803001198,1813823.211464368,1719977.9477637652,1782111.1719605695,1790462.4277456645,1870866.0564371985,1780816.4145703577,1834797.2836683926,1865359.9066536122,1952721.4385988368,1854927.073167471,1946343.5464930073,1966437.39939069,2060824.7969852977,1964663.4265206396,2049196.0652629086,2067114.9992796995,2162190.0261647208,2085906.3089120162,2155788.7296793675,2163810.362879542,2253006.5259896903,2148522.962141453,2207728.2990466636,2205962.888665998,2307654.8068126272,2205633.380028017,2256598.877632102,2273752.7945554033,2369229.6343652415,2255181.795998048,2327277.4920162843,2355726.429488267,2455386.9883234724,2355356.523610796,2407910.7721911417,2430612.3896315736,2553358.8824039567,2427858.824077742,2506026.816729192,2532658.625153213,2625423.6132419626,2510419.21041921,2584418.7427854175,2590801.2595831803,2699741.4263901114,2584696.604890548,2647856.751724893,2652515.0554847703,2752068.7350423667,2644296.285207126,2678327.8619082915,2643605.2725329534,2688645.051376244,2566024.87135506,2620182.5947677516,2632563.7626597383,2695643.114226179,2587351.7910870225,2673014.3610785464,2687016.2975344756,2768006.8097121445,2652239.482000762,2725323.397792026,2725884.549430256,2793781.225348409,2698602.473551485,2760717.2209192775,2752881.1560601215,2834526.211180124,2714369.1762306043,2793133.7139690677,2800672.1264622696,2902860.8161422657,2768660.1422097203,2862679.7931892397,2883733.4160310896,2999774.908071292,2867534.4160715505,2961752.586315555,2979761.870218302,3083421.7609356544,2949676.7950454806,3033797.805537124,3048463.7714482797,3154605.614463346,3005114.3206668627,3110337.8819257286,3122496.278570217,3244592.001946636,3097921.9547571894,3205832.871140691,3218205.8557977555,3322029.1238083,3150633.839610622,3274392.9420119636,3292603.6899832934,3407401.178980869,3163269.518504498,2936098.8677810864,3194424.6120728315,3335229.2020373517,3225905.1075506774,3418226.974458184,3428117.9294384844],\"yaxis\":\"y\",\"type\":\"scatter\"},{\"hovertemplate\":\"<b>LOWESS trendline</b><br><br>Date=%{x}<br>RealPCE=%{y} <b>(trend)</b><extra></extra>\",\"legendgroup\":\"\",\"line\":{\"color\":\"red\"},\"marker\":{\"color\":\"#636efa\",\"symbol\":\"circle\"},\"mode\":\"lines\",\"name\":\"\",\"showlegend\":false,\"x\":[\"1947-03-31T00:00:00\",\"1947-06-30T00:00:00\",\"1947-09-30T00:00:00\",\"1947-12-31T00:00:00\",\"1948-03-31T00:00:00\",\"1948-06-30T00:00:00\",\"1948-09-30T00:00:00\",\"1948-12-31T00:00:00\",\"1949-03-31T00:00:00\",\"1949-06-30T00:00:00\",\"1949-09-30T00:00:00\",\"1949-12-31T00:00:00\",\"1950-03-31T00:00:00\",\"1950-06-30T00:00:00\",\"1950-09-30T00:00:00\",\"1950-12-31T00:00:00\",\"1951-03-31T00:00:00\",\"1951-06-30T00:00:00\",\"1951-09-30T00:00:00\",\"1951-12-31T00:00:00\",\"1952-03-31T00:00:00\",\"1952-06-30T00:00:00\",\"1952-09-30T00:00:00\",\"1952-12-31T00:00:00\",\"1953-03-31T00:00:00\",\"1953-06-30T00:00:00\",\"1953-09-30T00:00:00\",\"1953-12-31T00:00:00\",\"1954-03-31T00:00:00\",\"1954-06-30T00:00:00\",\"1954-09-30T00:00:00\",\"1954-12-31T00:00:00\",\"1955-03-31T00:00:00\",\"1955-06-30T00:00:00\",\"1955-09-30T00:00:00\",\"1955-12-31T00:00:00\",\"1956-03-31T00:00:00\",\"1956-06-30T00:00:00\",\"1956-09-30T00:00:00\",\"1956-12-31T00:00:00\",\"1957-03-31T00:00:00\",\"1957-06-30T00:00:00\",\"1957-09-30T00:00:00\",\"1957-12-31T00:00:00\",\"1958-03-31T00:00:00\",\"1958-06-30T00:00:00\",\"1958-09-30T00:00:00\",\"1958-12-31T00:00:00\",\"1959-03-31T00:00:00\",\"1959-06-30T00:00:00\",\"1959-09-30T00:00:00\",\"1959-12-31T00:00:00\",\"1960-03-31T00:00:00\",\"1960-06-30T00:00:00\",\"1960-09-30T00:00:00\",\"1960-12-31T00:00:00\",\"1961-03-31T00:00:00\",\"1961-06-30T00:00:00\",\"1961-09-30T00:00:00\",\"1961-12-31T00:00:00\",\"1962-03-31T00:00:00\",\"1962-06-30T00:00:00\",\"1962-09-30T00:00:00\",\"1962-12-31T00:00:00\",\"1963-03-31T00:00:00\",\"1963-06-30T00:00:00\",\"1963-09-30T00:00:00\",\"1963-12-31T00:00:00\",\"1964-03-31T00:00:00\",\"1964-06-30T00:00:00\",\"1964-09-30T00:00:00\",\"1964-12-31T00:00:00\",\"1965-03-31T00:00:00\",\"1965-06-30T00:00:00\",\"1965-09-30T00:00:00\",\"1965-12-31T00:00:00\",\"1966-03-31T00:00:00\",\"1966-06-30T00:00:00\",\"1966-09-30T00:00:00\",\"1966-12-31T00:00:00\",\"1967-03-31T00:00:00\",\"1967-06-30T00:00:00\",\"1967-09-30T00:00:00\",\"1967-12-31T00:00:00\",\"1968-03-31T00:00:00\",\"1968-06-30T00:00:00\",\"1968-09-30T00:00:00\",\"1968-12-31T00:00:00\",\"1969-03-31T00:00:00\",\"1969-06-30T00:00:00\",\"1969-09-30T00:00:00\",\"1969-12-31T00:00:00\",\"1970-03-31T00:00:00\",\"1970-06-30T00:00:00\",\"1970-09-30T00:00:00\",\"1970-12-31T00:00:00\",\"1971-03-31T00:00:00\",\"1971-06-30T00:00:00\",\"1971-09-30T00:00:00\",\"1971-12-31T00:00:00\",\"1972-03-31T00:00:00\",\"1972-06-30T00:00:00\",\"1972-09-30T00:00:00\",\"1972-12-31T00:00:00\",\"1973-03-31T00:00:00\",\"1973-06-30T00:00:00\",\"1973-09-30T00:00:00\",\"1973-12-31T00:00:00\",\"1974-03-31T00:00:00\",\"1974-06-30T00:00:00\",\"1974-09-30T00:00:00\",\"1974-12-31T00:00:00\",\"1975-03-31T00:00:00\",\"1975-06-30T00:00:00\",\"1975-09-30T00:00:00\",\"1975-12-31T00:00:00\",\"1976-03-31T00:00:00\",\"1976-06-30T00:00:00\",\"1976-09-30T00:00:00\",\"1976-12-31T00:00:00\",\"1977-03-31T00:00:00\",\"1977-06-30T00:00:00\",\"1977-09-30T00:00:00\",\"1977-12-31T00:00:00\",\"1978-03-31T00:00:00\",\"1978-06-30T00:00:00\",\"1978-09-30T00:00:00\",\"1978-12-31T00:00:00\",\"1979-03-31T00:00:00\",\"1979-06-30T00:00:00\",\"1979-09-30T00:00:00\",\"1979-12-31T00:00:00\",\"1980-03-31T00:00:00\",\"1980-06-30T00:00:00\",\"1980-09-30T00:00:00\",\"1980-12-31T00:00:00\",\"1981-03-31T00:00:00\",\"1981-06-30T00:00:00\",\"1981-09-30T00:00:00\",\"1981-12-31T00:00:00\",\"1982-03-31T00:00:00\",\"1982-06-30T00:00:00\",\"1982-09-30T00:00:00\",\"1982-12-31T00:00:00\",\"1983-03-31T00:00:00\",\"1983-06-30T00:00:00\",\"1983-09-30T00:00:00\",\"1983-12-31T00:00:00\",\"1984-03-31T00:00:00\",\"1984-06-30T00:00:00\",\"1984-09-30T00:00:00\",\"1984-12-31T00:00:00\",\"1985-03-31T00:00:00\",\"1985-06-30T00:00:00\",\"1985-09-30T00:00:00\",\"1985-12-31T00:00:00\",\"1986-03-31T00:00:00\",\"1986-06-30T00:00:00\",\"1986-09-30T00:00:00\",\"1986-12-31T00:00:00\",\"1987-03-31T00:00:00\",\"1987-06-30T00:00:00\",\"1987-09-30T00:00:00\",\"1987-12-31T00:00:00\",\"1988-03-31T00:00:00\",\"1988-06-30T00:00:00\",\"1988-09-30T00:00:00\",\"1988-12-31T00:00:00\",\"1989-03-31T00:00:00\",\"1989-06-30T00:00:00\",\"1989-09-30T00:00:00\",\"1989-12-31T00:00:00\",\"1990-03-31T00:00:00\",\"1990-06-30T00:00:00\",\"1990-09-30T00:00:00\",\"1990-12-31T00:00:00\",\"1991-03-31T00:00:00\",\"1991-06-30T00:00:00\",\"1991-09-30T00:00:00\",\"1991-12-31T00:00:00\",\"1992-03-31T00:00:00\",\"1992-06-30T00:00:00\",\"1992-09-30T00:00:00\",\"1992-12-31T00:00:00\",\"1993-03-31T00:00:00\",\"1993-06-30T00:00:00\",\"1993-09-30T00:00:00\",\"1993-12-31T00:00:00\",\"1994-03-31T00:00:00\",\"1994-06-30T00:00:00\",\"1994-09-30T00:00:00\",\"1994-12-31T00:00:00\",\"1995-03-31T00:00:00\",\"1995-06-30T00:00:00\",\"1995-09-30T00:00:00\",\"1995-12-31T00:00:00\",\"1996-03-31T00:00:00\",\"1996-06-30T00:00:00\",\"1996-09-30T00:00:00\",\"1996-12-31T00:00:00\",\"1997-03-31T00:00:00\",\"1997-06-30T00:00:00\",\"1997-09-30T00:00:00\",\"1997-12-31T00:00:00\",\"1998-03-31T00:00:00\",\"1998-06-30T00:00:00\",\"1998-09-30T00:00:00\",\"1998-12-31T00:00:00\",\"1999-03-31T00:00:00\",\"1999-06-30T00:00:00\",\"1999-09-30T00:00:00\",\"1999-12-31T00:00:00\",\"2000-03-31T00:00:00\",\"2000-06-30T00:00:00\",\"2000-09-30T00:00:00\",\"2000-12-31T00:00:00\",\"2001-03-31T00:00:00\",\"2001-06-30T00:00:00\",\"2001-09-30T00:00:00\",\"2001-12-31T00:00:00\",\"2002-03-31T00:00:00\",\"2002-06-30T00:00:00\",\"2002-09-30T00:00:00\",\"2002-12-31T00:00:00\",\"2003-03-31T00:00:00\",\"2003-06-30T00:00:00\",\"2003-09-30T00:00:00\",\"2003-12-31T00:00:00\",\"2004-03-31T00:00:00\",\"2004-06-30T00:00:00\",\"2004-09-30T00:00:00\",\"2004-12-31T00:00:00\",\"2005-03-31T00:00:00\",\"2005-06-30T00:00:00\",\"2005-09-30T00:00:00\",\"2005-12-31T00:00:00\",\"2006-03-31T00:00:00\",\"2006-06-30T00:00:00\",\"2006-09-30T00:00:00\",\"2006-12-31T00:00:00\",\"2007-03-31T00:00:00\",\"2007-06-30T00:00:00\",\"2007-09-30T00:00:00\",\"2007-12-31T00:00:00\",\"2008-03-31T00:00:00\",\"2008-06-30T00:00:00\",\"2008-09-30T00:00:00\",\"2008-12-31T00:00:00\",\"2009-03-31T00:00:00\",\"2009-06-30T00:00:00\",\"2009-09-30T00:00:00\",\"2009-12-31T00:00:00\",\"2010-03-31T00:00:00\",\"2010-06-30T00:00:00\",\"2010-09-30T00:00:00\",\"2010-12-31T00:00:00\",\"2011-03-31T00:00:00\",\"2011-06-30T00:00:00\",\"2011-09-30T00:00:00\",\"2011-12-31T00:00:00\",\"2012-03-31T00:00:00\",\"2012-06-30T00:00:00\",\"2012-09-30T00:00:00\",\"2012-12-31T00:00:00\",\"2013-03-31T00:00:00\",\"2013-06-30T00:00:00\",\"2013-09-30T00:00:00\",\"2013-12-31T00:00:00\",\"2014-03-31T00:00:00\",\"2014-06-30T00:00:00\",\"2014-09-30T00:00:00\",\"2014-12-31T00:00:00\",\"2015-03-31T00:00:00\",\"2015-06-30T00:00:00\",\"2015-09-30T00:00:00\",\"2015-12-31T00:00:00\",\"2016-03-31T00:00:00\",\"2016-06-30T00:00:00\",\"2016-09-30T00:00:00\",\"2016-12-31T00:00:00\",\"2017-03-31T00:00:00\",\"2017-06-30T00:00:00\",\"2017-09-30T00:00:00\",\"2017-12-31T00:00:00\",\"2018-03-31T00:00:00\",\"2018-06-30T00:00:00\",\"2018-09-30T00:00:00\",\"2018-12-31T00:00:00\",\"2019-03-31T00:00:00\",\"2019-06-30T00:00:00\",\"2019-09-30T00:00:00\",\"2019-12-31T00:00:00\",\"2020-03-31T00:00:00\",\"2020-06-30T00:00:00\",\"2020-09-30T00:00:00\",\"2020-12-31T00:00:00\",\"2021-03-31T00:00:00\",\"2021-06-30T00:00:00\",\"2021-09-30T00:00:00\"],\"xaxis\":\"x\",\"y\":[229736.3227061355,235561.33184620517,241456.94949880982,247359.2866145565,253204.15413613027,259055.73733033775,264978.5100512239,270908.25961905945,276715.8963310469,282594.9305363514,288545.62065606023,294503.42538344994,300338.6146370998,306245.5900065395,312224.5871205539,318210.7322370078,324073.6524949443,330008.6478599951,336015.92689619947,342030.2826128619,347986.19674563623,353948.96958745,359984.20084809954,366026.36120507424,371943.83078559017,377933.6975518775,383996.12745952804,390065.2761241993,396008.92849409964,402025.0352435862,408113.74275654525,414208.90698197926,420177.74758676096,426219.05145176675,432332.94768287626,438453.00446199824,444512.5200372593,450577.9011071499,456715.8113141026,462859.5422989823,468875.26018947613,474963.3074112574,481123.7748053603,487289.69857090956,493326.7707681948,499436.049639526,505617.614172447,511804.2676887179,517861.2680388905,523990.3494062422,530191.5852656236,536397.5649095898,542540.6736088856,548688.2626982138,554907.8840483688,561131.9300696889,567224.8818814526,573389.6996793179,579626.4571124675,585867.3717162303,591976.5838530338,598157.6184047012,604410.5617413863,610667.4734545898,616792.1741192205,622988.7308405807,629257.2511813662,635529.6519901487,641737.6906170294,647949.531029443,654233.5160199236,660521.434962681,666676.5080235926,672903.8940196353,679203.7960226954,685507.8976851588,691679.1300854385,697923.2671526873,704240.6248732498,710562.8270622379,716752.5335085623,723016.2991997742,729354.7000638011,735699.4415225624,741982.0774446516,748272.3014834668,754640.3381966664,761018.3402555408,767268.803741411,773601.7128774868,780019.7950584646,786456.3887160463,792774.2869816312,799187.6922609556,805702.1803857704,812252.9038564856,818702.0500345473,825269.881335164,831963.698299427,838723.4557149467,846125.2378928576,853571.8177183332,861160.8886467406,868811.0462234768,876339.9747391694,883998.0217919941,891794.6141114963,899668.0880585557,907409.7042111551,915284.4266618078,923302.0550650825,931399.1711899434,939362.2855893531,947471.5825182563,955722.5898273265,964050.4037480472,972342.3399001944,980689.6567039136,989202.1979852654,997790.3733132466,1006250.9809886889,1014865.9460217382,1023647.0064366501,1032527.2863420696,1041270.241256803,1050175.2962385204,1059254.7829387463,1068440.8609214653,1077485.8680768728,1086709.5341605805,1096104.9366413644,1105602.5322837068,1115067.7018430256,1124602.8160339114,1134336.073252093,1144163.9543566436,1153847.7772869663,1163708.2868154526,1173759.5180803644,1183930.6583723775,1193936.9464848032,1204121.9085926788,1214500.310392625,1225000.2381911364,1235325.2301905018,1245844.11019095,1256545.1774854474,1267354.6927962955,1278112.0290846531,1288933.441937523,1299967.9165869202,1311097.1206141487,1322047.3191336282,1333181.5862281667,1344516.9985362324,1355976.7552827836,1367233.6425630879,1378675.9433105728,1390320.8491582554,1402088.611317577,1413643.5438320679,1425399.5773150236,1437342.6688030798,1449389.3750132383,1461360.0551612943,1473383.9457156903,1485623.8461849228,1497945.9616045791,1510048.6085481024,1522332.8885417876,1534814.347367771,1547399.7578204155,1559739.4567417905,1572257.4014139436,1584968.2857101716,1597773.5629947053,1610323.7540035432,1623062.4996948477,1635977.5494948195,1648965.9120085475,1661846.774572043,1674760.879186875,1687873.9223848735,1701042.2922303355,1713955.3175006516,1727043.0306814006,1740317.3510820707,1753663.4177473248,1766739.6159969924,1779991.9691661035,1793431.4373809353,1806937.8993685273,1820172.9354583886,1833594.735142475,1847197.0710065905,1860855.4504579885,1874397.9019846413,1887973.2104285199,1901744.7549988832,1915562.2894821025,1929647.9705477734,1943892.4816913898,1958297.9776167965,1972709.4140162559,1986814.2893366835,2001083.3382769465,2015517.309178481,2029959.8133337635,2044096.868160694,2058399.753868333,2072868.9078193568,2087347.3158220232,2101677.5271823867,2116016.902075622,2130523.180325838,2145038.824063274,2159247.934839368,2173623.9354365333,2188167.044857993,2202719.2388324873,2216963.7637060005,2231375.166595524,2245953.5960237416,2260540.5847117705,2274818.594404738,2289263.257541687,2303874.666774766,2318493.951890162,2332961.8921374157,2347437.155141345,2362078.7268829085,2376727.3668622016,2391064.1877701525,2405566.7565083704,2420235.062726129,2434909.5401383145,2449270.7493479573,2463797.068171738,2478488.4398013703,2493185.016926323,2507566.8991059694,2522113.1596814874,2536823.7013964336,2551538.445011913,2566097.1273811692,2580659.4201168474,2595385.1542512937,2610114.06741557,2624525.6187153356,2639099.9049075427,2653836.777956421,2668575.8679184113,2682996.4788776827,2697579.0631375615,2712323.484705474,2727069.31828134,2741495.7850015396,2756083.579990884,2770832.578062423,2785582.3272274416,2800172.351672734,2814762.8389920453,2829514.0090685547,2844265.416133711,2858696.2712948443,2873287.5096259983,2888039.0515487916,2902790.483761005,2917221.069115377,2931811.778155654,2946562.562077266,2961313.0502484995,2975742.56588538,2990332.0760310297,3005081.5558340377,3019830.671356032,3034419.1073314245,3049007.1760536036,3063755.180417789,3078502.8149778345,3092929.4971204083,3107516.1255151406,3122262.698264089,3137008.933096212,3151434.2814448243,3166019.598866493,3180764.883217863,3195509.8605063,3209933.998088618,3224518.0989554487,3239262.1492587035,3254005.8750425936,3268589.009188188,3283171.7900296445,3297914.4474321543,3312656.7194090066,3327078.1334388657,3341659.4113629814,3356400.5493979584],\"yaxis\":\"y\",\"type\":\"scatter\"}],                        {\"template\":{\"data\":{\"bar\":[{\"error_x\":{\"color\":\"#2a3f5f\"},\"error_y\":{\"color\":\"#2a3f5f\"},\"marker\":{\"line\":{\"color\":\"#E5ECF6\",\"width\":0.5},\"pattern\":{\"fillmode\":\"overlay\",\"size\":10,\"solidity\":0.2}},\"type\":\"bar\"}],\"barpolar\":[{\"marker\":{\"line\":{\"color\":\"#E5ECF6\",\"width\":0.5},\"pattern\":{\"fillmode\":\"overlay\",\"size\":10,\"solidity\":0.2}},\"type\":\"barpolar\"}],\"carpet\":[{\"aaxis\":{\"endlinecolor\":\"#2a3f5f\",\"gridcolor\":\"white\",\"linecolor\":\"white\",\"minorgridcolor\":\"white\",\"startlinecolor\":\"#2a3f5f\"},\"baxis\":{\"endlinecolor\":\"#2a3f5f\",\"gridcolor\":\"white\",\"linecolor\":\"white\",\"minorgridcolor\":\"white\",\"startlinecolor\":\"#2a3f5f\"},\"type\":\"carpet\"}],\"choropleth\":[{\"colorbar\":{\"outlinewidth\":0,\"ticks\":\"\"},\"type\":\"choropleth\"}],\"contour\":[{\"colorbar\":{\"outlinewidth\":0,\"ticks\":\"\"},\"colorscale\":[[0.0,\"#0d0887\"],[0.1111111111111111,\"#46039f\"],[0.2222222222222222,\"#7201a8\"],[0.3333333333333333,\"#9c179e\"],[0.4444444444444444,\"#bd3786\"],[0.5555555555555556,\"#d8576b\"],[0.6666666666666666,\"#ed7953\"],[0.7777777777777778,\"#fb9f3a\"],[0.8888888888888888,\"#fdca26\"],[1.0,\"#f0f921\"]],\"type\":\"contour\"}],\"contourcarpet\":[{\"colorbar\":{\"outlinewidth\":0,\"ticks\":\"\"},\"type\":\"contourcarpet\"}],\"heatmap\":[{\"colorbar\":{\"outlinewidth\":0,\"ticks\":\"\"},\"colorscale\":[[0.0,\"#0d0887\"],[0.1111111111111111,\"#46039f\"],[0.2222222222222222,\"#7201a8\"],[0.3333333333333333,\"#9c179e\"],[0.4444444444444444,\"#bd3786\"],[0.5555555555555556,\"#d8576b\"],[0.6666666666666666,\"#ed7953\"],[0.7777777777777778,\"#fb9f3a\"],[0.8888888888888888,\"#fdca26\"],[1.0,\"#f0f921\"]],\"type\":\"heatmap\"}],\"heatmapgl\":[{\"colorbar\":{\"outlinewidth\":0,\"ticks\":\"\"},\"colorscale\":[[0.0,\"#0d0887\"],[0.1111111111111111,\"#46039f\"],[0.2222222222222222,\"#7201a8\"],[0.3333333333333333,\"#9c179e\"],[0.4444444444444444,\"#bd3786\"],[0.5555555555555556,\"#d8576b\"],[0.6666666666666666,\"#ed7953\"],[0.7777777777777778,\"#fb9f3a\"],[0.8888888888888888,\"#fdca26\"],[1.0,\"#f0f921\"]],\"type\":\"heatmapgl\"}],\"histogram\":[{\"marker\":{\"pattern\":{\"fillmode\":\"overlay\",\"size\":10,\"solidity\":0.2}},\"type\":\"histogram\"}],\"histogram2d\":[{\"colorbar\":{\"outlinewidth\":0,\"ticks\":\"\"},\"colorscale\":[[0.0,\"#0d0887\"],[0.1111111111111111,\"#46039f\"],[0.2222222222222222,\"#7201a8\"],[0.3333333333333333,\"#9c179e\"],[0.4444444444444444,\"#bd3786\"],[0.5555555555555556,\"#d8576b\"],[0.6666666666666666,\"#ed7953\"],[0.7777777777777778,\"#fb9f3a\"],[0.8888888888888888,\"#fdca26\"],[1.0,\"#f0f921\"]],\"type\":\"histogram2d\"}],\"histogram2dcontour\":[{\"colorbar\":{\"outlinewidth\":0,\"ticks\":\"\"},\"colorscale\":[[0.0,\"#0d0887\"],[0.1111111111111111,\"#46039f\"],[0.2222222222222222,\"#7201a8\"],[0.3333333333333333,\"#9c179e\"],[0.4444444444444444,\"#bd3786\"],[0.5555555555555556,\"#d8576b\"],[0.6666666666666666,\"#ed7953\"],[0.7777777777777778,\"#fb9f3a\"],[0.8888888888888888,\"#fdca26\"],[1.0,\"#f0f921\"]],\"type\":\"histogram2dcontour\"}],\"mesh3d\":[{\"colorbar\":{\"outlinewidth\":0,\"ticks\":\"\"},\"type\":\"mesh3d\"}],\"parcoords\":[{\"line\":{\"colorbar\":{\"outlinewidth\":0,\"ticks\":\"\"}},\"type\":\"parcoords\"}],\"pie\":[{\"automargin\":true,\"type\":\"pie\"}],\"scatter\":[{\"marker\":{\"colorbar\":{\"outlinewidth\":0,\"ticks\":\"\"}},\"type\":\"scatter\"}],\"scatter3d\":[{\"line\":{\"colorbar\":{\"outlinewidth\":0,\"ticks\":\"\"}},\"marker\":{\"colorbar\":{\"outlinewidth\":0,\"ticks\":\"\"}},\"type\":\"scatter3d\"}],\"scattercarpet\":[{\"marker\":{\"colorbar\":{\"outlinewidth\":0,\"ticks\":\"\"}},\"type\":\"scattercarpet\"}],\"scattergeo\":[{\"marker\":{\"colorbar\":{\"outlinewidth\":0,\"ticks\":\"\"}},\"type\":\"scattergeo\"}],\"scattergl\":[{\"marker\":{\"colorbar\":{\"outlinewidth\":0,\"ticks\":\"\"}},\"type\":\"scattergl\"}],\"scattermapbox\":[{\"marker\":{\"colorbar\":{\"outlinewidth\":0,\"ticks\":\"\"}},\"type\":\"scattermapbox\"}],\"scatterpolar\":[{\"marker\":{\"colorbar\":{\"outlinewidth\":0,\"ticks\":\"\"}},\"type\":\"scatterpolar\"}],\"scatterpolargl\":[{\"marker\":{\"colorbar\":{\"outlinewidth\":0,\"ticks\":\"\"}},\"type\":\"scatterpolargl\"}],\"scatterternary\":[{\"marker\":{\"colorbar\":{\"outlinewidth\":0,\"ticks\":\"\"}},\"type\":\"scatterternary\"}],\"surface\":[{\"colorbar\":{\"outlinewidth\":0,\"ticks\":\"\"},\"colorscale\":[[0.0,\"#0d0887\"],[0.1111111111111111,\"#46039f\"],[0.2222222222222222,\"#7201a8\"],[0.3333333333333333,\"#9c179e\"],[0.4444444444444444,\"#bd3786\"],[0.5555555555555556,\"#d8576b\"],[0.6666666666666666,\"#ed7953\"],[0.7777777777777778,\"#fb9f3a\"],[0.8888888888888888,\"#fdca26\"],[1.0,\"#f0f921\"]],\"type\":\"surface\"}],\"table\":[{\"cells\":{\"fill\":{\"color\":\"#EBF0F8\"},\"line\":{\"color\":\"white\"}},\"header\":{\"fill\":{\"color\":\"#C8D4E3\"},\"line\":{\"color\":\"white\"}},\"type\":\"table\"}]},\"layout\":{\"annotationdefaults\":{\"arrowcolor\":\"#2a3f5f\",\"arrowhead\":0,\"arrowwidth\":1},\"autotypenumbers\":\"strict\",\"coloraxis\":{\"colorbar\":{\"outlinewidth\":0,\"ticks\":\"\"}},\"colorscale\":{\"diverging\":[[0,\"#8e0152\"],[0.1,\"#c51b7d\"],[0.2,\"#de77ae\"],[0.3,\"#f1b6da\"],[0.4,\"#fde0ef\"],[0.5,\"#f7f7f7\"],[0.6,\"#e6f5d0\"],[0.7,\"#b8e186\"],[0.8,\"#7fbc41\"],[0.9,\"#4d9221\"],[1,\"#276419\"]],\"sequential\":[[0.0,\"#0d0887\"],[0.1111111111111111,\"#46039f\"],[0.2222222222222222,\"#7201a8\"],[0.3333333333333333,\"#9c179e\"],[0.4444444444444444,\"#bd3786\"],[0.5555555555555556,\"#d8576b\"],[0.6666666666666666,\"#ed7953\"],[0.7777777777777778,\"#fb9f3a\"],[0.8888888888888888,\"#fdca26\"],[1.0,\"#f0f921\"]],\"sequentialminus\":[[0.0,\"#0d0887\"],[0.1111111111111111,\"#46039f\"],[0.2222222222222222,\"#7201a8\"],[0.3333333333333333,\"#9c179e\"],[0.4444444444444444,\"#bd3786\"],[0.5555555555555556,\"#d8576b\"],[0.6666666666666666,\"#ed7953\"],[0.7777777777777778,\"#fb9f3a\"],[0.8888888888888888,\"#fdca26\"],[1.0,\"#f0f921\"]]},\"colorway\":[\"#636efa\",\"#EF553B\",\"#00cc96\",\"#ab63fa\",\"#FFA15A\",\"#19d3f3\",\"#FF6692\",\"#B6E880\",\"#FF97FF\",\"#FECB52\"],\"font\":{\"color\":\"#2a3f5f\"},\"geo\":{\"bgcolor\":\"white\",\"lakecolor\":\"white\",\"landcolor\":\"#E5ECF6\",\"showlakes\":true,\"showland\":true,\"subunitcolor\":\"white\"},\"hoverlabel\":{\"align\":\"left\"},\"hovermode\":\"closest\",\"mapbox\":{\"style\":\"light\"},\"paper_bgcolor\":\"white\",\"plot_bgcolor\":\"#E5ECF6\",\"polar\":{\"angularaxis\":{\"gridcolor\":\"white\",\"linecolor\":\"white\",\"ticks\":\"\"},\"bgcolor\":\"#E5ECF6\",\"radialaxis\":{\"gridcolor\":\"white\",\"linecolor\":\"white\",\"ticks\":\"\"}},\"scene\":{\"xaxis\":{\"backgroundcolor\":\"#E5ECF6\",\"gridcolor\":\"white\",\"gridwidth\":2,\"linecolor\":\"white\",\"showbackground\":true,\"ticks\":\"\",\"zerolinecolor\":\"white\"},\"yaxis\":{\"backgroundcolor\":\"#E5ECF6\",\"gridcolor\":\"white\",\"gridwidth\":2,\"linecolor\":\"white\",\"showbackground\":true,\"ticks\":\"\",\"zerolinecolor\":\"white\"},\"zaxis\":{\"backgroundcolor\":\"#E5ECF6\",\"gridcolor\":\"white\",\"gridwidth\":2,\"linecolor\":\"white\",\"showbackground\":true,\"ticks\":\"\",\"zerolinecolor\":\"white\"}},\"shapedefaults\":{\"line\":{\"color\":\"#2a3f5f\"}},\"ternary\":{\"aaxis\":{\"gridcolor\":\"white\",\"linecolor\":\"white\",\"ticks\":\"\"},\"baxis\":{\"gridcolor\":\"white\",\"linecolor\":\"white\",\"ticks\":\"\"},\"bgcolor\":\"#E5ECF6\",\"caxis\":{\"gridcolor\":\"white\",\"linecolor\":\"white\",\"ticks\":\"\"}},\"title\":{\"x\":0.05},\"xaxis\":{\"automargin\":true,\"gridcolor\":\"white\",\"linecolor\":\"white\",\"ticks\":\"\",\"title\":{\"standoff\":15},\"zerolinecolor\":\"white\",\"zerolinewidth\":2},\"yaxis\":{\"automargin\":true,\"gridcolor\":\"white\",\"linecolor\":\"white\",\"ticks\":\"\",\"title\":{\"standoff\":15},\"zerolinecolor\":\"white\",\"zerolinewidth\":2}}},\"xaxis\":{\"anchor\":\"y\",\"domain\":[0.0,1.0],\"title\":{\"text\":\"Date\"}},\"yaxis\":{\"anchor\":\"x\",\"domain\":[0.0,1.0],\"title\":{\"text\":\"RealPCE\"}},\"legend\":{\"tracegroupgap\":0},\"title\":{\"text\":\"Consumer Spending w/ Trend Line (Lowess)\"}},                        {\"responsive\": true}                    ).then(function(){\n",
              "                            \n",
              "var gd = document.getElementById('1f556979-b627-4b10-844f-15cd957ab147');\n",
              "var x = new MutationObserver(function (mutations, observer) {{\n",
              "        var display = window.getComputedStyle(gd).display;\n",
              "        if (!display || display === 'none') {{\n",
              "            console.log([gd, 'removed!']);\n",
              "            Plotly.purge(gd);\n",
              "            observer.disconnect();\n",
              "        }}\n",
              "}});\n",
              "\n",
              "// Listen for the removal of the full notebook cells\n",
              "var notebookContainer = gd.closest('#notebook-container');\n",
              "if (notebookContainer) {{\n",
              "    x.observe(notebookContainer, {childList: true});\n",
              "}}\n",
              "\n",
              "// Listen for the clearing of the current output cell\n",
              "var outputEl = gd.closest('.output');\n",
              "if (outputEl) {{\n",
              "    x.observe(outputEl, {childList: true});\n",
              "}}\n",
              "\n",
              "                        })                };                            </script>        </div>\n",
              "</body>\n",
              "</html>"
            ]
          },
          "metadata": {}
        }
      ],
      "source": [
        "px.scatter(spending_df, x=\"Date\", y=\"RealPCE\", \n",
        "        trendline=\"lowess\", trendline_color_override=\"red\",\n",
        "        title=\"Consumer Spending w/ Trend Line (Lowess)\"\n",
        ")"
      ]
    },
    {
      "cell_type": "markdown",
      "source": [
        "### C) LINEAR REGRESSION (OLS)"
      ],
      "metadata": {
        "id": "M3KJ1jM9YLkv"
      }
    },
    {
      "cell_type": "code",
      "source": [
        "y = spending_df['RealPCE']\n",
        "\n",
        "time_range = range(1, len(spending_df) + 1) \n",
        "x = sm.add_constant(time_range)\n",
        "x = pd.DataFrame(x, columns=[\"const\", \"time\"], index=y.index)\n",
        "\n",
        "linear_regression = sm.OLS(y, x, missing=\"drop\")\n",
        "print(type(linear_regression))\n",
        "\n",
        "results = linear_regression.fit()\n",
        "print(type(results))\n",
        "\n",
        "print(results.summary())"
      ],
      "metadata": {
        "id": "hmvr610EodWb",
        "colab": {
          "base_uri": "https://localhost:8080/"
        },
        "outputId": "7461ef53-11c0-4e99-8ef0-d74f4cf81792"
      },
      "execution_count": 11,
      "outputs": [
        {
          "output_type": "stream",
          "name": "stdout",
          "text": [
            "<class 'statsmodels.regression.linear_model.OLS'>\n",
            "<class 'statsmodels.regression.linear_model.RegressionResultsWrapper'>\n",
            "                            OLS Regression Results                            \n",
            "==============================================================================\n",
            "Dep. Variable:                RealPCE   R-squared:                       0.954\n",
            "Model:                            OLS   Adj. R-squared:                  0.954\n",
            "Method:                 Least Squares   F-statistic:                     6190.\n",
            "Date:                Sat, 21 Jan 2023   Prob (F-statistic):          6.22e-201\n",
            "Time:                        17:35:31   Log-Likelihood:                -4073.1\n",
            "No. Observations:                 299   AIC:                             8150.\n",
            "Df Residuals:                     297   BIC:                             8158.\n",
            "Df Model:                           1                                         \n",
            "Covariance Type:            nonrobust                                         \n",
            "==============================================================================\n",
            "                 coef    std err          t      P>|t|      [0.025      0.975]\n",
            "------------------------------------------------------------------------------\n",
            "const      -1.109e+05   2.32e+04     -4.779      0.000   -1.57e+05   -6.52e+04\n",
            "time        1.055e+04    134.104     78.675      0.000    1.03e+04    1.08e+04\n",
            "==============================================================================\n",
            "Omnibus:                       74.241   Durbin-Watson:                   0.115\n",
            "Prob(Omnibus):                  0.000   Jarque-Bera (JB):               16.979\n",
            "Skew:                           0.254   Prob(JB):                     0.000206\n",
            "Kurtosis:                       1.949   Cond. No.                         347.\n",
            "==============================================================================\n",
            "\n",
            "Notes:\n",
            "[1] Standard Errors assume that the covariance matrix of the errors is correctly specified.\n"
          ]
        }
      ]
    },
    {
      "cell_type": "code",
      "source": [],
      "metadata": {
        "id": "9zQ0BqYw6r5U"
      },
      "execution_count": 11,
      "outputs": []
    },
    {
      "cell_type": "markdown",
      "source": [
        "### D) PLOT PREDICTIONS\n",
        "\n",
        "\n",
        "\n"
      ],
      "metadata": {
        "id": "DZKGkj4nyr4q"
      }
    },
    {
      "cell_type": "code",
      "source": [
        "spending_df[\"Linear_Regression_Pred\"] = results.fittedvalues\n",
        "px.line(spending_df, x=\"Date\", y=[\"RealPCE\", \"Linear_Regression_Pred\"], title=\"Real Consumer Spending vs Linear Regression Prediction \")"
      ],
      "metadata": {
        "id": "ViVPGJzztWEU",
        "colab": {
          "base_uri": "https://localhost:8080/",
          "height": 542
        },
        "outputId": "c8ba1dbf-f608-4a5d-d926-c566627d95e4"
      },
      "execution_count": 12,
      "outputs": [
        {
          "output_type": "display_data",
          "data": {
            "text/html": [
              "<html>\n",
              "<head><meta charset=\"utf-8\" /></head>\n",
              "<body>\n",
              "    <div>            <script src=\"https://cdnjs.cloudflare.com/ajax/libs/mathjax/2.7.5/MathJax.js?config=TeX-AMS-MML_SVG\"></script><script type=\"text/javascript\">if (window.MathJax) {MathJax.Hub.Config({SVG: {font: \"STIX-Web\"}});}</script>                <script type=\"text/javascript\">window.PlotlyConfig = {MathJaxConfig: 'local'};</script>\n",
              "        <script src=\"https://cdn.plot.ly/plotly-2.8.3.min.js\"></script>                <div id=\"f38c59be-ded5-4d28-ae8b-19ab3c33846b\" class=\"plotly-graph-div\" style=\"height:525px; width:100%;\"></div>            <script type=\"text/javascript\">                                    window.PLOTLYENV=window.PLOTLYENV || {};                                    if (document.getElementById(\"f38c59be-ded5-4d28-ae8b-19ab3c33846b\")) {                    Plotly.newPlot(                        \"f38c59be-ded5-4d28-ae8b-19ab3c33846b\",                        [{\"hovertemplate\":\"variable=RealPCE<br>Date=%{x}<br>value=%{y}<extra></extra>\",\"legendgroup\":\"RealPCE\",\"line\":{\"color\":\"#636efa\",\"dash\":\"solid\"},\"marker\":{\"symbol\":\"circle\"},\"mode\":\"lines\",\"name\":\"RealPCE\",\"orientation\":\"v\",\"showlegend\":true,\"x\":[\"1947-03-31T00:00:00\",\"1947-06-30T00:00:00\",\"1947-09-30T00:00:00\",\"1947-12-31T00:00:00\",\"1948-03-31T00:00:00\",\"1948-06-30T00:00:00\",\"1948-09-30T00:00:00\",\"1948-12-31T00:00:00\",\"1949-03-31T00:00:00\",\"1949-06-30T00:00:00\",\"1949-09-30T00:00:00\",\"1949-12-31T00:00:00\",\"1950-03-31T00:00:00\",\"1950-06-30T00:00:00\",\"1950-09-30T00:00:00\",\"1950-12-31T00:00:00\",\"1951-03-31T00:00:00\",\"1951-06-30T00:00:00\",\"1951-09-30T00:00:00\",\"1951-12-31T00:00:00\",\"1952-03-31T00:00:00\",\"1952-06-30T00:00:00\",\"1952-09-30T00:00:00\",\"1952-12-31T00:00:00\",\"1953-03-31T00:00:00\",\"1953-06-30T00:00:00\",\"1953-09-30T00:00:00\",\"1953-12-31T00:00:00\",\"1954-03-31T00:00:00\",\"1954-06-30T00:00:00\",\"1954-09-30T00:00:00\",\"1954-12-31T00:00:00\",\"1955-03-31T00:00:00\",\"1955-06-30T00:00:00\",\"1955-09-30T00:00:00\",\"1955-12-31T00:00:00\",\"1956-03-31T00:00:00\",\"1956-06-30T00:00:00\",\"1956-09-30T00:00:00\",\"1956-12-31T00:00:00\",\"1957-03-31T00:00:00\",\"1957-06-30T00:00:00\",\"1957-09-30T00:00:00\",\"1957-12-31T00:00:00\",\"1958-03-31T00:00:00\",\"1958-06-30T00:00:00\",\"1958-09-30T00:00:00\",\"1958-12-31T00:00:00\",\"1959-03-31T00:00:00\",\"1959-06-30T00:00:00\",\"1959-09-30T00:00:00\",\"1959-12-31T00:00:00\",\"1960-03-31T00:00:00\",\"1960-06-30T00:00:00\",\"1960-09-30T00:00:00\",\"1960-12-31T00:00:00\",\"1961-03-31T00:00:00\",\"1961-06-30T00:00:00\",\"1961-09-30T00:00:00\",\"1961-12-31T00:00:00\",\"1962-03-31T00:00:00\",\"1962-06-30T00:00:00\",\"1962-09-30T00:00:00\",\"1962-12-31T00:00:00\",\"1963-03-31T00:00:00\",\"1963-06-30T00:00:00\",\"1963-09-30T00:00:00\",\"1963-12-31T00:00:00\",\"1964-03-31T00:00:00\",\"1964-06-30T00:00:00\",\"1964-09-30T00:00:00\",\"1964-12-31T00:00:00\",\"1965-03-31T00:00:00\",\"1965-06-30T00:00:00\",\"1965-09-30T00:00:00\",\"1965-12-31T00:00:00\",\"1966-03-31T00:00:00\",\"1966-06-30T00:00:00\",\"1966-09-30T00:00:00\",\"1966-12-31T00:00:00\",\"1967-03-31T00:00:00\",\"1967-06-30T00:00:00\",\"1967-09-30T00:00:00\",\"1967-12-31T00:00:00\",\"1968-03-31T00:00:00\",\"1968-06-30T00:00:00\",\"1968-09-30T00:00:00\",\"1968-12-31T00:00:00\",\"1969-03-31T00:00:00\",\"1969-06-30T00:00:00\",\"1969-09-30T00:00:00\",\"1969-12-31T00:00:00\",\"1970-03-31T00:00:00\",\"1970-06-30T00:00:00\",\"1970-09-30T00:00:00\",\"1970-12-31T00:00:00\",\"1971-03-31T00:00:00\",\"1971-06-30T00:00:00\",\"1971-09-30T00:00:00\",\"1971-12-31T00:00:00\",\"1972-03-31T00:00:00\",\"1972-06-30T00:00:00\",\"1972-09-30T00:00:00\",\"1972-12-31T00:00:00\",\"1973-03-31T00:00:00\",\"1973-06-30T00:00:00\",\"1973-09-30T00:00:00\",\"1973-12-31T00:00:00\",\"1974-03-31T00:00:00\",\"1974-06-30T00:00:00\",\"1974-09-30T00:00:00\",\"1974-12-31T00:00:00\",\"1975-03-31T00:00:00\",\"1975-06-30T00:00:00\",\"1975-09-30T00:00:00\",\"1975-12-31T00:00:00\",\"1976-03-31T00:00:00\",\"1976-06-30T00:00:00\",\"1976-09-30T00:00:00\",\"1976-12-31T00:00:00\",\"1977-03-31T00:00:00\",\"1977-06-30T00:00:00\",\"1977-09-30T00:00:00\",\"1977-12-31T00:00:00\",\"1978-03-31T00:00:00\",\"1978-06-30T00:00:00\",\"1978-09-30T00:00:00\",\"1978-12-31T00:00:00\",\"1979-03-31T00:00:00\",\"1979-06-30T00:00:00\",\"1979-09-30T00:00:00\",\"1979-12-31T00:00:00\",\"1980-03-31T00:00:00\",\"1980-06-30T00:00:00\",\"1980-09-30T00:00:00\",\"1980-12-31T00:00:00\",\"1981-03-31T00:00:00\",\"1981-06-30T00:00:00\",\"1981-09-30T00:00:00\",\"1981-12-31T00:00:00\",\"1982-03-31T00:00:00\",\"1982-06-30T00:00:00\",\"1982-09-30T00:00:00\",\"1982-12-31T00:00:00\",\"1983-03-31T00:00:00\",\"1983-06-30T00:00:00\",\"1983-09-30T00:00:00\",\"1983-12-31T00:00:00\",\"1984-03-31T00:00:00\",\"1984-06-30T00:00:00\",\"1984-09-30T00:00:00\",\"1984-12-31T00:00:00\",\"1985-03-31T00:00:00\",\"1985-06-30T00:00:00\",\"1985-09-30T00:00:00\",\"1985-12-31T00:00:00\",\"1986-03-31T00:00:00\",\"1986-06-30T00:00:00\",\"1986-09-30T00:00:00\",\"1986-12-31T00:00:00\",\"1987-03-31T00:00:00\",\"1987-06-30T00:00:00\",\"1987-09-30T00:00:00\",\"1987-12-31T00:00:00\",\"1988-03-31T00:00:00\",\"1988-06-30T00:00:00\",\"1988-09-30T00:00:00\",\"1988-12-31T00:00:00\",\"1989-03-31T00:00:00\",\"1989-06-30T00:00:00\",\"1989-09-30T00:00:00\",\"1989-12-31T00:00:00\",\"1990-03-31T00:00:00\",\"1990-06-30T00:00:00\",\"1990-09-30T00:00:00\",\"1990-12-31T00:00:00\",\"1991-03-31T00:00:00\",\"1991-06-30T00:00:00\",\"1991-09-30T00:00:00\",\"1991-12-31T00:00:00\",\"1992-03-31T00:00:00\",\"1992-06-30T00:00:00\",\"1992-09-30T00:00:00\",\"1992-12-31T00:00:00\",\"1993-03-31T00:00:00\",\"1993-06-30T00:00:00\",\"1993-09-30T00:00:00\",\"1993-12-31T00:00:00\",\"1994-03-31T00:00:00\",\"1994-06-30T00:00:00\",\"1994-09-30T00:00:00\",\"1994-12-31T00:00:00\",\"1995-03-31T00:00:00\",\"1995-06-30T00:00:00\",\"1995-09-30T00:00:00\",\"1995-12-31T00:00:00\",\"1996-03-31T00:00:00\",\"1996-06-30T00:00:00\",\"1996-09-30T00:00:00\",\"1996-12-31T00:00:00\",\"1997-03-31T00:00:00\",\"1997-06-30T00:00:00\",\"1997-09-30T00:00:00\",\"1997-12-31T00:00:00\",\"1998-03-31T00:00:00\",\"1998-06-30T00:00:00\",\"1998-09-30T00:00:00\",\"1998-12-31T00:00:00\",\"1999-03-31T00:00:00\",\"1999-06-30T00:00:00\",\"1999-09-30T00:00:00\",\"1999-12-31T00:00:00\",\"2000-03-31T00:00:00\",\"2000-06-30T00:00:00\",\"2000-09-30T00:00:00\",\"2000-12-31T00:00:00\",\"2001-03-31T00:00:00\",\"2001-06-30T00:00:00\",\"2001-09-30T00:00:00\",\"2001-12-31T00:00:00\",\"2002-03-31T00:00:00\",\"2002-06-30T00:00:00\",\"2002-09-30T00:00:00\",\"2002-12-31T00:00:00\",\"2003-03-31T00:00:00\",\"2003-06-30T00:00:00\",\"2003-09-30T00:00:00\",\"2003-12-31T00:00:00\",\"2004-03-31T00:00:00\",\"2004-06-30T00:00:00\",\"2004-09-30T00:00:00\",\"2004-12-31T00:00:00\",\"2005-03-31T00:00:00\",\"2005-06-30T00:00:00\",\"2005-09-30T00:00:00\",\"2005-12-31T00:00:00\",\"2006-03-31T00:00:00\",\"2006-06-30T00:00:00\",\"2006-09-30T00:00:00\",\"2006-12-31T00:00:00\",\"2007-03-31T00:00:00\",\"2007-06-30T00:00:00\",\"2007-09-30T00:00:00\",\"2007-12-31T00:00:00\",\"2008-03-31T00:00:00\",\"2008-06-30T00:00:00\",\"2008-09-30T00:00:00\",\"2008-12-31T00:00:00\",\"2009-03-31T00:00:00\",\"2009-06-30T00:00:00\",\"2009-09-30T00:00:00\",\"2009-12-31T00:00:00\",\"2010-03-31T00:00:00\",\"2010-06-30T00:00:00\",\"2010-09-30T00:00:00\",\"2010-12-31T00:00:00\",\"2011-03-31T00:00:00\",\"2011-06-30T00:00:00\",\"2011-09-30T00:00:00\",\"2011-12-31T00:00:00\",\"2012-03-31T00:00:00\",\"2012-06-30T00:00:00\",\"2012-09-30T00:00:00\",\"2012-12-31T00:00:00\",\"2013-03-31T00:00:00\",\"2013-06-30T00:00:00\",\"2013-09-30T00:00:00\",\"2013-12-31T00:00:00\",\"2014-03-31T00:00:00\",\"2014-06-30T00:00:00\",\"2014-09-30T00:00:00\",\"2014-12-31T00:00:00\",\"2015-03-31T00:00:00\",\"2015-06-30T00:00:00\",\"2015-09-30T00:00:00\",\"2015-12-31T00:00:00\",\"2016-03-31T00:00:00\",\"2016-06-30T00:00:00\",\"2016-09-30T00:00:00\",\"2016-12-31T00:00:00\",\"2017-03-31T00:00:00\",\"2017-06-30T00:00:00\",\"2017-09-30T00:00:00\",\"2017-12-31T00:00:00\",\"2018-03-31T00:00:00\",\"2018-06-30T00:00:00\",\"2018-09-30T00:00:00\",\"2018-12-31T00:00:00\",\"2019-03-31T00:00:00\",\"2019-06-30T00:00:00\",\"2019-09-30T00:00:00\",\"2019-12-31T00:00:00\",\"2020-03-31T00:00:00\",\"2020-06-30T00:00:00\",\"2020-09-30T00:00:00\",\"2020-12-31T00:00:00\",\"2021-03-31T00:00:00\",\"2021-06-30T00:00:00\",\"2021-09-30T00:00:00\"],\"xaxis\":\"x\",\"y\":[300597.13701431494,323251.09560136346,318602.6131293818,351978.2355227361,311978.16560313676,327476.79196469334,324807.0149141872,360276.65012780036,314706.77375359903,338405.24470193626,337228.74012729083,371701.5887635275,332177.4565585115,354427.182980026,370629.6851574213,390941.8955740481,355883.8221651324,359595.10157853755,359642.30171073094,396246.42433544964,351462.5165010769,373759.5552466991,371706.7108533555,421236.55913978495,376007.6907230653,398203.6338704148,390636.9339879978,425183.3242802825,377536.81934873667,402029.49533216073,399619.90090273536,444503.3292566925,403298.34067050455,433511.50202977,431771.92154748266,474566.4739884393,427639.0655331682,443679.7659418844,439536.4151191887,482939.4435351882,434152.9877376241,456276.1910901941,456660.4847477137,491156.6357042881,435828.30568124686,457003.95207327016,457312.10430640006,504521.51009657595,463350.98100280284,491296.52605459053,485306.4496238747,520268.6127805715,478288.8290053896,508761.34771217935,495429.4385432473,531550.6405607929,484931.83737483417,511993.2432432432,506882.66410194756,551759.3370961931,509284.9455936865,539648.4956806672,530879.3820558527,577258.4562525917,529072.6520968695,560303.1375324369,556649.8415306961,600052.6285012573,560179.2573623561,590603.9488966318,592666.1264181524,636300.6980903479,588624.9928115476,626932.5399095955,626251.2826359594,688775.2202330207,631412.136250846,663934.8847616916,665591.5172375506,712753.4156015865,650953.0348805274,688458.8048767154,686539.1907263963,727810.3013051185,682844.3877551021,721322.601010101,730674.3035667796,777289.1131939439,714056.2044167899,752852.8982222894,753701.4925373134,799911.4739585896,734853.4201954398,770135.115641679,773893.9949521407,812829.6742043156,754857.4888226527,798742.8624055994,801609.7405262439,854849.528643945,796241.4782920703,845154.960981048,853589.4262222616,911991.9323014865,856441.6912146941,894959.4117897063,890191.1678771185,932617.5869120655,845154.4999602828,892537.9475493416,891451.3520628832,914287.2863326241,850354.6865435166,902180.7961862747,912324.5093245792,960209.5139962219,907065.9374256887,952258.7165234968,955367.1566512925,1012788.2668060364,949032.5685865555,987601.7414347909,996145.9563622801,1056231.8041126535,985339.9668325041,1036745.8488447675,1043105.6008826689,1097999.5440556253,1031911.6207523423,1055377.9979854627,1058170.8548052914,1116315.680273873,1043665.0216537415,1041787.7067512103,1050452.6788501719,1112771.541724275,1038201.5029350633,1069985.3981803886,1074608.822489392,1125104.4841097086,1053001.87012317,1079394.0426256733,1083207.9149810302,1156213.717034334,1086703.4074317794,1142477.5334705438,1155116.8590852409,1235220.1886189259,1166718.0581910184,1208370.690836482,1205130.3469443258,1282774.7316395089,1214794.1075449376,1266990.9712100849,1281600.1502488498,1351139.5426908873,1268510.5279727401,1317957.844391302,1336267.242015195,1403570.708459353,1304376.4073509118,1371757.9769056442,1381640.3257131658,1448402.1410779585,1370431.5210151786,1420385.2021357743,1431977.0528298654,1513197.8232491906,1413423.279979888,1463032.9088804366,1477074.7024396658,1549990.2133489922,1452496.8648509597,1501935.8230832962,1507499.7640099432,1560043.166361293,1448651.529193698,1502123.148774043,1512203.0122228495,1570776.2695430857,1496174.402673853,1548466.9917142773,1565111.1639519678,1646054.2822143836,1543018.1039288752,1606085.68930341,1622349.748977045,1702436.7020125515,1609808.2341440977,1666662.8545288197,1680857.0130865532,1767356.0782651692,1652617.6685598604,1721991.4460626729,1734860.3803001198,1813823.211464368,1719977.9477637652,1782111.1719605695,1790462.4277456645,1870866.0564371985,1780816.4145703577,1834797.2836683926,1865359.9066536122,1952721.4385988368,1854927.073167471,1946343.5464930073,1966437.39939069,2060824.7969852977,1964663.4265206396,2049196.0652629086,2067114.9992796995,2162190.0261647208,2085906.3089120162,2155788.7296793675,2163810.362879542,2253006.5259896903,2148522.962141453,2207728.2990466636,2205962.888665998,2307654.8068126272,2205633.380028017,2256598.877632102,2273752.7945554033,2369229.6343652415,2255181.795998048,2327277.4920162843,2355726.429488267,2455386.9883234724,2355356.523610796,2407910.7721911417,2430612.3896315736,2553358.8824039567,2427858.824077742,2506026.816729192,2532658.625153213,2625423.6132419626,2510419.21041921,2584418.7427854175,2590801.2595831803,2699741.4263901114,2584696.604890548,2647856.751724893,2652515.0554847703,2752068.7350423667,2644296.285207126,2678327.8619082915,2643605.2725329534,2688645.051376244,2566024.87135506,2620182.5947677516,2632563.7626597383,2695643.114226179,2587351.7910870225,2673014.3610785464,2687016.2975344756,2768006.8097121445,2652239.482000762,2725323.397792026,2725884.549430256,2793781.225348409,2698602.473551485,2760717.2209192775,2752881.1560601215,2834526.211180124,2714369.1762306043,2793133.7139690677,2800672.1264622696,2902860.8161422657,2768660.1422097203,2862679.7931892397,2883733.4160310896,2999774.908071292,2867534.4160715505,2961752.586315555,2979761.870218302,3083421.7609356544,2949676.7950454806,3033797.805537124,3048463.7714482797,3154605.614463346,3005114.3206668627,3110337.8819257286,3122496.278570217,3244592.001946636,3097921.9547571894,3205832.871140691,3218205.8557977555,3322029.1238083,3150633.839610622,3274392.9420119636,3292603.6899832934,3407401.178980869,3163269.518504498,2936098.8677810864,3194424.6120728315,3335229.2020373517,3225905.1075506774,3418226.974458184,3428117.9294384844],\"yaxis\":\"y\",\"type\":\"scatter\"},{\"hovertemplate\":\"variable=Linear_Regression_Pred<br>Date=%{x}<br>value=%{y}<extra></extra>\",\"legendgroup\":\"Linear_Regression_Pred\",\"line\":{\"color\":\"#EF553B\",\"dash\":\"solid\"},\"marker\":{\"symbol\":\"circle\"},\"mode\":\"lines\",\"name\":\"Linear_Regression_Pred\",\"orientation\":\"v\",\"showlegend\":true,\"x\":[\"1947-03-31T00:00:00\",\"1947-06-30T00:00:00\",\"1947-09-30T00:00:00\",\"1947-12-31T00:00:00\",\"1948-03-31T00:00:00\",\"1948-06-30T00:00:00\",\"1948-09-30T00:00:00\",\"1948-12-31T00:00:00\",\"1949-03-31T00:00:00\",\"1949-06-30T00:00:00\",\"1949-09-30T00:00:00\",\"1949-12-31T00:00:00\",\"1950-03-31T00:00:00\",\"1950-06-30T00:00:00\",\"1950-09-30T00:00:00\",\"1950-12-31T00:00:00\",\"1951-03-31T00:00:00\",\"1951-06-30T00:00:00\",\"1951-09-30T00:00:00\",\"1951-12-31T00:00:00\",\"1952-03-31T00:00:00\",\"1952-06-30T00:00:00\",\"1952-09-30T00:00:00\",\"1952-12-31T00:00:00\",\"1953-03-31T00:00:00\",\"1953-06-30T00:00:00\",\"1953-09-30T00:00:00\",\"1953-12-31T00:00:00\",\"1954-03-31T00:00:00\",\"1954-06-30T00:00:00\",\"1954-09-30T00:00:00\",\"1954-12-31T00:00:00\",\"1955-03-31T00:00:00\",\"1955-06-30T00:00:00\",\"1955-09-30T00:00:00\",\"1955-12-31T00:00:00\",\"1956-03-31T00:00:00\",\"1956-06-30T00:00:00\",\"1956-09-30T00:00:00\",\"1956-12-31T00:00:00\",\"1957-03-31T00:00:00\",\"1957-06-30T00:00:00\",\"1957-09-30T00:00:00\",\"1957-12-31T00:00:00\",\"1958-03-31T00:00:00\",\"1958-06-30T00:00:00\",\"1958-09-30T00:00:00\",\"1958-12-31T00:00:00\",\"1959-03-31T00:00:00\",\"1959-06-30T00:00:00\",\"1959-09-30T00:00:00\",\"1959-12-31T00:00:00\",\"1960-03-31T00:00:00\",\"1960-06-30T00:00:00\",\"1960-09-30T00:00:00\",\"1960-12-31T00:00:00\",\"1961-03-31T00:00:00\",\"1961-06-30T00:00:00\",\"1961-09-30T00:00:00\",\"1961-12-31T00:00:00\",\"1962-03-31T00:00:00\",\"1962-06-30T00:00:00\",\"1962-09-30T00:00:00\",\"1962-12-31T00:00:00\",\"1963-03-31T00:00:00\",\"1963-06-30T00:00:00\",\"1963-09-30T00:00:00\",\"1963-12-31T00:00:00\",\"1964-03-31T00:00:00\",\"1964-06-30T00:00:00\",\"1964-09-30T00:00:00\",\"1964-12-31T00:00:00\",\"1965-03-31T00:00:00\",\"1965-06-30T00:00:00\",\"1965-09-30T00:00:00\",\"1965-12-31T00:00:00\",\"1966-03-31T00:00:00\",\"1966-06-30T00:00:00\",\"1966-09-30T00:00:00\",\"1966-12-31T00:00:00\",\"1967-03-31T00:00:00\",\"1967-06-30T00:00:00\",\"1967-09-30T00:00:00\",\"1967-12-31T00:00:00\",\"1968-03-31T00:00:00\",\"1968-06-30T00:00:00\",\"1968-09-30T00:00:00\",\"1968-12-31T00:00:00\",\"1969-03-31T00:00:00\",\"1969-06-30T00:00:00\",\"1969-09-30T00:00:00\",\"1969-12-31T00:00:00\",\"1970-03-31T00:00:00\",\"1970-06-30T00:00:00\",\"1970-09-30T00:00:00\",\"1970-12-31T00:00:00\",\"1971-03-31T00:00:00\",\"1971-06-30T00:00:00\",\"1971-09-30T00:00:00\",\"1971-12-31T00:00:00\",\"1972-03-31T00:00:00\",\"1972-06-30T00:00:00\",\"1972-09-30T00:00:00\",\"1972-12-31T00:00:00\",\"1973-03-31T00:00:00\",\"1973-06-30T00:00:00\",\"1973-09-30T00:00:00\",\"1973-12-31T00:00:00\",\"1974-03-31T00:00:00\",\"1974-06-30T00:00:00\",\"1974-09-30T00:00:00\",\"1974-12-31T00:00:00\",\"1975-03-31T00:00:00\",\"1975-06-30T00:00:00\",\"1975-09-30T00:00:00\",\"1975-12-31T00:00:00\",\"1976-03-31T00:00:00\",\"1976-06-30T00:00:00\",\"1976-09-30T00:00:00\",\"1976-12-31T00:00:00\",\"1977-03-31T00:00:00\",\"1977-06-30T00:00:00\",\"1977-09-30T00:00:00\",\"1977-12-31T00:00:00\",\"1978-03-31T00:00:00\",\"1978-06-30T00:00:00\",\"1978-09-30T00:00:00\",\"1978-12-31T00:00:00\",\"1979-03-31T00:00:00\",\"1979-06-30T00:00:00\",\"1979-09-30T00:00:00\",\"1979-12-31T00:00:00\",\"1980-03-31T00:00:00\",\"1980-06-30T00:00:00\",\"1980-09-30T00:00:00\",\"1980-12-31T00:00:00\",\"1981-03-31T00:00:00\",\"1981-06-30T00:00:00\",\"1981-09-30T00:00:00\",\"1981-12-31T00:00:00\",\"1982-03-31T00:00:00\",\"1982-06-30T00:00:00\",\"1982-09-30T00:00:00\",\"1982-12-31T00:00:00\",\"1983-03-31T00:00:00\",\"1983-06-30T00:00:00\",\"1983-09-30T00:00:00\",\"1983-12-31T00:00:00\",\"1984-03-31T00:00:00\",\"1984-06-30T00:00:00\",\"1984-09-30T00:00:00\",\"1984-12-31T00:00:00\",\"1985-03-31T00:00:00\",\"1985-06-30T00:00:00\",\"1985-09-30T00:00:00\",\"1985-12-31T00:00:00\",\"1986-03-31T00:00:00\",\"1986-06-30T00:00:00\",\"1986-09-30T00:00:00\",\"1986-12-31T00:00:00\",\"1987-03-31T00:00:00\",\"1987-06-30T00:00:00\",\"1987-09-30T00:00:00\",\"1987-12-31T00:00:00\",\"1988-03-31T00:00:00\",\"1988-06-30T00:00:00\",\"1988-09-30T00:00:00\",\"1988-12-31T00:00:00\",\"1989-03-31T00:00:00\",\"1989-06-30T00:00:00\",\"1989-09-30T00:00:00\",\"1989-12-31T00:00:00\",\"1990-03-31T00:00:00\",\"1990-06-30T00:00:00\",\"1990-09-30T00:00:00\",\"1990-12-31T00:00:00\",\"1991-03-31T00:00:00\",\"1991-06-30T00:00:00\",\"1991-09-30T00:00:00\",\"1991-12-31T00:00:00\",\"1992-03-31T00:00:00\",\"1992-06-30T00:00:00\",\"1992-09-30T00:00:00\",\"1992-12-31T00:00:00\",\"1993-03-31T00:00:00\",\"1993-06-30T00:00:00\",\"1993-09-30T00:00:00\",\"1993-12-31T00:00:00\",\"1994-03-31T00:00:00\",\"1994-06-30T00:00:00\",\"1994-09-30T00:00:00\",\"1994-12-31T00:00:00\",\"1995-03-31T00:00:00\",\"1995-06-30T00:00:00\",\"1995-09-30T00:00:00\",\"1995-12-31T00:00:00\",\"1996-03-31T00:00:00\",\"1996-06-30T00:00:00\",\"1996-09-30T00:00:00\",\"1996-12-31T00:00:00\",\"1997-03-31T00:00:00\",\"1997-06-30T00:00:00\",\"1997-09-30T00:00:00\",\"1997-12-31T00:00:00\",\"1998-03-31T00:00:00\",\"1998-06-30T00:00:00\",\"1998-09-30T00:00:00\",\"1998-12-31T00:00:00\",\"1999-03-31T00:00:00\",\"1999-06-30T00:00:00\",\"1999-09-30T00:00:00\",\"1999-12-31T00:00:00\",\"2000-03-31T00:00:00\",\"2000-06-30T00:00:00\",\"2000-09-30T00:00:00\",\"2000-12-31T00:00:00\",\"2001-03-31T00:00:00\",\"2001-06-30T00:00:00\",\"2001-09-30T00:00:00\",\"2001-12-31T00:00:00\",\"2002-03-31T00:00:00\",\"2002-06-30T00:00:00\",\"2002-09-30T00:00:00\",\"2002-12-31T00:00:00\",\"2003-03-31T00:00:00\",\"2003-06-30T00:00:00\",\"2003-09-30T00:00:00\",\"2003-12-31T00:00:00\",\"2004-03-31T00:00:00\",\"2004-06-30T00:00:00\",\"2004-09-30T00:00:00\",\"2004-12-31T00:00:00\",\"2005-03-31T00:00:00\",\"2005-06-30T00:00:00\",\"2005-09-30T00:00:00\",\"2005-12-31T00:00:00\",\"2006-03-31T00:00:00\",\"2006-06-30T00:00:00\",\"2006-09-30T00:00:00\",\"2006-12-31T00:00:00\",\"2007-03-31T00:00:00\",\"2007-06-30T00:00:00\",\"2007-09-30T00:00:00\",\"2007-12-31T00:00:00\",\"2008-03-31T00:00:00\",\"2008-06-30T00:00:00\",\"2008-09-30T00:00:00\",\"2008-12-31T00:00:00\",\"2009-03-31T00:00:00\",\"2009-06-30T00:00:00\",\"2009-09-30T00:00:00\",\"2009-12-31T00:00:00\",\"2010-03-31T00:00:00\",\"2010-06-30T00:00:00\",\"2010-09-30T00:00:00\",\"2010-12-31T00:00:00\",\"2011-03-31T00:00:00\",\"2011-06-30T00:00:00\",\"2011-09-30T00:00:00\",\"2011-12-31T00:00:00\",\"2012-03-31T00:00:00\",\"2012-06-30T00:00:00\",\"2012-09-30T00:00:00\",\"2012-12-31T00:00:00\",\"2013-03-31T00:00:00\",\"2013-06-30T00:00:00\",\"2013-09-30T00:00:00\",\"2013-12-31T00:00:00\",\"2014-03-31T00:00:00\",\"2014-06-30T00:00:00\",\"2014-09-30T00:00:00\",\"2014-12-31T00:00:00\",\"2015-03-31T00:00:00\",\"2015-06-30T00:00:00\",\"2015-09-30T00:00:00\",\"2015-12-31T00:00:00\",\"2016-03-31T00:00:00\",\"2016-06-30T00:00:00\",\"2016-09-30T00:00:00\",\"2016-12-31T00:00:00\",\"2017-03-31T00:00:00\",\"2017-06-30T00:00:00\",\"2017-09-30T00:00:00\",\"2017-12-31T00:00:00\",\"2018-03-31T00:00:00\",\"2018-06-30T00:00:00\",\"2018-09-30T00:00:00\",\"2018-12-31T00:00:00\",\"2019-03-31T00:00:00\",\"2019-06-30T00:00:00\",\"2019-09-30T00:00:00\",\"2019-12-31T00:00:00\",\"2020-03-31T00:00:00\",\"2020-06-30T00:00:00\",\"2020-09-30T00:00:00\",\"2020-12-31T00:00:00\",\"2021-03-31T00:00:00\",\"2021-06-30T00:00:00\",\"2021-09-30T00:00:00\"],\"xaxis\":\"x\",\"y\":[-100354.8789911347,-89804.28230919293,-79253.68562725116,-68703.0889453094,-58152.492263367625,-47601.89558142585,-37051.298899484085,-26500.70221754232,-15950.105535600553,-5399.508853658786,5151.08782828298,15701.68451022476,26252.281192166527,36802.87787410829,47353.47455605006,57904.071237991826,68454.66791993359,79005.26460187536,89555.86128381712,100106.45796575889,110657.05464770066,121207.65132964242,131758.2480115842,142308.84469352599,152859.44137546775,163410.03805740952,173960.63473935128,184511.23142129305,195061.82810323482,205612.42478517658,216163.02146711835,226713.61814906012,237264.21483100188,247814.81151294365,258365.40819488541,268916.0048768272,279466.60155876895,290017.1982407107,300567.7949226525,311118.39160459425,321668.988286536,332219.5849684778,342770.18165041954,353320.7783323613,363871.3750143031,374421.97169624484,384972.5683781866,395523.16506012843,406073.7617420702,416624.35842401197,427174.95510595373,437725.5517878955,448276.14846983727,458826.74515177903,469377.3418337208,479927.93851566256,490478.53519760433,501029.1318795461,511579.72856148786,522130.32524342963,532680.9219253714,543231.5186073132,553782.1152892549,564332.7119711967,574883.3086531385,585433.9053350802,595984.502017022,606535.0986989638,617085.6953809055,627636.2920628473,638186.8887447891,648737.4854267308,659288.0821086726,669838.6787906144,680389.2754725561,690939.8721544979,701490.4688364397,712041.0655183814,722591.6622003232,733142.258882265,743692.8555642067,754243.4522461485,764794.0489280903,775344.645610032,785895.2422919738,796445.8389739156,806996.4356558573,817547.0323377991,828097.6290197409,838648.2257016826,849198.8223836244,859749.4190655662,870300.0157475079,880850.6124294497,891401.2091113915,901951.8057933333,912502.4024752751,923052.9991572169,933603.5958391586,944154.1925211004,954704.7892030422,965255.3858849839,975805.9825669257,986356.5792488675,996907.1759308092,1007457.772612751,1018008.3692946928,1028558.9659766345,1039109.5626585763,1049660.159340518,1060210.7560224598,1070761.3527044016,1081311.9493863434,1091862.5460682851,1102413.142750227,1112963.7394321687,1123514.3361141104,1134064.9327960522,1144615.529477994,1155166.1261599357,1165716.7228418775,1176267.3195238193,1186817.916205761,1197368.5128877028,1207919.1095696446,1218469.7062515863,1229020.302933528,1239570.8996154699,1250121.4962974116,1260672.0929793534,1271222.6896612952,1281773.286343237,1292323.8830251787,1302874.4797071205,1313425.0763890622,1323975.673071004,1334526.2697529458,1345076.8664348875,1355627.4631168293,1366178.059798771,1376728.6564807128,1387279.2531626546,1397829.8498445963,1408380.446526538,1418931.0432084799,1429481.6398904216,1440032.2365723634,1450582.8332543052,1461133.429936247,1471684.0266181887,1482234.6233001305,1492785.2199820722,1503335.816664014,1513886.4133459558,1524437.0100278975,1534987.6067098393,1545538.203391781,1556088.8000737228,1566639.3967556646,1577189.9934376064,1587740.5901195481,1598291.18680149,1608841.7834834317,1619392.3801653734,1629942.9768473152,1640493.573529257,1651044.1702111987,1661594.7668931405,1672145.3635750823,1682695.960257024,1693246.5569389658,1703797.1536209076,1714347.7503028493,1724898.346984791,1735448.9436667329,1745999.5403486746,1756550.1370306164,1767100.7337125582,1777651.3303945,1788201.9270764417,1798752.5237583835,1809303.1204403252,1819853.717122267,1830404.3138042088,1840954.9104861505,1851505.5071680923,1862056.103850034,1872606.7005319758,1883157.2972139176,1893707.8938958594,1904258.4905778011,1914809.0872597431,1925359.683941685,1935910.2806236267,1946460.8773055684,1957011.4739875102,1967562.070669452,1978112.6673513937,1988663.2640333355,1999213.8607152773,2009764.457397219,2020315.0540791608,2030865.6507611026,2041416.2474430443,2051966.844124986,2062517.4408069279,2073068.0374888696,2083618.6341708114,2094169.2308527532,2104719.827534695,2115270.4242166365,2125821.0208985787,2136371.61758052,2146922.214262462,2157472.8109444035,2168023.4076263458,2178574.004308287,2189124.6009902293,2199675.1976721706,2210225.794354113,2220776.391036054,2231326.9877179964,2241877.5843999377,2252428.18108188,2262978.777763821,2273529.3744457634,2284079.9711277047,2294630.567809647,2305181.1644915882,2315731.7611735305,2326282.357855472,2336832.954537414,2347383.5512193553,2357934.1479012975,2368484.744583239,2379035.341265181,2389585.9379471224,2400136.5346290646,2410687.131311006,2421237.727992948,2431788.3246748894,2442338.9213568317,2452889.518038773,2463440.114720715,2473990.7114026565,2484541.3080845987,2495091.90476654,2505642.5014484823,2516193.0981304236,2526743.694812366,2537294.291494307,2547844.8881762493,2558395.4848581906,2568946.081540133,2579496.678222074,2590047.2749040164,2600597.8715859577,2611148.4682679,2621699.0649498412,2632249.6616317835,2642800.258313725,2653350.854995667,2663901.4516776083,2674452.0483595505,2685002.645041492,2695553.241723434,2706103.8384053754,2716654.4350873176,2727205.031769259,2737755.628451201,2748306.2251331424,2758856.8218150847,2769407.418497026,2779958.015178968,2790508.6118609095,2801059.2085428517,2811609.805224793,2822160.4019067353,2832710.9985886766,2843261.595270619,2853812.19195256,2864362.7886345023,2874913.3853164436,2885463.981998386,2896014.578680327,2906565.1753622694,2917115.7720442107,2927666.368726153,2938216.965408094,2948767.5620900365,2959318.1587719778,2969868.75545392,2980419.3521358613,2990969.9488178035,3001520.545499745,3012071.142181687,3022621.7388636284,3033172.3355455706,3043722.932227512],\"yaxis\":\"y\",\"type\":\"scatter\"}],                        {\"template\":{\"data\":{\"bar\":[{\"error_x\":{\"color\":\"#2a3f5f\"},\"error_y\":{\"color\":\"#2a3f5f\"},\"marker\":{\"line\":{\"color\":\"#E5ECF6\",\"width\":0.5},\"pattern\":{\"fillmode\":\"overlay\",\"size\":10,\"solidity\":0.2}},\"type\":\"bar\"}],\"barpolar\":[{\"marker\":{\"line\":{\"color\":\"#E5ECF6\",\"width\":0.5},\"pattern\":{\"fillmode\":\"overlay\",\"size\":10,\"solidity\":0.2}},\"type\":\"barpolar\"}],\"carpet\":[{\"aaxis\":{\"endlinecolor\":\"#2a3f5f\",\"gridcolor\":\"white\",\"linecolor\":\"white\",\"minorgridcolor\":\"white\",\"startlinecolor\":\"#2a3f5f\"},\"baxis\":{\"endlinecolor\":\"#2a3f5f\",\"gridcolor\":\"white\",\"linecolor\":\"white\",\"minorgridcolor\":\"white\",\"startlinecolor\":\"#2a3f5f\"},\"type\":\"carpet\"}],\"choropleth\":[{\"colorbar\":{\"outlinewidth\":0,\"ticks\":\"\"},\"type\":\"choropleth\"}],\"contour\":[{\"colorbar\":{\"outlinewidth\":0,\"ticks\":\"\"},\"colorscale\":[[0.0,\"#0d0887\"],[0.1111111111111111,\"#46039f\"],[0.2222222222222222,\"#7201a8\"],[0.3333333333333333,\"#9c179e\"],[0.4444444444444444,\"#bd3786\"],[0.5555555555555556,\"#d8576b\"],[0.6666666666666666,\"#ed7953\"],[0.7777777777777778,\"#fb9f3a\"],[0.8888888888888888,\"#fdca26\"],[1.0,\"#f0f921\"]],\"type\":\"contour\"}],\"contourcarpet\":[{\"colorbar\":{\"outlinewidth\":0,\"ticks\":\"\"},\"type\":\"contourcarpet\"}],\"heatmap\":[{\"colorbar\":{\"outlinewidth\":0,\"ticks\":\"\"},\"colorscale\":[[0.0,\"#0d0887\"],[0.1111111111111111,\"#46039f\"],[0.2222222222222222,\"#7201a8\"],[0.3333333333333333,\"#9c179e\"],[0.4444444444444444,\"#bd3786\"],[0.5555555555555556,\"#d8576b\"],[0.6666666666666666,\"#ed7953\"],[0.7777777777777778,\"#fb9f3a\"],[0.8888888888888888,\"#fdca26\"],[1.0,\"#f0f921\"]],\"type\":\"heatmap\"}],\"heatmapgl\":[{\"colorbar\":{\"outlinewidth\":0,\"ticks\":\"\"},\"colorscale\":[[0.0,\"#0d0887\"],[0.1111111111111111,\"#46039f\"],[0.2222222222222222,\"#7201a8\"],[0.3333333333333333,\"#9c179e\"],[0.4444444444444444,\"#bd3786\"],[0.5555555555555556,\"#d8576b\"],[0.6666666666666666,\"#ed7953\"],[0.7777777777777778,\"#fb9f3a\"],[0.8888888888888888,\"#fdca26\"],[1.0,\"#f0f921\"]],\"type\":\"heatmapgl\"}],\"histogram\":[{\"marker\":{\"pattern\":{\"fillmode\":\"overlay\",\"size\":10,\"solidity\":0.2}},\"type\":\"histogram\"}],\"histogram2d\":[{\"colorbar\":{\"outlinewidth\":0,\"ticks\":\"\"},\"colorscale\":[[0.0,\"#0d0887\"],[0.1111111111111111,\"#46039f\"],[0.2222222222222222,\"#7201a8\"],[0.3333333333333333,\"#9c179e\"],[0.4444444444444444,\"#bd3786\"],[0.5555555555555556,\"#d8576b\"],[0.6666666666666666,\"#ed7953\"],[0.7777777777777778,\"#fb9f3a\"],[0.8888888888888888,\"#fdca26\"],[1.0,\"#f0f921\"]],\"type\":\"histogram2d\"}],\"histogram2dcontour\":[{\"colorbar\":{\"outlinewidth\":0,\"ticks\":\"\"},\"colorscale\":[[0.0,\"#0d0887\"],[0.1111111111111111,\"#46039f\"],[0.2222222222222222,\"#7201a8\"],[0.3333333333333333,\"#9c179e\"],[0.4444444444444444,\"#bd3786\"],[0.5555555555555556,\"#d8576b\"],[0.6666666666666666,\"#ed7953\"],[0.7777777777777778,\"#fb9f3a\"],[0.8888888888888888,\"#fdca26\"],[1.0,\"#f0f921\"]],\"type\":\"histogram2dcontour\"}],\"mesh3d\":[{\"colorbar\":{\"outlinewidth\":0,\"ticks\":\"\"},\"type\":\"mesh3d\"}],\"parcoords\":[{\"line\":{\"colorbar\":{\"outlinewidth\":0,\"ticks\":\"\"}},\"type\":\"parcoords\"}],\"pie\":[{\"automargin\":true,\"type\":\"pie\"}],\"scatter\":[{\"marker\":{\"colorbar\":{\"outlinewidth\":0,\"ticks\":\"\"}},\"type\":\"scatter\"}],\"scatter3d\":[{\"line\":{\"colorbar\":{\"outlinewidth\":0,\"ticks\":\"\"}},\"marker\":{\"colorbar\":{\"outlinewidth\":0,\"ticks\":\"\"}},\"type\":\"scatter3d\"}],\"scattercarpet\":[{\"marker\":{\"colorbar\":{\"outlinewidth\":0,\"ticks\":\"\"}},\"type\":\"scattercarpet\"}],\"scattergeo\":[{\"marker\":{\"colorbar\":{\"outlinewidth\":0,\"ticks\":\"\"}},\"type\":\"scattergeo\"}],\"scattergl\":[{\"marker\":{\"colorbar\":{\"outlinewidth\":0,\"ticks\":\"\"}},\"type\":\"scattergl\"}],\"scattermapbox\":[{\"marker\":{\"colorbar\":{\"outlinewidth\":0,\"ticks\":\"\"}},\"type\":\"scattermapbox\"}],\"scatterpolar\":[{\"marker\":{\"colorbar\":{\"outlinewidth\":0,\"ticks\":\"\"}},\"type\":\"scatterpolar\"}],\"scatterpolargl\":[{\"marker\":{\"colorbar\":{\"outlinewidth\":0,\"ticks\":\"\"}},\"type\":\"scatterpolargl\"}],\"scatterternary\":[{\"marker\":{\"colorbar\":{\"outlinewidth\":0,\"ticks\":\"\"}},\"type\":\"scatterternary\"}],\"surface\":[{\"colorbar\":{\"outlinewidth\":0,\"ticks\":\"\"},\"colorscale\":[[0.0,\"#0d0887\"],[0.1111111111111111,\"#46039f\"],[0.2222222222222222,\"#7201a8\"],[0.3333333333333333,\"#9c179e\"],[0.4444444444444444,\"#bd3786\"],[0.5555555555555556,\"#d8576b\"],[0.6666666666666666,\"#ed7953\"],[0.7777777777777778,\"#fb9f3a\"],[0.8888888888888888,\"#fdca26\"],[1.0,\"#f0f921\"]],\"type\":\"surface\"}],\"table\":[{\"cells\":{\"fill\":{\"color\":\"#EBF0F8\"},\"line\":{\"color\":\"white\"}},\"header\":{\"fill\":{\"color\":\"#C8D4E3\"},\"line\":{\"color\":\"white\"}},\"type\":\"table\"}]},\"layout\":{\"annotationdefaults\":{\"arrowcolor\":\"#2a3f5f\",\"arrowhead\":0,\"arrowwidth\":1},\"autotypenumbers\":\"strict\",\"coloraxis\":{\"colorbar\":{\"outlinewidth\":0,\"ticks\":\"\"}},\"colorscale\":{\"diverging\":[[0,\"#8e0152\"],[0.1,\"#c51b7d\"],[0.2,\"#de77ae\"],[0.3,\"#f1b6da\"],[0.4,\"#fde0ef\"],[0.5,\"#f7f7f7\"],[0.6,\"#e6f5d0\"],[0.7,\"#b8e186\"],[0.8,\"#7fbc41\"],[0.9,\"#4d9221\"],[1,\"#276419\"]],\"sequential\":[[0.0,\"#0d0887\"],[0.1111111111111111,\"#46039f\"],[0.2222222222222222,\"#7201a8\"],[0.3333333333333333,\"#9c179e\"],[0.4444444444444444,\"#bd3786\"],[0.5555555555555556,\"#d8576b\"],[0.6666666666666666,\"#ed7953\"],[0.7777777777777778,\"#fb9f3a\"],[0.8888888888888888,\"#fdca26\"],[1.0,\"#f0f921\"]],\"sequentialminus\":[[0.0,\"#0d0887\"],[0.1111111111111111,\"#46039f\"],[0.2222222222222222,\"#7201a8\"],[0.3333333333333333,\"#9c179e\"],[0.4444444444444444,\"#bd3786\"],[0.5555555555555556,\"#d8576b\"],[0.6666666666666666,\"#ed7953\"],[0.7777777777777778,\"#fb9f3a\"],[0.8888888888888888,\"#fdca26\"],[1.0,\"#f0f921\"]]},\"colorway\":[\"#636efa\",\"#EF553B\",\"#00cc96\",\"#ab63fa\",\"#FFA15A\",\"#19d3f3\",\"#FF6692\",\"#B6E880\",\"#FF97FF\",\"#FECB52\"],\"font\":{\"color\":\"#2a3f5f\"},\"geo\":{\"bgcolor\":\"white\",\"lakecolor\":\"white\",\"landcolor\":\"#E5ECF6\",\"showlakes\":true,\"showland\":true,\"subunitcolor\":\"white\"},\"hoverlabel\":{\"align\":\"left\"},\"hovermode\":\"closest\",\"mapbox\":{\"style\":\"light\"},\"paper_bgcolor\":\"white\",\"plot_bgcolor\":\"#E5ECF6\",\"polar\":{\"angularaxis\":{\"gridcolor\":\"white\",\"linecolor\":\"white\",\"ticks\":\"\"},\"bgcolor\":\"#E5ECF6\",\"radialaxis\":{\"gridcolor\":\"white\",\"linecolor\":\"white\",\"ticks\":\"\"}},\"scene\":{\"xaxis\":{\"backgroundcolor\":\"#E5ECF6\",\"gridcolor\":\"white\",\"gridwidth\":2,\"linecolor\":\"white\",\"showbackground\":true,\"ticks\":\"\",\"zerolinecolor\":\"white\"},\"yaxis\":{\"backgroundcolor\":\"#E5ECF6\",\"gridcolor\":\"white\",\"gridwidth\":2,\"linecolor\":\"white\",\"showbackground\":true,\"ticks\":\"\",\"zerolinecolor\":\"white\"},\"zaxis\":{\"backgroundcolor\":\"#E5ECF6\",\"gridcolor\":\"white\",\"gridwidth\":2,\"linecolor\":\"white\",\"showbackground\":true,\"ticks\":\"\",\"zerolinecolor\":\"white\"}},\"shapedefaults\":{\"line\":{\"color\":\"#2a3f5f\"}},\"ternary\":{\"aaxis\":{\"gridcolor\":\"white\",\"linecolor\":\"white\",\"ticks\":\"\"},\"baxis\":{\"gridcolor\":\"white\",\"linecolor\":\"white\",\"ticks\":\"\"},\"bgcolor\":\"#E5ECF6\",\"caxis\":{\"gridcolor\":\"white\",\"linecolor\":\"white\",\"ticks\":\"\"}},\"title\":{\"x\":0.05},\"xaxis\":{\"automargin\":true,\"gridcolor\":\"white\",\"linecolor\":\"white\",\"ticks\":\"\",\"title\":{\"standoff\":15},\"zerolinecolor\":\"white\",\"zerolinewidth\":2},\"yaxis\":{\"automargin\":true,\"gridcolor\":\"white\",\"linecolor\":\"white\",\"ticks\":\"\",\"title\":{\"standoff\":15},\"zerolinecolor\":\"white\",\"zerolinewidth\":2}}},\"xaxis\":{\"anchor\":\"y\",\"domain\":[0.0,1.0],\"title\":{\"text\":\"Date\"}},\"yaxis\":{\"anchor\":\"x\",\"domain\":[0.0,1.0],\"title\":{\"text\":\"value\"}},\"legend\":{\"title\":{\"text\":\"variable\"},\"tracegroupgap\":0},\"title\":{\"text\":\"Real Consumer Spending vs Linear Regression Prediction \"}},                        {\"responsive\": true}                    ).then(function(){\n",
              "                            \n",
              "var gd = document.getElementById('f38c59be-ded5-4d28-ae8b-19ab3c33846b');\n",
              "var x = new MutationObserver(function (mutations, observer) {{\n",
              "        var display = window.getComputedStyle(gd).display;\n",
              "        if (!display || display === 'none') {{\n",
              "            console.log([gd, 'removed!']);\n",
              "            Plotly.purge(gd);\n",
              "            observer.disconnect();\n",
              "        }}\n",
              "}});\n",
              "\n",
              "// Listen for the removal of the full notebook cells\n",
              "var notebookContainer = gd.closest('#notebook-container');\n",
              "if (notebookContainer) {{\n",
              "    x.observe(notebookContainer, {childList: true});\n",
              "}}\n",
              "\n",
              "// Listen for the clearing of the current output cell\n",
              "var outputEl = gd.closest('.output');\n",
              "if (outputEl) {{\n",
              "    x.observe(outputEl, {childList: true});\n",
              "}}\n",
              "\n",
              "                        })                };                            </script>        </div>\n",
              "</body>\n",
              "</html>"
            ]
          },
          "metadata": {}
        }
      ]
    },
    {
      "cell_type": "markdown",
      "source": [
        "### E) PLOT RESIDUALS\n",
        "\n",
        "\n",
        "\n"
      ],
      "metadata": {
        "id": "Q4Q3rCKZR0AS"
      }
    },
    {
      "cell_type": "code",
      "source": [
        "spending_df[\"Linear_Regression_Resid\"] = results.resid\n",
        "px.line(spending_df, x=\"Date\", y=\"Linear_Regression_Resid\", title=\"Real Consumer Spending vs trend residuals (Statsmodels OLS)\")\n"
      ],
      "metadata": {
        "id": "fwtA_ZQm7r6W",
        "colab": {
          "base_uri": "https://localhost:8080/",
          "height": 542
        },
        "outputId": "7ae83670-06ac-4704-d813-59a9eb92eed7"
      },
      "execution_count": 13,
      "outputs": [
        {
          "output_type": "display_data",
          "data": {
            "text/html": [
              "<html>\n",
              "<head><meta charset=\"utf-8\" /></head>\n",
              "<body>\n",
              "    <div>            <script src=\"https://cdnjs.cloudflare.com/ajax/libs/mathjax/2.7.5/MathJax.js?config=TeX-AMS-MML_SVG\"></script><script type=\"text/javascript\">if (window.MathJax) {MathJax.Hub.Config({SVG: {font: \"STIX-Web\"}});}</script>                <script type=\"text/javascript\">window.PlotlyConfig = {MathJaxConfig: 'local'};</script>\n",
              "        <script src=\"https://cdn.plot.ly/plotly-2.8.3.min.js\"></script>                <div id=\"fcb74386-096a-4fbd-8ed7-42710bc37cb8\" class=\"plotly-graph-div\" style=\"height:525px; width:100%;\"></div>            <script type=\"text/javascript\">                                    window.PLOTLYENV=window.PLOTLYENV || {};                                    if (document.getElementById(\"fcb74386-096a-4fbd-8ed7-42710bc37cb8\")) {                    Plotly.newPlot(                        \"fcb74386-096a-4fbd-8ed7-42710bc37cb8\",                        [{\"hovertemplate\":\"Date=%{x}<br>Linear_Regression_Resid=%{y}<extra></extra>\",\"legendgroup\":\"\",\"line\":{\"color\":\"#636efa\",\"dash\":\"solid\"},\"marker\":{\"symbol\":\"circle\"},\"mode\":\"lines\",\"name\":\"\",\"orientation\":\"v\",\"showlegend\":false,\"x\":[\"1947-03-31T00:00:00\",\"1947-06-30T00:00:00\",\"1947-09-30T00:00:00\",\"1947-12-31T00:00:00\",\"1948-03-31T00:00:00\",\"1948-06-30T00:00:00\",\"1948-09-30T00:00:00\",\"1948-12-31T00:00:00\",\"1949-03-31T00:00:00\",\"1949-06-30T00:00:00\",\"1949-09-30T00:00:00\",\"1949-12-31T00:00:00\",\"1950-03-31T00:00:00\",\"1950-06-30T00:00:00\",\"1950-09-30T00:00:00\",\"1950-12-31T00:00:00\",\"1951-03-31T00:00:00\",\"1951-06-30T00:00:00\",\"1951-09-30T00:00:00\",\"1951-12-31T00:00:00\",\"1952-03-31T00:00:00\",\"1952-06-30T00:00:00\",\"1952-09-30T00:00:00\",\"1952-12-31T00:00:00\",\"1953-03-31T00:00:00\",\"1953-06-30T00:00:00\",\"1953-09-30T00:00:00\",\"1953-12-31T00:00:00\",\"1954-03-31T00:00:00\",\"1954-06-30T00:00:00\",\"1954-09-30T00:00:00\",\"1954-12-31T00:00:00\",\"1955-03-31T00:00:00\",\"1955-06-30T00:00:00\",\"1955-09-30T00:00:00\",\"1955-12-31T00:00:00\",\"1956-03-31T00:00:00\",\"1956-06-30T00:00:00\",\"1956-09-30T00:00:00\",\"1956-12-31T00:00:00\",\"1957-03-31T00:00:00\",\"1957-06-30T00:00:00\",\"1957-09-30T00:00:00\",\"1957-12-31T00:00:00\",\"1958-03-31T00:00:00\",\"1958-06-30T00:00:00\",\"1958-09-30T00:00:00\",\"1958-12-31T00:00:00\",\"1959-03-31T00:00:00\",\"1959-06-30T00:00:00\",\"1959-09-30T00:00:00\",\"1959-12-31T00:00:00\",\"1960-03-31T00:00:00\",\"1960-06-30T00:00:00\",\"1960-09-30T00:00:00\",\"1960-12-31T00:00:00\",\"1961-03-31T00:00:00\",\"1961-06-30T00:00:00\",\"1961-09-30T00:00:00\",\"1961-12-31T00:00:00\",\"1962-03-31T00:00:00\",\"1962-06-30T00:00:00\",\"1962-09-30T00:00:00\",\"1962-12-31T00:00:00\",\"1963-03-31T00:00:00\",\"1963-06-30T00:00:00\",\"1963-09-30T00:00:00\",\"1963-12-31T00:00:00\",\"1964-03-31T00:00:00\",\"1964-06-30T00:00:00\",\"1964-09-30T00:00:00\",\"1964-12-31T00:00:00\",\"1965-03-31T00:00:00\",\"1965-06-30T00:00:00\",\"1965-09-30T00:00:00\",\"1965-12-31T00:00:00\",\"1966-03-31T00:00:00\",\"1966-06-30T00:00:00\",\"1966-09-30T00:00:00\",\"1966-12-31T00:00:00\",\"1967-03-31T00:00:00\",\"1967-06-30T00:00:00\",\"1967-09-30T00:00:00\",\"1967-12-31T00:00:00\",\"1968-03-31T00:00:00\",\"1968-06-30T00:00:00\",\"1968-09-30T00:00:00\",\"1968-12-31T00:00:00\",\"1969-03-31T00:00:00\",\"1969-06-30T00:00:00\",\"1969-09-30T00:00:00\",\"1969-12-31T00:00:00\",\"1970-03-31T00:00:00\",\"1970-06-30T00:00:00\",\"1970-09-30T00:00:00\",\"1970-12-31T00:00:00\",\"1971-03-31T00:00:00\",\"1971-06-30T00:00:00\",\"1971-09-30T00:00:00\",\"1971-12-31T00:00:00\",\"1972-03-31T00:00:00\",\"1972-06-30T00:00:00\",\"1972-09-30T00:00:00\",\"1972-12-31T00:00:00\",\"1973-03-31T00:00:00\",\"1973-06-30T00:00:00\",\"1973-09-30T00:00:00\",\"1973-12-31T00:00:00\",\"1974-03-31T00:00:00\",\"1974-06-30T00:00:00\",\"1974-09-30T00:00:00\",\"1974-12-31T00:00:00\",\"1975-03-31T00:00:00\",\"1975-06-30T00:00:00\",\"1975-09-30T00:00:00\",\"1975-12-31T00:00:00\",\"1976-03-31T00:00:00\",\"1976-06-30T00:00:00\",\"1976-09-30T00:00:00\",\"1976-12-31T00:00:00\",\"1977-03-31T00:00:00\",\"1977-06-30T00:00:00\",\"1977-09-30T00:00:00\",\"1977-12-31T00:00:00\",\"1978-03-31T00:00:00\",\"1978-06-30T00:00:00\",\"1978-09-30T00:00:00\",\"1978-12-31T00:00:00\",\"1979-03-31T00:00:00\",\"1979-06-30T00:00:00\",\"1979-09-30T00:00:00\",\"1979-12-31T00:00:00\",\"1980-03-31T00:00:00\",\"1980-06-30T00:00:00\",\"1980-09-30T00:00:00\",\"1980-12-31T00:00:00\",\"1981-03-31T00:00:00\",\"1981-06-30T00:00:00\",\"1981-09-30T00:00:00\",\"1981-12-31T00:00:00\",\"1982-03-31T00:00:00\",\"1982-06-30T00:00:00\",\"1982-09-30T00:00:00\",\"1982-12-31T00:00:00\",\"1983-03-31T00:00:00\",\"1983-06-30T00:00:00\",\"1983-09-30T00:00:00\",\"1983-12-31T00:00:00\",\"1984-03-31T00:00:00\",\"1984-06-30T00:00:00\",\"1984-09-30T00:00:00\",\"1984-12-31T00:00:00\",\"1985-03-31T00:00:00\",\"1985-06-30T00:00:00\",\"1985-09-30T00:00:00\",\"1985-12-31T00:00:00\",\"1986-03-31T00:00:00\",\"1986-06-30T00:00:00\",\"1986-09-30T00:00:00\",\"1986-12-31T00:00:00\",\"1987-03-31T00:00:00\",\"1987-06-30T00:00:00\",\"1987-09-30T00:00:00\",\"1987-12-31T00:00:00\",\"1988-03-31T00:00:00\",\"1988-06-30T00:00:00\",\"1988-09-30T00:00:00\",\"1988-12-31T00:00:00\",\"1989-03-31T00:00:00\",\"1989-06-30T00:00:00\",\"1989-09-30T00:00:00\",\"1989-12-31T00:00:00\",\"1990-03-31T00:00:00\",\"1990-06-30T00:00:00\",\"1990-09-30T00:00:00\",\"1990-12-31T00:00:00\",\"1991-03-31T00:00:00\",\"1991-06-30T00:00:00\",\"1991-09-30T00:00:00\",\"1991-12-31T00:00:00\",\"1992-03-31T00:00:00\",\"1992-06-30T00:00:00\",\"1992-09-30T00:00:00\",\"1992-12-31T00:00:00\",\"1993-03-31T00:00:00\",\"1993-06-30T00:00:00\",\"1993-09-30T00:00:00\",\"1993-12-31T00:00:00\",\"1994-03-31T00:00:00\",\"1994-06-30T00:00:00\",\"1994-09-30T00:00:00\",\"1994-12-31T00:00:00\",\"1995-03-31T00:00:00\",\"1995-06-30T00:00:00\",\"1995-09-30T00:00:00\",\"1995-12-31T00:00:00\",\"1996-03-31T00:00:00\",\"1996-06-30T00:00:00\",\"1996-09-30T00:00:00\",\"1996-12-31T00:00:00\",\"1997-03-31T00:00:00\",\"1997-06-30T00:00:00\",\"1997-09-30T00:00:00\",\"1997-12-31T00:00:00\",\"1998-03-31T00:00:00\",\"1998-06-30T00:00:00\",\"1998-09-30T00:00:00\",\"1998-12-31T00:00:00\",\"1999-03-31T00:00:00\",\"1999-06-30T00:00:00\",\"1999-09-30T00:00:00\",\"1999-12-31T00:00:00\",\"2000-03-31T00:00:00\",\"2000-06-30T00:00:00\",\"2000-09-30T00:00:00\",\"2000-12-31T00:00:00\",\"2001-03-31T00:00:00\",\"2001-06-30T00:00:00\",\"2001-09-30T00:00:00\",\"2001-12-31T00:00:00\",\"2002-03-31T00:00:00\",\"2002-06-30T00:00:00\",\"2002-09-30T00:00:00\",\"2002-12-31T00:00:00\",\"2003-03-31T00:00:00\",\"2003-06-30T00:00:00\",\"2003-09-30T00:00:00\",\"2003-12-31T00:00:00\",\"2004-03-31T00:00:00\",\"2004-06-30T00:00:00\",\"2004-09-30T00:00:00\",\"2004-12-31T00:00:00\",\"2005-03-31T00:00:00\",\"2005-06-30T00:00:00\",\"2005-09-30T00:00:00\",\"2005-12-31T00:00:00\",\"2006-03-31T00:00:00\",\"2006-06-30T00:00:00\",\"2006-09-30T00:00:00\",\"2006-12-31T00:00:00\",\"2007-03-31T00:00:00\",\"2007-06-30T00:00:00\",\"2007-09-30T00:00:00\",\"2007-12-31T00:00:00\",\"2008-03-31T00:00:00\",\"2008-06-30T00:00:00\",\"2008-09-30T00:00:00\",\"2008-12-31T00:00:00\",\"2009-03-31T00:00:00\",\"2009-06-30T00:00:00\",\"2009-09-30T00:00:00\",\"2009-12-31T00:00:00\",\"2010-03-31T00:00:00\",\"2010-06-30T00:00:00\",\"2010-09-30T00:00:00\",\"2010-12-31T00:00:00\",\"2011-03-31T00:00:00\",\"2011-06-30T00:00:00\",\"2011-09-30T00:00:00\",\"2011-12-31T00:00:00\",\"2012-03-31T00:00:00\",\"2012-06-30T00:00:00\",\"2012-09-30T00:00:00\",\"2012-12-31T00:00:00\",\"2013-03-31T00:00:00\",\"2013-06-30T00:00:00\",\"2013-09-30T00:00:00\",\"2013-12-31T00:00:00\",\"2014-03-31T00:00:00\",\"2014-06-30T00:00:00\",\"2014-09-30T00:00:00\",\"2014-12-31T00:00:00\",\"2015-03-31T00:00:00\",\"2015-06-30T00:00:00\",\"2015-09-30T00:00:00\",\"2015-12-31T00:00:00\",\"2016-03-31T00:00:00\",\"2016-06-30T00:00:00\",\"2016-09-30T00:00:00\",\"2016-12-31T00:00:00\",\"2017-03-31T00:00:00\",\"2017-06-30T00:00:00\",\"2017-09-30T00:00:00\",\"2017-12-31T00:00:00\",\"2018-03-31T00:00:00\",\"2018-06-30T00:00:00\",\"2018-09-30T00:00:00\",\"2018-12-31T00:00:00\",\"2019-03-31T00:00:00\",\"2019-06-30T00:00:00\",\"2019-09-30T00:00:00\",\"2019-12-31T00:00:00\",\"2020-03-31T00:00:00\",\"2020-06-30T00:00:00\",\"2020-09-30T00:00:00\",\"2020-12-31T00:00:00\",\"2021-03-31T00:00:00\",\"2021-06-30T00:00:00\",\"2021-09-30T00:00:00\"],\"xaxis\":\"x\",\"y\":[400952.01600544964,413055.3779105564,397856.29875663295,420681.3244680455,370130.6578665044,375078.6875461192,361858.3138136713,386777.3523453427,330656.8792891996,343804.75355559506,332077.65229900787,355999.9042533027,305925.175366345,317624.30510591774,323276.21060137125,333037.82433605625,287429.1542451988,280589.83697666216,270086.4404269138,296139.9663696907,240805.46185337627,252551.90391705665,239948.46284177128,278927.71444625896,223148.24934759754,234793.5958130053,216676.29924864654,240672.09285898943,182474.99124550185,196417.07054698415,183456.879435617,217789.71110763238,166034.12583950267,185696.69051682635,173406.51335259725,205650.46911161212,148172.46397439926,153662.5677011737,138968.62019653624,171821.05193059397,112483.99945108808,124056.60612171632,113890.30309729418,137835.85737192677,71956.93066694378,82581.98037702532,72339.53592821345,108998.34503644751,57277.21926073264,74672.16763057857,58131.494517920946,82543.06099267601,30012.680535552325,49934.60256040032,26052.096709526493,51622.70204513031,-5546.697822770162,10964.111363697099,-4697.064459540299,29629.011852763477,-23395.976331684913,-3583.0229266459355,-22902.73323340225,12925.74428139499,-45810.65655626892,-25130.767802643357,-39334.660486325854,-6482.470197706483,-56906.43801854947,-37032.34316621546,-45520.7623266367,-12436.787336382899,-70663.089297125,-42906.13888101885,-54137.99283659668,-2164.651921477169,-70078.33258559369,-48106.180756689864,-57000.14496277261,-20388.8432806785,-92739.82068367931,-65784.64736943308,-78254.85820169398,-47534.34430491354,-103050.85453687166,-75123.23796381452,-76322.13208907773,-40257.91914385522,-114041.42460295092,-85795.32747939322,-95497.32984631101,-59837.94510697655,-135446.5955520681,-110715.49678777065,-117507.21415925073,-89122.13158901769,-157644.91365262237,-124310.13675161742,-131993.8553129147,-89304.6638771554,-158463.31091097184,-120100.42490393599,-122216.55634466407,-74364.64694738097,-140465.48471611517,-112498.36082304467,-127817.20141757431,-95941.37906456902,-193955.06269829348,-157122.21179117647,-168759.40395957662,-156474.06637177744,-230957.26284282678,-189681.7498820104,-190088.63342564774,-152754.22543594672,-216448.3986884217,-181806.2162725554,-189248.3728267015,-142377.85935389937,-216684.15425532195,-188665.57808902836,-190671.95984348096,-141136.7087750493,-222579.1427371404,-181723.85740681877,-185914.70205085922,-141571.35555984452,-218209.87554506934,-205294.09499389073,-213051.83485600376,-165457.6060693639,-248658.8613714372,-261086.7729559102,-262972.39753889036,-211204.1313467289,-296324.7668178824,-275091.4682544989,-281018.6406274373,-241073.57568906248,-323726.78635754273,-307885.21053698123,-314621.9348635662,-252166.72949220403,-332227.63577670045,-287004.10641987785,-284915.37748712255,-215362.6446353793,-294415.37174522853,-263313.33578170673,-277104.27635580464,-210010.4883425634,-288541.7091190764,-246895.44213587092,-242836.85977904778,-183848.06401895196,-277027.67541904096,-238130.95568242087,-230372.15474046953,-173619.2849782533,-283364.1827686364,-226533.20989584574,-227201.45777026587,-170990.23908741493,-259511.45583213656,-220108.37139348267,-219067.11738133337,-148396.94364394993,-258722.0835951944,-219663.05137658748,-216171.8544993,-153806.9402719154,-261850.8854518896,-222962.52390149492,-227949.17965678964,-185956.37398738158,-307898.60783691844,-264977.5849385152,-265448.3181716504,-217425.657533356,-302578.1210845304,-260836.12872604793,-254742.55317029916,-184350.03158982517,-297936.80655727535,-245419.8178646823,-239706.354872989,-170169.99851942435,-273349.06306981994,-227045.0393670397,-223401.47749124793,-147453.00899457396,-272742.01538182446,-213918.83456095378,-211600.49700544868,-143188.26252314216,-247584.12290568673,-196001.49539082428,-198200.836287671,-128347.80427807872,-228948.04282686138,-185517.77041076822,-165505.7441074904,-88694.80884420755,-197039.7709575151,-116173.89431392052,-106630.6380981796,-22793.837185513694,-129505.80433211359,-55523.762271786574,-48155.424936936935,36369.00526614208,-50465.30866850377,8866.515416905284,6337.5519351386465,84983.11836334458,-30051.04216683423,18603.69805643428,6287.690993827302,97429.01245851442,-15143.011008037254,25271.889914105646,31875.21015546564,116801.45328336162,-7796.981765773147,53748.117570520844,71646.4583605621,160756.4205138255,50175.3591192076,92179.01101761125,104330.0317761018,216525.9278665427,80475.27285838686,148092.6688278946,164173.88056997396,246388.27197678154,120833.27247208776,184282.20815635286,180114.1282721744,278503.6983971633,152908.2802156587,205517.83036806155,199625.53744599735,288628.62032165146,170305.5738044693,193786.55382369272,148513.36776641337,183002.54992776178,49831.77322463645,93438.89995538583,95269.4711654312,147798.22604992986,28956.306228831876,104068.27953841351,107519.6193124014,177959.53480812814,51641.610414804425,114174.929524126,104185.48448041454,161531.56371662533,55802.21523776045,107366.36592361052,88979.70438251318,160074.16282057343,29366.53118911246,97580.4722456336,94568.2880568942,186206.38105494808,41455.11044046143,124924.16473803855,135427.19089794718,240918.08625620743,98126.99757452449,181794.57113658683,189253.25835739262,282362.55239280267,138066.98982068757,211637.4036303889,215752.77285960317,311344.0191927273,151302.12871430255,245975.0932912263,247582.89325377345,359128.01994825015,201907.37607686222,299267.6957784216,301090.08375354484,394362.7550821472,212416.87420252757,325625.3799219271,333285.53121131565,437532.4235269488,182850.16636863677,-54871.081036717165,192904.06657308666,323158.0598556646,203283.36868704902,385054.6389126135,384394.9972109725],\"yaxis\":\"y\",\"type\":\"scatter\"}],                        {\"template\":{\"data\":{\"bar\":[{\"error_x\":{\"color\":\"#2a3f5f\"},\"error_y\":{\"color\":\"#2a3f5f\"},\"marker\":{\"line\":{\"color\":\"#E5ECF6\",\"width\":0.5},\"pattern\":{\"fillmode\":\"overlay\",\"size\":10,\"solidity\":0.2}},\"type\":\"bar\"}],\"barpolar\":[{\"marker\":{\"line\":{\"color\":\"#E5ECF6\",\"width\":0.5},\"pattern\":{\"fillmode\":\"overlay\",\"size\":10,\"solidity\":0.2}},\"type\":\"barpolar\"}],\"carpet\":[{\"aaxis\":{\"endlinecolor\":\"#2a3f5f\",\"gridcolor\":\"white\",\"linecolor\":\"white\",\"minorgridcolor\":\"white\",\"startlinecolor\":\"#2a3f5f\"},\"baxis\":{\"endlinecolor\":\"#2a3f5f\",\"gridcolor\":\"white\",\"linecolor\":\"white\",\"minorgridcolor\":\"white\",\"startlinecolor\":\"#2a3f5f\"},\"type\":\"carpet\"}],\"choropleth\":[{\"colorbar\":{\"outlinewidth\":0,\"ticks\":\"\"},\"type\":\"choropleth\"}],\"contour\":[{\"colorbar\":{\"outlinewidth\":0,\"ticks\":\"\"},\"colorscale\":[[0.0,\"#0d0887\"],[0.1111111111111111,\"#46039f\"],[0.2222222222222222,\"#7201a8\"],[0.3333333333333333,\"#9c179e\"],[0.4444444444444444,\"#bd3786\"],[0.5555555555555556,\"#d8576b\"],[0.6666666666666666,\"#ed7953\"],[0.7777777777777778,\"#fb9f3a\"],[0.8888888888888888,\"#fdca26\"],[1.0,\"#f0f921\"]],\"type\":\"contour\"}],\"contourcarpet\":[{\"colorbar\":{\"outlinewidth\":0,\"ticks\":\"\"},\"type\":\"contourcarpet\"}],\"heatmap\":[{\"colorbar\":{\"outlinewidth\":0,\"ticks\":\"\"},\"colorscale\":[[0.0,\"#0d0887\"],[0.1111111111111111,\"#46039f\"],[0.2222222222222222,\"#7201a8\"],[0.3333333333333333,\"#9c179e\"],[0.4444444444444444,\"#bd3786\"],[0.5555555555555556,\"#d8576b\"],[0.6666666666666666,\"#ed7953\"],[0.7777777777777778,\"#fb9f3a\"],[0.8888888888888888,\"#fdca26\"],[1.0,\"#f0f921\"]],\"type\":\"heatmap\"}],\"heatmapgl\":[{\"colorbar\":{\"outlinewidth\":0,\"ticks\":\"\"},\"colorscale\":[[0.0,\"#0d0887\"],[0.1111111111111111,\"#46039f\"],[0.2222222222222222,\"#7201a8\"],[0.3333333333333333,\"#9c179e\"],[0.4444444444444444,\"#bd3786\"],[0.5555555555555556,\"#d8576b\"],[0.6666666666666666,\"#ed7953\"],[0.7777777777777778,\"#fb9f3a\"],[0.8888888888888888,\"#fdca26\"],[1.0,\"#f0f921\"]],\"type\":\"heatmapgl\"}],\"histogram\":[{\"marker\":{\"pattern\":{\"fillmode\":\"overlay\",\"size\":10,\"solidity\":0.2}},\"type\":\"histogram\"}],\"histogram2d\":[{\"colorbar\":{\"outlinewidth\":0,\"ticks\":\"\"},\"colorscale\":[[0.0,\"#0d0887\"],[0.1111111111111111,\"#46039f\"],[0.2222222222222222,\"#7201a8\"],[0.3333333333333333,\"#9c179e\"],[0.4444444444444444,\"#bd3786\"],[0.5555555555555556,\"#d8576b\"],[0.6666666666666666,\"#ed7953\"],[0.7777777777777778,\"#fb9f3a\"],[0.8888888888888888,\"#fdca26\"],[1.0,\"#f0f921\"]],\"type\":\"histogram2d\"}],\"histogram2dcontour\":[{\"colorbar\":{\"outlinewidth\":0,\"ticks\":\"\"},\"colorscale\":[[0.0,\"#0d0887\"],[0.1111111111111111,\"#46039f\"],[0.2222222222222222,\"#7201a8\"],[0.3333333333333333,\"#9c179e\"],[0.4444444444444444,\"#bd3786\"],[0.5555555555555556,\"#d8576b\"],[0.6666666666666666,\"#ed7953\"],[0.7777777777777778,\"#fb9f3a\"],[0.8888888888888888,\"#fdca26\"],[1.0,\"#f0f921\"]],\"type\":\"histogram2dcontour\"}],\"mesh3d\":[{\"colorbar\":{\"outlinewidth\":0,\"ticks\":\"\"},\"type\":\"mesh3d\"}],\"parcoords\":[{\"line\":{\"colorbar\":{\"outlinewidth\":0,\"ticks\":\"\"}},\"type\":\"parcoords\"}],\"pie\":[{\"automargin\":true,\"type\":\"pie\"}],\"scatter\":[{\"marker\":{\"colorbar\":{\"outlinewidth\":0,\"ticks\":\"\"}},\"type\":\"scatter\"}],\"scatter3d\":[{\"line\":{\"colorbar\":{\"outlinewidth\":0,\"ticks\":\"\"}},\"marker\":{\"colorbar\":{\"outlinewidth\":0,\"ticks\":\"\"}},\"type\":\"scatter3d\"}],\"scattercarpet\":[{\"marker\":{\"colorbar\":{\"outlinewidth\":0,\"ticks\":\"\"}},\"type\":\"scattercarpet\"}],\"scattergeo\":[{\"marker\":{\"colorbar\":{\"outlinewidth\":0,\"ticks\":\"\"}},\"type\":\"scattergeo\"}],\"scattergl\":[{\"marker\":{\"colorbar\":{\"outlinewidth\":0,\"ticks\":\"\"}},\"type\":\"scattergl\"}],\"scattermapbox\":[{\"marker\":{\"colorbar\":{\"outlinewidth\":0,\"ticks\":\"\"}},\"type\":\"scattermapbox\"}],\"scatterpolar\":[{\"marker\":{\"colorbar\":{\"outlinewidth\":0,\"ticks\":\"\"}},\"type\":\"scatterpolar\"}],\"scatterpolargl\":[{\"marker\":{\"colorbar\":{\"outlinewidth\":0,\"ticks\":\"\"}},\"type\":\"scatterpolargl\"}],\"scatterternary\":[{\"marker\":{\"colorbar\":{\"outlinewidth\":0,\"ticks\":\"\"}},\"type\":\"scatterternary\"}],\"surface\":[{\"colorbar\":{\"outlinewidth\":0,\"ticks\":\"\"},\"colorscale\":[[0.0,\"#0d0887\"],[0.1111111111111111,\"#46039f\"],[0.2222222222222222,\"#7201a8\"],[0.3333333333333333,\"#9c179e\"],[0.4444444444444444,\"#bd3786\"],[0.5555555555555556,\"#d8576b\"],[0.6666666666666666,\"#ed7953\"],[0.7777777777777778,\"#fb9f3a\"],[0.8888888888888888,\"#fdca26\"],[1.0,\"#f0f921\"]],\"type\":\"surface\"}],\"table\":[{\"cells\":{\"fill\":{\"color\":\"#EBF0F8\"},\"line\":{\"color\":\"white\"}},\"header\":{\"fill\":{\"color\":\"#C8D4E3\"},\"line\":{\"color\":\"white\"}},\"type\":\"table\"}]},\"layout\":{\"annotationdefaults\":{\"arrowcolor\":\"#2a3f5f\",\"arrowhead\":0,\"arrowwidth\":1},\"autotypenumbers\":\"strict\",\"coloraxis\":{\"colorbar\":{\"outlinewidth\":0,\"ticks\":\"\"}},\"colorscale\":{\"diverging\":[[0,\"#8e0152\"],[0.1,\"#c51b7d\"],[0.2,\"#de77ae\"],[0.3,\"#f1b6da\"],[0.4,\"#fde0ef\"],[0.5,\"#f7f7f7\"],[0.6,\"#e6f5d0\"],[0.7,\"#b8e186\"],[0.8,\"#7fbc41\"],[0.9,\"#4d9221\"],[1,\"#276419\"]],\"sequential\":[[0.0,\"#0d0887\"],[0.1111111111111111,\"#46039f\"],[0.2222222222222222,\"#7201a8\"],[0.3333333333333333,\"#9c179e\"],[0.4444444444444444,\"#bd3786\"],[0.5555555555555556,\"#d8576b\"],[0.6666666666666666,\"#ed7953\"],[0.7777777777777778,\"#fb9f3a\"],[0.8888888888888888,\"#fdca26\"],[1.0,\"#f0f921\"]],\"sequentialminus\":[[0.0,\"#0d0887\"],[0.1111111111111111,\"#46039f\"],[0.2222222222222222,\"#7201a8\"],[0.3333333333333333,\"#9c179e\"],[0.4444444444444444,\"#bd3786\"],[0.5555555555555556,\"#d8576b\"],[0.6666666666666666,\"#ed7953\"],[0.7777777777777778,\"#fb9f3a\"],[0.8888888888888888,\"#fdca26\"],[1.0,\"#f0f921\"]]},\"colorway\":[\"#636efa\",\"#EF553B\",\"#00cc96\",\"#ab63fa\",\"#FFA15A\",\"#19d3f3\",\"#FF6692\",\"#B6E880\",\"#FF97FF\",\"#FECB52\"],\"font\":{\"color\":\"#2a3f5f\"},\"geo\":{\"bgcolor\":\"white\",\"lakecolor\":\"white\",\"landcolor\":\"#E5ECF6\",\"showlakes\":true,\"showland\":true,\"subunitcolor\":\"white\"},\"hoverlabel\":{\"align\":\"left\"},\"hovermode\":\"closest\",\"mapbox\":{\"style\":\"light\"},\"paper_bgcolor\":\"white\",\"plot_bgcolor\":\"#E5ECF6\",\"polar\":{\"angularaxis\":{\"gridcolor\":\"white\",\"linecolor\":\"white\",\"ticks\":\"\"},\"bgcolor\":\"#E5ECF6\",\"radialaxis\":{\"gridcolor\":\"white\",\"linecolor\":\"white\",\"ticks\":\"\"}},\"scene\":{\"xaxis\":{\"backgroundcolor\":\"#E5ECF6\",\"gridcolor\":\"white\",\"gridwidth\":2,\"linecolor\":\"white\",\"showbackground\":true,\"ticks\":\"\",\"zerolinecolor\":\"white\"},\"yaxis\":{\"backgroundcolor\":\"#E5ECF6\",\"gridcolor\":\"white\",\"gridwidth\":2,\"linecolor\":\"white\",\"showbackground\":true,\"ticks\":\"\",\"zerolinecolor\":\"white\"},\"zaxis\":{\"backgroundcolor\":\"#E5ECF6\",\"gridcolor\":\"white\",\"gridwidth\":2,\"linecolor\":\"white\",\"showbackground\":true,\"ticks\":\"\",\"zerolinecolor\":\"white\"}},\"shapedefaults\":{\"line\":{\"color\":\"#2a3f5f\"}},\"ternary\":{\"aaxis\":{\"gridcolor\":\"white\",\"linecolor\":\"white\",\"ticks\":\"\"},\"baxis\":{\"gridcolor\":\"white\",\"linecolor\":\"white\",\"ticks\":\"\"},\"bgcolor\":\"#E5ECF6\",\"caxis\":{\"gridcolor\":\"white\",\"linecolor\":\"white\",\"ticks\":\"\"}},\"title\":{\"x\":0.05},\"xaxis\":{\"automargin\":true,\"gridcolor\":\"white\",\"linecolor\":\"white\",\"ticks\":\"\",\"title\":{\"standoff\":15},\"zerolinecolor\":\"white\",\"zerolinewidth\":2},\"yaxis\":{\"automargin\":true,\"gridcolor\":\"white\",\"linecolor\":\"white\",\"ticks\":\"\",\"title\":{\"standoff\":15},\"zerolinecolor\":\"white\",\"zerolinewidth\":2}}},\"xaxis\":{\"anchor\":\"y\",\"domain\":[0.0,1.0],\"title\":{\"text\":\"Date\"}},\"yaxis\":{\"anchor\":\"x\",\"domain\":[0.0,1.0],\"title\":{\"text\":\"Linear_Regression_Resid\"}},\"legend\":{\"tracegroupgap\":0},\"title\":{\"text\":\"Real Consumer Spending vs trend residuals (Statsmodels OLS)\"}},                        {\"responsive\": true}                    ).then(function(){\n",
              "                            \n",
              "var gd = document.getElementById('fcb74386-096a-4fbd-8ed7-42710bc37cb8');\n",
              "var x = new MutationObserver(function (mutations, observer) {{\n",
              "        var display = window.getComputedStyle(gd).display;\n",
              "        if (!display || display === 'none') {{\n",
              "            console.log([gd, 'removed!']);\n",
              "            Plotly.purge(gd);\n",
              "            observer.disconnect();\n",
              "        }}\n",
              "}});\n",
              "\n",
              "// Listen for the removal of the full notebook cells\n",
              "var notebookContainer = gd.closest('#notebook-container');\n",
              "if (notebookContainer) {{\n",
              "    x.observe(notebookContainer, {childList: true});\n",
              "}}\n",
              "\n",
              "// Listen for the clearing of the current output cell\n",
              "var outputEl = gd.closest('.output');\n",
              "if (outputEl) {{\n",
              "    x.observe(outputEl, {childList: true});\n",
              "}}\n",
              "\n",
              "                        })                };                            </script>        </div>\n",
              "</body>\n",
              "</html>"
            ]
          },
          "metadata": {}
        }
      ]
    },
    {
      "cell_type": "code",
      "source": [
        "spending_df[\"Linear_Regression_Resid_Check\"] = spending_df[\"RealPCE\"] - spending_df[\"Linear_Regression_Pred\"]\n",
        "px.line(spending_df, x=\"Date\", y=\"Linear_Regression_Resid_Check\", title=\"Real Consumer Spending vs trend residuals (Statsmodels OLS)\")"
      ],
      "metadata": {
        "colab": {
          "base_uri": "https://localhost:8080/",
          "height": 542
        },
        "id": "dyNdov2z-S_Z",
        "outputId": "2716343f-ac59-47fc-b5c6-51c6cae7ade0"
      },
      "execution_count": 14,
      "outputs": [
        {
          "output_type": "display_data",
          "data": {
            "text/html": [
              "<html>\n",
              "<head><meta charset=\"utf-8\" /></head>\n",
              "<body>\n",
              "    <div>            <script src=\"https://cdnjs.cloudflare.com/ajax/libs/mathjax/2.7.5/MathJax.js?config=TeX-AMS-MML_SVG\"></script><script type=\"text/javascript\">if (window.MathJax) {MathJax.Hub.Config({SVG: {font: \"STIX-Web\"}});}</script>                <script type=\"text/javascript\">window.PlotlyConfig = {MathJaxConfig: 'local'};</script>\n",
              "        <script src=\"https://cdn.plot.ly/plotly-2.8.3.min.js\"></script>                <div id=\"482abc7c-b1a3-4d67-b198-3ba6e0e44961\" class=\"plotly-graph-div\" style=\"height:525px; width:100%;\"></div>            <script type=\"text/javascript\">                                    window.PLOTLYENV=window.PLOTLYENV || {};                                    if (document.getElementById(\"482abc7c-b1a3-4d67-b198-3ba6e0e44961\")) {                    Plotly.newPlot(                        \"482abc7c-b1a3-4d67-b198-3ba6e0e44961\",                        [{\"hovertemplate\":\"Date=%{x}<br>Linear_Regression_Resid_Check=%{y}<extra></extra>\",\"legendgroup\":\"\",\"line\":{\"color\":\"#636efa\",\"dash\":\"solid\"},\"marker\":{\"symbol\":\"circle\"},\"mode\":\"lines\",\"name\":\"\",\"orientation\":\"v\",\"showlegend\":false,\"x\":[\"1947-03-31T00:00:00\",\"1947-06-30T00:00:00\",\"1947-09-30T00:00:00\",\"1947-12-31T00:00:00\",\"1948-03-31T00:00:00\",\"1948-06-30T00:00:00\",\"1948-09-30T00:00:00\",\"1948-12-31T00:00:00\",\"1949-03-31T00:00:00\",\"1949-06-30T00:00:00\",\"1949-09-30T00:00:00\",\"1949-12-31T00:00:00\",\"1950-03-31T00:00:00\",\"1950-06-30T00:00:00\",\"1950-09-30T00:00:00\",\"1950-12-31T00:00:00\",\"1951-03-31T00:00:00\",\"1951-06-30T00:00:00\",\"1951-09-30T00:00:00\",\"1951-12-31T00:00:00\",\"1952-03-31T00:00:00\",\"1952-06-30T00:00:00\",\"1952-09-30T00:00:00\",\"1952-12-31T00:00:00\",\"1953-03-31T00:00:00\",\"1953-06-30T00:00:00\",\"1953-09-30T00:00:00\",\"1953-12-31T00:00:00\",\"1954-03-31T00:00:00\",\"1954-06-30T00:00:00\",\"1954-09-30T00:00:00\",\"1954-12-31T00:00:00\",\"1955-03-31T00:00:00\",\"1955-06-30T00:00:00\",\"1955-09-30T00:00:00\",\"1955-12-31T00:00:00\",\"1956-03-31T00:00:00\",\"1956-06-30T00:00:00\",\"1956-09-30T00:00:00\",\"1956-12-31T00:00:00\",\"1957-03-31T00:00:00\",\"1957-06-30T00:00:00\",\"1957-09-30T00:00:00\",\"1957-12-31T00:00:00\",\"1958-03-31T00:00:00\",\"1958-06-30T00:00:00\",\"1958-09-30T00:00:00\",\"1958-12-31T00:00:00\",\"1959-03-31T00:00:00\",\"1959-06-30T00:00:00\",\"1959-09-30T00:00:00\",\"1959-12-31T00:00:00\",\"1960-03-31T00:00:00\",\"1960-06-30T00:00:00\",\"1960-09-30T00:00:00\",\"1960-12-31T00:00:00\",\"1961-03-31T00:00:00\",\"1961-06-30T00:00:00\",\"1961-09-30T00:00:00\",\"1961-12-31T00:00:00\",\"1962-03-31T00:00:00\",\"1962-06-30T00:00:00\",\"1962-09-30T00:00:00\",\"1962-12-31T00:00:00\",\"1963-03-31T00:00:00\",\"1963-06-30T00:00:00\",\"1963-09-30T00:00:00\",\"1963-12-31T00:00:00\",\"1964-03-31T00:00:00\",\"1964-06-30T00:00:00\",\"1964-09-30T00:00:00\",\"1964-12-31T00:00:00\",\"1965-03-31T00:00:00\",\"1965-06-30T00:00:00\",\"1965-09-30T00:00:00\",\"1965-12-31T00:00:00\",\"1966-03-31T00:00:00\",\"1966-06-30T00:00:00\",\"1966-09-30T00:00:00\",\"1966-12-31T00:00:00\",\"1967-03-31T00:00:00\",\"1967-06-30T00:00:00\",\"1967-09-30T00:00:00\",\"1967-12-31T00:00:00\",\"1968-03-31T00:00:00\",\"1968-06-30T00:00:00\",\"1968-09-30T00:00:00\",\"1968-12-31T00:00:00\",\"1969-03-31T00:00:00\",\"1969-06-30T00:00:00\",\"1969-09-30T00:00:00\",\"1969-12-31T00:00:00\",\"1970-03-31T00:00:00\",\"1970-06-30T00:00:00\",\"1970-09-30T00:00:00\",\"1970-12-31T00:00:00\",\"1971-03-31T00:00:00\",\"1971-06-30T00:00:00\",\"1971-09-30T00:00:00\",\"1971-12-31T00:00:00\",\"1972-03-31T00:00:00\",\"1972-06-30T00:00:00\",\"1972-09-30T00:00:00\",\"1972-12-31T00:00:00\",\"1973-03-31T00:00:00\",\"1973-06-30T00:00:00\",\"1973-09-30T00:00:00\",\"1973-12-31T00:00:00\",\"1974-03-31T00:00:00\",\"1974-06-30T00:00:00\",\"1974-09-30T00:00:00\",\"1974-12-31T00:00:00\",\"1975-03-31T00:00:00\",\"1975-06-30T00:00:00\",\"1975-09-30T00:00:00\",\"1975-12-31T00:00:00\",\"1976-03-31T00:00:00\",\"1976-06-30T00:00:00\",\"1976-09-30T00:00:00\",\"1976-12-31T00:00:00\",\"1977-03-31T00:00:00\",\"1977-06-30T00:00:00\",\"1977-09-30T00:00:00\",\"1977-12-31T00:00:00\",\"1978-03-31T00:00:00\",\"1978-06-30T00:00:00\",\"1978-09-30T00:00:00\",\"1978-12-31T00:00:00\",\"1979-03-31T00:00:00\",\"1979-06-30T00:00:00\",\"1979-09-30T00:00:00\",\"1979-12-31T00:00:00\",\"1980-03-31T00:00:00\",\"1980-06-30T00:00:00\",\"1980-09-30T00:00:00\",\"1980-12-31T00:00:00\",\"1981-03-31T00:00:00\",\"1981-06-30T00:00:00\",\"1981-09-30T00:00:00\",\"1981-12-31T00:00:00\",\"1982-03-31T00:00:00\",\"1982-06-30T00:00:00\",\"1982-09-30T00:00:00\",\"1982-12-31T00:00:00\",\"1983-03-31T00:00:00\",\"1983-06-30T00:00:00\",\"1983-09-30T00:00:00\",\"1983-12-31T00:00:00\",\"1984-03-31T00:00:00\",\"1984-06-30T00:00:00\",\"1984-09-30T00:00:00\",\"1984-12-31T00:00:00\",\"1985-03-31T00:00:00\",\"1985-06-30T00:00:00\",\"1985-09-30T00:00:00\",\"1985-12-31T00:00:00\",\"1986-03-31T00:00:00\",\"1986-06-30T00:00:00\",\"1986-09-30T00:00:00\",\"1986-12-31T00:00:00\",\"1987-03-31T00:00:00\",\"1987-06-30T00:00:00\",\"1987-09-30T00:00:00\",\"1987-12-31T00:00:00\",\"1988-03-31T00:00:00\",\"1988-06-30T00:00:00\",\"1988-09-30T00:00:00\",\"1988-12-31T00:00:00\",\"1989-03-31T00:00:00\",\"1989-06-30T00:00:00\",\"1989-09-30T00:00:00\",\"1989-12-31T00:00:00\",\"1990-03-31T00:00:00\",\"1990-06-30T00:00:00\",\"1990-09-30T00:00:00\",\"1990-12-31T00:00:00\",\"1991-03-31T00:00:00\",\"1991-06-30T00:00:00\",\"1991-09-30T00:00:00\",\"1991-12-31T00:00:00\",\"1992-03-31T00:00:00\",\"1992-06-30T00:00:00\",\"1992-09-30T00:00:00\",\"1992-12-31T00:00:00\",\"1993-03-31T00:00:00\",\"1993-06-30T00:00:00\",\"1993-09-30T00:00:00\",\"1993-12-31T00:00:00\",\"1994-03-31T00:00:00\",\"1994-06-30T00:00:00\",\"1994-09-30T00:00:00\",\"1994-12-31T00:00:00\",\"1995-03-31T00:00:00\",\"1995-06-30T00:00:00\",\"1995-09-30T00:00:00\",\"1995-12-31T00:00:00\",\"1996-03-31T00:00:00\",\"1996-06-30T00:00:00\",\"1996-09-30T00:00:00\",\"1996-12-31T00:00:00\",\"1997-03-31T00:00:00\",\"1997-06-30T00:00:00\",\"1997-09-30T00:00:00\",\"1997-12-31T00:00:00\",\"1998-03-31T00:00:00\",\"1998-06-30T00:00:00\",\"1998-09-30T00:00:00\",\"1998-12-31T00:00:00\",\"1999-03-31T00:00:00\",\"1999-06-30T00:00:00\",\"1999-09-30T00:00:00\",\"1999-12-31T00:00:00\",\"2000-03-31T00:00:00\",\"2000-06-30T00:00:00\",\"2000-09-30T00:00:00\",\"2000-12-31T00:00:00\",\"2001-03-31T00:00:00\",\"2001-06-30T00:00:00\",\"2001-09-30T00:00:00\",\"2001-12-31T00:00:00\",\"2002-03-31T00:00:00\",\"2002-06-30T00:00:00\",\"2002-09-30T00:00:00\",\"2002-12-31T00:00:00\",\"2003-03-31T00:00:00\",\"2003-06-30T00:00:00\",\"2003-09-30T00:00:00\",\"2003-12-31T00:00:00\",\"2004-03-31T00:00:00\",\"2004-06-30T00:00:00\",\"2004-09-30T00:00:00\",\"2004-12-31T00:00:00\",\"2005-03-31T00:00:00\",\"2005-06-30T00:00:00\",\"2005-09-30T00:00:00\",\"2005-12-31T00:00:00\",\"2006-03-31T00:00:00\",\"2006-06-30T00:00:00\",\"2006-09-30T00:00:00\",\"2006-12-31T00:00:00\",\"2007-03-31T00:00:00\",\"2007-06-30T00:00:00\",\"2007-09-30T00:00:00\",\"2007-12-31T00:00:00\",\"2008-03-31T00:00:00\",\"2008-06-30T00:00:00\",\"2008-09-30T00:00:00\",\"2008-12-31T00:00:00\",\"2009-03-31T00:00:00\",\"2009-06-30T00:00:00\",\"2009-09-30T00:00:00\",\"2009-12-31T00:00:00\",\"2010-03-31T00:00:00\",\"2010-06-30T00:00:00\",\"2010-09-30T00:00:00\",\"2010-12-31T00:00:00\",\"2011-03-31T00:00:00\",\"2011-06-30T00:00:00\",\"2011-09-30T00:00:00\",\"2011-12-31T00:00:00\",\"2012-03-31T00:00:00\",\"2012-06-30T00:00:00\",\"2012-09-30T00:00:00\",\"2012-12-31T00:00:00\",\"2013-03-31T00:00:00\",\"2013-06-30T00:00:00\",\"2013-09-30T00:00:00\",\"2013-12-31T00:00:00\",\"2014-03-31T00:00:00\",\"2014-06-30T00:00:00\",\"2014-09-30T00:00:00\",\"2014-12-31T00:00:00\",\"2015-03-31T00:00:00\",\"2015-06-30T00:00:00\",\"2015-09-30T00:00:00\",\"2015-12-31T00:00:00\",\"2016-03-31T00:00:00\",\"2016-06-30T00:00:00\",\"2016-09-30T00:00:00\",\"2016-12-31T00:00:00\",\"2017-03-31T00:00:00\",\"2017-06-30T00:00:00\",\"2017-09-30T00:00:00\",\"2017-12-31T00:00:00\",\"2018-03-31T00:00:00\",\"2018-06-30T00:00:00\",\"2018-09-30T00:00:00\",\"2018-12-31T00:00:00\",\"2019-03-31T00:00:00\",\"2019-06-30T00:00:00\",\"2019-09-30T00:00:00\",\"2019-12-31T00:00:00\",\"2020-03-31T00:00:00\",\"2020-06-30T00:00:00\",\"2020-09-30T00:00:00\",\"2020-12-31T00:00:00\",\"2021-03-31T00:00:00\",\"2021-06-30T00:00:00\",\"2021-09-30T00:00:00\"],\"xaxis\":\"x\",\"y\":[400952.01600544964,413055.3779105564,397856.29875663295,420681.3244680455,370130.6578665044,375078.6875461192,361858.3138136713,386777.3523453427,330656.8792891996,343804.75355559506,332077.65229900787,355999.9042533027,305925.175366345,317624.30510591774,323276.21060137125,333037.82433605625,287429.1542451988,280589.83697666216,270086.4404269138,296139.9663696907,240805.46185337627,252551.90391705665,239948.46284177128,278927.71444625896,223148.24934759754,234793.5958130053,216676.29924864654,240672.09285898943,182474.99124550185,196417.07054698415,183456.879435617,217789.71110763238,166034.12583950267,185696.69051682635,173406.51335259725,205650.46911161212,148172.46397439926,153662.5677011737,138968.62019653624,171821.05193059397,112483.99945108808,124056.60612171632,113890.30309729418,137835.85737192677,71956.93066694378,82581.98037702532,72339.53592821345,108998.34503644751,57277.21926073264,74672.16763057857,58131.494517920946,82543.06099267601,30012.680535552325,49934.60256040032,26052.096709526493,51622.70204513031,-5546.697822770162,10964.111363697099,-4697.064459540299,29629.011852763477,-23395.976331684913,-3583.0229266459355,-22902.73323340225,12925.74428139499,-45810.65655626892,-25130.767802643357,-39334.660486325854,-6482.470197706483,-56906.43801854947,-37032.34316621546,-45520.7623266367,-12436.787336382899,-70663.089297125,-42906.13888101885,-54137.99283659668,-2164.651921477169,-70078.33258559369,-48106.180756689864,-57000.14496277261,-20388.8432806785,-92739.82068367931,-65784.64736943308,-78254.85820169398,-47534.34430491354,-103050.85453687166,-75123.23796381452,-76322.13208907773,-40257.91914385522,-114041.42460295092,-85795.32747939322,-95497.32984631101,-59837.94510697655,-135446.5955520681,-110715.49678777065,-117507.21415925073,-89122.13158901769,-157644.91365262237,-124310.13675161742,-131993.8553129147,-89304.6638771554,-158463.31091097184,-120100.42490393599,-122216.55634466407,-74364.64694738097,-140465.48471611517,-112498.36082304467,-127817.20141757431,-95941.37906456902,-193955.06269829348,-157122.21179117647,-168759.40395957662,-156474.06637177744,-230957.26284282678,-189681.7498820104,-190088.63342564774,-152754.22543594672,-216448.3986884217,-181806.2162725554,-189248.3728267015,-142377.85935389937,-216684.15425532195,-188665.57808902836,-190671.95984348096,-141136.7087750493,-222579.1427371404,-181723.85740681877,-185914.70205085922,-141571.35555984452,-218209.87554506934,-205294.09499389073,-213051.83485600376,-165457.6060693639,-248658.8613714372,-261086.7729559102,-262972.39753889036,-211204.1313467289,-296324.7668178824,-275091.4682544989,-281018.6406274373,-241073.57568906248,-323726.78635754273,-307885.21053698123,-314621.9348635662,-252166.72949220403,-332227.63577670045,-287004.10641987785,-284915.37748712255,-215362.6446353793,-294415.37174522853,-263313.33578170673,-277104.27635580464,-210010.4883425634,-288541.7091190764,-246895.44213587092,-242836.85977904778,-183848.06401895196,-277027.67541904096,-238130.95568242087,-230372.15474046953,-173619.2849782533,-283364.1827686364,-226533.20989584574,-227201.45777026587,-170990.23908741493,-259511.45583213656,-220108.37139348267,-219067.11738133337,-148396.94364394993,-258722.0835951944,-219663.05137658748,-216171.8544993,-153806.9402719154,-261850.8854518896,-222962.52390149492,-227949.17965678964,-185956.37398738158,-307898.60783691844,-264977.5849385152,-265448.3181716504,-217425.657533356,-302578.1210845304,-260836.12872604793,-254742.55317029916,-184350.03158982517,-297936.80655727535,-245419.8178646823,-239706.354872989,-170169.99851942435,-273349.06306981994,-227045.0393670397,-223401.47749124793,-147453.00899457396,-272742.01538182446,-213918.83456095378,-211600.49700544868,-143188.26252314216,-247584.12290568673,-196001.49539082428,-198200.836287671,-128347.80427807872,-228948.04282686138,-185517.77041076822,-165505.7441074904,-88694.80884420755,-197039.7709575151,-116173.89431392052,-106630.6380981796,-22793.837185513694,-129505.80433211359,-55523.762271786574,-48155.424936936935,36369.00526614208,-50465.30866850377,8866.515416905284,6337.5519351386465,84983.11836334458,-30051.04216683423,18603.69805643428,6287.690993827302,97429.01245851442,-15143.011008037254,25271.889914105646,31875.21015546564,116801.45328336162,-7796.981765773147,53748.117570520844,71646.4583605621,160756.4205138255,50175.3591192076,92179.01101761125,104330.0317761018,216525.9278665427,80475.27285838686,148092.6688278946,164173.88056997396,246388.27197678154,120833.27247208776,184282.20815635286,180114.1282721744,278503.6983971633,152908.2802156587,205517.83036806155,199625.53744599735,288628.62032165146,170305.5738044693,193786.55382369272,148513.36776641337,183002.54992776178,49831.77322463645,93438.89995538583,95269.4711654312,147798.22604992986,28956.306228831876,104068.27953841351,107519.6193124014,177959.53480812814,51641.610414804425,114174.929524126,104185.48448041454,161531.56371662533,55802.21523776045,107366.36592361052,88979.70438251318,160074.16282057343,29366.53118911246,97580.4722456336,94568.2880568942,186206.38105494808,41455.11044046143,124924.16473803855,135427.19089794718,240918.08625620743,98126.99757452449,181794.57113658683,189253.25835739262,282362.55239280267,138066.98982068757,211637.4036303889,215752.77285960317,311344.0191927273,151302.12871430255,245975.0932912263,247582.89325377345,359128.01994825015,201907.37607686222,299267.6957784216,301090.08375354484,394362.7550821472,212416.87420252757,325625.3799219271,333285.53121131565,437532.4235269488,182850.16636863677,-54871.081036717165,192904.06657308666,323158.0598556646,203283.36868704902,385054.6389126135,384394.9972109725],\"yaxis\":\"y\",\"type\":\"scatter\"}],                        {\"template\":{\"data\":{\"bar\":[{\"error_x\":{\"color\":\"#2a3f5f\"},\"error_y\":{\"color\":\"#2a3f5f\"},\"marker\":{\"line\":{\"color\":\"#E5ECF6\",\"width\":0.5},\"pattern\":{\"fillmode\":\"overlay\",\"size\":10,\"solidity\":0.2}},\"type\":\"bar\"}],\"barpolar\":[{\"marker\":{\"line\":{\"color\":\"#E5ECF6\",\"width\":0.5},\"pattern\":{\"fillmode\":\"overlay\",\"size\":10,\"solidity\":0.2}},\"type\":\"barpolar\"}],\"carpet\":[{\"aaxis\":{\"endlinecolor\":\"#2a3f5f\",\"gridcolor\":\"white\",\"linecolor\":\"white\",\"minorgridcolor\":\"white\",\"startlinecolor\":\"#2a3f5f\"},\"baxis\":{\"endlinecolor\":\"#2a3f5f\",\"gridcolor\":\"white\",\"linecolor\":\"white\",\"minorgridcolor\":\"white\",\"startlinecolor\":\"#2a3f5f\"},\"type\":\"carpet\"}],\"choropleth\":[{\"colorbar\":{\"outlinewidth\":0,\"ticks\":\"\"},\"type\":\"choropleth\"}],\"contour\":[{\"colorbar\":{\"outlinewidth\":0,\"ticks\":\"\"},\"colorscale\":[[0.0,\"#0d0887\"],[0.1111111111111111,\"#46039f\"],[0.2222222222222222,\"#7201a8\"],[0.3333333333333333,\"#9c179e\"],[0.4444444444444444,\"#bd3786\"],[0.5555555555555556,\"#d8576b\"],[0.6666666666666666,\"#ed7953\"],[0.7777777777777778,\"#fb9f3a\"],[0.8888888888888888,\"#fdca26\"],[1.0,\"#f0f921\"]],\"type\":\"contour\"}],\"contourcarpet\":[{\"colorbar\":{\"outlinewidth\":0,\"ticks\":\"\"},\"type\":\"contourcarpet\"}],\"heatmap\":[{\"colorbar\":{\"outlinewidth\":0,\"ticks\":\"\"},\"colorscale\":[[0.0,\"#0d0887\"],[0.1111111111111111,\"#46039f\"],[0.2222222222222222,\"#7201a8\"],[0.3333333333333333,\"#9c179e\"],[0.4444444444444444,\"#bd3786\"],[0.5555555555555556,\"#d8576b\"],[0.6666666666666666,\"#ed7953\"],[0.7777777777777778,\"#fb9f3a\"],[0.8888888888888888,\"#fdca26\"],[1.0,\"#f0f921\"]],\"type\":\"heatmap\"}],\"heatmapgl\":[{\"colorbar\":{\"outlinewidth\":0,\"ticks\":\"\"},\"colorscale\":[[0.0,\"#0d0887\"],[0.1111111111111111,\"#46039f\"],[0.2222222222222222,\"#7201a8\"],[0.3333333333333333,\"#9c179e\"],[0.4444444444444444,\"#bd3786\"],[0.5555555555555556,\"#d8576b\"],[0.6666666666666666,\"#ed7953\"],[0.7777777777777778,\"#fb9f3a\"],[0.8888888888888888,\"#fdca26\"],[1.0,\"#f0f921\"]],\"type\":\"heatmapgl\"}],\"histogram\":[{\"marker\":{\"pattern\":{\"fillmode\":\"overlay\",\"size\":10,\"solidity\":0.2}},\"type\":\"histogram\"}],\"histogram2d\":[{\"colorbar\":{\"outlinewidth\":0,\"ticks\":\"\"},\"colorscale\":[[0.0,\"#0d0887\"],[0.1111111111111111,\"#46039f\"],[0.2222222222222222,\"#7201a8\"],[0.3333333333333333,\"#9c179e\"],[0.4444444444444444,\"#bd3786\"],[0.5555555555555556,\"#d8576b\"],[0.6666666666666666,\"#ed7953\"],[0.7777777777777778,\"#fb9f3a\"],[0.8888888888888888,\"#fdca26\"],[1.0,\"#f0f921\"]],\"type\":\"histogram2d\"}],\"histogram2dcontour\":[{\"colorbar\":{\"outlinewidth\":0,\"ticks\":\"\"},\"colorscale\":[[0.0,\"#0d0887\"],[0.1111111111111111,\"#46039f\"],[0.2222222222222222,\"#7201a8\"],[0.3333333333333333,\"#9c179e\"],[0.4444444444444444,\"#bd3786\"],[0.5555555555555556,\"#d8576b\"],[0.6666666666666666,\"#ed7953\"],[0.7777777777777778,\"#fb9f3a\"],[0.8888888888888888,\"#fdca26\"],[1.0,\"#f0f921\"]],\"type\":\"histogram2dcontour\"}],\"mesh3d\":[{\"colorbar\":{\"outlinewidth\":0,\"ticks\":\"\"},\"type\":\"mesh3d\"}],\"parcoords\":[{\"line\":{\"colorbar\":{\"outlinewidth\":0,\"ticks\":\"\"}},\"type\":\"parcoords\"}],\"pie\":[{\"automargin\":true,\"type\":\"pie\"}],\"scatter\":[{\"marker\":{\"colorbar\":{\"outlinewidth\":0,\"ticks\":\"\"}},\"type\":\"scatter\"}],\"scatter3d\":[{\"line\":{\"colorbar\":{\"outlinewidth\":0,\"ticks\":\"\"}},\"marker\":{\"colorbar\":{\"outlinewidth\":0,\"ticks\":\"\"}},\"type\":\"scatter3d\"}],\"scattercarpet\":[{\"marker\":{\"colorbar\":{\"outlinewidth\":0,\"ticks\":\"\"}},\"type\":\"scattercarpet\"}],\"scattergeo\":[{\"marker\":{\"colorbar\":{\"outlinewidth\":0,\"ticks\":\"\"}},\"type\":\"scattergeo\"}],\"scattergl\":[{\"marker\":{\"colorbar\":{\"outlinewidth\":0,\"ticks\":\"\"}},\"type\":\"scattergl\"}],\"scattermapbox\":[{\"marker\":{\"colorbar\":{\"outlinewidth\":0,\"ticks\":\"\"}},\"type\":\"scattermapbox\"}],\"scatterpolar\":[{\"marker\":{\"colorbar\":{\"outlinewidth\":0,\"ticks\":\"\"}},\"type\":\"scatterpolar\"}],\"scatterpolargl\":[{\"marker\":{\"colorbar\":{\"outlinewidth\":0,\"ticks\":\"\"}},\"type\":\"scatterpolargl\"}],\"scatterternary\":[{\"marker\":{\"colorbar\":{\"outlinewidth\":0,\"ticks\":\"\"}},\"type\":\"scatterternary\"}],\"surface\":[{\"colorbar\":{\"outlinewidth\":0,\"ticks\":\"\"},\"colorscale\":[[0.0,\"#0d0887\"],[0.1111111111111111,\"#46039f\"],[0.2222222222222222,\"#7201a8\"],[0.3333333333333333,\"#9c179e\"],[0.4444444444444444,\"#bd3786\"],[0.5555555555555556,\"#d8576b\"],[0.6666666666666666,\"#ed7953\"],[0.7777777777777778,\"#fb9f3a\"],[0.8888888888888888,\"#fdca26\"],[1.0,\"#f0f921\"]],\"type\":\"surface\"}],\"table\":[{\"cells\":{\"fill\":{\"color\":\"#EBF0F8\"},\"line\":{\"color\":\"white\"}},\"header\":{\"fill\":{\"color\":\"#C8D4E3\"},\"line\":{\"color\":\"white\"}},\"type\":\"table\"}]},\"layout\":{\"annotationdefaults\":{\"arrowcolor\":\"#2a3f5f\",\"arrowhead\":0,\"arrowwidth\":1},\"autotypenumbers\":\"strict\",\"coloraxis\":{\"colorbar\":{\"outlinewidth\":0,\"ticks\":\"\"}},\"colorscale\":{\"diverging\":[[0,\"#8e0152\"],[0.1,\"#c51b7d\"],[0.2,\"#de77ae\"],[0.3,\"#f1b6da\"],[0.4,\"#fde0ef\"],[0.5,\"#f7f7f7\"],[0.6,\"#e6f5d0\"],[0.7,\"#b8e186\"],[0.8,\"#7fbc41\"],[0.9,\"#4d9221\"],[1,\"#276419\"]],\"sequential\":[[0.0,\"#0d0887\"],[0.1111111111111111,\"#46039f\"],[0.2222222222222222,\"#7201a8\"],[0.3333333333333333,\"#9c179e\"],[0.4444444444444444,\"#bd3786\"],[0.5555555555555556,\"#d8576b\"],[0.6666666666666666,\"#ed7953\"],[0.7777777777777778,\"#fb9f3a\"],[0.8888888888888888,\"#fdca26\"],[1.0,\"#f0f921\"]],\"sequentialminus\":[[0.0,\"#0d0887\"],[0.1111111111111111,\"#46039f\"],[0.2222222222222222,\"#7201a8\"],[0.3333333333333333,\"#9c179e\"],[0.4444444444444444,\"#bd3786\"],[0.5555555555555556,\"#d8576b\"],[0.6666666666666666,\"#ed7953\"],[0.7777777777777778,\"#fb9f3a\"],[0.8888888888888888,\"#fdca26\"],[1.0,\"#f0f921\"]]},\"colorway\":[\"#636efa\",\"#EF553B\",\"#00cc96\",\"#ab63fa\",\"#FFA15A\",\"#19d3f3\",\"#FF6692\",\"#B6E880\",\"#FF97FF\",\"#FECB52\"],\"font\":{\"color\":\"#2a3f5f\"},\"geo\":{\"bgcolor\":\"white\",\"lakecolor\":\"white\",\"landcolor\":\"#E5ECF6\",\"showlakes\":true,\"showland\":true,\"subunitcolor\":\"white\"},\"hoverlabel\":{\"align\":\"left\"},\"hovermode\":\"closest\",\"mapbox\":{\"style\":\"light\"},\"paper_bgcolor\":\"white\",\"plot_bgcolor\":\"#E5ECF6\",\"polar\":{\"angularaxis\":{\"gridcolor\":\"white\",\"linecolor\":\"white\",\"ticks\":\"\"},\"bgcolor\":\"#E5ECF6\",\"radialaxis\":{\"gridcolor\":\"white\",\"linecolor\":\"white\",\"ticks\":\"\"}},\"scene\":{\"xaxis\":{\"backgroundcolor\":\"#E5ECF6\",\"gridcolor\":\"white\",\"gridwidth\":2,\"linecolor\":\"white\",\"showbackground\":true,\"ticks\":\"\",\"zerolinecolor\":\"white\"},\"yaxis\":{\"backgroundcolor\":\"#E5ECF6\",\"gridcolor\":\"white\",\"gridwidth\":2,\"linecolor\":\"white\",\"showbackground\":true,\"ticks\":\"\",\"zerolinecolor\":\"white\"},\"zaxis\":{\"backgroundcolor\":\"#E5ECF6\",\"gridcolor\":\"white\",\"gridwidth\":2,\"linecolor\":\"white\",\"showbackground\":true,\"ticks\":\"\",\"zerolinecolor\":\"white\"}},\"shapedefaults\":{\"line\":{\"color\":\"#2a3f5f\"}},\"ternary\":{\"aaxis\":{\"gridcolor\":\"white\",\"linecolor\":\"white\",\"ticks\":\"\"},\"baxis\":{\"gridcolor\":\"white\",\"linecolor\":\"white\",\"ticks\":\"\"},\"bgcolor\":\"#E5ECF6\",\"caxis\":{\"gridcolor\":\"white\",\"linecolor\":\"white\",\"ticks\":\"\"}},\"title\":{\"x\":0.05},\"xaxis\":{\"automargin\":true,\"gridcolor\":\"white\",\"linecolor\":\"white\",\"ticks\":\"\",\"title\":{\"standoff\":15},\"zerolinecolor\":\"white\",\"zerolinewidth\":2},\"yaxis\":{\"automargin\":true,\"gridcolor\":\"white\",\"linecolor\":\"white\",\"ticks\":\"\",\"title\":{\"standoff\":15},\"zerolinecolor\":\"white\",\"zerolinewidth\":2}}},\"xaxis\":{\"anchor\":\"y\",\"domain\":[0.0,1.0],\"title\":{\"text\":\"Date\"}},\"yaxis\":{\"anchor\":\"x\",\"domain\":[0.0,1.0],\"title\":{\"text\":\"Linear_Regression_Resid_Check\"}},\"legend\":{\"tracegroupgap\":0},\"title\":{\"text\":\"Real Consumer Spending vs trend residuals (Statsmodels OLS)\"}},                        {\"responsive\": true}                    ).then(function(){\n",
              "                            \n",
              "var gd = document.getElementById('482abc7c-b1a3-4d67-b198-3ba6e0e44961');\n",
              "var x = new MutationObserver(function (mutations, observer) {{\n",
              "        var display = window.getComputedStyle(gd).display;\n",
              "        if (!display || display === 'none') {{\n",
              "            console.log([gd, 'removed!']);\n",
              "            Plotly.purge(gd);\n",
              "            observer.disconnect();\n",
              "        }}\n",
              "}});\n",
              "\n",
              "// Listen for the removal of the full notebook cells\n",
              "var notebookContainer = gd.closest('#notebook-container');\n",
              "if (notebookContainer) {{\n",
              "    x.observe(notebookContainer, {childList: true});\n",
              "}}\n",
              "\n",
              "// Listen for the clearing of the current output cell\n",
              "var outputEl = gd.closest('.output');\n",
              "if (outputEl) {{\n",
              "    x.observe(outputEl, {childList: true});\n",
              "}}\n",
              "\n",
              "                        })                };                            </script>        </div>\n",
              "</body>\n",
              "</html>"
            ]
          },
          "metadata": {}
        }
      ]
    },
    {
      "cell_type": "markdown",
      "source": [
        "### F) SEASONALITY"
      ],
      "metadata": {
        "id": "IGPK3PIfyx4b"
      }
    },
    {
      "cell_type": "code",
      "source": [
        "print(spending_df.groupby(\"Quarter\")[\"Linear_Regression_Resid\"].mean())"
      ],
      "metadata": {
        "id": "7Aszy8SWLBMI",
        "colab": {
          "base_uri": "https://localhost:8080/"
        },
        "outputId": "b0803ad3-9858-4e9d-d5bb-ff52285b1882"
      },
      "execution_count": 15,
      "outputs": [
        {
          "output_type": "stream",
          "name": "stdout",
          "text": [
            "Quarter\n",
            "1   -40151.098577\n",
            "2    -3034.653412\n",
            "3    -3965.575566\n",
            "4    47788.507657\n",
            "Name: Linear_Regression_Resid, dtype: float64\n"
          ]
        }
      ]
    },
    {
      "cell_type": "markdown",
      "source": [
        "### G) INCREASE IN SEASONALITY"
      ],
      "metadata": {
        "id": "Je2G7P3vS7VB"
      }
    },
    {
      "cell_type": "code",
      "execution_count": 16,
      "metadata": {
        "id": "iRUppn3kS6qH"
      },
      "outputs": [],
      "source": [
        "import datetime as dt\n",
        "\n",
        "spending_pre1990_df = spending_df[spending_df['Date'] < dt.datetime(1990, 1, 1)]\n",
        "spending_post1990_df = spending_df[spending_df['Date'] >= dt.datetime(1990, 1, 1)]"
      ]
    },
    {
      "cell_type": "code",
      "execution_count": 17,
      "metadata": {
        "id": "PDR7YAofS6qI",
        "colab": {
          "base_uri": "https://localhost:8080/"
        },
        "outputId": "b66b9c38-74d5-4b4f-84eb-68829e01854f"
      },
      "outputs": [
        {
          "output_type": "stream",
          "name": "stdout",
          "text": [
            "Pre-1990 seasonality:\n",
            "Quarter\n",
            "1   -56003.442230\n",
            "2   -32688.545601\n",
            "3   -40911.496801\n",
            "4    -1558.942164\n",
            "Name: Linear_Regression_Resid, dtype: float64\n",
            "\n",
            "Post-1990 seasonality:\n",
            "Quarter\n",
            "1    -18849.511793\n",
            "2     36812.764218\n",
            "3     45680.506094\n",
            "4    116238.196117\n",
            "Name: Linear_Regression_Resid, dtype: float64\n"
          ]
        }
      ],
      "source": [
        "print('Pre-1990 seasonality:')\n",
        "print(spending_pre1990_df.groupby(\"Quarter\")[\"Linear_Regression_Resid\"].mean())\n",
        "print('\\nPost-1990 seasonality:')\n",
        "print(spending_post1990_df.groupby(\"Quarter\")[\"Linear_Regression_Resid\"].mean())"
      ]
    },
    {
      "cell_type": "markdown",
      "source": [
        "### H) LOWESS TREND (OPTIONAL)"
      ],
      "metadata": {
        "id": "Bk5Juch1r-fy"
      }
    },
    {
      "cell_type": "code",
      "source": [
        "from statsmodels.nonparametric.smoothers_lowess import lowess\n",
        "\n",
        "y = spending_df[\"RealPCE\"]\n",
        "\n",
        "x = range(1, len(spending_df)+1)\n",
        "\n",
        "lowess_results = lowess(exog=x, endog=y)\n",
        "print(type(lowess_results), lowess_results.shape) #> np.array with two cols, x and y_pred\n",
        "\n",
        "lowess_y_pred = lowess_results[:, 1] # use just the second column, of preds"
      ],
      "metadata": {
        "id": "EOVOwJENsBxN",
        "colab": {
          "base_uri": "https://localhost:8080/"
        },
        "outputId": "896fb5ad-6cf3-4bf1-fa13-dd99f29cd664"
      },
      "execution_count": 18,
      "outputs": [
        {
          "output_type": "stream",
          "name": "stdout",
          "text": [
            "<class 'numpy.ndarray'> (299, 2)\n"
          ]
        }
      ]
    },
    {
      "cell_type": "code",
      "source": [
        "spending_df[\"Lowess_Pred\"] = lowess_y_pred\n",
        "spending_df[\"Lowess_Resid\"] = spending_df[\"RealPCE\"] - spending_df[\"Lowess_Pred\"]"
      ],
      "metadata": {
        "id": "elejFTO68SNV"
      },
      "execution_count": 19,
      "outputs": []
    },
    {
      "cell_type": "markdown",
      "source": [
        "Plot Predictions / Trend"
      ],
      "metadata": {
        "id": "IJlzzLliaJU-"
      }
    },
    {
      "cell_type": "code",
      "source": [
        "px.line(spending_df, x=\"Date\", y=[\"RealPCE\", \"Lowess_Pred\"], title=\"Real Consumer Spending vs Lowess Prediction \")"
      ],
      "metadata": {
        "id": "sW0V0vzNsIjH",
        "colab": {
          "base_uri": "https://localhost:8080/",
          "height": 542
        },
        "outputId": "a4b51ad6-da6c-481b-80da-e157543173e1"
      },
      "execution_count": 20,
      "outputs": [
        {
          "output_type": "display_data",
          "data": {
            "text/html": [
              "<html>\n",
              "<head><meta charset=\"utf-8\" /></head>\n",
              "<body>\n",
              "    <div>            <script src=\"https://cdnjs.cloudflare.com/ajax/libs/mathjax/2.7.5/MathJax.js?config=TeX-AMS-MML_SVG\"></script><script type=\"text/javascript\">if (window.MathJax) {MathJax.Hub.Config({SVG: {font: \"STIX-Web\"}});}</script>                <script type=\"text/javascript\">window.PlotlyConfig = {MathJaxConfig: 'local'};</script>\n",
              "        <script src=\"https://cdn.plot.ly/plotly-2.8.3.min.js\"></script>                <div id=\"09e096db-e201-4e65-8301-aa7488a26c7c\" class=\"plotly-graph-div\" style=\"height:525px; width:100%;\"></div>            <script type=\"text/javascript\">                                    window.PLOTLYENV=window.PLOTLYENV || {};                                    if (document.getElementById(\"09e096db-e201-4e65-8301-aa7488a26c7c\")) {                    Plotly.newPlot(                        \"09e096db-e201-4e65-8301-aa7488a26c7c\",                        [{\"hovertemplate\":\"variable=RealPCE<br>Date=%{x}<br>value=%{y}<extra></extra>\",\"legendgroup\":\"RealPCE\",\"line\":{\"color\":\"#636efa\",\"dash\":\"solid\"},\"marker\":{\"symbol\":\"circle\"},\"mode\":\"lines\",\"name\":\"RealPCE\",\"orientation\":\"v\",\"showlegend\":true,\"x\":[\"1947-03-31T00:00:00\",\"1947-06-30T00:00:00\",\"1947-09-30T00:00:00\",\"1947-12-31T00:00:00\",\"1948-03-31T00:00:00\",\"1948-06-30T00:00:00\",\"1948-09-30T00:00:00\",\"1948-12-31T00:00:00\",\"1949-03-31T00:00:00\",\"1949-06-30T00:00:00\",\"1949-09-30T00:00:00\",\"1949-12-31T00:00:00\",\"1950-03-31T00:00:00\",\"1950-06-30T00:00:00\",\"1950-09-30T00:00:00\",\"1950-12-31T00:00:00\",\"1951-03-31T00:00:00\",\"1951-06-30T00:00:00\",\"1951-09-30T00:00:00\",\"1951-12-31T00:00:00\",\"1952-03-31T00:00:00\",\"1952-06-30T00:00:00\",\"1952-09-30T00:00:00\",\"1952-12-31T00:00:00\",\"1953-03-31T00:00:00\",\"1953-06-30T00:00:00\",\"1953-09-30T00:00:00\",\"1953-12-31T00:00:00\",\"1954-03-31T00:00:00\",\"1954-06-30T00:00:00\",\"1954-09-30T00:00:00\",\"1954-12-31T00:00:00\",\"1955-03-31T00:00:00\",\"1955-06-30T00:00:00\",\"1955-09-30T00:00:00\",\"1955-12-31T00:00:00\",\"1956-03-31T00:00:00\",\"1956-06-30T00:00:00\",\"1956-09-30T00:00:00\",\"1956-12-31T00:00:00\",\"1957-03-31T00:00:00\",\"1957-06-30T00:00:00\",\"1957-09-30T00:00:00\",\"1957-12-31T00:00:00\",\"1958-03-31T00:00:00\",\"1958-06-30T00:00:00\",\"1958-09-30T00:00:00\",\"1958-12-31T00:00:00\",\"1959-03-31T00:00:00\",\"1959-06-30T00:00:00\",\"1959-09-30T00:00:00\",\"1959-12-31T00:00:00\",\"1960-03-31T00:00:00\",\"1960-06-30T00:00:00\",\"1960-09-30T00:00:00\",\"1960-12-31T00:00:00\",\"1961-03-31T00:00:00\",\"1961-06-30T00:00:00\",\"1961-09-30T00:00:00\",\"1961-12-31T00:00:00\",\"1962-03-31T00:00:00\",\"1962-06-30T00:00:00\",\"1962-09-30T00:00:00\",\"1962-12-31T00:00:00\",\"1963-03-31T00:00:00\",\"1963-06-30T00:00:00\",\"1963-09-30T00:00:00\",\"1963-12-31T00:00:00\",\"1964-03-31T00:00:00\",\"1964-06-30T00:00:00\",\"1964-09-30T00:00:00\",\"1964-12-31T00:00:00\",\"1965-03-31T00:00:00\",\"1965-06-30T00:00:00\",\"1965-09-30T00:00:00\",\"1965-12-31T00:00:00\",\"1966-03-31T00:00:00\",\"1966-06-30T00:00:00\",\"1966-09-30T00:00:00\",\"1966-12-31T00:00:00\",\"1967-03-31T00:00:00\",\"1967-06-30T00:00:00\",\"1967-09-30T00:00:00\",\"1967-12-31T00:00:00\",\"1968-03-31T00:00:00\",\"1968-06-30T00:00:00\",\"1968-09-30T00:00:00\",\"1968-12-31T00:00:00\",\"1969-03-31T00:00:00\",\"1969-06-30T00:00:00\",\"1969-09-30T00:00:00\",\"1969-12-31T00:00:00\",\"1970-03-31T00:00:00\",\"1970-06-30T00:00:00\",\"1970-09-30T00:00:00\",\"1970-12-31T00:00:00\",\"1971-03-31T00:00:00\",\"1971-06-30T00:00:00\",\"1971-09-30T00:00:00\",\"1971-12-31T00:00:00\",\"1972-03-31T00:00:00\",\"1972-06-30T00:00:00\",\"1972-09-30T00:00:00\",\"1972-12-31T00:00:00\",\"1973-03-31T00:00:00\",\"1973-06-30T00:00:00\",\"1973-09-30T00:00:00\",\"1973-12-31T00:00:00\",\"1974-03-31T00:00:00\",\"1974-06-30T00:00:00\",\"1974-09-30T00:00:00\",\"1974-12-31T00:00:00\",\"1975-03-31T00:00:00\",\"1975-06-30T00:00:00\",\"1975-09-30T00:00:00\",\"1975-12-31T00:00:00\",\"1976-03-31T00:00:00\",\"1976-06-30T00:00:00\",\"1976-09-30T00:00:00\",\"1976-12-31T00:00:00\",\"1977-03-31T00:00:00\",\"1977-06-30T00:00:00\",\"1977-09-30T00:00:00\",\"1977-12-31T00:00:00\",\"1978-03-31T00:00:00\",\"1978-06-30T00:00:00\",\"1978-09-30T00:00:00\",\"1978-12-31T00:00:00\",\"1979-03-31T00:00:00\",\"1979-06-30T00:00:00\",\"1979-09-30T00:00:00\",\"1979-12-31T00:00:00\",\"1980-03-31T00:00:00\",\"1980-06-30T00:00:00\",\"1980-09-30T00:00:00\",\"1980-12-31T00:00:00\",\"1981-03-31T00:00:00\",\"1981-06-30T00:00:00\",\"1981-09-30T00:00:00\",\"1981-12-31T00:00:00\",\"1982-03-31T00:00:00\",\"1982-06-30T00:00:00\",\"1982-09-30T00:00:00\",\"1982-12-31T00:00:00\",\"1983-03-31T00:00:00\",\"1983-06-30T00:00:00\",\"1983-09-30T00:00:00\",\"1983-12-31T00:00:00\",\"1984-03-31T00:00:00\",\"1984-06-30T00:00:00\",\"1984-09-30T00:00:00\",\"1984-12-31T00:00:00\",\"1985-03-31T00:00:00\",\"1985-06-30T00:00:00\",\"1985-09-30T00:00:00\",\"1985-12-31T00:00:00\",\"1986-03-31T00:00:00\",\"1986-06-30T00:00:00\",\"1986-09-30T00:00:00\",\"1986-12-31T00:00:00\",\"1987-03-31T00:00:00\",\"1987-06-30T00:00:00\",\"1987-09-30T00:00:00\",\"1987-12-31T00:00:00\",\"1988-03-31T00:00:00\",\"1988-06-30T00:00:00\",\"1988-09-30T00:00:00\",\"1988-12-31T00:00:00\",\"1989-03-31T00:00:00\",\"1989-06-30T00:00:00\",\"1989-09-30T00:00:00\",\"1989-12-31T00:00:00\",\"1990-03-31T00:00:00\",\"1990-06-30T00:00:00\",\"1990-09-30T00:00:00\",\"1990-12-31T00:00:00\",\"1991-03-31T00:00:00\",\"1991-06-30T00:00:00\",\"1991-09-30T00:00:00\",\"1991-12-31T00:00:00\",\"1992-03-31T00:00:00\",\"1992-06-30T00:00:00\",\"1992-09-30T00:00:00\",\"1992-12-31T00:00:00\",\"1993-03-31T00:00:00\",\"1993-06-30T00:00:00\",\"1993-09-30T00:00:00\",\"1993-12-31T00:00:00\",\"1994-03-31T00:00:00\",\"1994-06-30T00:00:00\",\"1994-09-30T00:00:00\",\"1994-12-31T00:00:00\",\"1995-03-31T00:00:00\",\"1995-06-30T00:00:00\",\"1995-09-30T00:00:00\",\"1995-12-31T00:00:00\",\"1996-03-31T00:00:00\",\"1996-06-30T00:00:00\",\"1996-09-30T00:00:00\",\"1996-12-31T00:00:00\",\"1997-03-31T00:00:00\",\"1997-06-30T00:00:00\",\"1997-09-30T00:00:00\",\"1997-12-31T00:00:00\",\"1998-03-31T00:00:00\",\"1998-06-30T00:00:00\",\"1998-09-30T00:00:00\",\"1998-12-31T00:00:00\",\"1999-03-31T00:00:00\",\"1999-06-30T00:00:00\",\"1999-09-30T00:00:00\",\"1999-12-31T00:00:00\",\"2000-03-31T00:00:00\",\"2000-06-30T00:00:00\",\"2000-09-30T00:00:00\",\"2000-12-31T00:00:00\",\"2001-03-31T00:00:00\",\"2001-06-30T00:00:00\",\"2001-09-30T00:00:00\",\"2001-12-31T00:00:00\",\"2002-03-31T00:00:00\",\"2002-06-30T00:00:00\",\"2002-09-30T00:00:00\",\"2002-12-31T00:00:00\",\"2003-03-31T00:00:00\",\"2003-06-30T00:00:00\",\"2003-09-30T00:00:00\",\"2003-12-31T00:00:00\",\"2004-03-31T00:00:00\",\"2004-06-30T00:00:00\",\"2004-09-30T00:00:00\",\"2004-12-31T00:00:00\",\"2005-03-31T00:00:00\",\"2005-06-30T00:00:00\",\"2005-09-30T00:00:00\",\"2005-12-31T00:00:00\",\"2006-03-31T00:00:00\",\"2006-06-30T00:00:00\",\"2006-09-30T00:00:00\",\"2006-12-31T00:00:00\",\"2007-03-31T00:00:00\",\"2007-06-30T00:00:00\",\"2007-09-30T00:00:00\",\"2007-12-31T00:00:00\",\"2008-03-31T00:00:00\",\"2008-06-30T00:00:00\",\"2008-09-30T00:00:00\",\"2008-12-31T00:00:00\",\"2009-03-31T00:00:00\",\"2009-06-30T00:00:00\",\"2009-09-30T00:00:00\",\"2009-12-31T00:00:00\",\"2010-03-31T00:00:00\",\"2010-06-30T00:00:00\",\"2010-09-30T00:00:00\",\"2010-12-31T00:00:00\",\"2011-03-31T00:00:00\",\"2011-06-30T00:00:00\",\"2011-09-30T00:00:00\",\"2011-12-31T00:00:00\",\"2012-03-31T00:00:00\",\"2012-06-30T00:00:00\",\"2012-09-30T00:00:00\",\"2012-12-31T00:00:00\",\"2013-03-31T00:00:00\",\"2013-06-30T00:00:00\",\"2013-09-30T00:00:00\",\"2013-12-31T00:00:00\",\"2014-03-31T00:00:00\",\"2014-06-30T00:00:00\",\"2014-09-30T00:00:00\",\"2014-12-31T00:00:00\",\"2015-03-31T00:00:00\",\"2015-06-30T00:00:00\",\"2015-09-30T00:00:00\",\"2015-12-31T00:00:00\",\"2016-03-31T00:00:00\",\"2016-06-30T00:00:00\",\"2016-09-30T00:00:00\",\"2016-12-31T00:00:00\",\"2017-03-31T00:00:00\",\"2017-06-30T00:00:00\",\"2017-09-30T00:00:00\",\"2017-12-31T00:00:00\",\"2018-03-31T00:00:00\",\"2018-06-30T00:00:00\",\"2018-09-30T00:00:00\",\"2018-12-31T00:00:00\",\"2019-03-31T00:00:00\",\"2019-06-30T00:00:00\",\"2019-09-30T00:00:00\",\"2019-12-31T00:00:00\",\"2020-03-31T00:00:00\",\"2020-06-30T00:00:00\",\"2020-09-30T00:00:00\",\"2020-12-31T00:00:00\",\"2021-03-31T00:00:00\",\"2021-06-30T00:00:00\",\"2021-09-30T00:00:00\"],\"xaxis\":\"x\",\"y\":[300597.13701431494,323251.09560136346,318602.6131293818,351978.2355227361,311978.16560313676,327476.79196469334,324807.0149141872,360276.65012780036,314706.77375359903,338405.24470193626,337228.74012729083,371701.5887635275,332177.4565585115,354427.182980026,370629.6851574213,390941.8955740481,355883.8221651324,359595.10157853755,359642.30171073094,396246.42433544964,351462.5165010769,373759.5552466991,371706.7108533555,421236.55913978495,376007.6907230653,398203.6338704148,390636.9339879978,425183.3242802825,377536.81934873667,402029.49533216073,399619.90090273536,444503.3292566925,403298.34067050455,433511.50202977,431771.92154748266,474566.4739884393,427639.0655331682,443679.7659418844,439536.4151191887,482939.4435351882,434152.9877376241,456276.1910901941,456660.4847477137,491156.6357042881,435828.30568124686,457003.95207327016,457312.10430640006,504521.51009657595,463350.98100280284,491296.52605459053,485306.4496238747,520268.6127805715,478288.8290053896,508761.34771217935,495429.4385432473,531550.6405607929,484931.83737483417,511993.2432432432,506882.66410194756,551759.3370961931,509284.9455936865,539648.4956806672,530879.3820558527,577258.4562525917,529072.6520968695,560303.1375324369,556649.8415306961,600052.6285012573,560179.2573623561,590603.9488966318,592666.1264181524,636300.6980903479,588624.9928115476,626932.5399095955,626251.2826359594,688775.2202330207,631412.136250846,663934.8847616916,665591.5172375506,712753.4156015865,650953.0348805274,688458.8048767154,686539.1907263963,727810.3013051185,682844.3877551021,721322.601010101,730674.3035667796,777289.1131939439,714056.2044167899,752852.8982222894,753701.4925373134,799911.4739585896,734853.4201954398,770135.115641679,773893.9949521407,812829.6742043156,754857.4888226527,798742.8624055994,801609.7405262439,854849.528643945,796241.4782920703,845154.960981048,853589.4262222616,911991.9323014865,856441.6912146941,894959.4117897063,890191.1678771185,932617.5869120655,845154.4999602828,892537.9475493416,891451.3520628832,914287.2863326241,850354.6865435166,902180.7961862747,912324.5093245792,960209.5139962219,907065.9374256887,952258.7165234968,955367.1566512925,1012788.2668060364,949032.5685865555,987601.7414347909,996145.9563622801,1056231.8041126535,985339.9668325041,1036745.8488447675,1043105.6008826689,1097999.5440556253,1031911.6207523423,1055377.9979854627,1058170.8548052914,1116315.680273873,1043665.0216537415,1041787.7067512103,1050452.6788501719,1112771.541724275,1038201.5029350633,1069985.3981803886,1074608.822489392,1125104.4841097086,1053001.87012317,1079394.0426256733,1083207.9149810302,1156213.717034334,1086703.4074317794,1142477.5334705438,1155116.8590852409,1235220.1886189259,1166718.0581910184,1208370.690836482,1205130.3469443258,1282774.7316395089,1214794.1075449376,1266990.9712100849,1281600.1502488498,1351139.5426908873,1268510.5279727401,1317957.844391302,1336267.242015195,1403570.708459353,1304376.4073509118,1371757.9769056442,1381640.3257131658,1448402.1410779585,1370431.5210151786,1420385.2021357743,1431977.0528298654,1513197.8232491906,1413423.279979888,1463032.9088804366,1477074.7024396658,1549990.2133489922,1452496.8648509597,1501935.8230832962,1507499.7640099432,1560043.166361293,1448651.529193698,1502123.148774043,1512203.0122228495,1570776.2695430857,1496174.402673853,1548466.9917142773,1565111.1639519678,1646054.2822143836,1543018.1039288752,1606085.68930341,1622349.748977045,1702436.7020125515,1609808.2341440977,1666662.8545288197,1680857.0130865532,1767356.0782651692,1652617.6685598604,1721991.4460626729,1734860.3803001198,1813823.211464368,1719977.9477637652,1782111.1719605695,1790462.4277456645,1870866.0564371985,1780816.4145703577,1834797.2836683926,1865359.9066536122,1952721.4385988368,1854927.073167471,1946343.5464930073,1966437.39939069,2060824.7969852977,1964663.4265206396,2049196.0652629086,2067114.9992796995,2162190.0261647208,2085906.3089120162,2155788.7296793675,2163810.362879542,2253006.5259896903,2148522.962141453,2207728.2990466636,2205962.888665998,2307654.8068126272,2205633.380028017,2256598.877632102,2273752.7945554033,2369229.6343652415,2255181.795998048,2327277.4920162843,2355726.429488267,2455386.9883234724,2355356.523610796,2407910.7721911417,2430612.3896315736,2553358.8824039567,2427858.824077742,2506026.816729192,2532658.625153213,2625423.6132419626,2510419.21041921,2584418.7427854175,2590801.2595831803,2699741.4263901114,2584696.604890548,2647856.751724893,2652515.0554847703,2752068.7350423667,2644296.285207126,2678327.8619082915,2643605.2725329534,2688645.051376244,2566024.87135506,2620182.5947677516,2632563.7626597383,2695643.114226179,2587351.7910870225,2673014.3610785464,2687016.2975344756,2768006.8097121445,2652239.482000762,2725323.397792026,2725884.549430256,2793781.225348409,2698602.473551485,2760717.2209192775,2752881.1560601215,2834526.211180124,2714369.1762306043,2793133.7139690677,2800672.1264622696,2902860.8161422657,2768660.1422097203,2862679.7931892397,2883733.4160310896,2999774.908071292,2867534.4160715505,2961752.586315555,2979761.870218302,3083421.7609356544,2949676.7950454806,3033797.805537124,3048463.7714482797,3154605.614463346,3005114.3206668627,3110337.8819257286,3122496.278570217,3244592.001946636,3097921.9547571894,3205832.871140691,3218205.8557977555,3322029.1238083,3150633.839610622,3274392.9420119636,3292603.6899832934,3407401.178980869,3163269.518504498,2936098.8677810864,3194424.6120728315,3335229.2020373517,3225905.1075506774,3418226.974458184,3428117.9294384844],\"yaxis\":\"y\",\"type\":\"scatter\"},{\"hovertemplate\":\"variable=Lowess_Pred<br>Date=%{x}<br>value=%{y}<extra></extra>\",\"legendgroup\":\"Lowess_Pred\",\"line\":{\"color\":\"#EF553B\",\"dash\":\"solid\"},\"marker\":{\"symbol\":\"circle\"},\"mode\":\"lines\",\"name\":\"Lowess_Pred\",\"orientation\":\"v\",\"showlegend\":true,\"x\":[\"1947-03-31T00:00:00\",\"1947-06-30T00:00:00\",\"1947-09-30T00:00:00\",\"1947-12-31T00:00:00\",\"1948-03-31T00:00:00\",\"1948-06-30T00:00:00\",\"1948-09-30T00:00:00\",\"1948-12-31T00:00:00\",\"1949-03-31T00:00:00\",\"1949-06-30T00:00:00\",\"1949-09-30T00:00:00\",\"1949-12-31T00:00:00\",\"1950-03-31T00:00:00\",\"1950-06-30T00:00:00\",\"1950-09-30T00:00:00\",\"1950-12-31T00:00:00\",\"1951-03-31T00:00:00\",\"1951-06-30T00:00:00\",\"1951-09-30T00:00:00\",\"1951-12-31T00:00:00\",\"1952-03-31T00:00:00\",\"1952-06-30T00:00:00\",\"1952-09-30T00:00:00\",\"1952-12-31T00:00:00\",\"1953-03-31T00:00:00\",\"1953-06-30T00:00:00\",\"1953-09-30T00:00:00\",\"1953-12-31T00:00:00\",\"1954-03-31T00:00:00\",\"1954-06-30T00:00:00\",\"1954-09-30T00:00:00\",\"1954-12-31T00:00:00\",\"1955-03-31T00:00:00\",\"1955-06-30T00:00:00\",\"1955-09-30T00:00:00\",\"1955-12-31T00:00:00\",\"1956-03-31T00:00:00\",\"1956-06-30T00:00:00\",\"1956-09-30T00:00:00\",\"1956-12-31T00:00:00\",\"1957-03-31T00:00:00\",\"1957-06-30T00:00:00\",\"1957-09-30T00:00:00\",\"1957-12-31T00:00:00\",\"1958-03-31T00:00:00\",\"1958-06-30T00:00:00\",\"1958-09-30T00:00:00\",\"1958-12-31T00:00:00\",\"1959-03-31T00:00:00\",\"1959-06-30T00:00:00\",\"1959-09-30T00:00:00\",\"1959-12-31T00:00:00\",\"1960-03-31T00:00:00\",\"1960-06-30T00:00:00\",\"1960-09-30T00:00:00\",\"1960-12-31T00:00:00\",\"1961-03-31T00:00:00\",\"1961-06-30T00:00:00\",\"1961-09-30T00:00:00\",\"1961-12-31T00:00:00\",\"1962-03-31T00:00:00\",\"1962-06-30T00:00:00\",\"1962-09-30T00:00:00\",\"1962-12-31T00:00:00\",\"1963-03-31T00:00:00\",\"1963-06-30T00:00:00\",\"1963-09-30T00:00:00\",\"1963-12-31T00:00:00\",\"1964-03-31T00:00:00\",\"1964-06-30T00:00:00\",\"1964-09-30T00:00:00\",\"1964-12-31T00:00:00\",\"1965-03-31T00:00:00\",\"1965-06-30T00:00:00\",\"1965-09-30T00:00:00\",\"1965-12-31T00:00:00\",\"1966-03-31T00:00:00\",\"1966-06-30T00:00:00\",\"1966-09-30T00:00:00\",\"1966-12-31T00:00:00\",\"1967-03-31T00:00:00\",\"1967-06-30T00:00:00\",\"1967-09-30T00:00:00\",\"1967-12-31T00:00:00\",\"1968-03-31T00:00:00\",\"1968-06-30T00:00:00\",\"1968-09-30T00:00:00\",\"1968-12-31T00:00:00\",\"1969-03-31T00:00:00\",\"1969-06-30T00:00:00\",\"1969-09-30T00:00:00\",\"1969-12-31T00:00:00\",\"1970-03-31T00:00:00\",\"1970-06-30T00:00:00\",\"1970-09-30T00:00:00\",\"1970-12-31T00:00:00\",\"1971-03-31T00:00:00\",\"1971-06-30T00:00:00\",\"1971-09-30T00:00:00\",\"1971-12-31T00:00:00\",\"1972-03-31T00:00:00\",\"1972-06-30T00:00:00\",\"1972-09-30T00:00:00\",\"1972-12-31T00:00:00\",\"1973-03-31T00:00:00\",\"1973-06-30T00:00:00\",\"1973-09-30T00:00:00\",\"1973-12-31T00:00:00\",\"1974-03-31T00:00:00\",\"1974-06-30T00:00:00\",\"1974-09-30T00:00:00\",\"1974-12-31T00:00:00\",\"1975-03-31T00:00:00\",\"1975-06-30T00:00:00\",\"1975-09-30T00:00:00\",\"1975-12-31T00:00:00\",\"1976-03-31T00:00:00\",\"1976-06-30T00:00:00\",\"1976-09-30T00:00:00\",\"1976-12-31T00:00:00\",\"1977-03-31T00:00:00\",\"1977-06-30T00:00:00\",\"1977-09-30T00:00:00\",\"1977-12-31T00:00:00\",\"1978-03-31T00:00:00\",\"1978-06-30T00:00:00\",\"1978-09-30T00:00:00\",\"1978-12-31T00:00:00\",\"1979-03-31T00:00:00\",\"1979-06-30T00:00:00\",\"1979-09-30T00:00:00\",\"1979-12-31T00:00:00\",\"1980-03-31T00:00:00\",\"1980-06-30T00:00:00\",\"1980-09-30T00:00:00\",\"1980-12-31T00:00:00\",\"1981-03-31T00:00:00\",\"1981-06-30T00:00:00\",\"1981-09-30T00:00:00\",\"1981-12-31T00:00:00\",\"1982-03-31T00:00:00\",\"1982-06-30T00:00:00\",\"1982-09-30T00:00:00\",\"1982-12-31T00:00:00\",\"1983-03-31T00:00:00\",\"1983-06-30T00:00:00\",\"1983-09-30T00:00:00\",\"1983-12-31T00:00:00\",\"1984-03-31T00:00:00\",\"1984-06-30T00:00:00\",\"1984-09-30T00:00:00\",\"1984-12-31T00:00:00\",\"1985-03-31T00:00:00\",\"1985-06-30T00:00:00\",\"1985-09-30T00:00:00\",\"1985-12-31T00:00:00\",\"1986-03-31T00:00:00\",\"1986-06-30T00:00:00\",\"1986-09-30T00:00:00\",\"1986-12-31T00:00:00\",\"1987-03-31T00:00:00\",\"1987-06-30T00:00:00\",\"1987-09-30T00:00:00\",\"1987-12-31T00:00:00\",\"1988-03-31T00:00:00\",\"1988-06-30T00:00:00\",\"1988-09-30T00:00:00\",\"1988-12-31T00:00:00\",\"1989-03-31T00:00:00\",\"1989-06-30T00:00:00\",\"1989-09-30T00:00:00\",\"1989-12-31T00:00:00\",\"1990-03-31T00:00:00\",\"1990-06-30T00:00:00\",\"1990-09-30T00:00:00\",\"1990-12-31T00:00:00\",\"1991-03-31T00:00:00\",\"1991-06-30T00:00:00\",\"1991-09-30T00:00:00\",\"1991-12-31T00:00:00\",\"1992-03-31T00:00:00\",\"1992-06-30T00:00:00\",\"1992-09-30T00:00:00\",\"1992-12-31T00:00:00\",\"1993-03-31T00:00:00\",\"1993-06-30T00:00:00\",\"1993-09-30T00:00:00\",\"1993-12-31T00:00:00\",\"1994-03-31T00:00:00\",\"1994-06-30T00:00:00\",\"1994-09-30T00:00:00\",\"1994-12-31T00:00:00\",\"1995-03-31T00:00:00\",\"1995-06-30T00:00:00\",\"1995-09-30T00:00:00\",\"1995-12-31T00:00:00\",\"1996-03-31T00:00:00\",\"1996-06-30T00:00:00\",\"1996-09-30T00:00:00\",\"1996-12-31T00:00:00\",\"1997-03-31T00:00:00\",\"1997-06-30T00:00:00\",\"1997-09-30T00:00:00\",\"1997-12-31T00:00:00\",\"1998-03-31T00:00:00\",\"1998-06-30T00:00:00\",\"1998-09-30T00:00:00\",\"1998-12-31T00:00:00\",\"1999-03-31T00:00:00\",\"1999-06-30T00:00:00\",\"1999-09-30T00:00:00\",\"1999-12-31T00:00:00\",\"2000-03-31T00:00:00\",\"2000-06-30T00:00:00\",\"2000-09-30T00:00:00\",\"2000-12-31T00:00:00\",\"2001-03-31T00:00:00\",\"2001-06-30T00:00:00\",\"2001-09-30T00:00:00\",\"2001-12-31T00:00:00\",\"2002-03-31T00:00:00\",\"2002-06-30T00:00:00\",\"2002-09-30T00:00:00\",\"2002-12-31T00:00:00\",\"2003-03-31T00:00:00\",\"2003-06-30T00:00:00\",\"2003-09-30T00:00:00\",\"2003-12-31T00:00:00\",\"2004-03-31T00:00:00\",\"2004-06-30T00:00:00\",\"2004-09-30T00:00:00\",\"2004-12-31T00:00:00\",\"2005-03-31T00:00:00\",\"2005-06-30T00:00:00\",\"2005-09-30T00:00:00\",\"2005-12-31T00:00:00\",\"2006-03-31T00:00:00\",\"2006-06-30T00:00:00\",\"2006-09-30T00:00:00\",\"2006-12-31T00:00:00\",\"2007-03-31T00:00:00\",\"2007-06-30T00:00:00\",\"2007-09-30T00:00:00\",\"2007-12-31T00:00:00\",\"2008-03-31T00:00:00\",\"2008-06-30T00:00:00\",\"2008-09-30T00:00:00\",\"2008-12-31T00:00:00\",\"2009-03-31T00:00:00\",\"2009-06-30T00:00:00\",\"2009-09-30T00:00:00\",\"2009-12-31T00:00:00\",\"2010-03-31T00:00:00\",\"2010-06-30T00:00:00\",\"2010-09-30T00:00:00\",\"2010-12-31T00:00:00\",\"2011-03-31T00:00:00\",\"2011-06-30T00:00:00\",\"2011-09-30T00:00:00\",\"2011-12-31T00:00:00\",\"2012-03-31T00:00:00\",\"2012-06-30T00:00:00\",\"2012-09-30T00:00:00\",\"2012-12-31T00:00:00\",\"2013-03-31T00:00:00\",\"2013-06-30T00:00:00\",\"2013-09-30T00:00:00\",\"2013-12-31T00:00:00\",\"2014-03-31T00:00:00\",\"2014-06-30T00:00:00\",\"2014-09-30T00:00:00\",\"2014-12-31T00:00:00\",\"2015-03-31T00:00:00\",\"2015-06-30T00:00:00\",\"2015-09-30T00:00:00\",\"2015-12-31T00:00:00\",\"2016-03-31T00:00:00\",\"2016-06-30T00:00:00\",\"2016-09-30T00:00:00\",\"2016-12-31T00:00:00\",\"2017-03-31T00:00:00\",\"2017-06-30T00:00:00\",\"2017-09-30T00:00:00\",\"2017-12-31T00:00:00\",\"2018-03-31T00:00:00\",\"2018-06-30T00:00:00\",\"2018-09-30T00:00:00\",\"2018-12-31T00:00:00\",\"2019-03-31T00:00:00\",\"2019-06-30T00:00:00\",\"2019-09-30T00:00:00\",\"2019-12-31T00:00:00\",\"2020-03-31T00:00:00\",\"2020-06-30T00:00:00\",\"2020-09-30T00:00:00\",\"2020-12-31T00:00:00\",\"2021-03-31T00:00:00\",\"2021-06-30T00:00:00\",\"2021-09-30T00:00:00\"],\"xaxis\":\"x\",\"y\":[229779.72031513343,235624.77814391337,241476.3711502198,247334.58376372454,253199.49172624532,259071.16143177767,264949.65197816474,270835.0152184959,276727.2956477123,282626.5295140893,288532.7474175884,294445.97385663795,300366.2268425668,306293.5168312286,312227.84904518636,318169.2227511879,324117.62990477437,330073.054676625,336035.47601828084,342004.86857960693,347981.2025737519,353964.44251643494,359954.5500790793,365951.4838522089,371955.1987946872,377965.6440903728,383982.76569088176,390006.50620791066,396036.8050426197,402073.597464438,408116.817654114,414166.39845428814,420222.2709139529,426284.3624176383,432352.5989068905,438426.904088219,444507.1988611305,450593.3997216922,456685.4216028147,462783.1782542969,468886.5821013524,474995.5426793774,481109.9694768167,487229.77190731926,493354.85892412014,499485.13810429274,505620.51899764704,511760.91341028904,517906.2349274017,524056.3970452553,530211.315277279,536370.9068225365,542535.09057097,548703.7861413615,554876.9161646193,561054.4059926871,567236.1841656199,573422.1816586163,579612.3344247068,585806.5835047935,592004.8750461761,598207.1589776677,604413.3912900451,610623.5340383044,616837.5556377443,623055.429662623,629277.1377437833,635502.6698886227,641732.0248827564,647965.2094481026,654202.241415504,660443.1504491572,666687.9788323019,672936.7813935681,679189.630790553,685446.6195347811,691707.8625204857,697973.4978708238,704243.6969810899,710518.6716054436,716798.6824309112,723084.0487020176,729375.1692257862,735672.5415174118,741976.7860639826,748288.6749041555,754609.1742044028,760939.4888790287,767281.1155065827,773635.9033597283,780006.1347882063,786394.6022758211,792804.683833017,799240.4031570208,805706.4696761009,812208.2455054893,818751.6026301226,825342.6071320326,831986.9617898205,838689.080376143,846116.2584117174,853595.9121940429,861128.3145507161,868713.6877776961,876352.2372546663,884044.2111437749,891789.9787499865,899589.8880503814,907444.3605229921,915353.9271625732,923319.2889613955,931341.1970109072,939420.5225010094,947558.2628483145,955755.564272753,964013.6751705916,972333.9614624075,980717.8656855949,989166.8655373665,997682.440332539,1006266.095867167,1014919.3112392885,1023643.5252059504,1032440.1107244397,1041310.4104368304,1050255.7002534587,1059277.1701460506,1068375.8910056986,1077552.8646882595,1086808.9754060074,1096144.9527625141,1105561.4249638643,1115058.961294807,1124638.0000392012,1134298.7728929846,1144041.448848538,1153866.1737124678,1163772.9841058787,1173761.730461238,1183832.246582147,1193984.3818663983,1204217.9207730358,1214532.4866906712,1224927.7434238254,1235403.4251736156,1245959.2423169042,1256594.7907289357,1267309.7308666208,1278103.8480996247,1288977.0006428894,1299929.0936287856,1310959.960585708,1322069.4146002117,1333257.222155705,1344523.1276073584,1355866.7128733727,1367287.5015732243,1378784.9441838718,1390358.4595993995,1402007.3064245996,1413730.6734698655,1425527.651351356,1437397.287303413,1449338.4666657043,1461349.990295464,1473430.532357062,1485578.714951586,1497792.9872709585,1510071.7219190653,1522413.213284839,1534815.7833201108,1547277.6676953314,1559797.1154965018,1572372.3873582676,1585001.8638939788,1597683.9345275317,1610417.1096434665,1623200.0005426651,1636031.378398826,1648910.063772306,1661835.0006774582,1674805.2119426853,1687819.8478785444,1700878.0666293285,1713979.1225829916,1727122.3368135002,1740307.1606508754,1753533.1005206234,1766799.8067981938,1780107.0186765399,1793454.585185637,1806842.3654275702,1820270.3277645498,1833738.4895924262,1847246.9123149824,1860795.5550883065,1874384.3121291273,1888012.930499817,1901681.125046846,1915388.5459646662,1929679.303931667,1943972.4173547414,1958269.9509863523,1972573.3402751924,1986883.5838618532,2001201.3752863172,2015527.211035786,2029861.4523530726,2044204.3638415085,2058556.1345261675,2072916.9099676672,2087286.7982457199,2101665.872481572,2116054.169065396,2130451.7005338944,2144858.453914323,2159274.3907199586,2173699.4461188708,2188133.54101802,2202576.581208693,2217028.457297589,2231489.041686815,2245958.19861164,2260435.7834541397,2274921.6408488806,2289415.60252853,2303917.496885431,2318427.1460617753,2332944.3631368894,2347468.9506204496,2362000.706698481,2376539.4242605595,2391084.889856209,2405636.88353544,2420195.1827302203,2434759.559785299,2449329.7814888633,2463905.610842014,2478486.809098383,2493073.134048697,2507664.340436333,2522260.181810848,2536860.4109236747,2551464.7783669657,2566073.0329497373,2580684.9231648385,2595300.197814457,2609918.606032054,2624539.899361934,2639163.832990737,2653790.174036393,2668418.7006490314,2683049.2000897354,2697681.466791759,2712315.3082302758,2726950.542214778,2741586.994262607,2756224.4946386744,2770862.8849554323,2785502.016734528,2800141.75021929,2814781.9521599393,2829422.5010389574,2844063.2863967023,2858704.208119351,2873345.173564126,2887986.102312158,2902626.9258958325,2917267.58596389,2931908.0300236074,2946548.216662471,2961188.1147480933,2975827.70030545,2990466.951001853,3005105.8531035897,3019744.39906392,3034382.5842014966,3049020.4023222323,3063657.853947847,3078294.944026264,3092931.678796889,3107568.0616602716,3122204.1022249893,3136839.812500996,3151475.2034303444,3166110.2803700753,3180745.0514680347,3195379.522540417,3210013.693925414,3224647.5589184933,3239281.1138041504,3253914.3513673507,3268547.2571273856,3283179.8095668624,3297811.994211643,3312443.8016429995,3327075.231023835,3341706.2841479927,3356336.969544712],\"yaxis\":\"y\",\"type\":\"scatter\"}],                        {\"template\":{\"data\":{\"bar\":[{\"error_x\":{\"color\":\"#2a3f5f\"},\"error_y\":{\"color\":\"#2a3f5f\"},\"marker\":{\"line\":{\"color\":\"#E5ECF6\",\"width\":0.5},\"pattern\":{\"fillmode\":\"overlay\",\"size\":10,\"solidity\":0.2}},\"type\":\"bar\"}],\"barpolar\":[{\"marker\":{\"line\":{\"color\":\"#E5ECF6\",\"width\":0.5},\"pattern\":{\"fillmode\":\"overlay\",\"size\":10,\"solidity\":0.2}},\"type\":\"barpolar\"}],\"carpet\":[{\"aaxis\":{\"endlinecolor\":\"#2a3f5f\",\"gridcolor\":\"white\",\"linecolor\":\"white\",\"minorgridcolor\":\"white\",\"startlinecolor\":\"#2a3f5f\"},\"baxis\":{\"endlinecolor\":\"#2a3f5f\",\"gridcolor\":\"white\",\"linecolor\":\"white\",\"minorgridcolor\":\"white\",\"startlinecolor\":\"#2a3f5f\"},\"type\":\"carpet\"}],\"choropleth\":[{\"colorbar\":{\"outlinewidth\":0,\"ticks\":\"\"},\"type\":\"choropleth\"}],\"contour\":[{\"colorbar\":{\"outlinewidth\":0,\"ticks\":\"\"},\"colorscale\":[[0.0,\"#0d0887\"],[0.1111111111111111,\"#46039f\"],[0.2222222222222222,\"#7201a8\"],[0.3333333333333333,\"#9c179e\"],[0.4444444444444444,\"#bd3786\"],[0.5555555555555556,\"#d8576b\"],[0.6666666666666666,\"#ed7953\"],[0.7777777777777778,\"#fb9f3a\"],[0.8888888888888888,\"#fdca26\"],[1.0,\"#f0f921\"]],\"type\":\"contour\"}],\"contourcarpet\":[{\"colorbar\":{\"outlinewidth\":0,\"ticks\":\"\"},\"type\":\"contourcarpet\"}],\"heatmap\":[{\"colorbar\":{\"outlinewidth\":0,\"ticks\":\"\"},\"colorscale\":[[0.0,\"#0d0887\"],[0.1111111111111111,\"#46039f\"],[0.2222222222222222,\"#7201a8\"],[0.3333333333333333,\"#9c179e\"],[0.4444444444444444,\"#bd3786\"],[0.5555555555555556,\"#d8576b\"],[0.6666666666666666,\"#ed7953\"],[0.7777777777777778,\"#fb9f3a\"],[0.8888888888888888,\"#fdca26\"],[1.0,\"#f0f921\"]],\"type\":\"heatmap\"}],\"heatmapgl\":[{\"colorbar\":{\"outlinewidth\":0,\"ticks\":\"\"},\"colorscale\":[[0.0,\"#0d0887\"],[0.1111111111111111,\"#46039f\"],[0.2222222222222222,\"#7201a8\"],[0.3333333333333333,\"#9c179e\"],[0.4444444444444444,\"#bd3786\"],[0.5555555555555556,\"#d8576b\"],[0.6666666666666666,\"#ed7953\"],[0.7777777777777778,\"#fb9f3a\"],[0.8888888888888888,\"#fdca26\"],[1.0,\"#f0f921\"]],\"type\":\"heatmapgl\"}],\"histogram\":[{\"marker\":{\"pattern\":{\"fillmode\":\"overlay\",\"size\":10,\"solidity\":0.2}},\"type\":\"histogram\"}],\"histogram2d\":[{\"colorbar\":{\"outlinewidth\":0,\"ticks\":\"\"},\"colorscale\":[[0.0,\"#0d0887\"],[0.1111111111111111,\"#46039f\"],[0.2222222222222222,\"#7201a8\"],[0.3333333333333333,\"#9c179e\"],[0.4444444444444444,\"#bd3786\"],[0.5555555555555556,\"#d8576b\"],[0.6666666666666666,\"#ed7953\"],[0.7777777777777778,\"#fb9f3a\"],[0.8888888888888888,\"#fdca26\"],[1.0,\"#f0f921\"]],\"type\":\"histogram2d\"}],\"histogram2dcontour\":[{\"colorbar\":{\"outlinewidth\":0,\"ticks\":\"\"},\"colorscale\":[[0.0,\"#0d0887\"],[0.1111111111111111,\"#46039f\"],[0.2222222222222222,\"#7201a8\"],[0.3333333333333333,\"#9c179e\"],[0.4444444444444444,\"#bd3786\"],[0.5555555555555556,\"#d8576b\"],[0.6666666666666666,\"#ed7953\"],[0.7777777777777778,\"#fb9f3a\"],[0.8888888888888888,\"#fdca26\"],[1.0,\"#f0f921\"]],\"type\":\"histogram2dcontour\"}],\"mesh3d\":[{\"colorbar\":{\"outlinewidth\":0,\"ticks\":\"\"},\"type\":\"mesh3d\"}],\"parcoords\":[{\"line\":{\"colorbar\":{\"outlinewidth\":0,\"ticks\":\"\"}},\"type\":\"parcoords\"}],\"pie\":[{\"automargin\":true,\"type\":\"pie\"}],\"scatter\":[{\"marker\":{\"colorbar\":{\"outlinewidth\":0,\"ticks\":\"\"}},\"type\":\"scatter\"}],\"scatter3d\":[{\"line\":{\"colorbar\":{\"outlinewidth\":0,\"ticks\":\"\"}},\"marker\":{\"colorbar\":{\"outlinewidth\":0,\"ticks\":\"\"}},\"type\":\"scatter3d\"}],\"scattercarpet\":[{\"marker\":{\"colorbar\":{\"outlinewidth\":0,\"ticks\":\"\"}},\"type\":\"scattercarpet\"}],\"scattergeo\":[{\"marker\":{\"colorbar\":{\"outlinewidth\":0,\"ticks\":\"\"}},\"type\":\"scattergeo\"}],\"scattergl\":[{\"marker\":{\"colorbar\":{\"outlinewidth\":0,\"ticks\":\"\"}},\"type\":\"scattergl\"}],\"scattermapbox\":[{\"marker\":{\"colorbar\":{\"outlinewidth\":0,\"ticks\":\"\"}},\"type\":\"scattermapbox\"}],\"scatterpolar\":[{\"marker\":{\"colorbar\":{\"outlinewidth\":0,\"ticks\":\"\"}},\"type\":\"scatterpolar\"}],\"scatterpolargl\":[{\"marker\":{\"colorbar\":{\"outlinewidth\":0,\"ticks\":\"\"}},\"type\":\"scatterpolargl\"}],\"scatterternary\":[{\"marker\":{\"colorbar\":{\"outlinewidth\":0,\"ticks\":\"\"}},\"type\":\"scatterternary\"}],\"surface\":[{\"colorbar\":{\"outlinewidth\":0,\"ticks\":\"\"},\"colorscale\":[[0.0,\"#0d0887\"],[0.1111111111111111,\"#46039f\"],[0.2222222222222222,\"#7201a8\"],[0.3333333333333333,\"#9c179e\"],[0.4444444444444444,\"#bd3786\"],[0.5555555555555556,\"#d8576b\"],[0.6666666666666666,\"#ed7953\"],[0.7777777777777778,\"#fb9f3a\"],[0.8888888888888888,\"#fdca26\"],[1.0,\"#f0f921\"]],\"type\":\"surface\"}],\"table\":[{\"cells\":{\"fill\":{\"color\":\"#EBF0F8\"},\"line\":{\"color\":\"white\"}},\"header\":{\"fill\":{\"color\":\"#C8D4E3\"},\"line\":{\"color\":\"white\"}},\"type\":\"table\"}]},\"layout\":{\"annotationdefaults\":{\"arrowcolor\":\"#2a3f5f\",\"arrowhead\":0,\"arrowwidth\":1},\"autotypenumbers\":\"strict\",\"coloraxis\":{\"colorbar\":{\"outlinewidth\":0,\"ticks\":\"\"}},\"colorscale\":{\"diverging\":[[0,\"#8e0152\"],[0.1,\"#c51b7d\"],[0.2,\"#de77ae\"],[0.3,\"#f1b6da\"],[0.4,\"#fde0ef\"],[0.5,\"#f7f7f7\"],[0.6,\"#e6f5d0\"],[0.7,\"#b8e186\"],[0.8,\"#7fbc41\"],[0.9,\"#4d9221\"],[1,\"#276419\"]],\"sequential\":[[0.0,\"#0d0887\"],[0.1111111111111111,\"#46039f\"],[0.2222222222222222,\"#7201a8\"],[0.3333333333333333,\"#9c179e\"],[0.4444444444444444,\"#bd3786\"],[0.5555555555555556,\"#d8576b\"],[0.6666666666666666,\"#ed7953\"],[0.7777777777777778,\"#fb9f3a\"],[0.8888888888888888,\"#fdca26\"],[1.0,\"#f0f921\"]],\"sequentialminus\":[[0.0,\"#0d0887\"],[0.1111111111111111,\"#46039f\"],[0.2222222222222222,\"#7201a8\"],[0.3333333333333333,\"#9c179e\"],[0.4444444444444444,\"#bd3786\"],[0.5555555555555556,\"#d8576b\"],[0.6666666666666666,\"#ed7953\"],[0.7777777777777778,\"#fb9f3a\"],[0.8888888888888888,\"#fdca26\"],[1.0,\"#f0f921\"]]},\"colorway\":[\"#636efa\",\"#EF553B\",\"#00cc96\",\"#ab63fa\",\"#FFA15A\",\"#19d3f3\",\"#FF6692\",\"#B6E880\",\"#FF97FF\",\"#FECB52\"],\"font\":{\"color\":\"#2a3f5f\"},\"geo\":{\"bgcolor\":\"white\",\"lakecolor\":\"white\",\"landcolor\":\"#E5ECF6\",\"showlakes\":true,\"showland\":true,\"subunitcolor\":\"white\"},\"hoverlabel\":{\"align\":\"left\"},\"hovermode\":\"closest\",\"mapbox\":{\"style\":\"light\"},\"paper_bgcolor\":\"white\",\"plot_bgcolor\":\"#E5ECF6\",\"polar\":{\"angularaxis\":{\"gridcolor\":\"white\",\"linecolor\":\"white\",\"ticks\":\"\"},\"bgcolor\":\"#E5ECF6\",\"radialaxis\":{\"gridcolor\":\"white\",\"linecolor\":\"white\",\"ticks\":\"\"}},\"scene\":{\"xaxis\":{\"backgroundcolor\":\"#E5ECF6\",\"gridcolor\":\"white\",\"gridwidth\":2,\"linecolor\":\"white\",\"showbackground\":true,\"ticks\":\"\",\"zerolinecolor\":\"white\"},\"yaxis\":{\"backgroundcolor\":\"#E5ECF6\",\"gridcolor\":\"white\",\"gridwidth\":2,\"linecolor\":\"white\",\"showbackground\":true,\"ticks\":\"\",\"zerolinecolor\":\"white\"},\"zaxis\":{\"backgroundcolor\":\"#E5ECF6\",\"gridcolor\":\"white\",\"gridwidth\":2,\"linecolor\":\"white\",\"showbackground\":true,\"ticks\":\"\",\"zerolinecolor\":\"white\"}},\"shapedefaults\":{\"line\":{\"color\":\"#2a3f5f\"}},\"ternary\":{\"aaxis\":{\"gridcolor\":\"white\",\"linecolor\":\"white\",\"ticks\":\"\"},\"baxis\":{\"gridcolor\":\"white\",\"linecolor\":\"white\",\"ticks\":\"\"},\"bgcolor\":\"#E5ECF6\",\"caxis\":{\"gridcolor\":\"white\",\"linecolor\":\"white\",\"ticks\":\"\"}},\"title\":{\"x\":0.05},\"xaxis\":{\"automargin\":true,\"gridcolor\":\"white\",\"linecolor\":\"white\",\"ticks\":\"\",\"title\":{\"standoff\":15},\"zerolinecolor\":\"white\",\"zerolinewidth\":2},\"yaxis\":{\"automargin\":true,\"gridcolor\":\"white\",\"linecolor\":\"white\",\"ticks\":\"\",\"title\":{\"standoff\":15},\"zerolinecolor\":\"white\",\"zerolinewidth\":2}}},\"xaxis\":{\"anchor\":\"y\",\"domain\":[0.0,1.0],\"title\":{\"text\":\"Date\"}},\"yaxis\":{\"anchor\":\"x\",\"domain\":[0.0,1.0],\"title\":{\"text\":\"value\"}},\"legend\":{\"title\":{\"text\":\"variable\"},\"tracegroupgap\":0},\"title\":{\"text\":\"Real Consumer Spending vs Lowess Prediction \"}},                        {\"responsive\": true}                    ).then(function(){\n",
              "                            \n",
              "var gd = document.getElementById('09e096db-e201-4e65-8301-aa7488a26c7c');\n",
              "var x = new MutationObserver(function (mutations, observer) {{\n",
              "        var display = window.getComputedStyle(gd).display;\n",
              "        if (!display || display === 'none') {{\n",
              "            console.log([gd, 'removed!']);\n",
              "            Plotly.purge(gd);\n",
              "            observer.disconnect();\n",
              "        }}\n",
              "}});\n",
              "\n",
              "// Listen for the removal of the full notebook cells\n",
              "var notebookContainer = gd.closest('#notebook-container');\n",
              "if (notebookContainer) {{\n",
              "    x.observe(notebookContainer, {childList: true});\n",
              "}}\n",
              "\n",
              "// Listen for the clearing of the current output cell\n",
              "var outputEl = gd.closest('.output');\n",
              "if (outputEl) {{\n",
              "    x.observe(outputEl, {childList: true});\n",
              "}}\n",
              "\n",
              "                        })                };                            </script>        </div>\n",
              "</body>\n",
              "</html>"
            ]
          },
          "metadata": {}
        }
      ]
    },
    {
      "cell_type": "markdown",
      "source": [
        "Plot Residuals"
      ],
      "metadata": {
        "id": "9Nf3uqSYaNiY"
      }
    },
    {
      "cell_type": "code",
      "source": [
        "px.line(spending_df, x=\"Date\", y=[\"RealPCE\", \"Lowess_Resid\"], title=\"Real Consumer Spending vs Lowess Residuals \")"
      ],
      "metadata": {
        "id": "y0YP1g_NxkbU",
        "colab": {
          "base_uri": "https://localhost:8080/",
          "height": 542
        },
        "outputId": "26360011-c40f-42f3-f34a-a539e6ae48cf"
      },
      "execution_count": 21,
      "outputs": [
        {
          "output_type": "display_data",
          "data": {
            "text/html": [
              "<html>\n",
              "<head><meta charset=\"utf-8\" /></head>\n",
              "<body>\n",
              "    <div>            <script src=\"https://cdnjs.cloudflare.com/ajax/libs/mathjax/2.7.5/MathJax.js?config=TeX-AMS-MML_SVG\"></script><script type=\"text/javascript\">if (window.MathJax) {MathJax.Hub.Config({SVG: {font: \"STIX-Web\"}});}</script>                <script type=\"text/javascript\">window.PlotlyConfig = {MathJaxConfig: 'local'};</script>\n",
              "        <script src=\"https://cdn.plot.ly/plotly-2.8.3.min.js\"></script>                <div id=\"adf5e2ef-4970-4e15-9567-c137e847398f\" class=\"plotly-graph-div\" style=\"height:525px; width:100%;\"></div>            <script type=\"text/javascript\">                                    window.PLOTLYENV=window.PLOTLYENV || {};                                    if (document.getElementById(\"adf5e2ef-4970-4e15-9567-c137e847398f\")) {                    Plotly.newPlot(                        \"adf5e2ef-4970-4e15-9567-c137e847398f\",                        [{\"hovertemplate\":\"variable=RealPCE<br>Date=%{x}<br>value=%{y}<extra></extra>\",\"legendgroup\":\"RealPCE\",\"line\":{\"color\":\"#636efa\",\"dash\":\"solid\"},\"marker\":{\"symbol\":\"circle\"},\"mode\":\"lines\",\"name\":\"RealPCE\",\"orientation\":\"v\",\"showlegend\":true,\"x\":[\"1947-03-31T00:00:00\",\"1947-06-30T00:00:00\",\"1947-09-30T00:00:00\",\"1947-12-31T00:00:00\",\"1948-03-31T00:00:00\",\"1948-06-30T00:00:00\",\"1948-09-30T00:00:00\",\"1948-12-31T00:00:00\",\"1949-03-31T00:00:00\",\"1949-06-30T00:00:00\",\"1949-09-30T00:00:00\",\"1949-12-31T00:00:00\",\"1950-03-31T00:00:00\",\"1950-06-30T00:00:00\",\"1950-09-30T00:00:00\",\"1950-12-31T00:00:00\",\"1951-03-31T00:00:00\",\"1951-06-30T00:00:00\",\"1951-09-30T00:00:00\",\"1951-12-31T00:00:00\",\"1952-03-31T00:00:00\",\"1952-06-30T00:00:00\",\"1952-09-30T00:00:00\",\"1952-12-31T00:00:00\",\"1953-03-31T00:00:00\",\"1953-06-30T00:00:00\",\"1953-09-30T00:00:00\",\"1953-12-31T00:00:00\",\"1954-03-31T00:00:00\",\"1954-06-30T00:00:00\",\"1954-09-30T00:00:00\",\"1954-12-31T00:00:00\",\"1955-03-31T00:00:00\",\"1955-06-30T00:00:00\",\"1955-09-30T00:00:00\",\"1955-12-31T00:00:00\",\"1956-03-31T00:00:00\",\"1956-06-30T00:00:00\",\"1956-09-30T00:00:00\",\"1956-12-31T00:00:00\",\"1957-03-31T00:00:00\",\"1957-06-30T00:00:00\",\"1957-09-30T00:00:00\",\"1957-12-31T00:00:00\",\"1958-03-31T00:00:00\",\"1958-06-30T00:00:00\",\"1958-09-30T00:00:00\",\"1958-12-31T00:00:00\",\"1959-03-31T00:00:00\",\"1959-06-30T00:00:00\",\"1959-09-30T00:00:00\",\"1959-12-31T00:00:00\",\"1960-03-31T00:00:00\",\"1960-06-30T00:00:00\",\"1960-09-30T00:00:00\",\"1960-12-31T00:00:00\",\"1961-03-31T00:00:00\",\"1961-06-30T00:00:00\",\"1961-09-30T00:00:00\",\"1961-12-31T00:00:00\",\"1962-03-31T00:00:00\",\"1962-06-30T00:00:00\",\"1962-09-30T00:00:00\",\"1962-12-31T00:00:00\",\"1963-03-31T00:00:00\",\"1963-06-30T00:00:00\",\"1963-09-30T00:00:00\",\"1963-12-31T00:00:00\",\"1964-03-31T00:00:00\",\"1964-06-30T00:00:00\",\"1964-09-30T00:00:00\",\"1964-12-31T00:00:00\",\"1965-03-31T00:00:00\",\"1965-06-30T00:00:00\",\"1965-09-30T00:00:00\",\"1965-12-31T00:00:00\",\"1966-03-31T00:00:00\",\"1966-06-30T00:00:00\",\"1966-09-30T00:00:00\",\"1966-12-31T00:00:00\",\"1967-03-31T00:00:00\",\"1967-06-30T00:00:00\",\"1967-09-30T00:00:00\",\"1967-12-31T00:00:00\",\"1968-03-31T00:00:00\",\"1968-06-30T00:00:00\",\"1968-09-30T00:00:00\",\"1968-12-31T00:00:00\",\"1969-03-31T00:00:00\",\"1969-06-30T00:00:00\",\"1969-09-30T00:00:00\",\"1969-12-31T00:00:00\",\"1970-03-31T00:00:00\",\"1970-06-30T00:00:00\",\"1970-09-30T00:00:00\",\"1970-12-31T00:00:00\",\"1971-03-31T00:00:00\",\"1971-06-30T00:00:00\",\"1971-09-30T00:00:00\",\"1971-12-31T00:00:00\",\"1972-03-31T00:00:00\",\"1972-06-30T00:00:00\",\"1972-09-30T00:00:00\",\"1972-12-31T00:00:00\",\"1973-03-31T00:00:00\",\"1973-06-30T00:00:00\",\"1973-09-30T00:00:00\",\"1973-12-31T00:00:00\",\"1974-03-31T00:00:00\",\"1974-06-30T00:00:00\",\"1974-09-30T00:00:00\",\"1974-12-31T00:00:00\",\"1975-03-31T00:00:00\",\"1975-06-30T00:00:00\",\"1975-09-30T00:00:00\",\"1975-12-31T00:00:00\",\"1976-03-31T00:00:00\",\"1976-06-30T00:00:00\",\"1976-09-30T00:00:00\",\"1976-12-31T00:00:00\",\"1977-03-31T00:00:00\",\"1977-06-30T00:00:00\",\"1977-09-30T00:00:00\",\"1977-12-31T00:00:00\",\"1978-03-31T00:00:00\",\"1978-06-30T00:00:00\",\"1978-09-30T00:00:00\",\"1978-12-31T00:00:00\",\"1979-03-31T00:00:00\",\"1979-06-30T00:00:00\",\"1979-09-30T00:00:00\",\"1979-12-31T00:00:00\",\"1980-03-31T00:00:00\",\"1980-06-30T00:00:00\",\"1980-09-30T00:00:00\",\"1980-12-31T00:00:00\",\"1981-03-31T00:00:00\",\"1981-06-30T00:00:00\",\"1981-09-30T00:00:00\",\"1981-12-31T00:00:00\",\"1982-03-31T00:00:00\",\"1982-06-30T00:00:00\",\"1982-09-30T00:00:00\",\"1982-12-31T00:00:00\",\"1983-03-31T00:00:00\",\"1983-06-30T00:00:00\",\"1983-09-30T00:00:00\",\"1983-12-31T00:00:00\",\"1984-03-31T00:00:00\",\"1984-06-30T00:00:00\",\"1984-09-30T00:00:00\",\"1984-12-31T00:00:00\",\"1985-03-31T00:00:00\",\"1985-06-30T00:00:00\",\"1985-09-30T00:00:00\",\"1985-12-31T00:00:00\",\"1986-03-31T00:00:00\",\"1986-06-30T00:00:00\",\"1986-09-30T00:00:00\",\"1986-12-31T00:00:00\",\"1987-03-31T00:00:00\",\"1987-06-30T00:00:00\",\"1987-09-30T00:00:00\",\"1987-12-31T00:00:00\",\"1988-03-31T00:00:00\",\"1988-06-30T00:00:00\",\"1988-09-30T00:00:00\",\"1988-12-31T00:00:00\",\"1989-03-31T00:00:00\",\"1989-06-30T00:00:00\",\"1989-09-30T00:00:00\",\"1989-12-31T00:00:00\",\"1990-03-31T00:00:00\",\"1990-06-30T00:00:00\",\"1990-09-30T00:00:00\",\"1990-12-31T00:00:00\",\"1991-03-31T00:00:00\",\"1991-06-30T00:00:00\",\"1991-09-30T00:00:00\",\"1991-12-31T00:00:00\",\"1992-03-31T00:00:00\",\"1992-06-30T00:00:00\",\"1992-09-30T00:00:00\",\"1992-12-31T00:00:00\",\"1993-03-31T00:00:00\",\"1993-06-30T00:00:00\",\"1993-09-30T00:00:00\",\"1993-12-31T00:00:00\",\"1994-03-31T00:00:00\",\"1994-06-30T00:00:00\",\"1994-09-30T00:00:00\",\"1994-12-31T00:00:00\",\"1995-03-31T00:00:00\",\"1995-06-30T00:00:00\",\"1995-09-30T00:00:00\",\"1995-12-31T00:00:00\",\"1996-03-31T00:00:00\",\"1996-06-30T00:00:00\",\"1996-09-30T00:00:00\",\"1996-12-31T00:00:00\",\"1997-03-31T00:00:00\",\"1997-06-30T00:00:00\",\"1997-09-30T00:00:00\",\"1997-12-31T00:00:00\",\"1998-03-31T00:00:00\",\"1998-06-30T00:00:00\",\"1998-09-30T00:00:00\",\"1998-12-31T00:00:00\",\"1999-03-31T00:00:00\",\"1999-06-30T00:00:00\",\"1999-09-30T00:00:00\",\"1999-12-31T00:00:00\",\"2000-03-31T00:00:00\",\"2000-06-30T00:00:00\",\"2000-09-30T00:00:00\",\"2000-12-31T00:00:00\",\"2001-03-31T00:00:00\",\"2001-06-30T00:00:00\",\"2001-09-30T00:00:00\",\"2001-12-31T00:00:00\",\"2002-03-31T00:00:00\",\"2002-06-30T00:00:00\",\"2002-09-30T00:00:00\",\"2002-12-31T00:00:00\",\"2003-03-31T00:00:00\",\"2003-06-30T00:00:00\",\"2003-09-30T00:00:00\",\"2003-12-31T00:00:00\",\"2004-03-31T00:00:00\",\"2004-06-30T00:00:00\",\"2004-09-30T00:00:00\",\"2004-12-31T00:00:00\",\"2005-03-31T00:00:00\",\"2005-06-30T00:00:00\",\"2005-09-30T00:00:00\",\"2005-12-31T00:00:00\",\"2006-03-31T00:00:00\",\"2006-06-30T00:00:00\",\"2006-09-30T00:00:00\",\"2006-12-31T00:00:00\",\"2007-03-31T00:00:00\",\"2007-06-30T00:00:00\",\"2007-09-30T00:00:00\",\"2007-12-31T00:00:00\",\"2008-03-31T00:00:00\",\"2008-06-30T00:00:00\",\"2008-09-30T00:00:00\",\"2008-12-31T00:00:00\",\"2009-03-31T00:00:00\",\"2009-06-30T00:00:00\",\"2009-09-30T00:00:00\",\"2009-12-31T00:00:00\",\"2010-03-31T00:00:00\",\"2010-06-30T00:00:00\",\"2010-09-30T00:00:00\",\"2010-12-31T00:00:00\",\"2011-03-31T00:00:00\",\"2011-06-30T00:00:00\",\"2011-09-30T00:00:00\",\"2011-12-31T00:00:00\",\"2012-03-31T00:00:00\",\"2012-06-30T00:00:00\",\"2012-09-30T00:00:00\",\"2012-12-31T00:00:00\",\"2013-03-31T00:00:00\",\"2013-06-30T00:00:00\",\"2013-09-30T00:00:00\",\"2013-12-31T00:00:00\",\"2014-03-31T00:00:00\",\"2014-06-30T00:00:00\",\"2014-09-30T00:00:00\",\"2014-12-31T00:00:00\",\"2015-03-31T00:00:00\",\"2015-06-30T00:00:00\",\"2015-09-30T00:00:00\",\"2015-12-31T00:00:00\",\"2016-03-31T00:00:00\",\"2016-06-30T00:00:00\",\"2016-09-30T00:00:00\",\"2016-12-31T00:00:00\",\"2017-03-31T00:00:00\",\"2017-06-30T00:00:00\",\"2017-09-30T00:00:00\",\"2017-12-31T00:00:00\",\"2018-03-31T00:00:00\",\"2018-06-30T00:00:00\",\"2018-09-30T00:00:00\",\"2018-12-31T00:00:00\",\"2019-03-31T00:00:00\",\"2019-06-30T00:00:00\",\"2019-09-30T00:00:00\",\"2019-12-31T00:00:00\",\"2020-03-31T00:00:00\",\"2020-06-30T00:00:00\",\"2020-09-30T00:00:00\",\"2020-12-31T00:00:00\",\"2021-03-31T00:00:00\",\"2021-06-30T00:00:00\",\"2021-09-30T00:00:00\"],\"xaxis\":\"x\",\"y\":[300597.13701431494,323251.09560136346,318602.6131293818,351978.2355227361,311978.16560313676,327476.79196469334,324807.0149141872,360276.65012780036,314706.77375359903,338405.24470193626,337228.74012729083,371701.5887635275,332177.4565585115,354427.182980026,370629.6851574213,390941.8955740481,355883.8221651324,359595.10157853755,359642.30171073094,396246.42433544964,351462.5165010769,373759.5552466991,371706.7108533555,421236.55913978495,376007.6907230653,398203.6338704148,390636.9339879978,425183.3242802825,377536.81934873667,402029.49533216073,399619.90090273536,444503.3292566925,403298.34067050455,433511.50202977,431771.92154748266,474566.4739884393,427639.0655331682,443679.7659418844,439536.4151191887,482939.4435351882,434152.9877376241,456276.1910901941,456660.4847477137,491156.6357042881,435828.30568124686,457003.95207327016,457312.10430640006,504521.51009657595,463350.98100280284,491296.52605459053,485306.4496238747,520268.6127805715,478288.8290053896,508761.34771217935,495429.4385432473,531550.6405607929,484931.83737483417,511993.2432432432,506882.66410194756,551759.3370961931,509284.9455936865,539648.4956806672,530879.3820558527,577258.4562525917,529072.6520968695,560303.1375324369,556649.8415306961,600052.6285012573,560179.2573623561,590603.9488966318,592666.1264181524,636300.6980903479,588624.9928115476,626932.5399095955,626251.2826359594,688775.2202330207,631412.136250846,663934.8847616916,665591.5172375506,712753.4156015865,650953.0348805274,688458.8048767154,686539.1907263963,727810.3013051185,682844.3877551021,721322.601010101,730674.3035667796,777289.1131939439,714056.2044167899,752852.8982222894,753701.4925373134,799911.4739585896,734853.4201954398,770135.115641679,773893.9949521407,812829.6742043156,754857.4888226527,798742.8624055994,801609.7405262439,854849.528643945,796241.4782920703,845154.960981048,853589.4262222616,911991.9323014865,856441.6912146941,894959.4117897063,890191.1678771185,932617.5869120655,845154.4999602828,892537.9475493416,891451.3520628832,914287.2863326241,850354.6865435166,902180.7961862747,912324.5093245792,960209.5139962219,907065.9374256887,952258.7165234968,955367.1566512925,1012788.2668060364,949032.5685865555,987601.7414347909,996145.9563622801,1056231.8041126535,985339.9668325041,1036745.8488447675,1043105.6008826689,1097999.5440556253,1031911.6207523423,1055377.9979854627,1058170.8548052914,1116315.680273873,1043665.0216537415,1041787.7067512103,1050452.6788501719,1112771.541724275,1038201.5029350633,1069985.3981803886,1074608.822489392,1125104.4841097086,1053001.87012317,1079394.0426256733,1083207.9149810302,1156213.717034334,1086703.4074317794,1142477.5334705438,1155116.8590852409,1235220.1886189259,1166718.0581910184,1208370.690836482,1205130.3469443258,1282774.7316395089,1214794.1075449376,1266990.9712100849,1281600.1502488498,1351139.5426908873,1268510.5279727401,1317957.844391302,1336267.242015195,1403570.708459353,1304376.4073509118,1371757.9769056442,1381640.3257131658,1448402.1410779585,1370431.5210151786,1420385.2021357743,1431977.0528298654,1513197.8232491906,1413423.279979888,1463032.9088804366,1477074.7024396658,1549990.2133489922,1452496.8648509597,1501935.8230832962,1507499.7640099432,1560043.166361293,1448651.529193698,1502123.148774043,1512203.0122228495,1570776.2695430857,1496174.402673853,1548466.9917142773,1565111.1639519678,1646054.2822143836,1543018.1039288752,1606085.68930341,1622349.748977045,1702436.7020125515,1609808.2341440977,1666662.8545288197,1680857.0130865532,1767356.0782651692,1652617.6685598604,1721991.4460626729,1734860.3803001198,1813823.211464368,1719977.9477637652,1782111.1719605695,1790462.4277456645,1870866.0564371985,1780816.4145703577,1834797.2836683926,1865359.9066536122,1952721.4385988368,1854927.073167471,1946343.5464930073,1966437.39939069,2060824.7969852977,1964663.4265206396,2049196.0652629086,2067114.9992796995,2162190.0261647208,2085906.3089120162,2155788.7296793675,2163810.362879542,2253006.5259896903,2148522.962141453,2207728.2990466636,2205962.888665998,2307654.8068126272,2205633.380028017,2256598.877632102,2273752.7945554033,2369229.6343652415,2255181.795998048,2327277.4920162843,2355726.429488267,2455386.9883234724,2355356.523610796,2407910.7721911417,2430612.3896315736,2553358.8824039567,2427858.824077742,2506026.816729192,2532658.625153213,2625423.6132419626,2510419.21041921,2584418.7427854175,2590801.2595831803,2699741.4263901114,2584696.604890548,2647856.751724893,2652515.0554847703,2752068.7350423667,2644296.285207126,2678327.8619082915,2643605.2725329534,2688645.051376244,2566024.87135506,2620182.5947677516,2632563.7626597383,2695643.114226179,2587351.7910870225,2673014.3610785464,2687016.2975344756,2768006.8097121445,2652239.482000762,2725323.397792026,2725884.549430256,2793781.225348409,2698602.473551485,2760717.2209192775,2752881.1560601215,2834526.211180124,2714369.1762306043,2793133.7139690677,2800672.1264622696,2902860.8161422657,2768660.1422097203,2862679.7931892397,2883733.4160310896,2999774.908071292,2867534.4160715505,2961752.586315555,2979761.870218302,3083421.7609356544,2949676.7950454806,3033797.805537124,3048463.7714482797,3154605.614463346,3005114.3206668627,3110337.8819257286,3122496.278570217,3244592.001946636,3097921.9547571894,3205832.871140691,3218205.8557977555,3322029.1238083,3150633.839610622,3274392.9420119636,3292603.6899832934,3407401.178980869,3163269.518504498,2936098.8677810864,3194424.6120728315,3335229.2020373517,3225905.1075506774,3418226.974458184,3428117.9294384844],\"yaxis\":\"y\",\"type\":\"scatter\"},{\"hovertemplate\":\"variable=Lowess_Resid<br>Date=%{x}<br>value=%{y}<extra></extra>\",\"legendgroup\":\"Lowess_Resid\",\"line\":{\"color\":\"#EF553B\",\"dash\":\"solid\"},\"marker\":{\"symbol\":\"circle\"},\"mode\":\"lines\",\"name\":\"Lowess_Resid\",\"orientation\":\"v\",\"showlegend\":true,\"x\":[\"1947-03-31T00:00:00\",\"1947-06-30T00:00:00\",\"1947-09-30T00:00:00\",\"1947-12-31T00:00:00\",\"1948-03-31T00:00:00\",\"1948-06-30T00:00:00\",\"1948-09-30T00:00:00\",\"1948-12-31T00:00:00\",\"1949-03-31T00:00:00\",\"1949-06-30T00:00:00\",\"1949-09-30T00:00:00\",\"1949-12-31T00:00:00\",\"1950-03-31T00:00:00\",\"1950-06-30T00:00:00\",\"1950-09-30T00:00:00\",\"1950-12-31T00:00:00\",\"1951-03-31T00:00:00\",\"1951-06-30T00:00:00\",\"1951-09-30T00:00:00\",\"1951-12-31T00:00:00\",\"1952-03-31T00:00:00\",\"1952-06-30T00:00:00\",\"1952-09-30T00:00:00\",\"1952-12-31T00:00:00\",\"1953-03-31T00:00:00\",\"1953-06-30T00:00:00\",\"1953-09-30T00:00:00\",\"1953-12-31T00:00:00\",\"1954-03-31T00:00:00\",\"1954-06-30T00:00:00\",\"1954-09-30T00:00:00\",\"1954-12-31T00:00:00\",\"1955-03-31T00:00:00\",\"1955-06-30T00:00:00\",\"1955-09-30T00:00:00\",\"1955-12-31T00:00:00\",\"1956-03-31T00:00:00\",\"1956-06-30T00:00:00\",\"1956-09-30T00:00:00\",\"1956-12-31T00:00:00\",\"1957-03-31T00:00:00\",\"1957-06-30T00:00:00\",\"1957-09-30T00:00:00\",\"1957-12-31T00:00:00\",\"1958-03-31T00:00:00\",\"1958-06-30T00:00:00\",\"1958-09-30T00:00:00\",\"1958-12-31T00:00:00\",\"1959-03-31T00:00:00\",\"1959-06-30T00:00:00\",\"1959-09-30T00:00:00\",\"1959-12-31T00:00:00\",\"1960-03-31T00:00:00\",\"1960-06-30T00:00:00\",\"1960-09-30T00:00:00\",\"1960-12-31T00:00:00\",\"1961-03-31T00:00:00\",\"1961-06-30T00:00:00\",\"1961-09-30T00:00:00\",\"1961-12-31T00:00:00\",\"1962-03-31T00:00:00\",\"1962-06-30T00:00:00\",\"1962-09-30T00:00:00\",\"1962-12-31T00:00:00\",\"1963-03-31T00:00:00\",\"1963-06-30T00:00:00\",\"1963-09-30T00:00:00\",\"1963-12-31T00:00:00\",\"1964-03-31T00:00:00\",\"1964-06-30T00:00:00\",\"1964-09-30T00:00:00\",\"1964-12-31T00:00:00\",\"1965-03-31T00:00:00\",\"1965-06-30T00:00:00\",\"1965-09-30T00:00:00\",\"1965-12-31T00:00:00\",\"1966-03-31T00:00:00\",\"1966-06-30T00:00:00\",\"1966-09-30T00:00:00\",\"1966-12-31T00:00:00\",\"1967-03-31T00:00:00\",\"1967-06-30T00:00:00\",\"1967-09-30T00:00:00\",\"1967-12-31T00:00:00\",\"1968-03-31T00:00:00\",\"1968-06-30T00:00:00\",\"1968-09-30T00:00:00\",\"1968-12-31T00:00:00\",\"1969-03-31T00:00:00\",\"1969-06-30T00:00:00\",\"1969-09-30T00:00:00\",\"1969-12-31T00:00:00\",\"1970-03-31T00:00:00\",\"1970-06-30T00:00:00\",\"1970-09-30T00:00:00\",\"1970-12-31T00:00:00\",\"1971-03-31T00:00:00\",\"1971-06-30T00:00:00\",\"1971-09-30T00:00:00\",\"1971-12-31T00:00:00\",\"1972-03-31T00:00:00\",\"1972-06-30T00:00:00\",\"1972-09-30T00:00:00\",\"1972-12-31T00:00:00\",\"1973-03-31T00:00:00\",\"1973-06-30T00:00:00\",\"1973-09-30T00:00:00\",\"1973-12-31T00:00:00\",\"1974-03-31T00:00:00\",\"1974-06-30T00:00:00\",\"1974-09-30T00:00:00\",\"1974-12-31T00:00:00\",\"1975-03-31T00:00:00\",\"1975-06-30T00:00:00\",\"1975-09-30T00:00:00\",\"1975-12-31T00:00:00\",\"1976-03-31T00:00:00\",\"1976-06-30T00:00:00\",\"1976-09-30T00:00:00\",\"1976-12-31T00:00:00\",\"1977-03-31T00:00:00\",\"1977-06-30T00:00:00\",\"1977-09-30T00:00:00\",\"1977-12-31T00:00:00\",\"1978-03-31T00:00:00\",\"1978-06-30T00:00:00\",\"1978-09-30T00:00:00\",\"1978-12-31T00:00:00\",\"1979-03-31T00:00:00\",\"1979-06-30T00:00:00\",\"1979-09-30T00:00:00\",\"1979-12-31T00:00:00\",\"1980-03-31T00:00:00\",\"1980-06-30T00:00:00\",\"1980-09-30T00:00:00\",\"1980-12-31T00:00:00\",\"1981-03-31T00:00:00\",\"1981-06-30T00:00:00\",\"1981-09-30T00:00:00\",\"1981-12-31T00:00:00\",\"1982-03-31T00:00:00\",\"1982-06-30T00:00:00\",\"1982-09-30T00:00:00\",\"1982-12-31T00:00:00\",\"1983-03-31T00:00:00\",\"1983-06-30T00:00:00\",\"1983-09-30T00:00:00\",\"1983-12-31T00:00:00\",\"1984-03-31T00:00:00\",\"1984-06-30T00:00:00\",\"1984-09-30T00:00:00\",\"1984-12-31T00:00:00\",\"1985-03-31T00:00:00\",\"1985-06-30T00:00:00\",\"1985-09-30T00:00:00\",\"1985-12-31T00:00:00\",\"1986-03-31T00:00:00\",\"1986-06-30T00:00:00\",\"1986-09-30T00:00:00\",\"1986-12-31T00:00:00\",\"1987-03-31T00:00:00\",\"1987-06-30T00:00:00\",\"1987-09-30T00:00:00\",\"1987-12-31T00:00:00\",\"1988-03-31T00:00:00\",\"1988-06-30T00:00:00\",\"1988-09-30T00:00:00\",\"1988-12-31T00:00:00\",\"1989-03-31T00:00:00\",\"1989-06-30T00:00:00\",\"1989-09-30T00:00:00\",\"1989-12-31T00:00:00\",\"1990-03-31T00:00:00\",\"1990-06-30T00:00:00\",\"1990-09-30T00:00:00\",\"1990-12-31T00:00:00\",\"1991-03-31T00:00:00\",\"1991-06-30T00:00:00\",\"1991-09-30T00:00:00\",\"1991-12-31T00:00:00\",\"1992-03-31T00:00:00\",\"1992-06-30T00:00:00\",\"1992-09-30T00:00:00\",\"1992-12-31T00:00:00\",\"1993-03-31T00:00:00\",\"1993-06-30T00:00:00\",\"1993-09-30T00:00:00\",\"1993-12-31T00:00:00\",\"1994-03-31T00:00:00\",\"1994-06-30T00:00:00\",\"1994-09-30T00:00:00\",\"1994-12-31T00:00:00\",\"1995-03-31T00:00:00\",\"1995-06-30T00:00:00\",\"1995-09-30T00:00:00\",\"1995-12-31T00:00:00\",\"1996-03-31T00:00:00\",\"1996-06-30T00:00:00\",\"1996-09-30T00:00:00\",\"1996-12-31T00:00:00\",\"1997-03-31T00:00:00\",\"1997-06-30T00:00:00\",\"1997-09-30T00:00:00\",\"1997-12-31T00:00:00\",\"1998-03-31T00:00:00\",\"1998-06-30T00:00:00\",\"1998-09-30T00:00:00\",\"1998-12-31T00:00:00\",\"1999-03-31T00:00:00\",\"1999-06-30T00:00:00\",\"1999-09-30T00:00:00\",\"1999-12-31T00:00:00\",\"2000-03-31T00:00:00\",\"2000-06-30T00:00:00\",\"2000-09-30T00:00:00\",\"2000-12-31T00:00:00\",\"2001-03-31T00:00:00\",\"2001-06-30T00:00:00\",\"2001-09-30T00:00:00\",\"2001-12-31T00:00:00\",\"2002-03-31T00:00:00\",\"2002-06-30T00:00:00\",\"2002-09-30T00:00:00\",\"2002-12-31T00:00:00\",\"2003-03-31T00:00:00\",\"2003-06-30T00:00:00\",\"2003-09-30T00:00:00\",\"2003-12-31T00:00:00\",\"2004-03-31T00:00:00\",\"2004-06-30T00:00:00\",\"2004-09-30T00:00:00\",\"2004-12-31T00:00:00\",\"2005-03-31T00:00:00\",\"2005-06-30T00:00:00\",\"2005-09-30T00:00:00\",\"2005-12-31T00:00:00\",\"2006-03-31T00:00:00\",\"2006-06-30T00:00:00\",\"2006-09-30T00:00:00\",\"2006-12-31T00:00:00\",\"2007-03-31T00:00:00\",\"2007-06-30T00:00:00\",\"2007-09-30T00:00:00\",\"2007-12-31T00:00:00\",\"2008-03-31T00:00:00\",\"2008-06-30T00:00:00\",\"2008-09-30T00:00:00\",\"2008-12-31T00:00:00\",\"2009-03-31T00:00:00\",\"2009-06-30T00:00:00\",\"2009-09-30T00:00:00\",\"2009-12-31T00:00:00\",\"2010-03-31T00:00:00\",\"2010-06-30T00:00:00\",\"2010-09-30T00:00:00\",\"2010-12-31T00:00:00\",\"2011-03-31T00:00:00\",\"2011-06-30T00:00:00\",\"2011-09-30T00:00:00\",\"2011-12-31T00:00:00\",\"2012-03-31T00:00:00\",\"2012-06-30T00:00:00\",\"2012-09-30T00:00:00\",\"2012-12-31T00:00:00\",\"2013-03-31T00:00:00\",\"2013-06-30T00:00:00\",\"2013-09-30T00:00:00\",\"2013-12-31T00:00:00\",\"2014-03-31T00:00:00\",\"2014-06-30T00:00:00\",\"2014-09-30T00:00:00\",\"2014-12-31T00:00:00\",\"2015-03-31T00:00:00\",\"2015-06-30T00:00:00\",\"2015-09-30T00:00:00\",\"2015-12-31T00:00:00\",\"2016-03-31T00:00:00\",\"2016-06-30T00:00:00\",\"2016-09-30T00:00:00\",\"2016-12-31T00:00:00\",\"2017-03-31T00:00:00\",\"2017-06-30T00:00:00\",\"2017-09-30T00:00:00\",\"2017-12-31T00:00:00\",\"2018-03-31T00:00:00\",\"2018-06-30T00:00:00\",\"2018-09-30T00:00:00\",\"2018-12-31T00:00:00\",\"2019-03-31T00:00:00\",\"2019-06-30T00:00:00\",\"2019-09-30T00:00:00\",\"2019-12-31T00:00:00\",\"2020-03-31T00:00:00\",\"2020-06-30T00:00:00\",\"2020-09-30T00:00:00\",\"2020-12-31T00:00:00\",\"2021-03-31T00:00:00\",\"2021-06-30T00:00:00\",\"2021-09-30T00:00:00\"],\"xaxis\":\"x\",\"y\":[70817.41669918151,87626.31745745009,77126.24197916198,104643.65175901155,58778.67387689144,68405.63053291567,59857.36293602246,89441.63490930444,37979.47810588672,55778.715187846974,48695.992709702405,77255.61490688956,31811.229715944675,48133.666148797376,58401.836112234916,72772.67282286019,31766.192260358017,29522.046901912545,23606.825692450104,54241.55575584271,3481.3139273250126,19795.11273026414,11752.160774276184,55285.075287576066,4052.491928378062,20237.98978004203,6654.168297116063,35176.818072371825,-18499.985693883034,-44.102132277272176,-8496.916751378623,30336.930802404357,-16923.930243448354,7227.139612131694,-580.6773594078259,36139.56990022032,-16868.133327962307,-6913.633779807773,-17149.00648362597,20156.265280891326,-34733.594363728305,-18719.351589183323,-24449.484729102987,3926.863796968828,-57526.553242873284,-42481.186031022575,-48308.41469124699,-7239.40331371309,-54555.25392459886,-32759.870990664756,-44904.865653404326,-16102.294041964982,-64246.26156558038,-39942.438429182104,-59447.477621371974,-29503.765431894222,-82304.34679078573,-61428.93841537309,-72729.6703227592,-34047.24640860036,-82719.92945248965,-58558.66329700046,-73534.00923419243,-33365.07778571267,-87764.90354087471,-62752.292130186106,-72627.29621308716,-35450.04138736543,-81552.76752040035,-57361.2605514708,-61536.11499735166,-24142.4523588093,-78062.98602075432,-46004.24148397264,-52938.34815459361,3328.6006982396357,-60295.72626963968,-34038.613109132275,-38652.17974353931,2234.7439961428754,-65845.64755038382,-34625.24382530223,-42835.97849938995,-7862.240212293342,-59132.39830888051,-26966.073894054512,-23934.870637623244,16349.624314915156,-53224.91108979273,-20783.005137438886,-26304.64225089294,13516.871682768455,-57951.26363757718,-29105.28751534177,-31812.474723960157,621.4286988263484,-63894.11380746984,-26599.744726433186,-30377.22126357653,16160.448267802014,-49874.78011964704,-8440.951212994987,-7538.888328454457,43278.24452379043,-19910.54603997222,10915.200645931414,-1598.8108728680527,33027.69886168407,-62289.86056270928,-22815.97961323161,-31867.9368985123,-17053.91067828308,-89065.83595749282,-45377.46666203975,-43431.05494817381,-3804.1611743696267,-65268.024036718765,-28459.149162098067,-33799.70888607402,15105.82647349732,-57233.52728061145,-27317.569804497645,-27497.568843670306,23791.693388213753,-55970.443604326225,-13509.851408691145,-16171.569263381767,29623.65304992674,-45641.24393591727,-31430.977420544717,-37974.09795722272,10754.255310008768,-71393.93964106555,-82850.29328799096,-83846.0940428127,-31269.907124263,-115664.67077740445,-93787.58592549013,-99152.90797184594,-58727.76247243839,-140982.51174322818,-124823.8781473625,-131324.57170964102,-68714.02638949128,-148700.01774183614,-103481.70884636045,-101477.93164369487,-32089.542247694917,-111385.78990860633,-80606.30980640743,-94798.74668445974,-28185.228946199175,-107275.30705527402,-66266.25094562024,-62922.97735850862,-4727.170182485366,-98776.9736004842,-60827.099792569876,-54091.217584204394,1563.402034753468,-109354.2661189537,-53769.674445711775,-55756.96159024723,-936.3255877457559,-90918.4692802853,-53045.33022128767,-53601.66212172061,15404.835978232091,-96648.44193917746,-59380.304404402385,-57741.08088044496,2712.5456536607817,-107300.25064554205,-70436.56427497137,-77502.09988403553,-37640.768166238675,-161765.58044976857,-121076.85176862217,-123828.36617597658,-78133.79422922037,-165660.59800360515,-126338.220228408,-122708.68392657652,-54823.78441494494,-170961.01865411643,-121036.64751009014,-117957.41167383036,-51096.3985080719,-156991.57265409618,-113444.1641477202,-112597.5720990838,-39486.287162401015,-167652.65920468932,-111747.04352975334,-112386.53201486263,-46972.343623938505,-154406.3643653621,-105901.75853924756,-111218.6973011815,-44522.48952746764,-148862.88936130935,-109175.1336863488,-92910.04433274013,-19851.90167635563,-131956.51069438225,-54857.82879330986,-49089.811645095935,30963.34463222511,-79540.93732086895,-9360.069263258949,-5801.910687967669,74903.2279190009,-15759.563569555758,39734.56061397167,33358.66234564781,108148.07207536744,-10751.428578505758,34028.85292779282,17829.347647977993,105078.22560393438,-11395.077269572299,25109.835945286788,27794.595943763386,108793.85091110179,-19739.844850832596,37861.88948775409,51808.93260283582,136959.84226169717,22412.160473906435,60441.82157069212,68611.68293309258,176819.45814339723,36773.93422153313,100389.93319375208,112463.44242299255,190664.05345666362,61089.428930346854,120513.13194340328,112314.45048479736,206668.29234141437,77032.2644542153,125596.56991404528,115654.64456109563,200603.95667540096,78223.25225738855,97642.938743453,48305.0747184963,78726.44534419011,-58515.028006874025,-18981.23822298553,-21226.411376654636,27224.41357714776,-95697.40900271293,-24667.105713212397,-25299.010695800185,41056.26749736676,-89347.5122618447,-30901.096846648492,-44978.33552517649,8279.20861388091,-101539.27666780492,-54064.731240661815,-76541.3449788359,-9537.07521657832,-144335.03188874666,-80211.45959505811,-87313.97584988829,233.8902464332059,-148607.44375416962,-69228.23683436774,-62814.80063138157,38586.7933231988,-108293.28423389932,-28714.364686298184,-25343.98288528761,63677.36187173426,-84705.78915601596,-15222.596785108093,-15194.08249956742,76310.67043708218,-87817.35813002614,2769.820265457034,292.1763452277519,107752.18944563996,-53553.24867315497,39722.59077061573,37460.80432972079,126649.60126788309,-59379.85431479197,49745.38309347024,53322.57617914304,153486.8276135181,-105277.73862288753,-347080.94178577606,-103387.38213881152,22785.400394352153,-101170.12347315764,76520.69031019136,71780.95989377238],\"yaxis\":\"y\",\"type\":\"scatter\"}],                        {\"template\":{\"data\":{\"bar\":[{\"error_x\":{\"color\":\"#2a3f5f\"},\"error_y\":{\"color\":\"#2a3f5f\"},\"marker\":{\"line\":{\"color\":\"#E5ECF6\",\"width\":0.5},\"pattern\":{\"fillmode\":\"overlay\",\"size\":10,\"solidity\":0.2}},\"type\":\"bar\"}],\"barpolar\":[{\"marker\":{\"line\":{\"color\":\"#E5ECF6\",\"width\":0.5},\"pattern\":{\"fillmode\":\"overlay\",\"size\":10,\"solidity\":0.2}},\"type\":\"barpolar\"}],\"carpet\":[{\"aaxis\":{\"endlinecolor\":\"#2a3f5f\",\"gridcolor\":\"white\",\"linecolor\":\"white\",\"minorgridcolor\":\"white\",\"startlinecolor\":\"#2a3f5f\"},\"baxis\":{\"endlinecolor\":\"#2a3f5f\",\"gridcolor\":\"white\",\"linecolor\":\"white\",\"minorgridcolor\":\"white\",\"startlinecolor\":\"#2a3f5f\"},\"type\":\"carpet\"}],\"choropleth\":[{\"colorbar\":{\"outlinewidth\":0,\"ticks\":\"\"},\"type\":\"choropleth\"}],\"contour\":[{\"colorbar\":{\"outlinewidth\":0,\"ticks\":\"\"},\"colorscale\":[[0.0,\"#0d0887\"],[0.1111111111111111,\"#46039f\"],[0.2222222222222222,\"#7201a8\"],[0.3333333333333333,\"#9c179e\"],[0.4444444444444444,\"#bd3786\"],[0.5555555555555556,\"#d8576b\"],[0.6666666666666666,\"#ed7953\"],[0.7777777777777778,\"#fb9f3a\"],[0.8888888888888888,\"#fdca26\"],[1.0,\"#f0f921\"]],\"type\":\"contour\"}],\"contourcarpet\":[{\"colorbar\":{\"outlinewidth\":0,\"ticks\":\"\"},\"type\":\"contourcarpet\"}],\"heatmap\":[{\"colorbar\":{\"outlinewidth\":0,\"ticks\":\"\"},\"colorscale\":[[0.0,\"#0d0887\"],[0.1111111111111111,\"#46039f\"],[0.2222222222222222,\"#7201a8\"],[0.3333333333333333,\"#9c179e\"],[0.4444444444444444,\"#bd3786\"],[0.5555555555555556,\"#d8576b\"],[0.6666666666666666,\"#ed7953\"],[0.7777777777777778,\"#fb9f3a\"],[0.8888888888888888,\"#fdca26\"],[1.0,\"#f0f921\"]],\"type\":\"heatmap\"}],\"heatmapgl\":[{\"colorbar\":{\"outlinewidth\":0,\"ticks\":\"\"},\"colorscale\":[[0.0,\"#0d0887\"],[0.1111111111111111,\"#46039f\"],[0.2222222222222222,\"#7201a8\"],[0.3333333333333333,\"#9c179e\"],[0.4444444444444444,\"#bd3786\"],[0.5555555555555556,\"#d8576b\"],[0.6666666666666666,\"#ed7953\"],[0.7777777777777778,\"#fb9f3a\"],[0.8888888888888888,\"#fdca26\"],[1.0,\"#f0f921\"]],\"type\":\"heatmapgl\"}],\"histogram\":[{\"marker\":{\"pattern\":{\"fillmode\":\"overlay\",\"size\":10,\"solidity\":0.2}},\"type\":\"histogram\"}],\"histogram2d\":[{\"colorbar\":{\"outlinewidth\":0,\"ticks\":\"\"},\"colorscale\":[[0.0,\"#0d0887\"],[0.1111111111111111,\"#46039f\"],[0.2222222222222222,\"#7201a8\"],[0.3333333333333333,\"#9c179e\"],[0.4444444444444444,\"#bd3786\"],[0.5555555555555556,\"#d8576b\"],[0.6666666666666666,\"#ed7953\"],[0.7777777777777778,\"#fb9f3a\"],[0.8888888888888888,\"#fdca26\"],[1.0,\"#f0f921\"]],\"type\":\"histogram2d\"}],\"histogram2dcontour\":[{\"colorbar\":{\"outlinewidth\":0,\"ticks\":\"\"},\"colorscale\":[[0.0,\"#0d0887\"],[0.1111111111111111,\"#46039f\"],[0.2222222222222222,\"#7201a8\"],[0.3333333333333333,\"#9c179e\"],[0.4444444444444444,\"#bd3786\"],[0.5555555555555556,\"#d8576b\"],[0.6666666666666666,\"#ed7953\"],[0.7777777777777778,\"#fb9f3a\"],[0.8888888888888888,\"#fdca26\"],[1.0,\"#f0f921\"]],\"type\":\"histogram2dcontour\"}],\"mesh3d\":[{\"colorbar\":{\"outlinewidth\":0,\"ticks\":\"\"},\"type\":\"mesh3d\"}],\"parcoords\":[{\"line\":{\"colorbar\":{\"outlinewidth\":0,\"ticks\":\"\"}},\"type\":\"parcoords\"}],\"pie\":[{\"automargin\":true,\"type\":\"pie\"}],\"scatter\":[{\"marker\":{\"colorbar\":{\"outlinewidth\":0,\"ticks\":\"\"}},\"type\":\"scatter\"}],\"scatter3d\":[{\"line\":{\"colorbar\":{\"outlinewidth\":0,\"ticks\":\"\"}},\"marker\":{\"colorbar\":{\"outlinewidth\":0,\"ticks\":\"\"}},\"type\":\"scatter3d\"}],\"scattercarpet\":[{\"marker\":{\"colorbar\":{\"outlinewidth\":0,\"ticks\":\"\"}},\"type\":\"scattercarpet\"}],\"scattergeo\":[{\"marker\":{\"colorbar\":{\"outlinewidth\":0,\"ticks\":\"\"}},\"type\":\"scattergeo\"}],\"scattergl\":[{\"marker\":{\"colorbar\":{\"outlinewidth\":0,\"ticks\":\"\"}},\"type\":\"scattergl\"}],\"scattermapbox\":[{\"marker\":{\"colorbar\":{\"outlinewidth\":0,\"ticks\":\"\"}},\"type\":\"scattermapbox\"}],\"scatterpolar\":[{\"marker\":{\"colorbar\":{\"outlinewidth\":0,\"ticks\":\"\"}},\"type\":\"scatterpolar\"}],\"scatterpolargl\":[{\"marker\":{\"colorbar\":{\"outlinewidth\":0,\"ticks\":\"\"}},\"type\":\"scatterpolargl\"}],\"scatterternary\":[{\"marker\":{\"colorbar\":{\"outlinewidth\":0,\"ticks\":\"\"}},\"type\":\"scatterternary\"}],\"surface\":[{\"colorbar\":{\"outlinewidth\":0,\"ticks\":\"\"},\"colorscale\":[[0.0,\"#0d0887\"],[0.1111111111111111,\"#46039f\"],[0.2222222222222222,\"#7201a8\"],[0.3333333333333333,\"#9c179e\"],[0.4444444444444444,\"#bd3786\"],[0.5555555555555556,\"#d8576b\"],[0.6666666666666666,\"#ed7953\"],[0.7777777777777778,\"#fb9f3a\"],[0.8888888888888888,\"#fdca26\"],[1.0,\"#f0f921\"]],\"type\":\"surface\"}],\"table\":[{\"cells\":{\"fill\":{\"color\":\"#EBF0F8\"},\"line\":{\"color\":\"white\"}},\"header\":{\"fill\":{\"color\":\"#C8D4E3\"},\"line\":{\"color\":\"white\"}},\"type\":\"table\"}]},\"layout\":{\"annotationdefaults\":{\"arrowcolor\":\"#2a3f5f\",\"arrowhead\":0,\"arrowwidth\":1},\"autotypenumbers\":\"strict\",\"coloraxis\":{\"colorbar\":{\"outlinewidth\":0,\"ticks\":\"\"}},\"colorscale\":{\"diverging\":[[0,\"#8e0152\"],[0.1,\"#c51b7d\"],[0.2,\"#de77ae\"],[0.3,\"#f1b6da\"],[0.4,\"#fde0ef\"],[0.5,\"#f7f7f7\"],[0.6,\"#e6f5d0\"],[0.7,\"#b8e186\"],[0.8,\"#7fbc41\"],[0.9,\"#4d9221\"],[1,\"#276419\"]],\"sequential\":[[0.0,\"#0d0887\"],[0.1111111111111111,\"#46039f\"],[0.2222222222222222,\"#7201a8\"],[0.3333333333333333,\"#9c179e\"],[0.4444444444444444,\"#bd3786\"],[0.5555555555555556,\"#d8576b\"],[0.6666666666666666,\"#ed7953\"],[0.7777777777777778,\"#fb9f3a\"],[0.8888888888888888,\"#fdca26\"],[1.0,\"#f0f921\"]],\"sequentialminus\":[[0.0,\"#0d0887\"],[0.1111111111111111,\"#46039f\"],[0.2222222222222222,\"#7201a8\"],[0.3333333333333333,\"#9c179e\"],[0.4444444444444444,\"#bd3786\"],[0.5555555555555556,\"#d8576b\"],[0.6666666666666666,\"#ed7953\"],[0.7777777777777778,\"#fb9f3a\"],[0.8888888888888888,\"#fdca26\"],[1.0,\"#f0f921\"]]},\"colorway\":[\"#636efa\",\"#EF553B\",\"#00cc96\",\"#ab63fa\",\"#FFA15A\",\"#19d3f3\",\"#FF6692\",\"#B6E880\",\"#FF97FF\",\"#FECB52\"],\"font\":{\"color\":\"#2a3f5f\"},\"geo\":{\"bgcolor\":\"white\",\"lakecolor\":\"white\",\"landcolor\":\"#E5ECF6\",\"showlakes\":true,\"showland\":true,\"subunitcolor\":\"white\"},\"hoverlabel\":{\"align\":\"left\"},\"hovermode\":\"closest\",\"mapbox\":{\"style\":\"light\"},\"paper_bgcolor\":\"white\",\"plot_bgcolor\":\"#E5ECF6\",\"polar\":{\"angularaxis\":{\"gridcolor\":\"white\",\"linecolor\":\"white\",\"ticks\":\"\"},\"bgcolor\":\"#E5ECF6\",\"radialaxis\":{\"gridcolor\":\"white\",\"linecolor\":\"white\",\"ticks\":\"\"}},\"scene\":{\"xaxis\":{\"backgroundcolor\":\"#E5ECF6\",\"gridcolor\":\"white\",\"gridwidth\":2,\"linecolor\":\"white\",\"showbackground\":true,\"ticks\":\"\",\"zerolinecolor\":\"white\"},\"yaxis\":{\"backgroundcolor\":\"#E5ECF6\",\"gridcolor\":\"white\",\"gridwidth\":2,\"linecolor\":\"white\",\"showbackground\":true,\"ticks\":\"\",\"zerolinecolor\":\"white\"},\"zaxis\":{\"backgroundcolor\":\"#E5ECF6\",\"gridcolor\":\"white\",\"gridwidth\":2,\"linecolor\":\"white\",\"showbackground\":true,\"ticks\":\"\",\"zerolinecolor\":\"white\"}},\"shapedefaults\":{\"line\":{\"color\":\"#2a3f5f\"}},\"ternary\":{\"aaxis\":{\"gridcolor\":\"white\",\"linecolor\":\"white\",\"ticks\":\"\"},\"baxis\":{\"gridcolor\":\"white\",\"linecolor\":\"white\",\"ticks\":\"\"},\"bgcolor\":\"#E5ECF6\",\"caxis\":{\"gridcolor\":\"white\",\"linecolor\":\"white\",\"ticks\":\"\"}},\"title\":{\"x\":0.05},\"xaxis\":{\"automargin\":true,\"gridcolor\":\"white\",\"linecolor\":\"white\",\"ticks\":\"\",\"title\":{\"standoff\":15},\"zerolinecolor\":\"white\",\"zerolinewidth\":2},\"yaxis\":{\"automargin\":true,\"gridcolor\":\"white\",\"linecolor\":\"white\",\"ticks\":\"\",\"title\":{\"standoff\":15},\"zerolinecolor\":\"white\",\"zerolinewidth\":2}}},\"xaxis\":{\"anchor\":\"y\",\"domain\":[0.0,1.0],\"title\":{\"text\":\"Date\"}},\"yaxis\":{\"anchor\":\"x\",\"domain\":[0.0,1.0],\"title\":{\"text\":\"value\"}},\"legend\":{\"title\":{\"text\":\"variable\"},\"tracegroupgap\":0},\"title\":{\"text\":\"Real Consumer Spending vs Lowess Residuals \"}},                        {\"responsive\": true}                    ).then(function(){\n",
              "                            \n",
              "var gd = document.getElementById('adf5e2ef-4970-4e15-9567-c137e847398f');\n",
              "var x = new MutationObserver(function (mutations, observer) {{\n",
              "        var display = window.getComputedStyle(gd).display;\n",
              "        if (!display || display === 'none') {{\n",
              "            console.log([gd, 'removed!']);\n",
              "            Plotly.purge(gd);\n",
              "            observer.disconnect();\n",
              "        }}\n",
              "}});\n",
              "\n",
              "// Listen for the removal of the full notebook cells\n",
              "var notebookContainer = gd.closest('#notebook-container');\n",
              "if (notebookContainer) {{\n",
              "    x.observe(notebookContainer, {childList: true});\n",
              "}}\n",
              "\n",
              "// Listen for the clearing of the current output cell\n",
              "var outputEl = gd.closest('.output');\n",
              "if (outputEl) {{\n",
              "    x.observe(outputEl, {childList: true});\n",
              "}}\n",
              "\n",
              "                        })                };                            </script>        </div>\n",
              "</body>\n",
              "</html>"
            ]
          },
          "metadata": {}
        }
      ]
    },
    {
      "cell_type": "markdown",
      "source": [
        "Seasonality"
      ],
      "metadata": {
        "id": "J4Uwg4yCaPN7"
      }
    },
    {
      "cell_type": "code",
      "source": [
        "print(spending_df.groupby(\"Quarter\")[\"Lowess_Resid\"].mean())"
      ],
      "metadata": {
        "id": "NHPCyGZ6xkRd",
        "colab": {
          "base_uri": "https://localhost:8080/"
        },
        "outputId": "cd510fa6-d4f7-4350-a707-e29fb238046b"
      },
      "execution_count": 22,
      "outputs": [
        {
          "output_type": "stream",
          "name": "stdout",
          "text": [
            "Quarter\n",
            "1   -63989.638835\n",
            "2   -26800.007251\n",
            "3   -27682.959391\n",
            "4    28053.196238\n",
            "Name: Lowess_Resid, dtype: float64\n"
          ]
        }
      ]
    },
    {
      "cell_type": "markdown",
      "source": [
        "Pre vs Post 1990"
      ],
      "metadata": {
        "id": "B4kf3bC_abZC"
      }
    },
    {
      "cell_type": "code",
      "execution_count": 23,
      "metadata": {
        "id": "99f736ee"
      },
      "outputs": [],
      "source": [
        "lowess_pre1990_df = spending_df[spending_df['Date'] < dt.datetime(1990, 1, 1)]\n",
        "lowess_post1990_df = spending_df[spending_df['Date'] >= dt.datetime(1990, 1, 1)]"
      ]
    },
    {
      "cell_type": "code",
      "execution_count": 24,
      "metadata": {
        "id": "88fa7ae7",
        "colab": {
          "base_uri": "https://localhost:8080/"
        },
        "outputId": "06d984c7-292d-4b53-acb9-773a568db1d7"
      },
      "outputs": [
        {
          "output_type": "stream",
          "name": "stdout",
          "text": [
            "Pre-1990 seasonality:\n",
            "Quarter\n",
            "1   -54273.733934\n",
            "2   -28084.476957\n",
            "3   -33467.880196\n",
            "4     8689.069081\n",
            "Name: Lowess_Resid, dtype: float64\n",
            "\n",
            "Post-1990 seasonality:\n",
            "Quarter\n",
            "1   -77045.386046\n",
            "2   -25074.001083\n",
            "3   -19909.472060\n",
            "4    54913.114552\n",
            "Name: Lowess_Resid, dtype: float64\n"
          ]
        }
      ],
      "source": [
        "print('Pre-1990 seasonality:')\n",
        "print(lowess_pre1990_df.groupby(\"Quarter\")[\"Lowess_Resid\"].mean())\n",
        "print('\\nPost-1990 seasonality:')\n",
        "print(lowess_post1990_df.groupby(\"Quarter\")[\"Lowess_Resid\"].mean())"
      ]
    },
    {
      "cell_type": "markdown",
      "source": [
        "## 2) Persistence of Oil Volatility\n"
      ],
      "metadata": {
        "id": "kISHWSrzRvWx"
      }
    },
    {
      "cell_type": "markdown",
      "metadata": {
        "id": "d0a664f8"
      },
      "source": [
        "\n",
        "In this exercise, we focus on movements of crude oil prices, by analyzing the monthly volatility of returns in spot West Texas Intermediate (WTI) prices. All data are originally sourced from the US Energy Information Administration (EIA).\n",
        "\n",
        "(a) Load the dataset given in \"CrudePrices_Monthly.xlsx\". \n",
        "\n",
        "> NOTE: The `\"Vol\"` column provides the intra-month volatility of oil returns, while the `\"LastSpot\"` column indicates the last price of WTI for that month. And the `\"Ret\"` column is the monthly return if one was to hold on to a barrel of oil over the course of the month.\n",
        "\n",
        "(b) What is the correlation betweeen intra-month volatility and monthly oil returns?\n",
        "\n",
        "> HINT: use any one of the correlation methods demonstrated in the setup section\n",
        "\n",
        "\n",
        "(c) Plot the autocorrelation function (ACF) of crude oil volatility. On average, how correlated is this month’s return volatility with next month’s?\n",
        "\n",
        "(d) As oil volatility seems to be fairly persistent, we will estimate an autoregressive model to better determine the fit. Fit an autoregressive model with three lags (AR(3)) and display the output of the regression. Which volatility term (i.e. lag period) is most significant in predicting current volatilty?\n",
        "\n",
        "(e) Use the trained ARMA model to predict volatility for the time period from `\"2016-01-31\"` to `\"2019-12-31\"`. Then plot these predictions vs the actual volatility values.\n",
        "\n",
        "\n",
        "(f) One issue that commonly arises is that while a model can do a good job forecasting the data it is fitted to (in this case 1986 – 2019), it might have difficulty forecasting new data in the future (2020 and beyond). How might one test whether the model does a good job with out-of-sample (i.e. unseen) data? Answer this question in words. "
      ]
    },
    {
      "cell_type": "markdown",
      "source": [
        "### A) LOAD AND CLEAN DATA"
      ],
      "metadata": {
        "id": "N7CmXs0R28uK"
      }
    },
    {
      "cell_type": "code",
      "source": [
        "# LOAD THE DATA\n",
        "\n",
        "file_name = \"CrudePrices_Monthly.xlsx\"\n",
        "oil_df = pd.read_excel(f\"https://github.com/s2t2/msfo-833-prep/blob/main/data/{file_name}?raw=true\")\n",
        "oil_df.head()"
      ],
      "metadata": {
        "id": "tQcetsZI3mQB",
        "colab": {
          "base_uri": "https://localhost:8080/",
          "height": 206
        },
        "outputId": "cac98e81-76d1-41a0-ec58-bd23eb52a205"
      },
      "execution_count": 25,
      "outputs": [
        {
          "output_type": "execute_result",
          "data": {
            "text/plain": [
              "        Date  Year  Month       Vol  LastSpot       Ret\n",
              "0 1986-01-31  1986      1  0.161230     18.95       NaN\n",
              "1 1986-02-28  1986      2  0.240258     13.23 -0.301847\n",
              "2 1986-03-31  1986      3  0.310706     10.25 -0.225246\n",
              "3 1986-04-30  1986      4  0.268445     13.38  0.305366\n",
              "4 1986-05-31  1986      5  0.194400     14.30  0.068759"
            ],
            "text/html": [
              "\n",
              "  <div id=\"df-d3ba8e72-eb39-4a29-8a23-8b89464bf0d3\">\n",
              "    <div class=\"colab-df-container\">\n",
              "      <div>\n",
              "<style scoped>\n",
              "    .dataframe tbody tr th:only-of-type {\n",
              "        vertical-align: middle;\n",
              "    }\n",
              "\n",
              "    .dataframe tbody tr th {\n",
              "        vertical-align: top;\n",
              "    }\n",
              "\n",
              "    .dataframe thead th {\n",
              "        text-align: right;\n",
              "    }\n",
              "</style>\n",
              "<table border=\"1\" class=\"dataframe\">\n",
              "  <thead>\n",
              "    <tr style=\"text-align: right;\">\n",
              "      <th></th>\n",
              "      <th>Date</th>\n",
              "      <th>Year</th>\n",
              "      <th>Month</th>\n",
              "      <th>Vol</th>\n",
              "      <th>LastSpot</th>\n",
              "      <th>Ret</th>\n",
              "    </tr>\n",
              "  </thead>\n",
              "  <tbody>\n",
              "    <tr>\n",
              "      <th>0</th>\n",
              "      <td>1986-01-31</td>\n",
              "      <td>1986</td>\n",
              "      <td>1</td>\n",
              "      <td>0.161230</td>\n",
              "      <td>18.95</td>\n",
              "      <td>NaN</td>\n",
              "    </tr>\n",
              "    <tr>\n",
              "      <th>1</th>\n",
              "      <td>1986-02-28</td>\n",
              "      <td>1986</td>\n",
              "      <td>2</td>\n",
              "      <td>0.240258</td>\n",
              "      <td>13.23</td>\n",
              "      <td>-0.301847</td>\n",
              "    </tr>\n",
              "    <tr>\n",
              "      <th>2</th>\n",
              "      <td>1986-03-31</td>\n",
              "      <td>1986</td>\n",
              "      <td>3</td>\n",
              "      <td>0.310706</td>\n",
              "      <td>10.25</td>\n",
              "      <td>-0.225246</td>\n",
              "    </tr>\n",
              "    <tr>\n",
              "      <th>3</th>\n",
              "      <td>1986-04-30</td>\n",
              "      <td>1986</td>\n",
              "      <td>4</td>\n",
              "      <td>0.268445</td>\n",
              "      <td>13.38</td>\n",
              "      <td>0.305366</td>\n",
              "    </tr>\n",
              "    <tr>\n",
              "      <th>4</th>\n",
              "      <td>1986-05-31</td>\n",
              "      <td>1986</td>\n",
              "      <td>5</td>\n",
              "      <td>0.194400</td>\n",
              "      <td>14.30</td>\n",
              "      <td>0.068759</td>\n",
              "    </tr>\n",
              "  </tbody>\n",
              "</table>\n",
              "</div>\n",
              "      <button class=\"colab-df-convert\" onclick=\"convertToInteractive('df-d3ba8e72-eb39-4a29-8a23-8b89464bf0d3')\"\n",
              "              title=\"Convert this dataframe to an interactive table.\"\n",
              "              style=\"display:none;\">\n",
              "        \n",
              "  <svg xmlns=\"http://www.w3.org/2000/svg\" height=\"24px\"viewBox=\"0 0 24 24\"\n",
              "       width=\"24px\">\n",
              "    <path d=\"M0 0h24v24H0V0z\" fill=\"none\"/>\n",
              "    <path d=\"M18.56 5.44l.94 2.06.94-2.06 2.06-.94-2.06-.94-.94-2.06-.94 2.06-2.06.94zm-11 1L8.5 8.5l.94-2.06 2.06-.94-2.06-.94L8.5 2.5l-.94 2.06-2.06.94zm10 10l.94 2.06.94-2.06 2.06-.94-2.06-.94-.94-2.06-.94 2.06-2.06.94z\"/><path d=\"M17.41 7.96l-1.37-1.37c-.4-.4-.92-.59-1.43-.59-.52 0-1.04.2-1.43.59L10.3 9.45l-7.72 7.72c-.78.78-.78 2.05 0 2.83L4 21.41c.39.39.9.59 1.41.59.51 0 1.02-.2 1.41-.59l7.78-7.78 2.81-2.81c.8-.78.8-2.07 0-2.86zM5.41 20L4 18.59l7.72-7.72 1.47 1.35L5.41 20z\"/>\n",
              "  </svg>\n",
              "      </button>\n",
              "      \n",
              "  <style>\n",
              "    .colab-df-container {\n",
              "      display:flex;\n",
              "      flex-wrap:wrap;\n",
              "      gap: 12px;\n",
              "    }\n",
              "\n",
              "    .colab-df-convert {\n",
              "      background-color: #E8F0FE;\n",
              "      border: none;\n",
              "      border-radius: 50%;\n",
              "      cursor: pointer;\n",
              "      display: none;\n",
              "      fill: #1967D2;\n",
              "      height: 32px;\n",
              "      padding: 0 0 0 0;\n",
              "      width: 32px;\n",
              "    }\n",
              "\n",
              "    .colab-df-convert:hover {\n",
              "      background-color: #E2EBFA;\n",
              "      box-shadow: 0px 1px 2px rgba(60, 64, 67, 0.3), 0px 1px 3px 1px rgba(60, 64, 67, 0.15);\n",
              "      fill: #174EA6;\n",
              "    }\n",
              "\n",
              "    [theme=dark] .colab-df-convert {\n",
              "      background-color: #3B4455;\n",
              "      fill: #D2E3FC;\n",
              "    }\n",
              "\n",
              "    [theme=dark] .colab-df-convert:hover {\n",
              "      background-color: #434B5C;\n",
              "      box-shadow: 0px 1px 3px 1px rgba(0, 0, 0, 0.15);\n",
              "      filter: drop-shadow(0px 1px 2px rgba(0, 0, 0, 0.3));\n",
              "      fill: #FFFFFF;\n",
              "    }\n",
              "  </style>\n",
              "\n",
              "      <script>\n",
              "        const buttonEl =\n",
              "          document.querySelector('#df-d3ba8e72-eb39-4a29-8a23-8b89464bf0d3 button.colab-df-convert');\n",
              "        buttonEl.style.display =\n",
              "          google.colab.kernel.accessAllowed ? 'block' : 'none';\n",
              "\n",
              "        async function convertToInteractive(key) {\n",
              "          const element = document.querySelector('#df-d3ba8e72-eb39-4a29-8a23-8b89464bf0d3');\n",
              "          const dataTable =\n",
              "            await google.colab.kernel.invokeFunction('convertToInteractive',\n",
              "                                                     [key], {});\n",
              "          if (!dataTable) return;\n",
              "\n",
              "          const docLinkHtml = 'Like what you see? Visit the ' +\n",
              "            '<a target=\"_blank\" href=https://colab.research.google.com/notebooks/data_table.ipynb>data table notebook</a>'\n",
              "            + ' to learn more about interactive tables.';\n",
              "          element.innerHTML = '';\n",
              "          dataTable['output_type'] = 'display_data';\n",
              "          await google.colab.output.renderOutput(dataTable, element);\n",
              "          const docLink = document.createElement('div');\n",
              "          docLink.innerHTML = docLinkHtml;\n",
              "          element.appendChild(docLink);\n",
              "        }\n",
              "      </script>\n",
              "    </div>\n",
              "  </div>\n",
              "  "
            ]
          },
          "metadata": {},
          "execution_count": 25
        }
      ]
    },
    {
      "cell_type": "code",
      "source": [
        "oil_df.index = oil_df[\"Date\"] #setting the index for the ARMA predictions in point e)"
      ],
      "metadata": {
        "id": "VbPRJCY7Zcqm"
      },
      "execution_count": 26,
      "outputs": []
    },
    {
      "cell_type": "markdown",
      "source": [
        "### B) CORRELATION"
      ],
      "metadata": {
        "id": "XYjOxiC63Pf1"
      }
    },
    {
      "cell_type": "code",
      "source": [
        "corr_value = format(oil_df['Vol'].corr(oil_df['Ret']), '.2f')\n",
        "print('The correlation between the monthly volatility and return is: \\n', corr_value)"
      ],
      "metadata": {
        "id": "V02iuZIooPRu",
        "colab": {
          "base_uri": "https://localhost:8080/"
        },
        "outputId": "4de9b8af-1bf0-4834-fd7c-70bc067a3a40"
      },
      "execution_count": 27,
      "outputs": [
        {
          "output_type": "stream",
          "name": "stdout",
          "text": [
            "The correlation between the monthly volatility and return is: \n",
            " -0.17\n"
          ]
        }
      ]
    },
    {
      "cell_type": "markdown",
      "source": [
        "### C) ACF PLOT"
      ],
      "metadata": {
        "id": "XBgwAVGJ3D2f"
      }
    },
    {
      "cell_type": "code",
      "source": [
        "n_lags = 10\n",
        "\n",
        "acf_results = acf(oil_df['Vol'], nlags=n_lags, fft=True, missing=\"drop\")\n",
        "\n",
        "print(\"Autocorrelation for Oil Volatility with \", n_lags, \"LAGS\")\n",
        "print(acf_results)\n",
        "\n",
        "fig = px.line(y=acf_results, markers=[\"o\"], height=300,        \n",
        "            title=f\"Auto-correlation of Monthly Oil Volatility ({'Vol'})\",\n",
        "            labels={\"x\": \"Number of Lags\", \"y\":\"Auto-correlation\"},   \n",
        "    )\n",
        "fig.show()"
      ],
      "metadata": {
        "id": "JiJN5nlEwrbt",
        "colab": {
          "base_uri": "https://localhost:8080/",
          "height": 371
        },
        "outputId": "d498bcac-338e-4b42-98b1-ce5599552754"
      },
      "execution_count": 28,
      "outputs": [
        {
          "output_type": "stream",
          "name": "stdout",
          "text": [
            "Autocorrelation for Oil Volatility with  10 LAGS\n",
            "[ 1.          0.60340152  0.51941605  0.46088185  0.29145938  0.2943004\n",
            "  0.19256418  0.1293768   0.05080978  0.04345617 -0.02724842]\n"
          ]
        },
        {
          "output_type": "display_data",
          "data": {
            "text/html": [
              "<html>\n",
              "<head><meta charset=\"utf-8\" /></head>\n",
              "<body>\n",
              "    <div>            <script src=\"https://cdnjs.cloudflare.com/ajax/libs/mathjax/2.7.5/MathJax.js?config=TeX-AMS-MML_SVG\"></script><script type=\"text/javascript\">if (window.MathJax) {MathJax.Hub.Config({SVG: {font: \"STIX-Web\"}});}</script>                <script type=\"text/javascript\">window.PlotlyConfig = {MathJaxConfig: 'local'};</script>\n",
              "        <script src=\"https://cdn.plot.ly/plotly-2.8.3.min.js\"></script>                <div id=\"a6dee77f-c7cc-47fe-89c8-077c43a91777\" class=\"plotly-graph-div\" style=\"height:300px; width:100%;\"></div>            <script type=\"text/javascript\">                                    window.PLOTLYENV=window.PLOTLYENV || {};                                    if (document.getElementById(\"a6dee77f-c7cc-47fe-89c8-077c43a91777\")) {                    Plotly.newPlot(                        \"a6dee77f-c7cc-47fe-89c8-077c43a91777\",                        [{\"hovertemplate\":\"Number of Lags=%{x}<br>Auto-correlation=%{y}<extra></extra>\",\"legendgroup\":\"\",\"line\":{\"color\":\"#636efa\",\"dash\":\"solid\"},\"marker\":{\"symbol\":\"circle\"},\"mode\":\"lines+markers\",\"name\":\"\",\"orientation\":\"v\",\"showlegend\":false,\"x\":[0,1,2,3,4,5,6,7,8,9,10],\"xaxis\":\"x\",\"y\":[1.0,0.6034015212169174,0.5194160499462496,0.4608818458861679,0.29145937621542045,0.29430039505118505,0.19256418016868682,0.1293768047800815,0.05080978308861937,0.043456172332391484,-0.027248420325697298],\"yaxis\":\"y\",\"type\":\"scatter\"}],                        {\"template\":{\"data\":{\"bar\":[{\"error_x\":{\"color\":\"#2a3f5f\"},\"error_y\":{\"color\":\"#2a3f5f\"},\"marker\":{\"line\":{\"color\":\"#E5ECF6\",\"width\":0.5},\"pattern\":{\"fillmode\":\"overlay\",\"size\":10,\"solidity\":0.2}},\"type\":\"bar\"}],\"barpolar\":[{\"marker\":{\"line\":{\"color\":\"#E5ECF6\",\"width\":0.5},\"pattern\":{\"fillmode\":\"overlay\",\"size\":10,\"solidity\":0.2}},\"type\":\"barpolar\"}],\"carpet\":[{\"aaxis\":{\"endlinecolor\":\"#2a3f5f\",\"gridcolor\":\"white\",\"linecolor\":\"white\",\"minorgridcolor\":\"white\",\"startlinecolor\":\"#2a3f5f\"},\"baxis\":{\"endlinecolor\":\"#2a3f5f\",\"gridcolor\":\"white\",\"linecolor\":\"white\",\"minorgridcolor\":\"white\",\"startlinecolor\":\"#2a3f5f\"},\"type\":\"carpet\"}],\"choropleth\":[{\"colorbar\":{\"outlinewidth\":0,\"ticks\":\"\"},\"type\":\"choropleth\"}],\"contour\":[{\"colorbar\":{\"outlinewidth\":0,\"ticks\":\"\"},\"colorscale\":[[0.0,\"#0d0887\"],[0.1111111111111111,\"#46039f\"],[0.2222222222222222,\"#7201a8\"],[0.3333333333333333,\"#9c179e\"],[0.4444444444444444,\"#bd3786\"],[0.5555555555555556,\"#d8576b\"],[0.6666666666666666,\"#ed7953\"],[0.7777777777777778,\"#fb9f3a\"],[0.8888888888888888,\"#fdca26\"],[1.0,\"#f0f921\"]],\"type\":\"contour\"}],\"contourcarpet\":[{\"colorbar\":{\"outlinewidth\":0,\"ticks\":\"\"},\"type\":\"contourcarpet\"}],\"heatmap\":[{\"colorbar\":{\"outlinewidth\":0,\"ticks\":\"\"},\"colorscale\":[[0.0,\"#0d0887\"],[0.1111111111111111,\"#46039f\"],[0.2222222222222222,\"#7201a8\"],[0.3333333333333333,\"#9c179e\"],[0.4444444444444444,\"#bd3786\"],[0.5555555555555556,\"#d8576b\"],[0.6666666666666666,\"#ed7953\"],[0.7777777777777778,\"#fb9f3a\"],[0.8888888888888888,\"#fdca26\"],[1.0,\"#f0f921\"]],\"type\":\"heatmap\"}],\"heatmapgl\":[{\"colorbar\":{\"outlinewidth\":0,\"ticks\":\"\"},\"colorscale\":[[0.0,\"#0d0887\"],[0.1111111111111111,\"#46039f\"],[0.2222222222222222,\"#7201a8\"],[0.3333333333333333,\"#9c179e\"],[0.4444444444444444,\"#bd3786\"],[0.5555555555555556,\"#d8576b\"],[0.6666666666666666,\"#ed7953\"],[0.7777777777777778,\"#fb9f3a\"],[0.8888888888888888,\"#fdca26\"],[1.0,\"#f0f921\"]],\"type\":\"heatmapgl\"}],\"histogram\":[{\"marker\":{\"pattern\":{\"fillmode\":\"overlay\",\"size\":10,\"solidity\":0.2}},\"type\":\"histogram\"}],\"histogram2d\":[{\"colorbar\":{\"outlinewidth\":0,\"ticks\":\"\"},\"colorscale\":[[0.0,\"#0d0887\"],[0.1111111111111111,\"#46039f\"],[0.2222222222222222,\"#7201a8\"],[0.3333333333333333,\"#9c179e\"],[0.4444444444444444,\"#bd3786\"],[0.5555555555555556,\"#d8576b\"],[0.6666666666666666,\"#ed7953\"],[0.7777777777777778,\"#fb9f3a\"],[0.8888888888888888,\"#fdca26\"],[1.0,\"#f0f921\"]],\"type\":\"histogram2d\"}],\"histogram2dcontour\":[{\"colorbar\":{\"outlinewidth\":0,\"ticks\":\"\"},\"colorscale\":[[0.0,\"#0d0887\"],[0.1111111111111111,\"#46039f\"],[0.2222222222222222,\"#7201a8\"],[0.3333333333333333,\"#9c179e\"],[0.4444444444444444,\"#bd3786\"],[0.5555555555555556,\"#d8576b\"],[0.6666666666666666,\"#ed7953\"],[0.7777777777777778,\"#fb9f3a\"],[0.8888888888888888,\"#fdca26\"],[1.0,\"#f0f921\"]],\"type\":\"histogram2dcontour\"}],\"mesh3d\":[{\"colorbar\":{\"outlinewidth\":0,\"ticks\":\"\"},\"type\":\"mesh3d\"}],\"parcoords\":[{\"line\":{\"colorbar\":{\"outlinewidth\":0,\"ticks\":\"\"}},\"type\":\"parcoords\"}],\"pie\":[{\"automargin\":true,\"type\":\"pie\"}],\"scatter\":[{\"marker\":{\"colorbar\":{\"outlinewidth\":0,\"ticks\":\"\"}},\"type\":\"scatter\"}],\"scatter3d\":[{\"line\":{\"colorbar\":{\"outlinewidth\":0,\"ticks\":\"\"}},\"marker\":{\"colorbar\":{\"outlinewidth\":0,\"ticks\":\"\"}},\"type\":\"scatter3d\"}],\"scattercarpet\":[{\"marker\":{\"colorbar\":{\"outlinewidth\":0,\"ticks\":\"\"}},\"type\":\"scattercarpet\"}],\"scattergeo\":[{\"marker\":{\"colorbar\":{\"outlinewidth\":0,\"ticks\":\"\"}},\"type\":\"scattergeo\"}],\"scattergl\":[{\"marker\":{\"colorbar\":{\"outlinewidth\":0,\"ticks\":\"\"}},\"type\":\"scattergl\"}],\"scattermapbox\":[{\"marker\":{\"colorbar\":{\"outlinewidth\":0,\"ticks\":\"\"}},\"type\":\"scattermapbox\"}],\"scatterpolar\":[{\"marker\":{\"colorbar\":{\"outlinewidth\":0,\"ticks\":\"\"}},\"type\":\"scatterpolar\"}],\"scatterpolargl\":[{\"marker\":{\"colorbar\":{\"outlinewidth\":0,\"ticks\":\"\"}},\"type\":\"scatterpolargl\"}],\"scatterternary\":[{\"marker\":{\"colorbar\":{\"outlinewidth\":0,\"ticks\":\"\"}},\"type\":\"scatterternary\"}],\"surface\":[{\"colorbar\":{\"outlinewidth\":0,\"ticks\":\"\"},\"colorscale\":[[0.0,\"#0d0887\"],[0.1111111111111111,\"#46039f\"],[0.2222222222222222,\"#7201a8\"],[0.3333333333333333,\"#9c179e\"],[0.4444444444444444,\"#bd3786\"],[0.5555555555555556,\"#d8576b\"],[0.6666666666666666,\"#ed7953\"],[0.7777777777777778,\"#fb9f3a\"],[0.8888888888888888,\"#fdca26\"],[1.0,\"#f0f921\"]],\"type\":\"surface\"}],\"table\":[{\"cells\":{\"fill\":{\"color\":\"#EBF0F8\"},\"line\":{\"color\":\"white\"}},\"header\":{\"fill\":{\"color\":\"#C8D4E3\"},\"line\":{\"color\":\"white\"}},\"type\":\"table\"}]},\"layout\":{\"annotationdefaults\":{\"arrowcolor\":\"#2a3f5f\",\"arrowhead\":0,\"arrowwidth\":1},\"autotypenumbers\":\"strict\",\"coloraxis\":{\"colorbar\":{\"outlinewidth\":0,\"ticks\":\"\"}},\"colorscale\":{\"diverging\":[[0,\"#8e0152\"],[0.1,\"#c51b7d\"],[0.2,\"#de77ae\"],[0.3,\"#f1b6da\"],[0.4,\"#fde0ef\"],[0.5,\"#f7f7f7\"],[0.6,\"#e6f5d0\"],[0.7,\"#b8e186\"],[0.8,\"#7fbc41\"],[0.9,\"#4d9221\"],[1,\"#276419\"]],\"sequential\":[[0.0,\"#0d0887\"],[0.1111111111111111,\"#46039f\"],[0.2222222222222222,\"#7201a8\"],[0.3333333333333333,\"#9c179e\"],[0.4444444444444444,\"#bd3786\"],[0.5555555555555556,\"#d8576b\"],[0.6666666666666666,\"#ed7953\"],[0.7777777777777778,\"#fb9f3a\"],[0.8888888888888888,\"#fdca26\"],[1.0,\"#f0f921\"]],\"sequentialminus\":[[0.0,\"#0d0887\"],[0.1111111111111111,\"#46039f\"],[0.2222222222222222,\"#7201a8\"],[0.3333333333333333,\"#9c179e\"],[0.4444444444444444,\"#bd3786\"],[0.5555555555555556,\"#d8576b\"],[0.6666666666666666,\"#ed7953\"],[0.7777777777777778,\"#fb9f3a\"],[0.8888888888888888,\"#fdca26\"],[1.0,\"#f0f921\"]]},\"colorway\":[\"#636efa\",\"#EF553B\",\"#00cc96\",\"#ab63fa\",\"#FFA15A\",\"#19d3f3\",\"#FF6692\",\"#B6E880\",\"#FF97FF\",\"#FECB52\"],\"font\":{\"color\":\"#2a3f5f\"},\"geo\":{\"bgcolor\":\"white\",\"lakecolor\":\"white\",\"landcolor\":\"#E5ECF6\",\"showlakes\":true,\"showland\":true,\"subunitcolor\":\"white\"},\"hoverlabel\":{\"align\":\"left\"},\"hovermode\":\"closest\",\"mapbox\":{\"style\":\"light\"},\"paper_bgcolor\":\"white\",\"plot_bgcolor\":\"#E5ECF6\",\"polar\":{\"angularaxis\":{\"gridcolor\":\"white\",\"linecolor\":\"white\",\"ticks\":\"\"},\"bgcolor\":\"#E5ECF6\",\"radialaxis\":{\"gridcolor\":\"white\",\"linecolor\":\"white\",\"ticks\":\"\"}},\"scene\":{\"xaxis\":{\"backgroundcolor\":\"#E5ECF6\",\"gridcolor\":\"white\",\"gridwidth\":2,\"linecolor\":\"white\",\"showbackground\":true,\"ticks\":\"\",\"zerolinecolor\":\"white\"},\"yaxis\":{\"backgroundcolor\":\"#E5ECF6\",\"gridcolor\":\"white\",\"gridwidth\":2,\"linecolor\":\"white\",\"showbackground\":true,\"ticks\":\"\",\"zerolinecolor\":\"white\"},\"zaxis\":{\"backgroundcolor\":\"#E5ECF6\",\"gridcolor\":\"white\",\"gridwidth\":2,\"linecolor\":\"white\",\"showbackground\":true,\"ticks\":\"\",\"zerolinecolor\":\"white\"}},\"shapedefaults\":{\"line\":{\"color\":\"#2a3f5f\"}},\"ternary\":{\"aaxis\":{\"gridcolor\":\"white\",\"linecolor\":\"white\",\"ticks\":\"\"},\"baxis\":{\"gridcolor\":\"white\",\"linecolor\":\"white\",\"ticks\":\"\"},\"bgcolor\":\"#E5ECF6\",\"caxis\":{\"gridcolor\":\"white\",\"linecolor\":\"white\",\"ticks\":\"\"}},\"title\":{\"x\":0.05},\"xaxis\":{\"automargin\":true,\"gridcolor\":\"white\",\"linecolor\":\"white\",\"ticks\":\"\",\"title\":{\"standoff\":15},\"zerolinecolor\":\"white\",\"zerolinewidth\":2},\"yaxis\":{\"automargin\":true,\"gridcolor\":\"white\",\"linecolor\":\"white\",\"ticks\":\"\",\"title\":{\"standoff\":15},\"zerolinecolor\":\"white\",\"zerolinewidth\":2}}},\"xaxis\":{\"anchor\":\"y\",\"domain\":[0.0,1.0],\"title\":{\"text\":\"Number of Lags\"}},\"yaxis\":{\"anchor\":\"x\",\"domain\":[0.0,1.0],\"title\":{\"text\":\"Auto-correlation\"}},\"legend\":{\"tracegroupgap\":0},\"title\":{\"text\":\"Auto-correlation of Monthly Oil Volatility (Vol)\"},\"height\":300},                        {\"responsive\": true}                    ).then(function(){\n",
              "                            \n",
              "var gd = document.getElementById('a6dee77f-c7cc-47fe-89c8-077c43a91777');\n",
              "var x = new MutationObserver(function (mutations, observer) {{\n",
              "        var display = window.getComputedStyle(gd).display;\n",
              "        if (!display || display === 'none') {{\n",
              "            console.log([gd, 'removed!']);\n",
              "            Plotly.purge(gd);\n",
              "            observer.disconnect();\n",
              "        }}\n",
              "}});\n",
              "\n",
              "// Listen for the removal of the full notebook cells\n",
              "var notebookContainer = gd.closest('#notebook-container');\n",
              "if (notebookContainer) {{\n",
              "    x.observe(notebookContainer, {childList: true});\n",
              "}}\n",
              "\n",
              "// Listen for the clearing of the current output cell\n",
              "var outputEl = gd.closest('.output');\n",
              "if (outputEl) {{\n",
              "    x.observe(outputEl, {childList: true});\n",
              "}}\n",
              "\n",
              "                        })                };                            </script>        </div>\n",
              "</body>\n",
              "</html>"
            ]
          },
          "metadata": {}
        }
      ]
    },
    {
      "cell_type": "markdown",
      "source": [
        "### D) ARMA MODEL (LAG=3)"
      ],
      "metadata": {
        "id": "b-n7jFty3Hur"
      }
    },
    {
      "cell_type": "code",
      "source": [
        "y = oil_df[\"Vol\"]\n",
        "\n",
        "auto_regression = ARIMA(y, order=(3, 0, 0), missing=\"drop\")\n",
        "print(type(auto_regression))\n",
        "\n",
        "arma_results = auto_regression.fit()\n",
        "print(type(arma_results))\n",
        "\n",
        "print(arma_results.summary())"
      ],
      "metadata": {
        "id": "kP3jtIe0uiLv",
        "colab": {
          "base_uri": "https://localhost:8080/"
        },
        "outputId": "cd74cded-34a0-4ddc-b025-f4e2c931f733"
      },
      "execution_count": 32,
      "outputs": [
        {
          "output_type": "stream",
          "name": "stdout",
          "text": [
            "<class 'statsmodels.tsa.arima.model.ARIMA'>\n",
            "<class 'statsmodels.tsa.arima.model.ARIMAResultsWrapper'>\n",
            "                               SARIMAX Results                                \n",
            "==============================================================================\n",
            "Dep. Variable:                    Vol   No. Observations:                  408\n",
            "Model:                 ARIMA(3, 0, 0)   Log Likelihood                 729.746\n",
            "Date:                Sat, 21 Jan 2023   AIC                          -1449.492\n",
            "Time:                        17:52:01   BIC                          -1429.436\n",
            "Sample:                    01-31-1986   HQIC                         -1441.556\n",
            "                         - 12-31-2019                                         \n",
            "Covariance Type:                  opg                                         \n",
            "==============================================================================\n",
            "                 coef    std err          z      P>|z|      [0.025      0.975]\n",
            "------------------------------------------------------------------------------\n",
            "const          0.1031      0.011      9.438      0.000       0.082       0.125\n",
            "ar.L1          0.4143      0.036     11.596      0.000       0.344       0.484\n",
            "ar.L2          0.1892      0.035      5.466      0.000       0.121       0.257\n",
            "ar.L3          0.1497      0.030      4.928      0.000       0.090       0.209\n",
            "sigma2         0.0016   7.39e-05     22.113      0.000       0.001       0.002\n",
            "===================================================================================\n",
            "Ljung-Box (L1) (Q):                   0.21   Jarque-Bera (JB):              1477.53\n",
            "Prob(Q):                              0.65   Prob(JB):                         0.00\n",
            "Heteroskedasticity (H):               0.59   Skew:                             1.98\n",
            "Prob(H) (two-sided):                  0.00   Kurtosis:                        11.44\n",
            "===================================================================================\n",
            "\n",
            "Warnings:\n",
            "[1] Covariance matrix calculated using the outer product of gradients (complex-step).\n"
          ]
        }
      ]
    },
    {
      "cell_type": "markdown",
      "source": [
        "All the three periods, lags, are statistically significant to predict current volatility. In fact, all the relative p-values are zero."
      ],
      "metadata": {
        "id": "cWtB1FfBOh_A"
      }
    },
    {
      "cell_type": "markdown",
      "source": [
        "### E) ARMA PREDICTIONS"
      ],
      "metadata": {
        "id": "FWUrjCQwrmZ4"
      }
    },
    {
      "cell_type": "code",
      "source": [
        "y_pred = arma_results.predict(start=\"2016-01-31\", end=\"2019-12-31\")"
      ],
      "metadata": {
        "id": "vSKwkIA3uiI7"
      },
      "execution_count": 30,
      "outputs": []
    },
    {
      "cell_type": "code",
      "source": [
        "px.line(oil_df, x=\"Date\", y=\"Vol\", title=\"Monthly Oil Volatility (WTI)\")"
      ],
      "metadata": {
        "id": "1ohIl1kY1cid",
        "colab": {
          "base_uri": "https://localhost:8080/",
          "height": 542
        },
        "outputId": "4d4b89c1-e6c3-4458-dd8b-aad00a547913"
      },
      "execution_count": 31,
      "outputs": [
        {
          "output_type": "display_data",
          "data": {
            "text/html": [
              "<html>\n",
              "<head><meta charset=\"utf-8\" /></head>\n",
              "<body>\n",
              "    <div>            <script src=\"https://cdnjs.cloudflare.com/ajax/libs/mathjax/2.7.5/MathJax.js?config=TeX-AMS-MML_SVG\"></script><script type=\"text/javascript\">if (window.MathJax) {MathJax.Hub.Config({SVG: {font: \"STIX-Web\"}});}</script>                <script type=\"text/javascript\">window.PlotlyConfig = {MathJaxConfig: 'local'};</script>\n",
              "        <script src=\"https://cdn.plot.ly/plotly-2.8.3.min.js\"></script>                <div id=\"98b8af93-348d-4048-b3a3-ce1d3079463c\" class=\"plotly-graph-div\" style=\"height:525px; width:100%;\"></div>            <script type=\"text/javascript\">                                    window.PLOTLYENV=window.PLOTLYENV || {};                                    if (document.getElementById(\"98b8af93-348d-4048-b3a3-ce1d3079463c\")) {                    Plotly.newPlot(                        \"98b8af93-348d-4048-b3a3-ce1d3079463c\",                        [{\"hovertemplate\":\"Date=%{x}<br>Vol=%{y}<extra></extra>\",\"legendgroup\":\"\",\"line\":{\"color\":\"#636efa\",\"dash\":\"solid\"},\"marker\":{\"symbol\":\"circle\"},\"mode\":\"lines\",\"name\":\"\",\"orientation\":\"v\",\"showlegend\":false,\"x\":[\"1986-01-31T00:00:00\",\"1986-02-28T00:00:00\",\"1986-03-31T00:00:00\",\"1986-04-30T00:00:00\",\"1986-05-31T00:00:00\",\"1986-06-30T00:00:00\",\"1986-07-31T00:00:00\",\"1986-08-31T00:00:00\",\"1986-09-30T00:00:00\",\"1986-10-31T00:00:00\",\"1986-11-30T00:00:00\",\"1986-12-31T00:00:00\",\"1987-01-31T00:00:00\",\"1987-02-28T00:00:00\",\"1987-03-31T00:00:00\",\"1987-04-30T00:00:00\",\"1987-05-31T00:00:00\",\"1987-06-30T00:00:00\",\"1987-07-31T00:00:00\",\"1987-08-31T00:00:00\",\"1987-09-30T00:00:00\",\"1987-10-31T00:00:00\",\"1987-11-30T00:00:00\",\"1987-12-31T00:00:00\",\"1988-01-31T00:00:00\",\"1988-02-29T00:00:00\",\"1988-03-31T00:00:00\",\"1988-04-30T00:00:00\",\"1988-05-31T00:00:00\",\"1988-06-30T00:00:00\",\"1988-07-31T00:00:00\",\"1988-08-31T00:00:00\",\"1988-09-30T00:00:00\",\"1988-10-31T00:00:00\",\"1988-11-30T00:00:00\",\"1988-12-31T00:00:00\",\"1989-01-31T00:00:00\",\"1989-02-28T00:00:00\",\"1989-03-31T00:00:00\",\"1989-04-30T00:00:00\",\"1989-05-31T00:00:00\",\"1989-06-30T00:00:00\",\"1989-07-31T00:00:00\",\"1989-08-31T00:00:00\",\"1989-09-30T00:00:00\",\"1989-10-31T00:00:00\",\"1989-11-30T00:00:00\",\"1989-12-31T00:00:00\",\"1990-01-31T00:00:00\",\"1990-02-28T00:00:00\",\"1990-03-31T00:00:00\",\"1990-04-30T00:00:00\",\"1990-05-31T00:00:00\",\"1990-06-30T00:00:00\",\"1990-07-31T00:00:00\",\"1990-08-31T00:00:00\",\"1990-09-30T00:00:00\",\"1990-10-31T00:00:00\",\"1990-11-30T00:00:00\",\"1990-12-31T00:00:00\",\"1991-01-31T00:00:00\",\"1991-02-28T00:00:00\",\"1991-03-31T00:00:00\",\"1991-04-30T00:00:00\",\"1991-05-31T00:00:00\",\"1991-06-30T00:00:00\",\"1991-07-31T00:00:00\",\"1991-08-31T00:00:00\",\"1991-09-30T00:00:00\",\"1991-10-31T00:00:00\",\"1991-11-30T00:00:00\",\"1991-12-31T00:00:00\",\"1992-01-31T00:00:00\",\"1992-02-29T00:00:00\",\"1992-03-31T00:00:00\",\"1992-04-30T00:00:00\",\"1992-05-31T00:00:00\",\"1992-06-30T00:00:00\",\"1992-07-31T00:00:00\",\"1992-08-31T00:00:00\",\"1992-09-30T00:00:00\",\"1992-10-31T00:00:00\",\"1992-11-30T00:00:00\",\"1992-12-31T00:00:00\",\"1993-01-31T00:00:00\",\"1993-02-28T00:00:00\",\"1993-03-31T00:00:00\",\"1993-04-30T00:00:00\",\"1993-05-31T00:00:00\",\"1993-06-30T00:00:00\",\"1993-07-31T00:00:00\",\"1993-08-31T00:00:00\",\"1993-09-30T00:00:00\",\"1993-10-31T00:00:00\",\"1993-11-30T00:00:00\",\"1993-12-31T00:00:00\",\"1994-01-31T00:00:00\",\"1994-02-28T00:00:00\",\"1994-03-31T00:00:00\",\"1994-04-30T00:00:00\",\"1994-05-31T00:00:00\",\"1994-06-30T00:00:00\",\"1994-07-31T00:00:00\",\"1994-08-31T00:00:00\",\"1994-09-30T00:00:00\",\"1994-10-31T00:00:00\",\"1994-11-30T00:00:00\",\"1994-12-31T00:00:00\",\"1995-01-31T00:00:00\",\"1995-02-28T00:00:00\",\"1995-03-31T00:00:00\",\"1995-04-30T00:00:00\",\"1995-05-31T00:00:00\",\"1995-06-30T00:00:00\",\"1995-07-31T00:00:00\",\"1995-08-31T00:00:00\",\"1995-09-30T00:00:00\",\"1995-10-31T00:00:00\",\"1995-11-30T00:00:00\",\"1995-12-31T00:00:00\",\"1996-01-31T00:00:00\",\"1996-02-29T00:00:00\",\"1996-03-31T00:00:00\",\"1996-04-30T00:00:00\",\"1996-05-31T00:00:00\",\"1996-06-30T00:00:00\",\"1996-07-31T00:00:00\",\"1996-08-31T00:00:00\",\"1996-09-30T00:00:00\",\"1996-10-31T00:00:00\",\"1996-11-30T00:00:00\",\"1996-12-31T00:00:00\",\"1997-01-31T00:00:00\",\"1997-02-28T00:00:00\",\"1997-03-31T00:00:00\",\"1997-04-30T00:00:00\",\"1997-05-31T00:00:00\",\"1997-06-30T00:00:00\",\"1997-07-31T00:00:00\",\"1997-08-31T00:00:00\",\"1997-09-30T00:00:00\",\"1997-10-31T00:00:00\",\"1997-11-30T00:00:00\",\"1997-12-31T00:00:00\",\"1998-01-31T00:00:00\",\"1998-02-28T00:00:00\",\"1998-03-31T00:00:00\",\"1998-04-30T00:00:00\",\"1998-05-31T00:00:00\",\"1998-06-30T00:00:00\",\"1998-07-31T00:00:00\",\"1998-08-31T00:00:00\",\"1998-09-30T00:00:00\",\"1998-10-31T00:00:00\",\"1998-11-30T00:00:00\",\"1998-12-31T00:00:00\",\"1999-01-31T00:00:00\",\"1999-02-28T00:00:00\",\"1999-03-31T00:00:00\",\"1999-04-30T00:00:00\",\"1999-05-31T00:00:00\",\"1999-06-30T00:00:00\",\"1999-07-31T00:00:00\",\"1999-08-31T00:00:00\",\"1999-09-30T00:00:00\",\"1999-10-31T00:00:00\",\"1999-11-30T00:00:00\",\"1999-12-31T00:00:00\",\"2000-01-31T00:00:00\",\"2000-02-29T00:00:00\",\"2000-03-31T00:00:00\",\"2000-04-30T00:00:00\",\"2000-05-31T00:00:00\",\"2000-06-30T00:00:00\",\"2000-07-31T00:00:00\",\"2000-08-31T00:00:00\",\"2000-09-30T00:00:00\",\"2000-10-31T00:00:00\",\"2000-11-30T00:00:00\",\"2000-12-31T00:00:00\",\"2001-01-31T00:00:00\",\"2001-02-28T00:00:00\",\"2001-03-31T00:00:00\",\"2001-04-30T00:00:00\",\"2001-05-31T00:00:00\",\"2001-06-30T00:00:00\",\"2001-07-31T00:00:00\",\"2001-08-31T00:00:00\",\"2001-09-30T00:00:00\",\"2001-10-31T00:00:00\",\"2001-11-30T00:00:00\",\"2001-12-31T00:00:00\",\"2002-01-31T00:00:00\",\"2002-02-28T00:00:00\",\"2002-03-31T00:00:00\",\"2002-04-30T00:00:00\",\"2002-05-31T00:00:00\",\"2002-06-30T00:00:00\",\"2002-07-31T00:00:00\",\"2002-08-31T00:00:00\",\"2002-09-30T00:00:00\",\"2002-10-31T00:00:00\",\"2002-11-30T00:00:00\",\"2002-12-31T00:00:00\",\"2003-01-31T00:00:00\",\"2003-02-28T00:00:00\",\"2003-03-31T00:00:00\",\"2003-04-30T00:00:00\",\"2003-05-31T00:00:00\",\"2003-06-30T00:00:00\",\"2003-07-31T00:00:00\",\"2003-08-31T00:00:00\",\"2003-09-30T00:00:00\",\"2003-10-31T00:00:00\",\"2003-11-30T00:00:00\",\"2003-12-31T00:00:00\",\"2004-01-31T00:00:00\",\"2004-02-29T00:00:00\",\"2004-03-31T00:00:00\",\"2004-04-30T00:00:00\",\"2004-05-31T00:00:00\",\"2004-06-30T00:00:00\",\"2004-07-31T00:00:00\",\"2004-08-31T00:00:00\",\"2004-09-30T00:00:00\",\"2004-10-31T00:00:00\",\"2004-11-30T00:00:00\",\"2004-12-31T00:00:00\",\"2005-01-31T00:00:00\",\"2005-02-28T00:00:00\",\"2005-03-31T00:00:00\",\"2005-04-30T00:00:00\",\"2005-05-31T00:00:00\",\"2005-06-30T00:00:00\",\"2005-07-31T00:00:00\",\"2005-08-31T00:00:00\",\"2005-09-30T00:00:00\",\"2005-10-31T00:00:00\",\"2005-11-30T00:00:00\",\"2005-12-31T00:00:00\",\"2006-01-31T00:00:00\",\"2006-02-28T00:00:00\",\"2006-03-31T00:00:00\",\"2006-04-30T00:00:00\",\"2006-05-31T00:00:00\",\"2006-06-30T00:00:00\",\"2006-07-31T00:00:00\",\"2006-08-31T00:00:00\",\"2006-09-30T00:00:00\",\"2006-10-31T00:00:00\",\"2006-11-30T00:00:00\",\"2006-12-31T00:00:00\",\"2007-01-31T00:00:00\",\"2007-02-28T00:00:00\",\"2007-03-31T00:00:00\",\"2007-04-30T00:00:00\",\"2007-05-31T00:00:00\",\"2007-06-30T00:00:00\",\"2007-07-31T00:00:00\",\"2007-08-31T00:00:00\",\"2007-09-30T00:00:00\",\"2007-10-31T00:00:00\",\"2007-11-30T00:00:00\",\"2007-12-31T00:00:00\",\"2008-01-31T00:00:00\",\"2008-02-29T00:00:00\",\"2008-03-31T00:00:00\",\"2008-04-30T00:00:00\",\"2008-05-31T00:00:00\",\"2008-06-30T00:00:00\",\"2008-07-31T00:00:00\",\"2008-08-31T00:00:00\",\"2008-09-30T00:00:00\",\"2008-10-31T00:00:00\",\"2008-11-30T00:00:00\",\"2008-12-31T00:00:00\",\"2009-01-31T00:00:00\",\"2009-02-28T00:00:00\",\"2009-03-31T00:00:00\",\"2009-04-30T00:00:00\",\"2009-05-31T00:00:00\",\"2009-06-30T00:00:00\",\"2009-07-31T00:00:00\",\"2009-08-31T00:00:00\",\"2009-09-30T00:00:00\",\"2009-10-31T00:00:00\",\"2009-11-30T00:00:00\",\"2009-12-31T00:00:00\",\"2010-01-31T00:00:00\",\"2010-02-28T00:00:00\",\"2010-03-31T00:00:00\",\"2010-04-30T00:00:00\",\"2010-05-31T00:00:00\",\"2010-06-30T00:00:00\",\"2010-07-31T00:00:00\",\"2010-08-31T00:00:00\",\"2010-09-30T00:00:00\",\"2010-10-31T00:00:00\",\"2010-11-30T00:00:00\",\"2010-12-31T00:00:00\",\"2011-01-31T00:00:00\",\"2011-02-28T00:00:00\",\"2011-03-31T00:00:00\",\"2011-04-30T00:00:00\",\"2011-05-31T00:00:00\",\"2011-06-30T00:00:00\",\"2011-07-31T00:00:00\",\"2011-08-31T00:00:00\",\"2011-09-30T00:00:00\",\"2011-10-31T00:00:00\",\"2011-11-30T00:00:00\",\"2011-12-31T00:00:00\",\"2012-01-31T00:00:00\",\"2012-02-29T00:00:00\",\"2012-03-31T00:00:00\",\"2012-04-30T00:00:00\",\"2012-05-31T00:00:00\",\"2012-06-30T00:00:00\",\"2012-07-31T00:00:00\",\"2012-08-31T00:00:00\",\"2012-09-30T00:00:00\",\"2012-10-31T00:00:00\",\"2012-11-30T00:00:00\",\"2012-12-31T00:00:00\",\"2013-01-31T00:00:00\",\"2013-02-28T00:00:00\",\"2013-03-31T00:00:00\",\"2013-04-30T00:00:00\",\"2013-05-31T00:00:00\",\"2013-06-30T00:00:00\",\"2013-07-31T00:00:00\",\"2013-08-31T00:00:00\",\"2013-09-30T00:00:00\",\"2013-10-31T00:00:00\",\"2013-11-30T00:00:00\",\"2013-12-31T00:00:00\",\"2014-01-31T00:00:00\",\"2014-02-28T00:00:00\",\"2014-03-31T00:00:00\",\"2014-04-30T00:00:00\",\"2014-05-31T00:00:00\",\"2014-06-30T00:00:00\",\"2014-07-31T00:00:00\",\"2014-08-31T00:00:00\",\"2014-09-30T00:00:00\",\"2014-10-31T00:00:00\",\"2014-11-30T00:00:00\",\"2014-12-31T00:00:00\",\"2015-01-31T00:00:00\",\"2015-02-28T00:00:00\",\"2015-03-31T00:00:00\",\"2015-04-30T00:00:00\",\"2015-05-31T00:00:00\",\"2015-06-30T00:00:00\",\"2015-07-31T00:00:00\",\"2015-08-31T00:00:00\",\"2015-09-30T00:00:00\",\"2015-10-31T00:00:00\",\"2015-11-30T00:00:00\",\"2015-12-31T00:00:00\",\"2016-01-31T00:00:00\",\"2016-02-29T00:00:00\",\"2016-03-31T00:00:00\",\"2016-04-30T00:00:00\",\"2016-05-31T00:00:00\",\"2016-06-30T00:00:00\",\"2016-07-31T00:00:00\",\"2016-08-31T00:00:00\",\"2016-09-30T00:00:00\",\"2016-10-31T00:00:00\",\"2016-11-30T00:00:00\",\"2016-12-31T00:00:00\",\"2017-01-31T00:00:00\",\"2017-02-28T00:00:00\",\"2017-03-31T00:00:00\",\"2017-04-30T00:00:00\",\"2017-05-31T00:00:00\",\"2017-06-30T00:00:00\",\"2017-07-31T00:00:00\",\"2017-08-31T00:00:00\",\"2017-09-30T00:00:00\",\"2017-10-31T00:00:00\",\"2017-11-30T00:00:00\",\"2017-12-31T00:00:00\",\"2018-01-31T00:00:00\",\"2018-02-28T00:00:00\",\"2018-03-31T00:00:00\",\"2018-04-30T00:00:00\",\"2018-05-31T00:00:00\",\"2018-06-30T00:00:00\",\"2018-07-31T00:00:00\",\"2018-08-31T00:00:00\",\"2018-09-30T00:00:00\",\"2018-10-31T00:00:00\",\"2018-11-30T00:00:00\",\"2018-12-31T00:00:00\",\"2019-01-31T00:00:00\",\"2019-02-28T00:00:00\",\"2019-03-31T00:00:00\",\"2019-04-30T00:00:00\",\"2019-05-31T00:00:00\",\"2019-06-30T00:00:00\",\"2019-07-31T00:00:00\",\"2019-08-31T00:00:00\",\"2019-09-30T00:00:00\",\"2019-10-31T00:00:00\",\"2019-11-30T00:00:00\",\"2019-12-31T00:00:00\"],\"xaxis\":\"x\",\"y\":[0.161229926091679,0.24025813313573,0.310706339120666,0.268445336781729,0.194399718983847,0.153223974068239,0.220813316192425,0.226872813327855,0.121050777975007,0.145841005005858,0.0629395153170317,0.0715748813909563,0.0453885856454568,0.0806746591437293,0.0709731962231758,0.041463246146284,0.0398296991650965,0.0401915240872226,0.0741715297336392,0.0729881153590783,0.0516573032839688,0.0524861849360207,0.0640930794284701,0.13994298901361,0.0992684183109528,0.0687610278614627,0.0915402224666224,0.0884109149484553,0.0712990120084218,0.0694111388897546,0.133401964509181,0.066863758688522,0.123966116159332,0.166135845280864,0.15058826949568,0.127343323598821,0.101873049684727,0.071467996195784,0.103461682784149,0.193270333358888,0.136197812957831,0.109841655076157,0.0966340772716394,0.0596527654410538,0.049841034893965,0.0492277934483847,0.062244380331997,0.0757570160080518,0.167671812017407,0.0752737523213195,0.0641687947408159,0.140871466152727,0.167011462687009,0.135537477739807,0.112117953237438,0.309522595212807,0.150108615416827,0.299181715675064,0.232890893266609,0.127197806837118,0.450749381237874,0.169317130895495,0.123719762986531,0.0777380899002192,0.0591390462059384,0.052608989601291,0.0592238684443178,0.0821130936193097,0.0399756691098772,0.0519518986308604,0.077589591854067,0.0832619853403484,0.0883628209912203,0.0909412190878271,0.0540521151938228,0.0578580351900825,0.0699834824913453,0.0450837974496017,0.0351227966101958,0.0532193726023442,0.0376242561067146,0.0407649153749797,0.0540187231935787,0.0575114095848306,0.0867694570195237,0.0577007361621235,0.0609524645570105,0.0410161056559424,0.045108238491514,0.0509091989287555,0.0879974907140136,0.0636068732764683,0.0880687539827598,0.0543482344374614,0.0862378806865803,0.0826829201956331,0.100345556957749,0.10301449704039,0.101277366378646,0.108708350431302,0.0825889154709057,0.0964307131252995,0.0725319196193257,0.0963828245587543,0.0653842771487262,0.06013330239272,0.0649635209065418,0.0633470503276955,0.0759485401884722,0.0388671701030248,0.0572602251658546,0.0639804445135282,0.0628837993851827,0.0543449868840131,0.0430791359300005,0.124596226505119,0.0734421660207631,0.0503750667722412,0.0508750817589714,0.0571863937855434,0.101141838451003,0.159052472441733,0.147564009894056,0.154340630320039,0.122673491082122,0.0936256318953556,0.0902466629531312,0.0820188975726059,0.100434056942465,0.0972609131037327,0.131359731834591,0.115180475266017,0.0798207142669017,0.0766491132024766,0.104116147651919,0.0800225707870049,0.094073400503515,0.0878675564965316,0.0931327935535782,0.06086817485601,0.0498475274201434,0.111680742753481,0.0733527159350402,0.0570980013810174,0.117732253161649,0.0911278316270871,0.188121607289511,0.235684413743772,0.14723864238912,0.237058776429517,0.115769639559423,0.10656330718666,0.094487649914789,0.113843365458171,0.14166482354041,0.174982203414016,0.13134213419546,0.10904540859231,0.0943332941548358,0.0920554329774929,0.0999291078533411,0.1093239789199,0.0849318211926951,0.0681903629886452,0.0668769522147485,0.141458952925876,0.127682345036869,0.0910003903987658,0.136974863436117,0.0750537977075716,0.141759101491445,0.142798099856286,0.113510552830209,0.142225737492018,0.125190169658908,0.114943317525798,0.152744758882489,0.144262902325735,0.095894917177701,0.186308214949618,0.117952292337764,0.104411438796414,0.091712522368043,0.149808165893027,0.0840055251234647,0.090697990130921,0.0903412423694812,0.155970155644231,0.20162681214399,0.10219974477715,0.205131711237122,0.169589465136923,0.131304129253997,0.119835422832549,0.0588517854704022,0.126621503520722,0.11394919635255,0.0731029996148292,0.0749204076716292,0.0813145046298313,0.0908172131747974,0.0716125986882685,0.0910988335538077,0.0989268747136561,0.123209112552414,0.0973315401283286,0.276632683321072,0.156372477213358,0.0976063708106236,0.142915127424365,0.068046727242782,0.0901422597188957,0.101492069109468,0.0840799623605811,0.113917343965824,0.0935147543791317,0.0915655585081667,0.0984472097974707,0.0921451784777967,0.0876253071481288,0.113329298195804,0.125519386901167,0.0826553439080738,0.0987607442175797,0.0915591862786853,0.104809974844617,0.106420039987897,0.151753464534694,0.102649829834389,0.0874018229714044,0.15641078625441,0.123458676697705,0.0910499123919641,0.101080627952418,0.0834074037730719,0.088695891811977,0.111912336244044,0.0979056375118578,0.0750055687996917,0.0768161556024033,0.0750444992074927,0.110081790884306,0.0921327236172248,0.107700116930569,0.0858006075757773,0.0702111662628131,0.0623771873287969,0.0685585925747167,0.0852138890118397,0.0938670387522518,0.0989219721620981,0.0499011721202621,0.13621039868953,0.0856195815225746,0.0901998777819417,0.085680674374672,0.0713722975029819,0.0633781139069133,0.0591216994909357,0.078667296478214,0.0628319262940857,0.0960500957648208,0.0991475651622773,0.085486262562426,0.076135096797554,0.093361354268787,0.123704619497884,0.0768672158292782,0.0851021309727343,0.13452966850152,0.117279579760905,0.107543736384088,0.288066555193735,0.203126626070458,0.263680990850393,0.35020300679426,0.257336728492476,0.252406909761227,0.239120248429667,0.171489299439068,0.10508777031399,0.107868050442205,0.126984837035768,0.105744602258619,0.122272412252763,0.0876237023945235,0.0869836645578042,0.0756859620646922,0.0619944386123169,0.104623578240155,0.0632852326707097,0.066065240707828,0.157461101698392,0.0919457467353259,0.0800842127018515,0.0827143575899301,0.0744504970298609,0.08376435999028,0.0782151969841478,0.0469700508192128,0.0858640522971315,0.111337493299251,0.0808847091891453,0.0718360225038566,0.132565028551139,0.0932603338313024,0.0712134481295301,0.13364873294751,0.122105022730751,0.117578471774192,0.0724177064369871,0.0840211307739558,0.0629939609597921,0.0559339898093357,0.0640747979094309,0.0557948588627669,0.0619690475496695,0.131987910008886,0.0968944246340478,0.0624607895498841,0.0604942006027395,0.0797037300830967,0.0853981346000782,0.0539421356592201,0.0333970217305999,0.0417835099716393,0.0381923963259682,0.0697285228890258,0.0601593361053494,0.0544844365267121,0.0580211898054187,0.0641819752625539,0.0577734458901672,0.0522179397004387,0.0485223418849546,0.0407814963504639,0.0563348244061993,0.0401040706309544,0.0543764633847301,0.0485405566037906,0.0348923096210815,0.0331146876492957,0.0749985791980193,0.0604791896615233,0.085711238315476,0.0735935524769527,0.129508095986991,0.122902450523199,0.166042735818881,0.194280491982026,0.133387262684449,0.131401234227781,0.0959944855918375,0.0795774807908585,0.105540693334256,0.192661286223323,0.146791199088788,0.118524993857108,0.100102296528558,0.130414128038341,0.23213406792709,0.232146247714448,0.155763931047088,0.165862991383528,0.0797381599667063,0.121882819407423,0.106412025716234,0.114342670600071,0.125898536425969,0.0819743724603256,0.134690419332501,0.0774135362729492,0.0778444249141658,0.0509183531577026,0.0845839402880779,0.057122042362709,0.0945353310141067,0.0824775610797201,0.0682998226875462,0.0801711701774721,0.0657143279584653,0.0657920916437912,0.0589515298623201,0.0571020464530245,0.0444094657070251,0.0727605228585041,0.0728008255103121,0.0707773435648089,0.0788426399850867,0.124597206266766,0.107948046728416,0.0637928190041524,0.0684838530467209,0.079796491052001,0.117151592034941,0.138135037948446,0.0949651832834564,0.0717563784926069,0.0613286236068543,0.0616784466432576,0.0982590627389177,0.109644324859518,0.0915770362166647,0.142155746457794,0.191778483099138,0.0648116841971191,0.0776521623427168,0.0660250548451959],\"yaxis\":\"y\",\"type\":\"scatter\"}],                        {\"template\":{\"data\":{\"bar\":[{\"error_x\":{\"color\":\"#2a3f5f\"},\"error_y\":{\"color\":\"#2a3f5f\"},\"marker\":{\"line\":{\"color\":\"#E5ECF6\",\"width\":0.5},\"pattern\":{\"fillmode\":\"overlay\",\"size\":10,\"solidity\":0.2}},\"type\":\"bar\"}],\"barpolar\":[{\"marker\":{\"line\":{\"color\":\"#E5ECF6\",\"width\":0.5},\"pattern\":{\"fillmode\":\"overlay\",\"size\":10,\"solidity\":0.2}},\"type\":\"barpolar\"}],\"carpet\":[{\"aaxis\":{\"endlinecolor\":\"#2a3f5f\",\"gridcolor\":\"white\",\"linecolor\":\"white\",\"minorgridcolor\":\"white\",\"startlinecolor\":\"#2a3f5f\"},\"baxis\":{\"endlinecolor\":\"#2a3f5f\",\"gridcolor\":\"white\",\"linecolor\":\"white\",\"minorgridcolor\":\"white\",\"startlinecolor\":\"#2a3f5f\"},\"type\":\"carpet\"}],\"choropleth\":[{\"colorbar\":{\"outlinewidth\":0,\"ticks\":\"\"},\"type\":\"choropleth\"}],\"contour\":[{\"colorbar\":{\"outlinewidth\":0,\"ticks\":\"\"},\"colorscale\":[[0.0,\"#0d0887\"],[0.1111111111111111,\"#46039f\"],[0.2222222222222222,\"#7201a8\"],[0.3333333333333333,\"#9c179e\"],[0.4444444444444444,\"#bd3786\"],[0.5555555555555556,\"#d8576b\"],[0.6666666666666666,\"#ed7953\"],[0.7777777777777778,\"#fb9f3a\"],[0.8888888888888888,\"#fdca26\"],[1.0,\"#f0f921\"]],\"type\":\"contour\"}],\"contourcarpet\":[{\"colorbar\":{\"outlinewidth\":0,\"ticks\":\"\"},\"type\":\"contourcarpet\"}],\"heatmap\":[{\"colorbar\":{\"outlinewidth\":0,\"ticks\":\"\"},\"colorscale\":[[0.0,\"#0d0887\"],[0.1111111111111111,\"#46039f\"],[0.2222222222222222,\"#7201a8\"],[0.3333333333333333,\"#9c179e\"],[0.4444444444444444,\"#bd3786\"],[0.5555555555555556,\"#d8576b\"],[0.6666666666666666,\"#ed7953\"],[0.7777777777777778,\"#fb9f3a\"],[0.8888888888888888,\"#fdca26\"],[1.0,\"#f0f921\"]],\"type\":\"heatmap\"}],\"heatmapgl\":[{\"colorbar\":{\"outlinewidth\":0,\"ticks\":\"\"},\"colorscale\":[[0.0,\"#0d0887\"],[0.1111111111111111,\"#46039f\"],[0.2222222222222222,\"#7201a8\"],[0.3333333333333333,\"#9c179e\"],[0.4444444444444444,\"#bd3786\"],[0.5555555555555556,\"#d8576b\"],[0.6666666666666666,\"#ed7953\"],[0.7777777777777778,\"#fb9f3a\"],[0.8888888888888888,\"#fdca26\"],[1.0,\"#f0f921\"]],\"type\":\"heatmapgl\"}],\"histogram\":[{\"marker\":{\"pattern\":{\"fillmode\":\"overlay\",\"size\":10,\"solidity\":0.2}},\"type\":\"histogram\"}],\"histogram2d\":[{\"colorbar\":{\"outlinewidth\":0,\"ticks\":\"\"},\"colorscale\":[[0.0,\"#0d0887\"],[0.1111111111111111,\"#46039f\"],[0.2222222222222222,\"#7201a8\"],[0.3333333333333333,\"#9c179e\"],[0.4444444444444444,\"#bd3786\"],[0.5555555555555556,\"#d8576b\"],[0.6666666666666666,\"#ed7953\"],[0.7777777777777778,\"#fb9f3a\"],[0.8888888888888888,\"#fdca26\"],[1.0,\"#f0f921\"]],\"type\":\"histogram2d\"}],\"histogram2dcontour\":[{\"colorbar\":{\"outlinewidth\":0,\"ticks\":\"\"},\"colorscale\":[[0.0,\"#0d0887\"],[0.1111111111111111,\"#46039f\"],[0.2222222222222222,\"#7201a8\"],[0.3333333333333333,\"#9c179e\"],[0.4444444444444444,\"#bd3786\"],[0.5555555555555556,\"#d8576b\"],[0.6666666666666666,\"#ed7953\"],[0.7777777777777778,\"#fb9f3a\"],[0.8888888888888888,\"#fdca26\"],[1.0,\"#f0f921\"]],\"type\":\"histogram2dcontour\"}],\"mesh3d\":[{\"colorbar\":{\"outlinewidth\":0,\"ticks\":\"\"},\"type\":\"mesh3d\"}],\"parcoords\":[{\"line\":{\"colorbar\":{\"outlinewidth\":0,\"ticks\":\"\"}},\"type\":\"parcoords\"}],\"pie\":[{\"automargin\":true,\"type\":\"pie\"}],\"scatter\":[{\"marker\":{\"colorbar\":{\"outlinewidth\":0,\"ticks\":\"\"}},\"type\":\"scatter\"}],\"scatter3d\":[{\"line\":{\"colorbar\":{\"outlinewidth\":0,\"ticks\":\"\"}},\"marker\":{\"colorbar\":{\"outlinewidth\":0,\"ticks\":\"\"}},\"type\":\"scatter3d\"}],\"scattercarpet\":[{\"marker\":{\"colorbar\":{\"outlinewidth\":0,\"ticks\":\"\"}},\"type\":\"scattercarpet\"}],\"scattergeo\":[{\"marker\":{\"colorbar\":{\"outlinewidth\":0,\"ticks\":\"\"}},\"type\":\"scattergeo\"}],\"scattergl\":[{\"marker\":{\"colorbar\":{\"outlinewidth\":0,\"ticks\":\"\"}},\"type\":\"scattergl\"}],\"scattermapbox\":[{\"marker\":{\"colorbar\":{\"outlinewidth\":0,\"ticks\":\"\"}},\"type\":\"scattermapbox\"}],\"scatterpolar\":[{\"marker\":{\"colorbar\":{\"outlinewidth\":0,\"ticks\":\"\"}},\"type\":\"scatterpolar\"}],\"scatterpolargl\":[{\"marker\":{\"colorbar\":{\"outlinewidth\":0,\"ticks\":\"\"}},\"type\":\"scatterpolargl\"}],\"scatterternary\":[{\"marker\":{\"colorbar\":{\"outlinewidth\":0,\"ticks\":\"\"}},\"type\":\"scatterternary\"}],\"surface\":[{\"colorbar\":{\"outlinewidth\":0,\"ticks\":\"\"},\"colorscale\":[[0.0,\"#0d0887\"],[0.1111111111111111,\"#46039f\"],[0.2222222222222222,\"#7201a8\"],[0.3333333333333333,\"#9c179e\"],[0.4444444444444444,\"#bd3786\"],[0.5555555555555556,\"#d8576b\"],[0.6666666666666666,\"#ed7953\"],[0.7777777777777778,\"#fb9f3a\"],[0.8888888888888888,\"#fdca26\"],[1.0,\"#f0f921\"]],\"type\":\"surface\"}],\"table\":[{\"cells\":{\"fill\":{\"color\":\"#EBF0F8\"},\"line\":{\"color\":\"white\"}},\"header\":{\"fill\":{\"color\":\"#C8D4E3\"},\"line\":{\"color\":\"white\"}},\"type\":\"table\"}]},\"layout\":{\"annotationdefaults\":{\"arrowcolor\":\"#2a3f5f\",\"arrowhead\":0,\"arrowwidth\":1},\"autotypenumbers\":\"strict\",\"coloraxis\":{\"colorbar\":{\"outlinewidth\":0,\"ticks\":\"\"}},\"colorscale\":{\"diverging\":[[0,\"#8e0152\"],[0.1,\"#c51b7d\"],[0.2,\"#de77ae\"],[0.3,\"#f1b6da\"],[0.4,\"#fde0ef\"],[0.5,\"#f7f7f7\"],[0.6,\"#e6f5d0\"],[0.7,\"#b8e186\"],[0.8,\"#7fbc41\"],[0.9,\"#4d9221\"],[1,\"#276419\"]],\"sequential\":[[0.0,\"#0d0887\"],[0.1111111111111111,\"#46039f\"],[0.2222222222222222,\"#7201a8\"],[0.3333333333333333,\"#9c179e\"],[0.4444444444444444,\"#bd3786\"],[0.5555555555555556,\"#d8576b\"],[0.6666666666666666,\"#ed7953\"],[0.7777777777777778,\"#fb9f3a\"],[0.8888888888888888,\"#fdca26\"],[1.0,\"#f0f921\"]],\"sequentialminus\":[[0.0,\"#0d0887\"],[0.1111111111111111,\"#46039f\"],[0.2222222222222222,\"#7201a8\"],[0.3333333333333333,\"#9c179e\"],[0.4444444444444444,\"#bd3786\"],[0.5555555555555556,\"#d8576b\"],[0.6666666666666666,\"#ed7953\"],[0.7777777777777778,\"#fb9f3a\"],[0.8888888888888888,\"#fdca26\"],[1.0,\"#f0f921\"]]},\"colorway\":[\"#636efa\",\"#EF553B\",\"#00cc96\",\"#ab63fa\",\"#FFA15A\",\"#19d3f3\",\"#FF6692\",\"#B6E880\",\"#FF97FF\",\"#FECB52\"],\"font\":{\"color\":\"#2a3f5f\"},\"geo\":{\"bgcolor\":\"white\",\"lakecolor\":\"white\",\"landcolor\":\"#E5ECF6\",\"showlakes\":true,\"showland\":true,\"subunitcolor\":\"white\"},\"hoverlabel\":{\"align\":\"left\"},\"hovermode\":\"closest\",\"mapbox\":{\"style\":\"light\"},\"paper_bgcolor\":\"white\",\"plot_bgcolor\":\"#E5ECF6\",\"polar\":{\"angularaxis\":{\"gridcolor\":\"white\",\"linecolor\":\"white\",\"ticks\":\"\"},\"bgcolor\":\"#E5ECF6\",\"radialaxis\":{\"gridcolor\":\"white\",\"linecolor\":\"white\",\"ticks\":\"\"}},\"scene\":{\"xaxis\":{\"backgroundcolor\":\"#E5ECF6\",\"gridcolor\":\"white\",\"gridwidth\":2,\"linecolor\":\"white\",\"showbackground\":true,\"ticks\":\"\",\"zerolinecolor\":\"white\"},\"yaxis\":{\"backgroundcolor\":\"#E5ECF6\",\"gridcolor\":\"white\",\"gridwidth\":2,\"linecolor\":\"white\",\"showbackground\":true,\"ticks\":\"\",\"zerolinecolor\":\"white\"},\"zaxis\":{\"backgroundcolor\":\"#E5ECF6\",\"gridcolor\":\"white\",\"gridwidth\":2,\"linecolor\":\"white\",\"showbackground\":true,\"ticks\":\"\",\"zerolinecolor\":\"white\"}},\"shapedefaults\":{\"line\":{\"color\":\"#2a3f5f\"}},\"ternary\":{\"aaxis\":{\"gridcolor\":\"white\",\"linecolor\":\"white\",\"ticks\":\"\"},\"baxis\":{\"gridcolor\":\"white\",\"linecolor\":\"white\",\"ticks\":\"\"},\"bgcolor\":\"#E5ECF6\",\"caxis\":{\"gridcolor\":\"white\",\"linecolor\":\"white\",\"ticks\":\"\"}},\"title\":{\"x\":0.05},\"xaxis\":{\"automargin\":true,\"gridcolor\":\"white\",\"linecolor\":\"white\",\"ticks\":\"\",\"title\":{\"standoff\":15},\"zerolinecolor\":\"white\",\"zerolinewidth\":2},\"yaxis\":{\"automargin\":true,\"gridcolor\":\"white\",\"linecolor\":\"white\",\"ticks\":\"\",\"title\":{\"standoff\":15},\"zerolinecolor\":\"white\",\"zerolinewidth\":2}}},\"xaxis\":{\"anchor\":\"y\",\"domain\":[0.0,1.0],\"title\":{\"text\":\"Date\"}},\"yaxis\":{\"anchor\":\"x\",\"domain\":[0.0,1.0],\"title\":{\"text\":\"Vol\"}},\"legend\":{\"tracegroupgap\":0},\"title\":{\"text\":\"Monthly Oil Volatility (WTI)\"}},                        {\"responsive\": true}                    ).then(function(){\n",
              "                            \n",
              "var gd = document.getElementById('98b8af93-348d-4048-b3a3-ce1d3079463c');\n",
              "var x = new MutationObserver(function (mutations, observer) {{\n",
              "        var display = window.getComputedStyle(gd).display;\n",
              "        if (!display || display === 'none') {{\n",
              "            console.log([gd, 'removed!']);\n",
              "            Plotly.purge(gd);\n",
              "            observer.disconnect();\n",
              "        }}\n",
              "}});\n",
              "\n",
              "// Listen for the removal of the full notebook cells\n",
              "var notebookContainer = gd.closest('#notebook-container');\n",
              "if (notebookContainer) {{\n",
              "    x.observe(notebookContainer, {childList: true});\n",
              "}}\n",
              "\n",
              "// Listen for the clearing of the current output cell\n",
              "var outputEl = gd.closest('.output');\n",
              "if (outputEl) {{\n",
              "    x.observe(outputEl, {childList: true});\n",
              "}}\n",
              "\n",
              "                        })                };                            </script>        </div>\n",
              "</body>\n",
              "</html>"
            ]
          },
          "metadata": {}
        }
      ]
    },
    {
      "cell_type": "code",
      "source": [
        "plt.plot(oil_df['Vol'])\n",
        "plt.title('Monthly Oil Volatility (WTI)')\n",
        "plt.xlabel('Date')\n",
        "plt.ylabel('Volatility')\n",
        "plt.show()"
      ],
      "metadata": {
        "id": "f2PVvIC7uhiK",
        "colab": {
          "base_uri": "https://localhost:8080/",
          "height": 295
        },
        "outputId": "35c17f9a-6148-4088-ed81-52f7d175319d"
      },
      "execution_count": 33,
      "outputs": [
        {
          "output_type": "display_data",
          "data": {
            "text/plain": [
              "<Figure size 432x288 with 1 Axes>"
            ],
            "image/png": "[encoded data removed]"
          },
          "metadata": {
            "needs_background": "light"
          }
        }
      ]
    },
    {
      "cell_type": "code",
      "source": [
        "start_date = dt.datetime(2016,1,31)\n",
        "end_date = dt.datetime(2019,12,31)\n",
        "\n",
        "reduced_dates_df = oil_df[oil_df['Date'].dt.date.between(start_date.date(),end_date.date())]\n",
        "\n",
        "plt.plot(y_pred)\n",
        "plt.plot(reduced_dates_df['Vol'])\n",
        "plt.title('Monthly Volatility: Predicted vs Actual')\n",
        "plt.xlabel('Date')\n",
        "plt.ylabel('Volatility')\n",
        "plt.legend(['Predicted', 'Actual'])\n",
        "plt.show()"
      ],
      "metadata": {
        "id": "GtVix149roN2",
        "colab": {
          "base_uri": "https://localhost:8080/",
          "height": 295
        },
        "outputId": "4c32fa3f-310f-4bbd-84b6-74977c30fc92"
      },
      "execution_count": 50,
      "outputs": [
        {
          "output_type": "display_data",
          "data": {
            "text/plain": [
              "<Figure size 432x288 with 1 Axes>"
            ],
            "image/png": "[encoded data removed]"
          },
          "metadata": {
            "needs_background": "light"
          }
        }
      ]
    },
    {
      "cell_type": "markdown",
      "source": [
        "### F) OUT OF SAMPLE / UNSEEN"
      ],
      "metadata": {
        "id": "D4MBsUXN3epF"
      }
    },
    {
      "cell_type": "markdown",
      "source": [
        "**Answer**: \n",
        "\n",
        "To test whether a model suffers of 'overfitting', the problem of a model that is too good with the provided set of data but has poor results when a new dataset comes in, we need break the dataset in two partitions. The training partition is used to build the model, then we use the test partition to assess the fitness of the model with new data. \n",
        "...\n",
        "\n",
        "\n",
        "\n"
      ],
      "metadata": {
        "id": "66NpQ01H4Bg5"
      }
    }
  ]
}